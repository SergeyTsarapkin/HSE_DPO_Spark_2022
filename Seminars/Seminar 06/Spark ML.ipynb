{
 "cells": [
  {
   "attachments": {},
   "cell_type": "markdown",
   "metadata": {},
   "source": [
    "# `Промышленное машинное обучение на Spark`\n",
    "## `Занятие 06: SparkML`"
   ]
  },
  {
   "cell_type": "markdown",
   "metadata": {},
   "source": [
    "### `Находнов Максим (nakhodnov17@gmail.com)`\n",
    "#### `Москва, 2023`"
   ]
  },
  {
   "attachments": {},
   "cell_type": "markdown",
   "metadata": {},
   "source": [
    "О чём можно узнать из этого ноутбука:\n",
    "\n",
    "* Гистограммы в Spark\n",
    "* Реализация ML Pipeline в Spark:\n",
    "    1. Визуализация\n",
    "    2. Предобработка\n",
    "    3. Обучение модели\n",
    "    4. Оценка качества"
   ]
  },
  {
   "cell_type": "code",
   "execution_count": 1,
   "metadata": {
    "ExecuteTime": {
     "end_time": "2023-02-05T17:47:02.362387Z",
     "start_time": "2023-02-05T17:46:59.647723Z"
    }
   },
   "outputs": [
    {
     "name": "stdout",
     "output_type": "stream",
     "text": [
      "Requirement already satisfied: pyspark in /usr/local/lib/python3.10/site-packages (3.3.1)\n",
      "Requirement already satisfied: pyarrow in /usr/local/lib/python3.10/site-packages (11.0.0)\n",
      "Requirement already satisfied: py4j==0.10.9.5 in /usr/local/lib/python3.10/site-packages (from pyspark) (0.10.9.5)\n",
      "Requirement already satisfied: numpy>=1.16.6 in /usr/local/lib/python3.10/site-packages (from pyarrow) (1.23.4)\n",
      "\n",
      "\u001b[1m[\u001b[0m\u001b[34;49mnotice\u001b[0m\u001b[1;39;49m]\u001b[0m\u001b[39;49m A new release of pip available: \u001b[0m\u001b[31;49m22.3.1\u001b[0m\u001b[39;49m -> \u001b[0m\u001b[32;49m23.0.1\u001b[0m\n",
      "\u001b[1m[\u001b[0m\u001b[34;49mnotice\u001b[0m\u001b[1;39;49m]\u001b[0m\u001b[39;49m To update, run: \u001b[0m\u001b[32;49mpython3.10 -m pip install --upgrade pip\u001b[0m\n"
     ]
    }
   ],
   "source": [
    "! pip3 install pyspark pyarrow"
   ]
  },
  {
   "cell_type": "code",
   "execution_count": 2,
   "metadata": {
    "ExecuteTime": {
     "end_time": "2023-02-05T17:47:13.832913Z",
     "start_time": "2023-02-05T17:47:04.417093Z"
    }
   },
   "outputs": [],
   "source": [
    "import numpy as np\n",
    "\n",
    "import matplotlib.pyplot as plt\n",
    "from IPython.display import display\n",
    "\n",
    "import matplotlib_inline\n",
    "\n",
    "matplotlib_inline.backend_inline.set_matplotlib_formats('pdf', 'svg')"
   ]
  },
  {
   "cell_type": "code",
   "execution_count": 3,
   "metadata": {},
   "outputs": [
    {
     "name": "stderr",
     "output_type": "stream",
     "text": [
      "Setting default log level to \"WARN\".\n",
      "To adjust logging level use sc.setLogLevel(newLevel). For SparkR, use setLogLevel(newLevel).\n"
     ]
    },
    {
     "name": "stdout",
     "output_type": "stream",
     "text": [
      "23/02/21 16:40:43 WARN NativeCodeLoader: Unable to load native-hadoop library for your platform... using builtin-java classes where applicable\n"
     ]
    }
   ],
   "source": [
    "import pyspark.sql.functions as F\n",
    "from pyspark.sql import SparkSession\n",
    "\n",
    "from pyspark import SparkConf, SparkContext\n",
    "\n",
    "conf = (\n",
    "    SparkConf()\n",
    "        .set('spark.ui.port', '4050')\n",
    "        .set('spark.driver.memory', '15g')\n",
    "        .setMaster('local[*]')\n",
    ")\n",
    "sc = SparkContext(conf=conf)\n",
    "spark = SparkSession(sc)"
   ]
  },
  {
   "attachments": {},
   "cell_type": "markdown",
   "metadata": {},
   "source": [
    "### `План анализа данных`"
   ]
  },
  {
   "attachments": {},
   "cell_type": "markdown",
   "metadata": {},
   "source": [
    "1. Загрузить данные для обучения\n",
    "2. Провизуализировать данные и найти инсайты\n",
    "3. Обработать данные перед обучением модели\n",
    "4. Обучить модель на обучающей выборке\n",
    "5. Провалидировать модель на тестовой выборке"
   ]
  },
  {
   "attachments": {},
   "cell_type": "markdown",
   "metadata": {},
   "source": [
    "#### `Загрузка данных`"
   ]
  },
  {
   "cell_type": "code",
   "execution_count": 4,
   "metadata": {},
   "outputs": [
    {
     "name": "stdout",
     "output_type": "stream",
     "text": [
      "Downloading default-of-credit-card-clients-dataset.zip to /Users/nakhodnov/HSE_DPO_Spark_2022/Seminars/Seminar 06\n",
      "100%|██████████████████████████████████████| 0.98M/0.98M [00:00<00:00, 1.66MB/s]\n",
      "100%|██████████████████████████████████████| 0.98M/0.98M [00:00<00:00, 1.66MB/s]\n",
      "Archive:  default-of-credit-card-clients-dataset.zip\n",
      "  inflating: ./default-of-credit-card-clients-dataset/UCI_Credit_Card.csv  \n"
     ]
    }
   ],
   "source": [
    "path = \"./default-of-credit-card-clients-dataset\"\n",
    "! kaggle datasets download -d uciml/default-of-credit-card-clients-dataset\n",
    "! unzip default-of-credit-card-clients-dataset.zip  -d $path\n",
    "! rm -rf default-of-credit-card-clients-dataset.zip"
   ]
  },
  {
   "cell_type": "code",
   "execution_count": 5,
   "metadata": {},
   "outputs": [],
   "source": [
    "# Зададим пути к файлам из датасета\n",
    "data_file = f\"{path}/UCI_Credit_Card.csv\"\n",
    "\n",
    "file_type = \"csv\"\n",
    "infer_schema = \"true\"\n",
    "first_row_is_header = \"true\"\n",
    "delimiter = \",\"\n",
    "\n",
    "data = (\n",
    "    spark.read.format(file_type)\n",
    "      .option(\"inferSchema\", infer_schema)\n",
    "      .option(\"header\", first_row_is_header)\n",
    "      .option(\"sep\", delimiter)\n",
    "      .load(data_file)\n",
    ")"
   ]
  },
  {
   "attachments": {},
   "cell_type": "markdown",
   "metadata": {},
   "source": [
    "#### `EDA. Визуализация` "
   ]
  },
  {
   "cell_type": "code",
   "execution_count": 6,
   "metadata": {},
   "outputs": [
    {
     "data": {
      "text/html": [
       "<div>\n",
       "<style scoped>\n",
       "    .dataframe tbody tr th:only-of-type {\n",
       "        vertical-align: middle;\n",
       "    }\n",
       "\n",
       "    .dataframe tbody tr th {\n",
       "        vertical-align: top;\n",
       "    }\n",
       "\n",
       "    .dataframe thead th {\n",
       "        text-align: right;\n",
       "    }\n",
       "</style>\n",
       "<table border=\"1\" class=\"dataframe\">\n",
       "  <thead>\n",
       "    <tr style=\"text-align: right;\">\n",
       "      <th></th>\n",
       "      <th>ID</th>\n",
       "      <th>LIMIT_BAL</th>\n",
       "      <th>SEX</th>\n",
       "      <th>EDUCATION</th>\n",
       "      <th>MARRIAGE</th>\n",
       "      <th>AGE</th>\n",
       "      <th>PAY_0</th>\n",
       "      <th>PAY_2</th>\n",
       "      <th>PAY_3</th>\n",
       "      <th>PAY_4</th>\n",
       "      <th>...</th>\n",
       "      <th>BILL_AMT4</th>\n",
       "      <th>BILL_AMT5</th>\n",
       "      <th>BILL_AMT6</th>\n",
       "      <th>PAY_AMT1</th>\n",
       "      <th>PAY_AMT2</th>\n",
       "      <th>PAY_AMT3</th>\n",
       "      <th>PAY_AMT4</th>\n",
       "      <th>PAY_AMT5</th>\n",
       "      <th>PAY_AMT6</th>\n",
       "      <th>IS_DEFAULT</th>\n",
       "    </tr>\n",
       "  </thead>\n",
       "  <tbody>\n",
       "    <tr>\n",
       "      <th>0</th>\n",
       "      <td>1</td>\n",
       "      <td>20000.0</td>\n",
       "      <td>2</td>\n",
       "      <td>2</td>\n",
       "      <td>1</td>\n",
       "      <td>24</td>\n",
       "      <td>2</td>\n",
       "      <td>2</td>\n",
       "      <td>-1</td>\n",
       "      <td>-1</td>\n",
       "      <td>...</td>\n",
       "      <td>0.0</td>\n",
       "      <td>0.0</td>\n",
       "      <td>0.0</td>\n",
       "      <td>0.0</td>\n",
       "      <td>689.0</td>\n",
       "      <td>0.0</td>\n",
       "      <td>0.0</td>\n",
       "      <td>0.0</td>\n",
       "      <td>0.0</td>\n",
       "      <td>1</td>\n",
       "    </tr>\n",
       "    <tr>\n",
       "      <th>1</th>\n",
       "      <td>2</td>\n",
       "      <td>120000.0</td>\n",
       "      <td>2</td>\n",
       "      <td>2</td>\n",
       "      <td>2</td>\n",
       "      <td>26</td>\n",
       "      <td>-1</td>\n",
       "      <td>2</td>\n",
       "      <td>0</td>\n",
       "      <td>0</td>\n",
       "      <td>...</td>\n",
       "      <td>3272.0</td>\n",
       "      <td>3455.0</td>\n",
       "      <td>3261.0</td>\n",
       "      <td>0.0</td>\n",
       "      <td>1000.0</td>\n",
       "      <td>1000.0</td>\n",
       "      <td>1000.0</td>\n",
       "      <td>0.0</td>\n",
       "      <td>2000.0</td>\n",
       "      <td>1</td>\n",
       "    </tr>\n",
       "    <tr>\n",
       "      <th>2</th>\n",
       "      <td>3</td>\n",
       "      <td>90000.0</td>\n",
       "      <td>2</td>\n",
       "      <td>2</td>\n",
       "      <td>2</td>\n",
       "      <td>34</td>\n",
       "      <td>0</td>\n",
       "      <td>0</td>\n",
       "      <td>0</td>\n",
       "      <td>0</td>\n",
       "      <td>...</td>\n",
       "      <td>14331.0</td>\n",
       "      <td>14948.0</td>\n",
       "      <td>15549.0</td>\n",
       "      <td>1518.0</td>\n",
       "      <td>1500.0</td>\n",
       "      <td>1000.0</td>\n",
       "      <td>1000.0</td>\n",
       "      <td>1000.0</td>\n",
       "      <td>5000.0</td>\n",
       "      <td>0</td>\n",
       "    </tr>\n",
       "    <tr>\n",
       "      <th>3</th>\n",
       "      <td>4</td>\n",
       "      <td>50000.0</td>\n",
       "      <td>2</td>\n",
       "      <td>2</td>\n",
       "      <td>1</td>\n",
       "      <td>37</td>\n",
       "      <td>0</td>\n",
       "      <td>0</td>\n",
       "      <td>0</td>\n",
       "      <td>0</td>\n",
       "      <td>...</td>\n",
       "      <td>28314.0</td>\n",
       "      <td>28959.0</td>\n",
       "      <td>29547.0</td>\n",
       "      <td>2000.0</td>\n",
       "      <td>2019.0</td>\n",
       "      <td>1200.0</td>\n",
       "      <td>1100.0</td>\n",
       "      <td>1069.0</td>\n",
       "      <td>1000.0</td>\n",
       "      <td>0</td>\n",
       "    </tr>\n",
       "    <tr>\n",
       "      <th>4</th>\n",
       "      <td>5</td>\n",
       "      <td>50000.0</td>\n",
       "      <td>1</td>\n",
       "      <td>2</td>\n",
       "      <td>1</td>\n",
       "      <td>57</td>\n",
       "      <td>-1</td>\n",
       "      <td>0</td>\n",
       "      <td>-1</td>\n",
       "      <td>0</td>\n",
       "      <td>...</td>\n",
       "      <td>20940.0</td>\n",
       "      <td>19146.0</td>\n",
       "      <td>19131.0</td>\n",
       "      <td>2000.0</td>\n",
       "      <td>36681.0</td>\n",
       "      <td>10000.0</td>\n",
       "      <td>9000.0</td>\n",
       "      <td>689.0</td>\n",
       "      <td>679.0</td>\n",
       "      <td>0</td>\n",
       "    </tr>\n",
       "    <tr>\n",
       "      <th>5</th>\n",
       "      <td>6</td>\n",
       "      <td>50000.0</td>\n",
       "      <td>1</td>\n",
       "      <td>1</td>\n",
       "      <td>2</td>\n",
       "      <td>37</td>\n",
       "      <td>0</td>\n",
       "      <td>0</td>\n",
       "      <td>0</td>\n",
       "      <td>0</td>\n",
       "      <td>...</td>\n",
       "      <td>19394.0</td>\n",
       "      <td>19619.0</td>\n",
       "      <td>20024.0</td>\n",
       "      <td>2500.0</td>\n",
       "      <td>1815.0</td>\n",
       "      <td>657.0</td>\n",
       "      <td>1000.0</td>\n",
       "      <td>1000.0</td>\n",
       "      <td>800.0</td>\n",
       "      <td>0</td>\n",
       "    </tr>\n",
       "    <tr>\n",
       "      <th>6</th>\n",
       "      <td>7</td>\n",
       "      <td>500000.0</td>\n",
       "      <td>1</td>\n",
       "      <td>1</td>\n",
       "      <td>2</td>\n",
       "      <td>29</td>\n",
       "      <td>0</td>\n",
       "      <td>0</td>\n",
       "      <td>0</td>\n",
       "      <td>0</td>\n",
       "      <td>...</td>\n",
       "      <td>542653.0</td>\n",
       "      <td>483003.0</td>\n",
       "      <td>473944.0</td>\n",
       "      <td>55000.0</td>\n",
       "      <td>40000.0</td>\n",
       "      <td>38000.0</td>\n",
       "      <td>20239.0</td>\n",
       "      <td>13750.0</td>\n",
       "      <td>13770.0</td>\n",
       "      <td>0</td>\n",
       "    </tr>\n",
       "    <tr>\n",
       "      <th>7</th>\n",
       "      <td>8</td>\n",
       "      <td>100000.0</td>\n",
       "      <td>2</td>\n",
       "      <td>2</td>\n",
       "      <td>2</td>\n",
       "      <td>23</td>\n",
       "      <td>0</td>\n",
       "      <td>-1</td>\n",
       "      <td>-1</td>\n",
       "      <td>0</td>\n",
       "      <td>...</td>\n",
       "      <td>221.0</td>\n",
       "      <td>-159.0</td>\n",
       "      <td>567.0</td>\n",
       "      <td>380.0</td>\n",
       "      <td>601.0</td>\n",
       "      <td>0.0</td>\n",
       "      <td>581.0</td>\n",
       "      <td>1687.0</td>\n",
       "      <td>1542.0</td>\n",
       "      <td>0</td>\n",
       "    </tr>\n",
       "    <tr>\n",
       "      <th>8</th>\n",
       "      <td>9</td>\n",
       "      <td>140000.0</td>\n",
       "      <td>2</td>\n",
       "      <td>3</td>\n",
       "      <td>1</td>\n",
       "      <td>28</td>\n",
       "      <td>0</td>\n",
       "      <td>0</td>\n",
       "      <td>2</td>\n",
       "      <td>0</td>\n",
       "      <td>...</td>\n",
       "      <td>12211.0</td>\n",
       "      <td>11793.0</td>\n",
       "      <td>3719.0</td>\n",
       "      <td>3329.0</td>\n",
       "      <td>0.0</td>\n",
       "      <td>432.0</td>\n",
       "      <td>1000.0</td>\n",
       "      <td>1000.0</td>\n",
       "      <td>1000.0</td>\n",
       "      <td>0</td>\n",
       "    </tr>\n",
       "    <tr>\n",
       "      <th>9</th>\n",
       "      <td>10</td>\n",
       "      <td>20000.0</td>\n",
       "      <td>1</td>\n",
       "      <td>3</td>\n",
       "      <td>2</td>\n",
       "      <td>35</td>\n",
       "      <td>-2</td>\n",
       "      <td>-2</td>\n",
       "      <td>-2</td>\n",
       "      <td>-2</td>\n",
       "      <td>...</td>\n",
       "      <td>0.0</td>\n",
       "      <td>13007.0</td>\n",
       "      <td>13912.0</td>\n",
       "      <td>0.0</td>\n",
       "      <td>0.0</td>\n",
       "      <td>0.0</td>\n",
       "      <td>13007.0</td>\n",
       "      <td>1122.0</td>\n",
       "      <td>0.0</td>\n",
       "      <td>0</td>\n",
       "    </tr>\n",
       "  </tbody>\n",
       "</table>\n",
       "<p>10 rows × 25 columns</p>\n",
       "</div>"
      ],
      "text/plain": [
       "   ID  LIMIT_BAL  SEX  EDUCATION  MARRIAGE  AGE  PAY_0  PAY_2  PAY_3  PAY_4  \\\n",
       "0   1    20000.0    2          2         1   24      2      2     -1     -1   \n",
       "1   2   120000.0    2          2         2   26     -1      2      0      0   \n",
       "2   3    90000.0    2          2         2   34      0      0      0      0   \n",
       "3   4    50000.0    2          2         1   37      0      0      0      0   \n",
       "4   5    50000.0    1          2         1   57     -1      0     -1      0   \n",
       "5   6    50000.0    1          1         2   37      0      0      0      0   \n",
       "6   7   500000.0    1          1         2   29      0      0      0      0   \n",
       "7   8   100000.0    2          2         2   23      0     -1     -1      0   \n",
       "8   9   140000.0    2          3         1   28      0      0      2      0   \n",
       "9  10    20000.0    1          3         2   35     -2     -2     -2     -2   \n",
       "\n",
       "   ...  BILL_AMT4  BILL_AMT5  BILL_AMT6  PAY_AMT1  PAY_AMT2  PAY_AMT3  \\\n",
       "0  ...        0.0        0.0        0.0       0.0     689.0       0.0   \n",
       "1  ...     3272.0     3455.0     3261.0       0.0    1000.0    1000.0   \n",
       "2  ...    14331.0    14948.0    15549.0    1518.0    1500.0    1000.0   \n",
       "3  ...    28314.0    28959.0    29547.0    2000.0    2019.0    1200.0   \n",
       "4  ...    20940.0    19146.0    19131.0    2000.0   36681.0   10000.0   \n",
       "5  ...    19394.0    19619.0    20024.0    2500.0    1815.0     657.0   \n",
       "6  ...   542653.0   483003.0   473944.0   55000.0   40000.0   38000.0   \n",
       "7  ...      221.0     -159.0      567.0     380.0     601.0       0.0   \n",
       "8  ...    12211.0    11793.0     3719.0    3329.0       0.0     432.0   \n",
       "9  ...        0.0    13007.0    13912.0       0.0       0.0       0.0   \n",
       "\n",
       "   PAY_AMT4  PAY_AMT5  PAY_AMT6  IS_DEFAULT  \n",
       "0       0.0       0.0       0.0           1  \n",
       "1    1000.0       0.0    2000.0           1  \n",
       "2    1000.0    1000.0    5000.0           0  \n",
       "3    1100.0    1069.0    1000.0           0  \n",
       "4    9000.0     689.0     679.0           0  \n",
       "5    1000.0    1000.0     800.0           0  \n",
       "6   20239.0   13750.0   13770.0           0  \n",
       "7     581.0    1687.0    1542.0           0  \n",
       "8    1000.0    1000.0    1000.0           0  \n",
       "9   13007.0    1122.0       0.0           0  \n",
       "\n",
       "[10 rows x 25 columns]"
      ]
     },
     "execution_count": 6,
     "metadata": {},
     "output_type": "execute_result"
    }
   ],
   "source": [
    "data = data.withColumnRenamed('default.payment.next.month', 'IS_DEFAULT')\n",
    "data.limit(10).toPandas()"
   ]
  },
  {
   "attachments": {},
   "cell_type": "markdown",
   "metadata": {},
   "source": [
    "##### `Доступные признаки`"
   ]
  },
  {
   "attachments": {},
   "cell_type": "markdown",
   "metadata": {},
   "source": [
    "Данные содержат три типа переменных:\n",
    "\n",
    "* ID — индекс\n",
    "* Целевая: **IS_DEFAULT**, наличие дефолта в сентябре\n",
    "* Остальные переменные: $23$ переменных, могут быть использованы для прогноза целевой переменной.\n",
    "\n",
    "---\n",
    "| Имя столбца        | Значение |\n",
    "| :-------------: |:-------------:|\n",
    "| LIMIT_BAL   | Cумма предоставленного кредита |\n",
    "| SEX | Пол (1 - мужской, 2 - женский) |\n",
    "| EDUCATION | Уровень образования (1 - магистратура, 2 - бакалавриат, 3 - школа) |\n",
    "| MARRIAGE | Семейное положение (1 - в браке, 2 - одинок) |\n",
    "| AGE | Возраст |\n",
    "| PAY_6, ..., PAY2, PAY_0 | Статус погашения кредита с апреля по сентябрь (-1 - нет долгов, иное, # - задержка платежа на # месяцев)|\n",
    "| BILL_AMT6, ..., BILL_AMT1 | Сумма на карте на расчетный период с апреля по август |\n",
    "| PAY_AMT6, ..., PAY_AMT1 | Сумма предыдущего платежа c апреля по август |\n",
    "| **IS_DEFAULT** | **Целевая переменная:** дефолт по кредитной карте в сентябре |\n",
    "---"
   ]
  },
  {
   "cell_type": "code",
   "execution_count": 7,
   "metadata": {},
   "outputs": [
    {
     "name": "stdout",
     "output_type": "stream",
     "text": [
      "root\n",
      " |-- ID: integer (nullable = true)\n",
      " |-- LIMIT_BAL: double (nullable = true)\n",
      " |-- SEX: integer (nullable = true)\n",
      " |-- EDUCATION: integer (nullable = true)\n",
      " |-- MARRIAGE: integer (nullable = true)\n",
      " |-- AGE: integer (nullable = true)\n",
      " |-- PAY_0: integer (nullable = true)\n",
      " |-- PAY_2: integer (nullable = true)\n",
      " |-- PAY_3: integer (nullable = true)\n",
      " |-- PAY_4: integer (nullable = true)\n",
      " |-- PAY_5: integer (nullable = true)\n",
      " |-- PAY_6: integer (nullable = true)\n",
      " |-- BILL_AMT1: double (nullable = true)\n",
      " |-- BILL_AMT2: double (nullable = true)\n",
      " |-- BILL_AMT3: double (nullable = true)\n",
      " |-- BILL_AMT4: double (nullable = true)\n",
      " |-- BILL_AMT5: double (nullable = true)\n",
      " |-- BILL_AMT6: double (nullable = true)\n",
      " |-- PAY_AMT1: double (nullable = true)\n",
      " |-- PAY_AMT2: double (nullable = true)\n",
      " |-- PAY_AMT3: double (nullable = true)\n",
      " |-- PAY_AMT4: double (nullable = true)\n",
      " |-- PAY_AMT5: double (nullable = true)\n",
      " |-- PAY_AMT6: double (nullable = true)\n",
      " |-- IS_DEFAULT: integer (nullable = true)\n",
      "\n"
     ]
    }
   ],
   "source": [
    "data.printSchema()"
   ]
  },
  {
   "cell_type": "code",
   "execution_count": 8,
   "metadata": {},
   "outputs": [
    {
     "name": "stderr",
     "output_type": "stream",
     "text": [
      "[Stage 3:>                                                          (0 + 1) / 1]\r"
     ]
    },
    {
     "name": "stdout",
     "output_type": "stream",
     "text": [
      "23/02/21 16:41:17 WARN package: Truncated the string representation of a plan since it was too large. This behavior can be adjusted by setting 'spark.sql.debug.maxToStringFields'.\n"
     ]
    },
    {
     "name": "stderr",
     "output_type": "stream",
     "text": [
      "                                                                                \r"
     ]
    },
    {
     "data": {
      "text/html": [
       "<div>\n",
       "<style scoped>\n",
       "    .dataframe tbody tr th:only-of-type {\n",
       "        vertical-align: middle;\n",
       "    }\n",
       "\n",
       "    .dataframe tbody tr th {\n",
       "        vertical-align: top;\n",
       "    }\n",
       "\n",
       "    .dataframe thead th {\n",
       "        text-align: right;\n",
       "    }\n",
       "</style>\n",
       "<table border=\"1\" class=\"dataframe\">\n",
       "  <thead>\n",
       "    <tr style=\"text-align: right;\">\n",
       "      <th></th>\n",
       "      <th>summary</th>\n",
       "      <th>ID</th>\n",
       "      <th>LIMIT_BAL</th>\n",
       "      <th>SEX</th>\n",
       "      <th>EDUCATION</th>\n",
       "      <th>MARRIAGE</th>\n",
       "      <th>AGE</th>\n",
       "      <th>PAY_0</th>\n",
       "      <th>PAY_2</th>\n",
       "      <th>PAY_3</th>\n",
       "      <th>...</th>\n",
       "      <th>BILL_AMT4</th>\n",
       "      <th>BILL_AMT5</th>\n",
       "      <th>BILL_AMT6</th>\n",
       "      <th>PAY_AMT1</th>\n",
       "      <th>PAY_AMT2</th>\n",
       "      <th>PAY_AMT3</th>\n",
       "      <th>PAY_AMT4</th>\n",
       "      <th>PAY_AMT5</th>\n",
       "      <th>PAY_AMT6</th>\n",
       "      <th>IS_DEFAULT</th>\n",
       "    </tr>\n",
       "  </thead>\n",
       "  <tbody>\n",
       "    <tr>\n",
       "      <th>0</th>\n",
       "      <td>count</td>\n",
       "      <td>30000</td>\n",
       "      <td>30000</td>\n",
       "      <td>30000</td>\n",
       "      <td>30000</td>\n",
       "      <td>30000</td>\n",
       "      <td>30000</td>\n",
       "      <td>30000</td>\n",
       "      <td>30000</td>\n",
       "      <td>30000</td>\n",
       "      <td>...</td>\n",
       "      <td>30000</td>\n",
       "      <td>30000</td>\n",
       "      <td>30000</td>\n",
       "      <td>30000</td>\n",
       "      <td>30000</td>\n",
       "      <td>30000</td>\n",
       "      <td>30000</td>\n",
       "      <td>30000</td>\n",
       "      <td>30000</td>\n",
       "      <td>30000</td>\n",
       "    </tr>\n",
       "    <tr>\n",
       "      <th>1</th>\n",
       "      <td>mean</td>\n",
       "      <td>15000.5</td>\n",
       "      <td>167484.32266666667</td>\n",
       "      <td>1.6037333333333332</td>\n",
       "      <td>1.8531333333333333</td>\n",
       "      <td>1.5518666666666667</td>\n",
       "      <td>35.4855</td>\n",
       "      <td>-0.0167</td>\n",
       "      <td>-0.13376666666666667</td>\n",
       "      <td>-0.1662</td>\n",
       "      <td>...</td>\n",
       "      <td>43262.94896666666</td>\n",
       "      <td>40311.40096666667</td>\n",
       "      <td>38871.7604</td>\n",
       "      <td>5663.5805</td>\n",
       "      <td>5921.1635</td>\n",
       "      <td>5225.6815</td>\n",
       "      <td>4826.076866666666</td>\n",
       "      <td>4799.387633333334</td>\n",
       "      <td>5215.502566666667</td>\n",
       "      <td>0.2212</td>\n",
       "    </tr>\n",
       "    <tr>\n",
       "      <th>2</th>\n",
       "      <td>stddev</td>\n",
       "      <td>8660.398374208891</td>\n",
       "      <td>129747.66156720246</td>\n",
       "      <td>0.4891291960902602</td>\n",
       "      <td>0.7903486597207269</td>\n",
       "      <td>0.5219696006132467</td>\n",
       "      <td>9.217904068090155</td>\n",
       "      <td>1.1238015279973335</td>\n",
       "      <td>1.1971859730345495</td>\n",
       "      <td>1.1968675684465686</td>\n",
       "      <td>...</td>\n",
       "      <td>64332.856133916444</td>\n",
       "      <td>60797.15577026471</td>\n",
       "      <td>59554.1075367459</td>\n",
       "      <td>16563.28035402577</td>\n",
       "      <td>23040.870402057186</td>\n",
       "      <td>17606.96146980311</td>\n",
       "      <td>15666.159744032062</td>\n",
       "      <td>15278.305679144742</td>\n",
       "      <td>17777.46577543531</td>\n",
       "      <td>0.41506180569093254</td>\n",
       "    </tr>\n",
       "    <tr>\n",
       "      <th>3</th>\n",
       "      <td>min</td>\n",
       "      <td>1</td>\n",
       "      <td>10000.0</td>\n",
       "      <td>1</td>\n",
       "      <td>0</td>\n",
       "      <td>0</td>\n",
       "      <td>21</td>\n",
       "      <td>-2</td>\n",
       "      <td>-2</td>\n",
       "      <td>-2</td>\n",
       "      <td>...</td>\n",
       "      <td>-170000.0</td>\n",
       "      <td>-81334.0</td>\n",
       "      <td>-339603.0</td>\n",
       "      <td>0.0</td>\n",
       "      <td>0.0</td>\n",
       "      <td>0.0</td>\n",
       "      <td>0.0</td>\n",
       "      <td>0.0</td>\n",
       "      <td>0.0</td>\n",
       "      <td>0</td>\n",
       "    </tr>\n",
       "    <tr>\n",
       "      <th>4</th>\n",
       "      <td>25%</td>\n",
       "      <td>7498</td>\n",
       "      <td>50000.0</td>\n",
       "      <td>1</td>\n",
       "      <td>1</td>\n",
       "      <td>1</td>\n",
       "      <td>28</td>\n",
       "      <td>-1</td>\n",
       "      <td>-1</td>\n",
       "      <td>-1</td>\n",
       "      <td>...</td>\n",
       "      <td>2320.0</td>\n",
       "      <td>1761.0</td>\n",
       "      <td>1255.0</td>\n",
       "      <td>1000.0</td>\n",
       "      <td>832.0</td>\n",
       "      <td>390.0</td>\n",
       "      <td>295.0</td>\n",
       "      <td>251.0</td>\n",
       "      <td>116.0</td>\n",
       "      <td>0</td>\n",
       "    </tr>\n",
       "    <tr>\n",
       "      <th>5</th>\n",
       "      <td>50%</td>\n",
       "      <td>14999</td>\n",
       "      <td>140000.0</td>\n",
       "      <td>2</td>\n",
       "      <td>2</td>\n",
       "      <td>2</td>\n",
       "      <td>34</td>\n",
       "      <td>0</td>\n",
       "      <td>0</td>\n",
       "      <td>0</td>\n",
       "      <td>...</td>\n",
       "      <td>19050.0</td>\n",
       "      <td>18101.0</td>\n",
       "      <td>17068.0</td>\n",
       "      <td>2100.0</td>\n",
       "      <td>2009.0</td>\n",
       "      <td>1800.0</td>\n",
       "      <td>1500.0</td>\n",
       "      <td>1500.0</td>\n",
       "      <td>1500.0</td>\n",
       "      <td>0</td>\n",
       "    </tr>\n",
       "    <tr>\n",
       "      <th>6</th>\n",
       "      <td>75%</td>\n",
       "      <td>22497</td>\n",
       "      <td>240000.0</td>\n",
       "      <td>2</td>\n",
       "      <td>2</td>\n",
       "      <td>2</td>\n",
       "      <td>41</td>\n",
       "      <td>0</td>\n",
       "      <td>0</td>\n",
       "      <td>0</td>\n",
       "      <td>...</td>\n",
       "      <td>54472.0</td>\n",
       "      <td>50170.0</td>\n",
       "      <td>49147.0</td>\n",
       "      <td>5006.0</td>\n",
       "      <td>5000.0</td>\n",
       "      <td>4503.0</td>\n",
       "      <td>4012.0</td>\n",
       "      <td>4030.0</td>\n",
       "      <td>4000.0</td>\n",
       "      <td>0</td>\n",
       "    </tr>\n",
       "    <tr>\n",
       "      <th>7</th>\n",
       "      <td>max</td>\n",
       "      <td>30000</td>\n",
       "      <td>1000000.0</td>\n",
       "      <td>2</td>\n",
       "      <td>6</td>\n",
       "      <td>3</td>\n",
       "      <td>79</td>\n",
       "      <td>8</td>\n",
       "      <td>8</td>\n",
       "      <td>8</td>\n",
       "      <td>...</td>\n",
       "      <td>891586.0</td>\n",
       "      <td>927171.0</td>\n",
       "      <td>961664.0</td>\n",
       "      <td>873552.0</td>\n",
       "      <td>1684259.0</td>\n",
       "      <td>896040.0</td>\n",
       "      <td>621000.0</td>\n",
       "      <td>426529.0</td>\n",
       "      <td>528666.0</td>\n",
       "      <td>1</td>\n",
       "    </tr>\n",
       "  </tbody>\n",
       "</table>\n",
       "<p>8 rows × 26 columns</p>\n",
       "</div>"
      ],
      "text/plain": [
       "  summary                 ID           LIMIT_BAL                 SEX  \\\n",
       "0   count              30000               30000               30000   \n",
       "1    mean            15000.5  167484.32266666667  1.6037333333333332   \n",
       "2  stddev  8660.398374208891  129747.66156720246  0.4891291960902602   \n",
       "3     min                  1             10000.0                   1   \n",
       "4     25%               7498             50000.0                   1   \n",
       "5     50%              14999            140000.0                   2   \n",
       "6     75%              22497            240000.0                   2   \n",
       "7     max              30000           1000000.0                   2   \n",
       "\n",
       "            EDUCATION            MARRIAGE                AGE  \\\n",
       "0               30000               30000              30000   \n",
       "1  1.8531333333333333  1.5518666666666667            35.4855   \n",
       "2  0.7903486597207269  0.5219696006132467  9.217904068090155   \n",
       "3                   0                   0                 21   \n",
       "4                   1                   1                 28   \n",
       "5                   2                   2                 34   \n",
       "6                   2                   2                 41   \n",
       "7                   6                   3                 79   \n",
       "\n",
       "                PAY_0                 PAY_2               PAY_3  ...  \\\n",
       "0               30000                 30000               30000  ...   \n",
       "1             -0.0167  -0.13376666666666667             -0.1662  ...   \n",
       "2  1.1238015279973335    1.1971859730345495  1.1968675684465686  ...   \n",
       "3                  -2                    -2                  -2  ...   \n",
       "4                  -1                    -1                  -1  ...   \n",
       "5                   0                     0                   0  ...   \n",
       "6                   0                     0                   0  ...   \n",
       "7                   8                     8                   8  ...   \n",
       "\n",
       "            BILL_AMT4          BILL_AMT5         BILL_AMT6           PAY_AMT1  \\\n",
       "0               30000              30000             30000              30000   \n",
       "1   43262.94896666666  40311.40096666667        38871.7604          5663.5805   \n",
       "2  64332.856133916444  60797.15577026471  59554.1075367459  16563.28035402577   \n",
       "3           -170000.0           -81334.0         -339603.0                0.0   \n",
       "4              2320.0             1761.0            1255.0             1000.0   \n",
       "5             19050.0            18101.0           17068.0             2100.0   \n",
       "6             54472.0            50170.0           49147.0             5006.0   \n",
       "7            891586.0           927171.0          961664.0           873552.0   \n",
       "\n",
       "             PAY_AMT2           PAY_AMT3            PAY_AMT4  \\\n",
       "0               30000              30000               30000   \n",
       "1           5921.1635          5225.6815   4826.076866666666   \n",
       "2  23040.870402057186  17606.96146980311  15666.159744032062   \n",
       "3                 0.0                0.0                 0.0   \n",
       "4               832.0              390.0               295.0   \n",
       "5              2009.0             1800.0              1500.0   \n",
       "6              5000.0             4503.0              4012.0   \n",
       "7           1684259.0           896040.0            621000.0   \n",
       "\n",
       "             PAY_AMT5           PAY_AMT6           IS_DEFAULT  \n",
       "0               30000              30000                30000  \n",
       "1   4799.387633333334  5215.502566666667               0.2212  \n",
       "2  15278.305679144742  17777.46577543531  0.41506180569093254  \n",
       "3                 0.0                0.0                    0  \n",
       "4               251.0              116.0                    0  \n",
       "5              1500.0             1500.0                    0  \n",
       "6              4030.0             4000.0                    0  \n",
       "7            426529.0           528666.0                    1  \n",
       "\n",
       "[8 rows x 26 columns]"
      ]
     },
     "execution_count": 8,
     "metadata": {},
     "output_type": "execute_result"
    }
   ],
   "source": [
    "data.summary().toPandas()"
   ]
  },
  {
   "cell_type": "code",
   "execution_count": 9,
   "metadata": {},
   "outputs": [
    {
     "name": "stdout",
     "output_type": "stream",
     "text": [
      "+---+-----+\n",
      "|SEX|count|\n",
      "+---+-----+\n",
      "|  1|11888|\n",
      "|  2|18112|\n",
      "+---+-----+\n",
      "\n",
      "+---------+-----+\n",
      "|EDUCATION|count|\n",
      "+---------+-----+\n",
      "|        1|10585|\n",
      "|        6|   51|\n",
      "|        3| 4917|\n",
      "|        5|  280|\n",
      "|        4|  123|\n",
      "|        2|14030|\n",
      "|        0|   14|\n",
      "+---------+-----+\n",
      "\n",
      "+--------+-----+\n",
      "|MARRIAGE|count|\n",
      "+--------+-----+\n",
      "|       1|13659|\n",
      "|       3|  323|\n",
      "|       2|15964|\n",
      "|       0|   54|\n",
      "+--------+-----+\n",
      "\n",
      "+-----+-----+\n",
      "|PAY_0|count|\n",
      "+-----+-----+\n",
      "|   -1| 5686|\n",
      "|    1| 3688|\n",
      "|    6|   11|\n",
      "|    3|  322|\n",
      "|    5|   26|\n",
      "|    4|   76|\n",
      "|    8|   19|\n",
      "|    7|    9|\n",
      "|   -2| 2759|\n",
      "|    2| 2667|\n",
      "|    0|14737|\n",
      "+-----+-----+\n",
      "\n",
      "+-----+-----+\n",
      "|PAY_2|count|\n",
      "+-----+-----+\n",
      "|   -1| 6050|\n",
      "|    1|   28|\n",
      "|    6|   12|\n",
      "|    3|  326|\n",
      "|    5|   25|\n",
      "|    4|   99|\n",
      "|    8|    1|\n",
      "|    7|   20|\n",
      "|   -2| 3782|\n",
      "|    2| 3927|\n",
      "|    0|15730|\n",
      "+-----+-----+\n",
      "\n",
      "+-----+-----+\n",
      "|PAY_3|count|\n",
      "+-----+-----+\n",
      "|   -1| 5938|\n",
      "|    1|    4|\n",
      "|    6|   23|\n",
      "|    3|  240|\n",
      "|    5|   21|\n",
      "|    4|   76|\n",
      "|    8|    3|\n",
      "|    7|   27|\n",
      "|   -2| 4085|\n",
      "|    2| 3819|\n",
      "|    0|15764|\n",
      "+-----+-----+\n",
      "\n",
      "+-----+-----+\n",
      "|PAY_4|count|\n",
      "+-----+-----+\n",
      "|   -1| 5687|\n",
      "|    1|    2|\n",
      "|    6|    5|\n",
      "|    3|  180|\n",
      "|    5|   35|\n",
      "|    4|   69|\n",
      "|    8|    2|\n",
      "|    7|   58|\n",
      "|   -2| 4348|\n",
      "|    2| 3159|\n",
      "|    0|16455|\n",
      "+-----+-----+\n",
      "\n",
      "+-----+-----+\n",
      "|PAY_5|count|\n",
      "+-----+-----+\n",
      "|   -1| 5539|\n",
      "|    6|    4|\n",
      "|    3|  178|\n",
      "|    5|   17|\n",
      "|    4|   84|\n",
      "|    8|    1|\n",
      "|    7|   58|\n",
      "|   -2| 4546|\n",
      "|    2| 2626|\n",
      "|    0|16947|\n",
      "+-----+-----+\n",
      "\n",
      "+-----+-----+\n",
      "|PAY_6|count|\n",
      "+-----+-----+\n",
      "|   -1| 5740|\n",
      "|    6|   19|\n",
      "|    3|  184|\n",
      "|    5|   13|\n",
      "|    4|   49|\n",
      "|    8|    2|\n",
      "|    7|   46|\n",
      "|   -2| 4895|\n",
      "|    2| 2766|\n",
      "|    0|16286|\n",
      "+-----+-----+\n",
      "\n",
      "+----------+-----+\n",
      "|IS_DEFAULT|count|\n",
      "+----------+-----+\n",
      "|         1| 6636|\n",
      "|         0|23364|\n",
      "+----------+-----+\n",
      "\n"
     ]
    }
   ],
   "source": [
    "for column, dtype in data.dtypes:\n",
    "    if column not in {'ID', 'AGE'} and dtype == 'int':\n",
    "        data.groupBy(column).count().show()"
   ]
  },
  {
   "attachments": {},
   "cell_type": "markdown",
   "metadata": {},
   "source": [
    "##### `Построение гистограмм`"
   ]
  },
  {
   "attachments": {},
   "cell_type": "markdown",
   "metadata": {},
   "source": [
    "Есть $4$ основных варианта для визуализации данных в Spark:\n",
    "1. Перевести данные в pandas.DataFrame и использовать стандартные приёмы\n",
    "2. Использовать встроенные методы для вычисления нужных статистик и отрисовка их стандартными методами\n",
    "3. Использование Pandas on Spark API\n",
    "4. Использование сторонних библиотек (см. `pyspark_dist_explore`)"
   ]
  },
  {
   "cell_type": "code",
   "execution_count": 10,
   "metadata": {},
   "outputs": [
    {
     "name": "stdout",
     "output_type": "stream",
     "text": [
      "Requirement already satisfied: pyspark_dist_explore in /usr/local/lib/python3.10/site-packages (0.1.8)\n",
      "Requirement already satisfied: matplotlib in /usr/local/lib/python3.10/site-packages (from pyspark_dist_explore) (3.6.2)\n",
      "Requirement already satisfied: numpy in /usr/local/lib/python3.10/site-packages (from pyspark_dist_explore) (1.23.4)\n",
      "Requirement already satisfied: pandas in /usr/local/lib/python3.10/site-packages (from pyspark_dist_explore) (1.5.2)\n",
      "Requirement already satisfied: scipy in /usr/local/lib/python3.10/site-packages (from pyspark_dist_explore) (1.9.3)\n",
      "Requirement already satisfied: pyparsing>=2.2.1 in /usr/local/lib/python3.10/site-packages (from matplotlib->pyspark_dist_explore) (3.0.9)\n",
      "Requirement already satisfied: pillow>=6.2.0 in /usr/local/lib/python3.10/site-packages (from matplotlib->pyspark_dist_explore) (9.3.0)\n",
      "Requirement already satisfied: kiwisolver>=1.0.1 in /usr/local/lib/python3.10/site-packages (from matplotlib->pyspark_dist_explore) (1.4.4)\n",
      "Requirement already satisfied: contourpy>=1.0.1 in /usr/local/lib/python3.10/site-packages (from matplotlib->pyspark_dist_explore) (1.0.6)\n",
      "Requirement already satisfied: cycler>=0.10 in /usr/local/lib/python3.10/site-packages (from matplotlib->pyspark_dist_explore) (0.11.0)\n",
      "Requirement already satisfied: packaging>=20.0 in /usr/local/lib/python3.10/site-packages (from matplotlib->pyspark_dist_explore) (21.3)\n",
      "Requirement already satisfied: python-dateutil>=2.7 in /usr/local/lib/python3.10/site-packages (from matplotlib->pyspark_dist_explore) (2.8.2)\n",
      "Requirement already satisfied: fonttools>=4.22.0 in /usr/local/lib/python3.10/site-packages (from matplotlib->pyspark_dist_explore) (4.38.0)\n",
      "Requirement already satisfied: pytz>=2020.1 in /usr/local/lib/python3.10/site-packages (from pandas->pyspark_dist_explore) (2022.6)\n",
      "Requirement already satisfied: six>=1.5 in /usr/local/lib/python3.10/site-packages (from python-dateutil>=2.7->matplotlib->pyspark_dist_explore) (1.16.0)\n",
      "\n",
      "\u001b[1m[\u001b[0m\u001b[34;49mnotice\u001b[0m\u001b[1;39;49m]\u001b[0m\u001b[39;49m A new release of pip available: \u001b[0m\u001b[31;49m22.3.1\u001b[0m\u001b[39;49m -> \u001b[0m\u001b[32;49m23.0.1\u001b[0m\n",
      "\u001b[1m[\u001b[0m\u001b[34;49mnotice\u001b[0m\u001b[1;39;49m]\u001b[0m\u001b[39;49m To update, run: \u001b[0m\u001b[32;49mpython3.10 -m pip install --upgrade pip\u001b[0m\n"
     ]
    }
   ],
   "source": [
    "! pip3 install pyspark_dist_explore"
   ]
  },
  {
   "cell_type": "code",
   "execution_count": 11,
   "metadata": {},
   "outputs": [],
   "source": [
    "import pyspark_dist_explore"
   ]
  },
  {
   "cell_type": "code",
   "execution_count": 12,
   "metadata": {},
   "outputs": [],
   "source": [
    "pay_0 = data.filter((data.IS_DEFAULT == 0) & (data.PAY_AMT1 > 0)).select(F.log10('PAY_AMT1'))\n",
    "pay_1 = data.filter((data.IS_DEFAULT == 1) & (data.PAY_AMT1 > 0)).select(F.log10('PAY_AMT1'))"
   ]
  },
  {
   "cell_type": "code",
   "execution_count": 13,
   "metadata": {},
   "outputs": [
    {
     "name": "stderr",
     "output_type": "stream",
     "text": [
      "                                                                                \r"
     ]
    },
    {
     "data": {
      "application/pdf": "[encoded data removed]",
      "image/svg+xml": "<?xml version=\"1.0\" encoding=\"utf-8\" standalone=\"no\"?>\n<!DOCTYPE svg PUBLIC \"-//W3C//DTD SVG 1.1//EN\"\n  \"http://www.w3.org/Graphics/SVG/1.1/DTD/svg11.dtd\">\n<svg xmlns:xlink=\"http://www.w3.org/1999/xlink\" width=\"713.015625pt\" height=\"351.43625pt\" viewBox=\"0 0 713.015625 351.43625\" xmlns=\"http://www.w3.org/2000/svg\" version=\"1.1\">\n <metadata>\n  <rdf:RDF xmlns:dc=\"http://purl.org/dc/elements/1.1/\" xmlns:cc=\"http://creativecommons.org/ns#\" xmlns:rdf=\"http://www.w3.org/1999/02/22-rdf-syntax-ns#\">\n   <cc:Work>\n    <dc:type rdf:resource=\"http://purl.org/dc/dcmitype/StillImage\"/>\n    <dc:date>2023-02-21T16:41:24.471308</dc:date>\n    <dc:format>image/svg+xml</dc:format>\n    <dc:creator>\n     <cc:Agent>\n      <dc:title>Matplotlib v3.6.2, https://matplotlib.org/</dc:title>\n     </cc:Agent>\n    </dc:creator>\n   </cc:Work>\n  </rdf:RDF>\n </metadata>\n <defs>\n  <style type=\"text/css\">*{stroke-linejoin: round; stroke-linecap: butt}</style>\n </defs>\n <g id=\"figure_1\">\n  <g id=\"patch_1\">\n   <path d=\"M 0 351.43625 \nL 713.015625 351.43625 \nL 713.015625 0 \nL 0 0 \nz\n\" style=\"fill: #ffffff\"/>\n  </g>\n  <g id=\"axes_1\">\n   <g id=\"patch_2\">\n    <path d=\"M 36.465625 327.558125 \nL 705.815625 327.558125 \nL 705.815625 22.318125 \nL 36.465625 22.318125 \nz\n\" style=\"fill: #ffffff\"/>\n   </g>\n   <g id=\"patch_3\">\n    <path d=\"M 66.890625 327.558125 \nL 69.329503 327.558125 \nL 69.329503 326.884092 \nL 66.890625 326.884092 \nz\n\" clip-path=\"url(#pb6d7f08702)\" style=\"fill: #ff0000\"/>\n   </g>\n   <g id=\"patch_4\">\n    <path d=\"M 72.987819 327.558125 \nL 75.426697 327.558125 \nL 75.426697 327.558125 \nL 72.987819 327.558125 \nz\n\" clip-path=\"url(#pb6d7f08702)\" style=\"fill: #ff0000\"/>\n   </g>\n   <g id=\"patch_5\">\n    <path d=\"M 79.085014 327.558125 \nL 81.523892 327.558125 \nL 81.523892 327.558125 \nL 79.085014 327.558125 \nz\n\" clip-path=\"url(#pb6d7f08702)\" style=\"fill: #ff0000\"/>\n   </g>\n   <g id=\"patch_6\">\n    <path d=\"M 85.182208 327.558125 \nL 87.621086 327.558125 \nL 87.621086 327.558125 \nL 85.182208 327.558125 \nz\n\" clip-path=\"url(#pb6d7f08702)\" style=\"fill: #ff0000\"/>\n   </g>\n   <g id=\"patch_7\">\n    <path d=\"M 91.279403 327.558125 \nL 93.71828 327.558125 \nL 93.71828 327.558125 \nL 91.279403 327.558125 \nz\n\" clip-path=\"url(#pb6d7f08702)\" style=\"fill: #ff0000\"/>\n   </g>\n   <g id=\"patch_8\">\n    <path d=\"M 97.376597 327.558125 \nL 99.815475 327.558125 \nL 99.815475 326.344866 \nL 97.376597 326.344866 \nz\n\" clip-path=\"url(#pb6d7f08702)\" style=\"fill: #ff0000\"/>\n   </g>\n   <g id=\"patch_9\">\n    <path d=\"M 103.473791 327.558125 \nL 105.912669 327.558125 \nL 105.912669 327.558125 \nL 103.473791 327.558125 \nz\n\" clip-path=\"url(#pb6d7f08702)\" style=\"fill: #ff0000\"/>\n   </g>\n   <g id=\"patch_10\">\n    <path d=\"M 109.570986 327.558125 \nL 112.009863 327.558125 \nL 112.009863 327.558125 \nL 109.570986 327.558125 \nz\n\" clip-path=\"url(#pb6d7f08702)\" style=\"fill: #ff0000\"/>\n   </g>\n   <g id=\"patch_11\">\n    <path d=\"M 115.66818 327.558125 \nL 118.107058 327.558125 \nL 118.107058 326.075253 \nL 115.66818 326.075253 \nz\n\" clip-path=\"url(#pb6d7f08702)\" style=\"fill: #ff0000\"/>\n   </g>\n   <g id=\"patch_12\">\n    <path d=\"M 121.765374 327.558125 \nL 124.204252 327.558125 \nL 124.204252 327.558125 \nL 121.765374 327.558125 \nz\n\" clip-path=\"url(#pb6d7f08702)\" style=\"fill: #ff0000\"/>\n   </g>\n   <g id=\"patch_13\">\n    <path d=\"M 127.862569 327.558125 \nL 130.301447 327.558125 \nL 130.301447 326.075253 \nL 127.862569 326.075253 \nz\n\" clip-path=\"url(#pb6d7f08702)\" style=\"fill: #ff0000\"/>\n   </g>\n   <g id=\"patch_14\">\n    <path d=\"M 133.959763 327.558125 \nL 136.398641 327.558125 \nL 136.398641 326.479673 \nL 133.959763 326.479673 \nz\n\" clip-path=\"url(#pb6d7f08702)\" style=\"fill: #ff0000\"/>\n   </g>\n   <g id=\"patch_15\">\n    <path d=\"M 140.056958 327.558125 \nL 142.495835 327.558125 \nL 142.495835 327.558125 \nL 140.056958 327.558125 \nz\n\" clip-path=\"url(#pb6d7f08702)\" style=\"fill: #ff0000\"/>\n   </g>\n   <g id=\"patch_16\">\n    <path d=\"M 146.154152 327.558125 \nL 148.59303 327.558125 \nL 148.59303 326.075253 \nL 146.154152 326.075253 \nz\n\" clip-path=\"url(#pb6d7f08702)\" style=\"fill: #ff0000\"/>\n   </g>\n   <g id=\"patch_17\">\n    <path d=\"M 152.251346 327.558125 \nL 154.690224 327.558125 \nL 154.690224 326.614479 \nL 152.251346 326.614479 \nz\n\" clip-path=\"url(#pb6d7f08702)\" style=\"fill: #ff0000\"/>\n   </g>\n   <g id=\"patch_18\">\n    <path d=\"M 158.348541 327.558125 \nL 160.787419 327.558125 \nL 160.787419 326.614479 \nL 158.348541 326.614479 \nz\n\" clip-path=\"url(#pb6d7f08702)\" style=\"fill: #ff0000\"/>\n   </g>\n   <g id=\"patch_19\">\n    <path d=\"M 164.445735 327.558125 \nL 166.884613 327.558125 \nL 166.884613 326.075253 \nL 164.445735 326.075253 \nz\n\" clip-path=\"url(#pb6d7f08702)\" style=\"fill: #ff0000\"/>\n   </g>\n   <g id=\"patch_20\">\n    <path d=\"M 170.54293 327.558125 \nL 172.981807 327.558125 \nL 172.981807 327.423318 \nL 170.54293 327.423318 \nz\n\" clip-path=\"url(#pb6d7f08702)\" style=\"fill: #ff0000\"/>\n   </g>\n   <g id=\"patch_21\">\n    <path d=\"M 176.640124 327.558125 \nL 179.079002 327.558125 \nL 179.079002 326.21006 \nL 176.640124 326.21006 \nz\n\" clip-path=\"url(#pb6d7f08702)\" style=\"fill: #ff0000\"/>\n   </g>\n   <g id=\"patch_22\">\n    <path d=\"M 182.737318 327.558125 \nL 185.176196 327.558125 \nL 185.176196 326.344866 \nL 182.737318 326.344866 \nz\n\" clip-path=\"url(#pb6d7f08702)\" style=\"fill: #ff0000\"/>\n   </g>\n   <g id=\"patch_23\">\n    <path d=\"M 188.834513 327.558125 \nL 191.273391 327.558125 \nL 191.273391 327.018899 \nL 188.834513 327.018899 \nz\n\" clip-path=\"url(#pb6d7f08702)\" style=\"fill: #ff0000\"/>\n   </g>\n   <g id=\"patch_24\">\n    <path d=\"M 194.931707 327.558125 \nL 197.370585 327.558125 \nL 197.370585 327.153705 \nL 194.931707 327.153705 \nz\n\" clip-path=\"url(#pb6d7f08702)\" style=\"fill: #ff0000\"/>\n   </g>\n   <g id=\"patch_25\">\n    <path d=\"M 201.028902 327.558125 \nL 203.467779 327.558125 \nL 203.467779 326.614479 \nL 201.028902 326.614479 \nz\n\" clip-path=\"url(#pb6d7f08702)\" style=\"fill: #ff0000\"/>\n   </g>\n   <g id=\"patch_26\">\n    <path d=\"M 207.126096 327.558125 \nL 209.564974 327.558125 \nL 209.564974 326.614479 \nL 207.126096 326.614479 \nz\n\" clip-path=\"url(#pb6d7f08702)\" style=\"fill: #ff0000\"/>\n   </g>\n   <g id=\"patch_27\">\n    <path d=\"M 213.22329 327.558125 \nL 215.662168 327.558125 \nL 215.662168 326.884092 \nL 213.22329 326.884092 \nz\n\" clip-path=\"url(#pb6d7f08702)\" style=\"fill: #ff0000\"/>\n   </g>\n   <g id=\"patch_28\">\n    <path d=\"M 219.320485 327.558125 \nL 221.759362 327.558125 \nL 221.759362 326.749286 \nL 219.320485 326.749286 \nz\n\" clip-path=\"url(#pb6d7f08702)\" style=\"fill: #ff0000\"/>\n   </g>\n   <g id=\"patch_29\">\n    <path d=\"M 225.417679 327.558125 \nL 227.856557 327.558125 \nL 227.856557 326.344866 \nL 225.417679 326.344866 \nz\n\" clip-path=\"url(#pb6d7f08702)\" style=\"fill: #ff0000\"/>\n   </g>\n   <g id=\"patch_30\">\n    <path d=\"M 231.514873 327.558125 \nL 233.953751 327.558125 \nL 233.953751 327.288512 \nL 231.514873 327.288512 \nz\n\" clip-path=\"url(#pb6d7f08702)\" style=\"fill: #ff0000\"/>\n   </g>\n   <g id=\"patch_31\">\n    <path d=\"M 237.612068 327.558125 \nL 240.050946 327.558125 \nL 240.050946 326.479673 \nL 237.612068 326.479673 \nz\n\" clip-path=\"url(#pb6d7f08702)\" style=\"fill: #ff0000\"/>\n   </g>\n   <g id=\"patch_32\">\n    <path d=\"M 243.709262 327.558125 \nL 246.14814 327.558125 \nL 246.14814 326.479673 \nL 243.709262 326.479673 \nz\n\" clip-path=\"url(#pb6d7f08702)\" style=\"fill: #ff0000\"/>\n   </g>\n   <g id=\"patch_33\">\n    <path d=\"M 249.806457 327.558125 \nL 252.245334 327.558125 \nL 252.245334 326.614479 \nL 249.806457 326.614479 \nz\n\" clip-path=\"url(#pb6d7f08702)\" style=\"fill: #ff0000\"/>\n   </g>\n   <g id=\"patch_34\">\n    <path d=\"M 255.903651 327.558125 \nL 258.342529 327.558125 \nL 258.342529 326.344866 \nL 255.903651 326.344866 \nz\n\" clip-path=\"url(#pb6d7f08702)\" style=\"fill: #ff0000\"/>\n   </g>\n   <g id=\"patch_35\">\n    <path d=\"M 262.000845 327.558125 \nL 264.439723 327.558125 \nL 264.439723 326.614479 \nL 262.000845 326.614479 \nz\n\" clip-path=\"url(#pb6d7f08702)\" style=\"fill: #ff0000\"/>\n   </g>\n   <g id=\"patch_36\">\n    <path d=\"M 268.09804 327.558125 \nL 270.536918 327.558125 \nL 270.536918 324.996801 \nL 268.09804 324.996801 \nz\n\" clip-path=\"url(#pb6d7f08702)\" style=\"fill: #ff0000\"/>\n   </g>\n   <g id=\"patch_37\">\n    <path d=\"M 274.195234 327.558125 \nL 276.634112 327.558125 \nL 276.634112 326.075253 \nL 274.195234 326.075253 \nz\n\" clip-path=\"url(#pb6d7f08702)\" style=\"fill: #ff0000\"/>\n   </g>\n   <g id=\"patch_38\">\n    <path d=\"M 280.292429 327.558125 \nL 282.731306 327.558125 \nL 282.731306 324.592381 \nL 280.292429 324.592381 \nz\n\" clip-path=\"url(#pb6d7f08702)\" style=\"fill: #ff0000\"/>\n   </g>\n   <g id=\"patch_39\">\n    <path d=\"M 286.389623 327.558125 \nL 288.828501 327.558125 \nL 288.828501 323.379123 \nL 286.389623 323.379123 \nz\n\" clip-path=\"url(#pb6d7f08702)\" style=\"fill: #ff0000\"/>\n   </g>\n   <g id=\"patch_40\">\n    <path d=\"M 292.486817 327.558125 \nL 294.925695 327.558125 \nL 294.925695 321.087412 \nL 292.486817 321.087412 \nz\n\" clip-path=\"url(#pb6d7f08702)\" style=\"fill: #ff0000\"/>\n   </g>\n   <g id=\"patch_41\">\n    <path d=\"M 298.584012 327.558125 \nL 301.02289 327.558125 \nL 301.02289 320.008959 \nL 298.584012 320.008959 \nz\n\" clip-path=\"url(#pb6d7f08702)\" style=\"fill: #ff0000\"/>\n   </g>\n   <g id=\"patch_42\">\n    <path d=\"M 304.681206 327.558125 \nL 307.120084 327.558125 \nL 307.120084 322.435477 \nL 304.681206 322.435477 \nz\n\" clip-path=\"url(#pb6d7f08702)\" style=\"fill: #ff0000\"/>\n   </g>\n   <g id=\"patch_43\">\n    <path d=\"M 310.778401 327.558125 \nL 313.217278 327.558125 \nL 313.217278 320.548185 \nL 310.778401 320.548185 \nz\n\" clip-path=\"url(#pb6d7f08702)\" style=\"fill: #ff0000\"/>\n   </g>\n   <g id=\"patch_44\">\n    <path d=\"M 316.875595 327.558125 \nL 319.314473 327.558125 \nL 319.314473 317.312829 \nL 316.875595 317.312829 \nz\n\" clip-path=\"url(#pb6d7f08702)\" style=\"fill: #ff0000\"/>\n   </g>\n   <g id=\"patch_45\">\n    <path d=\"M 322.972789 327.558125 \nL 325.411667 327.558125 \nL 325.411667 304.910628 \nL 322.972789 304.910628 \nz\n\" clip-path=\"url(#pb6d7f08702)\" style=\"fill: #ff0000\"/>\n   </g>\n   <g id=\"patch_46\">\n    <path d=\"M 329.069984 327.558125 \nL 331.508861 327.558125 \nL 331.508861 290.755942 \nL 329.069984 290.755942 \nz\n\" clip-path=\"url(#pb6d7f08702)\" style=\"fill: #ff0000\"/>\n   </g>\n   <g id=\"patch_47\">\n    <path d=\"M 335.167178 327.558125 \nL 337.606056 327.558125 \nL 337.606056 316.908409 \nL 335.167178 316.908409 \nz\n\" clip-path=\"url(#pb6d7f08702)\" style=\"fill: #ff0000\"/>\n   </g>\n   <g id=\"patch_48\">\n    <path d=\"M 341.264372 327.558125 \nL 343.70325 327.558125 \nL 343.70325 314.616698 \nL 341.264372 314.616698 \nz\n\" clip-path=\"url(#pb6d7f08702)\" style=\"fill: #ff0000\"/>\n   </g>\n   <g id=\"patch_49\">\n    <path d=\"M 347.361567 327.558125 \nL 349.800445 327.558125 \nL 349.800445 314.077472 \nL 347.361567 314.077472 \nz\n\" clip-path=\"url(#pb6d7f08702)\" style=\"fill: #ff0000\"/>\n   </g>\n   <g id=\"patch_50\">\n    <path d=\"M 353.458761 327.558125 \nL 355.897639 327.558125 \nL 355.897639 311.920567 \nL 353.458761 311.920567 \nz\n\" clip-path=\"url(#pb6d7f08702)\" style=\"fill: #ff0000\"/>\n   </g>\n   <g id=\"patch_51\">\n    <path d=\"M 359.555956 327.558125 \nL 361.994833 327.558125 \nL 361.994833 303.966982 \nL 359.555956 303.966982 \nz\n\" clip-path=\"url(#pb6d7f08702)\" style=\"fill: #ff0000\"/>\n   </g>\n   <g id=\"patch_52\">\n    <path d=\"M 365.65315 327.558125 \nL 368.092028 327.558125 \nL 368.092028 309.359243 \nL 365.65315 309.359243 \nz\n\" clip-path=\"url(#pb6d7f08702)\" style=\"fill: #ff0000\"/>\n   </g>\n   <g id=\"patch_53\">\n    <path d=\"M 371.750344 327.558125 \nL 374.189222 327.558125 \nL 374.189222 260.424473 \nL 371.750344 260.424473 \nz\n\" clip-path=\"url(#pb6d7f08702)\" style=\"fill: #ff0000\"/>\n   </g>\n   <g id=\"patch_54\">\n    <path d=\"M 377.847539 327.558125 \nL 380.286417 327.558125 \nL 380.286417 248.965918 \nL 377.847539 248.965918 \nz\n\" clip-path=\"url(#pb6d7f08702)\" style=\"fill: #ff0000\"/>\n   </g>\n   <g id=\"patch_55\">\n    <path d=\"M 383.944733 327.558125 \nL 386.383611 327.558125 \nL 386.383611 209.737217 \nL 383.944733 209.737217 \nz\n\" clip-path=\"url(#pb6d7f08702)\" style=\"fill: #ff0000\"/>\n   </g>\n   <g id=\"patch_56\">\n    <path d=\"M 390.041928 327.558125 \nL 392.480805 327.558125 \nL 392.480805 170.238904 \nL 390.041928 170.238904 \nz\n\" clip-path=\"url(#pb6d7f08702)\" style=\"fill: #ff0000\"/>\n   </g>\n   <g id=\"patch_57\">\n    <path d=\"M 396.139122 327.558125 \nL 398.578 327.558125 \nL 398.578 205.558215 \nL 396.139122 205.558215 \nz\n\" clip-path=\"url(#pb6d7f08702)\" style=\"fill: #ff0000\"/>\n   </g>\n   <g id=\"patch_58\">\n    <path d=\"M 402.236316 327.558125 \nL 404.675194 327.558125 \nL 404.675194 67.516328 \nL 402.236316 67.516328 \nz\n\" clip-path=\"url(#pb6d7f08702)\" style=\"fill: #ff0000\"/>\n   </g>\n   <g id=\"patch_59\">\n    <path d=\"M 408.333511 327.558125 \nL 410.772389 327.558125 \nL 410.772389 239.259848 \nL 408.333511 239.259848 \nz\n\" clip-path=\"url(#pb6d7f08702)\" style=\"fill: #ff0000\"/>\n   </g>\n   <g id=\"patch_60\">\n    <path d=\"M 414.430705 327.558125 \nL 416.869583 327.558125 \nL 416.869583 226.588034 \nL 414.430705 226.588034 \nz\n\" clip-path=\"url(#pb6d7f08702)\" style=\"fill: #ff0000\"/>\n   </g>\n   <g id=\"patch_61\">\n    <path d=\"M 420.5279 327.558125 \nL 422.966777 327.558125 \nL 422.966777 134.64998 \nL 420.5279 134.64998 \nz\n\" clip-path=\"url(#pb6d7f08702)\" style=\"fill: #ff0000\"/>\n   </g>\n   <g id=\"patch_62\">\n    <path d=\"M 426.625094 327.558125 \nL 429.063972 327.558125 \nL 429.063972 226.992453 \nL 426.625094 226.992453 \nz\n\" clip-path=\"url(#pb6d7f08702)\" style=\"fill: #ff0000\"/>\n   </g>\n   <g id=\"patch_63\">\n    <path d=\"M 432.722288 327.558125 \nL 435.161166 327.558125 \nL 435.161166 194.908499 \nL 432.722288 194.908499 \nz\n\" clip-path=\"url(#pb6d7f08702)\" style=\"fill: #ff0000\"/>\n   </g>\n   <g id=\"patch_64\">\n    <path d=\"M 438.819483 327.558125 \nL 441.25836 327.558125 \nL 441.25836 251.122822 \nL 438.819483 251.122822 \nz\n\" clip-path=\"url(#pb6d7f08702)\" style=\"fill: #ff0000\"/>\n   </g>\n   <g id=\"patch_65\">\n    <path d=\"M 444.916677 327.558125 \nL 447.355555 327.558125 \nL 447.355555 148.265439 \nL 444.916677 148.265439 \nz\n\" clip-path=\"url(#pb6d7f08702)\" style=\"fill: #ff0000\"/>\n   </g>\n   <g id=\"patch_66\">\n    <path d=\"M 451.013871 327.558125 \nL 453.452749 327.558125 \nL 453.452749 216.747157 \nL 451.013871 216.747157 \nz\n\" clip-path=\"url(#pb6d7f08702)\" style=\"fill: #ff0000\"/>\n   </g>\n   <g id=\"patch_67\">\n    <path d=\"M 457.111066 327.558125 \nL 459.549944 327.558125 \nL 459.549944 227.666486 \nL 457.111066 227.666486 \nz\n\" clip-path=\"url(#pb6d7f08702)\" style=\"fill: #ff0000\"/>\n   </g>\n   <g id=\"patch_68\">\n    <path d=\"M 463.20826 327.558125 \nL 465.647138 327.558125 \nL 465.647138 243.304043 \nL 463.20826 243.304043 \nz\n\" clip-path=\"url(#pb6d7f08702)\" style=\"fill: #ff0000\"/>\n   </g>\n   <g id=\"patch_69\">\n    <path d=\"M 469.305455 327.558125 \nL 471.744332 327.558125 \nL 471.744332 267.434412 \nL 469.305455 267.434412 \nz\n\" clip-path=\"url(#pb6d7f08702)\" style=\"fill: #ff0000\"/>\n   </g>\n   <g id=\"patch_70\">\n    <path d=\"M 475.402649 327.558125 \nL 477.841527 327.558125 \nL 477.841527 219.847707 \nL 475.402649 219.847707 \nz\n\" clip-path=\"url(#pb6d7f08702)\" style=\"fill: #ff0000\"/>\n   </g>\n   <g id=\"patch_71\">\n    <path d=\"M 481.499843 327.558125 \nL 483.938721 327.558125 \nL 483.938721 277.005676 \nL 481.499843 277.005676 \nz\n\" clip-path=\"url(#pb6d7f08702)\" style=\"fill: #ff0000\"/>\n   </g>\n   <g id=\"patch_72\">\n    <path d=\"M 487.597038 327.558125 \nL 490.035916 327.558125 \nL 490.035916 291.969201 \nL 487.597038 291.969201 \nz\n\" clip-path=\"url(#pb6d7f08702)\" style=\"fill: #ff0000\"/>\n   </g>\n   <g id=\"patch_73\">\n    <path d=\"M 493.694232 327.558125 \nL 496.13311 327.558125 \nL 496.13311 284.824455 \nL 493.694232 284.824455 \nz\n\" clip-path=\"url(#pb6d7f08702)\" style=\"fill: #ff0000\"/>\n   </g>\n   <g id=\"patch_74\">\n    <path d=\"M 499.791427 327.558125 \nL 502.230304 327.558125 \nL 502.230304 300.462012 \nL 499.791427 300.462012 \nz\n\" clip-path=\"url(#pb6d7f08702)\" style=\"fill: #ff0000\"/>\n   </g>\n   <g id=\"patch_75\">\n    <path d=\"M 505.888621 327.558125 \nL 508.327499 327.558125 \nL 508.327499 292.912847 \nL 505.888621 292.912847 \nz\n\" clip-path=\"url(#pb6d7f08702)\" style=\"fill: #ff0000\"/>\n   </g>\n   <g id=\"patch_76\">\n    <path d=\"M 511.985815 327.558125 \nL 514.424693 327.558125 \nL 514.424693 313.133826 \nL 511.985815 313.133826 \nz\n\" clip-path=\"url(#pb6d7f08702)\" style=\"fill: #ff0000\"/>\n   </g>\n   <g id=\"patch_77\">\n    <path d=\"M 518.08301 327.558125 \nL 520.521888 327.558125 \nL 520.521888 309.49405 \nL 518.08301 309.49405 \nz\n\" clip-path=\"url(#pb6d7f08702)\" style=\"fill: #ff0000\"/>\n   </g>\n   <g id=\"patch_78\">\n    <path d=\"M 524.180204 327.558125 \nL 526.619082 327.558125 \nL 526.619082 307.202339 \nL 524.180204 307.202339 \nz\n\" clip-path=\"url(#pb6d7f08702)\" style=\"fill: #ff0000\"/>\n   </g>\n   <g id=\"patch_79\">\n    <path d=\"M 530.277399 327.558125 \nL 532.716276 327.558125 \nL 532.716276 317.582442 \nL 530.277399 317.582442 \nz\n\" clip-path=\"url(#pb6d7f08702)\" style=\"fill: #ff0000\"/>\n   </g>\n   <g id=\"patch_80\">\n    <path d=\"M 536.374593 327.558125 \nL 538.813471 327.558125 \nL 538.813471 315.290731 \nL 536.374593 315.290731 \nz\n\" clip-path=\"url(#pb6d7f08702)\" style=\"fill: #ff0000\"/>\n   </g>\n   <g id=\"patch_81\">\n    <path d=\"M 542.471787 327.558125 \nL 544.910665 327.558125 \nL 544.910665 319.874153 \nL 542.471787 319.874153 \nz\n\" clip-path=\"url(#pb6d7f08702)\" style=\"fill: #ff0000\"/>\n   </g>\n   <g id=\"patch_82\">\n    <path d=\"M 548.568982 327.558125 \nL 551.007859 327.558125 \nL 551.007859 314.886311 \nL 548.568982 314.886311 \nz\n\" clip-path=\"url(#pb6d7f08702)\" style=\"fill: #ff0000\"/>\n   </g>\n   <g id=\"patch_83\">\n    <path d=\"M 554.666176 327.558125 \nL 557.105054 327.558125 \nL 557.105054 319.874153 \nL 554.666176 319.874153 \nz\n\" clip-path=\"url(#pb6d7f08702)\" style=\"fill: #ff0000\"/>\n   </g>\n   <g id=\"patch_84\">\n    <path d=\"M 560.76337 327.558125 \nL 563.202248 327.558125 \nL 563.202248 319.60454 \nL 560.76337 319.60454 \nz\n\" clip-path=\"url(#pb6d7f08702)\" style=\"fill: #ff0000\"/>\n   </g>\n   <g id=\"patch_85\">\n    <path d=\"M 566.860565 327.558125 \nL 569.299443 327.558125 \nL 569.299443 321.491831 \nL 566.860565 321.491831 \nz\n\" clip-path=\"url(#pb6d7f08702)\" style=\"fill: #ff0000\"/>\n   </g>\n   <g id=\"patch_86\">\n    <path d=\"M 572.957759 327.558125 \nL 575.396637 327.558125 \nL 575.396637 322.974703 \nL 572.957759 322.974703 \nz\n\" clip-path=\"url(#pb6d7f08702)\" style=\"fill: #ff0000\"/>\n   </g>\n   <g id=\"patch_87\">\n    <path d=\"M 579.054954 327.558125 \nL 581.493831 327.558125 \nL 581.493831 320.817798 \nL 579.054954 320.817798 \nz\n\" clip-path=\"url(#pb6d7f08702)\" style=\"fill: #ff0000\"/>\n   </g>\n   <g id=\"patch_88\">\n    <path d=\"M 585.152148 327.558125 \nL 587.591026 327.558125 \nL 587.591026 325.536027 \nL 585.152148 325.536027 \nz\n\" clip-path=\"url(#pb6d7f08702)\" style=\"fill: #ff0000\"/>\n   </g>\n   <g id=\"patch_89\">\n    <path d=\"M 591.249342 327.558125 \nL 593.68822 327.558125 \nL 593.68822 325.536027 \nL 591.249342 325.536027 \nz\n\" clip-path=\"url(#pb6d7f08702)\" style=\"fill: #ff0000\"/>\n   </g>\n   <g id=\"patch_90\">\n    <path d=\"M 597.346537 327.558125 \nL 599.785415 327.558125 \nL 599.785415 324.187962 \nL 597.346537 324.187962 \nz\n\" clip-path=\"url(#pb6d7f08702)\" style=\"fill: #ff0000\"/>\n   </g>\n   <g id=\"patch_91\">\n    <path d=\"M 603.443731 327.558125 \nL 605.882609 327.558125 \nL 605.882609 326.344866 \nL 603.443731 326.344866 \nz\n\" clip-path=\"url(#pb6d7f08702)\" style=\"fill: #ff0000\"/>\n   </g>\n   <g id=\"patch_92\">\n    <path d=\"M 609.540926 327.558125 \nL 611.979803 327.558125 \nL 611.979803 325.940447 \nL 609.540926 325.940447 \nz\n\" clip-path=\"url(#pb6d7f08702)\" style=\"fill: #ff0000\"/>\n   </g>\n   <g id=\"patch_93\">\n    <path d=\"M 615.63812 327.558125 \nL 618.076998 327.558125 \nL 618.076998 325.670834 \nL 615.63812 325.670834 \nz\n\" clip-path=\"url(#pb6d7f08702)\" style=\"fill: #ff0000\"/>\n   </g>\n   <g id=\"patch_94\">\n    <path d=\"M 621.735314 327.558125 \nL 624.174192 327.558125 \nL 624.174192 326.749286 \nL 621.735314 326.749286 \nz\n\" clip-path=\"url(#pb6d7f08702)\" style=\"fill: #ff0000\"/>\n   </g>\n   <g id=\"patch_95\">\n    <path d=\"M 627.832509 327.558125 \nL 630.271387 327.558125 \nL 630.271387 326.884092 \nL 627.832509 326.884092 \nz\n\" clip-path=\"url(#pb6d7f08702)\" style=\"fill: #ff0000\"/>\n   </g>\n   <g id=\"patch_96\">\n    <path d=\"M 633.929703 327.558125 \nL 636.368581 327.558125 \nL 636.368581 327.423318 \nL 633.929703 327.423318 \nz\n\" clip-path=\"url(#pb6d7f08702)\" style=\"fill: #ff0000\"/>\n   </g>\n   <g id=\"patch_97\">\n    <path d=\"M 640.026898 327.558125 \nL 642.465775 327.558125 \nL 642.465775 327.288512 \nL 640.026898 327.288512 \nz\n\" clip-path=\"url(#pb6d7f08702)\" style=\"fill: #ff0000\"/>\n   </g>\n   <g id=\"patch_98\">\n    <path d=\"M 646.124092 327.558125 \nL 648.56297 327.558125 \nL 648.56297 327.288512 \nL 646.124092 327.288512 \nz\n\" clip-path=\"url(#pb6d7f08702)\" style=\"fill: #ff0000\"/>\n   </g>\n   <g id=\"patch_99\">\n    <path d=\"M 652.221286 327.558125 \nL 654.660164 327.558125 \nL 654.660164 327.558125 \nL 652.221286 327.558125 \nz\n\" clip-path=\"url(#pb6d7f08702)\" style=\"fill: #ff0000\"/>\n   </g>\n   <g id=\"patch_100\">\n    <path d=\"M 658.318481 327.558125 \nL 660.757358 327.558125 \nL 660.757358 327.558125 \nL 658.318481 327.558125 \nz\n\" clip-path=\"url(#pb6d7f08702)\" style=\"fill: #ff0000\"/>\n   </g>\n   <g id=\"patch_101\">\n    <path d=\"M 664.415675 327.558125 \nL 666.854553 327.558125 \nL 666.854553 327.558125 \nL 664.415675 327.558125 \nz\n\" clip-path=\"url(#pb6d7f08702)\" style=\"fill: #ff0000\"/>\n   </g>\n   <g id=\"patch_102\">\n    <path d=\"M 670.512869 327.558125 \nL 672.951747 327.558125 \nL 672.951747 327.423318 \nL 670.512869 327.423318 \nz\n\" clip-path=\"url(#pb6d7f08702)\" style=\"fill: #ff0000\"/>\n   </g>\n   <g id=\"patch_103\">\n    <path d=\"M 69.329503 327.558125 \nL 71.768381 327.558125 \nL 71.768381 325.286994 \nL 69.329503 325.286994 \nz\n\" clip-path=\"url(#pb6d7f08702)\" style=\"fill: #0000ff\"/>\n   </g>\n   <g id=\"patch_104\">\n    <path d=\"M 75.426697 327.558125 \nL 77.865575 327.558125 \nL 77.865575 327.558125 \nL 75.426697 327.558125 \nz\n\" clip-path=\"url(#pb6d7f08702)\" style=\"fill: #0000ff\"/>\n   </g>\n   <g id=\"patch_105\">\n    <path d=\"M 81.523892 327.558125 \nL 83.962769 327.558125 \nL 83.962769 327.558125 \nL 81.523892 327.558125 \nz\n\" clip-path=\"url(#pb6d7f08702)\" style=\"fill: #0000ff\"/>\n   </g>\n   <g id=\"patch_106\">\n    <path d=\"M 87.621086 327.558125 \nL 90.059964 327.558125 \nL 90.059964 327.558125 \nL 87.621086 327.558125 \nz\n\" clip-path=\"url(#pb6d7f08702)\" style=\"fill: #0000ff\"/>\n   </g>\n   <g id=\"patch_107\">\n    <path d=\"M 93.71828 327.558125 \nL 96.157158 327.558125 \nL 96.157158 327.558125 \nL 93.71828 327.558125 \nz\n\" clip-path=\"url(#pb6d7f08702)\" style=\"fill: #0000ff\"/>\n   </g>\n   <g id=\"patch_108\">\n    <path d=\"M 99.815475 327.558125 \nL 102.254352 327.558125 \nL 102.254352 324.719211 \nL 99.815475 324.719211 \nz\n\" clip-path=\"url(#pb6d7f08702)\" style=\"fill: #0000ff\"/>\n   </g>\n   <g id=\"patch_109\">\n    <path d=\"M 105.912669 327.558125 \nL 108.351547 327.558125 \nL 108.351547 327.558125 \nL 105.912669 327.558125 \nz\n\" clip-path=\"url(#pb6d7f08702)\" style=\"fill: #0000ff\"/>\n   </g>\n   <g id=\"patch_110\">\n    <path d=\"M 112.009863 327.558125 \nL 114.448741 327.558125 \nL 114.448741 327.558125 \nL 112.009863 327.558125 \nz\n\" clip-path=\"url(#pb6d7f08702)\" style=\"fill: #0000ff\"/>\n   </g>\n   <g id=\"patch_111\">\n    <path d=\"M 118.107058 327.558125 \nL 120.545936 327.558125 \nL 120.545936 325.286994 \nL 118.107058 325.286994 \nz\n\" clip-path=\"url(#pb6d7f08702)\" style=\"fill: #0000ff\"/>\n   </g>\n   <g id=\"patch_112\">\n    <path d=\"M 124.204252 327.558125 \nL 126.64313 327.558125 \nL 126.64313 327.558125 \nL 124.204252 327.558125 \nz\n\" clip-path=\"url(#pb6d7f08702)\" style=\"fill: #0000ff\"/>\n   </g>\n   <g id=\"patch_113\">\n    <path d=\"M 130.301447 327.558125 \nL 132.740324 327.558125 \nL 132.740324 323.583646 \nL 130.301447 323.583646 \nz\n\" clip-path=\"url(#pb6d7f08702)\" style=\"fill: #0000ff\"/>\n   </g>\n   <g id=\"patch_114\">\n    <path d=\"M 136.398641 327.558125 \nL 138.837519 327.558125 \nL 138.837519 325.286994 \nL 136.398641 325.286994 \nz\n\" clip-path=\"url(#pb6d7f08702)\" style=\"fill: #0000ff\"/>\n   </g>\n   <g id=\"patch_115\">\n    <path d=\"M 142.495835 327.558125 \nL 144.934713 327.558125 \nL 144.934713 327.558125 \nL 142.495835 327.558125 \nz\n\" clip-path=\"url(#pb6d7f08702)\" style=\"fill: #0000ff\"/>\n   </g>\n   <g id=\"patch_116\">\n    <path d=\"M 148.59303 327.558125 \nL 151.031908 327.558125 \nL 151.031908 325.286994 \nL 148.59303 325.286994 \nz\n\" clip-path=\"url(#pb6d7f08702)\" style=\"fill: #0000ff\"/>\n   </g>\n   <g id=\"patch_117\">\n    <path d=\"M 154.690224 327.558125 \nL 157.129102 327.558125 \nL 157.129102 326.42256 \nL 154.690224 326.42256 \nz\n\" clip-path=\"url(#pb6d7f08702)\" style=\"fill: #0000ff\"/>\n   </g>\n   <g id=\"patch_118\">\n    <path d=\"M 160.787419 327.558125 \nL 163.226296 327.558125 \nL 163.226296 326.990342 \nL 160.787419 326.990342 \nz\n\" clip-path=\"url(#pb6d7f08702)\" style=\"fill: #0000ff\"/>\n   </g>\n   <g id=\"patch_119\">\n    <path d=\"M 166.884613 327.558125 \nL 169.323491 327.558125 \nL 169.323491 324.151429 \nL 166.884613 324.151429 \nz\n\" clip-path=\"url(#pb6d7f08702)\" style=\"fill: #0000ff\"/>\n   </g>\n   <g id=\"patch_120\">\n    <path d=\"M 172.981807 327.558125 \nL 175.420685 327.558125 \nL 175.420685 325.854777 \nL 172.981807 325.854777 \nz\n\" clip-path=\"url(#pb6d7f08702)\" style=\"fill: #0000ff\"/>\n   </g>\n   <g id=\"patch_121\">\n    <path d=\"M 179.079002 327.558125 \nL 181.51788 327.558125 \nL 181.51788 325.854777 \nL 179.079002 325.854777 \nz\n\" clip-path=\"url(#pb6d7f08702)\" style=\"fill: #0000ff\"/>\n   </g>\n   <g id=\"patch_122\">\n    <path d=\"M 185.176196 327.558125 \nL 187.615074 327.558125 \nL 187.615074 325.854777 \nL 185.176196 325.854777 \nz\n\" clip-path=\"url(#pb6d7f08702)\" style=\"fill: #0000ff\"/>\n   </g>\n   <g id=\"patch_123\">\n    <path d=\"M 191.273391 327.558125 \nL 193.712268 327.558125 \nL 193.712268 324.719211 \nL 191.273391 324.719211 \nz\n\" clip-path=\"url(#pb6d7f08702)\" style=\"fill: #0000ff\"/>\n   </g>\n   <g id=\"patch_124\">\n    <path d=\"M 197.370585 327.558125 \nL 199.809463 327.558125 \nL 199.809463 325.854777 \nL 197.370585 325.854777 \nz\n\" clip-path=\"url(#pb6d7f08702)\" style=\"fill: #0000ff\"/>\n   </g>\n   <g id=\"patch_125\">\n    <path d=\"M 203.467779 327.558125 \nL 205.906657 327.558125 \nL 205.906657 326.990342 \nL 203.467779 326.990342 \nz\n\" clip-path=\"url(#pb6d7f08702)\" style=\"fill: #0000ff\"/>\n   </g>\n   <g id=\"patch_126\">\n    <path d=\"M 209.564974 327.558125 \nL 212.003851 327.558125 \nL 212.003851 326.990342 \nL 209.564974 326.990342 \nz\n\" clip-path=\"url(#pb6d7f08702)\" style=\"fill: #0000ff\"/>\n   </g>\n   <g id=\"patch_127\">\n    <path d=\"M 215.662168 327.558125 \nL 218.101046 327.558125 \nL 218.101046 326.990342 \nL 215.662168 326.990342 \nz\n\" clip-path=\"url(#pb6d7f08702)\" style=\"fill: #0000ff\"/>\n   </g>\n   <g id=\"patch_128\">\n    <path d=\"M 221.759362 327.558125 \nL 224.19824 327.558125 \nL 224.19824 326.990342 \nL 221.759362 326.990342 \nz\n\" clip-path=\"url(#pb6d7f08702)\" style=\"fill: #0000ff\"/>\n   </g>\n   <g id=\"patch_129\">\n    <path d=\"M 227.856557 327.558125 \nL 230.295435 327.558125 \nL 230.295435 325.854777 \nL 227.856557 325.854777 \nz\n\" clip-path=\"url(#pb6d7f08702)\" style=\"fill: #0000ff\"/>\n   </g>\n   <g id=\"patch_130\">\n    <path d=\"M 233.953751 327.558125 \nL 236.392629 327.558125 \nL 236.392629 326.42256 \nL 233.953751 326.42256 \nz\n\" clip-path=\"url(#pb6d7f08702)\" style=\"fill: #0000ff\"/>\n   </g>\n   <g id=\"patch_131\">\n    <path d=\"M 240.050946 327.558125 \nL 242.489823 327.558125 \nL 242.489823 326.42256 \nL 240.050946 326.42256 \nz\n\" clip-path=\"url(#pb6d7f08702)\" style=\"fill: #0000ff\"/>\n   </g>\n   <g id=\"patch_132\">\n    <path d=\"M 246.14814 327.558125 \nL 248.587018 327.558125 \nL 248.587018 327.558125 \nL 246.14814 327.558125 \nz\n\" clip-path=\"url(#pb6d7f08702)\" style=\"fill: #0000ff\"/>\n   </g>\n   <g id=\"patch_133\">\n    <path d=\"M 252.245334 327.558125 \nL 254.684212 327.558125 \nL 254.684212 326.990342 \nL 252.245334 326.990342 \nz\n\" clip-path=\"url(#pb6d7f08702)\" style=\"fill: #0000ff\"/>\n   </g>\n   <g id=\"patch_134\">\n    <path d=\"M 258.342529 327.558125 \nL 260.781407 327.558125 \nL 260.781407 325.854777 \nL 258.342529 325.854777 \nz\n\" clip-path=\"url(#pb6d7f08702)\" style=\"fill: #0000ff\"/>\n   </g>\n   <g id=\"patch_135\">\n    <path d=\"M 264.439723 327.558125 \nL 266.878601 327.558125 \nL 266.878601 326.42256 \nL 264.439723 326.42256 \nz\n\" clip-path=\"url(#pb6d7f08702)\" style=\"fill: #0000ff\"/>\n   </g>\n   <g id=\"patch_136\">\n    <path d=\"M 270.536918 327.558125 \nL 272.975795 327.558125 \nL 272.975795 323.583646 \nL 270.536918 323.583646 \nz\n\" clip-path=\"url(#pb6d7f08702)\" style=\"fill: #0000ff\"/>\n   </g>\n   <g id=\"patch_137\">\n    <path d=\"M 276.634112 327.558125 \nL 279.07299 327.558125 \nL 279.07299 325.286994 \nL 276.634112 325.286994 \nz\n\" clip-path=\"url(#pb6d7f08702)\" style=\"fill: #0000ff\"/>\n   </g>\n   <g id=\"patch_138\">\n    <path d=\"M 282.731306 327.558125 \nL 285.170184 327.558125 \nL 285.170184 325.286994 \nL 282.731306 325.286994 \nz\n\" clip-path=\"url(#pb6d7f08702)\" style=\"fill: #0000ff\"/>\n   </g>\n   <g id=\"patch_139\">\n    <path d=\"M 288.828501 327.558125 \nL 291.267379 327.558125 \nL 291.267379 324.719211 \nL 288.828501 324.719211 \nz\n\" clip-path=\"url(#pb6d7f08702)\" style=\"fill: #0000ff\"/>\n   </g>\n   <g id=\"patch_140\">\n    <path d=\"M 294.925695 327.558125 \nL 297.364573 327.558125 \nL 297.364573 321.312515 \nL 294.925695 321.312515 \nz\n\" clip-path=\"url(#pb6d7f08702)\" style=\"fill: #0000ff\"/>\n   </g>\n   <g id=\"patch_141\">\n    <path d=\"M 301.02289 327.558125 \nL 303.461767 327.558125 \nL 303.461767 321.312515 \nL 301.02289 321.312515 \nz\n\" clip-path=\"url(#pb6d7f08702)\" style=\"fill: #0000ff\"/>\n   </g>\n   <g id=\"patch_142\">\n    <path d=\"M 307.120084 327.558125 \nL 309.558962 327.558125 \nL 309.558962 321.880298 \nL 307.120084 321.880298 \nz\n\" clip-path=\"url(#pb6d7f08702)\" style=\"fill: #0000ff\"/>\n   </g>\n   <g id=\"patch_143\">\n    <path d=\"M 313.217278 327.558125 \nL 315.656156 327.558125 \nL 315.656156 319.609167 \nL 313.217278 319.609167 \nz\n\" clip-path=\"url(#pb6d7f08702)\" style=\"fill: #0000ff\"/>\n   </g>\n   <g id=\"patch_144\">\n    <path d=\"M 319.314473 327.558125 \nL 321.75335 327.558125 \nL 321.75335 317.905818 \nL 319.314473 317.905818 \nz\n\" clip-path=\"url(#pb6d7f08702)\" style=\"fill: #0000ff\"/>\n   </g>\n   <g id=\"patch_145\">\n    <path d=\"M 325.411667 327.558125 \nL 327.850545 327.558125 \nL 327.850545 300.872336 \nL 325.411667 300.872336 \nz\n\" clip-path=\"url(#pb6d7f08702)\" style=\"fill: #0000ff\"/>\n   </g>\n   <g id=\"patch_146\">\n    <path d=\"M 331.508861 327.558125 \nL 333.947739 327.558125 \nL 333.947739 282.135506 \nL 331.508861 282.135506 \nz\n\" clip-path=\"url(#pb6d7f08702)\" style=\"fill: #0000ff\"/>\n   </g>\n   <g id=\"patch_147\">\n    <path d=\"M 337.606056 327.558125 \nL 340.044934 327.558125 \nL 340.044934 314.499122 \nL 337.606056 314.499122 \nz\n\" clip-path=\"url(#pb6d7f08702)\" style=\"fill: #0000ff\"/>\n   </g>\n   <g id=\"patch_148\">\n    <path d=\"M 343.70325 327.558125 \nL 346.142128 327.558125 \nL 346.142128 312.795774 \nL 343.70325 312.795774 \nz\n\" clip-path=\"url(#pb6d7f08702)\" style=\"fill: #0000ff\"/>\n   </g>\n   <g id=\"patch_149\">\n    <path d=\"M 349.800445 327.558125 \nL 352.239322 327.558125 \nL 352.239322 313.931339 \nL 349.800445 313.931339 \nz\n\" clip-path=\"url(#pb6d7f08702)\" style=\"fill: #0000ff\"/>\n   </g>\n   <g id=\"patch_150\">\n    <path d=\"M 355.897639 327.558125 \nL 358.336517 327.558125 \nL 358.336517 305.414598 \nL 355.897639 305.414598 \nz\n\" clip-path=\"url(#pb6d7f08702)\" style=\"fill: #0000ff\"/>\n   </g>\n   <g id=\"patch_151\">\n    <path d=\"M 361.994833 327.558125 \nL 364.433711 327.558125 \nL 364.433711 301.440119 \nL 361.994833 301.440119 \nz\n\" clip-path=\"url(#pb6d7f08702)\" style=\"fill: #0000ff\"/>\n   </g>\n   <g id=\"patch_152\">\n    <path d=\"M 368.092028 327.558125 \nL 370.530906 327.558125 \nL 370.530906 307.117946 \nL 368.092028 307.117946 \nz\n\" clip-path=\"url(#pb6d7f08702)\" style=\"fill: #0000ff\"/>\n   </g>\n   <g id=\"patch_153\">\n    <path d=\"M 374.189222 327.558125 \nL 376.6281 327.558125 \nL 376.6281 235.009539 \nL 374.189222 235.009539 \nz\n\" clip-path=\"url(#pb6d7f08702)\" style=\"fill: #0000ff\"/>\n   </g>\n   <g id=\"patch_154\">\n    <path d=\"M 380.286417 327.558125 \nL 382.725294 327.558125 \nL 382.725294 225.357232 \nL 380.286417 225.357232 \nz\n\" clip-path=\"url(#pb6d7f08702)\" style=\"fill: #0000ff\"/>\n   </g>\n   <g id=\"patch_155\">\n    <path d=\"M 386.383611 327.558125 \nL 388.822489 327.558125 \nL 388.822489 194.696964 \nL 386.383611 194.696964 \nz\n\" clip-path=\"url(#pb6d7f08702)\" style=\"fill: #0000ff\"/>\n   </g>\n   <g id=\"patch_156\">\n    <path d=\"M 392.480805 327.558125 \nL 394.919683 327.558125 \nL 394.919683 116.342946 \nL 392.480805 116.342946 \nz\n\" clip-path=\"url(#pb6d7f08702)\" style=\"fill: #0000ff\"/>\n   </g>\n   <g id=\"patch_157\">\n    <path d=\"M 398.578 327.558125 \nL 401.016878 327.558125 \nL 401.016878 182.773527 \nL 398.578 182.773527 \nz\n\" clip-path=\"url(#pb6d7f08702)\" style=\"fill: #0000ff\"/>\n   </g>\n   <g id=\"patch_158\">\n    <path d=\"M 404.675194 327.558125 \nL 407.114072 327.558125 \nL 407.114072 36.853363 \nL 404.675194 36.853363 \nz\n\" clip-path=\"url(#pb6d7f08702)\" style=\"fill: #0000ff\"/>\n   </g>\n   <g id=\"patch_159\">\n    <path d=\"M 410.772389 327.558125 \nL 413.211266 327.558125 \nL 413.211266 224.221667 \nL 410.772389 224.221667 \nz\n\" clip-path=\"url(#pb6d7f08702)\" style=\"fill: #0000ff\"/>\n   </g>\n   <g id=\"patch_160\">\n    <path d=\"M 416.869583 327.558125 \nL 419.308461 327.558125 \nL 419.308461 203.781488 \nL 416.869583 203.781488 \nz\n\" clip-path=\"url(#pb6d7f08702)\" style=\"fill: #0000ff\"/>\n   </g>\n   <g id=\"patch_161\">\n    <path d=\"M 422.966777 327.558125 \nL 425.405655 327.558125 \nL 425.405655 100.44503 \nL 422.966777 100.44503 \nz\n\" clip-path=\"url(#pb6d7f08702)\" style=\"fill: #0000ff\"/>\n   </g>\n   <g id=\"patch_162\">\n    <path d=\"M 429.063972 327.558125 \nL 431.502849 327.558125 \nL 431.502849 207.755967 \nL 429.063972 207.755967 \nz\n\" clip-path=\"url(#pb6d7f08702)\" style=\"fill: #0000ff\"/>\n   </g>\n   <g id=\"patch_163\">\n    <path d=\"M 435.161166 327.558125 \nL 437.600044 327.558125 \nL 437.600044 189.019137 \nL 435.161166 189.019137 \nz\n\" clip-path=\"url(#pb6d7f08702)\" style=\"fill: #0000ff\"/>\n   </g>\n   <g id=\"patch_164\">\n    <path d=\"M 441.25836 327.558125 \nL 443.697238 327.558125 \nL 443.697238 247.500759 \nL 441.25836 247.500759 \nz\n\" clip-path=\"url(#pb6d7f08702)\" style=\"fill: #0000ff\"/>\n   </g>\n   <g id=\"patch_165\">\n    <path d=\"M 447.355555 327.558125 \nL 449.794433 327.558125 \nL 449.794433 195.264747 \nL 447.355555 195.264747 \nz\n\" clip-path=\"url(#pb6d7f08702)\" style=\"fill: #0000ff\"/>\n   </g>\n   <g id=\"patch_166\">\n    <path d=\"M 453.452749 327.558125 \nL 455.891627 327.558125 \nL 455.891627 250.339673 \nL 453.452749 250.339673 \nz\n\" clip-path=\"url(#pb6d7f08702)\" style=\"fill: #0000ff\"/>\n   </g>\n   <g id=\"patch_167\">\n    <path d=\"M 459.549944 327.558125 \nL 461.988821 327.558125 \nL 461.988821 253.746369 \nL 459.549944 253.746369 \nz\n\" clip-path=\"url(#pb6d7f08702)\" style=\"fill: #0000ff\"/>\n   </g>\n   <g id=\"patch_168\">\n    <path d=\"M 465.647138 327.558125 \nL 468.086016 327.558125 \nL 468.086016 259.991979 \nL 465.647138 259.991979 \nz\n\" clip-path=\"url(#pb6d7f08702)\" style=\"fill: #0000ff\"/>\n   </g>\n   <g id=\"patch_169\">\n    <path d=\"M 471.744332 327.558125 \nL 474.18321 327.558125 \nL 474.18321 278.161027 \nL 471.744332 278.161027 \nz\n\" clip-path=\"url(#pb6d7f08702)\" style=\"fill: #0000ff\"/>\n   </g>\n   <g id=\"patch_170\">\n    <path d=\"M 477.841527 327.558125 \nL 480.280405 327.558125 \nL 480.280405 266.805372 \nL 477.841527 266.805372 \nz\n\" clip-path=\"url(#pb6d7f08702)\" style=\"fill: #0000ff\"/>\n   </g>\n   <g id=\"patch_171\">\n    <path d=\"M 483.938721 327.558125 \nL 486.377599 327.558125 \nL 486.377599 290.652247 \nL 483.938721 290.652247 \nz\n\" clip-path=\"url(#pb6d7f08702)\" style=\"fill: #0000ff\"/>\n   </g>\n   <g id=\"patch_172\">\n    <path d=\"M 490.035916 327.558125 \nL 492.474793 327.558125 \nL 492.474793 291.22003 \nL 490.035916 291.22003 \nz\n\" clip-path=\"url(#pb6d7f08702)\" style=\"fill: #0000ff\"/>\n   </g>\n   <g id=\"patch_173\">\n    <path d=\"M 496.13311 327.558125 \nL 498.571988 327.558125 \nL 498.571988 298.033423 \nL 496.13311 298.033423 \nz\n\" clip-path=\"url(#pb6d7f08702)\" style=\"fill: #0000ff\"/>\n   </g>\n   <g id=\"patch_174\">\n    <path d=\"M 502.230304 327.558125 \nL 504.669182 327.558125 \nL 504.669182 312.227991 \nL 502.230304 312.227991 \nz\n\" clip-path=\"url(#pb6d7f08702)\" style=\"fill: #0000ff\"/>\n   </g>\n   <g id=\"patch_175\">\n    <path d=\"M 508.327499 327.558125 \nL 510.766377 327.558125 \nL 510.766377 307.117946 \nL 508.327499 307.117946 \nz\n\" clip-path=\"url(#pb6d7f08702)\" style=\"fill: #0000ff\"/>\n   </g>\n   <g id=\"patch_176\">\n    <path d=\"M 514.424693 327.558125 \nL 516.863571 327.558125 \nL 516.863571 317.905818 \nL 514.424693 317.905818 \nz\n\" clip-path=\"url(#pb6d7f08702)\" style=\"fill: #0000ff\"/>\n   </g>\n   <g id=\"patch_177\">\n    <path d=\"M 520.521888 327.558125 \nL 522.960765 327.558125 \nL 522.960765 319.041384 \nL 520.521888 319.041384 \nz\n\" clip-path=\"url(#pb6d7f08702)\" style=\"fill: #0000ff\"/>\n   </g>\n   <g id=\"patch_178\">\n    <path d=\"M 526.619082 327.558125 \nL 529.05796 327.558125 \nL 529.05796 320.176949 \nL 526.619082 320.176949 \nz\n\" clip-path=\"url(#pb6d7f08702)\" style=\"fill: #0000ff\"/>\n   </g>\n   <g id=\"patch_179\">\n    <path d=\"M 532.716276 327.558125 \nL 535.155154 327.558125 \nL 535.155154 321.312515 \nL 532.716276 321.312515 \nz\n\" clip-path=\"url(#pb6d7f08702)\" style=\"fill: #0000ff\"/>\n   </g>\n   <g id=\"patch_180\">\n    <path d=\"M 538.813471 327.558125 \nL 541.252348 327.558125 \nL 541.252348 325.286994 \nL 538.813471 325.286994 \nz\n\" clip-path=\"url(#pb6d7f08702)\" style=\"fill: #0000ff\"/>\n   </g>\n   <g id=\"patch_181\">\n    <path d=\"M 544.910665 327.558125 \nL 547.349543 327.558125 \nL 547.349543 324.151429 \nL 544.910665 324.151429 \nz\n\" clip-path=\"url(#pb6d7f08702)\" style=\"fill: #0000ff\"/>\n   </g>\n   <g id=\"patch_182\">\n    <path d=\"M 551.007859 327.558125 \nL 553.446737 327.558125 \nL 553.446737 321.880298 \nL 551.007859 321.880298 \nz\n\" clip-path=\"url(#pb6d7f08702)\" style=\"fill: #0000ff\"/>\n   </g>\n   <g id=\"patch_183\">\n    <path d=\"M 557.105054 327.558125 \nL 559.543932 327.558125 \nL 559.543932 321.880298 \nL 557.105054 321.880298 \nz\n\" clip-path=\"url(#pb6d7f08702)\" style=\"fill: #0000ff\"/>\n   </g>\n   <g id=\"patch_184\">\n    <path d=\"M 563.202248 327.558125 \nL 565.641126 327.558125 \nL 565.641126 325.854777 \nL 563.202248 325.854777 \nz\n\" clip-path=\"url(#pb6d7f08702)\" style=\"fill: #0000ff\"/>\n   </g>\n   <g id=\"patch_185\">\n    <path d=\"M 569.299443 327.558125 \nL 571.73832 327.558125 \nL 571.73832 326.42256 \nL 569.299443 326.42256 \nz\n\" clip-path=\"url(#pb6d7f08702)\" style=\"fill: #0000ff\"/>\n   </g>\n   <g id=\"patch_186\">\n    <path d=\"M 575.396637 327.558125 \nL 577.835515 327.558125 \nL 577.835515 326.42256 \nL 575.396637 326.42256 \nz\n\" clip-path=\"url(#pb6d7f08702)\" style=\"fill: #0000ff\"/>\n   </g>\n   <g id=\"patch_187\">\n    <path d=\"M 581.493831 327.558125 \nL 583.932709 327.558125 \nL 583.932709 326.42256 \nL 581.493831 326.42256 \nz\n\" clip-path=\"url(#pb6d7f08702)\" style=\"fill: #0000ff\"/>\n   </g>\n   <g id=\"patch_188\">\n    <path d=\"M 587.591026 327.558125 \nL 590.029904 327.558125 \nL 590.029904 325.854777 \nL 587.591026 325.854777 \nz\n\" clip-path=\"url(#pb6d7f08702)\" style=\"fill: #0000ff\"/>\n   </g>\n   <g id=\"patch_189\">\n    <path d=\"M 593.68822 327.558125 \nL 596.127098 327.558125 \nL 596.127098 326.42256 \nL 593.68822 326.42256 \nz\n\" clip-path=\"url(#pb6d7f08702)\" style=\"fill: #0000ff\"/>\n   </g>\n   <g id=\"patch_190\">\n    <path d=\"M 599.785415 327.558125 \nL 602.224292 327.558125 \nL 602.224292 326.42256 \nL 599.785415 326.42256 \nz\n\" clip-path=\"url(#pb6d7f08702)\" style=\"fill: #0000ff\"/>\n   </g>\n   <g id=\"patch_191\">\n    <path d=\"M 605.882609 327.558125 \nL 608.321487 327.558125 \nL 608.321487 326.990342 \nL 605.882609 326.990342 \nz\n\" clip-path=\"url(#pb6d7f08702)\" style=\"fill: #0000ff\"/>\n   </g>\n   <g id=\"patch_192\">\n    <path d=\"M 611.979803 327.558125 \nL 614.418681 327.558125 \nL 614.418681 327.558125 \nL 611.979803 327.558125 \nz\n\" clip-path=\"url(#pb6d7f08702)\" style=\"fill: #0000ff\"/>\n   </g>\n   <g id=\"patch_193\">\n    <path d=\"M 618.076998 327.558125 \nL 620.515876 327.558125 \nL 620.515876 326.42256 \nL 618.076998 326.42256 \nz\n\" clip-path=\"url(#pb6d7f08702)\" style=\"fill: #0000ff\"/>\n   </g>\n   <g id=\"patch_194\">\n    <path d=\"M 624.174192 327.558125 \nL 626.61307 327.558125 \nL 626.61307 327.558125 \nL 624.174192 327.558125 \nz\n\" clip-path=\"url(#pb6d7f08702)\" style=\"fill: #0000ff\"/>\n   </g>\n   <g id=\"patch_195\">\n    <path d=\"M 630.271387 327.558125 \nL 632.710264 327.558125 \nL 632.710264 326.990342 \nL 630.271387 326.990342 \nz\n\" clip-path=\"url(#pb6d7f08702)\" style=\"fill: #0000ff\"/>\n   </g>\n   <g id=\"patch_196\">\n    <path d=\"M 636.368581 327.558125 \nL 638.807459 327.558125 \nL 638.807459 327.558125 \nL 636.368581 327.558125 \nz\n\" clip-path=\"url(#pb6d7f08702)\" style=\"fill: #0000ff\"/>\n   </g>\n   <g id=\"patch_197\">\n    <path d=\"M 642.465775 327.558125 \nL 644.904653 327.558125 \nL 644.904653 327.558125 \nL 642.465775 327.558125 \nz\n\" clip-path=\"url(#pb6d7f08702)\" style=\"fill: #0000ff\"/>\n   </g>\n   <g id=\"patch_198\">\n    <path d=\"M 648.56297 327.558125 \nL 651.001847 327.558125 \nL 651.001847 327.558125 \nL 648.56297 327.558125 \nz\n\" clip-path=\"url(#pb6d7f08702)\" style=\"fill: #0000ff\"/>\n   </g>\n   <g id=\"patch_199\">\n    <path d=\"M 654.660164 327.558125 \nL 657.099042 327.558125 \nL 657.099042 327.558125 \nL 654.660164 327.558125 \nz\n\" clip-path=\"url(#pb6d7f08702)\" style=\"fill: #0000ff\"/>\n   </g>\n   <g id=\"patch_200\">\n    <path d=\"M 660.757358 327.558125 \nL 663.196236 327.558125 \nL 663.196236 327.558125 \nL 660.757358 327.558125 \nz\n\" clip-path=\"url(#pb6d7f08702)\" style=\"fill: #0000ff\"/>\n   </g>\n   <g id=\"patch_201\">\n    <path d=\"M 666.854553 327.558125 \nL 669.293431 327.558125 \nL 669.293431 327.558125 \nL 666.854553 327.558125 \nz\n\" clip-path=\"url(#pb6d7f08702)\" style=\"fill: #0000ff\"/>\n   </g>\n   <g id=\"patch_202\">\n    <path d=\"M 672.951747 327.558125 \nL 675.390625 327.558125 \nL 675.390625 327.558125 \nL 672.951747 327.558125 \nz\n\" clip-path=\"url(#pb6d7f08702)\" style=\"fill: #0000ff\"/>\n   </g>\n   <g id=\"matplotlib.axis_1\">\n    <g id=\"xtick_1\">\n     <g id=\"line2d_1\">\n      <path d=\"M 66.280906 327.558125 \nL 66.280906 22.318125 \n\" clip-path=\"url(#pb6d7f08702)\" style=\"fill: none; stroke: #b0b0b0; stroke-width: 0.8; stroke-linecap: square\"/>\n     </g>\n     <g id=\"line2d_2\">\n      <defs>\n       <path id=\"mc122550754\" d=\"M 0 0 \nL 0 3.5 \n\" style=\"stroke: #000000; stroke-width: 0.8\"/>\n      </defs>\n      <g>\n       <use xlink:href=\"#mc122550754\" x=\"66.280906\" y=\"327.558125\" style=\"stroke: #000000; stroke-width: 0.8\"/>\n      </g>\n     </g>\n     <g id=\"text_1\">\n      <!-- 0 -->\n      <g transform=\"translate(63.099656 342.156563) scale(0.1 -0.1)\">\n       <defs>\n        <path id=\"DejaVuSans-30\" d=\"M 2034 4250 \nQ 1547 4250 1301 3770 \nQ 1056 3291 1056 2328 \nQ 1056 1369 1301 889 \nQ 1547 409 2034 409 \nQ 2525 409 2770 889 \nQ 3016 1369 3016 2328 \nQ 3016 3291 2770 3770 \nQ 2525 4250 2034 4250 \nz\nM 2034 4750 \nQ 2819 4750 3233 4129 \nQ 3647 3509 3647 2328 \nQ 3647 1150 3233 529 \nQ 2819 -91 2034 -91 \nQ 1250 -91 836 529 \nQ 422 1150 422 2328 \nQ 422 3509 836 4129 \nQ 1250 4750 2034 4750 \nz\n\" transform=\"scale(0.015625)\"/>\n       </defs>\n       <use xlink:href=\"#DejaVuSans-30\"/>\n      </g>\n     </g>\n    </g>\n    <g id=\"xtick_2\">\n     <g id=\"line2d_3\">\n      <path d=\"M 168.90501 327.558125 \nL 168.90501 22.318125 \n\" clip-path=\"url(#pb6d7f08702)\" style=\"fill: none; stroke: #b0b0b0; stroke-width: 0.8; stroke-linecap: square\"/>\n     </g>\n     <g id=\"line2d_4\">\n      <g>\n       <use xlink:href=\"#mc122550754\" x=\"168.90501\" y=\"327.558125\" style=\"stroke: #000000; stroke-width: 0.8\"/>\n      </g>\n     </g>\n     <g id=\"text_2\">\n      <!-- 1 -->\n      <g transform=\"translate(165.72376 342.156563) scale(0.1 -0.1)\">\n       <defs>\n        <path id=\"DejaVuSans-31\" d=\"M 794 531 \nL 1825 531 \nL 1825 4091 \nL 703 3866 \nL 703 4441 \nL 1819 4666 \nL 2450 4666 \nL 2450 531 \nL 3481 531 \nL 3481 0 \nL 794 0 \nL 794 531 \nz\n\" transform=\"scale(0.015625)\"/>\n       </defs>\n       <use xlink:href=\"#DejaVuSans-31\"/>\n      </g>\n     </g>\n    </g>\n    <g id=\"xtick_3\">\n     <g id=\"line2d_5\">\n      <path d=\"M 271.529115 327.558125 \nL 271.529115 22.318125 \n\" clip-path=\"url(#pb6d7f08702)\" style=\"fill: none; stroke: #b0b0b0; stroke-width: 0.8; stroke-linecap: square\"/>\n     </g>\n     <g id=\"line2d_6\">\n      <g>\n       <use xlink:href=\"#mc122550754\" x=\"271.529115\" y=\"327.558125\" style=\"stroke: #000000; stroke-width: 0.8\"/>\n      </g>\n     </g>\n     <g id=\"text_3\">\n      <!-- 2 -->\n      <g transform=\"translate(268.347865 342.156563) scale(0.1 -0.1)\">\n       <defs>\n        <path id=\"DejaVuSans-32\" d=\"M 1228 531 \nL 3431 531 \nL 3431 0 \nL 469 0 \nL 469 531 \nQ 828 903 1448 1529 \nQ 2069 2156 2228 2338 \nQ 2531 2678 2651 2914 \nQ 2772 3150 2772 3378 \nQ 2772 3750 2511 3984 \nQ 2250 4219 1831 4219 \nQ 1534 4219 1204 4116 \nQ 875 4013 500 3803 \nL 500 4441 \nQ 881 4594 1212 4672 \nQ 1544 4750 1819 4750 \nQ 2544 4750 2975 4387 \nQ 3406 4025 3406 3419 \nQ 3406 3131 3298 2873 \nQ 3191 2616 2906 2266 \nQ 2828 2175 2409 1742 \nQ 1991 1309 1228 531 \nz\n\" transform=\"scale(0.015625)\"/>\n       </defs>\n       <use xlink:href=\"#DejaVuSans-32\"/>\n      </g>\n     </g>\n    </g>\n    <g id=\"xtick_4\">\n     <g id=\"line2d_7\">\n      <path d=\"M 374.153219 327.558125 \nL 374.153219 22.318125 \n\" clip-path=\"url(#pb6d7f08702)\" style=\"fill: none; stroke: #b0b0b0; stroke-width: 0.8; stroke-linecap: square\"/>\n     </g>\n     <g id=\"line2d_8\">\n      <g>\n       <use xlink:href=\"#mc122550754\" x=\"374.153219\" y=\"327.558125\" style=\"stroke: #000000; stroke-width: 0.8\"/>\n      </g>\n     </g>\n     <g id=\"text_4\">\n      <!-- 3 -->\n      <g transform=\"translate(370.971969 342.156563) scale(0.1 -0.1)\">\n       <defs>\n        <path id=\"DejaVuSans-33\" d=\"M 2597 2516 \nQ 3050 2419 3304 2112 \nQ 3559 1806 3559 1356 \nQ 3559 666 3084 287 \nQ 2609 -91 1734 -91 \nQ 1441 -91 1130 -33 \nQ 819 25 488 141 \nL 488 750 \nQ 750 597 1062 519 \nQ 1375 441 1716 441 \nQ 2309 441 2620 675 \nQ 2931 909 2931 1356 \nQ 2931 1769 2642 2001 \nQ 2353 2234 1838 2234 \nL 1294 2234 \nL 1294 2753 \nL 1863 2753 \nQ 2328 2753 2575 2939 \nQ 2822 3125 2822 3475 \nQ 2822 3834 2567 4026 \nQ 2313 4219 1838 4219 \nQ 1578 4219 1281 4162 \nQ 984 4106 628 3988 \nL 628 4550 \nQ 988 4650 1302 4700 \nQ 1616 4750 1894 4750 \nQ 2613 4750 3031 4423 \nQ 3450 4097 3450 3541 \nQ 3450 3153 3228 2886 \nQ 3006 2619 2597 2516 \nz\n\" transform=\"scale(0.015625)\"/>\n       </defs>\n       <use xlink:href=\"#DejaVuSans-33\"/>\n      </g>\n     </g>\n    </g>\n    <g id=\"xtick_5\">\n     <g id=\"line2d_9\">\n      <path d=\"M 476.777324 327.558125 \nL 476.777324 22.318125 \n\" clip-path=\"url(#pb6d7f08702)\" style=\"fill: none; stroke: #b0b0b0; stroke-width: 0.8; stroke-linecap: square\"/>\n     </g>\n     <g id=\"line2d_10\">\n      <g>\n       <use xlink:href=\"#mc122550754\" x=\"476.777324\" y=\"327.558125\" style=\"stroke: #000000; stroke-width: 0.8\"/>\n      </g>\n     </g>\n     <g id=\"text_5\">\n      <!-- 4 -->\n      <g transform=\"translate(473.596074 342.156563) scale(0.1 -0.1)\">\n       <defs>\n        <path id=\"DejaVuSans-34\" d=\"M 2419 4116 \nL 825 1625 \nL 2419 1625 \nL 2419 4116 \nz\nM 2253 4666 \nL 3047 4666 \nL 3047 1625 \nL 3713 1625 \nL 3713 1100 \nL 3047 1100 \nL 3047 0 \nL 2419 0 \nL 2419 1100 \nL 313 1100 \nL 313 1709 \nL 2253 4666 \nz\n\" transform=\"scale(0.015625)\"/>\n       </defs>\n       <use xlink:href=\"#DejaVuSans-34\"/>\n      </g>\n     </g>\n    </g>\n    <g id=\"xtick_6\">\n     <g id=\"line2d_11\">\n      <path d=\"M 579.401428 327.558125 \nL 579.401428 22.318125 \n\" clip-path=\"url(#pb6d7f08702)\" style=\"fill: none; stroke: #b0b0b0; stroke-width: 0.8; stroke-linecap: square\"/>\n     </g>\n     <g id=\"line2d_12\">\n      <g>\n       <use xlink:href=\"#mc122550754\" x=\"579.401428\" y=\"327.558125\" style=\"stroke: #000000; stroke-width: 0.8\"/>\n      </g>\n     </g>\n     <g id=\"text_6\">\n      <!-- 5 -->\n      <g transform=\"translate(576.220178 342.156563) scale(0.1 -0.1)\">\n       <defs>\n        <path id=\"DejaVuSans-35\" d=\"M 691 4666 \nL 3169 4666 \nL 3169 4134 \nL 1269 4134 \nL 1269 2991 \nQ 1406 3038 1543 3061 \nQ 1681 3084 1819 3084 \nQ 2600 3084 3056 2656 \nQ 3513 2228 3513 1497 \nQ 3513 744 3044 326 \nQ 2575 -91 1722 -91 \nQ 1428 -91 1123 -41 \nQ 819 9 494 109 \nL 494 744 \nQ 775 591 1075 516 \nQ 1375 441 1709 441 \nQ 2250 441 2565 725 \nQ 2881 1009 2881 1497 \nQ 2881 1984 2565 2268 \nQ 2250 2553 1709 2553 \nQ 1456 2553 1204 2497 \nQ 953 2441 691 2322 \nL 691 4666 \nz\n\" transform=\"scale(0.015625)\"/>\n       </defs>\n       <use xlink:href=\"#DejaVuSans-35\"/>\n      </g>\n     </g>\n    </g>\n    <g id=\"xtick_7\">\n     <g id=\"line2d_13\">\n      <path d=\"M 682.025533 327.558125 \nL 682.025533 22.318125 \n\" clip-path=\"url(#pb6d7f08702)\" style=\"fill: none; stroke: #b0b0b0; stroke-width: 0.8; stroke-linecap: square\"/>\n     </g>\n     <g id=\"line2d_14\">\n      <g>\n       <use xlink:href=\"#mc122550754\" x=\"682.025533\" y=\"327.558125\" style=\"stroke: #000000; stroke-width: 0.8\"/>\n      </g>\n     </g>\n     <g id=\"text_7\">\n      <!-- 6 -->\n      <g transform=\"translate(678.844283 342.156563) scale(0.1 -0.1)\">\n       <defs>\n        <path id=\"DejaVuSans-36\" d=\"M 2113 2584 \nQ 1688 2584 1439 2293 \nQ 1191 2003 1191 1497 \nQ 1191 994 1439 701 \nQ 1688 409 2113 409 \nQ 2538 409 2786 701 \nQ 3034 994 3034 1497 \nQ 3034 2003 2786 2293 \nQ 2538 2584 2113 2584 \nz\nM 3366 4563 \nL 3366 3988 \nQ 3128 4100 2886 4159 \nQ 2644 4219 2406 4219 \nQ 1781 4219 1451 3797 \nQ 1122 3375 1075 2522 \nQ 1259 2794 1537 2939 \nQ 1816 3084 2150 3084 \nQ 2853 3084 3261 2657 \nQ 3669 2231 3669 1497 \nQ 3669 778 3244 343 \nQ 2819 -91 2113 -91 \nQ 1303 -91 875 529 \nQ 447 1150 447 2328 \nQ 447 3434 972 4092 \nQ 1497 4750 2381 4750 \nQ 2619 4750 2861 4703 \nQ 3103 4656 3366 4563 \nz\n\" transform=\"scale(0.015625)\"/>\n       </defs>\n       <use xlink:href=\"#DejaVuSans-36\"/>\n      </g>\n     </g>\n    </g>\n   </g>\n   <g id=\"matplotlib.axis_2\">\n    <g id=\"ytick_1\">\n     <g id=\"line2d_15\">\n      <path d=\"M 36.465625 327.558125 \nL 705.815625 327.558125 \n\" clip-path=\"url(#pb6d7f08702)\" style=\"fill: none; stroke: #b0b0b0; stroke-width: 0.8; stroke-linecap: square\"/>\n     </g>\n     <g id=\"line2d_16\">\n      <defs>\n       <path id=\"m6c137e801b\" d=\"M 0 0 \nL -3.5 0 \n\" style=\"stroke: #000000; stroke-width: 0.8\"/>\n      </defs>\n      <g>\n       <use xlink:href=\"#m6c137e801b\" x=\"36.465625\" y=\"327.558125\" style=\"stroke: #000000; stroke-width: 0.8\"/>\n      </g>\n     </g>\n     <g id=\"text_8\">\n      <!-- 0 -->\n      <g transform=\"translate(23.103125 331.357344) scale(0.1 -0.1)\">\n       <use xlink:href=\"#DejaVuSans-30\"/>\n      </g>\n     </g>\n    </g>\n    <g id=\"ytick_2\">\n     <g id=\"line2d_17\">\n      <path d=\"M 36.465625 287.507894 \nL 705.815625 287.507894 \n\" clip-path=\"url(#pb6d7f08702)\" style=\"fill: none; stroke: #b0b0b0; stroke-width: 0.8; stroke-linecap: square\"/>\n     </g>\n     <g id=\"line2d_18\">\n      <g>\n       <use xlink:href=\"#m6c137e801b\" x=\"36.465625\" y=\"287.507894\" style=\"stroke: #000000; stroke-width: 0.8\"/>\n      </g>\n     </g>\n     <g id=\"text_9\">\n      <!-- 0.25 -->\n      <g transform=\"translate(7.2 291.307113) scale(0.1 -0.1)\">\n       <defs>\n        <path id=\"DejaVuSans-2e\" d=\"M 684 794 \nL 1344 794 \nL 1344 0 \nL 684 0 \nL 684 794 \nz\n\" transform=\"scale(0.015625)\"/>\n       </defs>\n       <use xlink:href=\"#DejaVuSans-30\"/>\n       <use xlink:href=\"#DejaVuSans-2e\" x=\"63.623047\"/>\n       <use xlink:href=\"#DejaVuSans-32\" x=\"95.410156\"/>\n       <use xlink:href=\"#DejaVuSans-35\" x=\"159.033203\"/>\n      </g>\n     </g>\n    </g>\n    <g id=\"ytick_3\">\n     <g id=\"line2d_19\">\n      <path d=\"M 36.465625 247.457663 \nL 705.815625 247.457663 \n\" clip-path=\"url(#pb6d7f08702)\" style=\"fill: none; stroke: #b0b0b0; stroke-width: 0.8; stroke-linecap: square\"/>\n     </g>\n     <g id=\"line2d_20\">\n      <g>\n       <use xlink:href=\"#m6c137e801b\" x=\"36.465625\" y=\"247.457663\" style=\"stroke: #000000; stroke-width: 0.8\"/>\n      </g>\n     </g>\n     <g id=\"text_10\">\n      <!-- 0.5 -->\n      <g transform=\"translate(13.5625 251.256882) scale(0.1 -0.1)\">\n       <use xlink:href=\"#DejaVuSans-30\"/>\n       <use xlink:href=\"#DejaVuSans-2e\" x=\"63.623047\"/>\n       <use xlink:href=\"#DejaVuSans-35\" x=\"95.410156\"/>\n      </g>\n     </g>\n    </g>\n    <g id=\"ytick_4\">\n     <g id=\"line2d_21\">\n      <path d=\"M 36.465625 207.407432 \nL 705.815625 207.407432 \n\" clip-path=\"url(#pb6d7f08702)\" style=\"fill: none; stroke: #b0b0b0; stroke-width: 0.8; stroke-linecap: square\"/>\n     </g>\n     <g id=\"line2d_22\">\n      <g>\n       <use xlink:href=\"#m6c137e801b\" x=\"36.465625\" y=\"207.407432\" style=\"stroke: #000000; stroke-width: 0.8\"/>\n      </g>\n     </g>\n     <g id=\"text_11\">\n      <!-- 0.75 -->\n      <g transform=\"translate(7.2 211.206651) scale(0.1 -0.1)\">\n       <defs>\n        <path id=\"DejaVuSans-37\" d=\"M 525 4666 \nL 3525 4666 \nL 3525 4397 \nL 1831 0 \nL 1172 0 \nL 2766 4134 \nL 525 4134 \nL 525 4666 \nz\n\" transform=\"scale(0.015625)\"/>\n       </defs>\n       <use xlink:href=\"#DejaVuSans-30\"/>\n       <use xlink:href=\"#DejaVuSans-2e\" x=\"63.623047\"/>\n       <use xlink:href=\"#DejaVuSans-37\" x=\"95.410156\"/>\n       <use xlink:href=\"#DejaVuSans-35\" x=\"159.033203\"/>\n      </g>\n     </g>\n    </g>\n    <g id=\"ytick_5\">\n     <g id=\"line2d_23\">\n      <path d=\"M 36.465625 167.357202 \nL 705.815625 167.357202 \n\" clip-path=\"url(#pb6d7f08702)\" style=\"fill: none; stroke: #b0b0b0; stroke-width: 0.8; stroke-linecap: square\"/>\n     </g>\n     <g id=\"line2d_24\">\n      <g>\n       <use xlink:href=\"#m6c137e801b\" x=\"36.465625\" y=\"167.357202\" style=\"stroke: #000000; stroke-width: 0.8\"/>\n      </g>\n     </g>\n     <g id=\"text_12\">\n      <!-- 1 -->\n      <g transform=\"translate(23.103125 171.15642) scale(0.1 -0.1)\">\n       <use xlink:href=\"#DejaVuSans-31\"/>\n      </g>\n     </g>\n    </g>\n    <g id=\"ytick_6\">\n     <g id=\"line2d_25\">\n      <path d=\"M 36.465625 127.306971 \nL 705.815625 127.306971 \n\" clip-path=\"url(#pb6d7f08702)\" style=\"fill: none; stroke: #b0b0b0; stroke-width: 0.8; stroke-linecap: square\"/>\n     </g>\n     <g id=\"line2d_26\">\n      <g>\n       <use xlink:href=\"#m6c137e801b\" x=\"36.465625\" y=\"127.306971\" style=\"stroke: #000000; stroke-width: 0.8\"/>\n      </g>\n     </g>\n     <g id=\"text_13\">\n      <!-- 1 -->\n      <g transform=\"translate(23.103125 131.106189) scale(0.1 -0.1)\">\n       <use xlink:href=\"#DejaVuSans-31\"/>\n      </g>\n     </g>\n    </g>\n    <g id=\"ytick_7\">\n     <g id=\"line2d_27\">\n      <path d=\"M 36.465625 87.25674 \nL 705.815625 87.25674 \n\" clip-path=\"url(#pb6d7f08702)\" style=\"fill: none; stroke: #b0b0b0; stroke-width: 0.8; stroke-linecap: square\"/>\n     </g>\n     <g id=\"line2d_28\">\n      <g>\n       <use xlink:href=\"#m6c137e801b\" x=\"36.465625\" y=\"87.25674\" style=\"stroke: #000000; stroke-width: 0.8\"/>\n      </g>\n     </g>\n     <g id=\"text_14\">\n      <!-- 2 -->\n      <g transform=\"translate(23.103125 91.055959) scale(0.1 -0.1)\">\n       <use xlink:href=\"#DejaVuSans-32\"/>\n      </g>\n     </g>\n    </g>\n    <g id=\"ytick_8\">\n     <g id=\"line2d_29\">\n      <path d=\"M 36.465625 47.206509 \nL 705.815625 47.206509 \n\" clip-path=\"url(#pb6d7f08702)\" style=\"fill: none; stroke: #b0b0b0; stroke-width: 0.8; stroke-linecap: square\"/>\n     </g>\n     <g id=\"line2d_30\">\n      <g>\n       <use xlink:href=\"#m6c137e801b\" x=\"36.465625\" y=\"47.206509\" style=\"stroke: #000000; stroke-width: 0.8\"/>\n      </g>\n     </g>\n     <g id=\"text_15\">\n      <!-- 2 -->\n      <g transform=\"translate(23.103125 51.005728) scale(0.1 -0.1)\">\n       <use xlink:href=\"#DejaVuSans-32\"/>\n      </g>\n     </g>\n    </g>\n   </g>\n   <g id=\"patch_203\">\n    <path d=\"M 36.465625 327.558125 \nL 36.465625 22.318125 \n\" style=\"fill: none; stroke: #000000; stroke-width: 0.8; stroke-linejoin: miter; stroke-linecap: square\"/>\n   </g>\n   <g id=\"patch_204\">\n    <path d=\"M 705.815625 327.558125 \nL 705.815625 22.318125 \n\" style=\"fill: none; stroke: #000000; stroke-width: 0.8; stroke-linejoin: miter; stroke-linecap: square\"/>\n   </g>\n   <g id=\"patch_205\">\n    <path d=\"M 36.465625 327.558125 \nL 705.815625 327.558125 \n\" style=\"fill: none; stroke: #000000; stroke-width: 0.8; stroke-linejoin: miter; stroke-linecap: square\"/>\n   </g>\n   <g id=\"patch_206\">\n    <path d=\"M 36.465625 22.318125 \nL 705.815625 22.318125 \n\" style=\"fill: none; stroke: #000000; stroke-width: 0.8; stroke-linejoin: miter; stroke-linecap: square\"/>\n   </g>\n   <g id=\"text_16\">\n    <!-- Распределение логарифмов платежей в зависимости от целевой переменной -->\n    <g transform=\"translate(122.11625 16.318125) scale(0.12 -0.12)\">\n     <defs>\n      <path id=\"DejaVuSans-420\" d=\"M 1259 4147 \nL 1259 2394 \nL 2053 2394 \nQ 2494 2394 2734 2622 \nQ 2975 2850 2975 3272 \nQ 2975 3691 2734 3919 \nQ 2494 4147 2053 4147 \nL 1259 4147 \nz\nM 628 4666 \nL 2053 4666 \nQ 2838 4666 3239 4311 \nQ 3641 3956 3641 3272 \nQ 3641 2581 3239 2228 \nQ 2838 1875 2053 1875 \nL 1259 1875 \nL 1259 0 \nL 628 0 \nL 628 4666 \nz\n\" transform=\"scale(0.015625)\"/>\n      <path id=\"DejaVuSans-430\" d=\"M 2194 1759 \nQ 1497 1759 1228 1600 \nQ 959 1441 959 1056 \nQ 959 750 1161 570 \nQ 1363 391 1709 391 \nQ 2188 391 2477 730 \nQ 2766 1069 2766 1631 \nL 2766 1759 \nL 2194 1759 \nz\nM 3341 1997 \nL 3341 0 \nL 2766 0 \nL 2766 531 \nQ 2569 213 2275 61 \nQ 1981 -91 1556 -91 \nQ 1019 -91 701 211 \nQ 384 513 384 1019 \nQ 384 1609 779 1909 \nQ 1175 2209 1959 2209 \nL 2766 2209 \nL 2766 2266 \nQ 2766 2663 2505 2880 \nQ 2244 3097 1772 3097 \nQ 1472 3097 1187 3025 \nQ 903 2953 641 2809 \nL 641 3341 \nQ 956 3463 1253 3523 \nQ 1550 3584 1831 3584 \nQ 2591 3584 2966 3190 \nQ 3341 2797 3341 1997 \nz\n\" transform=\"scale(0.015625)\"/>\n      <path id=\"DejaVuSans-441\" d=\"M 3122 3366 \nL 3122 2828 \nQ 2878 2963 2633 3030 \nQ 2388 3097 2138 3097 \nQ 1578 3097 1268 2742 \nQ 959 2388 959 1747 \nQ 959 1106 1268 751 \nQ 1578 397 2138 397 \nQ 2388 397 2633 464 \nQ 2878 531 3122 666 \nL 3122 134 \nQ 2881 22 2623 -34 \nQ 2366 -91 2075 -91 \nQ 1284 -91 818 406 \nQ 353 903 353 1747 \nQ 353 2603 823 3093 \nQ 1294 3584 2113 3584 \nQ 2378 3584 2631 3529 \nQ 2884 3475 3122 3366 \nz\n\" transform=\"scale(0.015625)\"/>\n      <path id=\"DejaVuSans-43f\" d=\"M 3603 3500 \nL 3603 0 \nL 3025 0 \nL 3025 3041 \nL 1159 3041 \nL 1159 0 \nL 581 0 \nL 581 3500 \nL 3603 3500 \nz\n\" transform=\"scale(0.015625)\"/>\n      <path id=\"DejaVuSans-440\" d=\"M 1159 525 \nL 1159 -1331 \nL 581 -1331 \nL 581 3500 \nL 1159 3500 \nL 1159 2969 \nQ 1341 3281 1617 3432 \nQ 1894 3584 2278 3584 \nQ 2916 3584 3314 3078 \nQ 3713 2572 3713 1747 \nQ 3713 922 3314 415 \nQ 2916 -91 2278 -91 \nQ 1894 -91 1617 61 \nQ 1341 213 1159 525 \nz\nM 3116 1747 \nQ 3116 2381 2855 2742 \nQ 2594 3103 2138 3103 \nQ 1681 3103 1420 2742 \nQ 1159 2381 1159 1747 \nQ 1159 1113 1420 752 \nQ 1681 391 2138 391 \nQ 2594 391 2855 752 \nQ 3116 1113 3116 1747 \nz\n\" transform=\"scale(0.015625)\"/>\n      <path id=\"DejaVuSans-435\" d=\"M 3597 1894 \nL 3597 1613 \nL 953 1613 \nQ 991 1019 1311 708 \nQ 1631 397 2203 397 \nQ 2534 397 2845 478 \nQ 3156 559 3463 722 \nL 3463 178 \nQ 3153 47 2828 -22 \nQ 2503 -91 2169 -91 \nQ 1331 -91 842 396 \nQ 353 884 353 1716 \nQ 353 2575 817 3079 \nQ 1281 3584 2069 3584 \nQ 2775 3584 3186 3129 \nQ 3597 2675 3597 1894 \nz\nM 3022 2063 \nQ 3016 2534 2758 2815 \nQ 2500 3097 2075 3097 \nQ 1594 3097 1305 2825 \nQ 1016 2553 972 2059 \nL 3022 2063 \nz\n\" transform=\"scale(0.015625)\"/>\n      <path id=\"DejaVuSans-434\" d=\"M 1384 459 \nL 3053 459 \nL 3053 3041 \nL 1844 3041 \nL 1844 2603 \nQ 1844 1316 1475 628 \nL 1384 459 \nz\nM 550 459 \nQ 834 584 959 850 \nQ 1266 1509 1266 2838 \nL 1266 3500 \nL 3631 3500 \nL 3631 459 \nL 4091 459 \nL 4091 -884 \nL 3631 -884 \nL 3631 0 \nL 794 0 \nL 794 -884 \nL 334 -884 \nL 334 459 \nL 550 459 \nz\n\" transform=\"scale(0.015625)\"/>\n      <path id=\"DejaVuSans-43b\" d=\"M 238 0 \nL 238 478 \nQ 806 566 981 959 \nQ 1194 1513 1194 2928 \nL 1194 3500 \nL 3559 3500 \nL 3559 0 \nL 2984 0 \nL 2984 3041 \nL 1769 3041 \nL 1769 2694 \nQ 1769 1344 1494 738 \nQ 1200 91 238 0 \nz\n\" transform=\"scale(0.015625)\"/>\n      <path id=\"DejaVuSans-43d\" d=\"M 581 3500 \nL 1159 3500 \nL 1159 2072 \nL 3025 2072 \nL 3025 3500 \nL 3603 3500 \nL 3603 0 \nL 3025 0 \nL 3025 1613 \nL 1159 1613 \nL 1159 0 \nL 581 0 \nL 581 3500 \nz\n\" transform=\"scale(0.015625)\"/>\n      <path id=\"DejaVuSans-438\" d=\"M 3578 3500 \nL 3578 0 \nL 3006 0 \nL 3006 2809 \nL 1319 0 \nL 581 0 \nL 581 3500 \nL 1153 3500 \nL 1153 697 \nL 2838 3500 \nL 3578 3500 \nz\n\" transform=\"scale(0.015625)\"/>\n      <path id=\"DejaVuSans-20\" transform=\"scale(0.015625)\"/>\n      <path id=\"DejaVuSans-43e\" d=\"M 1959 3097 \nQ 1497 3097 1228 2736 \nQ 959 2375 959 1747 \nQ 959 1119 1226 758 \nQ 1494 397 1959 397 \nQ 2419 397 2687 759 \nQ 2956 1122 2956 1747 \nQ 2956 2369 2687 2733 \nQ 2419 3097 1959 3097 \nz\nM 1959 3584 \nQ 2709 3584 3137 3096 \nQ 3566 2609 3566 1747 \nQ 3566 888 3137 398 \nQ 2709 -91 1959 -91 \nQ 1206 -91 779 398 \nQ 353 888 353 1747 \nQ 353 2609 779 3096 \nQ 1206 3584 1959 3584 \nz\n\" transform=\"scale(0.015625)\"/>\n      <path id=\"DejaVuSans-433\" d=\"M 581 0 \nL 581 3500 \nL 3050 3500 \nL 3050 3041 \nL 1159 3041 \nL 1159 0 \nL 581 0 \nz\n\" transform=\"scale(0.015625)\"/>\n      <path id=\"DejaVuSans-444\" d=\"M 947 1747 \nQ 947 1013 1173 702 \nQ 1400 391 1784 391 \nQ 2091 391 2447 916 \nL 2447 2578 \nQ 2091 3103 1784 3103 \nQ 1400 3103 1173 2792 \nQ 947 2481 947 1747 \nz\nM 2447 -1331 \nL 2447 447 \nQ 2269 153 2064 31 \nQ 1859 -91 1600 -91 \nQ 1078 -91 714 392 \nQ 350 875 350 1734 \nQ 350 2594 714 3089 \nQ 1078 3584 1600 3584 \nQ 1859 3584 2064 3465 \nQ 2269 3347 2447 3053 \nL 2447 4666 \nL 3025 4666 \nL 3025 3053 \nQ 3203 3347 3408 3465 \nQ 3613 3584 3872 3584 \nQ 4394 3584 4758 3089 \nQ 5122 2594 5122 1734 \nQ 5122 875 4758 392 \nQ 4394 -91 3872 -91 \nQ 3613 -91 3408 31 \nQ 3203 153 3025 447 \nL 3025 -1331 \nL 2447 -1331 \nz\nM 4525 1747 \nQ 4525 2481 4298 2792 \nQ 4072 3103 3688 3103 \nQ 3381 3103 3025 2578 \nL 3025 916 \nQ 3381 391 3688 391 \nQ 4072 391 4298 702 \nQ 4525 1013 4525 1747 \nz\n\" transform=\"scale(0.015625)\"/>\n      <path id=\"DejaVuSans-43c\" d=\"M 581 3500 \nL 1422 3500 \nL 2416 1156 \nL 3413 3500 \nL 4247 3500 \nL 4247 0 \nL 3669 0 \nL 3669 2950 \nL 2703 672 \nL 2128 672 \nL 1159 2950 \nL 1159 0 \nL 581 0 \nL 581 3500 \nz\n\" transform=\"scale(0.015625)\"/>\n      <path id=\"DejaVuSans-432\" d=\"M 1156 1613 \nL 1156 459 \nL 1975 459 \nQ 2369 459 2575 607 \nQ 2781 756 2781 1038 \nQ 2781 1319 2575 1466 \nQ 2369 1613 1975 1613 \nL 1156 1613 \nz\nM 1156 3041 \nL 1156 2072 \nL 1913 2072 \nQ 2238 2072 2444 2201 \nQ 2650 2331 2650 2563 \nQ 2650 2794 2444 2917 \nQ 2238 3041 1913 3041 \nL 1156 3041 \nz\nM 581 3500 \nL 1950 3500 \nQ 2566 3500 2897 3275 \nQ 3228 3050 3228 2634 \nQ 3228 2313 3059 2123 \nQ 2891 1934 2559 1888 \nQ 2956 1813 3175 1575 \nQ 3394 1338 3394 981 \nQ 3394 513 3033 256 \nQ 2672 0 2003 0 \nL 581 0 \nL 581 3500 \nz\n\" transform=\"scale(0.015625)\"/>\n      <path id=\"DejaVuSans-442\" d=\"M 188 3500 \nL 3541 3500 \nL 3541 3041 \nL 2147 3041 \nL 2147 0 \nL 1581 0 \nL 1581 3041 \nL 188 3041 \nL 188 3500 \nz\n\" transform=\"scale(0.015625)\"/>\n      <path id=\"DejaVuSans-436\" d=\"M 2597 3500 \nL 3169 3500 \nL 3169 1856 \nL 4697 3500 \nL 5366 3500 \nL 4109 2153 \nL 5547 0 \nL 4931 0 \nL 3753 1769 \nL 3169 1141 \nL 3169 0 \nL 2597 0 \nL 2597 1141 \nL 2013 1769 \nL 834 0 \nL 219 0 \nL 1656 2153 \nL 400 3500 \nL 1069 3500 \nL 2597 1856 \nL 2597 3500 \nz\n\" transform=\"scale(0.015625)\"/>\n      <path id=\"DejaVuSans-439\" d=\"M 3578 3500 \nL 3578 0 \nL 3006 0 \nL 3006 2809 \nL 1319 0 \nL 581 0 \nL 581 3500 \nL 1153 3500 \nL 1153 697 \nL 2838 3500 \nL 3578 3500 \nz\nM 1102 4833 \nL 1471 4833 \nQ 1505 4599 1656 4481 \nQ 1808 4364 2080 4364 \nQ 2349 4364 2499 4480 \nQ 2649 4596 2689 4833 \nL 3058 4833 \nQ 3027 4386 2780 4161 \nQ 2533 3936 2080 3936 \nQ 1627 3936 1380 4161 \nQ 1133 4386 1102 4833 \nz\n\" transform=\"scale(0.015625)\"/>\n      <path id=\"DejaVuSans-437\" d=\"M 2206 1888 \nQ 2594 1813 2809 1584 \nQ 3025 1356 3025 1019 \nQ 3025 478 2622 193 \nQ 2219 -91 1475 -91 \nQ 1225 -91 961 -47 \nQ 697 -3 416 84 \nL 416 619 \nQ 638 503 903 445 \nQ 1169 388 1459 388 \nQ 1931 388 2195 563 \nQ 2459 738 2459 1019 \nQ 2459 1294 2225 1461 \nQ 1991 1628 1563 1628 \nL 1100 1628 \nL 1100 2103 \nL 1584 2103 \nQ 1947 2103 2158 2242 \nQ 2369 2381 2369 2600 \nQ 2369 2800 2151 2944 \nQ 1934 3088 1563 3088 \nQ 1341 3088 1089 3047 \nQ 838 3006 534 2916 \nL 534 3438 \nQ 841 3513 1106 3550 \nQ 1372 3588 1609 3588 \nQ 2222 3588 2576 3342 \nQ 2931 3097 2931 2656 \nQ 2931 2366 2743 2164 \nQ 2556 1963 2206 1888 \nz\n\" transform=\"scale(0.015625)\"/>\n      <path id=\"DejaVuSans-446\" d=\"M 3603 0 \nL 581 0 \nL 581 3500 \nL 1159 3500 \nL 1159 459 \nL 3025 459 \nL 3025 3500 \nL 3603 3500 \nL 3603 459 \nL 4063 459 \nL 4063 -884 \nL 3603 -884 \nL 3603 0 \nz\n\" transform=\"scale(0.015625)\"/>\n     </defs>\n     <use xlink:href=\"#DejaVuSans-420\"/>\n     <use xlink:href=\"#DejaVuSans-430\" x=\"60.302734\"/>\n     <use xlink:href=\"#DejaVuSans-441\" x=\"121.582031\"/>\n     <use xlink:href=\"#DejaVuSans-43f\" x=\"176.5625\"/>\n     <use xlink:href=\"#DejaVuSans-440\" x=\"241.943359\"/>\n     <use xlink:href=\"#DejaVuSans-435\" x=\"305.419922\"/>\n     <use xlink:href=\"#DejaVuSans-434\" x=\"366.943359\"/>\n     <use xlink:href=\"#DejaVuSans-435\" x=\"436.083984\"/>\n     <use xlink:href=\"#DejaVuSans-43b\" x=\"497.607422\"/>\n     <use xlink:href=\"#DejaVuSans-435\" x=\"561.523438\"/>\n     <use xlink:href=\"#DejaVuSans-43d\" x=\"623.046875\"/>\n     <use xlink:href=\"#DejaVuSans-438\" x=\"688.427734\"/>\n     <use xlink:href=\"#DejaVuSans-435\" x=\"753.417969\"/>\n     <use xlink:href=\"#DejaVuSans-20\" x=\"814.941406\"/>\n     <use xlink:href=\"#DejaVuSans-43b\" x=\"846.728516\"/>\n     <use xlink:href=\"#DejaVuSans-43e\" x=\"910.644531\"/>\n     <use xlink:href=\"#DejaVuSans-433\" x=\"971.826172\"/>\n     <use xlink:href=\"#DejaVuSans-430\" x=\"1024.365234\"/>\n     <use xlink:href=\"#DejaVuSans-440\" x=\"1085.644531\"/>\n     <use xlink:href=\"#DejaVuSans-438\" x=\"1149.121094\"/>\n     <use xlink:href=\"#DejaVuSans-444\" x=\"1214.111328\"/>\n     <use xlink:href=\"#DejaVuSans-43c\" x=\"1299.609375\"/>\n     <use xlink:href=\"#DejaVuSans-43e\" x=\"1375.048828\"/>\n     <use xlink:href=\"#DejaVuSans-432\" x=\"1436.230469\"/>\n     <use xlink:href=\"#DejaVuSans-20\" x=\"1495.166016\"/>\n     <use xlink:href=\"#DejaVuSans-43f\" x=\"1526.953125\"/>\n     <use xlink:href=\"#DejaVuSans-43b\" x=\"1592.333984\"/>\n     <use xlink:href=\"#DejaVuSans-430\" x=\"1656.25\"/>\n     <use xlink:href=\"#DejaVuSans-442\" x=\"1717.529297\"/>\n     <use xlink:href=\"#DejaVuSans-435\" x=\"1775.78125\"/>\n     <use xlink:href=\"#DejaVuSans-436\" x=\"1837.304688\"/>\n     <use xlink:href=\"#DejaVuSans-435\" x=\"1927.392578\"/>\n     <use xlink:href=\"#DejaVuSans-439\" x=\"1988.916016\"/>\n     <use xlink:href=\"#DejaVuSans-20\" x=\"2053.90625\"/>\n     <use xlink:href=\"#DejaVuSans-432\" x=\"2085.693359\"/>\n     <use xlink:href=\"#DejaVuSans-20\" x=\"2144.628906\"/>\n     <use xlink:href=\"#DejaVuSans-437\" x=\"2176.416016\"/>\n     <use xlink:href=\"#DejaVuSans-430\" x=\"2229.589844\"/>\n     <use xlink:href=\"#DejaVuSans-432\" x=\"2290.869141\"/>\n     <use xlink:href=\"#DejaVuSans-438\" x=\"2349.804688\"/>\n     <use xlink:href=\"#DejaVuSans-441\" x=\"2414.794922\"/>\n     <use xlink:href=\"#DejaVuSans-438\" x=\"2469.775391\"/>\n     <use xlink:href=\"#DejaVuSans-43c\" x=\"2534.765625\"/>\n     <use xlink:href=\"#DejaVuSans-43e\" x=\"2610.205078\"/>\n     <use xlink:href=\"#DejaVuSans-441\" x=\"2671.386719\"/>\n     <use xlink:href=\"#DejaVuSans-442\" x=\"2726.367188\"/>\n     <use xlink:href=\"#DejaVuSans-438\" x=\"2784.619141\"/>\n     <use xlink:href=\"#DejaVuSans-20\" x=\"2849.609375\"/>\n     <use xlink:href=\"#DejaVuSans-43e\" x=\"2881.396484\"/>\n     <use xlink:href=\"#DejaVuSans-442\" x=\"2942.578125\"/>\n     <use xlink:href=\"#DejaVuSans-20\" x=\"3000.830078\"/>\n     <use xlink:href=\"#DejaVuSans-446\" x=\"3032.617188\"/>\n     <use xlink:href=\"#DejaVuSans-435\" x=\"3100.683594\"/>\n     <use xlink:href=\"#DejaVuSans-43b\" x=\"3162.207031\"/>\n     <use xlink:href=\"#DejaVuSans-435\" x=\"3226.123047\"/>\n     <use xlink:href=\"#DejaVuSans-432\" x=\"3287.646484\"/>\n     <use xlink:href=\"#DejaVuSans-43e\" x=\"3346.582031\"/>\n     <use xlink:href=\"#DejaVuSans-439\" x=\"3407.763672\"/>\n     <use xlink:href=\"#DejaVuSans-20\" x=\"3472.753906\"/>\n     <use xlink:href=\"#DejaVuSans-43f\" x=\"3504.541016\"/>\n     <use xlink:href=\"#DejaVuSans-435\" x=\"3569.921875\"/>\n     <use xlink:href=\"#DejaVuSans-440\" x=\"3631.445312\"/>\n     <use xlink:href=\"#DejaVuSans-435\" x=\"3694.921875\"/>\n     <use xlink:href=\"#DejaVuSans-43c\" x=\"3756.445312\"/>\n     <use xlink:href=\"#DejaVuSans-435\" x=\"3831.884766\"/>\n     <use xlink:href=\"#DejaVuSans-43d\" x=\"3893.408203\"/>\n     <use xlink:href=\"#DejaVuSans-43d\" x=\"3958.789062\"/>\n     <use xlink:href=\"#DejaVuSans-43e\" x=\"4024.169922\"/>\n     <use xlink:href=\"#DejaVuSans-439\" x=\"4085.351562\"/>\n    </g>\n   </g>\n  </g>\n </g>\n <defs>\n  <clipPath id=\"pb6d7f08702\">\n   <rect x=\"36.465625\" y=\"22.318125\" width=\"669.35\" height=\"305.24\"/>\n  </clipPath>\n </defs>\n</svg>\n",
      "text/plain": [
       "<Figure size 1000x500 with 1 Axes>"
      ]
     },
     "metadata": {},
     "output_type": "display_data"
    }
   ],
   "source": [
    "fig, ax = plt.subplots(1, 1, figsize=(10, 5))\n",
    "\n",
    "pyspark_dist_explore.hist(ax, [pay_0, pay_1], color=['red', 'blue'], bins=100, density=True)\n",
    "ax.set_title('Распределение логарифмов платежей в зависимости от целевой переменной')\n",
    "ax.grid(True)\n",
    "\n",
    "fig.tight_layout()\n",
    "plt.show()"
   ]
  },
  {
   "cell_type": "code",
   "execution_count": 14,
   "metadata": {},
   "outputs": [
    {
     "data": {
      "application/pdf": "[encoded data removed]",
      "image/svg+xml": "<?xml version=\"1.0\" encoding=\"utf-8\" standalone=\"no\"?>\n<!DOCTYPE svg PUBLIC \"-//W3C//DTD SVG 1.1//EN\"\n  \"http://www.w3.org/Graphics/SVG/1.1/DTD/svg11.dtd\">\n<svg xmlns:xlink=\"http://www.w3.org/1999/xlink\" width=\"712.925625pt\" height=\"351.471875pt\" viewBox=\"0 0 712.925625 351.471875\" xmlns=\"http://www.w3.org/2000/svg\" version=\"1.1\">\n <metadata>\n  <rdf:RDF xmlns:dc=\"http://purl.org/dc/elements/1.1/\" xmlns:cc=\"http://creativecommons.org/ns#\" xmlns:rdf=\"http://www.w3.org/1999/02/22-rdf-syntax-ns#\">\n   <cc:Work>\n    <dc:type rdf:resource=\"http://purl.org/dc/dcmitype/StillImage\"/>\n    <dc:date>2023-02-21T16:41:27.387620</dc:date>\n    <dc:format>image/svg+xml</dc:format>\n    <dc:creator>\n     <cc:Agent>\n      <dc:title>Matplotlib v3.6.2, https://matplotlib.org/</dc:title>\n     </cc:Agent>\n    </dc:creator>\n   </cc:Work>\n  </rdf:RDF>\n </metadata>\n <defs>\n  <style type=\"text/css\">*{stroke-linejoin: round; stroke-linecap: butt}</style>\n </defs>\n <g id=\"figure_1\">\n  <g id=\"patch_1\">\n   <path d=\"M 0 351.471875 \nL 712.925625 351.471875 \nL 712.925625 0 \nL 0 0 \nz\n\" style=\"fill: #ffffff\"/>\n  </g>\n  <g id=\"axes_1\">\n   <g id=\"patch_2\">\n    <path d=\"M 36.465625 327.59375 \nL 705.725625 327.59375 \nL 705.725625 22.5225 \nL 36.465625 22.5225 \nz\n\" style=\"fill: #ffffff\"/>\n   </g>\n   <g id=\"patch_3\">\n    <path d=\"M 435.136536 327.59375 \nL 442.092495 327.59375 \nL 442.092495 250.178619 \nL 435.136536 250.178619 \nz\n\" clip-path=\"url(#p0f3857bc8c)\" style=\"fill: #1f77b4; opacity: 0.5\"/>\n   </g>\n   <g id=\"patch_4\">\n    <path d=\"M 442.092495 327.59375 \nL 449.048455 327.59375 \nL 449.048455 327.59375 \nL 442.092495 327.59375 \nz\n\" clip-path=\"url(#p0f3857bc8c)\" style=\"fill: #1f77b4; opacity: 0.5\"/>\n   </g>\n   <g id=\"patch_5\">\n    <path d=\"M 449.048455 327.59375 \nL 456.004414 327.59375 \nL 456.004414 327.59375 \nL 449.048455 327.59375 \nz\n\" clip-path=\"url(#p0f3857bc8c)\" style=\"fill: #1f77b4; opacity: 0.5\"/>\n   </g>\n   <g id=\"patch_6\">\n    <path d=\"M 456.004414 327.59375 \nL 462.960374 327.59375 \nL 462.960374 327.59375 \nL 456.004414 327.59375 \nz\n\" clip-path=\"url(#p0f3857bc8c)\" style=\"fill: #1f77b4; opacity: 0.5\"/>\n   </g>\n   <g id=\"patch_7\">\n    <path d=\"M 462.960374 327.59375 \nL 469.916334 327.59375 \nL 469.916334 250.178619 \nL 462.960374 250.178619 \nz\n\" clip-path=\"url(#p0f3857bc8c)\" style=\"fill: #1f77b4; opacity: 0.5\"/>\n   </g>\n   <g id=\"patch_8\">\n    <path d=\"M 469.916334 327.59375 \nL 476.872293 327.59375 \nL 476.872293 327.59375 \nL 469.916334 327.59375 \nz\n\" clip-path=\"url(#p0f3857bc8c)\" style=\"fill: #1f77b4; opacity: 0.5\"/>\n   </g>\n   <g id=\"patch_9\">\n    <path d=\"M 476.872293 327.59375 \nL 483.828253 327.59375 \nL 483.828253 327.59375 \nL 476.872293 327.59375 \nz\n\" clip-path=\"url(#p0f3857bc8c)\" style=\"fill: #1f77b4; opacity: 0.5\"/>\n   </g>\n   <g id=\"patch_10\">\n    <path d=\"M 483.828253 327.59375 \nL 490.784213 327.59375 \nL 490.784213 250.178619 \nL 483.828253 250.178619 \nz\n\" clip-path=\"url(#p0f3857bc8c)\" style=\"fill: #1f77b4; opacity: 0.5\"/>\n   </g>\n   <g id=\"patch_11\">\n    <path d=\"M 490.784213 327.59375 \nL 497.740172 327.59375 \nL 497.740172 327.59375 \nL 490.784213 327.59375 \nz\n\" clip-path=\"url(#p0f3857bc8c)\" style=\"fill: #1f77b4; opacity: 0.5\"/>\n   </g>\n   <g id=\"patch_12\">\n    <path d=\"M 497.740172 327.59375 \nL 504.696132 327.59375 \nL 504.696132 250.178619 \nL 497.740172 250.178619 \nz\n\" clip-path=\"url(#p0f3857bc8c)\" style=\"fill: #1f77b4; opacity: 0.5\"/>\n   </g>\n   <g id=\"patch_13\">\n    <path d=\"M 504.696132 327.59375 \nL 511.652092 327.59375 \nL 511.652092 250.178619 \nL 504.696132 250.178619 \nz\n\" clip-path=\"url(#p0f3857bc8c)\" style=\"fill: #1f77b4; opacity: 0.5\"/>\n   </g>\n   <g id=\"patch_14\">\n    <path d=\"M 511.652092 327.59375 \nL 518.608051 327.59375 \nL 518.608051 327.59375 \nL 511.652092 327.59375 \nz\n\" clip-path=\"url(#p0f3857bc8c)\" style=\"fill: #1f77b4; opacity: 0.5\"/>\n   </g>\n   <g id=\"patch_15\">\n    <path d=\"M 518.608051 327.59375 \nL 525.564011 327.59375 \nL 525.564011 250.178619 \nL 518.608051 250.178619 \nz\n\" clip-path=\"url(#p0f3857bc8c)\" style=\"fill: #1f77b4; opacity: 0.5\"/>\n   </g>\n   <g id=\"patch_16\">\n    <path d=\"M 525.564011 327.59375 \nL 532.519971 327.59375 \nL 532.519971 172.763489 \nL 525.564011 172.763489 \nz\n\" clip-path=\"url(#p0f3857bc8c)\" style=\"fill: #1f77b4; opacity: 0.5\"/>\n   </g>\n   <g id=\"patch_17\">\n    <path d=\"M 532.519971 327.59375 \nL 539.47593 327.59375 \nL 539.47593 250.178619 \nL 532.519971 250.178619 \nz\n\" clip-path=\"url(#p0f3857bc8c)\" style=\"fill: #1f77b4; opacity: 0.5\"/>\n   </g>\n   <g id=\"patch_18\">\n    <path d=\"M 539.47593 327.59375 \nL 546.43189 327.59375 \nL 546.43189 327.59375 \nL 539.47593 327.59375 \nz\n\" clip-path=\"url(#p0f3857bc8c)\" style=\"fill: #1f77b4; opacity: 0.5\"/>\n   </g>\n   <g id=\"patch_19\">\n    <path d=\"M 546.43189 327.59375 \nL 553.38785 327.59375 \nL 553.38785 250.178619 \nL 546.43189 250.178619 \nz\n\" clip-path=\"url(#p0f3857bc8c)\" style=\"fill: #1f77b4; opacity: 0.5\"/>\n   </g>\n   <g id=\"patch_20\">\n    <path d=\"M 553.38785 327.59375 \nL 560.343809 327.59375 \nL 560.343809 327.59375 \nL 553.38785 327.59375 \nz\n\" clip-path=\"url(#p0f3857bc8c)\" style=\"fill: #1f77b4; opacity: 0.5\"/>\n   </g>\n   <g id=\"patch_21\">\n    <path d=\"M 560.343809 327.59375 \nL 567.299769 327.59375 \nL 567.299769 250.178619 \nL 560.343809 250.178619 \nz\n\" clip-path=\"url(#p0f3857bc8c)\" style=\"fill: #1f77b4; opacity: 0.5\"/>\n   </g>\n   <g id=\"patch_22\">\n    <path d=\"M 567.299769 327.59375 \nL 574.255729 327.59375 \nL 574.255729 250.178619 \nL 567.299769 250.178619 \nz\n\" clip-path=\"url(#p0f3857bc8c)\" style=\"fill: #1f77b4; opacity: 0.5\"/>\n   </g>\n   <g id=\"patch_23\">\n    <path d=\"M 67.82117 327.59375 \nL 90.064853 327.59375 \nL 90.064853 327.157301 \nL 67.82117 327.157301 \nz\n\" clip-path=\"url(#p0f3857bc8c)\" style=\"fill: #ff7f0e; opacity: 0.5\"/>\n   </g>\n   <g id=\"patch_24\">\n    <path d=\"M 90.064853 327.59375 \nL 112.308536 327.59375 \nL 112.308536 326.393515 \nL 90.064853 326.393515 \nz\n\" clip-path=\"url(#p0f3857bc8c)\" style=\"fill: #ff7f0e; opacity: 0.5\"/>\n   </g>\n   <g id=\"patch_25\">\n    <path d=\"M 112.308536 327.59375 \nL 134.552219 327.59375 \nL 134.552219 325.084169 \nL 112.308536 325.084169 \nz\n\" clip-path=\"url(#p0f3857bc8c)\" style=\"fill: #ff7f0e; opacity: 0.5\"/>\n   </g>\n   <g id=\"patch_26\">\n    <path d=\"M 134.552219 327.59375 \nL 156.795902 327.59375 \nL 156.795902 326.066179 \nL 134.552219 326.066179 \nz\n\" clip-path=\"url(#p0f3857bc8c)\" style=\"fill: #ff7f0e; opacity: 0.5\"/>\n   </g>\n   <g id=\"patch_27\">\n    <path d=\"M 156.795902 327.59375 \nL 179.039585 327.59375 \nL 179.039585 326.066179 \nL 156.795902 326.066179 \nz\n\" clip-path=\"url(#p0f3857bc8c)\" style=\"fill: #ff7f0e; opacity: 0.5\"/>\n   </g>\n   <g id=\"patch_28\">\n    <path d=\"M 179.039585 327.59375 \nL 201.283268 327.59375 \nL 201.283268 325.302393 \nL 179.039585 325.302393 \nz\n\" clip-path=\"url(#p0f3857bc8c)\" style=\"fill: #ff7f0e; opacity: 0.5\"/>\n   </g>\n   <g id=\"patch_29\">\n    <path d=\"M 201.283268 327.59375 \nL 223.526951 327.59375 \nL 223.526951 323.883934 \nL 201.283268 323.883934 \nz\n\" clip-path=\"url(#p0f3857bc8c)\" style=\"fill: #ff7f0e; opacity: 0.5\"/>\n   </g>\n   <g id=\"patch_30\">\n    <path d=\"M 223.526951 327.59375 \nL 245.770634 327.59375 \nL 245.770634 316.573414 \nL 223.526951 316.573414 \nz\n\" clip-path=\"url(#p0f3857bc8c)\" style=\"fill: #ff7f0e; opacity: 0.5\"/>\n   </g>\n   <g id=\"patch_31\">\n    <path d=\"M 245.770634 327.59375 \nL 268.014316 327.59375 \nL 268.014316 288.095121 \nL 245.770634 288.095121 \nz\n\" clip-path=\"url(#p0f3857bc8c)\" style=\"fill: #ff7f0e; opacity: 0.5\"/>\n   </g>\n   <g id=\"patch_32\">\n    <path d=\"M 268.014316 327.59375 \nL 290.257999 327.59375 \nL 290.257999 289.077131 \nL 268.014316 289.077131 \nz\n\" clip-path=\"url(#p0f3857bc8c)\" style=\"fill: #ff7f0e; opacity: 0.5\"/>\n   </g>\n   <g id=\"patch_33\">\n    <path d=\"M 290.257999 327.59375 \nL 312.501682 327.59375 \nL 312.501682 183.020039 \nL 290.257999 183.020039 \nz\n\" clip-path=\"url(#p0f3857bc8c)\" style=\"fill: #ff7f0e; opacity: 0.5\"/>\n   </g>\n   <g id=\"patch_34\">\n    <path d=\"M 312.501682 327.59375 \nL 334.745365 327.59375 \nL 334.745365 104.131893 \nL 312.501682 104.131893 \nz\n\" clip-path=\"url(#p0f3857bc8c)\" style=\"fill: #ff7f0e; opacity: 0.5\"/>\n   </g>\n   <g id=\"patch_35\">\n    <path d=\"M 334.745365 327.59375 \nL 356.989048 327.59375 \nL 356.989048 115.588678 \nL 334.745365 115.588678 \nz\n\" clip-path=\"url(#p0f3857bc8c)\" style=\"fill: #ff7f0e; opacity: 0.5\"/>\n   </g>\n   <g id=\"patch_36\">\n    <path d=\"M 356.989048 327.59375 \nL 379.232731 327.59375 \nL 379.232731 192.294579 \nL 356.989048 192.294579 \nz\n\" clip-path=\"url(#p0f3857bc8c)\" style=\"fill: #ff7f0e; opacity: 0.5\"/>\n   </g>\n   <g id=\"patch_37\">\n    <path d=\"M 379.232731 327.59375 \nL 401.476414 327.59375 \nL 401.476414 262.781083 \nL 379.232731 262.781083 \nz\n\" clip-path=\"url(#p0f3857bc8c)\" style=\"fill: #ff7f0e; opacity: 0.5\"/>\n   </g>\n   <g id=\"patch_38\">\n    <path d=\"M 401.476414 327.59375 \nL 423.720097 327.59375 \nL 423.720097 300.315691 \nL 401.476414 300.315691 \nz\n\" clip-path=\"url(#p0f3857bc8c)\" style=\"fill: #ff7f0e; opacity: 0.5\"/>\n   </g>\n   <g id=\"patch_39\">\n    <path d=\"M 423.720097 327.59375 \nL 445.96378 327.59375 \nL 445.96378 313.190935 \nL 423.720097 313.190935 \nz\n\" clip-path=\"url(#p0f3857bc8c)\" style=\"fill: #ff7f0e; opacity: 0.5\"/>\n   </g>\n   <g id=\"patch_40\">\n    <path d=\"M 445.96378 327.59375 \nL 468.207463 327.59375 \nL 468.207463 324.64772 \nL 445.96378 324.64772 \nz\n\" clip-path=\"url(#p0f3857bc8c)\" style=\"fill: #ff7f0e; opacity: 0.5\"/>\n   </g>\n   <g id=\"patch_41\">\n    <path d=\"M 468.207463 327.59375 \nL 490.451146 327.59375 \nL 490.451146 325.847954 \nL 468.207463 325.847954 \nz\n\" clip-path=\"url(#p0f3857bc8c)\" style=\"fill: #ff7f0e; opacity: 0.5\"/>\n   </g>\n   <g id=\"patch_42\">\n    <path d=\"M 490.451146 327.59375 \nL 512.694828 327.59375 \nL 512.694828 327.375526 \nL 490.451146 327.375526 \nz\n\" clip-path=\"url(#p0f3857bc8c)\" style=\"fill: #ff7f0e; opacity: 0.5\"/>\n   </g>\n   <g id=\"patch_43\">\n    <path d=\"M 67.375649 327.59375 \nL 88.72829 327.59375 \nL 88.72829 327.514647 \nL 67.375649 327.514647 \nz\n\" clip-path=\"url(#p0f3857bc8c)\" style=\"fill: #2ca02c; opacity: 0.5\"/>\n   </g>\n   <g id=\"patch_44\">\n    <path d=\"M 88.72829 327.59375 \nL 110.080931 327.59375 \nL 110.080931 326.723621 \nL 88.72829 326.723621 \nz\n\" clip-path=\"url(#p0f3857bc8c)\" style=\"fill: #2ca02c; opacity: 0.5\"/>\n   </g>\n   <g id=\"patch_45\">\n    <path d=\"M 110.080931 327.59375 \nL 131.433572 327.59375 \nL 131.433572 326.011697 \nL 110.080931 326.011697 \nz\n\" clip-path=\"url(#p0f3857bc8c)\" style=\"fill: #2ca02c; opacity: 0.5\"/>\n   </g>\n   <g id=\"patch_46\">\n    <path d=\"M 131.433572 327.59375 \nL 152.786213 327.59375 \nL 152.786213 325.616184 \nL 131.433572 325.616184 \nz\n\" clip-path=\"url(#p0f3857bc8c)\" style=\"fill: #2ca02c; opacity: 0.5\"/>\n   </g>\n   <g id=\"patch_47\">\n    <path d=\"M 152.786213 327.59375 \nL 174.138853 327.59375 \nL 174.138853 326.249005 \nL 152.786213 326.249005 \nz\n\" clip-path=\"url(#p0f3857bc8c)\" style=\"fill: #2ca02c; opacity: 0.5\"/>\n   </g>\n   <g id=\"patch_48\">\n    <path d=\"M 174.138853 327.59375 \nL 195.491494 327.59375 \nL 195.491494 326.644518 \nL 174.138853 326.644518 \nz\n\" clip-path=\"url(#p0f3857bc8c)\" style=\"fill: #2ca02c; opacity: 0.5\"/>\n   </g>\n   <g id=\"patch_49\">\n    <path d=\"M 195.491494 327.59375 \nL 216.844135 327.59375 \nL 216.844135 326.328108 \nL 195.491494 326.328108 \nz\n\" clip-path=\"url(#p0f3857bc8c)\" style=\"fill: #2ca02c; opacity: 0.5\"/>\n   </g>\n   <g id=\"patch_50\">\n    <path d=\"M 216.844135 327.59375 \nL 238.196776 327.59375 \nL 238.196776 322.293872 \nL 216.844135 322.293872 \nz\n\" clip-path=\"url(#p0f3857bc8c)\" style=\"fill: #2ca02c; opacity: 0.5\"/>\n   </g>\n   <g id=\"patch_51\">\n    <path d=\"M 238.196776 327.59375 \nL 259.549417 327.59375 \nL 259.549417 313.988094 \nL 238.196776 313.988094 \nz\n\" clip-path=\"url(#p0f3857bc8c)\" style=\"fill: #2ca02c; opacity: 0.5\"/>\n   </g>\n   <g id=\"patch_52\">\n    <path d=\"M 259.549417 327.59375 \nL 280.902057 327.59375 \nL 280.902057 300.066026 \nL 259.549417 300.066026 \nz\n\" clip-path=\"url(#p0f3857bc8c)\" style=\"fill: #2ca02c; opacity: 0.5\"/>\n   </g>\n   <g id=\"patch_53\">\n    <path d=\"M 280.902057 327.59375 \nL 302.254698 327.59375 \nL 302.254698 220.409654 \nL 280.902057 220.409654 \nz\n\" clip-path=\"url(#p0f3857bc8c)\" style=\"fill: #2ca02c; opacity: 0.5\"/>\n   </g>\n   <g id=\"patch_54\">\n    <path d=\"M 302.254698 327.59375 \nL 323.607339 327.59375 \nL 323.607339 37.049702 \nL 302.254698 37.049702 \nz\n\" clip-path=\"url(#p0f3857bc8c)\" style=\"fill: #2ca02c; opacity: 0.5\"/>\n   </g>\n   <g id=\"patch_55\">\n    <path d=\"M 323.607339 327.59375 \nL 344.95998 327.59375 \nL 344.95998 93.687203 \nL 323.607339 93.687203 \nz\n\" clip-path=\"url(#p0f3857bc8c)\" style=\"fill: #2ca02c; opacity: 0.5\"/>\n   </g>\n   <g id=\"patch_56\">\n    <path d=\"M 344.95998 327.59375 \nL 366.312621 327.59375 \nL 366.312621 197.786295 \nL 344.95998 197.786295 \nz\n\" clip-path=\"url(#p0f3857bc8c)\" style=\"fill: #2ca02c; opacity: 0.5\"/>\n   </g>\n   <g id=\"patch_57\">\n    <path d=\"M 366.312621 327.59375 \nL 387.665262 327.59375 \nL 387.665262 256.717772 \nL 366.312621 256.717772 \nz\n\" clip-path=\"url(#p0f3857bc8c)\" style=\"fill: #2ca02c; opacity: 0.5\"/>\n   </g>\n   <g id=\"patch_58\">\n    <path d=\"M 387.665262 327.59375 \nL 409.017902 327.59375 \nL 409.017902 305.128596 \nL 387.665262 305.128596 \nz\n\" clip-path=\"url(#p0f3857bc8c)\" style=\"fill: #2ca02c; opacity: 0.5\"/>\n   </g>\n   <g id=\"patch_59\">\n    <path d=\"M 409.017902 327.59375 \nL 430.370543 327.59375 \nL 430.370543 315.96566 \nL 409.017902 315.96566 \nz\n\" clip-path=\"url(#p0f3857bc8c)\" style=\"fill: #2ca02c; opacity: 0.5\"/>\n   </g>\n   <g id=\"patch_60\">\n    <path d=\"M 430.370543 327.59375 \nL 451.723184 327.59375 \nL 451.723184 322.689385 \nL 430.370543 322.689385 \nz\n\" clip-path=\"url(#p0f3857bc8c)\" style=\"fill: #2ca02c; opacity: 0.5\"/>\n   </g>\n   <g id=\"patch_61\">\n    <path d=\"M 451.723184 327.59375 \nL 473.075825 327.59375 \nL 473.075825 324.90426 \nL 451.723184 324.90426 \nz\n\" clip-path=\"url(#p0f3857bc8c)\" style=\"fill: #2ca02c; opacity: 0.5\"/>\n   </g>\n   <g id=\"patch_62\">\n    <path d=\"M 473.075825 327.59375 \nL 494.428466 327.59375 \nL 494.428466 327.119134 \nL 473.075825 327.119134 \nz\n\" clip-path=\"url(#p0f3857bc8c)\" style=\"fill: #2ca02c; opacity: 0.5\"/>\n   </g>\n   <g id=\"patch_63\">\n    <path d=\"M 66.886534 327.59375 \nL 87.260945 327.59375 \nL 87.260945 326.684766 \nL 66.886534 326.684766 \nz\n\" clip-path=\"url(#p0f3857bc8c)\" style=\"fill: #d62728; opacity: 0.5\"/>\n   </g>\n   <g id=\"patch_64\">\n    <path d=\"M 87.260945 327.59375 \nL 107.635355 327.59375 \nL 107.635355 326.003028 \nL 87.260945 326.003028 \nz\n\" clip-path=\"url(#p0f3857bc8c)\" style=\"fill: #d62728; opacity: 0.5\"/>\n   </g>\n   <g id=\"patch_65\">\n    <path d=\"M 107.635355 327.59375 \nL 128.009766 327.59375 \nL 128.009766 325.548536 \nL 107.635355 325.548536 \nz\n\" clip-path=\"url(#p0f3857bc8c)\" style=\"fill: #d62728; opacity: 0.5\"/>\n   </g>\n   <g id=\"patch_66\">\n    <path d=\"M 128.009766 327.59375 \nL 148.384176 327.59375 \nL 148.384176 326.230274 \nL 128.009766 326.230274 \nz\n\" clip-path=\"url(#p0f3857bc8c)\" style=\"fill: #d62728; opacity: 0.5\"/>\n   </g>\n   <g id=\"patch_67\">\n    <path d=\"M 148.384176 327.59375 \nL 168.758587 327.59375 \nL 168.758587 324.866798 \nL 148.384176 324.866798 \nz\n\" clip-path=\"url(#p0f3857bc8c)\" style=\"fill: #d62728; opacity: 0.5\"/>\n   </g>\n   <g id=\"patch_68\">\n    <path d=\"M 168.758587 327.59375 \nL 189.132997 327.59375 \nL 189.132997 326.912012 \nL 168.758587 326.912012 \nz\n\" clip-path=\"url(#p0f3857bc8c)\" style=\"fill: #d62728; opacity: 0.5\"/>\n   </g>\n   <g id=\"patch_69\">\n    <path d=\"M 189.132997 327.59375 \nL 209.507408 327.59375 \nL 209.507408 326.003028 \nL 189.132997 326.003028 \nz\n\" clip-path=\"url(#p0f3857bc8c)\" style=\"fill: #d62728; opacity: 0.5\"/>\n   </g>\n   <g id=\"patch_70\">\n    <path d=\"M 209.507408 327.59375 \nL 229.881818 327.59375 \nL 229.881818 324.639552 \nL 209.507408 324.639552 \nz\n\" clip-path=\"url(#p0f3857bc8c)\" style=\"fill: #d62728; opacity: 0.5\"/>\n   </g>\n   <g id=\"patch_71\">\n    <path d=\"M 229.881818 327.59375 \nL 250.256229 327.59375 \nL 250.256229 317.822173 \nL 229.881818 317.822173 \nz\n\" clip-path=\"url(#p0f3857bc8c)\" style=\"fill: #d62728; opacity: 0.5\"/>\n   </g>\n   <g id=\"patch_72\">\n    <path d=\"M 250.256229 327.59375 \nL 270.630639 327.59375 \nL 270.630639 295.324821 \nL 250.256229 295.324821 \nz\n\" clip-path=\"url(#p0f3857bc8c)\" style=\"fill: #d62728; opacity: 0.5\"/>\n   </g>\n   <g id=\"patch_73\">\n    <path d=\"M 270.630639 327.59375 \nL 291.00505 327.59375 \nL 291.00505 303.27843 \nL 270.630639 303.27843 \nz\n\" clip-path=\"url(#p0f3857bc8c)\" style=\"fill: #d62728; opacity: 0.5\"/>\n   </g>\n   <g id=\"patch_74\">\n    <path d=\"M 291.00505 327.59375 \nL 311.37946 327.59375 \nL 311.37946 91.030685 \nL 291.00505 91.030685 \nz\n\" clip-path=\"url(#p0f3857bc8c)\" style=\"fill: #d62728; opacity: 0.5\"/>\n   </g>\n   <g id=\"patch_75\">\n    <path d=\"M 311.37946 327.59375 \nL 331.753871 327.59375 \nL 331.753871 62.397691 \nL 311.37946 62.397691 \nz\n\" clip-path=\"url(#p0f3857bc8c)\" style=\"fill: #d62728; opacity: 0.5\"/>\n   </g>\n   <g id=\"patch_76\">\n    <path d=\"M 331.753871 327.59375 \nL 352.128281 327.59375 \nL 352.128281 154.432313 \nL 331.753871 154.432313 \nz\n\" clip-path=\"url(#p0f3857bc8c)\" style=\"fill: #d62728; opacity: 0.5\"/>\n   </g>\n   <g id=\"patch_77\">\n    <path d=\"M 352.128281 327.59375 \nL 372.502692 327.59375 \nL 372.502692 221.469877 \nL 352.128281 221.469877 \nz\n\" clip-path=\"url(#p0f3857bc8c)\" style=\"fill: #d62728; opacity: 0.5\"/>\n   </g>\n   <g id=\"patch_78\">\n    <path d=\"M 372.502692 327.59375 \nL 392.877103 327.59375 \nL 392.877103 294.643083 \nL 372.502692 294.643083 \nz\n\" clip-path=\"url(#p0f3857bc8c)\" style=\"fill: #d62728; opacity: 0.5\"/>\n   </g>\n   <g id=\"patch_79\">\n    <path d=\"M 392.877103 327.59375 \nL 413.251513 327.59375 \nL 413.251513 310.777547 \nL 392.877103 310.777547 \nz\n\" clip-path=\"url(#p0f3857bc8c)\" style=\"fill: #d62728; opacity: 0.5\"/>\n   </g>\n   <g id=\"patch_80\">\n    <path d=\"M 413.251513 327.59375 \nL 433.625924 327.59375 \nL 433.625924 317.594927 \nL 413.251513 317.594927 \nz\n\" clip-path=\"url(#p0f3857bc8c)\" style=\"fill: #d62728; opacity: 0.5\"/>\n   </g>\n   <g id=\"patch_81\">\n    <path d=\"M 433.625924 327.59375 \nL 454.000334 327.59375 \nL 454.000334 321.9126 \nL 433.625924 321.9126 \nz\n\" clip-path=\"url(#p0f3857bc8c)\" style=\"fill: #d62728; opacity: 0.5\"/>\n   </g>\n   <g id=\"patch_82\">\n    <path d=\"M 454.000334 327.59375 \nL 474.374745 327.59375 \nL 474.374745 325.32129 \nL 454.000334 325.32129 \nz\n\" clip-path=\"url(#p0f3857bc8c)\" style=\"fill: #d62728; opacity: 0.5\"/>\n   </g>\n   <g id=\"patch_83\">\n    <path d=\"M 155.012522 327.59375 \nL 171.313972 327.59375 \nL 171.313972 318.911679 \nL 155.012522 318.911679 \nz\n\" clip-path=\"url(#p0f3857bc8c)\" style=\"fill: #9467bd; opacity: 0.5\"/>\n   </g>\n   <g id=\"patch_84\">\n    <path d=\"M 171.313972 327.59375 \nL 187.615422 327.59375 \nL 187.615422 327.59375 \nL 171.313972 327.59375 \nz\n\" clip-path=\"url(#p0f3857bc8c)\" style=\"fill: #9467bd; opacity: 0.5\"/>\n   </g>\n   <g id=\"patch_85\">\n    <path d=\"M 187.615422 327.59375 \nL 203.916872 327.59375 \nL 203.916872 327.59375 \nL 187.615422 327.59375 \nz\n\" clip-path=\"url(#p0f3857bc8c)\" style=\"fill: #9467bd; opacity: 0.5\"/>\n   </g>\n   <g id=\"patch_86\">\n    <path d=\"M 203.916872 327.59375 \nL 220.218322 327.59375 \nL 220.218322 327.59375 \nL 203.916872 327.59375 \nz\n\" clip-path=\"url(#p0f3857bc8c)\" style=\"fill: #9467bd; opacity: 0.5\"/>\n   </g>\n   <g id=\"patch_87\">\n    <path d=\"M 220.218322 327.59375 \nL 236.519772 327.59375 \nL 236.519772 327.59375 \nL 220.218322 327.59375 \nz\n\" clip-path=\"url(#p0f3857bc8c)\" style=\"fill: #9467bd; opacity: 0.5\"/>\n   </g>\n   <g id=\"patch_88\">\n    <path d=\"M 236.519772 327.59375 \nL 252.821222 327.59375 \nL 252.821222 318.911679 \nL 236.519772 318.911679 \nz\n\" clip-path=\"url(#p0f3857bc8c)\" style=\"fill: #9467bd; opacity: 0.5\"/>\n   </g>\n   <g id=\"patch_89\">\n    <path d=\"M 252.821222 327.59375 \nL 269.122672 327.59375 \nL 269.122672 327.59375 \nL 252.821222 327.59375 \nz\n\" clip-path=\"url(#p0f3857bc8c)\" style=\"fill: #9467bd; opacity: 0.5\"/>\n   </g>\n   <g id=\"patch_90\">\n    <path d=\"M 269.122672 327.59375 \nL 285.424122 327.59375 \nL 285.424122 318.911679 \nL 269.122672 318.911679 \nz\n\" clip-path=\"url(#p0f3857bc8c)\" style=\"fill: #9467bd; opacity: 0.5\"/>\n   </g>\n   <g id=\"patch_91\">\n    <path d=\"M 285.424122 327.59375 \nL 301.725572 327.59375 \nL 301.725572 310.229609 \nL 285.424122 310.229609 \nz\n\" clip-path=\"url(#p0f3857bc8c)\" style=\"fill: #9467bd; opacity: 0.5\"/>\n   </g>\n   <g id=\"patch_92\">\n    <path d=\"M 301.725572 327.59375 \nL 318.027022 327.59375 \nL 318.027022 301.547538 \nL 301.725572 301.547538 \nz\n\" clip-path=\"url(#p0f3857bc8c)\" style=\"fill: #9467bd; opacity: 0.5\"/>\n   </g>\n   <g id=\"patch_93\">\n    <path d=\"M 318.027022 327.59375 \nL 334.328471 327.59375 \nL 334.328471 310.229609 \nL 318.027022 310.229609 \nz\n\" clip-path=\"url(#p0f3857bc8c)\" style=\"fill: #9467bd; opacity: 0.5\"/>\n   </g>\n   <g id=\"patch_94\">\n    <path d=\"M 334.328471 327.59375 \nL 350.629921 327.59375 \nL 350.629921 223.408901 \nL 334.328471 223.408901 \nz\n\" clip-path=\"url(#p0f3857bc8c)\" style=\"fill: #9467bd; opacity: 0.5\"/>\n   </g>\n   <g id=\"patch_95\">\n    <path d=\"M 350.629921 327.59375 \nL 366.931371 327.59375 \nL 366.931371 162.634406 \nL 350.629921 162.634406 \nz\n\" clip-path=\"url(#p0f3857bc8c)\" style=\"fill: #9467bd; opacity: 0.5\"/>\n   </g>\n   <g id=\"patch_96\">\n    <path d=\"M 366.931371 327.59375 \nL 383.232821 327.59375 \nL 383.232821 153.952336 \nL 366.931371 153.952336 \nz\n\" clip-path=\"url(#p0f3857bc8c)\" style=\"fill: #9467bd; opacity: 0.5\"/>\n   </g>\n   <g id=\"patch_97\">\n    <path d=\"M 383.232821 327.59375 \nL 399.534271 327.59375 \nL 399.534271 136.588194 \nL 383.232821 136.588194 \nz\n\" clip-path=\"url(#p0f3857bc8c)\" style=\"fill: #9467bd; opacity: 0.5\"/>\n   </g>\n   <g id=\"patch_98\">\n    <path d=\"M 399.534271 327.59375 \nL 415.835721 327.59375 \nL 415.835721 214.726831 \nL 399.534271 214.726831 \nz\n\" clip-path=\"url(#p0f3857bc8c)\" style=\"fill: #9467bd; opacity: 0.5\"/>\n   </g>\n   <g id=\"patch_99\">\n    <path d=\"M 415.835721 327.59375 \nL 432.137171 327.59375 \nL 432.137171 258.137184 \nL 415.835721 258.137184 \nz\n\" clip-path=\"url(#p0f3857bc8c)\" style=\"fill: #9467bd; opacity: 0.5\"/>\n   </g>\n   <g id=\"patch_100\">\n    <path d=\"M 432.137171 327.59375 \nL 448.438621 327.59375 \nL 448.438621 318.911679 \nL 432.137171 318.911679 \nz\n\" clip-path=\"url(#p0f3857bc8c)\" style=\"fill: #9467bd; opacity: 0.5\"/>\n   </g>\n   <g id=\"patch_101\">\n    <path d=\"M 448.438621 327.59375 \nL 464.740071 327.59375 \nL 464.740071 327.59375 \nL 448.438621 327.59375 \nz\n\" clip-path=\"url(#p0f3857bc8c)\" style=\"fill: #9467bd; opacity: 0.5\"/>\n   </g>\n   <g id=\"patch_102\">\n    <path d=\"M 464.740071 327.59375 \nL 481.041521 327.59375 \nL 481.041521 310.229609 \nL 464.740071 310.229609 \nz\n\" clip-path=\"url(#p0f3857bc8c)\" style=\"fill: #9467bd; opacity: 0.5\"/>\n   </g>\n   <g id=\"patch_103\">\n    <path d=\"M 155.424191 327.59375 \nL 172.548977 327.59375 \nL 172.548977 323.754983 \nL 155.424191 323.754983 \nz\n\" clip-path=\"url(#p0f3857bc8c)\" style=\"fill: #8c564b; opacity: 0.5\"/>\n   </g>\n   <g id=\"patch_104\">\n    <path d=\"M 172.548977 327.59375 \nL 189.673764 327.59375 \nL 189.673764 327.59375 \nL 172.548977 327.59375 \nz\n\" clip-path=\"url(#p0f3857bc8c)\" style=\"fill: #8c564b; opacity: 0.5\"/>\n   </g>\n   <g id=\"patch_105\">\n    <path d=\"M 189.673764 327.59375 \nL 206.79855 327.59375 \nL 206.79855 327.59375 \nL 189.673764 327.59375 \nz\n\" clip-path=\"url(#p0f3857bc8c)\" style=\"fill: #8c564b; opacity: 0.5\"/>\n   </g>\n   <g id=\"patch_106\">\n    <path d=\"M 206.79855 327.59375 \nL 223.923336 327.59375 \nL 223.923336 323.754983 \nL 206.79855 323.754983 \nz\n\" clip-path=\"url(#p0f3857bc8c)\" style=\"fill: #8c564b; opacity: 0.5\"/>\n   </g>\n   <g id=\"patch_107\">\n    <path d=\"M 223.923336 327.59375 \nL 241.048123 327.59375 \nL 241.048123 327.59375 \nL 223.923336 327.59375 \nz\n\" clip-path=\"url(#p0f3857bc8c)\" style=\"fill: #8c564b; opacity: 0.5\"/>\n   </g>\n   <g id=\"patch_108\">\n    <path d=\"M 241.048123 327.59375 \nL 258.172909 327.59375 \nL 258.172909 319.916216 \nL 241.048123 319.916216 \nz\n\" clip-path=\"url(#p0f3857bc8c)\" style=\"fill: #8c564b; opacity: 0.5\"/>\n   </g>\n   <g id=\"patch_109\">\n    <path d=\"M 258.172909 327.59375 \nL 275.297696 327.59375 \nL 275.297696 323.754983 \nL 258.172909 323.754983 \nz\n\" clip-path=\"url(#p0f3857bc8c)\" style=\"fill: #8c564b; opacity: 0.5\"/>\n   </g>\n   <g id=\"patch_110\">\n    <path d=\"M 275.297696 327.59375 \nL 292.422482 327.59375 \nL 292.422482 316.07745 \nL 275.297696 316.07745 \nz\n\" clip-path=\"url(#p0f3857bc8c)\" style=\"fill: #8c564b; opacity: 0.5\"/>\n   </g>\n   <g id=\"patch_111\">\n    <path d=\"M 292.422482 327.59375 \nL 309.547268 327.59375 \nL 309.547268 316.07745 \nL 292.422482 316.07745 \nz\n\" clip-path=\"url(#p0f3857bc8c)\" style=\"fill: #8c564b; opacity: 0.5\"/>\n   </g>\n   <g id=\"patch_112\">\n    <path d=\"M 309.547268 327.59375 \nL 326.672055 327.59375 \nL 326.672055 323.754983 \nL 309.547268 323.754983 \nz\n\" clip-path=\"url(#p0f3857bc8c)\" style=\"fill: #8c564b; opacity: 0.5\"/>\n   </g>\n   <g id=\"patch_113\">\n    <path d=\"M 326.672055 327.59375 \nL 343.796841 327.59375 \nL 343.796841 281.528548 \nL 326.672055 281.528548 \nz\n\" clip-path=\"url(#p0f3857bc8c)\" style=\"fill: #8c564b; opacity: 0.5\"/>\n   </g>\n   <g id=\"patch_114\">\n    <path d=\"M 343.796841 327.59375 \nL 360.921628 327.59375 \nL 360.921628 116.461576 \nL 343.796841 116.461576 \nz\n\" clip-path=\"url(#p0f3857bc8c)\" style=\"fill: #8c564b; opacity: 0.5\"/>\n   </g>\n   <g id=\"patch_115\">\n    <path d=\"M 360.921628 327.59375 \nL 378.046414 327.59375 \nL 378.046414 154.849244 \nL 360.921628 154.849244 \nz\n\" clip-path=\"url(#p0f3857bc8c)\" style=\"fill: #8c564b; opacity: 0.5\"/>\n   </g>\n   <g id=\"patch_116\">\n    <path d=\"M 378.046414 327.59375 \nL 395.171201 327.59375 \nL 395.171201 135.65541 \nL 378.046414 135.65541 \nz\n\" clip-path=\"url(#p0f3857bc8c)\" style=\"fill: #8c564b; opacity: 0.5\"/>\n   </g>\n   <g id=\"patch_117\">\n    <path d=\"M 395.171201 327.59375 \nL 412.295987 327.59375 \nL 412.295987 181.720611 \nL 395.171201 181.720611 \nz\n\" clip-path=\"url(#p0f3857bc8c)\" style=\"fill: #8c564b; opacity: 0.5\"/>\n   </g>\n   <g id=\"patch_118\">\n    <path d=\"M 412.295987 327.59375 \nL 429.420773 327.59375 \nL 429.420773 270.012248 \nL 412.295987 270.012248 \nz\n\" clip-path=\"url(#p0f3857bc8c)\" style=\"fill: #8c564b; opacity: 0.5\"/>\n   </g>\n   <g id=\"patch_119\">\n    <path d=\"M 429.420773 327.59375 \nL 446.54556 327.59375 \nL 446.54556 296.883616 \nL 429.420773 296.883616 \nz\n\" clip-path=\"url(#p0f3857bc8c)\" style=\"fill: #8c564b; opacity: 0.5\"/>\n   </g>\n   <g id=\"patch_120\">\n    <path d=\"M 446.54556 327.59375 \nL 463.670346 327.59375 \nL 463.670346 316.07745 \nL 446.54556 316.07745 \nz\n\" clip-path=\"url(#p0f3857bc8c)\" style=\"fill: #8c564b; opacity: 0.5\"/>\n   </g>\n   <g id=\"patch_121\">\n    <path d=\"M 463.670346 327.59375 \nL 480.795133 327.59375 \nL 480.795133 319.916216 \nL 463.670346 319.916216 \nz\n\" clip-path=\"url(#p0f3857bc8c)\" style=\"fill: #8c564b; opacity: 0.5\"/>\n   </g>\n   <g id=\"patch_122\">\n    <path d=\"M 480.795133 327.59375 \nL 497.919919 327.59375 \nL 497.919919 319.916216 \nL 480.795133 319.916216 \nz\n\" clip-path=\"url(#p0f3857bc8c)\" style=\"fill: #8c564b; opacity: 0.5\"/>\n   </g>\n   <g id=\"patch_123\">\n    <path d=\"M 510.09932 327.59375 \nL 518.35959 327.59375 \nL 518.35959 243.14088 \nL 510.09932 243.14088 \nz\n\" clip-path=\"url(#p0f3857bc8c)\" style=\"fill: #e377c2; opacity: 0.5\"/>\n   </g>\n   <g id=\"patch_124\">\n    <path d=\"M 518.35959 327.59375 \nL 526.61986 327.59375 \nL 526.61986 222.027663 \nL 518.35959 222.027663 \nz\n\" clip-path=\"url(#p0f3857bc8c)\" style=\"fill: #e377c2; opacity: 0.5\"/>\n   </g>\n   <g id=\"patch_125\">\n    <path d=\"M 526.61986 327.59375 \nL 534.880129 327.59375 \nL 534.880129 222.027663 \nL 526.61986 222.027663 \nz\n\" clip-path=\"url(#p0f3857bc8c)\" style=\"fill: #e377c2; opacity: 0.5\"/>\n   </g>\n   <g id=\"patch_126\">\n    <path d=\"M 534.880129 327.59375 \nL 543.140399 327.59375 \nL 543.140399 285.367315 \nL 534.880129 285.367315 \nz\n\" clip-path=\"url(#p0f3857bc8c)\" style=\"fill: #e377c2; opacity: 0.5\"/>\n   </g>\n   <g id=\"patch_127\">\n    <path d=\"M 543.140399 327.59375 \nL 551.400669 327.59375 \nL 551.400669 222.027663 \nL 543.140399 222.027663 \nz\n\" clip-path=\"url(#p0f3857bc8c)\" style=\"fill: #e377c2; opacity: 0.5\"/>\n   </g>\n   <g id=\"patch_128\">\n    <path d=\"M 551.400669 327.59375 \nL 559.660939 327.59375 \nL 559.660939 243.14088 \nL 551.400669 243.14088 \nz\n\" clip-path=\"url(#p0f3857bc8c)\" style=\"fill: #e377c2; opacity: 0.5\"/>\n   </g>\n   <g id=\"patch_129\">\n    <path d=\"M 559.660939 327.59375 \nL 567.921209 327.59375 \nL 567.921209 222.027663 \nL 559.660939 222.027663 \nz\n\" clip-path=\"url(#p0f3857bc8c)\" style=\"fill: #e377c2; opacity: 0.5\"/>\n   </g>\n   <g id=\"patch_130\">\n    <path d=\"M 567.921209 327.59375 \nL 576.181478 327.59375 \nL 576.181478 264.254098 \nL 567.921209 264.254098 \nz\n\" clip-path=\"url(#p0f3857bc8c)\" style=\"fill: #e377c2; opacity: 0.5\"/>\n   </g>\n   <g id=\"patch_131\">\n    <path d=\"M 576.181478 327.59375 \nL 584.441748 327.59375 \nL 584.441748 285.367315 \nL 576.181478 285.367315 \nz\n\" clip-path=\"url(#p0f3857bc8c)\" style=\"fill: #e377c2; opacity: 0.5\"/>\n   </g>\n   <g id=\"patch_132\">\n    <path d=\"M 584.441748 327.59375 \nL 592.702018 327.59375 \nL 592.702018 264.254098 \nL 584.441748 264.254098 \nz\n\" clip-path=\"url(#p0f3857bc8c)\" style=\"fill: #e377c2; opacity: 0.5\"/>\n   </g>\n   <g id=\"patch_133\">\n    <path d=\"M 592.702018 327.59375 \nL 600.962288 327.59375 \nL 600.962288 306.480533 \nL 592.702018 306.480533 \nz\n\" clip-path=\"url(#p0f3857bc8c)\" style=\"fill: #e377c2; opacity: 0.5\"/>\n   </g>\n   <g id=\"patch_134\">\n    <path d=\"M 600.962288 327.59375 \nL 609.222558 327.59375 \nL 609.222558 306.480533 \nL 600.962288 306.480533 \nz\n\" clip-path=\"url(#p0f3857bc8c)\" style=\"fill: #e377c2; opacity: 0.5\"/>\n   </g>\n   <g id=\"patch_135\">\n    <path d=\"M 609.222558 327.59375 \nL 617.482827 327.59375 \nL 617.482827 306.480533 \nL 609.222558 306.480533 \nz\n\" clip-path=\"url(#p0f3857bc8c)\" style=\"fill: #e377c2; opacity: 0.5\"/>\n   </g>\n   <g id=\"patch_136\">\n    <path d=\"M 617.482827 327.59375 \nL 625.743097 327.59375 \nL 625.743097 327.59375 \nL 617.482827 327.59375 \nz\n\" clip-path=\"url(#p0f3857bc8c)\" style=\"fill: #e377c2; opacity: 0.5\"/>\n   </g>\n   <g id=\"patch_137\">\n    <path d=\"M 625.743097 327.59375 \nL 634.003367 327.59375 \nL 634.003367 327.59375 \nL 625.743097 327.59375 \nz\n\" clip-path=\"url(#p0f3857bc8c)\" style=\"fill: #e377c2; opacity: 0.5\"/>\n   </g>\n   <g id=\"patch_138\">\n    <path d=\"M 634.003367 327.59375 \nL 642.263637 327.59375 \nL 642.263637 306.480533 \nL 634.003367 306.480533 \nz\n\" clip-path=\"url(#p0f3857bc8c)\" style=\"fill: #e377c2; opacity: 0.5\"/>\n   </g>\n   <g id=\"patch_139\">\n    <path d=\"M 642.263637 327.59375 \nL 650.523907 327.59375 \nL 650.523907 327.59375 \nL 642.263637 327.59375 \nz\n\" clip-path=\"url(#p0f3857bc8c)\" style=\"fill: #e377c2; opacity: 0.5\"/>\n   </g>\n   <g id=\"patch_140\">\n    <path d=\"M 650.523907 327.59375 \nL 658.784176 327.59375 \nL 658.784176 306.480533 \nL 650.523907 306.480533 \nz\n\" clip-path=\"url(#p0f3857bc8c)\" style=\"fill: #e377c2; opacity: 0.5\"/>\n   </g>\n   <g id=\"patch_141\">\n    <path d=\"M 658.784176 327.59375 \nL 667.044446 327.59375 \nL 667.044446 327.59375 \nL 658.784176 327.59375 \nz\n\" clip-path=\"url(#p0f3857bc8c)\" style=\"fill: #e377c2; opacity: 0.5\"/>\n   </g>\n   <g id=\"patch_142\">\n    <path d=\"M 667.044446 327.59375 \nL 675.304716 327.59375 \nL 675.304716 306.480533 \nL 667.044446 306.480533 \nz\n\" clip-path=\"url(#p0f3857bc8c)\" style=\"fill: #e377c2; opacity: 0.5\"/>\n   </g>\n   <g id=\"matplotlib.axis_1\">\n    <g id=\"xtick_1\">\n     <g id=\"line2d_1\">\n      <path d=\"M 56.699329 327.59375 \nL 56.699329 22.5225 \n\" clip-path=\"url(#p0f3857bc8c)\" style=\"fill: none; stroke: #b0b0b0; stroke-width: 0.8; stroke-linecap: square\"/>\n     </g>\n     <g id=\"line2d_2\">\n      <defs>\n       <path id=\"m2942118a01\" d=\"M 0 0 \nL 0 3.5 \n\" style=\"stroke: #000000; stroke-width: 0.8\"/>\n      </defs>\n      <g>\n       <use xlink:href=\"#m2942118a01\" x=\"56.699329\" y=\"327.59375\" style=\"stroke: #000000; stroke-width: 0.8\"/>\n      </g>\n     </g>\n     <g id=\"text_1\">\n      <!-- 0.0 -->\n      <g transform=\"translate(48.747766 342.192187) scale(0.1 -0.1)\">\n       <defs>\n        <path id=\"DejaVuSans-30\" d=\"M 2034 4250 \nQ 1547 4250 1301 3770 \nQ 1056 3291 1056 2328 \nQ 1056 1369 1301 889 \nQ 1547 409 2034 409 \nQ 2525 409 2770 889 \nQ 3016 1369 3016 2328 \nQ 3016 3291 2770 3770 \nQ 2525 4250 2034 4250 \nz\nM 2034 4750 \nQ 2819 4750 3233 4129 \nQ 3647 3509 3647 2328 \nQ 3647 1150 3233 529 \nQ 2819 -91 2034 -91 \nQ 1250 -91 836 529 \nQ 422 1150 422 2328 \nQ 422 3509 836 4129 \nQ 1250 4750 2034 4750 \nz\n\" transform=\"scale(0.015625)\"/>\n        <path id=\"DejaVuSans-2e\" d=\"M 684 794 \nL 1344 794 \nL 1344 0 \nL 684 0 \nL 684 794 \nz\n\" transform=\"scale(0.015625)\"/>\n       </defs>\n       <use xlink:href=\"#DejaVuSans-30\"/>\n       <use xlink:href=\"#DejaVuSans-2e\" x=\"63.623047\"/>\n       <use xlink:href=\"#DejaVuSans-30\" x=\"95.410156\"/>\n      </g>\n     </g>\n    </g>\n    <g id=\"xtick_2\">\n     <g id=\"line2d_3\">\n      <path d=\"M 131.577638 327.59375 \nL 131.577638 22.5225 \n\" clip-path=\"url(#p0f3857bc8c)\" style=\"fill: none; stroke: #b0b0b0; stroke-width: 0.8; stroke-linecap: square\"/>\n     </g>\n     <g id=\"line2d_4\">\n      <g>\n       <use xlink:href=\"#m2942118a01\" x=\"131.577638\" y=\"327.59375\" style=\"stroke: #000000; stroke-width: 0.8\"/>\n      </g>\n     </g>\n     <g id=\"text_2\">\n      <!-- 0.5 -->\n      <g transform=\"translate(123.626076 342.192187) scale(0.1 -0.1)\">\n       <defs>\n        <path id=\"DejaVuSans-35\" d=\"M 691 4666 \nL 3169 4666 \nL 3169 4134 \nL 1269 4134 \nL 1269 2991 \nQ 1406 3038 1543 3061 \nQ 1681 3084 1819 3084 \nQ 2600 3084 3056 2656 \nQ 3513 2228 3513 1497 \nQ 3513 744 3044 326 \nQ 2575 -91 1722 -91 \nQ 1428 -91 1123 -41 \nQ 819 9 494 109 \nL 494 744 \nQ 775 591 1075 516 \nQ 1375 441 1709 441 \nQ 2250 441 2565 725 \nQ 2881 1009 2881 1497 \nQ 2881 1984 2565 2268 \nQ 2250 2553 1709 2553 \nQ 1456 2553 1204 2497 \nQ 953 2441 691 2322 \nL 691 4666 \nz\n\" transform=\"scale(0.015625)\"/>\n       </defs>\n       <use xlink:href=\"#DejaVuSans-30\"/>\n       <use xlink:href=\"#DejaVuSans-2e\" x=\"63.623047\"/>\n       <use xlink:href=\"#DejaVuSans-35\" x=\"95.410156\"/>\n      </g>\n     </g>\n    </g>\n    <g id=\"xtick_3\">\n     <g id=\"line2d_5\">\n      <path d=\"M 206.455948 327.59375 \nL 206.455948 22.5225 \n\" clip-path=\"url(#p0f3857bc8c)\" style=\"fill: none; stroke: #b0b0b0; stroke-width: 0.8; stroke-linecap: square\"/>\n     </g>\n     <g id=\"line2d_6\">\n      <g>\n       <use xlink:href=\"#m2942118a01\" x=\"206.455948\" y=\"327.59375\" style=\"stroke: #000000; stroke-width: 0.8\"/>\n      </g>\n     </g>\n     <g id=\"text_3\">\n      <!-- 1.0 -->\n      <g transform=\"translate(198.504385 342.192187) scale(0.1 -0.1)\">\n       <defs>\n        <path id=\"DejaVuSans-31\" d=\"M 794 531 \nL 1825 531 \nL 1825 4091 \nL 703 3866 \nL 703 4441 \nL 1819 4666 \nL 2450 4666 \nL 2450 531 \nL 3481 531 \nL 3481 0 \nL 794 0 \nL 794 531 \nz\n\" transform=\"scale(0.015625)\"/>\n       </defs>\n       <use xlink:href=\"#DejaVuSans-31\"/>\n       <use xlink:href=\"#DejaVuSans-2e\" x=\"63.623047\"/>\n       <use xlink:href=\"#DejaVuSans-30\" x=\"95.410156\"/>\n      </g>\n     </g>\n    </g>\n    <g id=\"xtick_4\">\n     <g id=\"line2d_7\">\n      <path d=\"M 281.334257 327.59375 \nL 281.334257 22.5225 \n\" clip-path=\"url(#p0f3857bc8c)\" style=\"fill: none; stroke: #b0b0b0; stroke-width: 0.8; stroke-linecap: square\"/>\n     </g>\n     <g id=\"line2d_8\">\n      <g>\n       <use xlink:href=\"#m2942118a01\" x=\"281.334257\" y=\"327.59375\" style=\"stroke: #000000; stroke-width: 0.8\"/>\n      </g>\n     </g>\n     <g id=\"text_4\">\n      <!-- 1.5 -->\n      <g transform=\"translate(273.382695 342.192187) scale(0.1 -0.1)\">\n       <use xlink:href=\"#DejaVuSans-31\"/>\n       <use xlink:href=\"#DejaVuSans-2e\" x=\"63.623047\"/>\n       <use xlink:href=\"#DejaVuSans-35\" x=\"95.410156\"/>\n      </g>\n     </g>\n    </g>\n    <g id=\"xtick_5\">\n     <g id=\"line2d_9\">\n      <path d=\"M 356.212566 327.59375 \nL 356.212566 22.5225 \n\" clip-path=\"url(#p0f3857bc8c)\" style=\"fill: none; stroke: #b0b0b0; stroke-width: 0.8; stroke-linecap: square\"/>\n     </g>\n     <g id=\"line2d_10\">\n      <g>\n       <use xlink:href=\"#m2942118a01\" x=\"356.212566\" y=\"327.59375\" style=\"stroke: #000000; stroke-width: 0.8\"/>\n      </g>\n     </g>\n     <g id=\"text_5\">\n      <!-- 2.0 -->\n      <g transform=\"translate(348.261004 342.192187) scale(0.1 -0.1)\">\n       <defs>\n        <path id=\"DejaVuSans-32\" d=\"M 1228 531 \nL 3431 531 \nL 3431 0 \nL 469 0 \nL 469 531 \nQ 828 903 1448 1529 \nQ 2069 2156 2228 2338 \nQ 2531 2678 2651 2914 \nQ 2772 3150 2772 3378 \nQ 2772 3750 2511 3984 \nQ 2250 4219 1831 4219 \nQ 1534 4219 1204 4116 \nQ 875 4013 500 3803 \nL 500 4441 \nQ 881 4594 1212 4672 \nQ 1544 4750 1819 4750 \nQ 2544 4750 2975 4387 \nQ 3406 4025 3406 3419 \nQ 3406 3131 3298 2873 \nQ 3191 2616 2906 2266 \nQ 2828 2175 2409 1742 \nQ 1991 1309 1228 531 \nz\n\" transform=\"scale(0.015625)\"/>\n       </defs>\n       <use xlink:href=\"#DejaVuSans-32\"/>\n       <use xlink:href=\"#DejaVuSans-2e\" x=\"63.623047\"/>\n       <use xlink:href=\"#DejaVuSans-30\" x=\"95.410156\"/>\n      </g>\n     </g>\n    </g>\n    <g id=\"xtick_6\">\n     <g id=\"line2d_11\">\n      <path d=\"M 431.090876 327.59375 \nL 431.090876 22.5225 \n\" clip-path=\"url(#p0f3857bc8c)\" style=\"fill: none; stroke: #b0b0b0; stroke-width: 0.8; stroke-linecap: square\"/>\n     </g>\n     <g id=\"line2d_12\">\n      <g>\n       <use xlink:href=\"#m2942118a01\" x=\"431.090876\" y=\"327.59375\" style=\"stroke: #000000; stroke-width: 0.8\"/>\n      </g>\n     </g>\n     <g id=\"text_6\">\n      <!-- 2.5 -->\n      <g transform=\"translate(423.139313 342.192187) scale(0.1 -0.1)\">\n       <use xlink:href=\"#DejaVuSans-32\"/>\n       <use xlink:href=\"#DejaVuSans-2e\" x=\"63.623047\"/>\n       <use xlink:href=\"#DejaVuSans-35\" x=\"95.410156\"/>\n      </g>\n     </g>\n    </g>\n    <g id=\"xtick_7\">\n     <g id=\"line2d_13\">\n      <path d=\"M 505.969185 327.59375 \nL 505.969185 22.5225 \n\" clip-path=\"url(#p0f3857bc8c)\" style=\"fill: none; stroke: #b0b0b0; stroke-width: 0.8; stroke-linecap: square\"/>\n     </g>\n     <g id=\"line2d_14\">\n      <g>\n       <use xlink:href=\"#m2942118a01\" x=\"505.969185\" y=\"327.59375\" style=\"stroke: #000000; stroke-width: 0.8\"/>\n      </g>\n     </g>\n     <g id=\"text_7\">\n      <!-- 3.0 -->\n      <g transform=\"translate(498.017623 342.192187) scale(0.1 -0.1)\">\n       <defs>\n        <path id=\"DejaVuSans-33\" d=\"M 2597 2516 \nQ 3050 2419 3304 2112 \nQ 3559 1806 3559 1356 \nQ 3559 666 3084 287 \nQ 2609 -91 1734 -91 \nQ 1441 -91 1130 -33 \nQ 819 25 488 141 \nL 488 750 \nQ 750 597 1062 519 \nQ 1375 441 1716 441 \nQ 2309 441 2620 675 \nQ 2931 909 2931 1356 \nQ 2931 1769 2642 2001 \nQ 2353 2234 1838 2234 \nL 1294 2234 \nL 1294 2753 \nL 1863 2753 \nQ 2328 2753 2575 2939 \nQ 2822 3125 2822 3475 \nQ 2822 3834 2567 4026 \nQ 2313 4219 1838 4219 \nQ 1578 4219 1281 4162 \nQ 984 4106 628 3988 \nL 628 4550 \nQ 988 4650 1302 4700 \nQ 1616 4750 1894 4750 \nQ 2613 4750 3031 4423 \nQ 3450 4097 3450 3541 \nQ 3450 3153 3228 2886 \nQ 3006 2619 2597 2516 \nz\n\" transform=\"scale(0.015625)\"/>\n       </defs>\n       <use xlink:href=\"#DejaVuSans-33\"/>\n       <use xlink:href=\"#DejaVuSans-2e\" x=\"63.623047\"/>\n       <use xlink:href=\"#DejaVuSans-30\" x=\"95.410156\"/>\n      </g>\n     </g>\n    </g>\n    <g id=\"xtick_8\">\n     <g id=\"line2d_15\">\n      <path d=\"M 580.847495 327.59375 \nL 580.847495 22.5225 \n\" clip-path=\"url(#p0f3857bc8c)\" style=\"fill: none; stroke: #b0b0b0; stroke-width: 0.8; stroke-linecap: square\"/>\n     </g>\n     <g id=\"line2d_16\">\n      <g>\n       <use xlink:href=\"#m2942118a01\" x=\"580.847495\" y=\"327.59375\" style=\"stroke: #000000; stroke-width: 0.8\"/>\n      </g>\n     </g>\n     <g id=\"text_8\">\n      <!-- 3.5 -->\n      <g transform=\"translate(572.895932 342.192187) scale(0.1 -0.1)\">\n       <use xlink:href=\"#DejaVuSans-33\"/>\n       <use xlink:href=\"#DejaVuSans-2e\" x=\"63.623047\"/>\n       <use xlink:href=\"#DejaVuSans-35\" x=\"95.410156\"/>\n      </g>\n     </g>\n    </g>\n    <g id=\"xtick_9\">\n     <g id=\"line2d_17\">\n      <path d=\"M 655.725804 327.59375 \nL 655.725804 22.5225 \n\" clip-path=\"url(#p0f3857bc8c)\" style=\"fill: none; stroke: #b0b0b0; stroke-width: 0.8; stroke-linecap: square\"/>\n     </g>\n     <g id=\"line2d_18\">\n      <g>\n       <use xlink:href=\"#m2942118a01\" x=\"655.725804\" y=\"327.59375\" style=\"stroke: #000000; stroke-width: 0.8\"/>\n      </g>\n     </g>\n     <g id=\"text_9\">\n      <!-- 4.0 -->\n      <g transform=\"translate(647.774242 342.192187) scale(0.1 -0.1)\">\n       <defs>\n        <path id=\"DejaVuSans-34\" d=\"M 2419 4116 \nL 825 1625 \nL 2419 1625 \nL 2419 4116 \nz\nM 2253 4666 \nL 3047 4666 \nL 3047 1625 \nL 3713 1625 \nL 3713 1100 \nL 3047 1100 \nL 3047 0 \nL 2419 0 \nL 2419 1100 \nL 313 1100 \nL 313 1709 \nL 2253 4666 \nz\n\" transform=\"scale(0.015625)\"/>\n       </defs>\n       <use xlink:href=\"#DejaVuSans-34\"/>\n       <use xlink:href=\"#DejaVuSans-2e\" x=\"63.623047\"/>\n       <use xlink:href=\"#DejaVuSans-30\" x=\"95.410156\"/>\n      </g>\n     </g>\n    </g>\n   </g>\n   <g id=\"matplotlib.axis_2\">\n    <g id=\"ytick_1\">\n     <g id=\"line2d_19\">\n      <path d=\"M 36.465625 327.59375 \nL 705.725625 327.59375 \n\" clip-path=\"url(#p0f3857bc8c)\" style=\"fill: none; stroke: #b0b0b0; stroke-width: 0.8; stroke-linecap: square\"/>\n     </g>\n     <g id=\"line2d_20\">\n      <defs>\n       <path id=\"m148d78bf5f\" d=\"M 0 0 \nL -3.5 0 \n\" style=\"stroke: #000000; stroke-width: 0.8\"/>\n      </defs>\n      <g>\n       <use xlink:href=\"#m148d78bf5f\" x=\"36.465625\" y=\"327.59375\" style=\"stroke: #000000; stroke-width: 0.8\"/>\n      </g>\n     </g>\n     <g id=\"text_10\">\n      <!-- 0.00 -->\n      <g transform=\"translate(7.2 331.392969) scale(0.1 -0.1)\">\n       <use xlink:href=\"#DejaVuSans-30\"/>\n       <use xlink:href=\"#DejaVuSans-2e\" x=\"63.623047\"/>\n       <use xlink:href=\"#DejaVuSans-30\" x=\"95.410156\"/>\n       <use xlink:href=\"#DejaVuSans-30\" x=\"159.033203\"/>\n      </g>\n     </g>\n    </g>\n    <g id=\"ytick_2\">\n     <g id=\"line2d_21\">\n      <path d=\"M 36.465625 281.144672 \nL 705.725625 281.144672 \n\" clip-path=\"url(#p0f3857bc8c)\" style=\"fill: none; stroke: #b0b0b0; stroke-width: 0.8; stroke-linecap: square\"/>\n     </g>\n     <g id=\"line2d_22\">\n      <g>\n       <use xlink:href=\"#m148d78bf5f\" x=\"36.465625\" y=\"281.144672\" style=\"stroke: #000000; stroke-width: 0.8\"/>\n      </g>\n     </g>\n     <g id=\"text_11\">\n      <!-- 0.05 -->\n      <g transform=\"translate(7.2 284.94389) scale(0.1 -0.1)\">\n       <use xlink:href=\"#DejaVuSans-30\"/>\n       <use xlink:href=\"#DejaVuSans-2e\" x=\"63.623047\"/>\n       <use xlink:href=\"#DejaVuSans-30\" x=\"95.410156\"/>\n       <use xlink:href=\"#DejaVuSans-35\" x=\"159.033203\"/>\n      </g>\n     </g>\n    </g>\n    <g id=\"ytick_3\">\n     <g id=\"line2d_23\">\n      <path d=\"M 36.465625 234.695593 \nL 705.725625 234.695593 \n\" clip-path=\"url(#p0f3857bc8c)\" style=\"fill: none; stroke: #b0b0b0; stroke-width: 0.8; stroke-linecap: square\"/>\n     </g>\n     <g id=\"line2d_24\">\n      <g>\n       <use xlink:href=\"#m148d78bf5f\" x=\"36.465625\" y=\"234.695593\" style=\"stroke: #000000; stroke-width: 0.8\"/>\n      </g>\n     </g>\n     <g id=\"text_12\">\n      <!-- 0.10 -->\n      <g transform=\"translate(7.2 238.494812) scale(0.1 -0.1)\">\n       <use xlink:href=\"#DejaVuSans-30\"/>\n       <use xlink:href=\"#DejaVuSans-2e\" x=\"63.623047\"/>\n       <use xlink:href=\"#DejaVuSans-31\" x=\"95.410156\"/>\n       <use xlink:href=\"#DejaVuSans-30\" x=\"159.033203\"/>\n      </g>\n     </g>\n    </g>\n    <g id=\"ytick_4\">\n     <g id=\"line2d_25\">\n      <path d=\"M 36.465625 188.246515 \nL 705.725625 188.246515 \n\" clip-path=\"url(#p0f3857bc8c)\" style=\"fill: none; stroke: #b0b0b0; stroke-width: 0.8; stroke-linecap: square\"/>\n     </g>\n     <g id=\"line2d_26\">\n      <g>\n       <use xlink:href=\"#m148d78bf5f\" x=\"36.465625\" y=\"188.246515\" style=\"stroke: #000000; stroke-width: 0.8\"/>\n      </g>\n     </g>\n     <g id=\"text_13\">\n      <!-- 0.15 -->\n      <g transform=\"translate(7.2 192.045734) scale(0.1 -0.1)\">\n       <use xlink:href=\"#DejaVuSans-30\"/>\n       <use xlink:href=\"#DejaVuSans-2e\" x=\"63.623047\"/>\n       <use xlink:href=\"#DejaVuSans-31\" x=\"95.410156\"/>\n       <use xlink:href=\"#DejaVuSans-35\" x=\"159.033203\"/>\n      </g>\n     </g>\n    </g>\n    <g id=\"ytick_5\">\n     <g id=\"line2d_27\">\n      <path d=\"M 36.465625 141.797437 \nL 705.725625 141.797437 \n\" clip-path=\"url(#p0f3857bc8c)\" style=\"fill: none; stroke: #b0b0b0; stroke-width: 0.8; stroke-linecap: square\"/>\n     </g>\n     <g id=\"line2d_28\">\n      <g>\n       <use xlink:href=\"#m148d78bf5f\" x=\"36.465625\" y=\"141.797437\" style=\"stroke: #000000; stroke-width: 0.8\"/>\n      </g>\n     </g>\n     <g id=\"text_14\">\n      <!-- 0.20 -->\n      <g transform=\"translate(7.2 145.596655) scale(0.1 -0.1)\">\n       <use xlink:href=\"#DejaVuSans-30\"/>\n       <use xlink:href=\"#DejaVuSans-2e\" x=\"63.623047\"/>\n       <use xlink:href=\"#DejaVuSans-32\" x=\"95.410156\"/>\n       <use xlink:href=\"#DejaVuSans-30\" x=\"159.033203\"/>\n      </g>\n     </g>\n    </g>\n    <g id=\"ytick_6\">\n     <g id=\"line2d_29\">\n      <path d=\"M 36.465625 95.348358 \nL 705.725625 95.348358 \n\" clip-path=\"url(#p0f3857bc8c)\" style=\"fill: none; stroke: #b0b0b0; stroke-width: 0.8; stroke-linecap: square\"/>\n     </g>\n     <g id=\"line2d_30\">\n      <g>\n       <use xlink:href=\"#m148d78bf5f\" x=\"36.465625\" y=\"95.348358\" style=\"stroke: #000000; stroke-width: 0.8\"/>\n      </g>\n     </g>\n     <g id=\"text_15\">\n      <!-- 0.25 -->\n      <g transform=\"translate(7.2 99.147577) scale(0.1 -0.1)\">\n       <use xlink:href=\"#DejaVuSans-30\"/>\n       <use xlink:href=\"#DejaVuSans-2e\" x=\"63.623047\"/>\n       <use xlink:href=\"#DejaVuSans-32\" x=\"95.410156\"/>\n       <use xlink:href=\"#DejaVuSans-35\" x=\"159.033203\"/>\n      </g>\n     </g>\n    </g>\n    <g id=\"ytick_7\">\n     <g id=\"line2d_31\">\n      <path d=\"M 36.465625 48.89928 \nL 705.725625 48.89928 \n\" clip-path=\"url(#p0f3857bc8c)\" style=\"fill: none; stroke: #b0b0b0; stroke-width: 0.8; stroke-linecap: square\"/>\n     </g>\n     <g id=\"line2d_32\">\n      <g>\n       <use xlink:href=\"#m148d78bf5f\" x=\"36.465625\" y=\"48.89928\" style=\"stroke: #000000; stroke-width: 0.8\"/>\n      </g>\n     </g>\n     <g id=\"text_16\">\n      <!-- 0.30 -->\n      <g transform=\"translate(7.2 52.698499) scale(0.1 -0.1)\">\n       <use xlink:href=\"#DejaVuSans-30\"/>\n       <use xlink:href=\"#DejaVuSans-2e\" x=\"63.623047\"/>\n       <use xlink:href=\"#DejaVuSans-33\" x=\"95.410156\"/>\n       <use xlink:href=\"#DejaVuSans-30\" x=\"159.033203\"/>\n      </g>\n     </g>\n    </g>\n   </g>\n   <g id=\"patch_143\">\n    <path d=\"M 36.465625 327.59375 \nL 36.465625 22.5225 \n\" style=\"fill: none; stroke: #000000; stroke-width: 0.8; stroke-linejoin: miter; stroke-linecap: square\"/>\n   </g>\n   <g id=\"patch_144\">\n    <path d=\"M 705.725625 327.59375 \nL 705.725625 22.5225 \n\" style=\"fill: none; stroke: #000000; stroke-width: 0.8; stroke-linejoin: miter; stroke-linecap: square\"/>\n   </g>\n   <g id=\"patch_145\">\n    <path d=\"M 36.465625 327.59375 \nL 705.725625 327.59375 \n\" style=\"fill: none; stroke: #000000; stroke-width: 0.8; stroke-linejoin: miter; stroke-linecap: square\"/>\n   </g>\n   <g id=\"patch_146\">\n    <path d=\"M 36.465625 22.5225 \nL 705.725625 22.5225 \n\" style=\"fill: none; stroke: #000000; stroke-width: 0.8; stroke-linejoin: miter; stroke-linecap: square\"/>\n   </g>\n   <g id=\"text_17\">\n    <!-- Распределение логарифмов платежей по разным уровням образования -->\n    <g transform=\"translate(141.785 16.5225) scale(0.12 -0.12)\">\n     <defs>\n      <path id=\"DejaVuSans-420\" d=\"M 1259 4147 \nL 1259 2394 \nL 2053 2394 \nQ 2494 2394 2734 2622 \nQ 2975 2850 2975 3272 \nQ 2975 3691 2734 3919 \nQ 2494 4147 2053 4147 \nL 1259 4147 \nz\nM 628 4666 \nL 2053 4666 \nQ 2838 4666 3239 4311 \nQ 3641 3956 3641 3272 \nQ 3641 2581 3239 2228 \nQ 2838 1875 2053 1875 \nL 1259 1875 \nL 1259 0 \nL 628 0 \nL 628 4666 \nz\n\" transform=\"scale(0.015625)\"/>\n      <path id=\"DejaVuSans-430\" d=\"M 2194 1759 \nQ 1497 1759 1228 1600 \nQ 959 1441 959 1056 \nQ 959 750 1161 570 \nQ 1363 391 1709 391 \nQ 2188 391 2477 730 \nQ 2766 1069 2766 1631 \nL 2766 1759 \nL 2194 1759 \nz\nM 3341 1997 \nL 3341 0 \nL 2766 0 \nL 2766 531 \nQ 2569 213 2275 61 \nQ 1981 -91 1556 -91 \nQ 1019 -91 701 211 \nQ 384 513 384 1019 \nQ 384 1609 779 1909 \nQ 1175 2209 1959 2209 \nL 2766 2209 \nL 2766 2266 \nQ 2766 2663 2505 2880 \nQ 2244 3097 1772 3097 \nQ 1472 3097 1187 3025 \nQ 903 2953 641 2809 \nL 641 3341 \nQ 956 3463 1253 3523 \nQ 1550 3584 1831 3584 \nQ 2591 3584 2966 3190 \nQ 3341 2797 3341 1997 \nz\n\" transform=\"scale(0.015625)\"/>\n      <path id=\"DejaVuSans-441\" d=\"M 3122 3366 \nL 3122 2828 \nQ 2878 2963 2633 3030 \nQ 2388 3097 2138 3097 \nQ 1578 3097 1268 2742 \nQ 959 2388 959 1747 \nQ 959 1106 1268 751 \nQ 1578 397 2138 397 \nQ 2388 397 2633 464 \nQ 2878 531 3122 666 \nL 3122 134 \nQ 2881 22 2623 -34 \nQ 2366 -91 2075 -91 \nQ 1284 -91 818 406 \nQ 353 903 353 1747 \nQ 353 2603 823 3093 \nQ 1294 3584 2113 3584 \nQ 2378 3584 2631 3529 \nQ 2884 3475 3122 3366 \nz\n\" transform=\"scale(0.015625)\"/>\n      <path id=\"DejaVuSans-43f\" d=\"M 3603 3500 \nL 3603 0 \nL 3025 0 \nL 3025 3041 \nL 1159 3041 \nL 1159 0 \nL 581 0 \nL 581 3500 \nL 3603 3500 \nz\n\" transform=\"scale(0.015625)\"/>\n      <path id=\"DejaVuSans-440\" d=\"M 1159 525 \nL 1159 -1331 \nL 581 -1331 \nL 581 3500 \nL 1159 3500 \nL 1159 2969 \nQ 1341 3281 1617 3432 \nQ 1894 3584 2278 3584 \nQ 2916 3584 3314 3078 \nQ 3713 2572 3713 1747 \nQ 3713 922 3314 415 \nQ 2916 -91 2278 -91 \nQ 1894 -91 1617 61 \nQ 1341 213 1159 525 \nz\nM 3116 1747 \nQ 3116 2381 2855 2742 \nQ 2594 3103 2138 3103 \nQ 1681 3103 1420 2742 \nQ 1159 2381 1159 1747 \nQ 1159 1113 1420 752 \nQ 1681 391 2138 391 \nQ 2594 391 2855 752 \nQ 3116 1113 3116 1747 \nz\n\" transform=\"scale(0.015625)\"/>\n      <path id=\"DejaVuSans-435\" d=\"M 3597 1894 \nL 3597 1613 \nL 953 1613 \nQ 991 1019 1311 708 \nQ 1631 397 2203 397 \nQ 2534 397 2845 478 \nQ 3156 559 3463 722 \nL 3463 178 \nQ 3153 47 2828 -22 \nQ 2503 -91 2169 -91 \nQ 1331 -91 842 396 \nQ 353 884 353 1716 \nQ 353 2575 817 3079 \nQ 1281 3584 2069 3584 \nQ 2775 3584 3186 3129 \nQ 3597 2675 3597 1894 \nz\nM 3022 2063 \nQ 3016 2534 2758 2815 \nQ 2500 3097 2075 3097 \nQ 1594 3097 1305 2825 \nQ 1016 2553 972 2059 \nL 3022 2063 \nz\n\" transform=\"scale(0.015625)\"/>\n      <path id=\"DejaVuSans-434\" d=\"M 1384 459 \nL 3053 459 \nL 3053 3041 \nL 1844 3041 \nL 1844 2603 \nQ 1844 1316 1475 628 \nL 1384 459 \nz\nM 550 459 \nQ 834 584 959 850 \nQ 1266 1509 1266 2838 \nL 1266 3500 \nL 3631 3500 \nL 3631 459 \nL 4091 459 \nL 4091 -884 \nL 3631 -884 \nL 3631 0 \nL 794 0 \nL 794 -884 \nL 334 -884 \nL 334 459 \nL 550 459 \nz\n\" transform=\"scale(0.015625)\"/>\n      <path id=\"DejaVuSans-43b\" d=\"M 238 0 \nL 238 478 \nQ 806 566 981 959 \nQ 1194 1513 1194 2928 \nL 1194 3500 \nL 3559 3500 \nL 3559 0 \nL 2984 0 \nL 2984 3041 \nL 1769 3041 \nL 1769 2694 \nQ 1769 1344 1494 738 \nQ 1200 91 238 0 \nz\n\" transform=\"scale(0.015625)\"/>\n      <path id=\"DejaVuSans-43d\" d=\"M 581 3500 \nL 1159 3500 \nL 1159 2072 \nL 3025 2072 \nL 3025 3500 \nL 3603 3500 \nL 3603 0 \nL 3025 0 \nL 3025 1613 \nL 1159 1613 \nL 1159 0 \nL 581 0 \nL 581 3500 \nz\n\" transform=\"scale(0.015625)\"/>\n      <path id=\"DejaVuSans-438\" d=\"M 3578 3500 \nL 3578 0 \nL 3006 0 \nL 3006 2809 \nL 1319 0 \nL 581 0 \nL 581 3500 \nL 1153 3500 \nL 1153 697 \nL 2838 3500 \nL 3578 3500 \nz\n\" transform=\"scale(0.015625)\"/>\n      <path id=\"DejaVuSans-20\" transform=\"scale(0.015625)\"/>\n      <path id=\"DejaVuSans-43e\" d=\"M 1959 3097 \nQ 1497 3097 1228 2736 \nQ 959 2375 959 1747 \nQ 959 1119 1226 758 \nQ 1494 397 1959 397 \nQ 2419 397 2687 759 \nQ 2956 1122 2956 1747 \nQ 2956 2369 2687 2733 \nQ 2419 3097 1959 3097 \nz\nM 1959 3584 \nQ 2709 3584 3137 3096 \nQ 3566 2609 3566 1747 \nQ 3566 888 3137 398 \nQ 2709 -91 1959 -91 \nQ 1206 -91 779 398 \nQ 353 888 353 1747 \nQ 353 2609 779 3096 \nQ 1206 3584 1959 3584 \nz\n\" transform=\"scale(0.015625)\"/>\n      <path id=\"DejaVuSans-433\" d=\"M 581 0 \nL 581 3500 \nL 3050 3500 \nL 3050 3041 \nL 1159 3041 \nL 1159 0 \nL 581 0 \nz\n\" transform=\"scale(0.015625)\"/>\n      <path id=\"DejaVuSans-444\" d=\"M 947 1747 \nQ 947 1013 1173 702 \nQ 1400 391 1784 391 \nQ 2091 391 2447 916 \nL 2447 2578 \nQ 2091 3103 1784 3103 \nQ 1400 3103 1173 2792 \nQ 947 2481 947 1747 \nz\nM 2447 -1331 \nL 2447 447 \nQ 2269 153 2064 31 \nQ 1859 -91 1600 -91 \nQ 1078 -91 714 392 \nQ 350 875 350 1734 \nQ 350 2594 714 3089 \nQ 1078 3584 1600 3584 \nQ 1859 3584 2064 3465 \nQ 2269 3347 2447 3053 \nL 2447 4666 \nL 3025 4666 \nL 3025 3053 \nQ 3203 3347 3408 3465 \nQ 3613 3584 3872 3584 \nQ 4394 3584 4758 3089 \nQ 5122 2594 5122 1734 \nQ 5122 875 4758 392 \nQ 4394 -91 3872 -91 \nQ 3613 -91 3408 31 \nQ 3203 153 3025 447 \nL 3025 -1331 \nL 2447 -1331 \nz\nM 4525 1747 \nQ 4525 2481 4298 2792 \nQ 4072 3103 3688 3103 \nQ 3381 3103 3025 2578 \nL 3025 916 \nQ 3381 391 3688 391 \nQ 4072 391 4298 702 \nQ 4525 1013 4525 1747 \nz\n\" transform=\"scale(0.015625)\"/>\n      <path id=\"DejaVuSans-43c\" d=\"M 581 3500 \nL 1422 3500 \nL 2416 1156 \nL 3413 3500 \nL 4247 3500 \nL 4247 0 \nL 3669 0 \nL 3669 2950 \nL 2703 672 \nL 2128 672 \nL 1159 2950 \nL 1159 0 \nL 581 0 \nL 581 3500 \nz\n\" transform=\"scale(0.015625)\"/>\n      <path id=\"DejaVuSans-432\" d=\"M 1156 1613 \nL 1156 459 \nL 1975 459 \nQ 2369 459 2575 607 \nQ 2781 756 2781 1038 \nQ 2781 1319 2575 1466 \nQ 2369 1613 1975 1613 \nL 1156 1613 \nz\nM 1156 3041 \nL 1156 2072 \nL 1913 2072 \nQ 2238 2072 2444 2201 \nQ 2650 2331 2650 2563 \nQ 2650 2794 2444 2917 \nQ 2238 3041 1913 3041 \nL 1156 3041 \nz\nM 581 3500 \nL 1950 3500 \nQ 2566 3500 2897 3275 \nQ 3228 3050 3228 2634 \nQ 3228 2313 3059 2123 \nQ 2891 1934 2559 1888 \nQ 2956 1813 3175 1575 \nQ 3394 1338 3394 981 \nQ 3394 513 3033 256 \nQ 2672 0 2003 0 \nL 581 0 \nL 581 3500 \nz\n\" transform=\"scale(0.015625)\"/>\n      <path id=\"DejaVuSans-442\" d=\"M 188 3500 \nL 3541 3500 \nL 3541 3041 \nL 2147 3041 \nL 2147 0 \nL 1581 0 \nL 1581 3041 \nL 188 3041 \nL 188 3500 \nz\n\" transform=\"scale(0.015625)\"/>\n      <path id=\"DejaVuSans-436\" d=\"M 2597 3500 \nL 3169 3500 \nL 3169 1856 \nL 4697 3500 \nL 5366 3500 \nL 4109 2153 \nL 5547 0 \nL 4931 0 \nL 3753 1769 \nL 3169 1141 \nL 3169 0 \nL 2597 0 \nL 2597 1141 \nL 2013 1769 \nL 834 0 \nL 219 0 \nL 1656 2153 \nL 400 3500 \nL 1069 3500 \nL 2597 1856 \nL 2597 3500 \nz\n\" transform=\"scale(0.015625)\"/>\n      <path id=\"DejaVuSans-439\" d=\"M 3578 3500 \nL 3578 0 \nL 3006 0 \nL 3006 2809 \nL 1319 0 \nL 581 0 \nL 581 3500 \nL 1153 3500 \nL 1153 697 \nL 2838 3500 \nL 3578 3500 \nz\nM 1102 4833 \nL 1471 4833 \nQ 1505 4599 1656 4481 \nQ 1808 4364 2080 4364 \nQ 2349 4364 2499 4480 \nQ 2649 4596 2689 4833 \nL 3058 4833 \nQ 3027 4386 2780 4161 \nQ 2533 3936 2080 3936 \nQ 1627 3936 1380 4161 \nQ 1133 4386 1102 4833 \nz\n\" transform=\"scale(0.015625)\"/>\n      <path id=\"DejaVuSans-437\" d=\"M 2206 1888 \nQ 2594 1813 2809 1584 \nQ 3025 1356 3025 1019 \nQ 3025 478 2622 193 \nQ 2219 -91 1475 -91 \nQ 1225 -91 961 -47 \nQ 697 -3 416 84 \nL 416 619 \nQ 638 503 903 445 \nQ 1169 388 1459 388 \nQ 1931 388 2195 563 \nQ 2459 738 2459 1019 \nQ 2459 1294 2225 1461 \nQ 1991 1628 1563 1628 \nL 1100 1628 \nL 1100 2103 \nL 1584 2103 \nQ 1947 2103 2158 2242 \nQ 2369 2381 2369 2600 \nQ 2369 2800 2151 2944 \nQ 1934 3088 1563 3088 \nQ 1341 3088 1089 3047 \nQ 838 3006 534 2916 \nL 534 3438 \nQ 841 3513 1106 3550 \nQ 1372 3588 1609 3588 \nQ 2222 3588 2576 3342 \nQ 2931 3097 2931 2656 \nQ 2931 2366 2743 2164 \nQ 2556 1963 2206 1888 \nz\n\" transform=\"scale(0.015625)\"/>\n      <path id=\"DejaVuSans-44b\" d=\"M 3907 3500 \nL 4482 3500 \nL 4482 0 \nL 3907 0 \nL 3907 3500 \nz\nM 4195 3584 \nL 4195 3584 \nz\nM 2781 1038 \nQ 2781 1319 2576 1466 \nQ 2372 1613 1978 1613 \nL 1159 1613 \nL 1159 459 \nL 1978 459 \nQ 2372 459 2576 607 \nQ 2781 756 2781 1038 \nz\nM 581 3500 \nL 1159 3500 \nL 1159 2072 \nL 2003 2072 \nQ 2672 2072 3033 1817 \nQ 3394 1563 3394 1038 \nQ 3394 513 3033 256 \nQ 2672 0 2003 0 \nL 581 0 \nL 581 3500 \nz\n\" transform=\"scale(0.015625)\"/>\n      <path id=\"DejaVuSans-443\" d=\"M 2059 -325 \nQ 1816 -950 1584 -1140 \nQ 1353 -1331 966 -1331 \nL 506 -1331 \nL 506 -850 \nL 844 -850 \nQ 1081 -850 1212 -737 \nQ 1344 -625 1503 -206 \nL 1606 56 \nL 191 3500 \nL 800 3500 \nL 1894 763 \nL 2988 3500 \nL 3597 3500 \nL 2059 -325 \nz\n\" transform=\"scale(0.015625)\"/>\n      <path id=\"DejaVuSans-44f\" d=\"M 1181 2491 \nQ 1181 2231 1381 2084 \nQ 1581 1938 1953 1938 \nL 2728 1938 \nL 2728 3041 \nL 1953 3041 \nQ 1581 3041 1381 2897 \nQ 1181 2753 1181 2491 \nz\nM 363 0 \nL 1431 1534 \nQ 1069 1616 828 1830 \nQ 588 2044 588 2491 \nQ 588 2997 923 3248 \nQ 1259 3500 1938 3500 \nL 3306 3500 \nL 3306 0 \nL 2728 0 \nL 2728 1478 \nL 2013 1478 \nL 981 0 \nL 363 0 \nz\n\" transform=\"scale(0.015625)\"/>\n      <path id=\"DejaVuSans-431\" d=\"M 1991 3584 \nQ 2741 3584 3169 3096 \nQ 3597 2609 3597 1747 \nQ 3597 888 3169 398 \nQ 2741 -91 1991 -91 \nQ 1238 -91 822 384 \nQ 406 859 384 1747 \nL 366 2463 \nQ 350 2834 350 2963 \nQ 350 3463 531 3831 \nQ 816 4409 1308 4659 \nQ 1800 4909 2625 4916 \nQ 3006 4919 3175 4972 \nL 3334 4516 \nQ 3181 4453 3041 4450 \nL 2259 4397 \nQ 1866 4369 1628 4231 \nQ 1006 3866 947 3388 \nL 925 3213 \nQ 1331 3584 1991 3584 \nz\nM 1991 3097 \nQ 1528 3097 1259 2736 \nQ 991 2375 991 1747 \nQ 991 1119 1258 758 \nQ 1525 397 1991 397 \nQ 2450 397 2719 759 \nQ 2988 1122 2988 1747 \nQ 2988 2369 2719 2733 \nQ 2450 3097 1991 3097 \nz\n\" transform=\"scale(0.015625)\"/>\n     </defs>\n     <use xlink:href=\"#DejaVuSans-420\"/>\n     <use xlink:href=\"#DejaVuSans-430\" x=\"60.302734\"/>\n     <use xlink:href=\"#DejaVuSans-441\" x=\"121.582031\"/>\n     <use xlink:href=\"#DejaVuSans-43f\" x=\"176.5625\"/>\n     <use xlink:href=\"#DejaVuSans-440\" x=\"241.943359\"/>\n     <use xlink:href=\"#DejaVuSans-435\" x=\"305.419922\"/>\n     <use xlink:href=\"#DejaVuSans-434\" x=\"366.943359\"/>\n     <use xlink:href=\"#DejaVuSans-435\" x=\"436.083984\"/>\n     <use xlink:href=\"#DejaVuSans-43b\" x=\"497.607422\"/>\n     <use xlink:href=\"#DejaVuSans-435\" x=\"561.523438\"/>\n     <use xlink:href=\"#DejaVuSans-43d\" x=\"623.046875\"/>\n     <use xlink:href=\"#DejaVuSans-438\" x=\"688.427734\"/>\n     <use xlink:href=\"#DejaVuSans-435\" x=\"753.417969\"/>\n     <use xlink:href=\"#DejaVuSans-20\" x=\"814.941406\"/>\n     <use xlink:href=\"#DejaVuSans-43b\" x=\"846.728516\"/>\n     <use xlink:href=\"#DejaVuSans-43e\" x=\"910.644531\"/>\n     <use xlink:href=\"#DejaVuSans-433\" x=\"971.826172\"/>\n     <use xlink:href=\"#DejaVuSans-430\" x=\"1024.365234\"/>\n     <use xlink:href=\"#DejaVuSans-440\" x=\"1085.644531\"/>\n     <use xlink:href=\"#DejaVuSans-438\" x=\"1149.121094\"/>\n     <use xlink:href=\"#DejaVuSans-444\" x=\"1214.111328\"/>\n     <use xlink:href=\"#DejaVuSans-43c\" x=\"1299.609375\"/>\n     <use xlink:href=\"#DejaVuSans-43e\" x=\"1375.048828\"/>\n     <use xlink:href=\"#DejaVuSans-432\" x=\"1436.230469\"/>\n     <use xlink:href=\"#DejaVuSans-20\" x=\"1495.166016\"/>\n     <use xlink:href=\"#DejaVuSans-43f\" x=\"1526.953125\"/>\n     <use xlink:href=\"#DejaVuSans-43b\" x=\"1592.333984\"/>\n     <use xlink:href=\"#DejaVuSans-430\" x=\"1656.25\"/>\n     <use xlink:href=\"#DejaVuSans-442\" x=\"1717.529297\"/>\n     <use xlink:href=\"#DejaVuSans-435\" x=\"1775.78125\"/>\n     <use xlink:href=\"#DejaVuSans-436\" x=\"1837.304688\"/>\n     <use xlink:href=\"#DejaVuSans-435\" x=\"1927.392578\"/>\n     <use xlink:href=\"#DejaVuSans-439\" x=\"1988.916016\"/>\n     <use xlink:href=\"#DejaVuSans-20\" x=\"2053.90625\"/>\n     <use xlink:href=\"#DejaVuSans-43f\" x=\"2085.693359\"/>\n     <use xlink:href=\"#DejaVuSans-43e\" x=\"2151.074219\"/>\n     <use xlink:href=\"#DejaVuSans-20\" x=\"2212.255859\"/>\n     <use xlink:href=\"#DejaVuSans-440\" x=\"2244.042969\"/>\n     <use xlink:href=\"#DejaVuSans-430\" x=\"2307.519531\"/>\n     <use xlink:href=\"#DejaVuSans-437\" x=\"2368.798828\"/>\n     <use xlink:href=\"#DejaVuSans-43d\" x=\"2421.972656\"/>\n     <use xlink:href=\"#DejaVuSans-44b\" x=\"2487.353516\"/>\n     <use xlink:href=\"#DejaVuSans-43c\" x=\"2566.308594\"/>\n     <use xlink:href=\"#DejaVuSans-20\" x=\"2641.748047\"/>\n     <use xlink:href=\"#DejaVuSans-443\" x=\"2673.535156\"/>\n     <use xlink:href=\"#DejaVuSans-440\" x=\"2732.714844\"/>\n     <use xlink:href=\"#DejaVuSans-43e\" x=\"2796.191406\"/>\n     <use xlink:href=\"#DejaVuSans-432\" x=\"2857.373047\"/>\n     <use xlink:href=\"#DejaVuSans-43d\" x=\"2916.308594\"/>\n     <use xlink:href=\"#DejaVuSans-44f\" x=\"2981.689453\"/>\n     <use xlink:href=\"#DejaVuSans-43c\" x=\"3041.845703\"/>\n     <use xlink:href=\"#DejaVuSans-20\" x=\"3117.285156\"/>\n     <use xlink:href=\"#DejaVuSans-43e\" x=\"3149.072266\"/>\n     <use xlink:href=\"#DejaVuSans-431\" x=\"3210.253906\"/>\n     <use xlink:href=\"#DejaVuSans-440\" x=\"3271.923828\"/>\n     <use xlink:href=\"#DejaVuSans-430\" x=\"3335.400391\"/>\n     <use xlink:href=\"#DejaVuSans-437\" x=\"3396.679688\"/>\n     <use xlink:href=\"#DejaVuSans-43e\" x=\"3449.853516\"/>\n     <use xlink:href=\"#DejaVuSans-432\" x=\"3511.035156\"/>\n     <use xlink:href=\"#DejaVuSans-430\" x=\"3569.970703\"/>\n     <use xlink:href=\"#DejaVuSans-43d\" x=\"3631.25\"/>\n     <use xlink:href=\"#DejaVuSans-438\" x=\"3696.630859\"/>\n     <use xlink:href=\"#DejaVuSans-44f\" x=\"3761.621094\"/>\n    </g>\n   </g>\n   <g id=\"legend_1\">\n    <g id=\"patch_147\">\n     <path d=\"M 660.363125 133.269375 \nL 698.725625 133.269375 \nQ 700.725625 133.269375 700.725625 131.269375 \nL 700.725625 29.5225 \nQ 700.725625 27.5225 698.725625 27.5225 \nL 660.363125 27.5225 \nQ 658.363125 27.5225 658.363125 29.5225 \nL 658.363125 131.269375 \nQ 658.363125 133.269375 660.363125 133.269375 \nz\n\" style=\"fill: #ffffff; opacity: 0.8; stroke: #cccccc; stroke-linejoin: miter\"/>\n    </g>\n    <g id=\"patch_148\">\n     <path d=\"M 662.363125 39.120937 \nL 682.363125 39.120937 \nL 682.363125 32.120937 \nL 662.363125 32.120937 \nz\n\" style=\"fill: #1f77b4; opacity: 0.5\"/>\n    </g>\n    <g id=\"text_18\">\n     <!-- 0 -->\n     <g transform=\"translate(690.363125 39.120937) scale(0.1 -0.1)\">\n      <use xlink:href=\"#DejaVuSans-30\"/>\n     </g>\n    </g>\n    <g id=\"patch_149\">\n     <path d=\"M 662.363125 53.799062 \nL 682.363125 53.799062 \nL 682.363125 46.799062 \nL 662.363125 46.799062 \nz\n\" style=\"fill: #ff7f0e; opacity: 0.5\"/>\n    </g>\n    <g id=\"text_19\">\n     <!-- 1 -->\n     <g transform=\"translate(690.363125 53.799062) scale(0.1 -0.1)\">\n      <use xlink:href=\"#DejaVuSans-31\"/>\n     </g>\n    </g>\n    <g id=\"patch_150\">\n     <path d=\"M 662.363125 68.477187 \nL 682.363125 68.477187 \nL 682.363125 61.477187 \nL 662.363125 61.477187 \nz\n\" style=\"fill: #2ca02c; opacity: 0.5\"/>\n    </g>\n    <g id=\"text_20\">\n     <!-- 2 -->\n     <g transform=\"translate(690.363125 68.477187) scale(0.1 -0.1)\">\n      <use xlink:href=\"#DejaVuSans-32\"/>\n     </g>\n    </g>\n    <g id=\"patch_151\">\n     <path d=\"M 662.363125 83.155312 \nL 682.363125 83.155312 \nL 682.363125 76.155312 \nL 662.363125 76.155312 \nz\n\" style=\"fill: #d62728; opacity: 0.5\"/>\n    </g>\n    <g id=\"text_21\">\n     <!-- 3 -->\n     <g transform=\"translate(690.363125 83.155312) scale(0.1 -0.1)\">\n      <use xlink:href=\"#DejaVuSans-33\"/>\n     </g>\n    </g>\n    <g id=\"patch_152\">\n     <path d=\"M 662.363125 97.833437 \nL 682.363125 97.833437 \nL 682.363125 90.833437 \nL 662.363125 90.833437 \nz\n\" style=\"fill: #9467bd; opacity: 0.5\"/>\n    </g>\n    <g id=\"text_22\">\n     <!-- 4 -->\n     <g transform=\"translate(690.363125 97.833437) scale(0.1 -0.1)\">\n      <use xlink:href=\"#DejaVuSans-34\"/>\n     </g>\n    </g>\n    <g id=\"patch_153\">\n     <path d=\"M 662.363125 112.511562 \nL 682.363125 112.511562 \nL 682.363125 105.511562 \nL 662.363125 105.511562 \nz\n\" style=\"fill: #8c564b; opacity: 0.5\"/>\n    </g>\n    <g id=\"text_23\">\n     <!-- 5 -->\n     <g transform=\"translate(690.363125 112.511562) scale(0.1 -0.1)\">\n      <use xlink:href=\"#DejaVuSans-35\"/>\n     </g>\n    </g>\n    <g id=\"patch_154\">\n     <path d=\"M 662.363125 127.189687 \nL 682.363125 127.189687 \nL 682.363125 120.189687 \nL 662.363125 120.189687 \nz\n\" style=\"fill: #e377c2; opacity: 0.5\"/>\n    </g>\n    <g id=\"text_24\">\n     <!-- 6 -->\n     <g transform=\"translate(690.363125 127.189687) scale(0.1 -0.1)\">\n      <defs>\n       <path id=\"DejaVuSans-36\" d=\"M 2113 2584 \nQ 1688 2584 1439 2293 \nQ 1191 2003 1191 1497 \nQ 1191 994 1439 701 \nQ 1688 409 2113 409 \nQ 2538 409 2786 701 \nQ 3034 994 3034 1497 \nQ 3034 2003 2786 2293 \nQ 2538 2584 2113 2584 \nz\nM 3366 4563 \nL 3366 3988 \nQ 3128 4100 2886 4159 \nQ 2644 4219 2406 4219 \nQ 1781 4219 1451 3797 \nQ 1122 3375 1075 2522 \nQ 1259 2794 1537 2939 \nQ 1816 3084 2150 3084 \nQ 2853 3084 3261 2657 \nQ 3669 2231 3669 1497 \nQ 3669 778 3244 343 \nQ 2819 -91 2113 -91 \nQ 1303 -91 875 529 \nQ 447 1150 447 2328 \nQ 447 3434 972 4092 \nQ 1497 4750 2381 4750 \nQ 2619 4750 2861 4703 \nQ 3103 4656 3366 4563 \nz\n\" transform=\"scale(0.015625)\"/>\n      </defs>\n      <use xlink:href=\"#DejaVuSans-36\"/>\n     </g>\n    </g>\n   </g>\n  </g>\n </g>\n <defs>\n  <clipPath id=\"p0f3857bc8c\">\n   <rect x=\"36.465625\" y=\"22.5225\" width=\"669.26\" height=\"305.07125\"/>\n  </clipPath>\n </defs>\n</svg>\n",
      "text/plain": [
       "<Figure size 1000x500 with 1 Axes>"
      ]
     },
     "metadata": {},
     "output_type": "display_data"
    }
   ],
   "source": [
    "fig, ax = plt.subplots(1, 1, figsize=(10, 5))\n",
    "\n",
    "ed_levels = data.select('EDUCATION').distinct().collect()\n",
    "for ed_level in sorted(ed_levels):\n",
    "    buckets, histogram = (\n",
    "        data\n",
    "            .filter(\n",
    "                (data.EDUCATION == ed_level.EDUCATION) & (data.PAY_AMT1 > 0)\n",
    "            )\n",
    "            .select(F.log10('PAY_AMT1').alias('log_PAY_AMT1'))\n",
    "            .rdd\n",
    "            .map(lambda x: x.log_PAY_AMT1)\n",
    "            .histogram(20)\n",
    "    )\n",
    "    buckets = np.array(buckets)\n",
    "    histogram = np.array(histogram)\n",
    "    \n",
    "    buckets = (buckets[:-1] + buckets[1]) / 2\n",
    "    histogram = histogram / np.sum(histogram)\n",
    "\n",
    "    ax.bar(buckets, histogram, width=(buckets[1] - buckets[0]), label=ed_level.EDUCATION, alpha=0.5)\n",
    "\n",
    "ax.set_title('Распределение логарифмов платежей по разным уровням образования')\n",
    "ax.legend()\n",
    "ax.grid(True)\n",
    "\n",
    "fig.tight_layout()\n",
    "plt.show()"
   ]
  },
  {
   "attachments": {},
   "cell_type": "markdown",
   "metadata": {},
   "source": [
    "### `Предобработка данных и обучение модели`"
   ]
  },
  {
   "cell_type": "code",
   "execution_count": 15,
   "metadata": {},
   "outputs": [],
   "source": [
    "data = data.drop('ID')\n",
    "data_train, data_test = data.randomSplit([0.7, 0.3], seed=6417)"
   ]
  },
  {
   "cell_type": "code",
   "execution_count": 16,
   "metadata": {},
   "outputs": [],
   "source": [
    "from pyspark.ml import Pipeline\n",
    "from pyspark.ml.feature import VectorAssembler, OneHotEncoder, StandardScaler\n",
    "from pyspark.ml.classification import LogisticRegression, RandomForestClassifier"
   ]
  },
  {
   "cell_type": "code",
   "execution_count": 17,
   "metadata": {},
   "outputs": [],
   "source": [
    "label_column = 'IS_DEFAULT'\n",
    "feature_columns = [_ for _ in data.columns if _ != label_column]"
   ]
  },
  {
   "cell_type": "code",
   "execution_count": 18,
   "metadata": {},
   "outputs": [
    {
     "data": {
      "text/plain": [
       "(VectorAssembler_d8e2e52fa039,\n",
       " LogisticRegression_3e17d4cf5caa,\n",
       " Pipeline_ec99e22f7f67)"
      ]
     },
     "execution_count": 18,
     "metadata": {},
     "output_type": "execute_result"
    }
   ],
   "source": [
    "assembler = VectorAssembler(inputCols=feature_columns, outputCol='features')\n",
    "scaler = StandardScaler(inputCol='features', outputCol='features_scaled', withMean=True, withStd=True)\n",
    "logistic_regressor = LogisticRegression(featuresCol='features_scaled', labelCol=label_column, predictionCol='prediction')\n",
    "\n",
    "pipe = Pipeline(stages=[assembler, scaler, logistic_regressor])\n",
    "assembler, logistic_regressor, pipe"
   ]
  },
  {
   "cell_type": "code",
   "execution_count": 19,
   "metadata": {},
   "outputs": [
    {
     "name": "stdout",
     "output_type": "stream",
     "text": [
      "23/02/21 16:41:44 WARN InstanceBuilder$JavaBLAS: Failed to load implementation from:dev.ludovic.netlib.blas.VectorBLAS\n",
      "23/02/21 16:41:44 WARN InstanceBuilder$NativeBLAS: Failed to load implementation from:dev.ludovic.netlib.blas.JNIBLAS\n",
      "23/02/21 16:41:44 WARN InstanceBuilder$NativeBLAS: Failed to load implementation from:dev.ludovic.netlib.blas.ForeignLinkerBLAS\n"
     ]
    },
    {
     "data": {
      "text/plain": [
       "PipelineModel_000e9df0c537"
      ]
     },
     "execution_count": 19,
     "metadata": {},
     "output_type": "execute_result"
    }
   ],
   "source": [
    "pipe_model = pipe.fit(data_train)\n",
    "pipe_model"
   ]
  },
  {
   "cell_type": "code",
   "execution_count": 20,
   "metadata": {},
   "outputs": [
    {
     "name": "stdout",
     "output_type": "stream",
     "text": [
      "Pipeline_ec99e22f7f67__stages\n",
      "[VectorAssembler_d8e2e52fa039, StandardScalerModel: uid=StandardScaler_b1732aee6430, numFeatures=23, withMean=true, withStd=true, LogisticRegressionModel: uid=LogisticRegression_3e17d4cf5caa, numClasses=2, numFeatures=23]\n"
     ]
    }
   ],
   "source": [
    "print(pipe.stages)\n",
    "print(pipe_model.stages)"
   ]
  },
  {
   "cell_type": "code",
   "execution_count": 21,
   "metadata": {},
   "outputs": [
    {
     "data": {
      "text/html": [
       "<div>\n",
       "<style scoped>\n",
       "    .dataframe tbody tr th:only-of-type {\n",
       "        vertical-align: middle;\n",
       "    }\n",
       "\n",
       "    .dataframe tbody tr th {\n",
       "        vertical-align: top;\n",
       "    }\n",
       "\n",
       "    .dataframe thead th {\n",
       "        text-align: right;\n",
       "    }\n",
       "</style>\n",
       "<table border=\"1\" class=\"dataframe\">\n",
       "  <thead>\n",
       "    <tr style=\"text-align: right;\">\n",
       "      <th></th>\n",
       "      <th>LIMIT_BAL</th>\n",
       "      <th>SEX</th>\n",
       "      <th>EDUCATION</th>\n",
       "      <th>MARRIAGE</th>\n",
       "      <th>AGE</th>\n",
       "      <th>PAY_0</th>\n",
       "      <th>PAY_2</th>\n",
       "      <th>PAY_3</th>\n",
       "      <th>PAY_4</th>\n",
       "      <th>PAY_5</th>\n",
       "      <th>...</th>\n",
       "      <th>PAY_AMT3</th>\n",
       "      <th>PAY_AMT4</th>\n",
       "      <th>PAY_AMT5</th>\n",
       "      <th>PAY_AMT6</th>\n",
       "      <th>IS_DEFAULT</th>\n",
       "      <th>features</th>\n",
       "      <th>features_scaled</th>\n",
       "      <th>rawPrediction</th>\n",
       "      <th>probability</th>\n",
       "      <th>prediction</th>\n",
       "    </tr>\n",
       "  </thead>\n",
       "  <tbody>\n",
       "    <tr>\n",
       "      <th>0</th>\n",
       "      <td>10000.0</td>\n",
       "      <td>1</td>\n",
       "      <td>1</td>\n",
       "      <td>1</td>\n",
       "      <td>38</td>\n",
       "      <td>-1</td>\n",
       "      <td>-1</td>\n",
       "      <td>2</td>\n",
       "      <td>0</td>\n",
       "      <td>0</td>\n",
       "      <td>...</td>\n",
       "      <td>500.0</td>\n",
       "      <td>1100.0</td>\n",
       "      <td>0.0</td>\n",
       "      <td>1000.0</td>\n",
       "      <td>1</td>\n",
       "      <td>[10000.0, 1.0, 1.0, 1.0, 38.0, -1.0, -1.0, 2.0...</td>\n",
       "      <td>[-1.2106245607528727, -1.2380925925385027, -1....</td>\n",
       "      <td>[1.329837676164193, -1.329837676164193]</td>\n",
       "      <td>[0.79081378325361, 0.20918621674639004]</td>\n",
       "      <td>0.0</td>\n",
       "    </tr>\n",
       "    <tr>\n",
       "      <th>1</th>\n",
       "      <td>10000.0</td>\n",
       "      <td>1</td>\n",
       "      <td>1</td>\n",
       "      <td>1</td>\n",
       "      <td>40</td>\n",
       "      <td>2</td>\n",
       "      <td>-1</td>\n",
       "      <td>-1</td>\n",
       "      <td>-2</td>\n",
       "      <td>-2</td>\n",
       "      <td>...</td>\n",
       "      <td>0.0</td>\n",
       "      <td>0.0</td>\n",
       "      <td>0.0</td>\n",
       "      <td>0.0</td>\n",
       "      <td>1</td>\n",
       "      <td>(10000.0, 1.0, 1.0, 1.0, 40.0, 2.0, -1.0, -1.0...</td>\n",
       "      <td>[-1.2106245607528727, -1.2380925925385027, -1....</td>\n",
       "      <td>[-0.03788615055048572, 0.03788615055048572]</td>\n",
       "      <td>[0.49052959512229416, 0.5094704048777059]</td>\n",
       "      <td>1.0</td>\n",
       "    </tr>\n",
       "    <tr>\n",
       "      <th>2</th>\n",
       "      <td>10000.0</td>\n",
       "      <td>1</td>\n",
       "      <td>1</td>\n",
       "      <td>1</td>\n",
       "      <td>42</td>\n",
       "      <td>4</td>\n",
       "      <td>3</td>\n",
       "      <td>2</td>\n",
       "      <td>2</td>\n",
       "      <td>2</td>\n",
       "      <td>...</td>\n",
       "      <td>2000.0</td>\n",
       "      <td>0.0</td>\n",
       "      <td>359.0</td>\n",
       "      <td>331.0</td>\n",
       "      <td>0</td>\n",
       "      <td>[10000.0, 1.0, 1.0, 1.0, 42.0, 4.0, 3.0, 2.0, ...</td>\n",
       "      <td>[-1.2106245607528727, -1.2380925925385027, -1....</td>\n",
       "      <td>[-2.0617333211619036, 2.0617333211619036]</td>\n",
       "      <td>[0.11287215260885863, 0.8871278473911414]</td>\n",
       "      <td>1.0</td>\n",
       "    </tr>\n",
       "  </tbody>\n",
       "</table>\n",
       "<p>3 rows × 29 columns</p>\n",
       "</div>"
      ],
      "text/plain": [
       "   LIMIT_BAL  SEX  EDUCATION  MARRIAGE  AGE  PAY_0  PAY_2  PAY_3  PAY_4  \\\n",
       "0    10000.0    1          1         1   38     -1     -1      2      0   \n",
       "1    10000.0    1          1         1   40      2     -1     -1     -2   \n",
       "2    10000.0    1          1         1   42      4      3      2      2   \n",
       "\n",
       "   PAY_5  ...  PAY_AMT3  PAY_AMT4  PAY_AMT5  PAY_AMT6  IS_DEFAULT  \\\n",
       "0      0  ...     500.0    1100.0       0.0    1000.0           1   \n",
       "1     -2  ...       0.0       0.0       0.0       0.0           1   \n",
       "2      2  ...    2000.0       0.0     359.0     331.0           0   \n",
       "\n",
       "                                            features  \\\n",
       "0  [10000.0, 1.0, 1.0, 1.0, 38.0, -1.0, -1.0, 2.0...   \n",
       "1  (10000.0, 1.0, 1.0, 1.0, 40.0, 2.0, -1.0, -1.0...   \n",
       "2  [10000.0, 1.0, 1.0, 1.0, 42.0, 4.0, 3.0, 2.0, ...   \n",
       "\n",
       "                                     features_scaled  \\\n",
       "0  [-1.2106245607528727, -1.2380925925385027, -1....   \n",
       "1  [-1.2106245607528727, -1.2380925925385027, -1....   \n",
       "2  [-1.2106245607528727, -1.2380925925385027, -1....   \n",
       "\n",
       "                                 rawPrediction  \\\n",
       "0      [1.329837676164193, -1.329837676164193]   \n",
       "1  [-0.03788615055048572, 0.03788615055048572]   \n",
       "2    [-2.0617333211619036, 2.0617333211619036]   \n",
       "\n",
       "                                 probability  prediction  \n",
       "0    [0.79081378325361, 0.20918621674639004]         0.0  \n",
       "1  [0.49052959512229416, 0.5094704048777059]         1.0  \n",
       "2  [0.11287215260885863, 0.8871278473911414]         1.0  \n",
       "\n",
       "[3 rows x 29 columns]"
      ]
     },
     "execution_count": 21,
     "metadata": {},
     "output_type": "execute_result"
    }
   ],
   "source": [
    "pipe_model.transform(data_train).limit(3).toPandas()"
   ]
  },
  {
   "cell_type": "code",
   "execution_count": 22,
   "metadata": {},
   "outputs": [
    {
     "data": {
      "text/html": [
       "<div>\n",
       "<style scoped>\n",
       "    .dataframe tbody tr th:only-of-type {\n",
       "        vertical-align: middle;\n",
       "    }\n",
       "\n",
       "    .dataframe tbody tr th {\n",
       "        vertical-align: top;\n",
       "    }\n",
       "\n",
       "    .dataframe thead th {\n",
       "        text-align: right;\n",
       "    }\n",
       "</style>\n",
       "<table border=\"1\" class=\"dataframe\">\n",
       "  <thead>\n",
       "    <tr style=\"text-align: right;\">\n",
       "      <th></th>\n",
       "      <th>LIMIT_BAL</th>\n",
       "      <th>SEX</th>\n",
       "      <th>EDUCATION</th>\n",
       "      <th>MARRIAGE</th>\n",
       "      <th>AGE</th>\n",
       "      <th>PAY_0</th>\n",
       "      <th>PAY_2</th>\n",
       "      <th>PAY_3</th>\n",
       "      <th>PAY_4</th>\n",
       "      <th>PAY_5</th>\n",
       "      <th>...</th>\n",
       "      <th>PAY_AMT3</th>\n",
       "      <th>PAY_AMT4</th>\n",
       "      <th>PAY_AMT5</th>\n",
       "      <th>PAY_AMT6</th>\n",
       "      <th>IS_DEFAULT</th>\n",
       "      <th>features</th>\n",
       "      <th>features_scaled</th>\n",
       "      <th>rawPrediction</th>\n",
       "      <th>probability</th>\n",
       "      <th>prediction</th>\n",
       "    </tr>\n",
       "  </thead>\n",
       "  <tbody>\n",
       "    <tr>\n",
       "      <th>0</th>\n",
       "      <td>10000.0</td>\n",
       "      <td>1</td>\n",
       "      <td>1</td>\n",
       "      <td>1</td>\n",
       "      <td>41</td>\n",
       "      <td>0</td>\n",
       "      <td>0</td>\n",
       "      <td>3</td>\n",
       "      <td>2</td>\n",
       "      <td>2</td>\n",
       "      <td>...</td>\n",
       "      <td>0.0</td>\n",
       "      <td>1002.0</td>\n",
       "      <td>0.0</td>\n",
       "      <td>500.0</td>\n",
       "      <td>0</td>\n",
       "      <td>[10000.0, 1.0, 1.0, 1.0, 41.0, 0.0, 0.0, 3.0, ...</td>\n",
       "      <td>[-1.2106245607528727, -1.2380925925385027, -1....</td>\n",
       "      <td>[0.45998406968582106, -0.45998406968582106]</td>\n",
       "      <td>[0.6130103970192098, 0.3869896029807902]</td>\n",
       "      <td>0.0</td>\n",
       "    </tr>\n",
       "    <tr>\n",
       "      <th>1</th>\n",
       "      <td>10000.0</td>\n",
       "      <td>1</td>\n",
       "      <td>1</td>\n",
       "      <td>2</td>\n",
       "      <td>22</td>\n",
       "      <td>0</td>\n",
       "      <td>0</td>\n",
       "      <td>0</td>\n",
       "      <td>0</td>\n",
       "      <td>0</td>\n",
       "      <td>...</td>\n",
       "      <td>300.0</td>\n",
       "      <td>1200.0</td>\n",
       "      <td>0.0</td>\n",
       "      <td>0.0</td>\n",
       "      <td>0</td>\n",
       "      <td>[10000.0, 1.0, 1.0, 2.0, 22.0, 0.0, 0.0, 0.0, ...</td>\n",
       "      <td>[-1.2106245607528727, -1.2380925925385027, -1....</td>\n",
       "      <td>[1.0388219403391268, -1.0388219403391268]</td>\n",
       "      <td>[0.738622634726616, 0.26137736527338395]</td>\n",
       "      <td>0.0</td>\n",
       "    </tr>\n",
       "    <tr>\n",
       "      <th>2</th>\n",
       "      <td>10000.0</td>\n",
       "      <td>1</td>\n",
       "      <td>1</td>\n",
       "      <td>2</td>\n",
       "      <td>22</td>\n",
       "      <td>2</td>\n",
       "      <td>2</td>\n",
       "      <td>2</td>\n",
       "      <td>0</td>\n",
       "      <td>0</td>\n",
       "      <td>...</td>\n",
       "      <td>1400.0</td>\n",
       "      <td>1100.0</td>\n",
       "      <td>0.0</td>\n",
       "      <td>500.0</td>\n",
       "      <td>1</td>\n",
       "      <td>[10000.0, 1.0, 1.0, 2.0, 22.0, 2.0, 2.0, 2.0, ...</td>\n",
       "      <td>[-1.2106245607528727, -1.2380925925385027, -1....</td>\n",
       "      <td>[-0.4241327813802216, 0.4241327813802216]</td>\n",
       "      <td>[0.39552823601763015, 0.6044717639823698]</td>\n",
       "      <td>1.0</td>\n",
       "    </tr>\n",
       "  </tbody>\n",
       "</table>\n",
       "<p>3 rows × 29 columns</p>\n",
       "</div>"
      ],
      "text/plain": [
       "   LIMIT_BAL  SEX  EDUCATION  MARRIAGE  AGE  PAY_0  PAY_2  PAY_3  PAY_4  \\\n",
       "0    10000.0    1          1         1   41      0      0      3      2   \n",
       "1    10000.0    1          1         2   22      0      0      0      0   \n",
       "2    10000.0    1          1         2   22      2      2      2      0   \n",
       "\n",
       "   PAY_5  ...  PAY_AMT3  PAY_AMT4  PAY_AMT5  PAY_AMT6  IS_DEFAULT  \\\n",
       "0      2  ...       0.0    1002.0       0.0     500.0           0   \n",
       "1      0  ...     300.0    1200.0       0.0       0.0           0   \n",
       "2      0  ...    1400.0    1100.0       0.0     500.0           1   \n",
       "\n",
       "                                            features  \\\n",
       "0  [10000.0, 1.0, 1.0, 1.0, 41.0, 0.0, 0.0, 3.0, ...   \n",
       "1  [10000.0, 1.0, 1.0, 2.0, 22.0, 0.0, 0.0, 0.0, ...   \n",
       "2  [10000.0, 1.0, 1.0, 2.0, 22.0, 2.0, 2.0, 2.0, ...   \n",
       "\n",
       "                                     features_scaled  \\\n",
       "0  [-1.2106245607528727, -1.2380925925385027, -1....   \n",
       "1  [-1.2106245607528727, -1.2380925925385027, -1....   \n",
       "2  [-1.2106245607528727, -1.2380925925385027, -1....   \n",
       "\n",
       "                                 rawPrediction  \\\n",
       "0  [0.45998406968582106, -0.45998406968582106]   \n",
       "1    [1.0388219403391268, -1.0388219403391268]   \n",
       "2    [-0.4241327813802216, 0.4241327813802216]   \n",
       "\n",
       "                                 probability  prediction  \n",
       "0   [0.6130103970192098, 0.3869896029807902]         0.0  \n",
       "1   [0.738622634726616, 0.26137736527338395]         0.0  \n",
       "2  [0.39552823601763015, 0.6044717639823698]         1.0  \n",
       "\n",
       "[3 rows x 29 columns]"
      ]
     },
     "execution_count": 22,
     "metadata": {},
     "output_type": "execute_result"
    }
   ],
   "source": [
    "pipe_model.transform(data_test).limit(3).toPandas()"
   ]
  },
  {
   "attachments": {},
   "cell_type": "markdown",
   "metadata": {},
   "source": [
    "### `Оценка качества`"
   ]
  },
  {
   "cell_type": "code",
   "execution_count": 23,
   "metadata": {},
   "outputs": [
    {
     "data": {
      "text/plain": [
       "(0.8085441527446301,\n",
       " 0.7236303702043676,\n",
       " [0.8162098103874691, 0.7120622568093385],\n",
       " [0.9727356463002763, 0.23536977491961414])"
      ]
     },
     "execution_count": 23,
     "metadata": {},
     "output_type": "execute_result"
    }
   ],
   "source": [
    "summary = pipe_model.stages[-1].summary\n",
    "summary.accuracy, summary.areaUnderROC, summary.precisionByLabel, summary.recallByLabel"
   ]
  },
  {
   "cell_type": "code",
   "execution_count": 24,
   "metadata": {},
   "outputs": [],
   "source": [
    "from pyspark.ml.evaluation import BinaryClassificationEvaluator, MulticlassClassificationEvaluator"
   ]
  },
  {
   "cell_type": "code",
   "execution_count": 25,
   "metadata": {},
   "outputs": [
    {
     "name": "stdout",
     "output_type": "stream",
     "text": [
      "ROC AUC train/test: 0.724/0.726\n"
     ]
    }
   ],
   "source": [
    "evaluator = BinaryClassificationEvaluator(\n",
    "    labelCol=label_column,\n",
    "    metricName='areaUnderROC'\n",
    ")\n",
    "print('ROC AUC train/test: {0:.3f}/{1:.3f}'.format(\n",
    "    evaluator.evaluate(pipe_model.transform(data_train)),\n",
    "    evaluator.evaluate(pipe_model.transform(data_test))\n",
    "))"
   ]
  },
  {
   "attachments": {},
   "cell_type": "markdown",
   "metadata": {},
   "source": [
    "### `Подбор гиперпараметров`"
   ]
  },
  {
   "cell_type": "code",
   "execution_count": 26,
   "metadata": {},
   "outputs": [],
   "source": [
    "from pyspark.ml.tuning import ParamGridBuilder, TrainValidationSplit"
   ]
  },
  {
   "cell_type": "code",
   "execution_count": 27,
   "metadata": {},
   "outputs": [
    {
     "data": {
      "text/plain": [
       "(12,\n",
       " {Param(parent='LogisticRegression_3e17d4cf5caa', name='maxIter', doc='max number of iterations (>= 0).'): 100,\n",
       "  Param(parent='LogisticRegression_3e17d4cf5caa', name='regParam', doc='regularization parameter (>= 0).'): 0.01,\n",
       "  Param(parent='LogisticRegression_3e17d4cf5caa', name='elasticNetParam', doc='the ElasticNet mixing parameter, in range [0, 1]. For alpha = 0, the penalty is an L2 penalty. For alpha = 1, it is an L1 penalty.'): 0.0})"
      ]
     },
     "execution_count": 27,
     "metadata": {},
     "output_type": "execute_result"
    }
   ],
   "source": [
    "param_grid = (\n",
    "    ParamGridBuilder()\n",
    "        .addGrid(logistic_regressor.maxIter, [100])\n",
    "        .addGrid(logistic_regressor.regParam, [1e-2, 1e-1, 1e-0, 1e-1])\n",
    "        .addGrid(logistic_regressor.elasticNetParam, [0.0, 0.5, 1.0])\n",
    "        .build()\n",
    ")\n",
    "len(param_grid), param_grid[0]"
   ]
  },
  {
   "cell_type": "code",
   "execution_count": 28,
   "metadata": {},
   "outputs": [
    {
     "data": {
      "text/plain": [
       "TrainValidationSplitModel_c9fff0206f43"
      ]
     },
     "execution_count": 28,
     "metadata": {},
     "output_type": "execute_result"
    }
   ],
   "source": [
    "tvs = TrainValidationSplit(\n",
    "    estimator=pipe, \n",
    "    estimatorParamMaps=param_grid,\n",
    "    evaluator=evaluator,\n",
    "    trainRatio=0.8,\n",
    "    seed=6417\n",
    ")\n",
    "\n",
    "tvs_model = tvs.fit(data)\n",
    "tvs_model"
   ]
  },
  {
   "cell_type": "code",
   "execution_count": 29,
   "metadata": {},
   "outputs": [
    {
     "name": "stdout",
     "output_type": "stream",
     "text": [
      "ROC AUC train/test: 0.722/0.725\n"
     ]
    }
   ],
   "source": [
    "print('ROC AUC train/test: {0:.3f}/{1:.3f}'.format(\n",
    "    evaluator.evaluate(tvs_model.transform(data_train)),\n",
    "    evaluator.evaluate(tvs_model.transform(data_test))\n",
    "))"
   ]
  },
  {
   "cell_type": "code",
   "execution_count": 30,
   "metadata": {},
   "outputs": [
    {
     "data": {
      "text/plain": [
       "{Param(parent='LogisticRegression_3e17d4cf5caa', name='aggregationDepth', doc='suggested depth for treeAggregate (>= 2).'): 2,\n",
       " Param(parent='LogisticRegression_3e17d4cf5caa', name='elasticNetParam', doc='the ElasticNet mixing parameter, in range [0, 1]. For alpha = 0, the penalty is an L2 penalty. For alpha = 1, it is an L1 penalty.'): 0.0,\n",
       " Param(parent='LogisticRegression_3e17d4cf5caa', name='family', doc='The name of family which is a description of the label distribution to be used in the model. Supported options: auto, binomial, multinomial'): 'auto',\n",
       " Param(parent='LogisticRegression_3e17d4cf5caa', name='featuresCol', doc='features column name.'): 'features_scaled',\n",
       " Param(parent='LogisticRegression_3e17d4cf5caa', name='fitIntercept', doc='whether to fit an intercept term.'): True,\n",
       " Param(parent='LogisticRegression_3e17d4cf5caa', name='labelCol', doc='label column name.'): 'IS_DEFAULT',\n",
       " Param(parent='LogisticRegression_3e17d4cf5caa', name='maxBlockSizeInMB', doc='maximum memory in MB for stacking input data into blocks. Data is stacked within partitions. If more than remaining data size in a partition then it is adjusted to the data size. Default 0.0 represents choosing optimal value, depends on specific algorithm. Must be >= 0.'): 0.0,\n",
       " Param(parent='LogisticRegression_3e17d4cf5caa', name='maxIter', doc='max number of iterations (>= 0).'): 100,\n",
       " Param(parent='LogisticRegression_3e17d4cf5caa', name='predictionCol', doc='prediction column name.'): 'prediction',\n",
       " Param(parent='LogisticRegression_3e17d4cf5caa', name='probabilityCol', doc='Column name for predicted class conditional probabilities. Note: Not all models output well-calibrated probability estimates! These probabilities should be treated as confidences, not precise probabilities.'): 'probability',\n",
       " Param(parent='LogisticRegression_3e17d4cf5caa', name='rawPredictionCol', doc='raw prediction (a.k.a. confidence) column name.'): 'rawPrediction',\n",
       " Param(parent='LogisticRegression_3e17d4cf5caa', name='regParam', doc='regularization parameter (>= 0).'): 0.01,\n",
       " Param(parent='LogisticRegression_3e17d4cf5caa', name='standardization', doc='whether to standardize the training features before fitting the model.'): True,\n",
       " Param(parent='LogisticRegression_3e17d4cf5caa', name='threshold', doc='Threshold in binary classification prediction, in range [0, 1]. If threshold and thresholds are both set, they must match.e.g. if threshold is p, then thresholds must be equal to [1-p, p].'): 0.5,\n",
       " Param(parent='LogisticRegression_3e17d4cf5caa', name='tol', doc='the convergence tolerance for iterative algorithms (>= 0).'): 1e-06}"
      ]
     },
     "execution_count": 30,
     "metadata": {},
     "output_type": "execute_result"
    }
   ],
   "source": [
    "tvs_model.bestModel.stages[-1].extractParamMap()"
   ]
  },
  {
   "attachments": {},
   "cell_type": "markdown",
   "metadata": {},
   "source": [
    "### `Пример. Random Forest`"
   ]
  },
  {
   "cell_type": "code",
   "execution_count": 31,
   "metadata": {},
   "outputs": [],
   "source": [
    "label_column = 'IS_DEFAULT'\n",
    "feature_columns = [_ for _ in data.columns if _ not in {label_column, 'EDUCATION'}]"
   ]
  },
  {
   "cell_type": "code",
   "execution_count": 32,
   "metadata": {},
   "outputs": [
    {
     "data": {
      "text/plain": [
       "(VectorAssembler_d8e2e52fa039,\n",
       " RandomForestClassifier_b5028c86a281,\n",
       " Pipeline_ec99e22f7f67)"
      ]
     },
     "execution_count": 32,
     "metadata": {},
     "output_type": "execute_result"
    }
   ],
   "source": [
    "ohe_encoder = OneHotEncoder(inputCols=['EDUCATION'], outputCols=['EDUCATION_OHE'])\n",
    "rf_assembler = VectorAssembler(inputCols=feature_columns + ['EDUCATION_OHE'], outputCol='features')\n",
    "random_forest = RandomForestClassifier(featuresCol='features', labelCol=label_column, predictionCol='prediction')\n",
    "\n",
    "rf_pipe = Pipeline(stages=[ohe_encoder, rf_assembler, random_forest])\n",
    "assembler, random_forest, pipe"
   ]
  },
  {
   "cell_type": "code",
   "execution_count": 33,
   "metadata": {},
   "outputs": [
    {
     "data": {
      "text/html": [
       "<div>\n",
       "<style scoped>\n",
       "    .dataframe tbody tr th:only-of-type {\n",
       "        vertical-align: middle;\n",
       "    }\n",
       "\n",
       "    .dataframe tbody tr th {\n",
       "        vertical-align: top;\n",
       "    }\n",
       "\n",
       "    .dataframe thead th {\n",
       "        text-align: right;\n",
       "    }\n",
       "</style>\n",
       "<table border=\"1\" class=\"dataframe\">\n",
       "  <thead>\n",
       "    <tr style=\"text-align: right;\">\n",
       "      <th></th>\n",
       "      <th>LIMIT_BAL</th>\n",
       "      <th>SEX</th>\n",
       "      <th>EDUCATION</th>\n",
       "      <th>MARRIAGE</th>\n",
       "      <th>AGE</th>\n",
       "      <th>PAY_0</th>\n",
       "      <th>PAY_2</th>\n",
       "      <th>PAY_3</th>\n",
       "      <th>PAY_4</th>\n",
       "      <th>PAY_5</th>\n",
       "      <th>...</th>\n",
       "      <th>PAY_AMT3</th>\n",
       "      <th>PAY_AMT4</th>\n",
       "      <th>PAY_AMT5</th>\n",
       "      <th>PAY_AMT6</th>\n",
       "      <th>IS_DEFAULT</th>\n",
       "      <th>EDUCATION_OHE</th>\n",
       "      <th>features</th>\n",
       "      <th>rawPrediction</th>\n",
       "      <th>probability</th>\n",
       "      <th>prediction</th>\n",
       "    </tr>\n",
       "  </thead>\n",
       "  <tbody>\n",
       "    <tr>\n",
       "      <th>0</th>\n",
       "      <td>10000.0</td>\n",
       "      <td>1</td>\n",
       "      <td>1</td>\n",
       "      <td>1</td>\n",
       "      <td>38</td>\n",
       "      <td>-1</td>\n",
       "      <td>-1</td>\n",
       "      <td>2</td>\n",
       "      <td>0</td>\n",
       "      <td>0</td>\n",
       "      <td>...</td>\n",
       "      <td>500.0</td>\n",
       "      <td>1100.0</td>\n",
       "      <td>0.0</td>\n",
       "      <td>1000.0</td>\n",
       "      <td>1</td>\n",
       "      <td>(0.0, 1.0, 0.0, 0.0, 0.0, 0.0)</td>\n",
       "      <td>[10000.0, 1.0, 1.0, 38.0, -1.0, -1.0, 2.0, 0.0...</td>\n",
       "      <td>[14.982697001659567, 5.017302998340434]</td>\n",
       "      <td>[0.7491348500829783, 0.2508651499170217]</td>\n",
       "      <td>0.0</td>\n",
       "    </tr>\n",
       "    <tr>\n",
       "      <th>1</th>\n",
       "      <td>10000.0</td>\n",
       "      <td>1</td>\n",
       "      <td>1</td>\n",
       "      <td>1</td>\n",
       "      <td>40</td>\n",
       "      <td>2</td>\n",
       "      <td>-1</td>\n",
       "      <td>-1</td>\n",
       "      <td>-2</td>\n",
       "      <td>-2</td>\n",
       "      <td>...</td>\n",
       "      <td>0.0</td>\n",
       "      <td>0.0</td>\n",
       "      <td>0.0</td>\n",
       "      <td>0.0</td>\n",
       "      <td>1</td>\n",
       "      <td>(0.0, 1.0, 0.0, 0.0, 0.0, 0.0)</td>\n",
       "      <td>(10000.0, 1.0, 1.0, 40.0, 2.0, -1.0, -1.0, -2....</td>\n",
       "      <td>[12.802080925669593, 7.197919074330409]</td>\n",
       "      <td>[0.6401040462834796, 0.35989595371652044]</td>\n",
       "      <td>0.0</td>\n",
       "    </tr>\n",
       "    <tr>\n",
       "      <th>2</th>\n",
       "      <td>10000.0</td>\n",
       "      <td>1</td>\n",
       "      <td>1</td>\n",
       "      <td>1</td>\n",
       "      <td>42</td>\n",
       "      <td>4</td>\n",
       "      <td>3</td>\n",
       "      <td>2</td>\n",
       "      <td>2</td>\n",
       "      <td>2</td>\n",
       "      <td>...</td>\n",
       "      <td>2000.0</td>\n",
       "      <td>0.0</td>\n",
       "      <td>359.0</td>\n",
       "      <td>331.0</td>\n",
       "      <td>0</td>\n",
       "      <td>(0.0, 1.0, 0.0, 0.0, 0.0, 0.0)</td>\n",
       "      <td>[10000.0, 1.0, 1.0, 42.0, 4.0, 3.0, 2.0, 2.0, ...</td>\n",
       "      <td>[6.120765997897317, 13.879234002102683]</td>\n",
       "      <td>[0.30603829989486586, 0.6939617001051341]</td>\n",
       "      <td>1.0</td>\n",
       "    </tr>\n",
       "  </tbody>\n",
       "</table>\n",
       "<p>3 rows × 29 columns</p>\n",
       "</div>"
      ],
      "text/plain": [
       "   LIMIT_BAL  SEX  EDUCATION  MARRIAGE  AGE  PAY_0  PAY_2  PAY_3  PAY_4  \\\n",
       "0    10000.0    1          1         1   38     -1     -1      2      0   \n",
       "1    10000.0    1          1         1   40      2     -1     -1     -2   \n",
       "2    10000.0    1          1         1   42      4      3      2      2   \n",
       "\n",
       "   PAY_5  ...  PAY_AMT3  PAY_AMT4  PAY_AMT5  PAY_AMT6  IS_DEFAULT  \\\n",
       "0      0  ...     500.0    1100.0       0.0    1000.0           1   \n",
       "1     -2  ...       0.0       0.0       0.0       0.0           1   \n",
       "2      2  ...    2000.0       0.0     359.0     331.0           0   \n",
       "\n",
       "                    EDUCATION_OHE  \\\n",
       "0  (0.0, 1.0, 0.0, 0.0, 0.0, 0.0)   \n",
       "1  (0.0, 1.0, 0.0, 0.0, 0.0, 0.0)   \n",
       "2  (0.0, 1.0, 0.0, 0.0, 0.0, 0.0)   \n",
       "\n",
       "                                            features  \\\n",
       "0  [10000.0, 1.0, 1.0, 38.0, -1.0, -1.0, 2.0, 0.0...   \n",
       "1  (10000.0, 1.0, 1.0, 40.0, 2.0, -1.0, -1.0, -2....   \n",
       "2  [10000.0, 1.0, 1.0, 42.0, 4.0, 3.0, 2.0, 2.0, ...   \n",
       "\n",
       "                             rawPrediction  \\\n",
       "0  [14.982697001659567, 5.017302998340434]   \n",
       "1  [12.802080925669593, 7.197919074330409]   \n",
       "2  [6.120765997897317, 13.879234002102683]   \n",
       "\n",
       "                                 probability  prediction  \n",
       "0   [0.7491348500829783, 0.2508651499170217]         0.0  \n",
       "1  [0.6401040462834796, 0.35989595371652044]         0.0  \n",
       "2  [0.30603829989486586, 0.6939617001051341]         1.0  \n",
       "\n",
       "[3 rows x 29 columns]"
      ]
     },
     "execution_count": 33,
     "metadata": {},
     "output_type": "execute_result"
    }
   ],
   "source": [
    "rf_pipe_model = rf_pipe.fit(data_train)\n",
    "rf_pipe_model.transform(data_train).limit(3).toPandas()"
   ]
  },
  {
   "cell_type": "code",
   "execution_count": 34,
   "metadata": {},
   "outputs": [
    {
     "name": "stdout",
     "output_type": "stream",
     "text": [
      "ROC AUC train/test: 0.774/0.768\n"
     ]
    }
   ],
   "source": [
    "print('ROC AUC train/test: {0:.3f}/{1:.3f}'.format(\n",
    "    evaluator.evaluate(rf_pipe_model.transform(data_train)),\n",
    "    evaluator.evaluate(rf_pipe_model.transform(data_test))\n",
    "))"
   ]
  },
  {
   "cell_type": "code",
   "execution_count": 35,
   "metadata": {},
   "outputs": [
    {
     "data": {
      "text/plain": [
       "RandomForestClassificationModel: uid=RandomForestClassifier_b5028c86a281, numTrees=20, numClasses=2, numFeatures=28"
      ]
     },
     "metadata": {},
     "output_type": "display_data"
    }
   ],
   "source": [
    "display(rf_pipe_model.stages[-1])"
   ]
  },
  {
   "attachments": {},
   "cell_type": "markdown",
   "metadata": {},
   "source": [
    "### `Пример. Текстовые данные`"
   ]
  },
  {
   "cell_type": "code",
   "execution_count": 36,
   "metadata": {},
   "outputs": [
    {
     "name": "stdout",
     "output_type": "stream",
     "text": [
      "--2023-02-21 16:42:14--  https://www.dropbox.com/s/r6u59ljhhjdg6j0/negative.csv?dl=0\n",
      "Распознаётся www.dropbox.com (www.dropbox.com)… 162.125.70.18\n",
      "Подключение к www.dropbox.com (www.dropbox.com)|162.125.70.18|:443... соединение установлено.\n",
      "HTTP-запрос отправлен. Ожидание ответа… 302 Found\n",
      "Адрес: /s/raw/r6u59ljhhjdg6j0/negative.csv [переход]\n",
      "--2023-02-21 16:42:15--  https://www.dropbox.com/s/raw/r6u59ljhhjdg6j0/negative.csv\n",
      "Повторное использование соединения с www.dropbox.com:443.\n",
      "HTTP-запрос отправлен. Ожидание ответа… 302 Found\n",
      "Адрес: https://uc37c4a18584c020a5686cc54ccd.dl.dropboxusercontent.com/cd/0/inline/B266TCLVR-bu2xkq_M8Rh6CxtrBvJQ3CBMIacL9GivNdV5Cjtb1DNkgrrNlVNK8yZO1AgOmNHD5QrG3OpYmUrobAb3FrLUApJmVVkveN41r4osvC7-OIxIQO8Vx5SJxJvppTqHqPSlqrskY7hH-6OZpJvUTrsV6sOj_QQlSjtOotBA/file# [переход]\n",
      "--2023-02-21 16:42:15--  https://uc37c4a18584c020a5686cc54ccd.dl.dropboxusercontent.com/cd/0/inline/B266TCLVR-bu2xkq_M8Rh6CxtrBvJQ3CBMIacL9GivNdV5Cjtb1DNkgrrNlVNK8yZO1AgOmNHD5QrG3OpYmUrobAb3FrLUApJmVVkveN41r4osvC7-OIxIQO8Vx5SJxJvppTqHqPSlqrskY7hH-6OZpJvUTrsV6sOj_QQlSjtOotBA/file\n",
      "Распознаётся uc37c4a18584c020a5686cc54ccd.dl.dropboxusercontent.com (uc37c4a18584c020a5686cc54ccd.dl.dropboxusercontent.com)… 162.125.70.15\n",
      "Подключение к uc37c4a18584c020a5686cc54ccd.dl.dropboxusercontent.com (uc37c4a18584c020a5686cc54ccd.dl.dropboxusercontent.com)|162.125.70.15|:443... соединение установлено.\n",
      "HTTP-запрос отправлен. Ожидание ответа… 200 OK\n",
      "Длина: 24450101 (23M) [text/plain]\n",
      "Сохранение в: «./tweets/negative.csv»\n",
      "\n",
      "./tweets/negative.c 100%[===================>]  23,32M  16,6MB/s    за 1,4s    \n",
      "\n",
      "2023-02-21 16:42:17 (16,6 MB/s) - «./tweets/negative.csv» сохранён [24450101/24450101]\n",
      "\n",
      "--2023-02-21 16:42:17--  https://www.dropbox.com/s/fnpq3z4bcnoktiv/positive.csv?dl=0\n",
      "Распознаётся www.dropbox.com (www.dropbox.com)… 162.125.70.18\n",
      "Подключение к www.dropbox.com (www.dropbox.com)|162.125.70.18|:443... соединение установлено.\n",
      "HTTP-запрос отправлен. Ожидание ответа… 302 Found\n",
      "Адрес: /s/raw/fnpq3z4bcnoktiv/positive.csv [переход]\n",
      "--2023-02-21 16:42:18--  https://www.dropbox.com/s/raw/fnpq3z4bcnoktiv/positive.csv\n",
      "Повторное использование соединения с www.dropbox.com:443.\n",
      "HTTP-запрос отправлен. Ожидание ответа… 302 Found\n",
      "Адрес: https://uc382e9814f775631a714aa9e915.dl.dropboxusercontent.com/cd/0/inline/B27g2tsGOx02XBTA_DU0gzjFx9yRCU-x5QbvYVQ82tF2KBxwteOvnM6KIDw4zWlzzUYy_YUnZHnbF5m1Wl0hoQK8S893oQcrnq1itTPlwP4Rfuh5NMLPXgfW0MC3ehl25lGr4nbUA9-VhlZJVLcyGrpUQUs8JKhlEIYoFss6YNu8iA/file# [переход]\n",
      "--2023-02-21 16:42:18--  https://uc382e9814f775631a714aa9e915.dl.dropboxusercontent.com/cd/0/inline/B27g2tsGOx02XBTA_DU0gzjFx9yRCU-x5QbvYVQ82tF2KBxwteOvnM6KIDw4zWlzzUYy_YUnZHnbF5m1Wl0hoQK8S893oQcrnq1itTPlwP4Rfuh5NMLPXgfW0MC3ehl25lGr4nbUA9-VhlZJVLcyGrpUQUs8JKhlEIYoFss6YNu8iA/file\n",
      "Распознаётся uc382e9814f775631a714aa9e915.dl.dropboxusercontent.com (uc382e9814f775631a714aa9e915.dl.dropboxusercontent.com)… 162.125.70.15\n",
      "Подключение к uc382e9814f775631a714aa9e915.dl.dropboxusercontent.com (uc382e9814f775631a714aa9e915.dl.dropboxusercontent.com)|162.125.70.15|:443... соединение установлено.\n",
      "HTTP-запрос отправлен. Ожидание ответа… 200 OK\n",
      "Длина: 26233379 (25M) [text/plain]\n",
      "Сохранение в: «./tweets/positive.csv»\n",
      "\n",
      "./tweets/positive.c 100%[===================>]  25,02M  16,9MB/s    за 1,5s    \n",
      "\n",
      "2023-02-21 16:42:22 (16,9 MB/s) - «./tweets/positive.csv» сохранён [26233379/26233379]\n",
      "\n"
     ]
    }
   ],
   "source": [
    "path = './tweets'\n",
    "\n",
    "! mkdir $path\n",
    "! wget -O \"$path/negative.csv\" \"https://www.dropbox.com/s/r6u59ljhhjdg6j0/negative.csv?dl=0\"\n",
    "! wget -O \"$path/positive.csv\" \"https://www.dropbox.com/s/fnpq3z4bcnoktiv/positive.csv?dl=0\""
   ]
  },
  {
   "cell_type": "code",
   "execution_count": 37,
   "metadata": {},
   "outputs": [],
   "source": [
    "# Зададим пути к файлам из датасета\n",
    "file_type = \"csv\"\n",
    "infer_schema = \"false\"\n",
    "first_row_is_header = \"false\"\n",
    "delimiter = \";\"\n",
    "\n",
    "text_data_negative = (\n",
    "    spark.read.format(file_type)\n",
    "      .option(\"inferSchema\", infer_schema)\n",
    "      .option(\"header\", first_row_is_header)\n",
    "      .option(\"sep\", delimiter)\n",
    "      .load([\n",
    "          f\"{path}/negative.csv\",\n",
    "        ])\n",
    ")\n",
    "text_data_positive = (\n",
    "    spark.read.format(file_type)\n",
    "      .option(\"inferSchema\", infer_schema)\n",
    "      .option(\"header\", first_row_is_header)\n",
    "      .option(\"sep\", delimiter)\n",
    "      .load([\n",
    "          f\"{path}/positive.csv\"\n",
    "        ])\n",
    ")"
   ]
  },
  {
   "cell_type": "code",
   "execution_count": 38,
   "metadata": {},
   "outputs": [
    {
     "data": {
      "text/html": [
       "<div>\n",
       "<style scoped>\n",
       "    .dataframe tbody tr th:only-of-type {\n",
       "        vertical-align: middle;\n",
       "    }\n",
       "\n",
       "    .dataframe tbody tr th {\n",
       "        vertical-align: top;\n",
       "    }\n",
       "\n",
       "    .dataframe thead th {\n",
       "        text-align: right;\n",
       "    }\n",
       "</style>\n",
       "<table border=\"1\" class=\"dataframe\">\n",
       "  <thead>\n",
       "    <tr style=\"text-align: right;\">\n",
       "      <th></th>\n",
       "      <th>_c0</th>\n",
       "      <th>_c1</th>\n",
       "      <th>_c2</th>\n",
       "      <th>_c3</th>\n",
       "      <th>_c4</th>\n",
       "      <th>_c5</th>\n",
       "      <th>_c6</th>\n",
       "      <th>_c7</th>\n",
       "      <th>_c8</th>\n",
       "      <th>_c9</th>\n",
       "      <th>_c10</th>\n",
       "      <th>_c11</th>\n",
       "    </tr>\n",
       "  </thead>\n",
       "  <tbody>\n",
       "    <tr>\n",
       "      <th>0</th>\n",
       "      <td>408906762813579264</td>\n",
       "      <td>1386325944</td>\n",
       "      <td>dugarchikbellko</td>\n",
       "      <td>на работе был полный пиддес :| и так каждое за...</td>\n",
       "      <td>-1</td>\n",
       "      <td>0</td>\n",
       "      <td>0</td>\n",
       "      <td>0</td>\n",
       "      <td>8064</td>\n",
       "      <td>111</td>\n",
       "      <td>94</td>\n",
       "      <td>2</td>\n",
       "    </tr>\n",
       "    <tr>\n",
       "      <th>1</th>\n",
       "      <td>408906818262687744</td>\n",
       "      <td>1386325957</td>\n",
       "      <td>nugemycejela</td>\n",
       "      <td>Коллеги сидят рубятся в Urban terror, а я из-з...</td>\n",
       "      <td>-1</td>\n",
       "      <td>0</td>\n",
       "      <td>0</td>\n",
       "      <td>0</td>\n",
       "      <td>26</td>\n",
       "      <td>42</td>\n",
       "      <td>39</td>\n",
       "      <td>0</td>\n",
       "    </tr>\n",
       "    <tr>\n",
       "      <th>2</th>\n",
       "      <td>408906858515398656</td>\n",
       "      <td>1386325966</td>\n",
       "      <td>4post21</td>\n",
       "      <td>@elina_4post как говорят обещаного три года жд...</td>\n",
       "      <td>-1</td>\n",
       "      <td>0</td>\n",
       "      <td>0</td>\n",
       "      <td>0</td>\n",
       "      <td>718</td>\n",
       "      <td>49</td>\n",
       "      <td>249</td>\n",
       "      <td>0</td>\n",
       "    </tr>\n",
       "  </tbody>\n",
       "</table>\n",
       "</div>"
      ],
      "text/plain": [
       "                  _c0         _c1              _c2  \\\n",
       "0  408906762813579264  1386325944  dugarchikbellko   \n",
       "1  408906818262687744  1386325957     nugemycejela   \n",
       "2  408906858515398656  1386325966          4post21   \n",
       "\n",
       "                                                 _c3 _c4 _c5 _c6 _c7   _c8  \\\n",
       "0  на работе был полный пиддес :| и так каждое за...  -1   0   0   0  8064   \n",
       "1  Коллеги сидят рубятся в Urban terror, а я из-з...  -1   0   0   0    26   \n",
       "2  @elina_4post как говорят обещаного три года жд...  -1   0   0   0   718   \n",
       "\n",
       "   _c9 _c10 _c11  \n",
       "0  111   94    2  \n",
       "1   42   39    0  \n",
       "2   49  249    0  "
      ]
     },
     "metadata": {},
     "output_type": "display_data"
    },
    {
     "data": {
      "text/html": [
       "<div>\n",
       "<style scoped>\n",
       "    .dataframe tbody tr th:only-of-type {\n",
       "        vertical-align: middle;\n",
       "    }\n",
       "\n",
       "    .dataframe tbody tr th {\n",
       "        vertical-align: top;\n",
       "    }\n",
       "\n",
       "    .dataframe thead th {\n",
       "        text-align: right;\n",
       "    }\n",
       "</style>\n",
       "<table border=\"1\" class=\"dataframe\">\n",
       "  <thead>\n",
       "    <tr style=\"text-align: right;\">\n",
       "      <th></th>\n",
       "      <th>_c0</th>\n",
       "      <th>_c1</th>\n",
       "      <th>_c2</th>\n",
       "      <th>_c3</th>\n",
       "      <th>_c4</th>\n",
       "      <th>_c5</th>\n",
       "      <th>_c6</th>\n",
       "      <th>_c7</th>\n",
       "      <th>_c8</th>\n",
       "      <th>_c9</th>\n",
       "      <th>_c10</th>\n",
       "      <th>_c11</th>\n",
       "    </tr>\n",
       "  </thead>\n",
       "  <tbody>\n",
       "    <tr>\n",
       "      <th>0</th>\n",
       "      <td>408906692374446080</td>\n",
       "      <td>1386325927</td>\n",
       "      <td>pleease_shut_up</td>\n",
       "      <td>@first_timee хоть я и школота, но поверь, у на...</td>\n",
       "      <td>1</td>\n",
       "      <td>0</td>\n",
       "      <td>0</td>\n",
       "      <td>0</td>\n",
       "      <td>7569</td>\n",
       "      <td>62</td>\n",
       "      <td>61</td>\n",
       "      <td>0</td>\n",
       "    </tr>\n",
       "    <tr>\n",
       "      <th>1</th>\n",
       "      <td>408906692693221377</td>\n",
       "      <td>1386325927</td>\n",
       "      <td>alinakirpicheva</td>\n",
       "      <td>Да, все-таки он немного похож на него. Но мой ...</td>\n",
       "      <td>1</td>\n",
       "      <td>0</td>\n",
       "      <td>0</td>\n",
       "      <td>0</td>\n",
       "      <td>11825</td>\n",
       "      <td>59</td>\n",
       "      <td>31</td>\n",
       "      <td>2</td>\n",
       "    </tr>\n",
       "    <tr>\n",
       "      <th>2</th>\n",
       "      <td>408906695083954177</td>\n",
       "      <td>1386325927</td>\n",
       "      <td>EvgeshaRe</td>\n",
       "      <td>RT @KatiaCheh: Ну ты идиотка) я испугалась за ...</td>\n",
       "      <td>1</td>\n",
       "      <td>0</td>\n",
       "      <td>1</td>\n",
       "      <td>0</td>\n",
       "      <td>1273</td>\n",
       "      <td>26</td>\n",
       "      <td>27</td>\n",
       "      <td>0</td>\n",
       "    </tr>\n",
       "  </tbody>\n",
       "</table>\n",
       "</div>"
      ],
      "text/plain": [
       "                  _c0         _c1              _c2  \\\n",
       "0  408906692374446080  1386325927  pleease_shut_up   \n",
       "1  408906692693221377  1386325927  alinakirpicheva   \n",
       "2  408906695083954177  1386325927        EvgeshaRe   \n",
       "\n",
       "                                                 _c3 _c4 _c5 _c6 _c7    _c8  \\\n",
       "0  @first_timee хоть я и школота, но поверь, у на...   1   0   0   0   7569   \n",
       "1  Да, все-таки он немного похож на него. Но мой ...   1   0   0   0  11825   \n",
       "2  RT @KatiaCheh: Ну ты идиотка) я испугалась за ...   1   0   1   0   1273   \n",
       "\n",
       "  _c9 _c10 _c11  \n",
       "0  62   61    0  \n",
       "1  59   31    2  \n",
       "2  26   27    0  "
      ]
     },
     "metadata": {},
     "output_type": "display_data"
    }
   ],
   "source": [
    "display(text_data_negative.limit(3).toPandas())\n",
    "display(text_data_positive.limit(3).toPandas())"
   ]
  },
  {
   "cell_type": "code",
   "execution_count": 39,
   "metadata": {},
   "outputs": [
    {
     "name": "stdout",
     "output_type": "stream",
     "text": [
      "+--------------------------------------------------------------------------------------------------------------------------------------------+-----+\n",
      "|text                                                                                                                                        |label|\n",
      "+--------------------------------------------------------------------------------------------------------------------------------------------+-----+\n",
      "|RT @jumpduckfuckup: Полина обиделась потому что я выиграл у нее в дурака :(                                                                 |0    |\n",
      "|@FlowerAliceWolf беспределище((((((( что они вообще себе там думают, эти родители                                                           |0    |\n",
      "|Неее,ну,так не чеееестно.. Я гулять хочу,но холодно((( Хочу туда,где тепло..@justinbieber забери меня к себе #JustinRussiaRulesYourInstagram|0    |\n",
      "|0                                                                                                                                           |1    |\n",
      "|какая музыка нравиться? — Люблю рэп,  сейчас эта песня зацепила) http://t.co/be0FYkIcD8                                                     |1    |\n",
      "+--------------------------------------------------------------------------------------------------------------------------------------------+-----+\n",
      "\n"
     ]
    }
   ],
   "source": [
    "text_data_negative = text_data_negative.select('_c3').withColumnRenamed('_c3', 'text').withColumn('label', F.lit(0))\n",
    "text_data_positive = text_data_positive.select('_c3').withColumnRenamed('_c3', 'text').withColumn('label', F.lit(1))\n",
    "text_data = text_data_negative.union(text_data_positive).dropna()\n",
    "\n",
    "text_data.sample(3e-5).show(truncate=False)"
   ]
  },
  {
   "cell_type": "code",
   "execution_count": 40,
   "metadata": {},
   "outputs": [],
   "source": [
    "from pyspark.ml.feature import Tokenizer, NGram, HashingTF, IDF \n",
    "from pyspark.ml.classification import NaiveBayes"
   ]
  },
  {
   "cell_type": "code",
   "execution_count": 41,
   "metadata": {},
   "outputs": [],
   "source": [
    "text_pipe = Pipeline(stages=[\n",
    "    Tokenizer(inputCol='text', outputCol='tokens'),\n",
    "    NGram(inputCol='tokens', outputCol='ngrams', n=2),\n",
    "    HashingTF(inputCol='ngrams', outputCol='tf'),\n",
    "    IDF(inputCol='tf', outputCol='idf'),\n",
    "    VectorAssembler(inputCols=['tf', 'idf'], outputCol='features'),\n",
    "    NaiveBayes(featuresCol='features', labelCol='label')\n",
    "])"
   ]
  },
  {
   "cell_type": "code",
   "execution_count": 43,
   "metadata": {},
   "outputs": [
    {
     "name": "stderr",
     "output_type": "stream",
     "text": [
      "[Stage 690:>                                                       (0 + 0) / 13]\r"
     ]
    },
    {
     "name": "stdout",
     "output_type": "stream",
     "text": [
      "23/02/21 16:43:31 WARN DAGScheduler: Broadcasting large task binary with size 30.6 MiB\n"
     ]
    },
    {
     "name": "stderr",
     "output_type": "stream",
     "text": [
      "[Stage 692:>                                                        (0 + 0) / 2]\r"
     ]
    },
    {
     "name": "stdout",
     "output_type": "stream",
     "text": [
      "23/02/21 16:43:39 WARN DAGScheduler: Broadcasting large task binary with size 30.6 MiB\n"
     ]
    },
    {
     "name": "stderr",
     "output_type": "stream",
     "text": [
      "                                                                                \r"
     ]
    }
   ],
   "source": [
    "text_pipe_model = text_pipe.fit(text_data)"
   ]
  },
  {
   "cell_type": "code",
   "execution_count": 49,
   "metadata": {},
   "outputs": [
    {
     "name": "stdout",
     "output_type": "stream",
     "text": [
      "23/02/21 16:49:17 WARN DAGScheduler: Broadcasting large task binary with size 12.1 MiB\n"
     ]
    },
    {
     "data": {
      "text/html": [
       "<div>\n",
       "<style scoped>\n",
       "    .dataframe tbody tr th:only-of-type {\n",
       "        vertical-align: middle;\n",
       "    }\n",
       "\n",
       "    .dataframe tbody tr th {\n",
       "        vertical-align: top;\n",
       "    }\n",
       "\n",
       "    .dataframe thead th {\n",
       "        text-align: right;\n",
       "    }\n",
       "</style>\n",
       "<table border=\"1\" class=\"dataframe\">\n",
       "  <thead>\n",
       "    <tr style=\"text-align: right;\">\n",
       "      <th></th>\n",
       "      <th>text</th>\n",
       "      <th>label</th>\n",
       "      <th>tokens</th>\n",
       "      <th>ngrams</th>\n",
       "      <th>tf</th>\n",
       "      <th>idf</th>\n",
       "      <th>features</th>\n",
       "      <th>rawPrediction</th>\n",
       "      <th>probability</th>\n",
       "      <th>prediction</th>\n",
       "    </tr>\n",
       "  </thead>\n",
       "  <tbody>\n",
       "    <tr>\n",
       "      <th>0</th>\n",
       "      <td>на работе был полный пиддес :| и так каждое за...</td>\n",
       "      <td>0</td>\n",
       "      <td>[на, работе, был, полный, пиддес, :|, и, так, ...</td>\n",
       "      <td>[на работе, работе был, был полный, полный пид...</td>\n",
       "      <td>(0.0, 0.0, 0.0, 0.0, 0.0, 0.0, 0.0, 0.0, 0.0, ...</td>\n",
       "      <td>(0.0, 0.0, 0.0, 0.0, 0.0, 0.0, 0.0, 0.0, 0.0, ...</td>\n",
       "      <td>(0.0, 0.0, 0.0, 0.0, 0.0, 0.0, 0.0, 0.0, 0.0, ...</td>\n",
       "      <td>[-1967.08547000446, -1985.1947238238504]</td>\n",
       "      <td>[0.9999999863462801, 1.3653719889781722e-08]</td>\n",
       "      <td>0.0</td>\n",
       "    </tr>\n",
       "    <tr>\n",
       "      <th>1</th>\n",
       "      <td>Коллеги сидят рубятся в Urban terror, а я из-з...</td>\n",
       "      <td>0</td>\n",
       "      <td>[коллеги, сидят, рубятся, в, urban, terror,, а...</td>\n",
       "      <td>[коллеги сидят, сидят рубятся, рубятся в, в ur...</td>\n",
       "      <td>(0.0, 0.0, 0.0, 0.0, 0.0, 0.0, 0.0, 0.0, 0.0, ...</td>\n",
       "      <td>(0.0, 0.0, 0.0, 0.0, 0.0, 0.0, 0.0, 0.0, 0.0, ...</td>\n",
       "      <td>(0.0, 0.0, 0.0, 0.0, 0.0, 0.0, 0.0, 0.0, 0.0, ...</td>\n",
       "      <td>[-1536.899562052501, -1695.331439735471]</td>\n",
       "      <td>[1.0, 1.562822894282169e-69]</td>\n",
       "      <td>0.0</td>\n",
       "    </tr>\n",
       "    <tr>\n",
       "      <th>2</th>\n",
       "      <td>@elina_4post как говорят обещаного три года жд...</td>\n",
       "      <td>0</td>\n",
       "      <td>[@elina_4post, как, говорят, обещаного, три, г...</td>\n",
       "      <td>[@elina_4post как, как говорят, говорят обещан...</td>\n",
       "      <td>(0.0, 0.0, 0.0, 0.0, 0.0, 0.0, 0.0, 0.0, 0.0, ...</td>\n",
       "      <td>(0.0, 0.0, 0.0, 0.0, 0.0, 0.0, 0.0, 0.0, 0.0, ...</td>\n",
       "      <td>(0.0, 0.0, 0.0, 0.0, 0.0, 0.0, 0.0, 0.0, 0.0, ...</td>\n",
       "      <td>[-839.4052796735651, -857.270362723404]</td>\n",
       "      <td>[0.9999999825701759, 1.74298241347285e-08]</td>\n",
       "      <td>0.0</td>\n",
       "    </tr>\n",
       "  </tbody>\n",
       "</table>\n",
       "</div>"
      ],
      "text/plain": [
       "                                                text  label  \\\n",
       "0  на работе был полный пиддес :| и так каждое за...      0   \n",
       "1  Коллеги сидят рубятся в Urban terror, а я из-з...      0   \n",
       "2  @elina_4post как говорят обещаного три года жд...      0   \n",
       "\n",
       "                                              tokens  \\\n",
       "0  [на, работе, был, полный, пиддес, :|, и, так, ...   \n",
       "1  [коллеги, сидят, рубятся, в, urban, terror,, а...   \n",
       "2  [@elina_4post, как, говорят, обещаного, три, г...   \n",
       "\n",
       "                                              ngrams  \\\n",
       "0  [на работе, работе был, был полный, полный пид...   \n",
       "1  [коллеги сидят, сидят рубятся, рубятся в, в ur...   \n",
       "2  [@elina_4post как, как говорят, говорят обещан...   \n",
       "\n",
       "                                                  tf  \\\n",
       "0  (0.0, 0.0, 0.0, 0.0, 0.0, 0.0, 0.0, 0.0, 0.0, ...   \n",
       "1  (0.0, 0.0, 0.0, 0.0, 0.0, 0.0, 0.0, 0.0, 0.0, ...   \n",
       "2  (0.0, 0.0, 0.0, 0.0, 0.0, 0.0, 0.0, 0.0, 0.0, ...   \n",
       "\n",
       "                                                 idf  \\\n",
       "0  (0.0, 0.0, 0.0, 0.0, 0.0, 0.0, 0.0, 0.0, 0.0, ...   \n",
       "1  (0.0, 0.0, 0.0, 0.0, 0.0, 0.0, 0.0, 0.0, 0.0, ...   \n",
       "2  (0.0, 0.0, 0.0, 0.0, 0.0, 0.0, 0.0, 0.0, 0.0, ...   \n",
       "\n",
       "                                            features  \\\n",
       "0  (0.0, 0.0, 0.0, 0.0, 0.0, 0.0, 0.0, 0.0, 0.0, ...   \n",
       "1  (0.0, 0.0, 0.0, 0.0, 0.0, 0.0, 0.0, 0.0, 0.0, ...   \n",
       "2  (0.0, 0.0, 0.0, 0.0, 0.0, 0.0, 0.0, 0.0, 0.0, ...   \n",
       "\n",
       "                              rawPrediction  \\\n",
       "0  [-1967.08547000446, -1985.1947238238504]   \n",
       "1  [-1536.899562052501, -1695.331439735471]   \n",
       "2   [-839.4052796735651, -857.270362723404]   \n",
       "\n",
       "                                    probability  prediction  \n",
       "0  [0.9999999863462801, 1.3653719889781722e-08]         0.0  \n",
       "1                  [1.0, 1.562822894282169e-69]         0.0  \n",
       "2    [0.9999999825701759, 1.74298241347285e-08]         0.0  "
      ]
     },
     "execution_count": 49,
     "metadata": {},
     "output_type": "execute_result"
    }
   ],
   "source": [
    "text_pipe_model.transform(text_data).limit(3).toPandas()"
   ]
  },
  {
   "cell_type": "code",
   "execution_count": 48,
   "metadata": {},
   "outputs": [
    {
     "name": "stderr",
     "output_type": "stream",
     "text": [
      "[Stage 706:>                                                       (0 + 0) / 13]\r"
     ]
    },
    {
     "name": "stdout",
     "output_type": "stream",
     "text": [
      "23/02/21 16:48:47 WARN DAGScheduler: Broadcasting large task binary with size 38.6 MiB\n"
     ]
    },
    {
     "name": "stderr",
     "output_type": "stream",
     "text": [
      "[Stage 717:>                                                       (0 + 0) / 13]\r"
     ]
    },
    {
     "name": "stdout",
     "output_type": "stream",
     "text": [
      "23/02/21 16:48:56 WARN DAGScheduler: Broadcasting large task binary with size 38.6 MiB\n"
     ]
    },
    {
     "name": "stderr",
     "output_type": "stream",
     "text": [
      "[Stage 717:==================================================>    (12 + 1) / 13]\r"
     ]
    },
    {
     "name": "stdout",
     "output_type": "stream",
     "text": [
      "ROC AUC: 0.486, Accuracy: 0.849\n"
     ]
    },
    {
     "name": "stderr",
     "output_type": "stream",
     "text": [
      "                                                                                \r"
     ]
    }
   ],
   "source": [
    "evaluator_roc_auc = BinaryClassificationEvaluator(\n",
    "    labelCol='label',\n",
    "    metricName='areaUnderROC'\n",
    ")\n",
    "evaluator_accuracy = MulticlassClassificationEvaluator(\n",
    "    labelCol='label',\n",
    "    metricName='accuracy'\n",
    ")\n",
    "print('ROC AUC: {0:.3f}, Accuracy: {1:.3f}'.format(\n",
    "    evaluator_roc_auc.evaluate(text_pipe_model.transform(text_data)),\n",
    "    evaluator_accuracy.evaluate(text_pipe_model.transform(text_data)),\n",
    "))"
   ]
  }
 ],
 "metadata": {
  "kernelspec": {
   "display_name": "Python 3 (ipykernel)",
   "language": "python",
   "name": "python3"
  },
  "language_info": {
   "codemirror_mode": {
    "name": "ipython",
    "version": 3
   },
   "file_extension": ".py",
   "mimetype": "text/x-python",
   "name": "python",
   "nbconvert_exporter": "python",
   "pygments_lexer": "ipython3",
   "version": "3.10.9"
  },
  "vscode": {
   "interpreter": {
    "hash": "aee8b7b246df8f9039afb4144a1f6fd8d2ca17a180786b69acc140d282b71a49"
   }
  }
 },
 "nbformat": 4,
 "nbformat_minor": 2
}
