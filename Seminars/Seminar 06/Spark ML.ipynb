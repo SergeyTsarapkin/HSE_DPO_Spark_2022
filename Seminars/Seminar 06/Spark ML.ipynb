{
 "cells": [
  {
   "attachments": {},
   "cell_type": "markdown",
   "metadata": {},
   "source": [
    "# `Промышленное машинное обучение на Spark`\n",
    "## `Занятие 06: SparkML`"
   ]
  },
  {
   "cell_type": "markdown",
   "metadata": {},
   "source": [
    "### `Находнов Максим (nakhodnov17@gmail.com)`\n",
    "#### `Москва, 2023`"
   ]
  },
  {
   "attachments": {},
   "cell_type": "markdown",
   "metadata": {},
   "source": [
    "О чём можно узнать из этого ноутбука:\n",
    "\n",
    "* Гистограммы в Spark\n",
    "* Реализация ML Pipeline в Spark:\n",
    "    1. Визуализация\n",
    "    2. Предобработка\n",
    "    3. Обучение модели\n",
    "    4. Оценка качества"
   ]
  },
  {
   "cell_type": "code",
   "execution_count": 1,
   "metadata": {
    "ExecuteTime": {
     "end_time": "2023-02-05T17:47:02.362387Z",
     "start_time": "2023-02-05T17:46:59.647723Z"
    }
   },
   "outputs": [
    {
     "name": "stdout",
     "output_type": "stream",
     "text": [
      "Requirement already satisfied: pyspark in /usr/local/lib/python3.10/site-packages (3.3.1)\n",
      "Requirement already satisfied: pyarrow in /usr/local/lib/python3.10/site-packages (11.0.0)\n",
      "Requirement already satisfied: py4j==0.10.9.5 in /usr/local/lib/python3.10/site-packages (from pyspark) (0.10.9.5)\n",
      "Requirement already satisfied: numpy>=1.16.6 in /usr/local/lib/python3.10/site-packages (from pyarrow) (1.23.4)\n",
      "\n",
      "\u001b[1m[\u001b[0m\u001b[34;49mnotice\u001b[0m\u001b[1;39;49m]\u001b[0m\u001b[39;49m A new release of pip available: \u001b[0m\u001b[31;49m22.3.1\u001b[0m\u001b[39;49m -> \u001b[0m\u001b[32;49m23.0.1\u001b[0m\n",
      "\u001b[1m[\u001b[0m\u001b[34;49mnotice\u001b[0m\u001b[1;39;49m]\u001b[0m\u001b[39;49m To update, run: \u001b[0m\u001b[32;49mpython3.10 -m pip install --upgrade pip\u001b[0m\n"
     ]
    }
   ],
   "source": [
    "! pip3 install pyspark pyarrow"
   ]
  },
  {
   "cell_type": "code",
   "execution_count": 2,
   "metadata": {
    "ExecuteTime": {
     "end_time": "2023-02-05T17:47:13.832913Z",
     "start_time": "2023-02-05T17:47:04.417093Z"
    }
   },
   "outputs": [],
   "source": [
    "import numpy as np\n",
    "\n",
    "import matplotlib.pyplot as plt\n",
    "from IPython.display import display\n",
    "\n",
    "import matplotlib_inline\n",
    "\n",
    "matplotlib_inline.backend_inline.set_matplotlib_formats('pdf', 'svg')"
   ]
  },
  {
   "cell_type": "code",
   "execution_count": 3,
   "metadata": {},
   "outputs": [
    {
     "name": "stderr",
     "output_type": "stream",
     "text": [
      "Setting default log level to \"WARN\".\n",
      "To adjust logging level use sc.setLogLevel(newLevel). For SparkR, use setLogLevel(newLevel).\n"
     ]
    },
    {
     "name": "stdout",
     "output_type": "stream",
     "text": [
      "23/02/23 21:41:11 WARN NativeCodeLoader: Unable to load native-hadoop library for your platform... using builtin-java classes where applicable\n"
     ]
    }
   ],
   "source": [
    "import pyspark.sql.functions as F\n",
    "from pyspark.sql import SparkSession\n",
    "\n",
    "from pyspark import SparkConf, SparkContext\n",
    "\n",
    "conf = (\n",
    "    SparkConf()\n",
    "        .set('spark.ui.port', '4050')\n",
    "        .set('spark.driver.memory', '15g')\n",
    "        .setMaster('local[*]')\n",
    ")\n",
    "sc = SparkContext(conf=conf)\n",
    "spark = SparkSession(sc)"
   ]
  },
  {
   "attachments": {},
   "cell_type": "markdown",
   "metadata": {},
   "source": [
    "### `План анализа данных`"
   ]
  },
  {
   "attachments": {},
   "cell_type": "markdown",
   "metadata": {},
   "source": [
    "1. Загрузить данные для обучения\n",
    "2. Провизуализировать данные и найти инсайты\n",
    "3. Обработать данные перед обучением модели\n",
    "4. Обучить модель на обучающей выборке\n",
    "5. Провалидировать модель на тестовой выборке"
   ]
  },
  {
   "attachments": {},
   "cell_type": "markdown",
   "metadata": {},
   "source": [
    "#### `Загрузка данных`"
   ]
  },
  {
   "cell_type": "code",
   "execution_count": 4,
   "metadata": {},
   "outputs": [
    {
     "name": "stdout",
     "output_type": "stream",
     "text": [
      "Downloading default-of-credit-card-clients-dataset.zip to /Users/nakhodnov/HSE_DPO_Spark_2022/Seminars/Seminar 06\n",
      "100%|██████████████████████████████████████| 0.98M/0.98M [00:00<00:00, 1.47MB/s]\n",
      "100%|██████████████████████████████████████| 0.98M/0.98M [00:00<00:00, 1.47MB/s]\n",
      "Archive:  default-of-credit-card-clients-dataset.zip\n",
      "  inflating: ./default-of-credit-card-clients-dataset/UCI_Credit_Card.csv  \n"
     ]
    }
   ],
   "source": [
    "path = \"./default-of-credit-card-clients-dataset\"\n",
    "! kaggle datasets download -d uciml/default-of-credit-card-clients-dataset\n",
    "! unzip default-of-credit-card-clients-dataset.zip  -d $path\n",
    "! rm -rf default-of-credit-card-clients-dataset.zip"
   ]
  },
  {
   "cell_type": "code",
   "execution_count": 5,
   "metadata": {},
   "outputs": [
    {
     "name": "stderr",
     "output_type": "stream",
     "text": [
      "                                                                                \r"
     ]
    }
   ],
   "source": [
    "# Зададим пути к файлам из датасета\n",
    "data_file = f\"{path}/UCI_Credit_Card.csv\"\n",
    "\n",
    "file_type = \"csv\"\n",
    "infer_schema = \"true\"\n",
    "first_row_is_header = \"true\"\n",
    "delimiter = \",\"\n",
    "\n",
    "data = (\n",
    "    spark.read.format(file_type)\n",
    "      .option(\"inferSchema\", infer_schema)\n",
    "      .option(\"header\", first_row_is_header)\n",
    "      .option(\"sep\", delimiter)\n",
    "      .load(data_file)\n",
    ")"
   ]
  },
  {
   "attachments": {},
   "cell_type": "markdown",
   "metadata": {},
   "source": [
    "#### `EDA. Визуализация` "
   ]
  },
  {
   "cell_type": "code",
   "execution_count": 6,
   "metadata": {},
   "outputs": [
    {
     "data": {
      "text/html": [
       "<div>\n",
       "<style scoped>\n",
       "    .dataframe tbody tr th:only-of-type {\n",
       "        vertical-align: middle;\n",
       "    }\n",
       "\n",
       "    .dataframe tbody tr th {\n",
       "        vertical-align: top;\n",
       "    }\n",
       "\n",
       "    .dataframe thead th {\n",
       "        text-align: right;\n",
       "    }\n",
       "</style>\n",
       "<table border=\"1\" class=\"dataframe\">\n",
       "  <thead>\n",
       "    <tr style=\"text-align: right;\">\n",
       "      <th></th>\n",
       "      <th>ID</th>\n",
       "      <th>LIMIT_BAL</th>\n",
       "      <th>SEX</th>\n",
       "      <th>EDUCATION</th>\n",
       "      <th>MARRIAGE</th>\n",
       "      <th>AGE</th>\n",
       "      <th>PAY_0</th>\n",
       "      <th>PAY_2</th>\n",
       "      <th>PAY_3</th>\n",
       "      <th>PAY_4</th>\n",
       "      <th>...</th>\n",
       "      <th>BILL_AMT4</th>\n",
       "      <th>BILL_AMT5</th>\n",
       "      <th>BILL_AMT6</th>\n",
       "      <th>PAY_AMT1</th>\n",
       "      <th>PAY_AMT2</th>\n",
       "      <th>PAY_AMT3</th>\n",
       "      <th>PAY_AMT4</th>\n",
       "      <th>PAY_AMT5</th>\n",
       "      <th>PAY_AMT6</th>\n",
       "      <th>IS_DEFAULT</th>\n",
       "    </tr>\n",
       "  </thead>\n",
       "  <tbody>\n",
       "    <tr>\n",
       "      <th>0</th>\n",
       "      <td>1</td>\n",
       "      <td>20000.0</td>\n",
       "      <td>2</td>\n",
       "      <td>2</td>\n",
       "      <td>1</td>\n",
       "      <td>24</td>\n",
       "      <td>2</td>\n",
       "      <td>2</td>\n",
       "      <td>-1</td>\n",
       "      <td>-1</td>\n",
       "      <td>...</td>\n",
       "      <td>0.0</td>\n",
       "      <td>0.0</td>\n",
       "      <td>0.0</td>\n",
       "      <td>0.0</td>\n",
       "      <td>689.0</td>\n",
       "      <td>0.0</td>\n",
       "      <td>0.0</td>\n",
       "      <td>0.0</td>\n",
       "      <td>0.0</td>\n",
       "      <td>1</td>\n",
       "    </tr>\n",
       "    <tr>\n",
       "      <th>1</th>\n",
       "      <td>2</td>\n",
       "      <td>120000.0</td>\n",
       "      <td>2</td>\n",
       "      <td>2</td>\n",
       "      <td>2</td>\n",
       "      <td>26</td>\n",
       "      <td>-1</td>\n",
       "      <td>2</td>\n",
       "      <td>0</td>\n",
       "      <td>0</td>\n",
       "      <td>...</td>\n",
       "      <td>3272.0</td>\n",
       "      <td>3455.0</td>\n",
       "      <td>3261.0</td>\n",
       "      <td>0.0</td>\n",
       "      <td>1000.0</td>\n",
       "      <td>1000.0</td>\n",
       "      <td>1000.0</td>\n",
       "      <td>0.0</td>\n",
       "      <td>2000.0</td>\n",
       "      <td>1</td>\n",
       "    </tr>\n",
       "    <tr>\n",
       "      <th>2</th>\n",
       "      <td>3</td>\n",
       "      <td>90000.0</td>\n",
       "      <td>2</td>\n",
       "      <td>2</td>\n",
       "      <td>2</td>\n",
       "      <td>34</td>\n",
       "      <td>0</td>\n",
       "      <td>0</td>\n",
       "      <td>0</td>\n",
       "      <td>0</td>\n",
       "      <td>...</td>\n",
       "      <td>14331.0</td>\n",
       "      <td>14948.0</td>\n",
       "      <td>15549.0</td>\n",
       "      <td>1518.0</td>\n",
       "      <td>1500.0</td>\n",
       "      <td>1000.0</td>\n",
       "      <td>1000.0</td>\n",
       "      <td>1000.0</td>\n",
       "      <td>5000.0</td>\n",
       "      <td>0</td>\n",
       "    </tr>\n",
       "    <tr>\n",
       "      <th>3</th>\n",
       "      <td>4</td>\n",
       "      <td>50000.0</td>\n",
       "      <td>2</td>\n",
       "      <td>2</td>\n",
       "      <td>1</td>\n",
       "      <td>37</td>\n",
       "      <td>0</td>\n",
       "      <td>0</td>\n",
       "      <td>0</td>\n",
       "      <td>0</td>\n",
       "      <td>...</td>\n",
       "      <td>28314.0</td>\n",
       "      <td>28959.0</td>\n",
       "      <td>29547.0</td>\n",
       "      <td>2000.0</td>\n",
       "      <td>2019.0</td>\n",
       "      <td>1200.0</td>\n",
       "      <td>1100.0</td>\n",
       "      <td>1069.0</td>\n",
       "      <td>1000.0</td>\n",
       "      <td>0</td>\n",
       "    </tr>\n",
       "    <tr>\n",
       "      <th>4</th>\n",
       "      <td>5</td>\n",
       "      <td>50000.0</td>\n",
       "      <td>1</td>\n",
       "      <td>2</td>\n",
       "      <td>1</td>\n",
       "      <td>57</td>\n",
       "      <td>-1</td>\n",
       "      <td>0</td>\n",
       "      <td>-1</td>\n",
       "      <td>0</td>\n",
       "      <td>...</td>\n",
       "      <td>20940.0</td>\n",
       "      <td>19146.0</td>\n",
       "      <td>19131.0</td>\n",
       "      <td>2000.0</td>\n",
       "      <td>36681.0</td>\n",
       "      <td>10000.0</td>\n",
       "      <td>9000.0</td>\n",
       "      <td>689.0</td>\n",
       "      <td>679.0</td>\n",
       "      <td>0</td>\n",
       "    </tr>\n",
       "    <tr>\n",
       "      <th>5</th>\n",
       "      <td>6</td>\n",
       "      <td>50000.0</td>\n",
       "      <td>1</td>\n",
       "      <td>1</td>\n",
       "      <td>2</td>\n",
       "      <td>37</td>\n",
       "      <td>0</td>\n",
       "      <td>0</td>\n",
       "      <td>0</td>\n",
       "      <td>0</td>\n",
       "      <td>...</td>\n",
       "      <td>19394.0</td>\n",
       "      <td>19619.0</td>\n",
       "      <td>20024.0</td>\n",
       "      <td>2500.0</td>\n",
       "      <td>1815.0</td>\n",
       "      <td>657.0</td>\n",
       "      <td>1000.0</td>\n",
       "      <td>1000.0</td>\n",
       "      <td>800.0</td>\n",
       "      <td>0</td>\n",
       "    </tr>\n",
       "    <tr>\n",
       "      <th>6</th>\n",
       "      <td>7</td>\n",
       "      <td>500000.0</td>\n",
       "      <td>1</td>\n",
       "      <td>1</td>\n",
       "      <td>2</td>\n",
       "      <td>29</td>\n",
       "      <td>0</td>\n",
       "      <td>0</td>\n",
       "      <td>0</td>\n",
       "      <td>0</td>\n",
       "      <td>...</td>\n",
       "      <td>542653.0</td>\n",
       "      <td>483003.0</td>\n",
       "      <td>473944.0</td>\n",
       "      <td>55000.0</td>\n",
       "      <td>40000.0</td>\n",
       "      <td>38000.0</td>\n",
       "      <td>20239.0</td>\n",
       "      <td>13750.0</td>\n",
       "      <td>13770.0</td>\n",
       "      <td>0</td>\n",
       "    </tr>\n",
       "    <tr>\n",
       "      <th>7</th>\n",
       "      <td>8</td>\n",
       "      <td>100000.0</td>\n",
       "      <td>2</td>\n",
       "      <td>2</td>\n",
       "      <td>2</td>\n",
       "      <td>23</td>\n",
       "      <td>0</td>\n",
       "      <td>-1</td>\n",
       "      <td>-1</td>\n",
       "      <td>0</td>\n",
       "      <td>...</td>\n",
       "      <td>221.0</td>\n",
       "      <td>-159.0</td>\n",
       "      <td>567.0</td>\n",
       "      <td>380.0</td>\n",
       "      <td>601.0</td>\n",
       "      <td>0.0</td>\n",
       "      <td>581.0</td>\n",
       "      <td>1687.0</td>\n",
       "      <td>1542.0</td>\n",
       "      <td>0</td>\n",
       "    </tr>\n",
       "    <tr>\n",
       "      <th>8</th>\n",
       "      <td>9</td>\n",
       "      <td>140000.0</td>\n",
       "      <td>2</td>\n",
       "      <td>3</td>\n",
       "      <td>1</td>\n",
       "      <td>28</td>\n",
       "      <td>0</td>\n",
       "      <td>0</td>\n",
       "      <td>2</td>\n",
       "      <td>0</td>\n",
       "      <td>...</td>\n",
       "      <td>12211.0</td>\n",
       "      <td>11793.0</td>\n",
       "      <td>3719.0</td>\n",
       "      <td>3329.0</td>\n",
       "      <td>0.0</td>\n",
       "      <td>432.0</td>\n",
       "      <td>1000.0</td>\n",
       "      <td>1000.0</td>\n",
       "      <td>1000.0</td>\n",
       "      <td>0</td>\n",
       "    </tr>\n",
       "    <tr>\n",
       "      <th>9</th>\n",
       "      <td>10</td>\n",
       "      <td>20000.0</td>\n",
       "      <td>1</td>\n",
       "      <td>3</td>\n",
       "      <td>2</td>\n",
       "      <td>35</td>\n",
       "      <td>-2</td>\n",
       "      <td>-2</td>\n",
       "      <td>-2</td>\n",
       "      <td>-2</td>\n",
       "      <td>...</td>\n",
       "      <td>0.0</td>\n",
       "      <td>13007.0</td>\n",
       "      <td>13912.0</td>\n",
       "      <td>0.0</td>\n",
       "      <td>0.0</td>\n",
       "      <td>0.0</td>\n",
       "      <td>13007.0</td>\n",
       "      <td>1122.0</td>\n",
       "      <td>0.0</td>\n",
       "      <td>0</td>\n",
       "    </tr>\n",
       "  </tbody>\n",
       "</table>\n",
       "<p>10 rows × 25 columns</p>\n",
       "</div>"
      ],
      "text/plain": [
       "   ID  LIMIT_BAL  SEX  EDUCATION  MARRIAGE  AGE  PAY_0  PAY_2  PAY_3  PAY_4  \\\n",
       "0   1    20000.0    2          2         1   24      2      2     -1     -1   \n",
       "1   2   120000.0    2          2         2   26     -1      2      0      0   \n",
       "2   3    90000.0    2          2         2   34      0      0      0      0   \n",
       "3   4    50000.0    2          2         1   37      0      0      0      0   \n",
       "4   5    50000.0    1          2         1   57     -1      0     -1      0   \n",
       "5   6    50000.0    1          1         2   37      0      0      0      0   \n",
       "6   7   500000.0    1          1         2   29      0      0      0      0   \n",
       "7   8   100000.0    2          2         2   23      0     -1     -1      0   \n",
       "8   9   140000.0    2          3         1   28      0      0      2      0   \n",
       "9  10    20000.0    1          3         2   35     -2     -2     -2     -2   \n",
       "\n",
       "   ...  BILL_AMT4  BILL_AMT5  BILL_AMT6  PAY_AMT1  PAY_AMT2  PAY_AMT3  \\\n",
       "0  ...        0.0        0.0        0.0       0.0     689.0       0.0   \n",
       "1  ...     3272.0     3455.0     3261.0       0.0    1000.0    1000.0   \n",
       "2  ...    14331.0    14948.0    15549.0    1518.0    1500.0    1000.0   \n",
       "3  ...    28314.0    28959.0    29547.0    2000.0    2019.0    1200.0   \n",
       "4  ...    20940.0    19146.0    19131.0    2000.0   36681.0   10000.0   \n",
       "5  ...    19394.0    19619.0    20024.0    2500.0    1815.0     657.0   \n",
       "6  ...   542653.0   483003.0   473944.0   55000.0   40000.0   38000.0   \n",
       "7  ...      221.0     -159.0      567.0     380.0     601.0       0.0   \n",
       "8  ...    12211.0    11793.0     3719.0    3329.0       0.0     432.0   \n",
       "9  ...        0.0    13007.0    13912.0       0.0       0.0       0.0   \n",
       "\n",
       "   PAY_AMT4  PAY_AMT5  PAY_AMT6  IS_DEFAULT  \n",
       "0       0.0       0.0       0.0           1  \n",
       "1    1000.0       0.0    2000.0           1  \n",
       "2    1000.0    1000.0    5000.0           0  \n",
       "3    1100.0    1069.0    1000.0           0  \n",
       "4    9000.0     689.0     679.0           0  \n",
       "5    1000.0    1000.0     800.0           0  \n",
       "6   20239.0   13750.0   13770.0           0  \n",
       "7     581.0    1687.0    1542.0           0  \n",
       "8    1000.0    1000.0    1000.0           0  \n",
       "9   13007.0    1122.0       0.0           0  \n",
       "\n",
       "[10 rows x 25 columns]"
      ]
     },
     "execution_count": 6,
     "metadata": {},
     "output_type": "execute_result"
    }
   ],
   "source": [
    "data = data.withColumnRenamed('default.payment.next.month', 'IS_DEFAULT')\n",
    "data.limit(10).toPandas()"
   ]
  },
  {
   "attachments": {},
   "cell_type": "markdown",
   "metadata": {},
   "source": [
    "##### `Доступные признаки`"
   ]
  },
  {
   "attachments": {},
   "cell_type": "markdown",
   "metadata": {},
   "source": [
    "Данные содержат три типа переменных:\n",
    "\n",
    "* ID — индекс\n",
    "* Целевая: **IS_DEFAULT**, наличие дефолта в сентябре\n",
    "* Остальные переменные: $23$ переменных, могут быть использованы для прогноза целевой переменной.\n",
    "\n",
    "---\n",
    "| Имя столбца        | Значение |\n",
    "| :-------------: |:-------------:|\n",
    "| LIMIT_BAL   | Cумма предоставленного кредита |\n",
    "| SEX | Пол (1 - мужской, 2 - женский) |\n",
    "| EDUCATION | Уровень образования (1 - магистратура, 2 - бакалавриат, 3 - школа) |\n",
    "| MARRIAGE | Семейное положение (1 - в браке, 2 - одинок) |\n",
    "| AGE | Возраст |\n",
    "| PAY_6, ..., PAY2, PAY_0 | Статус погашения кредита с апреля по сентябрь (-1 - нет долгов, иное, # - задержка платежа на # месяцев)|\n",
    "| BILL_AMT6, ..., BILL_AMT1 | Сумма на карте на расчетный период с апреля по август |\n",
    "| PAY_AMT6, ..., PAY_AMT1 | Сумма предыдущего платежа c апреля по август |\n",
    "| **IS_DEFAULT** | **Целевая переменная:** дефолт по кредитной карте в сентябре |\n",
    "---"
   ]
  },
  {
   "cell_type": "code",
   "execution_count": 7,
   "metadata": {},
   "outputs": [
    {
     "name": "stdout",
     "output_type": "stream",
     "text": [
      "root\n",
      " |-- ID: integer (nullable = true)\n",
      " |-- LIMIT_BAL: double (nullable = true)\n",
      " |-- SEX: integer (nullable = true)\n",
      " |-- EDUCATION: integer (nullable = true)\n",
      " |-- MARRIAGE: integer (nullable = true)\n",
      " |-- AGE: integer (nullable = true)\n",
      " |-- PAY_0: integer (nullable = true)\n",
      " |-- PAY_2: integer (nullable = true)\n",
      " |-- PAY_3: integer (nullable = true)\n",
      " |-- PAY_4: integer (nullable = true)\n",
      " |-- PAY_5: integer (nullable = true)\n",
      " |-- PAY_6: integer (nullable = true)\n",
      " |-- BILL_AMT1: double (nullable = true)\n",
      " |-- BILL_AMT2: double (nullable = true)\n",
      " |-- BILL_AMT3: double (nullable = true)\n",
      " |-- BILL_AMT4: double (nullable = true)\n",
      " |-- BILL_AMT5: double (nullable = true)\n",
      " |-- BILL_AMT6: double (nullable = true)\n",
      " |-- PAY_AMT1: double (nullable = true)\n",
      " |-- PAY_AMT2: double (nullable = true)\n",
      " |-- PAY_AMT3: double (nullable = true)\n",
      " |-- PAY_AMT4: double (nullable = true)\n",
      " |-- PAY_AMT5: double (nullable = true)\n",
      " |-- PAY_AMT6: double (nullable = true)\n",
      " |-- IS_DEFAULT: integer (nullable = true)\n",
      "\n"
     ]
    }
   ],
   "source": [
    "data.printSchema()"
   ]
  },
  {
   "cell_type": "code",
   "execution_count": 8,
   "metadata": {},
   "outputs": [
    {
     "name": "stderr",
     "output_type": "stream",
     "text": [
      "[Stage 3:>                                                          (0 + 1) / 1]\r"
     ]
    },
    {
     "name": "stdout",
     "output_type": "stream",
     "text": [
      "23/02/23 21:41:39 WARN package: Truncated the string representation of a plan since it was too large. This behavior can be adjusted by setting 'spark.sql.debug.maxToStringFields'.\n"
     ]
    },
    {
     "name": "stderr",
     "output_type": "stream",
     "text": [
      "                                                                                \r"
     ]
    },
    {
     "data": {
      "text/html": [
       "<div>\n",
       "<style scoped>\n",
       "    .dataframe tbody tr th:only-of-type {\n",
       "        vertical-align: middle;\n",
       "    }\n",
       "\n",
       "    .dataframe tbody tr th {\n",
       "        vertical-align: top;\n",
       "    }\n",
       "\n",
       "    .dataframe thead th {\n",
       "        text-align: right;\n",
       "    }\n",
       "</style>\n",
       "<table border=\"1\" class=\"dataframe\">\n",
       "  <thead>\n",
       "    <tr style=\"text-align: right;\">\n",
       "      <th></th>\n",
       "      <th>summary</th>\n",
       "      <th>ID</th>\n",
       "      <th>LIMIT_BAL</th>\n",
       "      <th>SEX</th>\n",
       "      <th>EDUCATION</th>\n",
       "      <th>MARRIAGE</th>\n",
       "      <th>AGE</th>\n",
       "      <th>PAY_0</th>\n",
       "      <th>PAY_2</th>\n",
       "      <th>PAY_3</th>\n",
       "      <th>...</th>\n",
       "      <th>BILL_AMT4</th>\n",
       "      <th>BILL_AMT5</th>\n",
       "      <th>BILL_AMT6</th>\n",
       "      <th>PAY_AMT1</th>\n",
       "      <th>PAY_AMT2</th>\n",
       "      <th>PAY_AMT3</th>\n",
       "      <th>PAY_AMT4</th>\n",
       "      <th>PAY_AMT5</th>\n",
       "      <th>PAY_AMT6</th>\n",
       "      <th>IS_DEFAULT</th>\n",
       "    </tr>\n",
       "  </thead>\n",
       "  <tbody>\n",
       "    <tr>\n",
       "      <th>0</th>\n",
       "      <td>count</td>\n",
       "      <td>30000</td>\n",
       "      <td>30000</td>\n",
       "      <td>30000</td>\n",
       "      <td>30000</td>\n",
       "      <td>30000</td>\n",
       "      <td>30000</td>\n",
       "      <td>30000</td>\n",
       "      <td>30000</td>\n",
       "      <td>30000</td>\n",
       "      <td>...</td>\n",
       "      <td>30000</td>\n",
       "      <td>30000</td>\n",
       "      <td>30000</td>\n",
       "      <td>30000</td>\n",
       "      <td>30000</td>\n",
       "      <td>30000</td>\n",
       "      <td>30000</td>\n",
       "      <td>30000</td>\n",
       "      <td>30000</td>\n",
       "      <td>30000</td>\n",
       "    </tr>\n",
       "    <tr>\n",
       "      <th>1</th>\n",
       "      <td>mean</td>\n",
       "      <td>15000.5</td>\n",
       "      <td>167484.32266666667</td>\n",
       "      <td>1.6037333333333332</td>\n",
       "      <td>1.8531333333333333</td>\n",
       "      <td>1.5518666666666667</td>\n",
       "      <td>35.4855</td>\n",
       "      <td>-0.0167</td>\n",
       "      <td>-0.13376666666666667</td>\n",
       "      <td>-0.1662</td>\n",
       "      <td>...</td>\n",
       "      <td>43262.94896666666</td>\n",
       "      <td>40311.40096666667</td>\n",
       "      <td>38871.7604</td>\n",
       "      <td>5663.5805</td>\n",
       "      <td>5921.1635</td>\n",
       "      <td>5225.6815</td>\n",
       "      <td>4826.076866666666</td>\n",
       "      <td>4799.387633333334</td>\n",
       "      <td>5215.502566666667</td>\n",
       "      <td>0.2212</td>\n",
       "    </tr>\n",
       "    <tr>\n",
       "      <th>2</th>\n",
       "      <td>stddev</td>\n",
       "      <td>8660.398374208891</td>\n",
       "      <td>129747.66156720246</td>\n",
       "      <td>0.4891291960902602</td>\n",
       "      <td>0.7903486597207269</td>\n",
       "      <td>0.5219696006132467</td>\n",
       "      <td>9.217904068090155</td>\n",
       "      <td>1.1238015279973335</td>\n",
       "      <td>1.1971859730345495</td>\n",
       "      <td>1.1968675684465686</td>\n",
       "      <td>...</td>\n",
       "      <td>64332.856133916444</td>\n",
       "      <td>60797.15577026471</td>\n",
       "      <td>59554.1075367459</td>\n",
       "      <td>16563.28035402577</td>\n",
       "      <td>23040.870402057186</td>\n",
       "      <td>17606.96146980311</td>\n",
       "      <td>15666.159744032062</td>\n",
       "      <td>15278.305679144742</td>\n",
       "      <td>17777.46577543531</td>\n",
       "      <td>0.41506180569093254</td>\n",
       "    </tr>\n",
       "    <tr>\n",
       "      <th>3</th>\n",
       "      <td>min</td>\n",
       "      <td>1</td>\n",
       "      <td>10000.0</td>\n",
       "      <td>1</td>\n",
       "      <td>0</td>\n",
       "      <td>0</td>\n",
       "      <td>21</td>\n",
       "      <td>-2</td>\n",
       "      <td>-2</td>\n",
       "      <td>-2</td>\n",
       "      <td>...</td>\n",
       "      <td>-170000.0</td>\n",
       "      <td>-81334.0</td>\n",
       "      <td>-339603.0</td>\n",
       "      <td>0.0</td>\n",
       "      <td>0.0</td>\n",
       "      <td>0.0</td>\n",
       "      <td>0.0</td>\n",
       "      <td>0.0</td>\n",
       "      <td>0.0</td>\n",
       "      <td>0</td>\n",
       "    </tr>\n",
       "    <tr>\n",
       "      <th>4</th>\n",
       "      <td>25%</td>\n",
       "      <td>7498</td>\n",
       "      <td>50000.0</td>\n",
       "      <td>1</td>\n",
       "      <td>1</td>\n",
       "      <td>1</td>\n",
       "      <td>28</td>\n",
       "      <td>-1</td>\n",
       "      <td>-1</td>\n",
       "      <td>-1</td>\n",
       "      <td>...</td>\n",
       "      <td>2320.0</td>\n",
       "      <td>1761.0</td>\n",
       "      <td>1255.0</td>\n",
       "      <td>1000.0</td>\n",
       "      <td>832.0</td>\n",
       "      <td>390.0</td>\n",
       "      <td>295.0</td>\n",
       "      <td>251.0</td>\n",
       "      <td>116.0</td>\n",
       "      <td>0</td>\n",
       "    </tr>\n",
       "    <tr>\n",
       "      <th>5</th>\n",
       "      <td>50%</td>\n",
       "      <td>14999</td>\n",
       "      <td>140000.0</td>\n",
       "      <td>2</td>\n",
       "      <td>2</td>\n",
       "      <td>2</td>\n",
       "      <td>34</td>\n",
       "      <td>0</td>\n",
       "      <td>0</td>\n",
       "      <td>0</td>\n",
       "      <td>...</td>\n",
       "      <td>19050.0</td>\n",
       "      <td>18101.0</td>\n",
       "      <td>17068.0</td>\n",
       "      <td>2100.0</td>\n",
       "      <td>2009.0</td>\n",
       "      <td>1800.0</td>\n",
       "      <td>1500.0</td>\n",
       "      <td>1500.0</td>\n",
       "      <td>1500.0</td>\n",
       "      <td>0</td>\n",
       "    </tr>\n",
       "    <tr>\n",
       "      <th>6</th>\n",
       "      <td>75%</td>\n",
       "      <td>22497</td>\n",
       "      <td>240000.0</td>\n",
       "      <td>2</td>\n",
       "      <td>2</td>\n",
       "      <td>2</td>\n",
       "      <td>41</td>\n",
       "      <td>0</td>\n",
       "      <td>0</td>\n",
       "      <td>0</td>\n",
       "      <td>...</td>\n",
       "      <td>54472.0</td>\n",
       "      <td>50170.0</td>\n",
       "      <td>49147.0</td>\n",
       "      <td>5006.0</td>\n",
       "      <td>5000.0</td>\n",
       "      <td>4503.0</td>\n",
       "      <td>4012.0</td>\n",
       "      <td>4030.0</td>\n",
       "      <td>4000.0</td>\n",
       "      <td>0</td>\n",
       "    </tr>\n",
       "    <tr>\n",
       "      <th>7</th>\n",
       "      <td>max</td>\n",
       "      <td>30000</td>\n",
       "      <td>1000000.0</td>\n",
       "      <td>2</td>\n",
       "      <td>6</td>\n",
       "      <td>3</td>\n",
       "      <td>79</td>\n",
       "      <td>8</td>\n",
       "      <td>8</td>\n",
       "      <td>8</td>\n",
       "      <td>...</td>\n",
       "      <td>891586.0</td>\n",
       "      <td>927171.0</td>\n",
       "      <td>961664.0</td>\n",
       "      <td>873552.0</td>\n",
       "      <td>1684259.0</td>\n",
       "      <td>896040.0</td>\n",
       "      <td>621000.0</td>\n",
       "      <td>426529.0</td>\n",
       "      <td>528666.0</td>\n",
       "      <td>1</td>\n",
       "    </tr>\n",
       "  </tbody>\n",
       "</table>\n",
       "<p>8 rows × 26 columns</p>\n",
       "</div>"
      ],
      "text/plain": [
       "  summary                 ID           LIMIT_BAL                 SEX  \\\n",
       "0   count              30000               30000               30000   \n",
       "1    mean            15000.5  167484.32266666667  1.6037333333333332   \n",
       "2  stddev  8660.398374208891  129747.66156720246  0.4891291960902602   \n",
       "3     min                  1             10000.0                   1   \n",
       "4     25%               7498             50000.0                   1   \n",
       "5     50%              14999            140000.0                   2   \n",
       "6     75%              22497            240000.0                   2   \n",
       "7     max              30000           1000000.0                   2   \n",
       "\n",
       "            EDUCATION            MARRIAGE                AGE  \\\n",
       "0               30000               30000              30000   \n",
       "1  1.8531333333333333  1.5518666666666667            35.4855   \n",
       "2  0.7903486597207269  0.5219696006132467  9.217904068090155   \n",
       "3                   0                   0                 21   \n",
       "4                   1                   1                 28   \n",
       "5                   2                   2                 34   \n",
       "6                   2                   2                 41   \n",
       "7                   6                   3                 79   \n",
       "\n",
       "                PAY_0                 PAY_2               PAY_3  ...  \\\n",
       "0               30000                 30000               30000  ...   \n",
       "1             -0.0167  -0.13376666666666667             -0.1662  ...   \n",
       "2  1.1238015279973335    1.1971859730345495  1.1968675684465686  ...   \n",
       "3                  -2                    -2                  -2  ...   \n",
       "4                  -1                    -1                  -1  ...   \n",
       "5                   0                     0                   0  ...   \n",
       "6                   0                     0                   0  ...   \n",
       "7                   8                     8                   8  ...   \n",
       "\n",
       "            BILL_AMT4          BILL_AMT5         BILL_AMT6           PAY_AMT1  \\\n",
       "0               30000              30000             30000              30000   \n",
       "1   43262.94896666666  40311.40096666667        38871.7604          5663.5805   \n",
       "2  64332.856133916444  60797.15577026471  59554.1075367459  16563.28035402577   \n",
       "3           -170000.0           -81334.0         -339603.0                0.0   \n",
       "4              2320.0             1761.0            1255.0             1000.0   \n",
       "5             19050.0            18101.0           17068.0             2100.0   \n",
       "6             54472.0            50170.0           49147.0             5006.0   \n",
       "7            891586.0           927171.0          961664.0           873552.0   \n",
       "\n",
       "             PAY_AMT2           PAY_AMT3            PAY_AMT4  \\\n",
       "0               30000              30000               30000   \n",
       "1           5921.1635          5225.6815   4826.076866666666   \n",
       "2  23040.870402057186  17606.96146980311  15666.159744032062   \n",
       "3                 0.0                0.0                 0.0   \n",
       "4               832.0              390.0               295.0   \n",
       "5              2009.0             1800.0              1500.0   \n",
       "6              5000.0             4503.0              4012.0   \n",
       "7           1684259.0           896040.0            621000.0   \n",
       "\n",
       "             PAY_AMT5           PAY_AMT6           IS_DEFAULT  \n",
       "0               30000              30000                30000  \n",
       "1   4799.387633333334  5215.502566666667               0.2212  \n",
       "2  15278.305679144742  17777.46577543531  0.41506180569093254  \n",
       "3                 0.0                0.0                    0  \n",
       "4               251.0              116.0                    0  \n",
       "5              1500.0             1500.0                    0  \n",
       "6              4030.0             4000.0                    0  \n",
       "7            426529.0           528666.0                    1  \n",
       "\n",
       "[8 rows x 26 columns]"
      ]
     },
     "execution_count": 8,
     "metadata": {},
     "output_type": "execute_result"
    }
   ],
   "source": [
    "data.summary().toPandas()"
   ]
  },
  {
   "cell_type": "code",
   "execution_count": 9,
   "metadata": {},
   "outputs": [
    {
     "name": "stdout",
     "output_type": "stream",
     "text": [
      "+---+-----+\n",
      "|SEX|count|\n",
      "+---+-----+\n",
      "|  1|11888|\n",
      "|  2|18112|\n",
      "+---+-----+\n",
      "\n",
      "+---------+-----+\n",
      "|EDUCATION|count|\n",
      "+---------+-----+\n",
      "|        1|10585|\n",
      "|        6|   51|\n",
      "|        3| 4917|\n",
      "|        5|  280|\n",
      "|        4|  123|\n",
      "|        2|14030|\n",
      "|        0|   14|\n",
      "+---------+-----+\n",
      "\n",
      "+--------+-----+\n",
      "|MARRIAGE|count|\n",
      "+--------+-----+\n",
      "|       1|13659|\n",
      "|       3|  323|\n",
      "|       2|15964|\n",
      "|       0|   54|\n",
      "+--------+-----+\n",
      "\n",
      "+-----+-----+\n",
      "|PAY_0|count|\n",
      "+-----+-----+\n",
      "|   -1| 5686|\n",
      "|    1| 3688|\n",
      "|    6|   11|\n",
      "|    3|  322|\n",
      "|    5|   26|\n",
      "|    4|   76|\n",
      "|    8|   19|\n",
      "|    7|    9|\n",
      "|   -2| 2759|\n",
      "|    2| 2667|\n",
      "|    0|14737|\n",
      "+-----+-----+\n",
      "\n",
      "+-----+-----+\n",
      "|PAY_2|count|\n",
      "+-----+-----+\n",
      "|   -1| 6050|\n",
      "|    1|   28|\n",
      "|    6|   12|\n",
      "|    3|  326|\n",
      "|    5|   25|\n",
      "|    4|   99|\n",
      "|    8|    1|\n",
      "|    7|   20|\n",
      "|   -2| 3782|\n",
      "|    2| 3927|\n",
      "|    0|15730|\n",
      "+-----+-----+\n",
      "\n",
      "+-----+-----+\n",
      "|PAY_3|count|\n",
      "+-----+-----+\n",
      "|   -1| 5938|\n",
      "|    1|    4|\n",
      "|    6|   23|\n",
      "|    3|  240|\n",
      "|    5|   21|\n",
      "|    4|   76|\n",
      "|    8|    3|\n",
      "|    7|   27|\n",
      "|   -2| 4085|\n",
      "|    2| 3819|\n",
      "|    0|15764|\n",
      "+-----+-----+\n",
      "\n",
      "+-----+-----+\n",
      "|PAY_4|count|\n",
      "+-----+-----+\n",
      "|   -1| 5687|\n",
      "|    1|    2|\n",
      "|    6|    5|\n",
      "|    3|  180|\n",
      "|    5|   35|\n",
      "|    4|   69|\n",
      "|    8|    2|\n",
      "|    7|   58|\n",
      "|   -2| 4348|\n",
      "|    2| 3159|\n",
      "|    0|16455|\n",
      "+-----+-----+\n",
      "\n",
      "+-----+-----+\n",
      "|PAY_5|count|\n",
      "+-----+-----+\n",
      "|   -1| 5539|\n",
      "|    6|    4|\n",
      "|    3|  178|\n",
      "|    5|   17|\n",
      "|    4|   84|\n",
      "|    8|    1|\n",
      "|    7|   58|\n",
      "|   -2| 4546|\n",
      "|    2| 2626|\n",
      "|    0|16947|\n",
      "+-----+-----+\n",
      "\n",
      "+-----+-----+\n",
      "|PAY_6|count|\n",
      "+-----+-----+\n",
      "|   -1| 5740|\n",
      "|    6|   19|\n",
      "|    3|  184|\n",
      "|    5|   13|\n",
      "|    4|   49|\n",
      "|    8|    2|\n",
      "|    7|   46|\n",
      "|   -2| 4895|\n",
      "|    2| 2766|\n",
      "|    0|16286|\n",
      "+-----+-----+\n",
      "\n",
      "+----------+-----+\n",
      "|IS_DEFAULT|count|\n",
      "+----------+-----+\n",
      "|         1| 6636|\n",
      "|         0|23364|\n",
      "+----------+-----+\n",
      "\n"
     ]
    }
   ],
   "source": [
    "for column, dtype in data.dtypes:\n",
    "    if column not in {'ID', 'AGE'} and dtype == 'int':\n",
    "        data.groupBy(column).count().show()"
   ]
  },
  {
   "attachments": {},
   "cell_type": "markdown",
   "metadata": {},
   "source": [
    "##### `Построение гистограмм`"
   ]
  },
  {
   "attachments": {},
   "cell_type": "markdown",
   "metadata": {},
   "source": [
    "Есть $4$ основных варианта для визуализации данных в Spark:\n",
    "1. Перевести данные в pandas.DataFrame и использовать стандартные приёмы\n",
    "2. Использовать встроенные методы для вычисления нужных статистик и отрисовка их стандартными методами\n",
    "3. Использование Pandas on Spark API\n",
    "4. Использование сторонних библиотек (см. `pyspark_dist_explore`)"
   ]
  },
  {
   "cell_type": "code",
   "execution_count": 10,
   "metadata": {},
   "outputs": [
    {
     "name": "stdout",
     "output_type": "stream",
     "text": [
      "Requirement already satisfied: pyspark_dist_explore in /usr/local/lib/python3.10/site-packages (0.1.8)\n",
      "Requirement already satisfied: matplotlib in /usr/local/lib/python3.10/site-packages (from pyspark_dist_explore) (3.6.2)\n",
      "Requirement already satisfied: pandas in /usr/local/lib/python3.10/site-packages (from pyspark_dist_explore) (1.5.2)\n",
      "Requirement already satisfied: scipy in /usr/local/lib/python3.10/site-packages (from pyspark_dist_explore) (1.9.3)\n",
      "Requirement already satisfied: numpy in /usr/local/lib/python3.10/site-packages (from pyspark_dist_explore) (1.23.4)\n",
      "Requirement already satisfied: pillow>=6.2.0 in /usr/local/lib/python3.10/site-packages (from matplotlib->pyspark_dist_explore) (9.3.0)\n",
      "Requirement already satisfied: cycler>=0.10 in /usr/local/lib/python3.10/site-packages (from matplotlib->pyspark_dist_explore) (0.11.0)\n",
      "Requirement already satisfied: contourpy>=1.0.1 in /usr/local/lib/python3.10/site-packages (from matplotlib->pyspark_dist_explore) (1.0.6)\n",
      "Requirement already satisfied: packaging>=20.0 in /usr/local/lib/python3.10/site-packages (from matplotlib->pyspark_dist_explore) (21.3)\n",
      "Requirement already satisfied: fonttools>=4.22.0 in /usr/local/lib/python3.10/site-packages (from matplotlib->pyspark_dist_explore) (4.38.0)\n",
      "Requirement already satisfied: pyparsing>=2.2.1 in /usr/local/lib/python3.10/site-packages (from matplotlib->pyspark_dist_explore) (3.0.9)\n",
      "Requirement already satisfied: python-dateutil>=2.7 in /usr/local/lib/python3.10/site-packages (from matplotlib->pyspark_dist_explore) (2.8.2)\n",
      "Requirement already satisfied: kiwisolver>=1.0.1 in /usr/local/lib/python3.10/site-packages (from matplotlib->pyspark_dist_explore) (1.4.4)\n",
      "Requirement already satisfied: pytz>=2020.1 in /usr/local/lib/python3.10/site-packages (from pandas->pyspark_dist_explore) (2022.6)\n",
      "Requirement already satisfied: six>=1.5 in /usr/local/lib/python3.10/site-packages (from python-dateutil>=2.7->matplotlib->pyspark_dist_explore) (1.16.0)\n",
      "\n",
      "\u001b[1m[\u001b[0m\u001b[34;49mnotice\u001b[0m\u001b[1;39;49m]\u001b[0m\u001b[39;49m A new release of pip available: \u001b[0m\u001b[31;49m22.3.1\u001b[0m\u001b[39;49m -> \u001b[0m\u001b[32;49m23.0.1\u001b[0m\n",
      "\u001b[1m[\u001b[0m\u001b[34;49mnotice\u001b[0m\u001b[1;39;49m]\u001b[0m\u001b[39;49m To update, run: \u001b[0m\u001b[32;49mpython3.10 -m pip install --upgrade pip\u001b[0m\n"
     ]
    }
   ],
   "source": [
    "! pip3 install pyspark_dist_explore"
   ]
  },
  {
   "cell_type": "code",
   "execution_count": 11,
   "metadata": {},
   "outputs": [],
   "source": [
    "import pyspark_dist_explore"
   ]
  },
  {
   "cell_type": "code",
   "execution_count": 12,
   "metadata": {},
   "outputs": [],
   "source": [
    "pay_0 = data.filter((data.IS_DEFAULT == 0) & (data.PAY_AMT1 > 0)).select(F.log10('PAY_AMT1'))\n",
    "pay_1 = data.filter((data.IS_DEFAULT == 1) & (data.PAY_AMT1 > 0)).select(F.log10('PAY_AMT1'))"
   ]
  },
  {
   "cell_type": "code",
   "execution_count": 13,
   "metadata": {},
   "outputs": [
    {
     "name": "stderr",
     "output_type": "stream",
     "text": [
      "                                                                                \r"
     ]
    },
    {
     "data": {
      "application/pdf": "[encoded data removed]",
      "image/svg+xml": "<?xml version=\"1.0\" encoding=\"utf-8\" standalone=\"no\"?>\n<!DOCTYPE svg PUBLIC \"-//W3C//DTD SVG 1.1//EN\"\n  \"http://www.w3.org/Graphics/SVG/1.1/DTD/svg11.dtd\">\n<svg xmlns:xlink=\"http://www.w3.org/1999/xlink\" width=\"713.015625pt\" height=\"351.43625pt\" viewBox=\"0 0 713.015625 351.43625\" xmlns=\"http://www.w3.org/2000/svg\" version=\"1.1\">\n <metadata>\n  <rdf:RDF xmlns:dc=\"http://purl.org/dc/elements/1.1/\" xmlns:cc=\"http://creativecommons.org/ns#\" xmlns:rdf=\"http://www.w3.org/1999/02/22-rdf-syntax-ns#\">\n   <cc:Work>\n    <dc:type rdf:resource=\"http://purl.org/dc/dcmitype/StillImage\"/>\n    <dc:date>2023-02-23T21:41:53.765008</dc:date>\n    <dc:format>image/svg+xml</dc:format>\n    <dc:creator>\n     <cc:Agent>\n      <dc:title>Matplotlib v3.6.2, https://matplotlib.org/</dc:title>\n     </cc:Agent>\n    </dc:creator>\n   </cc:Work>\n  </rdf:RDF>\n </metadata>\n <defs>\n  <style type=\"text/css\">*{stroke-linejoin: round; stroke-linecap: butt}</style>\n </defs>\n <g id=\"figure_1\">\n  <g id=\"patch_1\">\n   <path d=\"M 0 351.43625 \nL 713.015625 351.43625 \nL 713.015625 0 \nL 0 0 \nz\n\" style=\"fill: #ffffff\"/>\n  </g>\n  <g id=\"axes_1\">\n   <g id=\"patch_2\">\n    <path d=\"M 36.465625 327.558125 \nL 705.815625 327.558125 \nL 705.815625 22.318125 \nL 36.465625 22.318125 \nz\n\" style=\"fill: #ffffff\"/>\n   </g>\n   <g id=\"patch_3\">\n    <path d=\"M 66.890625 327.558125 \nL 69.329503 327.558125 \nL 69.329503 326.884092 \nL 66.890625 326.884092 \nz\n\" clip-path=\"url(#p2f7eaeda3b)\" style=\"fill: #ff0000\"/>\n   </g>\n   <g id=\"patch_4\">\n    <path d=\"M 72.987819 327.558125 \nL 75.426697 327.558125 \nL 75.426697 327.558125 \nL 72.987819 327.558125 \nz\n\" clip-path=\"url(#p2f7eaeda3b)\" style=\"fill: #ff0000\"/>\n   </g>\n   <g id=\"patch_5\">\n    <path d=\"M 79.085014 327.558125 \nL 81.523892 327.558125 \nL 81.523892 327.558125 \nL 79.085014 327.558125 \nz\n\" clip-path=\"url(#p2f7eaeda3b)\" style=\"fill: #ff0000\"/>\n   </g>\n   <g id=\"patch_6\">\n    <path d=\"M 85.182208 327.558125 \nL 87.621086 327.558125 \nL 87.621086 327.558125 \nL 85.182208 327.558125 \nz\n\" clip-path=\"url(#p2f7eaeda3b)\" style=\"fill: #ff0000\"/>\n   </g>\n   <g id=\"patch_7\">\n    <path d=\"M 91.279403 327.558125 \nL 93.71828 327.558125 \nL 93.71828 327.558125 \nL 91.279403 327.558125 \nz\n\" clip-path=\"url(#p2f7eaeda3b)\" style=\"fill: #ff0000\"/>\n   </g>\n   <g id=\"patch_8\">\n    <path d=\"M 97.376597 327.558125 \nL 99.815475 327.558125 \nL 99.815475 326.344866 \nL 97.376597 326.344866 \nz\n\" clip-path=\"url(#p2f7eaeda3b)\" style=\"fill: #ff0000\"/>\n   </g>\n   <g id=\"patch_9\">\n    <path d=\"M 103.473791 327.558125 \nL 105.912669 327.558125 \nL 105.912669 327.558125 \nL 103.473791 327.558125 \nz\n\" clip-path=\"url(#p2f7eaeda3b)\" style=\"fill: #ff0000\"/>\n   </g>\n   <g id=\"patch_10\">\n    <path d=\"M 109.570986 327.558125 \nL 112.009863 327.558125 \nL 112.009863 327.558125 \nL 109.570986 327.558125 \nz\n\" clip-path=\"url(#p2f7eaeda3b)\" style=\"fill: #ff0000\"/>\n   </g>\n   <g id=\"patch_11\">\n    <path d=\"M 115.66818 327.558125 \nL 118.107058 327.558125 \nL 118.107058 326.075253 \nL 115.66818 326.075253 \nz\n\" clip-path=\"url(#p2f7eaeda3b)\" style=\"fill: #ff0000\"/>\n   </g>\n   <g id=\"patch_12\">\n    <path d=\"M 121.765374 327.558125 \nL 124.204252 327.558125 \nL 124.204252 327.558125 \nL 121.765374 327.558125 \nz\n\" clip-path=\"url(#p2f7eaeda3b)\" style=\"fill: #ff0000\"/>\n   </g>\n   <g id=\"patch_13\">\n    <path d=\"M 127.862569 327.558125 \nL 130.301447 327.558125 \nL 130.301447 326.075253 \nL 127.862569 326.075253 \nz\n\" clip-path=\"url(#p2f7eaeda3b)\" style=\"fill: #ff0000\"/>\n   </g>\n   <g id=\"patch_14\">\n    <path d=\"M 133.959763 327.558125 \nL 136.398641 327.558125 \nL 136.398641 326.479673 \nL 133.959763 326.479673 \nz\n\" clip-path=\"url(#p2f7eaeda3b)\" style=\"fill: #ff0000\"/>\n   </g>\n   <g id=\"patch_15\">\n    <path d=\"M 140.056958 327.558125 \nL 142.495835 327.558125 \nL 142.495835 327.558125 \nL 140.056958 327.558125 \nz\n\" clip-path=\"url(#p2f7eaeda3b)\" style=\"fill: #ff0000\"/>\n   </g>\n   <g id=\"patch_16\">\n    <path d=\"M 146.154152 327.558125 \nL 148.59303 327.558125 \nL 148.59303 326.075253 \nL 146.154152 326.075253 \nz\n\" clip-path=\"url(#p2f7eaeda3b)\" style=\"fill: #ff0000\"/>\n   </g>\n   <g id=\"patch_17\">\n    <path d=\"M 152.251346 327.558125 \nL 154.690224 327.558125 \nL 154.690224 326.614479 \nL 152.251346 326.614479 \nz\n\" clip-path=\"url(#p2f7eaeda3b)\" style=\"fill: #ff0000\"/>\n   </g>\n   <g id=\"patch_18\">\n    <path d=\"M 158.348541 327.558125 \nL 160.787419 327.558125 \nL 160.787419 326.614479 \nL 158.348541 326.614479 \nz\n\" clip-path=\"url(#p2f7eaeda3b)\" style=\"fill: #ff0000\"/>\n   </g>\n   <g id=\"patch_19\">\n    <path d=\"M 164.445735 327.558125 \nL 166.884613 327.558125 \nL 166.884613 326.075253 \nL 164.445735 326.075253 \nz\n\" clip-path=\"url(#p2f7eaeda3b)\" style=\"fill: #ff0000\"/>\n   </g>\n   <g id=\"patch_20\">\n    <path d=\"M 170.54293 327.558125 \nL 172.981807 327.558125 \nL 172.981807 327.423318 \nL 170.54293 327.423318 \nz\n\" clip-path=\"url(#p2f7eaeda3b)\" style=\"fill: #ff0000\"/>\n   </g>\n   <g id=\"patch_21\">\n    <path d=\"M 176.640124 327.558125 \nL 179.079002 327.558125 \nL 179.079002 326.21006 \nL 176.640124 326.21006 \nz\n\" clip-path=\"url(#p2f7eaeda3b)\" style=\"fill: #ff0000\"/>\n   </g>\n   <g id=\"patch_22\">\n    <path d=\"M 182.737318 327.558125 \nL 185.176196 327.558125 \nL 185.176196 326.344866 \nL 182.737318 326.344866 \nz\n\" clip-path=\"url(#p2f7eaeda3b)\" style=\"fill: #ff0000\"/>\n   </g>\n   <g id=\"patch_23\">\n    <path d=\"M 188.834513 327.558125 \nL 191.273391 327.558125 \nL 191.273391 327.018899 \nL 188.834513 327.018899 \nz\n\" clip-path=\"url(#p2f7eaeda3b)\" style=\"fill: #ff0000\"/>\n   </g>\n   <g id=\"patch_24\">\n    <path d=\"M 194.931707 327.558125 \nL 197.370585 327.558125 \nL 197.370585 327.153705 \nL 194.931707 327.153705 \nz\n\" clip-path=\"url(#p2f7eaeda3b)\" style=\"fill: #ff0000\"/>\n   </g>\n   <g id=\"patch_25\">\n    <path d=\"M 201.028902 327.558125 \nL 203.467779 327.558125 \nL 203.467779 326.614479 \nL 201.028902 326.614479 \nz\n\" clip-path=\"url(#p2f7eaeda3b)\" style=\"fill: #ff0000\"/>\n   </g>\n   <g id=\"patch_26\">\n    <path d=\"M 207.126096 327.558125 \nL 209.564974 327.558125 \nL 209.564974 326.614479 \nL 207.126096 326.614479 \nz\n\" clip-path=\"url(#p2f7eaeda3b)\" style=\"fill: #ff0000\"/>\n   </g>\n   <g id=\"patch_27\">\n    <path d=\"M 213.22329 327.558125 \nL 215.662168 327.558125 \nL 215.662168 326.884092 \nL 213.22329 326.884092 \nz\n\" clip-path=\"url(#p2f7eaeda3b)\" style=\"fill: #ff0000\"/>\n   </g>\n   <g id=\"patch_28\">\n    <path d=\"M 219.320485 327.558125 \nL 221.759362 327.558125 \nL 221.759362 326.749286 \nL 219.320485 326.749286 \nz\n\" clip-path=\"url(#p2f7eaeda3b)\" style=\"fill: #ff0000\"/>\n   </g>\n   <g id=\"patch_29\">\n    <path d=\"M 225.417679 327.558125 \nL 227.856557 327.558125 \nL 227.856557 326.344866 \nL 225.417679 326.344866 \nz\n\" clip-path=\"url(#p2f7eaeda3b)\" style=\"fill: #ff0000\"/>\n   </g>\n   <g id=\"patch_30\">\n    <path d=\"M 231.514873 327.558125 \nL 233.953751 327.558125 \nL 233.953751 327.288512 \nL 231.514873 327.288512 \nz\n\" clip-path=\"url(#p2f7eaeda3b)\" style=\"fill: #ff0000\"/>\n   </g>\n   <g id=\"patch_31\">\n    <path d=\"M 237.612068 327.558125 \nL 240.050946 327.558125 \nL 240.050946 326.479673 \nL 237.612068 326.479673 \nz\n\" clip-path=\"url(#p2f7eaeda3b)\" style=\"fill: #ff0000\"/>\n   </g>\n   <g id=\"patch_32\">\n    <path d=\"M 243.709262 327.558125 \nL 246.14814 327.558125 \nL 246.14814 326.479673 \nL 243.709262 326.479673 \nz\n\" clip-path=\"url(#p2f7eaeda3b)\" style=\"fill: #ff0000\"/>\n   </g>\n   <g id=\"patch_33\">\n    <path d=\"M 249.806457 327.558125 \nL 252.245334 327.558125 \nL 252.245334 326.614479 \nL 249.806457 326.614479 \nz\n\" clip-path=\"url(#p2f7eaeda3b)\" style=\"fill: #ff0000\"/>\n   </g>\n   <g id=\"patch_34\">\n    <path d=\"M 255.903651 327.558125 \nL 258.342529 327.558125 \nL 258.342529 326.344866 \nL 255.903651 326.344866 \nz\n\" clip-path=\"url(#p2f7eaeda3b)\" style=\"fill: #ff0000\"/>\n   </g>\n   <g id=\"patch_35\">\n    <path d=\"M 262.000845 327.558125 \nL 264.439723 327.558125 \nL 264.439723 326.614479 \nL 262.000845 326.614479 \nz\n\" clip-path=\"url(#p2f7eaeda3b)\" style=\"fill: #ff0000\"/>\n   </g>\n   <g id=\"patch_36\">\n    <path d=\"M 268.09804 327.558125 \nL 270.536918 327.558125 \nL 270.536918 324.996801 \nL 268.09804 324.996801 \nz\n\" clip-path=\"url(#p2f7eaeda3b)\" style=\"fill: #ff0000\"/>\n   </g>\n   <g id=\"patch_37\">\n    <path d=\"M 274.195234 327.558125 \nL 276.634112 327.558125 \nL 276.634112 326.075253 \nL 274.195234 326.075253 \nz\n\" clip-path=\"url(#p2f7eaeda3b)\" style=\"fill: #ff0000\"/>\n   </g>\n   <g id=\"patch_38\">\n    <path d=\"M 280.292429 327.558125 \nL 282.731306 327.558125 \nL 282.731306 324.592381 \nL 280.292429 324.592381 \nz\n\" clip-path=\"url(#p2f7eaeda3b)\" style=\"fill: #ff0000\"/>\n   </g>\n   <g id=\"patch_39\">\n    <path d=\"M 286.389623 327.558125 \nL 288.828501 327.558125 \nL 288.828501 323.379123 \nL 286.389623 323.379123 \nz\n\" clip-path=\"url(#p2f7eaeda3b)\" style=\"fill: #ff0000\"/>\n   </g>\n   <g id=\"patch_40\">\n    <path d=\"M 292.486817 327.558125 \nL 294.925695 327.558125 \nL 294.925695 321.087412 \nL 292.486817 321.087412 \nz\n\" clip-path=\"url(#p2f7eaeda3b)\" style=\"fill: #ff0000\"/>\n   </g>\n   <g id=\"patch_41\">\n    <path d=\"M 298.584012 327.558125 \nL 301.02289 327.558125 \nL 301.02289 320.008959 \nL 298.584012 320.008959 \nz\n\" clip-path=\"url(#p2f7eaeda3b)\" style=\"fill: #ff0000\"/>\n   </g>\n   <g id=\"patch_42\">\n    <path d=\"M 304.681206 327.558125 \nL 307.120084 327.558125 \nL 307.120084 322.435477 \nL 304.681206 322.435477 \nz\n\" clip-path=\"url(#p2f7eaeda3b)\" style=\"fill: #ff0000\"/>\n   </g>\n   <g id=\"patch_43\">\n    <path d=\"M 310.778401 327.558125 \nL 313.217278 327.558125 \nL 313.217278 320.548185 \nL 310.778401 320.548185 \nz\n\" clip-path=\"url(#p2f7eaeda3b)\" style=\"fill: #ff0000\"/>\n   </g>\n   <g id=\"patch_44\">\n    <path d=\"M 316.875595 327.558125 \nL 319.314473 327.558125 \nL 319.314473 317.312829 \nL 316.875595 317.312829 \nz\n\" clip-path=\"url(#p2f7eaeda3b)\" style=\"fill: #ff0000\"/>\n   </g>\n   <g id=\"patch_45\">\n    <path d=\"M 322.972789 327.558125 \nL 325.411667 327.558125 \nL 325.411667 304.910628 \nL 322.972789 304.910628 \nz\n\" clip-path=\"url(#p2f7eaeda3b)\" style=\"fill: #ff0000\"/>\n   </g>\n   <g id=\"patch_46\">\n    <path d=\"M 329.069984 327.558125 \nL 331.508861 327.558125 \nL 331.508861 290.755942 \nL 329.069984 290.755942 \nz\n\" clip-path=\"url(#p2f7eaeda3b)\" style=\"fill: #ff0000\"/>\n   </g>\n   <g id=\"patch_47\">\n    <path d=\"M 335.167178 327.558125 \nL 337.606056 327.558125 \nL 337.606056 316.908409 \nL 335.167178 316.908409 \nz\n\" clip-path=\"url(#p2f7eaeda3b)\" style=\"fill: #ff0000\"/>\n   </g>\n   <g id=\"patch_48\">\n    <path d=\"M 341.264372 327.558125 \nL 343.70325 327.558125 \nL 343.70325 314.616698 \nL 341.264372 314.616698 \nz\n\" clip-path=\"url(#p2f7eaeda3b)\" style=\"fill: #ff0000\"/>\n   </g>\n   <g id=\"patch_49\">\n    <path d=\"M 347.361567 327.558125 \nL 349.800445 327.558125 \nL 349.800445 314.077472 \nL 347.361567 314.077472 \nz\n\" clip-path=\"url(#p2f7eaeda3b)\" style=\"fill: #ff0000\"/>\n   </g>\n   <g id=\"patch_50\">\n    <path d=\"M 353.458761 327.558125 \nL 355.897639 327.558125 \nL 355.897639 311.920567 \nL 353.458761 311.920567 \nz\n\" clip-path=\"url(#p2f7eaeda3b)\" style=\"fill: #ff0000\"/>\n   </g>\n   <g id=\"patch_51\">\n    <path d=\"M 359.555956 327.558125 \nL 361.994833 327.558125 \nL 361.994833 303.966982 \nL 359.555956 303.966982 \nz\n\" clip-path=\"url(#p2f7eaeda3b)\" style=\"fill: #ff0000\"/>\n   </g>\n   <g id=\"patch_52\">\n    <path d=\"M 365.65315 327.558125 \nL 368.092028 327.558125 \nL 368.092028 309.359243 \nL 365.65315 309.359243 \nz\n\" clip-path=\"url(#p2f7eaeda3b)\" style=\"fill: #ff0000\"/>\n   </g>\n   <g id=\"patch_53\">\n    <path d=\"M 371.750344 327.558125 \nL 374.189222 327.558125 \nL 374.189222 260.424473 \nL 371.750344 260.424473 \nz\n\" clip-path=\"url(#p2f7eaeda3b)\" style=\"fill: #ff0000\"/>\n   </g>\n   <g id=\"patch_54\">\n    <path d=\"M 377.847539 327.558125 \nL 380.286417 327.558125 \nL 380.286417 248.965918 \nL 377.847539 248.965918 \nz\n\" clip-path=\"url(#p2f7eaeda3b)\" style=\"fill: #ff0000\"/>\n   </g>\n   <g id=\"patch_55\">\n    <path d=\"M 383.944733 327.558125 \nL 386.383611 327.558125 \nL 386.383611 209.737217 \nL 383.944733 209.737217 \nz\n\" clip-path=\"url(#p2f7eaeda3b)\" style=\"fill: #ff0000\"/>\n   </g>\n   <g id=\"patch_56\">\n    <path d=\"M 390.041928 327.558125 \nL 392.480805 327.558125 \nL 392.480805 170.238904 \nL 390.041928 170.238904 \nz\n\" clip-path=\"url(#p2f7eaeda3b)\" style=\"fill: #ff0000\"/>\n   </g>\n   <g id=\"patch_57\">\n    <path d=\"M 396.139122 327.558125 \nL 398.578 327.558125 \nL 398.578 205.558215 \nL 396.139122 205.558215 \nz\n\" clip-path=\"url(#p2f7eaeda3b)\" style=\"fill: #ff0000\"/>\n   </g>\n   <g id=\"patch_58\">\n    <path d=\"M 402.236316 327.558125 \nL 404.675194 327.558125 \nL 404.675194 67.516328 \nL 402.236316 67.516328 \nz\n\" clip-path=\"url(#p2f7eaeda3b)\" style=\"fill: #ff0000\"/>\n   </g>\n   <g id=\"patch_59\">\n    <path d=\"M 408.333511 327.558125 \nL 410.772389 327.558125 \nL 410.772389 239.259848 \nL 408.333511 239.259848 \nz\n\" clip-path=\"url(#p2f7eaeda3b)\" style=\"fill: #ff0000\"/>\n   </g>\n   <g id=\"patch_60\">\n    <path d=\"M 414.430705 327.558125 \nL 416.869583 327.558125 \nL 416.869583 226.588034 \nL 414.430705 226.588034 \nz\n\" clip-path=\"url(#p2f7eaeda3b)\" style=\"fill: #ff0000\"/>\n   </g>\n   <g id=\"patch_61\">\n    <path d=\"M 420.5279 327.558125 \nL 422.966777 327.558125 \nL 422.966777 134.64998 \nL 420.5279 134.64998 \nz\n\" clip-path=\"url(#p2f7eaeda3b)\" style=\"fill: #ff0000\"/>\n   </g>\n   <g id=\"patch_62\">\n    <path d=\"M 426.625094 327.558125 \nL 429.063972 327.558125 \nL 429.063972 226.992453 \nL 426.625094 226.992453 \nz\n\" clip-path=\"url(#p2f7eaeda3b)\" style=\"fill: #ff0000\"/>\n   </g>\n   <g id=\"patch_63\">\n    <path d=\"M 432.722288 327.558125 \nL 435.161166 327.558125 \nL 435.161166 194.908499 \nL 432.722288 194.908499 \nz\n\" clip-path=\"url(#p2f7eaeda3b)\" style=\"fill: #ff0000\"/>\n   </g>\n   <g id=\"patch_64\">\n    <path d=\"M 438.819483 327.558125 \nL 441.25836 327.558125 \nL 441.25836 251.122822 \nL 438.819483 251.122822 \nz\n\" clip-path=\"url(#p2f7eaeda3b)\" style=\"fill: #ff0000\"/>\n   </g>\n   <g id=\"patch_65\">\n    <path d=\"M 444.916677 327.558125 \nL 447.355555 327.558125 \nL 447.355555 148.265439 \nL 444.916677 148.265439 \nz\n\" clip-path=\"url(#p2f7eaeda3b)\" style=\"fill: #ff0000\"/>\n   </g>\n   <g id=\"patch_66\">\n    <path d=\"M 451.013871 327.558125 \nL 453.452749 327.558125 \nL 453.452749 216.747157 \nL 451.013871 216.747157 \nz\n\" clip-path=\"url(#p2f7eaeda3b)\" style=\"fill: #ff0000\"/>\n   </g>\n   <g id=\"patch_67\">\n    <path d=\"M 457.111066 327.558125 \nL 459.549944 327.558125 \nL 459.549944 227.666486 \nL 457.111066 227.666486 \nz\n\" clip-path=\"url(#p2f7eaeda3b)\" style=\"fill: #ff0000\"/>\n   </g>\n   <g id=\"patch_68\">\n    <path d=\"M 463.20826 327.558125 \nL 465.647138 327.558125 \nL 465.647138 243.304043 \nL 463.20826 243.304043 \nz\n\" clip-path=\"url(#p2f7eaeda3b)\" style=\"fill: #ff0000\"/>\n   </g>\n   <g id=\"patch_69\">\n    <path d=\"M 469.305455 327.558125 \nL 471.744332 327.558125 \nL 471.744332 267.434412 \nL 469.305455 267.434412 \nz\n\" clip-path=\"url(#p2f7eaeda3b)\" style=\"fill: #ff0000\"/>\n   </g>\n   <g id=\"patch_70\">\n    <path d=\"M 475.402649 327.558125 \nL 477.841527 327.558125 \nL 477.841527 219.847707 \nL 475.402649 219.847707 \nz\n\" clip-path=\"url(#p2f7eaeda3b)\" style=\"fill: #ff0000\"/>\n   </g>\n   <g id=\"patch_71\">\n    <path d=\"M 481.499843 327.558125 \nL 483.938721 327.558125 \nL 483.938721 277.005676 \nL 481.499843 277.005676 \nz\n\" clip-path=\"url(#p2f7eaeda3b)\" style=\"fill: #ff0000\"/>\n   </g>\n   <g id=\"patch_72\">\n    <path d=\"M 487.597038 327.558125 \nL 490.035916 327.558125 \nL 490.035916 291.969201 \nL 487.597038 291.969201 \nz\n\" clip-path=\"url(#p2f7eaeda3b)\" style=\"fill: #ff0000\"/>\n   </g>\n   <g id=\"patch_73\">\n    <path d=\"M 493.694232 327.558125 \nL 496.13311 327.558125 \nL 496.13311 284.824455 \nL 493.694232 284.824455 \nz\n\" clip-path=\"url(#p2f7eaeda3b)\" style=\"fill: #ff0000\"/>\n   </g>\n   <g id=\"patch_74\">\n    <path d=\"M 499.791427 327.558125 \nL 502.230304 327.558125 \nL 502.230304 300.462012 \nL 499.791427 300.462012 \nz\n\" clip-path=\"url(#p2f7eaeda3b)\" style=\"fill: #ff0000\"/>\n   </g>\n   <g id=\"patch_75\">\n    <path d=\"M 505.888621 327.558125 \nL 508.327499 327.558125 \nL 508.327499 292.912847 \nL 505.888621 292.912847 \nz\n\" clip-path=\"url(#p2f7eaeda3b)\" style=\"fill: #ff0000\"/>\n   </g>\n   <g id=\"patch_76\">\n    <path d=\"M 511.985815 327.558125 \nL 514.424693 327.558125 \nL 514.424693 313.133826 \nL 511.985815 313.133826 \nz\n\" clip-path=\"url(#p2f7eaeda3b)\" style=\"fill: #ff0000\"/>\n   </g>\n   <g id=\"patch_77\">\n    <path d=\"M 518.08301 327.558125 \nL 520.521888 327.558125 \nL 520.521888 309.49405 \nL 518.08301 309.49405 \nz\n\" clip-path=\"url(#p2f7eaeda3b)\" style=\"fill: #ff0000\"/>\n   </g>\n   <g id=\"patch_78\">\n    <path d=\"M 524.180204 327.558125 \nL 526.619082 327.558125 \nL 526.619082 307.202339 \nL 524.180204 307.202339 \nz\n\" clip-path=\"url(#p2f7eaeda3b)\" style=\"fill: #ff0000\"/>\n   </g>\n   <g id=\"patch_79\">\n    <path d=\"M 530.277399 327.558125 \nL 532.716276 327.558125 \nL 532.716276 317.582442 \nL 530.277399 317.582442 \nz\n\" clip-path=\"url(#p2f7eaeda3b)\" style=\"fill: #ff0000\"/>\n   </g>\n   <g id=\"patch_80\">\n    <path d=\"M 536.374593 327.558125 \nL 538.813471 327.558125 \nL 538.813471 315.290731 \nL 536.374593 315.290731 \nz\n\" clip-path=\"url(#p2f7eaeda3b)\" style=\"fill: #ff0000\"/>\n   </g>\n   <g id=\"patch_81\">\n    <path d=\"M 542.471787 327.558125 \nL 544.910665 327.558125 \nL 544.910665 319.874153 \nL 542.471787 319.874153 \nz\n\" clip-path=\"url(#p2f7eaeda3b)\" style=\"fill: #ff0000\"/>\n   </g>\n   <g id=\"patch_82\">\n    <path d=\"M 548.568982 327.558125 \nL 551.007859 327.558125 \nL 551.007859 314.886311 \nL 548.568982 314.886311 \nz\n\" clip-path=\"url(#p2f7eaeda3b)\" style=\"fill: #ff0000\"/>\n   </g>\n   <g id=\"patch_83\">\n    <path d=\"M 554.666176 327.558125 \nL 557.105054 327.558125 \nL 557.105054 319.874153 \nL 554.666176 319.874153 \nz\n\" clip-path=\"url(#p2f7eaeda3b)\" style=\"fill: #ff0000\"/>\n   </g>\n   <g id=\"patch_84\">\n    <path d=\"M 560.76337 327.558125 \nL 563.202248 327.558125 \nL 563.202248 319.60454 \nL 560.76337 319.60454 \nz\n\" clip-path=\"url(#p2f7eaeda3b)\" style=\"fill: #ff0000\"/>\n   </g>\n   <g id=\"patch_85\">\n    <path d=\"M 566.860565 327.558125 \nL 569.299443 327.558125 \nL 569.299443 321.491831 \nL 566.860565 321.491831 \nz\n\" clip-path=\"url(#p2f7eaeda3b)\" style=\"fill: #ff0000\"/>\n   </g>\n   <g id=\"patch_86\">\n    <path d=\"M 572.957759 327.558125 \nL 575.396637 327.558125 \nL 575.396637 322.974703 \nL 572.957759 322.974703 \nz\n\" clip-path=\"url(#p2f7eaeda3b)\" style=\"fill: #ff0000\"/>\n   </g>\n   <g id=\"patch_87\">\n    <path d=\"M 579.054954 327.558125 \nL 581.493831 327.558125 \nL 581.493831 320.817798 \nL 579.054954 320.817798 \nz\n\" clip-path=\"url(#p2f7eaeda3b)\" style=\"fill: #ff0000\"/>\n   </g>\n   <g id=\"patch_88\">\n    <path d=\"M 585.152148 327.558125 \nL 587.591026 327.558125 \nL 587.591026 325.536027 \nL 585.152148 325.536027 \nz\n\" clip-path=\"url(#p2f7eaeda3b)\" style=\"fill: #ff0000\"/>\n   </g>\n   <g id=\"patch_89\">\n    <path d=\"M 591.249342 327.558125 \nL 593.68822 327.558125 \nL 593.68822 325.536027 \nL 591.249342 325.536027 \nz\n\" clip-path=\"url(#p2f7eaeda3b)\" style=\"fill: #ff0000\"/>\n   </g>\n   <g id=\"patch_90\">\n    <path d=\"M 597.346537 327.558125 \nL 599.785415 327.558125 \nL 599.785415 324.187962 \nL 597.346537 324.187962 \nz\n\" clip-path=\"url(#p2f7eaeda3b)\" style=\"fill: #ff0000\"/>\n   </g>\n   <g id=\"patch_91\">\n    <path d=\"M 603.443731 327.558125 \nL 605.882609 327.558125 \nL 605.882609 326.344866 \nL 603.443731 326.344866 \nz\n\" clip-path=\"url(#p2f7eaeda3b)\" style=\"fill: #ff0000\"/>\n   </g>\n   <g id=\"patch_92\">\n    <path d=\"M 609.540926 327.558125 \nL 611.979803 327.558125 \nL 611.979803 325.940447 \nL 609.540926 325.940447 \nz\n\" clip-path=\"url(#p2f7eaeda3b)\" style=\"fill: #ff0000\"/>\n   </g>\n   <g id=\"patch_93\">\n    <path d=\"M 615.63812 327.558125 \nL 618.076998 327.558125 \nL 618.076998 325.670834 \nL 615.63812 325.670834 \nz\n\" clip-path=\"url(#p2f7eaeda3b)\" style=\"fill: #ff0000\"/>\n   </g>\n   <g id=\"patch_94\">\n    <path d=\"M 621.735314 327.558125 \nL 624.174192 327.558125 \nL 624.174192 326.749286 \nL 621.735314 326.749286 \nz\n\" clip-path=\"url(#p2f7eaeda3b)\" style=\"fill: #ff0000\"/>\n   </g>\n   <g id=\"patch_95\">\n    <path d=\"M 627.832509 327.558125 \nL 630.271387 327.558125 \nL 630.271387 326.884092 \nL 627.832509 326.884092 \nz\n\" clip-path=\"url(#p2f7eaeda3b)\" style=\"fill: #ff0000\"/>\n   </g>\n   <g id=\"patch_96\">\n    <path d=\"M 633.929703 327.558125 \nL 636.368581 327.558125 \nL 636.368581 327.423318 \nL 633.929703 327.423318 \nz\n\" clip-path=\"url(#p2f7eaeda3b)\" style=\"fill: #ff0000\"/>\n   </g>\n   <g id=\"patch_97\">\n    <path d=\"M 640.026898 327.558125 \nL 642.465775 327.558125 \nL 642.465775 327.288512 \nL 640.026898 327.288512 \nz\n\" clip-path=\"url(#p2f7eaeda3b)\" style=\"fill: #ff0000\"/>\n   </g>\n   <g id=\"patch_98\">\n    <path d=\"M 646.124092 327.558125 \nL 648.56297 327.558125 \nL 648.56297 327.288512 \nL 646.124092 327.288512 \nz\n\" clip-path=\"url(#p2f7eaeda3b)\" style=\"fill: #ff0000\"/>\n   </g>\n   <g id=\"patch_99\">\n    <path d=\"M 652.221286 327.558125 \nL 654.660164 327.558125 \nL 654.660164 327.558125 \nL 652.221286 327.558125 \nz\n\" clip-path=\"url(#p2f7eaeda3b)\" style=\"fill: #ff0000\"/>\n   </g>\n   <g id=\"patch_100\">\n    <path d=\"M 658.318481 327.558125 \nL 660.757358 327.558125 \nL 660.757358 327.558125 \nL 658.318481 327.558125 \nz\n\" clip-path=\"url(#p2f7eaeda3b)\" style=\"fill: #ff0000\"/>\n   </g>\n   <g id=\"patch_101\">\n    <path d=\"M 664.415675 327.558125 \nL 666.854553 327.558125 \nL 666.854553 327.558125 \nL 664.415675 327.558125 \nz\n\" clip-path=\"url(#p2f7eaeda3b)\" style=\"fill: #ff0000\"/>\n   </g>\n   <g id=\"patch_102\">\n    <path d=\"M 670.512869 327.558125 \nL 672.951747 327.558125 \nL 672.951747 327.423318 \nL 670.512869 327.423318 \nz\n\" clip-path=\"url(#p2f7eaeda3b)\" style=\"fill: #ff0000\"/>\n   </g>\n   <g id=\"patch_103\">\n    <path d=\"M 69.329503 327.558125 \nL 71.768381 327.558125 \nL 71.768381 325.286994 \nL 69.329503 325.286994 \nz\n\" clip-path=\"url(#p2f7eaeda3b)\" style=\"fill: #0000ff\"/>\n   </g>\n   <g id=\"patch_104\">\n    <path d=\"M 75.426697 327.558125 \nL 77.865575 327.558125 \nL 77.865575 327.558125 \nL 75.426697 327.558125 \nz\n\" clip-path=\"url(#p2f7eaeda3b)\" style=\"fill: #0000ff\"/>\n   </g>\n   <g id=\"patch_105\">\n    <path d=\"M 81.523892 327.558125 \nL 83.962769 327.558125 \nL 83.962769 327.558125 \nL 81.523892 327.558125 \nz\n\" clip-path=\"url(#p2f7eaeda3b)\" style=\"fill: #0000ff\"/>\n   </g>\n   <g id=\"patch_106\">\n    <path d=\"M 87.621086 327.558125 \nL 90.059964 327.558125 \nL 90.059964 327.558125 \nL 87.621086 327.558125 \nz\n\" clip-path=\"url(#p2f7eaeda3b)\" style=\"fill: #0000ff\"/>\n   </g>\n   <g id=\"patch_107\">\n    <path d=\"M 93.71828 327.558125 \nL 96.157158 327.558125 \nL 96.157158 327.558125 \nL 93.71828 327.558125 \nz\n\" clip-path=\"url(#p2f7eaeda3b)\" style=\"fill: #0000ff\"/>\n   </g>\n   <g id=\"patch_108\">\n    <path d=\"M 99.815475 327.558125 \nL 102.254352 327.558125 \nL 102.254352 324.719211 \nL 99.815475 324.719211 \nz\n\" clip-path=\"url(#p2f7eaeda3b)\" style=\"fill: #0000ff\"/>\n   </g>\n   <g id=\"patch_109\">\n    <path d=\"M 105.912669 327.558125 \nL 108.351547 327.558125 \nL 108.351547 327.558125 \nL 105.912669 327.558125 \nz\n\" clip-path=\"url(#p2f7eaeda3b)\" style=\"fill: #0000ff\"/>\n   </g>\n   <g id=\"patch_110\">\n    <path d=\"M 112.009863 327.558125 \nL 114.448741 327.558125 \nL 114.448741 327.558125 \nL 112.009863 327.558125 \nz\n\" clip-path=\"url(#p2f7eaeda3b)\" style=\"fill: #0000ff\"/>\n   </g>\n   <g id=\"patch_111\">\n    <path d=\"M 118.107058 327.558125 \nL 120.545936 327.558125 \nL 120.545936 325.286994 \nL 118.107058 325.286994 \nz\n\" clip-path=\"url(#p2f7eaeda3b)\" style=\"fill: #0000ff\"/>\n   </g>\n   <g id=\"patch_112\">\n    <path d=\"M 124.204252 327.558125 \nL 126.64313 327.558125 \nL 126.64313 327.558125 \nL 124.204252 327.558125 \nz\n\" clip-path=\"url(#p2f7eaeda3b)\" style=\"fill: #0000ff\"/>\n   </g>\n   <g id=\"patch_113\">\n    <path d=\"M 130.301447 327.558125 \nL 132.740324 327.558125 \nL 132.740324 323.583646 \nL 130.301447 323.583646 \nz\n\" clip-path=\"url(#p2f7eaeda3b)\" style=\"fill: #0000ff\"/>\n   </g>\n   <g id=\"patch_114\">\n    <path d=\"M 136.398641 327.558125 \nL 138.837519 327.558125 \nL 138.837519 325.286994 \nL 136.398641 325.286994 \nz\n\" clip-path=\"url(#p2f7eaeda3b)\" style=\"fill: #0000ff\"/>\n   </g>\n   <g id=\"patch_115\">\n    <path d=\"M 142.495835 327.558125 \nL 144.934713 327.558125 \nL 144.934713 327.558125 \nL 142.495835 327.558125 \nz\n\" clip-path=\"url(#p2f7eaeda3b)\" style=\"fill: #0000ff\"/>\n   </g>\n   <g id=\"patch_116\">\n    <path d=\"M 148.59303 327.558125 \nL 151.031908 327.558125 \nL 151.031908 325.286994 \nL 148.59303 325.286994 \nz\n\" clip-path=\"url(#p2f7eaeda3b)\" style=\"fill: #0000ff\"/>\n   </g>\n   <g id=\"patch_117\">\n    <path d=\"M 154.690224 327.558125 \nL 157.129102 327.558125 \nL 157.129102 326.42256 \nL 154.690224 326.42256 \nz\n\" clip-path=\"url(#p2f7eaeda3b)\" style=\"fill: #0000ff\"/>\n   </g>\n   <g id=\"patch_118\">\n    <path d=\"M 160.787419 327.558125 \nL 163.226296 327.558125 \nL 163.226296 326.990342 \nL 160.787419 326.990342 \nz\n\" clip-path=\"url(#p2f7eaeda3b)\" style=\"fill: #0000ff\"/>\n   </g>\n   <g id=\"patch_119\">\n    <path d=\"M 166.884613 327.558125 \nL 169.323491 327.558125 \nL 169.323491 324.151429 \nL 166.884613 324.151429 \nz\n\" clip-path=\"url(#p2f7eaeda3b)\" style=\"fill: #0000ff\"/>\n   </g>\n   <g id=\"patch_120\">\n    <path d=\"M 172.981807 327.558125 \nL 175.420685 327.558125 \nL 175.420685 325.854777 \nL 172.981807 325.854777 \nz\n\" clip-path=\"url(#p2f7eaeda3b)\" style=\"fill: #0000ff\"/>\n   </g>\n   <g id=\"patch_121\">\n    <path d=\"M 179.079002 327.558125 \nL 181.51788 327.558125 \nL 181.51788 325.854777 \nL 179.079002 325.854777 \nz\n\" clip-path=\"url(#p2f7eaeda3b)\" style=\"fill: #0000ff\"/>\n   </g>\n   <g id=\"patch_122\">\n    <path d=\"M 185.176196 327.558125 \nL 187.615074 327.558125 \nL 187.615074 325.854777 \nL 185.176196 325.854777 \nz\n\" clip-path=\"url(#p2f7eaeda3b)\" style=\"fill: #0000ff\"/>\n   </g>\n   <g id=\"patch_123\">\n    <path d=\"M 191.273391 327.558125 \nL 193.712268 327.558125 \nL 193.712268 324.719211 \nL 191.273391 324.719211 \nz\n\" clip-path=\"url(#p2f7eaeda3b)\" style=\"fill: #0000ff\"/>\n   </g>\n   <g id=\"patch_124\">\n    <path d=\"M 197.370585 327.558125 \nL 199.809463 327.558125 \nL 199.809463 325.854777 \nL 197.370585 325.854777 \nz\n\" clip-path=\"url(#p2f7eaeda3b)\" style=\"fill: #0000ff\"/>\n   </g>\n   <g id=\"patch_125\">\n    <path d=\"M 203.467779 327.558125 \nL 205.906657 327.558125 \nL 205.906657 326.990342 \nL 203.467779 326.990342 \nz\n\" clip-path=\"url(#p2f7eaeda3b)\" style=\"fill: #0000ff\"/>\n   </g>\n   <g id=\"patch_126\">\n    <path d=\"M 209.564974 327.558125 \nL 212.003851 327.558125 \nL 212.003851 326.990342 \nL 209.564974 326.990342 \nz\n\" clip-path=\"url(#p2f7eaeda3b)\" style=\"fill: #0000ff\"/>\n   </g>\n   <g id=\"patch_127\">\n    <path d=\"M 215.662168 327.558125 \nL 218.101046 327.558125 \nL 218.101046 326.990342 \nL 215.662168 326.990342 \nz\n\" clip-path=\"url(#p2f7eaeda3b)\" style=\"fill: #0000ff\"/>\n   </g>\n   <g id=\"patch_128\">\n    <path d=\"M 221.759362 327.558125 \nL 224.19824 327.558125 \nL 224.19824 326.990342 \nL 221.759362 326.990342 \nz\n\" clip-path=\"url(#p2f7eaeda3b)\" style=\"fill: #0000ff\"/>\n   </g>\n   <g id=\"patch_129\">\n    <path d=\"M 227.856557 327.558125 \nL 230.295435 327.558125 \nL 230.295435 325.854777 \nL 227.856557 325.854777 \nz\n\" clip-path=\"url(#p2f7eaeda3b)\" style=\"fill: #0000ff\"/>\n   </g>\n   <g id=\"patch_130\">\n    <path d=\"M 233.953751 327.558125 \nL 236.392629 327.558125 \nL 236.392629 326.42256 \nL 233.953751 326.42256 \nz\n\" clip-path=\"url(#p2f7eaeda3b)\" style=\"fill: #0000ff\"/>\n   </g>\n   <g id=\"patch_131\">\n    <path d=\"M 240.050946 327.558125 \nL 242.489823 327.558125 \nL 242.489823 326.42256 \nL 240.050946 326.42256 \nz\n\" clip-path=\"url(#p2f7eaeda3b)\" style=\"fill: #0000ff\"/>\n   </g>\n   <g id=\"patch_132\">\n    <path d=\"M 246.14814 327.558125 \nL 248.587018 327.558125 \nL 248.587018 327.558125 \nL 246.14814 327.558125 \nz\n\" clip-path=\"url(#p2f7eaeda3b)\" style=\"fill: #0000ff\"/>\n   </g>\n   <g id=\"patch_133\">\n    <path d=\"M 252.245334 327.558125 \nL 254.684212 327.558125 \nL 254.684212 326.990342 \nL 252.245334 326.990342 \nz\n\" clip-path=\"url(#p2f7eaeda3b)\" style=\"fill: #0000ff\"/>\n   </g>\n   <g id=\"patch_134\">\n    <path d=\"M 258.342529 327.558125 \nL 260.781407 327.558125 \nL 260.781407 325.854777 \nL 258.342529 325.854777 \nz\n\" clip-path=\"url(#p2f7eaeda3b)\" style=\"fill: #0000ff\"/>\n   </g>\n   <g id=\"patch_135\">\n    <path d=\"M 264.439723 327.558125 \nL 266.878601 327.558125 \nL 266.878601 326.42256 \nL 264.439723 326.42256 \nz\n\" clip-path=\"url(#p2f7eaeda3b)\" style=\"fill: #0000ff\"/>\n   </g>\n   <g id=\"patch_136\">\n    <path d=\"M 270.536918 327.558125 \nL 272.975795 327.558125 \nL 272.975795 323.583646 \nL 270.536918 323.583646 \nz\n\" clip-path=\"url(#p2f7eaeda3b)\" style=\"fill: #0000ff\"/>\n   </g>\n   <g id=\"patch_137\">\n    <path d=\"M 276.634112 327.558125 \nL 279.07299 327.558125 \nL 279.07299 325.286994 \nL 276.634112 325.286994 \nz\n\" clip-path=\"url(#p2f7eaeda3b)\" style=\"fill: #0000ff\"/>\n   </g>\n   <g id=\"patch_138\">\n    <path d=\"M 282.731306 327.558125 \nL 285.170184 327.558125 \nL 285.170184 325.286994 \nL 282.731306 325.286994 \nz\n\" clip-path=\"url(#p2f7eaeda3b)\" style=\"fill: #0000ff\"/>\n   </g>\n   <g id=\"patch_139\">\n    <path d=\"M 288.828501 327.558125 \nL 291.267379 327.558125 \nL 291.267379 324.719211 \nL 288.828501 324.719211 \nz\n\" clip-path=\"url(#p2f7eaeda3b)\" style=\"fill: #0000ff\"/>\n   </g>\n   <g id=\"patch_140\">\n    <path d=\"M 294.925695 327.558125 \nL 297.364573 327.558125 \nL 297.364573 321.312515 \nL 294.925695 321.312515 \nz\n\" clip-path=\"url(#p2f7eaeda3b)\" style=\"fill: #0000ff\"/>\n   </g>\n   <g id=\"patch_141\">\n    <path d=\"M 301.02289 327.558125 \nL 303.461767 327.558125 \nL 303.461767 321.312515 \nL 301.02289 321.312515 \nz\n\" clip-path=\"url(#p2f7eaeda3b)\" style=\"fill: #0000ff\"/>\n   </g>\n   <g id=\"patch_142\">\n    <path d=\"M 307.120084 327.558125 \nL 309.558962 327.558125 \nL 309.558962 321.880298 \nL 307.120084 321.880298 \nz\n\" clip-path=\"url(#p2f7eaeda3b)\" style=\"fill: #0000ff\"/>\n   </g>\n   <g id=\"patch_143\">\n    <path d=\"M 313.217278 327.558125 \nL 315.656156 327.558125 \nL 315.656156 319.609167 \nL 313.217278 319.609167 \nz\n\" clip-path=\"url(#p2f7eaeda3b)\" style=\"fill: #0000ff\"/>\n   </g>\n   <g id=\"patch_144\">\n    <path d=\"M 319.314473 327.558125 \nL 321.75335 327.558125 \nL 321.75335 317.905818 \nL 319.314473 317.905818 \nz\n\" clip-path=\"url(#p2f7eaeda3b)\" style=\"fill: #0000ff\"/>\n   </g>\n   <g id=\"patch_145\">\n    <path d=\"M 325.411667 327.558125 \nL 327.850545 327.558125 \nL 327.850545 300.872336 \nL 325.411667 300.872336 \nz\n\" clip-path=\"url(#p2f7eaeda3b)\" style=\"fill: #0000ff\"/>\n   </g>\n   <g id=\"patch_146\">\n    <path d=\"M 331.508861 327.558125 \nL 333.947739 327.558125 \nL 333.947739 282.135506 \nL 331.508861 282.135506 \nz\n\" clip-path=\"url(#p2f7eaeda3b)\" style=\"fill: #0000ff\"/>\n   </g>\n   <g id=\"patch_147\">\n    <path d=\"M 337.606056 327.558125 \nL 340.044934 327.558125 \nL 340.044934 314.499122 \nL 337.606056 314.499122 \nz\n\" clip-path=\"url(#p2f7eaeda3b)\" style=\"fill: #0000ff\"/>\n   </g>\n   <g id=\"patch_148\">\n    <path d=\"M 343.70325 327.558125 \nL 346.142128 327.558125 \nL 346.142128 312.795774 \nL 343.70325 312.795774 \nz\n\" clip-path=\"url(#p2f7eaeda3b)\" style=\"fill: #0000ff\"/>\n   </g>\n   <g id=\"patch_149\">\n    <path d=\"M 349.800445 327.558125 \nL 352.239322 327.558125 \nL 352.239322 313.931339 \nL 349.800445 313.931339 \nz\n\" clip-path=\"url(#p2f7eaeda3b)\" style=\"fill: #0000ff\"/>\n   </g>\n   <g id=\"patch_150\">\n    <path d=\"M 355.897639 327.558125 \nL 358.336517 327.558125 \nL 358.336517 305.414598 \nL 355.897639 305.414598 \nz\n\" clip-path=\"url(#p2f7eaeda3b)\" style=\"fill: #0000ff\"/>\n   </g>\n   <g id=\"patch_151\">\n    <path d=\"M 361.994833 327.558125 \nL 364.433711 327.558125 \nL 364.433711 301.440119 \nL 361.994833 301.440119 \nz\n\" clip-path=\"url(#p2f7eaeda3b)\" style=\"fill: #0000ff\"/>\n   </g>\n   <g id=\"patch_152\">\n    <path d=\"M 368.092028 327.558125 \nL 370.530906 327.558125 \nL 370.530906 307.117946 \nL 368.092028 307.117946 \nz\n\" clip-path=\"url(#p2f7eaeda3b)\" style=\"fill: #0000ff\"/>\n   </g>\n   <g id=\"patch_153\">\n    <path d=\"M 374.189222 327.558125 \nL 376.6281 327.558125 \nL 376.6281 235.009539 \nL 374.189222 235.009539 \nz\n\" clip-path=\"url(#p2f7eaeda3b)\" style=\"fill: #0000ff\"/>\n   </g>\n   <g id=\"patch_154\">\n    <path d=\"M 380.286417 327.558125 \nL 382.725294 327.558125 \nL 382.725294 225.357232 \nL 380.286417 225.357232 \nz\n\" clip-path=\"url(#p2f7eaeda3b)\" style=\"fill: #0000ff\"/>\n   </g>\n   <g id=\"patch_155\">\n    <path d=\"M 386.383611 327.558125 \nL 388.822489 327.558125 \nL 388.822489 194.696964 \nL 386.383611 194.696964 \nz\n\" clip-path=\"url(#p2f7eaeda3b)\" style=\"fill: #0000ff\"/>\n   </g>\n   <g id=\"patch_156\">\n    <path d=\"M 392.480805 327.558125 \nL 394.919683 327.558125 \nL 394.919683 116.342946 \nL 392.480805 116.342946 \nz\n\" clip-path=\"url(#p2f7eaeda3b)\" style=\"fill: #0000ff\"/>\n   </g>\n   <g id=\"patch_157\">\n    <path d=\"M 398.578 327.558125 \nL 401.016878 327.558125 \nL 401.016878 182.773527 \nL 398.578 182.773527 \nz\n\" clip-path=\"url(#p2f7eaeda3b)\" style=\"fill: #0000ff\"/>\n   </g>\n   <g id=\"patch_158\">\n    <path d=\"M 404.675194 327.558125 \nL 407.114072 327.558125 \nL 407.114072 36.853363 \nL 404.675194 36.853363 \nz\n\" clip-path=\"url(#p2f7eaeda3b)\" style=\"fill: #0000ff\"/>\n   </g>\n   <g id=\"patch_159\">\n    <path d=\"M 410.772389 327.558125 \nL 413.211266 327.558125 \nL 413.211266 224.221667 \nL 410.772389 224.221667 \nz\n\" clip-path=\"url(#p2f7eaeda3b)\" style=\"fill: #0000ff\"/>\n   </g>\n   <g id=\"patch_160\">\n    <path d=\"M 416.869583 327.558125 \nL 419.308461 327.558125 \nL 419.308461 203.781488 \nL 416.869583 203.781488 \nz\n\" clip-path=\"url(#p2f7eaeda3b)\" style=\"fill: #0000ff\"/>\n   </g>\n   <g id=\"patch_161\">\n    <path d=\"M 422.966777 327.558125 \nL 425.405655 327.558125 \nL 425.405655 100.44503 \nL 422.966777 100.44503 \nz\n\" clip-path=\"url(#p2f7eaeda3b)\" style=\"fill: #0000ff\"/>\n   </g>\n   <g id=\"patch_162\">\n    <path d=\"M 429.063972 327.558125 \nL 431.502849 327.558125 \nL 431.502849 207.755967 \nL 429.063972 207.755967 \nz\n\" clip-path=\"url(#p2f7eaeda3b)\" style=\"fill: #0000ff\"/>\n   </g>\n   <g id=\"patch_163\">\n    <path d=\"M 435.161166 327.558125 \nL 437.600044 327.558125 \nL 437.600044 189.019137 \nL 435.161166 189.019137 \nz\n\" clip-path=\"url(#p2f7eaeda3b)\" style=\"fill: #0000ff\"/>\n   </g>\n   <g id=\"patch_164\">\n    <path d=\"M 441.25836 327.558125 \nL 443.697238 327.558125 \nL 443.697238 247.500759 \nL 441.25836 247.500759 \nz\n\" clip-path=\"url(#p2f7eaeda3b)\" style=\"fill: #0000ff\"/>\n   </g>\n   <g id=\"patch_165\">\n    <path d=\"M 447.355555 327.558125 \nL 449.794433 327.558125 \nL 449.794433 195.264747 \nL 447.355555 195.264747 \nz\n\" clip-path=\"url(#p2f7eaeda3b)\" style=\"fill: #0000ff\"/>\n   </g>\n   <g id=\"patch_166\">\n    <path d=\"M 453.452749 327.558125 \nL 455.891627 327.558125 \nL 455.891627 250.339673 \nL 453.452749 250.339673 \nz\n\" clip-path=\"url(#p2f7eaeda3b)\" style=\"fill: #0000ff\"/>\n   </g>\n   <g id=\"patch_167\">\n    <path d=\"M 459.549944 327.558125 \nL 461.988821 327.558125 \nL 461.988821 253.746369 \nL 459.549944 253.746369 \nz\n\" clip-path=\"url(#p2f7eaeda3b)\" style=\"fill: #0000ff\"/>\n   </g>\n   <g id=\"patch_168\">\n    <path d=\"M 465.647138 327.558125 \nL 468.086016 327.558125 \nL 468.086016 259.991979 \nL 465.647138 259.991979 \nz\n\" clip-path=\"url(#p2f7eaeda3b)\" style=\"fill: #0000ff\"/>\n   </g>\n   <g id=\"patch_169\">\n    <path d=\"M 471.744332 327.558125 \nL 474.18321 327.558125 \nL 474.18321 278.161027 \nL 471.744332 278.161027 \nz\n\" clip-path=\"url(#p2f7eaeda3b)\" style=\"fill: #0000ff\"/>\n   </g>\n   <g id=\"patch_170\">\n    <path d=\"M 477.841527 327.558125 \nL 480.280405 327.558125 \nL 480.280405 266.805372 \nL 477.841527 266.805372 \nz\n\" clip-path=\"url(#p2f7eaeda3b)\" style=\"fill: #0000ff\"/>\n   </g>\n   <g id=\"patch_171\">\n    <path d=\"M 483.938721 327.558125 \nL 486.377599 327.558125 \nL 486.377599 290.652247 \nL 483.938721 290.652247 \nz\n\" clip-path=\"url(#p2f7eaeda3b)\" style=\"fill: #0000ff\"/>\n   </g>\n   <g id=\"patch_172\">\n    <path d=\"M 490.035916 327.558125 \nL 492.474793 327.558125 \nL 492.474793 291.22003 \nL 490.035916 291.22003 \nz\n\" clip-path=\"url(#p2f7eaeda3b)\" style=\"fill: #0000ff\"/>\n   </g>\n   <g id=\"patch_173\">\n    <path d=\"M 496.13311 327.558125 \nL 498.571988 327.558125 \nL 498.571988 298.033423 \nL 496.13311 298.033423 \nz\n\" clip-path=\"url(#p2f7eaeda3b)\" style=\"fill: #0000ff\"/>\n   </g>\n   <g id=\"patch_174\">\n    <path d=\"M 502.230304 327.558125 \nL 504.669182 327.558125 \nL 504.669182 312.227991 \nL 502.230304 312.227991 \nz\n\" clip-path=\"url(#p2f7eaeda3b)\" style=\"fill: #0000ff\"/>\n   </g>\n   <g id=\"patch_175\">\n    <path d=\"M 508.327499 327.558125 \nL 510.766377 327.558125 \nL 510.766377 307.117946 \nL 508.327499 307.117946 \nz\n\" clip-path=\"url(#p2f7eaeda3b)\" style=\"fill: #0000ff\"/>\n   </g>\n   <g id=\"patch_176\">\n    <path d=\"M 514.424693 327.558125 \nL 516.863571 327.558125 \nL 516.863571 317.905818 \nL 514.424693 317.905818 \nz\n\" clip-path=\"url(#p2f7eaeda3b)\" style=\"fill: #0000ff\"/>\n   </g>\n   <g id=\"patch_177\">\n    <path d=\"M 520.521888 327.558125 \nL 522.960765 327.558125 \nL 522.960765 319.041384 \nL 520.521888 319.041384 \nz\n\" clip-path=\"url(#p2f7eaeda3b)\" style=\"fill: #0000ff\"/>\n   </g>\n   <g id=\"patch_178\">\n    <path d=\"M 526.619082 327.558125 \nL 529.05796 327.558125 \nL 529.05796 320.176949 \nL 526.619082 320.176949 \nz\n\" clip-path=\"url(#p2f7eaeda3b)\" style=\"fill: #0000ff\"/>\n   </g>\n   <g id=\"patch_179\">\n    <path d=\"M 532.716276 327.558125 \nL 535.155154 327.558125 \nL 535.155154 321.312515 \nL 532.716276 321.312515 \nz\n\" clip-path=\"url(#p2f7eaeda3b)\" style=\"fill: #0000ff\"/>\n   </g>\n   <g id=\"patch_180\">\n    <path d=\"M 538.813471 327.558125 \nL 541.252348 327.558125 \nL 541.252348 325.286994 \nL 538.813471 325.286994 \nz\n\" clip-path=\"url(#p2f7eaeda3b)\" style=\"fill: #0000ff\"/>\n   </g>\n   <g id=\"patch_181\">\n    <path d=\"M 544.910665 327.558125 \nL 547.349543 327.558125 \nL 547.349543 324.151429 \nL 544.910665 324.151429 \nz\n\" clip-path=\"url(#p2f7eaeda3b)\" style=\"fill: #0000ff\"/>\n   </g>\n   <g id=\"patch_182\">\n    <path d=\"M 551.007859 327.558125 \nL 553.446737 327.558125 \nL 553.446737 321.880298 \nL 551.007859 321.880298 \nz\n\" clip-path=\"url(#p2f7eaeda3b)\" style=\"fill: #0000ff\"/>\n   </g>\n   <g id=\"patch_183\">\n    <path d=\"M 557.105054 327.558125 \nL 559.543932 327.558125 \nL 559.543932 321.880298 \nL 557.105054 321.880298 \nz\n\" clip-path=\"url(#p2f7eaeda3b)\" style=\"fill: #0000ff\"/>\n   </g>\n   <g id=\"patch_184\">\n    <path d=\"M 563.202248 327.558125 \nL 565.641126 327.558125 \nL 565.641126 325.854777 \nL 563.202248 325.854777 \nz\n\" clip-path=\"url(#p2f7eaeda3b)\" style=\"fill: #0000ff\"/>\n   </g>\n   <g id=\"patch_185\">\n    <path d=\"M 569.299443 327.558125 \nL 571.73832 327.558125 \nL 571.73832 326.42256 \nL 569.299443 326.42256 \nz\n\" clip-path=\"url(#p2f7eaeda3b)\" style=\"fill: #0000ff\"/>\n   </g>\n   <g id=\"patch_186\">\n    <path d=\"M 575.396637 327.558125 \nL 577.835515 327.558125 \nL 577.835515 326.42256 \nL 575.396637 326.42256 \nz\n\" clip-path=\"url(#p2f7eaeda3b)\" style=\"fill: #0000ff\"/>\n   </g>\n   <g id=\"patch_187\">\n    <path d=\"M 581.493831 327.558125 \nL 583.932709 327.558125 \nL 583.932709 326.42256 \nL 581.493831 326.42256 \nz\n\" clip-path=\"url(#p2f7eaeda3b)\" style=\"fill: #0000ff\"/>\n   </g>\n   <g id=\"patch_188\">\n    <path d=\"M 587.591026 327.558125 \nL 590.029904 327.558125 \nL 590.029904 325.854777 \nL 587.591026 325.854777 \nz\n\" clip-path=\"url(#p2f7eaeda3b)\" style=\"fill: #0000ff\"/>\n   </g>\n   <g id=\"patch_189\">\n    <path d=\"M 593.68822 327.558125 \nL 596.127098 327.558125 \nL 596.127098 326.42256 \nL 593.68822 326.42256 \nz\n\" clip-path=\"url(#p2f7eaeda3b)\" style=\"fill: #0000ff\"/>\n   </g>\n   <g id=\"patch_190\">\n    <path d=\"M 599.785415 327.558125 \nL 602.224292 327.558125 \nL 602.224292 326.42256 \nL 599.785415 326.42256 \nz\n\" clip-path=\"url(#p2f7eaeda3b)\" style=\"fill: #0000ff\"/>\n   </g>\n   <g id=\"patch_191\">\n    <path d=\"M 605.882609 327.558125 \nL 608.321487 327.558125 \nL 608.321487 326.990342 \nL 605.882609 326.990342 \nz\n\" clip-path=\"url(#p2f7eaeda3b)\" style=\"fill: #0000ff\"/>\n   </g>\n   <g id=\"patch_192\">\n    <path d=\"M 611.979803 327.558125 \nL 614.418681 327.558125 \nL 614.418681 327.558125 \nL 611.979803 327.558125 \nz\n\" clip-path=\"url(#p2f7eaeda3b)\" style=\"fill: #0000ff\"/>\n   </g>\n   <g id=\"patch_193\">\n    <path d=\"M 618.076998 327.558125 \nL 620.515876 327.558125 \nL 620.515876 326.42256 \nL 618.076998 326.42256 \nz\n\" clip-path=\"url(#p2f7eaeda3b)\" style=\"fill: #0000ff\"/>\n   </g>\n   <g id=\"patch_194\">\n    <path d=\"M 624.174192 327.558125 \nL 626.61307 327.558125 \nL 626.61307 327.558125 \nL 624.174192 327.558125 \nz\n\" clip-path=\"url(#p2f7eaeda3b)\" style=\"fill: #0000ff\"/>\n   </g>\n   <g id=\"patch_195\">\n    <path d=\"M 630.271387 327.558125 \nL 632.710264 327.558125 \nL 632.710264 326.990342 \nL 630.271387 326.990342 \nz\n\" clip-path=\"url(#p2f7eaeda3b)\" style=\"fill: #0000ff\"/>\n   </g>\n   <g id=\"patch_196\">\n    <path d=\"M 636.368581 327.558125 \nL 638.807459 327.558125 \nL 638.807459 327.558125 \nL 636.368581 327.558125 \nz\n\" clip-path=\"url(#p2f7eaeda3b)\" style=\"fill: #0000ff\"/>\n   </g>\n   <g id=\"patch_197\">\n    <path d=\"M 642.465775 327.558125 \nL 644.904653 327.558125 \nL 644.904653 327.558125 \nL 642.465775 327.558125 \nz\n\" clip-path=\"url(#p2f7eaeda3b)\" style=\"fill: #0000ff\"/>\n   </g>\n   <g id=\"patch_198\">\n    <path d=\"M 648.56297 327.558125 \nL 651.001847 327.558125 \nL 651.001847 327.558125 \nL 648.56297 327.558125 \nz\n\" clip-path=\"url(#p2f7eaeda3b)\" style=\"fill: #0000ff\"/>\n   </g>\n   <g id=\"patch_199\">\n    <path d=\"M 654.660164 327.558125 \nL 657.099042 327.558125 \nL 657.099042 327.558125 \nL 654.660164 327.558125 \nz\n\" clip-path=\"url(#p2f7eaeda3b)\" style=\"fill: #0000ff\"/>\n   </g>\n   <g id=\"patch_200\">\n    <path d=\"M 660.757358 327.558125 \nL 663.196236 327.558125 \nL 663.196236 327.558125 \nL 660.757358 327.558125 \nz\n\" clip-path=\"url(#p2f7eaeda3b)\" style=\"fill: #0000ff\"/>\n   </g>\n   <g id=\"patch_201\">\n    <path d=\"M 666.854553 327.558125 \nL 669.293431 327.558125 \nL 669.293431 327.558125 \nL 666.854553 327.558125 \nz\n\" clip-path=\"url(#p2f7eaeda3b)\" style=\"fill: #0000ff\"/>\n   </g>\n   <g id=\"patch_202\">\n    <path d=\"M 672.951747 327.558125 \nL 675.390625 327.558125 \nL 675.390625 327.558125 \nL 672.951747 327.558125 \nz\n\" clip-path=\"url(#p2f7eaeda3b)\" style=\"fill: #0000ff\"/>\n   </g>\n   <g id=\"matplotlib.axis_1\">\n    <g id=\"xtick_1\">\n     <g id=\"line2d_1\">\n      <path d=\"M 66.280906 327.558125 \nL 66.280906 22.318125 \n\" clip-path=\"url(#p2f7eaeda3b)\" style=\"fill: none; stroke: #b0b0b0; stroke-width: 0.8; stroke-linecap: square\"/>\n     </g>\n     <g id=\"line2d_2\">\n      <defs>\n       <path id=\"m0c60c09f96\" d=\"M 0 0 \nL 0 3.5 \n\" style=\"stroke: #000000; stroke-width: 0.8\"/>\n      </defs>\n      <g>\n       <use xlink:href=\"#m0c60c09f96\" x=\"66.280906\" y=\"327.558125\" style=\"stroke: #000000; stroke-width: 0.8\"/>\n      </g>\n     </g>\n     <g id=\"text_1\">\n      <!-- 0 -->\n      <g transform=\"translate(63.099656 342.156563) scale(0.1 -0.1)\">\n       <defs>\n        <path id=\"DejaVuSans-30\" d=\"M 2034 4250 \nQ 1547 4250 1301 3770 \nQ 1056 3291 1056 2328 \nQ 1056 1369 1301 889 \nQ 1547 409 2034 409 \nQ 2525 409 2770 889 \nQ 3016 1369 3016 2328 \nQ 3016 3291 2770 3770 \nQ 2525 4250 2034 4250 \nz\nM 2034 4750 \nQ 2819 4750 3233 4129 \nQ 3647 3509 3647 2328 \nQ 3647 1150 3233 529 \nQ 2819 -91 2034 -91 \nQ 1250 -91 836 529 \nQ 422 1150 422 2328 \nQ 422 3509 836 4129 \nQ 1250 4750 2034 4750 \nz\n\" transform=\"scale(0.015625)\"/>\n       </defs>\n       <use xlink:href=\"#DejaVuSans-30\"/>\n      </g>\n     </g>\n    </g>\n    <g id=\"xtick_2\">\n     <g id=\"line2d_3\">\n      <path d=\"M 168.90501 327.558125 \nL 168.90501 22.318125 \n\" clip-path=\"url(#p2f7eaeda3b)\" style=\"fill: none; stroke: #b0b0b0; stroke-width: 0.8; stroke-linecap: square\"/>\n     </g>\n     <g id=\"line2d_4\">\n      <g>\n       <use xlink:href=\"#m0c60c09f96\" x=\"168.90501\" y=\"327.558125\" style=\"stroke: #000000; stroke-width: 0.8\"/>\n      </g>\n     </g>\n     <g id=\"text_2\">\n      <!-- 1 -->\n      <g transform=\"translate(165.72376 342.156563) scale(0.1 -0.1)\">\n       <defs>\n        <path id=\"DejaVuSans-31\" d=\"M 794 531 \nL 1825 531 \nL 1825 4091 \nL 703 3866 \nL 703 4441 \nL 1819 4666 \nL 2450 4666 \nL 2450 531 \nL 3481 531 \nL 3481 0 \nL 794 0 \nL 794 531 \nz\n\" transform=\"scale(0.015625)\"/>\n       </defs>\n       <use xlink:href=\"#DejaVuSans-31\"/>\n      </g>\n     </g>\n    </g>\n    <g id=\"xtick_3\">\n     <g id=\"line2d_5\">\n      <path d=\"M 271.529115 327.558125 \nL 271.529115 22.318125 \n\" clip-path=\"url(#p2f7eaeda3b)\" style=\"fill: none; stroke: #b0b0b0; stroke-width: 0.8; stroke-linecap: square\"/>\n     </g>\n     <g id=\"line2d_6\">\n      <g>\n       <use xlink:href=\"#m0c60c09f96\" x=\"271.529115\" y=\"327.558125\" style=\"stroke: #000000; stroke-width: 0.8\"/>\n      </g>\n     </g>\n     <g id=\"text_3\">\n      <!-- 2 -->\n      <g transform=\"translate(268.347865 342.156563) scale(0.1 -0.1)\">\n       <defs>\n        <path id=\"DejaVuSans-32\" d=\"M 1228 531 \nL 3431 531 \nL 3431 0 \nL 469 0 \nL 469 531 \nQ 828 903 1448 1529 \nQ 2069 2156 2228 2338 \nQ 2531 2678 2651 2914 \nQ 2772 3150 2772 3378 \nQ 2772 3750 2511 3984 \nQ 2250 4219 1831 4219 \nQ 1534 4219 1204 4116 \nQ 875 4013 500 3803 \nL 500 4441 \nQ 881 4594 1212 4672 \nQ 1544 4750 1819 4750 \nQ 2544 4750 2975 4387 \nQ 3406 4025 3406 3419 \nQ 3406 3131 3298 2873 \nQ 3191 2616 2906 2266 \nQ 2828 2175 2409 1742 \nQ 1991 1309 1228 531 \nz\n\" transform=\"scale(0.015625)\"/>\n       </defs>\n       <use xlink:href=\"#DejaVuSans-32\"/>\n      </g>\n     </g>\n    </g>\n    <g id=\"xtick_4\">\n     <g id=\"line2d_7\">\n      <path d=\"M 374.153219 327.558125 \nL 374.153219 22.318125 \n\" clip-path=\"url(#p2f7eaeda3b)\" style=\"fill: none; stroke: #b0b0b0; stroke-width: 0.8; stroke-linecap: square\"/>\n     </g>\n     <g id=\"line2d_8\">\n      <g>\n       <use xlink:href=\"#m0c60c09f96\" x=\"374.153219\" y=\"327.558125\" style=\"stroke: #000000; stroke-width: 0.8\"/>\n      </g>\n     </g>\n     <g id=\"text_4\">\n      <!-- 3 -->\n      <g transform=\"translate(370.971969 342.156563) scale(0.1 -0.1)\">\n       <defs>\n        <path id=\"DejaVuSans-33\" d=\"M 2597 2516 \nQ 3050 2419 3304 2112 \nQ 3559 1806 3559 1356 \nQ 3559 666 3084 287 \nQ 2609 -91 1734 -91 \nQ 1441 -91 1130 -33 \nQ 819 25 488 141 \nL 488 750 \nQ 750 597 1062 519 \nQ 1375 441 1716 441 \nQ 2309 441 2620 675 \nQ 2931 909 2931 1356 \nQ 2931 1769 2642 2001 \nQ 2353 2234 1838 2234 \nL 1294 2234 \nL 1294 2753 \nL 1863 2753 \nQ 2328 2753 2575 2939 \nQ 2822 3125 2822 3475 \nQ 2822 3834 2567 4026 \nQ 2313 4219 1838 4219 \nQ 1578 4219 1281 4162 \nQ 984 4106 628 3988 \nL 628 4550 \nQ 988 4650 1302 4700 \nQ 1616 4750 1894 4750 \nQ 2613 4750 3031 4423 \nQ 3450 4097 3450 3541 \nQ 3450 3153 3228 2886 \nQ 3006 2619 2597 2516 \nz\n\" transform=\"scale(0.015625)\"/>\n       </defs>\n       <use xlink:href=\"#DejaVuSans-33\"/>\n      </g>\n     </g>\n    </g>\n    <g id=\"xtick_5\">\n     <g id=\"line2d_9\">\n      <path d=\"M 476.777324 327.558125 \nL 476.777324 22.318125 \n\" clip-path=\"url(#p2f7eaeda3b)\" style=\"fill: none; stroke: #b0b0b0; stroke-width: 0.8; stroke-linecap: square\"/>\n     </g>\n     <g id=\"line2d_10\">\n      <g>\n       <use xlink:href=\"#m0c60c09f96\" x=\"476.777324\" y=\"327.558125\" style=\"stroke: #000000; stroke-width: 0.8\"/>\n      </g>\n     </g>\n     <g id=\"text_5\">\n      <!-- 4 -->\n      <g transform=\"translate(473.596074 342.156563) scale(0.1 -0.1)\">\n       <defs>\n        <path id=\"DejaVuSans-34\" d=\"M 2419 4116 \nL 825 1625 \nL 2419 1625 \nL 2419 4116 \nz\nM 2253 4666 \nL 3047 4666 \nL 3047 1625 \nL 3713 1625 \nL 3713 1100 \nL 3047 1100 \nL 3047 0 \nL 2419 0 \nL 2419 1100 \nL 313 1100 \nL 313 1709 \nL 2253 4666 \nz\n\" transform=\"scale(0.015625)\"/>\n       </defs>\n       <use xlink:href=\"#DejaVuSans-34\"/>\n      </g>\n     </g>\n    </g>\n    <g id=\"xtick_6\">\n     <g id=\"line2d_11\">\n      <path d=\"M 579.401428 327.558125 \nL 579.401428 22.318125 \n\" clip-path=\"url(#p2f7eaeda3b)\" style=\"fill: none; stroke: #b0b0b0; stroke-width: 0.8; stroke-linecap: square\"/>\n     </g>\n     <g id=\"line2d_12\">\n      <g>\n       <use xlink:href=\"#m0c60c09f96\" x=\"579.401428\" y=\"327.558125\" style=\"stroke: #000000; stroke-width: 0.8\"/>\n      </g>\n     </g>\n     <g id=\"text_6\">\n      <!-- 5 -->\n      <g transform=\"translate(576.220178 342.156563) scale(0.1 -0.1)\">\n       <defs>\n        <path id=\"DejaVuSans-35\" d=\"M 691 4666 \nL 3169 4666 \nL 3169 4134 \nL 1269 4134 \nL 1269 2991 \nQ 1406 3038 1543 3061 \nQ 1681 3084 1819 3084 \nQ 2600 3084 3056 2656 \nQ 3513 2228 3513 1497 \nQ 3513 744 3044 326 \nQ 2575 -91 1722 -91 \nQ 1428 -91 1123 -41 \nQ 819 9 494 109 \nL 494 744 \nQ 775 591 1075 516 \nQ 1375 441 1709 441 \nQ 2250 441 2565 725 \nQ 2881 1009 2881 1497 \nQ 2881 1984 2565 2268 \nQ 2250 2553 1709 2553 \nQ 1456 2553 1204 2497 \nQ 953 2441 691 2322 \nL 691 4666 \nz\n\" transform=\"scale(0.015625)\"/>\n       </defs>\n       <use xlink:href=\"#DejaVuSans-35\"/>\n      </g>\n     </g>\n    </g>\n    <g id=\"xtick_7\">\n     <g id=\"line2d_13\">\n      <path d=\"M 682.025533 327.558125 \nL 682.025533 22.318125 \n\" clip-path=\"url(#p2f7eaeda3b)\" style=\"fill: none; stroke: #b0b0b0; stroke-width: 0.8; stroke-linecap: square\"/>\n     </g>\n     <g id=\"line2d_14\">\n      <g>\n       <use xlink:href=\"#m0c60c09f96\" x=\"682.025533\" y=\"327.558125\" style=\"stroke: #000000; stroke-width: 0.8\"/>\n      </g>\n     </g>\n     <g id=\"text_7\">\n      <!-- 6 -->\n      <g transform=\"translate(678.844283 342.156563) scale(0.1 -0.1)\">\n       <defs>\n        <path id=\"DejaVuSans-36\" d=\"M 2113 2584 \nQ 1688 2584 1439 2293 \nQ 1191 2003 1191 1497 \nQ 1191 994 1439 701 \nQ 1688 409 2113 409 \nQ 2538 409 2786 701 \nQ 3034 994 3034 1497 \nQ 3034 2003 2786 2293 \nQ 2538 2584 2113 2584 \nz\nM 3366 4563 \nL 3366 3988 \nQ 3128 4100 2886 4159 \nQ 2644 4219 2406 4219 \nQ 1781 4219 1451 3797 \nQ 1122 3375 1075 2522 \nQ 1259 2794 1537 2939 \nQ 1816 3084 2150 3084 \nQ 2853 3084 3261 2657 \nQ 3669 2231 3669 1497 \nQ 3669 778 3244 343 \nQ 2819 -91 2113 -91 \nQ 1303 -91 875 529 \nQ 447 1150 447 2328 \nQ 447 3434 972 4092 \nQ 1497 4750 2381 4750 \nQ 2619 4750 2861 4703 \nQ 3103 4656 3366 4563 \nz\n\" transform=\"scale(0.015625)\"/>\n       </defs>\n       <use xlink:href=\"#DejaVuSans-36\"/>\n      </g>\n     </g>\n    </g>\n   </g>\n   <g id=\"matplotlib.axis_2\">\n    <g id=\"ytick_1\">\n     <g id=\"line2d_15\">\n      <path d=\"M 36.465625 327.558125 \nL 705.815625 327.558125 \n\" clip-path=\"url(#p2f7eaeda3b)\" style=\"fill: none; stroke: #b0b0b0; stroke-width: 0.8; stroke-linecap: square\"/>\n     </g>\n     <g id=\"line2d_16\">\n      <defs>\n       <path id=\"m4810dfd4b6\" d=\"M 0 0 \nL -3.5 0 \n\" style=\"stroke: #000000; stroke-width: 0.8\"/>\n      </defs>\n      <g>\n       <use xlink:href=\"#m4810dfd4b6\" x=\"36.465625\" y=\"327.558125\" style=\"stroke: #000000; stroke-width: 0.8\"/>\n      </g>\n     </g>\n     <g id=\"text_8\">\n      <!-- 0 -->\n      <g transform=\"translate(23.103125 331.357344) scale(0.1 -0.1)\">\n       <use xlink:href=\"#DejaVuSans-30\"/>\n      </g>\n     </g>\n    </g>\n    <g id=\"ytick_2\">\n     <g id=\"line2d_17\">\n      <path d=\"M 36.465625 287.507894 \nL 705.815625 287.507894 \n\" clip-path=\"url(#p2f7eaeda3b)\" style=\"fill: none; stroke: #b0b0b0; stroke-width: 0.8; stroke-linecap: square\"/>\n     </g>\n     <g id=\"line2d_18\">\n      <g>\n       <use xlink:href=\"#m4810dfd4b6\" x=\"36.465625\" y=\"287.507894\" style=\"stroke: #000000; stroke-width: 0.8\"/>\n      </g>\n     </g>\n     <g id=\"text_9\">\n      <!-- 0.25 -->\n      <g transform=\"translate(7.2 291.307113) scale(0.1 -0.1)\">\n       <defs>\n        <path id=\"DejaVuSans-2e\" d=\"M 684 794 \nL 1344 794 \nL 1344 0 \nL 684 0 \nL 684 794 \nz\n\" transform=\"scale(0.015625)\"/>\n       </defs>\n       <use xlink:href=\"#DejaVuSans-30\"/>\n       <use xlink:href=\"#DejaVuSans-2e\" x=\"63.623047\"/>\n       <use xlink:href=\"#DejaVuSans-32\" x=\"95.410156\"/>\n       <use xlink:href=\"#DejaVuSans-35\" x=\"159.033203\"/>\n      </g>\n     </g>\n    </g>\n    <g id=\"ytick_3\">\n     <g id=\"line2d_19\">\n      <path d=\"M 36.465625 247.457663 \nL 705.815625 247.457663 \n\" clip-path=\"url(#p2f7eaeda3b)\" style=\"fill: none; stroke: #b0b0b0; stroke-width: 0.8; stroke-linecap: square\"/>\n     </g>\n     <g id=\"line2d_20\">\n      <g>\n       <use xlink:href=\"#m4810dfd4b6\" x=\"36.465625\" y=\"247.457663\" style=\"stroke: #000000; stroke-width: 0.8\"/>\n      </g>\n     </g>\n     <g id=\"text_10\">\n      <!-- 0.5 -->\n      <g transform=\"translate(13.5625 251.256882) scale(0.1 -0.1)\">\n       <use xlink:href=\"#DejaVuSans-30\"/>\n       <use xlink:href=\"#DejaVuSans-2e\" x=\"63.623047\"/>\n       <use xlink:href=\"#DejaVuSans-35\" x=\"95.410156\"/>\n      </g>\n     </g>\n    </g>\n    <g id=\"ytick_4\">\n     <g id=\"line2d_21\">\n      <path d=\"M 36.465625 207.407432 \nL 705.815625 207.407432 \n\" clip-path=\"url(#p2f7eaeda3b)\" style=\"fill: none; stroke: #b0b0b0; stroke-width: 0.8; stroke-linecap: square\"/>\n     </g>\n     <g id=\"line2d_22\">\n      <g>\n       <use xlink:href=\"#m4810dfd4b6\" x=\"36.465625\" y=\"207.407432\" style=\"stroke: #000000; stroke-width: 0.8\"/>\n      </g>\n     </g>\n     <g id=\"text_11\">\n      <!-- 0.75 -->\n      <g transform=\"translate(7.2 211.206651) scale(0.1 -0.1)\">\n       <defs>\n        <path id=\"DejaVuSans-37\" d=\"M 525 4666 \nL 3525 4666 \nL 3525 4397 \nL 1831 0 \nL 1172 0 \nL 2766 4134 \nL 525 4134 \nL 525 4666 \nz\n\" transform=\"scale(0.015625)\"/>\n       </defs>\n       <use xlink:href=\"#DejaVuSans-30\"/>\n       <use xlink:href=\"#DejaVuSans-2e\" x=\"63.623047\"/>\n       <use xlink:href=\"#DejaVuSans-37\" x=\"95.410156\"/>\n       <use xlink:href=\"#DejaVuSans-35\" x=\"159.033203\"/>\n      </g>\n     </g>\n    </g>\n    <g id=\"ytick_5\">\n     <g id=\"line2d_23\">\n      <path d=\"M 36.465625 167.357202 \nL 705.815625 167.357202 \n\" clip-path=\"url(#p2f7eaeda3b)\" style=\"fill: none; stroke: #b0b0b0; stroke-width: 0.8; stroke-linecap: square\"/>\n     </g>\n     <g id=\"line2d_24\">\n      <g>\n       <use xlink:href=\"#m4810dfd4b6\" x=\"36.465625\" y=\"167.357202\" style=\"stroke: #000000; stroke-width: 0.8\"/>\n      </g>\n     </g>\n     <g id=\"text_12\">\n      <!-- 1 -->\n      <g transform=\"translate(23.103125 171.15642) scale(0.1 -0.1)\">\n       <use xlink:href=\"#DejaVuSans-31\"/>\n      </g>\n     </g>\n    </g>\n    <g id=\"ytick_6\">\n     <g id=\"line2d_25\">\n      <path d=\"M 36.465625 127.306971 \nL 705.815625 127.306971 \n\" clip-path=\"url(#p2f7eaeda3b)\" style=\"fill: none; stroke: #b0b0b0; stroke-width: 0.8; stroke-linecap: square\"/>\n     </g>\n     <g id=\"line2d_26\">\n      <g>\n       <use xlink:href=\"#m4810dfd4b6\" x=\"36.465625\" y=\"127.306971\" style=\"stroke: #000000; stroke-width: 0.8\"/>\n      </g>\n     </g>\n     <g id=\"text_13\">\n      <!-- 1 -->\n      <g transform=\"translate(23.103125 131.106189) scale(0.1 -0.1)\">\n       <use xlink:href=\"#DejaVuSans-31\"/>\n      </g>\n     </g>\n    </g>\n    <g id=\"ytick_7\">\n     <g id=\"line2d_27\">\n      <path d=\"M 36.465625 87.25674 \nL 705.815625 87.25674 \n\" clip-path=\"url(#p2f7eaeda3b)\" style=\"fill: none; stroke: #b0b0b0; stroke-width: 0.8; stroke-linecap: square\"/>\n     </g>\n     <g id=\"line2d_28\">\n      <g>\n       <use xlink:href=\"#m4810dfd4b6\" x=\"36.465625\" y=\"87.25674\" style=\"stroke: #000000; stroke-width: 0.8\"/>\n      </g>\n     </g>\n     <g id=\"text_14\">\n      <!-- 2 -->\n      <g transform=\"translate(23.103125 91.055959) scale(0.1 -0.1)\">\n       <use xlink:href=\"#DejaVuSans-32\"/>\n      </g>\n     </g>\n    </g>\n    <g id=\"ytick_8\">\n     <g id=\"line2d_29\">\n      <path d=\"M 36.465625 47.206509 \nL 705.815625 47.206509 \n\" clip-path=\"url(#p2f7eaeda3b)\" style=\"fill: none; stroke: #b0b0b0; stroke-width: 0.8; stroke-linecap: square\"/>\n     </g>\n     <g id=\"line2d_30\">\n      <g>\n       <use xlink:href=\"#m4810dfd4b6\" x=\"36.465625\" y=\"47.206509\" style=\"stroke: #000000; stroke-width: 0.8\"/>\n      </g>\n     </g>\n     <g id=\"text_15\">\n      <!-- 2 -->\n      <g transform=\"translate(23.103125 51.005728) scale(0.1 -0.1)\">\n       <use xlink:href=\"#DejaVuSans-32\"/>\n      </g>\n     </g>\n    </g>\n   </g>\n   <g id=\"patch_203\">\n    <path d=\"M 36.465625 327.558125 \nL 36.465625 22.318125 \n\" style=\"fill: none; stroke: #000000; stroke-width: 0.8; stroke-linejoin: miter; stroke-linecap: square\"/>\n   </g>\n   <g id=\"patch_204\">\n    <path d=\"M 705.815625 327.558125 \nL 705.815625 22.318125 \n\" style=\"fill: none; stroke: #000000; stroke-width: 0.8; stroke-linejoin: miter; stroke-linecap: square\"/>\n   </g>\n   <g id=\"patch_205\">\n    <path d=\"M 36.465625 327.558125 \nL 705.815625 327.558125 \n\" style=\"fill: none; stroke: #000000; stroke-width: 0.8; stroke-linejoin: miter; stroke-linecap: square\"/>\n   </g>\n   <g id=\"patch_206\">\n    <path d=\"M 36.465625 22.318125 \nL 705.815625 22.318125 \n\" style=\"fill: none; stroke: #000000; stroke-width: 0.8; stroke-linejoin: miter; stroke-linecap: square\"/>\n   </g>\n   <g id=\"text_16\">\n    <!-- Распределение логарифмов платежей в зависимости от целевой переменной -->\n    <g transform=\"translate(122.11625 16.318125) scale(0.12 -0.12)\">\n     <defs>\n      <path id=\"DejaVuSans-420\" d=\"M 1259 4147 \nL 1259 2394 \nL 2053 2394 \nQ 2494 2394 2734 2622 \nQ 2975 2850 2975 3272 \nQ 2975 3691 2734 3919 \nQ 2494 4147 2053 4147 \nL 1259 4147 \nz\nM 628 4666 \nL 2053 4666 \nQ 2838 4666 3239 4311 \nQ 3641 3956 3641 3272 \nQ 3641 2581 3239 2228 \nQ 2838 1875 2053 1875 \nL 1259 1875 \nL 1259 0 \nL 628 0 \nL 628 4666 \nz\n\" transform=\"scale(0.015625)\"/>\n      <path id=\"DejaVuSans-430\" d=\"M 2194 1759 \nQ 1497 1759 1228 1600 \nQ 959 1441 959 1056 \nQ 959 750 1161 570 \nQ 1363 391 1709 391 \nQ 2188 391 2477 730 \nQ 2766 1069 2766 1631 \nL 2766 1759 \nL 2194 1759 \nz\nM 3341 1997 \nL 3341 0 \nL 2766 0 \nL 2766 531 \nQ 2569 213 2275 61 \nQ 1981 -91 1556 -91 \nQ 1019 -91 701 211 \nQ 384 513 384 1019 \nQ 384 1609 779 1909 \nQ 1175 2209 1959 2209 \nL 2766 2209 \nL 2766 2266 \nQ 2766 2663 2505 2880 \nQ 2244 3097 1772 3097 \nQ 1472 3097 1187 3025 \nQ 903 2953 641 2809 \nL 641 3341 \nQ 956 3463 1253 3523 \nQ 1550 3584 1831 3584 \nQ 2591 3584 2966 3190 \nQ 3341 2797 3341 1997 \nz\n\" transform=\"scale(0.015625)\"/>\n      <path id=\"DejaVuSans-441\" d=\"M 3122 3366 \nL 3122 2828 \nQ 2878 2963 2633 3030 \nQ 2388 3097 2138 3097 \nQ 1578 3097 1268 2742 \nQ 959 2388 959 1747 \nQ 959 1106 1268 751 \nQ 1578 397 2138 397 \nQ 2388 397 2633 464 \nQ 2878 531 3122 666 \nL 3122 134 \nQ 2881 22 2623 -34 \nQ 2366 -91 2075 -91 \nQ 1284 -91 818 406 \nQ 353 903 353 1747 \nQ 353 2603 823 3093 \nQ 1294 3584 2113 3584 \nQ 2378 3584 2631 3529 \nQ 2884 3475 3122 3366 \nz\n\" transform=\"scale(0.015625)\"/>\n      <path id=\"DejaVuSans-43f\" d=\"M 3603 3500 \nL 3603 0 \nL 3025 0 \nL 3025 3041 \nL 1159 3041 \nL 1159 0 \nL 581 0 \nL 581 3500 \nL 3603 3500 \nz\n\" transform=\"scale(0.015625)\"/>\n      <path id=\"DejaVuSans-440\" d=\"M 1159 525 \nL 1159 -1331 \nL 581 -1331 \nL 581 3500 \nL 1159 3500 \nL 1159 2969 \nQ 1341 3281 1617 3432 \nQ 1894 3584 2278 3584 \nQ 2916 3584 3314 3078 \nQ 3713 2572 3713 1747 \nQ 3713 922 3314 415 \nQ 2916 -91 2278 -91 \nQ 1894 -91 1617 61 \nQ 1341 213 1159 525 \nz\nM 3116 1747 \nQ 3116 2381 2855 2742 \nQ 2594 3103 2138 3103 \nQ 1681 3103 1420 2742 \nQ 1159 2381 1159 1747 \nQ 1159 1113 1420 752 \nQ 1681 391 2138 391 \nQ 2594 391 2855 752 \nQ 3116 1113 3116 1747 \nz\n\" transform=\"scale(0.015625)\"/>\n      <path id=\"DejaVuSans-435\" d=\"M 3597 1894 \nL 3597 1613 \nL 953 1613 \nQ 991 1019 1311 708 \nQ 1631 397 2203 397 \nQ 2534 397 2845 478 \nQ 3156 559 3463 722 \nL 3463 178 \nQ 3153 47 2828 -22 \nQ 2503 -91 2169 -91 \nQ 1331 -91 842 396 \nQ 353 884 353 1716 \nQ 353 2575 817 3079 \nQ 1281 3584 2069 3584 \nQ 2775 3584 3186 3129 \nQ 3597 2675 3597 1894 \nz\nM 3022 2063 \nQ 3016 2534 2758 2815 \nQ 2500 3097 2075 3097 \nQ 1594 3097 1305 2825 \nQ 1016 2553 972 2059 \nL 3022 2063 \nz\n\" transform=\"scale(0.015625)\"/>\n      <path id=\"DejaVuSans-434\" d=\"M 1384 459 \nL 3053 459 \nL 3053 3041 \nL 1844 3041 \nL 1844 2603 \nQ 1844 1316 1475 628 \nL 1384 459 \nz\nM 550 459 \nQ 834 584 959 850 \nQ 1266 1509 1266 2838 \nL 1266 3500 \nL 3631 3500 \nL 3631 459 \nL 4091 459 \nL 4091 -884 \nL 3631 -884 \nL 3631 0 \nL 794 0 \nL 794 -884 \nL 334 -884 \nL 334 459 \nL 550 459 \nz\n\" transform=\"scale(0.015625)\"/>\n      <path id=\"DejaVuSans-43b\" d=\"M 238 0 \nL 238 478 \nQ 806 566 981 959 \nQ 1194 1513 1194 2928 \nL 1194 3500 \nL 3559 3500 \nL 3559 0 \nL 2984 0 \nL 2984 3041 \nL 1769 3041 \nL 1769 2694 \nQ 1769 1344 1494 738 \nQ 1200 91 238 0 \nz\n\" transform=\"scale(0.015625)\"/>\n      <path id=\"DejaVuSans-43d\" d=\"M 581 3500 \nL 1159 3500 \nL 1159 2072 \nL 3025 2072 \nL 3025 3500 \nL 3603 3500 \nL 3603 0 \nL 3025 0 \nL 3025 1613 \nL 1159 1613 \nL 1159 0 \nL 581 0 \nL 581 3500 \nz\n\" transform=\"scale(0.015625)\"/>\n      <path id=\"DejaVuSans-438\" d=\"M 3578 3500 \nL 3578 0 \nL 3006 0 \nL 3006 2809 \nL 1319 0 \nL 581 0 \nL 581 3500 \nL 1153 3500 \nL 1153 697 \nL 2838 3500 \nL 3578 3500 \nz\n\" transform=\"scale(0.015625)\"/>\n      <path id=\"DejaVuSans-20\" transform=\"scale(0.015625)\"/>\n      <path id=\"DejaVuSans-43e\" d=\"M 1959 3097 \nQ 1497 3097 1228 2736 \nQ 959 2375 959 1747 \nQ 959 1119 1226 758 \nQ 1494 397 1959 397 \nQ 2419 397 2687 759 \nQ 2956 1122 2956 1747 \nQ 2956 2369 2687 2733 \nQ 2419 3097 1959 3097 \nz\nM 1959 3584 \nQ 2709 3584 3137 3096 \nQ 3566 2609 3566 1747 \nQ 3566 888 3137 398 \nQ 2709 -91 1959 -91 \nQ 1206 -91 779 398 \nQ 353 888 353 1747 \nQ 353 2609 779 3096 \nQ 1206 3584 1959 3584 \nz\n\" transform=\"scale(0.015625)\"/>\n      <path id=\"DejaVuSans-433\" d=\"M 581 0 \nL 581 3500 \nL 3050 3500 \nL 3050 3041 \nL 1159 3041 \nL 1159 0 \nL 581 0 \nz\n\" transform=\"scale(0.015625)\"/>\n      <path id=\"DejaVuSans-444\" d=\"M 947 1747 \nQ 947 1013 1173 702 \nQ 1400 391 1784 391 \nQ 2091 391 2447 916 \nL 2447 2578 \nQ 2091 3103 1784 3103 \nQ 1400 3103 1173 2792 \nQ 947 2481 947 1747 \nz\nM 2447 -1331 \nL 2447 447 \nQ 2269 153 2064 31 \nQ 1859 -91 1600 -91 \nQ 1078 -91 714 392 \nQ 350 875 350 1734 \nQ 350 2594 714 3089 \nQ 1078 3584 1600 3584 \nQ 1859 3584 2064 3465 \nQ 2269 3347 2447 3053 \nL 2447 4666 \nL 3025 4666 \nL 3025 3053 \nQ 3203 3347 3408 3465 \nQ 3613 3584 3872 3584 \nQ 4394 3584 4758 3089 \nQ 5122 2594 5122 1734 \nQ 5122 875 4758 392 \nQ 4394 -91 3872 -91 \nQ 3613 -91 3408 31 \nQ 3203 153 3025 447 \nL 3025 -1331 \nL 2447 -1331 \nz\nM 4525 1747 \nQ 4525 2481 4298 2792 \nQ 4072 3103 3688 3103 \nQ 3381 3103 3025 2578 \nL 3025 916 \nQ 3381 391 3688 391 \nQ 4072 391 4298 702 \nQ 4525 1013 4525 1747 \nz\n\" transform=\"scale(0.015625)\"/>\n      <path id=\"DejaVuSans-43c\" d=\"M 581 3500 \nL 1422 3500 \nL 2416 1156 \nL 3413 3500 \nL 4247 3500 \nL 4247 0 \nL 3669 0 \nL 3669 2950 \nL 2703 672 \nL 2128 672 \nL 1159 2950 \nL 1159 0 \nL 581 0 \nL 581 3500 \nz\n\" transform=\"scale(0.015625)\"/>\n      <path id=\"DejaVuSans-432\" d=\"M 1156 1613 \nL 1156 459 \nL 1975 459 \nQ 2369 459 2575 607 \nQ 2781 756 2781 1038 \nQ 2781 1319 2575 1466 \nQ 2369 1613 1975 1613 \nL 1156 1613 \nz\nM 1156 3041 \nL 1156 2072 \nL 1913 2072 \nQ 2238 2072 2444 2201 \nQ 2650 2331 2650 2563 \nQ 2650 2794 2444 2917 \nQ 2238 3041 1913 3041 \nL 1156 3041 \nz\nM 581 3500 \nL 1950 3500 \nQ 2566 3500 2897 3275 \nQ 3228 3050 3228 2634 \nQ 3228 2313 3059 2123 \nQ 2891 1934 2559 1888 \nQ 2956 1813 3175 1575 \nQ 3394 1338 3394 981 \nQ 3394 513 3033 256 \nQ 2672 0 2003 0 \nL 581 0 \nL 581 3500 \nz\n\" transform=\"scale(0.015625)\"/>\n      <path id=\"DejaVuSans-442\" d=\"M 188 3500 \nL 3541 3500 \nL 3541 3041 \nL 2147 3041 \nL 2147 0 \nL 1581 0 \nL 1581 3041 \nL 188 3041 \nL 188 3500 \nz\n\" transform=\"scale(0.015625)\"/>\n      <path id=\"DejaVuSans-436\" d=\"M 2597 3500 \nL 3169 3500 \nL 3169 1856 \nL 4697 3500 \nL 5366 3500 \nL 4109 2153 \nL 5547 0 \nL 4931 0 \nL 3753 1769 \nL 3169 1141 \nL 3169 0 \nL 2597 0 \nL 2597 1141 \nL 2013 1769 \nL 834 0 \nL 219 0 \nL 1656 2153 \nL 400 3500 \nL 1069 3500 \nL 2597 1856 \nL 2597 3500 \nz\n\" transform=\"scale(0.015625)\"/>\n      <path id=\"DejaVuSans-439\" d=\"M 3578 3500 \nL 3578 0 \nL 3006 0 \nL 3006 2809 \nL 1319 0 \nL 581 0 \nL 581 3500 \nL 1153 3500 \nL 1153 697 \nL 2838 3500 \nL 3578 3500 \nz\nM 1102 4833 \nL 1471 4833 \nQ 1505 4599 1656 4481 \nQ 1808 4364 2080 4364 \nQ 2349 4364 2499 4480 \nQ 2649 4596 2689 4833 \nL 3058 4833 \nQ 3027 4386 2780 4161 \nQ 2533 3936 2080 3936 \nQ 1627 3936 1380 4161 \nQ 1133 4386 1102 4833 \nz\n\" transform=\"scale(0.015625)\"/>\n      <path id=\"DejaVuSans-437\" d=\"M 2206 1888 \nQ 2594 1813 2809 1584 \nQ 3025 1356 3025 1019 \nQ 3025 478 2622 193 \nQ 2219 -91 1475 -91 \nQ 1225 -91 961 -47 \nQ 697 -3 416 84 \nL 416 619 \nQ 638 503 903 445 \nQ 1169 388 1459 388 \nQ 1931 388 2195 563 \nQ 2459 738 2459 1019 \nQ 2459 1294 2225 1461 \nQ 1991 1628 1563 1628 \nL 1100 1628 \nL 1100 2103 \nL 1584 2103 \nQ 1947 2103 2158 2242 \nQ 2369 2381 2369 2600 \nQ 2369 2800 2151 2944 \nQ 1934 3088 1563 3088 \nQ 1341 3088 1089 3047 \nQ 838 3006 534 2916 \nL 534 3438 \nQ 841 3513 1106 3550 \nQ 1372 3588 1609 3588 \nQ 2222 3588 2576 3342 \nQ 2931 3097 2931 2656 \nQ 2931 2366 2743 2164 \nQ 2556 1963 2206 1888 \nz\n\" transform=\"scale(0.015625)\"/>\n      <path id=\"DejaVuSans-446\" d=\"M 3603 0 \nL 581 0 \nL 581 3500 \nL 1159 3500 \nL 1159 459 \nL 3025 459 \nL 3025 3500 \nL 3603 3500 \nL 3603 459 \nL 4063 459 \nL 4063 -884 \nL 3603 -884 \nL 3603 0 \nz\n\" transform=\"scale(0.015625)\"/>\n     </defs>\n     <use xlink:href=\"#DejaVuSans-420\"/>\n     <use xlink:href=\"#DejaVuSans-430\" x=\"60.302734\"/>\n     <use xlink:href=\"#DejaVuSans-441\" x=\"121.582031\"/>\n     <use xlink:href=\"#DejaVuSans-43f\" x=\"176.5625\"/>\n     <use xlink:href=\"#DejaVuSans-440\" x=\"241.943359\"/>\n     <use xlink:href=\"#DejaVuSans-435\" x=\"305.419922\"/>\n     <use xlink:href=\"#DejaVuSans-434\" x=\"366.943359\"/>\n     <use xlink:href=\"#DejaVuSans-435\" x=\"436.083984\"/>\n     <use xlink:href=\"#DejaVuSans-43b\" x=\"497.607422\"/>\n     <use xlink:href=\"#DejaVuSans-435\" x=\"561.523438\"/>\n     <use xlink:href=\"#DejaVuSans-43d\" x=\"623.046875\"/>\n     <use xlink:href=\"#DejaVuSans-438\" x=\"688.427734\"/>\n     <use xlink:href=\"#DejaVuSans-435\" x=\"753.417969\"/>\n     <use xlink:href=\"#DejaVuSans-20\" x=\"814.941406\"/>\n     <use xlink:href=\"#DejaVuSans-43b\" x=\"846.728516\"/>\n     <use xlink:href=\"#DejaVuSans-43e\" x=\"910.644531\"/>\n     <use xlink:href=\"#DejaVuSans-433\" x=\"971.826172\"/>\n     <use xlink:href=\"#DejaVuSans-430\" x=\"1024.365234\"/>\n     <use xlink:href=\"#DejaVuSans-440\" x=\"1085.644531\"/>\n     <use xlink:href=\"#DejaVuSans-438\" x=\"1149.121094\"/>\n     <use xlink:href=\"#DejaVuSans-444\" x=\"1214.111328\"/>\n     <use xlink:href=\"#DejaVuSans-43c\" x=\"1299.609375\"/>\n     <use xlink:href=\"#DejaVuSans-43e\" x=\"1375.048828\"/>\n     <use xlink:href=\"#DejaVuSans-432\" x=\"1436.230469\"/>\n     <use xlink:href=\"#DejaVuSans-20\" x=\"1495.166016\"/>\n     <use xlink:href=\"#DejaVuSans-43f\" x=\"1526.953125\"/>\n     <use xlink:href=\"#DejaVuSans-43b\" x=\"1592.333984\"/>\n     <use xlink:href=\"#DejaVuSans-430\" x=\"1656.25\"/>\n     <use xlink:href=\"#DejaVuSans-442\" x=\"1717.529297\"/>\n     <use xlink:href=\"#DejaVuSans-435\" x=\"1775.78125\"/>\n     <use xlink:href=\"#DejaVuSans-436\" x=\"1837.304688\"/>\n     <use xlink:href=\"#DejaVuSans-435\" x=\"1927.392578\"/>\n     <use xlink:href=\"#DejaVuSans-439\" x=\"1988.916016\"/>\n     <use xlink:href=\"#DejaVuSans-20\" x=\"2053.90625\"/>\n     <use xlink:href=\"#DejaVuSans-432\" x=\"2085.693359\"/>\n     <use xlink:href=\"#DejaVuSans-20\" x=\"2144.628906\"/>\n     <use xlink:href=\"#DejaVuSans-437\" x=\"2176.416016\"/>\n     <use xlink:href=\"#DejaVuSans-430\" x=\"2229.589844\"/>\n     <use xlink:href=\"#DejaVuSans-432\" x=\"2290.869141\"/>\n     <use xlink:href=\"#DejaVuSans-438\" x=\"2349.804688\"/>\n     <use xlink:href=\"#DejaVuSans-441\" x=\"2414.794922\"/>\n     <use xlink:href=\"#DejaVuSans-438\" x=\"2469.775391\"/>\n     <use xlink:href=\"#DejaVuSans-43c\" x=\"2534.765625\"/>\n     <use xlink:href=\"#DejaVuSans-43e\" x=\"2610.205078\"/>\n     <use xlink:href=\"#DejaVuSans-441\" x=\"2671.386719\"/>\n     <use xlink:href=\"#DejaVuSans-442\" x=\"2726.367188\"/>\n     <use xlink:href=\"#DejaVuSans-438\" x=\"2784.619141\"/>\n     <use xlink:href=\"#DejaVuSans-20\" x=\"2849.609375\"/>\n     <use xlink:href=\"#DejaVuSans-43e\" x=\"2881.396484\"/>\n     <use xlink:href=\"#DejaVuSans-442\" x=\"2942.578125\"/>\n     <use xlink:href=\"#DejaVuSans-20\" x=\"3000.830078\"/>\n     <use xlink:href=\"#DejaVuSans-446\" x=\"3032.617188\"/>\n     <use xlink:href=\"#DejaVuSans-435\" x=\"3100.683594\"/>\n     <use xlink:href=\"#DejaVuSans-43b\" x=\"3162.207031\"/>\n     <use xlink:href=\"#DejaVuSans-435\" x=\"3226.123047\"/>\n     <use xlink:href=\"#DejaVuSans-432\" x=\"3287.646484\"/>\n     <use xlink:href=\"#DejaVuSans-43e\" x=\"3346.582031\"/>\n     <use xlink:href=\"#DejaVuSans-439\" x=\"3407.763672\"/>\n     <use xlink:href=\"#DejaVuSans-20\" x=\"3472.753906\"/>\n     <use xlink:href=\"#DejaVuSans-43f\" x=\"3504.541016\"/>\n     <use xlink:href=\"#DejaVuSans-435\" x=\"3569.921875\"/>\n     <use xlink:href=\"#DejaVuSans-440\" x=\"3631.445312\"/>\n     <use xlink:href=\"#DejaVuSans-435\" x=\"3694.921875\"/>\n     <use xlink:href=\"#DejaVuSans-43c\" x=\"3756.445312\"/>\n     <use xlink:href=\"#DejaVuSans-435\" x=\"3831.884766\"/>\n     <use xlink:href=\"#DejaVuSans-43d\" x=\"3893.408203\"/>\n     <use xlink:href=\"#DejaVuSans-43d\" x=\"3958.789062\"/>\n     <use xlink:href=\"#DejaVuSans-43e\" x=\"4024.169922\"/>\n     <use xlink:href=\"#DejaVuSans-439\" x=\"4085.351562\"/>\n    </g>\n   </g>\n   <g id=\"legend_1\">\n    <g id=\"patch_207\">\n     <path d=\"M 43.465625 45.274375 \nL 355.745313 45.274375 \nQ 357.745313 45.274375 357.745313 43.274375 \nL 357.745313 29.318125 \nQ 357.745313 27.318125 355.745313 27.318125 \nL 43.465625 27.318125 \nQ 41.465625 27.318125 41.465625 29.318125 \nL 41.465625 43.274375 \nQ 41.465625 45.274375 43.465625 45.274375 \nz\n\" style=\"fill: #ffffff; opacity: 0.8; stroke: #cccccc; stroke-linejoin: miter\"/>\n    </g>\n    <g id=\"patch_208\">\n     <path d=\"M 45.465625 38.916562 \nL 65.465625 38.916562 \nL 65.465625 31.916562 \nL 45.465625 31.916562 \nz\n\" style=\"fill: #ff0000\"/>\n    </g>\n    <g id=\"text_17\">\n     <!-- dict_keys(['LOG10(PAY_AMT1)', 'LOG10(PAY_AMT1) (1)']) -->\n     <g transform=\"translate(73.465625 38.916562) scale(0.1 -0.1)\">\n      <defs>\n       <path id=\"DejaVuSans-64\" d=\"M 2906 2969 \nL 2906 4863 \nL 3481 4863 \nL 3481 0 \nL 2906 0 \nL 2906 525 \nQ 2725 213 2448 61 \nQ 2172 -91 1784 -91 \nQ 1150 -91 751 415 \nQ 353 922 353 1747 \nQ 353 2572 751 3078 \nQ 1150 3584 1784 3584 \nQ 2172 3584 2448 3432 \nQ 2725 3281 2906 2969 \nz\nM 947 1747 \nQ 947 1113 1208 752 \nQ 1469 391 1925 391 \nQ 2381 391 2643 752 \nQ 2906 1113 2906 1747 \nQ 2906 2381 2643 2742 \nQ 2381 3103 1925 3103 \nQ 1469 3103 1208 2742 \nQ 947 2381 947 1747 \nz\n\" transform=\"scale(0.015625)\"/>\n       <path id=\"DejaVuSans-69\" d=\"M 603 3500 \nL 1178 3500 \nL 1178 0 \nL 603 0 \nL 603 3500 \nz\nM 603 4863 \nL 1178 4863 \nL 1178 4134 \nL 603 4134 \nL 603 4863 \nz\n\" transform=\"scale(0.015625)\"/>\n       <path id=\"DejaVuSans-63\" d=\"M 3122 3366 \nL 3122 2828 \nQ 2878 2963 2633 3030 \nQ 2388 3097 2138 3097 \nQ 1578 3097 1268 2742 \nQ 959 2388 959 1747 \nQ 959 1106 1268 751 \nQ 1578 397 2138 397 \nQ 2388 397 2633 464 \nQ 2878 531 3122 666 \nL 3122 134 \nQ 2881 22 2623 -34 \nQ 2366 -91 2075 -91 \nQ 1284 -91 818 406 \nQ 353 903 353 1747 \nQ 353 2603 823 3093 \nQ 1294 3584 2113 3584 \nQ 2378 3584 2631 3529 \nQ 2884 3475 3122 3366 \nz\n\" transform=\"scale(0.015625)\"/>\n       <path id=\"DejaVuSans-74\" d=\"M 1172 4494 \nL 1172 3500 \nL 2356 3500 \nL 2356 3053 \nL 1172 3053 \nL 1172 1153 \nQ 1172 725 1289 603 \nQ 1406 481 1766 481 \nL 2356 481 \nL 2356 0 \nL 1766 0 \nQ 1100 0 847 248 \nQ 594 497 594 1153 \nL 594 3053 \nL 172 3053 \nL 172 3500 \nL 594 3500 \nL 594 4494 \nL 1172 4494 \nz\n\" transform=\"scale(0.015625)\"/>\n       <path id=\"DejaVuSans-5f\" d=\"M 3263 -1063 \nL 3263 -1509 \nL -63 -1509 \nL -63 -1063 \nL 3263 -1063 \nz\n\" transform=\"scale(0.015625)\"/>\n       <path id=\"DejaVuSans-6b\" d=\"M 581 4863 \nL 1159 4863 \nL 1159 1991 \nL 2875 3500 \nL 3609 3500 \nL 1753 1863 \nL 3688 0 \nL 2938 0 \nL 1159 1709 \nL 1159 0 \nL 581 0 \nL 581 4863 \nz\n\" transform=\"scale(0.015625)\"/>\n       <path id=\"DejaVuSans-65\" d=\"M 3597 1894 \nL 3597 1613 \nL 953 1613 \nQ 991 1019 1311 708 \nQ 1631 397 2203 397 \nQ 2534 397 2845 478 \nQ 3156 559 3463 722 \nL 3463 178 \nQ 3153 47 2828 -22 \nQ 2503 -91 2169 -91 \nQ 1331 -91 842 396 \nQ 353 884 353 1716 \nQ 353 2575 817 3079 \nQ 1281 3584 2069 3584 \nQ 2775 3584 3186 3129 \nQ 3597 2675 3597 1894 \nz\nM 3022 2063 \nQ 3016 2534 2758 2815 \nQ 2500 3097 2075 3097 \nQ 1594 3097 1305 2825 \nQ 1016 2553 972 2059 \nL 3022 2063 \nz\n\" transform=\"scale(0.015625)\"/>\n       <path id=\"DejaVuSans-79\" d=\"M 2059 -325 \nQ 1816 -950 1584 -1140 \nQ 1353 -1331 966 -1331 \nL 506 -1331 \nL 506 -850 \nL 844 -850 \nQ 1081 -850 1212 -737 \nQ 1344 -625 1503 -206 \nL 1606 56 \nL 191 3500 \nL 800 3500 \nL 1894 763 \nL 2988 3500 \nL 3597 3500 \nL 2059 -325 \nz\n\" transform=\"scale(0.015625)\"/>\n       <path id=\"DejaVuSans-73\" d=\"M 2834 3397 \nL 2834 2853 \nQ 2591 2978 2328 3040 \nQ 2066 3103 1784 3103 \nQ 1356 3103 1142 2972 \nQ 928 2841 928 2578 \nQ 928 2378 1081 2264 \nQ 1234 2150 1697 2047 \nL 1894 2003 \nQ 2506 1872 2764 1633 \nQ 3022 1394 3022 966 \nQ 3022 478 2636 193 \nQ 2250 -91 1575 -91 \nQ 1294 -91 989 -36 \nQ 684 19 347 128 \nL 347 722 \nQ 666 556 975 473 \nQ 1284 391 1588 391 \nQ 1994 391 2212 530 \nQ 2431 669 2431 922 \nQ 2431 1156 2273 1281 \nQ 2116 1406 1581 1522 \nL 1381 1569 \nQ 847 1681 609 1914 \nQ 372 2147 372 2553 \nQ 372 3047 722 3315 \nQ 1072 3584 1716 3584 \nQ 2034 3584 2315 3537 \nQ 2597 3491 2834 3397 \nz\n\" transform=\"scale(0.015625)\"/>\n       <path id=\"DejaVuSans-28\" d=\"M 1984 4856 \nQ 1566 4138 1362 3434 \nQ 1159 2731 1159 2009 \nQ 1159 1288 1364 580 \nQ 1569 -128 1984 -844 \nL 1484 -844 \nQ 1016 -109 783 600 \nQ 550 1309 550 2009 \nQ 550 2706 781 3412 \nQ 1013 4119 1484 4856 \nL 1984 4856 \nz\n\" transform=\"scale(0.015625)\"/>\n       <path id=\"DejaVuSans-5b\" d=\"M 550 4863 \nL 1875 4863 \nL 1875 4416 \nL 1125 4416 \nL 1125 -397 \nL 1875 -397 \nL 1875 -844 \nL 550 -844 \nL 550 4863 \nz\n\" transform=\"scale(0.015625)\"/>\n       <path id=\"DejaVuSans-27\" d=\"M 1147 4666 \nL 1147 2931 \nL 616 2931 \nL 616 4666 \nL 1147 4666 \nz\n\" transform=\"scale(0.015625)\"/>\n       <path id=\"DejaVuSans-4c\" d=\"M 628 4666 \nL 1259 4666 \nL 1259 531 \nL 3531 531 \nL 3531 0 \nL 628 0 \nL 628 4666 \nz\n\" transform=\"scale(0.015625)\"/>\n       <path id=\"DejaVuSans-4f\" d=\"M 2522 4238 \nQ 1834 4238 1429 3725 \nQ 1025 3213 1025 2328 \nQ 1025 1447 1429 934 \nQ 1834 422 2522 422 \nQ 3209 422 3611 934 \nQ 4013 1447 4013 2328 \nQ 4013 3213 3611 3725 \nQ 3209 4238 2522 4238 \nz\nM 2522 4750 \nQ 3503 4750 4090 4092 \nQ 4678 3434 4678 2328 \nQ 4678 1225 4090 567 \nQ 3503 -91 2522 -91 \nQ 1538 -91 948 565 \nQ 359 1222 359 2328 \nQ 359 3434 948 4092 \nQ 1538 4750 2522 4750 \nz\n\" transform=\"scale(0.015625)\"/>\n       <path id=\"DejaVuSans-47\" d=\"M 3809 666 \nL 3809 1919 \nL 2778 1919 \nL 2778 2438 \nL 4434 2438 \nL 4434 434 \nQ 4069 175 3628 42 \nQ 3188 -91 2688 -91 \nQ 1594 -91 976 548 \nQ 359 1188 359 2328 \nQ 359 3472 976 4111 \nQ 1594 4750 2688 4750 \nQ 3144 4750 3555 4637 \nQ 3966 4525 4313 4306 \nL 4313 3634 \nQ 3963 3931 3569 4081 \nQ 3175 4231 2741 4231 \nQ 1884 4231 1454 3753 \nQ 1025 3275 1025 2328 \nQ 1025 1384 1454 906 \nQ 1884 428 2741 428 \nQ 3075 428 3337 486 \nQ 3600 544 3809 666 \nz\n\" transform=\"scale(0.015625)\"/>\n       <path id=\"DejaVuSans-50\" d=\"M 1259 4147 \nL 1259 2394 \nL 2053 2394 \nQ 2494 2394 2734 2622 \nQ 2975 2850 2975 3272 \nQ 2975 3691 2734 3919 \nQ 2494 4147 2053 4147 \nL 1259 4147 \nz\nM 628 4666 \nL 2053 4666 \nQ 2838 4666 3239 4311 \nQ 3641 3956 3641 3272 \nQ 3641 2581 3239 2228 \nQ 2838 1875 2053 1875 \nL 1259 1875 \nL 1259 0 \nL 628 0 \nL 628 4666 \nz\n\" transform=\"scale(0.015625)\"/>\n       <path id=\"DejaVuSans-41\" d=\"M 2188 4044 \nL 1331 1722 \nL 3047 1722 \nL 2188 4044 \nz\nM 1831 4666 \nL 2547 4666 \nL 4325 0 \nL 3669 0 \nL 3244 1197 \nL 1141 1197 \nL 716 0 \nL 50 0 \nL 1831 4666 \nz\n\" transform=\"scale(0.015625)\"/>\n       <path id=\"DejaVuSans-59\" d=\"M -13 4666 \nL 666 4666 \nL 1959 2747 \nL 3244 4666 \nL 3922 4666 \nL 2272 2222 \nL 2272 0 \nL 1638 0 \nL 1638 2222 \nL -13 4666 \nz\n\" transform=\"scale(0.015625)\"/>\n       <path id=\"DejaVuSans-4d\" d=\"M 628 4666 \nL 1569 4666 \nL 2759 1491 \nL 3956 4666 \nL 4897 4666 \nL 4897 0 \nL 4281 0 \nL 4281 4097 \nL 3078 897 \nL 2444 897 \nL 1241 4097 \nL 1241 0 \nL 628 0 \nL 628 4666 \nz\n\" transform=\"scale(0.015625)\"/>\n       <path id=\"DejaVuSans-54\" d=\"M -19 4666 \nL 3928 4666 \nL 3928 4134 \nL 2272 4134 \nL 2272 0 \nL 1638 0 \nL 1638 4134 \nL -19 4134 \nL -19 4666 \nz\n\" transform=\"scale(0.015625)\"/>\n       <path id=\"DejaVuSans-29\" d=\"M 513 4856 \nL 1013 4856 \nQ 1481 4119 1714 3412 \nQ 1947 2706 1947 2009 \nQ 1947 1309 1714 600 \nQ 1481 -109 1013 -844 \nL 513 -844 \nQ 928 -128 1133 580 \nQ 1338 1288 1338 2009 \nQ 1338 2731 1133 3434 \nQ 928 4138 513 4856 \nz\n\" transform=\"scale(0.015625)\"/>\n       <path id=\"DejaVuSans-2c\" d=\"M 750 794 \nL 1409 794 \nL 1409 256 \nL 897 -744 \nL 494 -744 \nL 750 256 \nL 750 794 \nz\n\" transform=\"scale(0.015625)\"/>\n       <path id=\"DejaVuSans-5d\" d=\"M 1947 4863 \nL 1947 -844 \nL 622 -844 \nL 622 -397 \nL 1369 -397 \nL 1369 4416 \nL 622 4416 \nL 622 4863 \nL 1947 4863 \nz\n\" transform=\"scale(0.015625)\"/>\n      </defs>\n      <use xlink:href=\"#DejaVuSans-64\"/>\n      <use xlink:href=\"#DejaVuSans-69\" x=\"63.476562\"/>\n      <use xlink:href=\"#DejaVuSans-63\" x=\"91.259766\"/>\n      <use xlink:href=\"#DejaVuSans-74\" x=\"146.240234\"/>\n      <use xlink:href=\"#DejaVuSans-5f\" x=\"185.449219\"/>\n      <use xlink:href=\"#DejaVuSans-6b\" x=\"235.449219\"/>\n      <use xlink:href=\"#DejaVuSans-65\" x=\"289.734375\"/>\n      <use xlink:href=\"#DejaVuSans-79\" x=\"351.257812\"/>\n      <use xlink:href=\"#DejaVuSans-73\" x=\"410.4375\"/>\n      <use xlink:href=\"#DejaVuSans-28\" x=\"462.537109\"/>\n      <use xlink:href=\"#DejaVuSans-5b\" x=\"501.550781\"/>\n      <use xlink:href=\"#DejaVuSans-27\" x=\"540.564453\"/>\n      <use xlink:href=\"#DejaVuSans-4c\" x=\"568.054688\"/>\n      <use xlink:href=\"#DejaVuSans-4f\" x=\"620.142578\"/>\n      <use xlink:href=\"#DejaVuSans-47\" x=\"698.853516\"/>\n      <use xlink:href=\"#DejaVuSans-31\" x=\"776.34375\"/>\n      <use xlink:href=\"#DejaVuSans-30\" x=\"839.966797\"/>\n      <use xlink:href=\"#DejaVuSans-28\" x=\"903.589844\"/>\n      <use xlink:href=\"#DejaVuSans-50\" x=\"942.603516\"/>\n      <use xlink:href=\"#DejaVuSans-41\" x=\"996.53125\"/>\n      <use xlink:href=\"#DejaVuSans-59\" x=\"1057.189453\"/>\n      <use xlink:href=\"#DejaVuSans-5f\" x=\"1118.273438\"/>\n      <use xlink:href=\"#DejaVuSans-41\" x=\"1168.273438\"/>\n      <use xlink:href=\"#DejaVuSans-4d\" x=\"1236.681641\"/>\n      <use xlink:href=\"#DejaVuSans-54\" x=\"1322.960938\"/>\n      <use xlink:href=\"#DejaVuSans-31\" x=\"1384.044922\"/>\n      <use xlink:href=\"#DejaVuSans-29\" x=\"1447.667969\"/>\n      <use xlink:href=\"#DejaVuSans-27\" x=\"1486.681641\"/>\n      <use xlink:href=\"#DejaVuSans-2c\" x=\"1514.171875\"/>\n      <use xlink:href=\"#DejaVuSans-20\" x=\"1545.958984\"/>\n      <use xlink:href=\"#DejaVuSans-27\" x=\"1577.746094\"/>\n      <use xlink:href=\"#DejaVuSans-4c\" x=\"1605.236328\"/>\n      <use xlink:href=\"#DejaVuSans-4f\" x=\"1657.324219\"/>\n      <use xlink:href=\"#DejaVuSans-47\" x=\"1736.035156\"/>\n      <use xlink:href=\"#DejaVuSans-31\" x=\"1813.525391\"/>\n      <use xlink:href=\"#DejaVuSans-30\" x=\"1877.148438\"/>\n      <use xlink:href=\"#DejaVuSans-28\" x=\"1940.771484\"/>\n      <use xlink:href=\"#DejaVuSans-50\" x=\"1979.785156\"/>\n      <use xlink:href=\"#DejaVuSans-41\" x=\"2033.712891\"/>\n      <use xlink:href=\"#DejaVuSans-59\" x=\"2094.371094\"/>\n      <use xlink:href=\"#DejaVuSans-5f\" x=\"2155.455078\"/>\n      <use xlink:href=\"#DejaVuSans-41\" x=\"2205.455078\"/>\n      <use xlink:href=\"#DejaVuSans-4d\" x=\"2273.863281\"/>\n      <use xlink:href=\"#DejaVuSans-54\" x=\"2360.142578\"/>\n      <use xlink:href=\"#DejaVuSans-31\" x=\"2421.226562\"/>\n      <use xlink:href=\"#DejaVuSans-29\" x=\"2484.849609\"/>\n      <use xlink:href=\"#DejaVuSans-20\" x=\"2523.863281\"/>\n      <use xlink:href=\"#DejaVuSans-28\" x=\"2555.650391\"/>\n      <use xlink:href=\"#DejaVuSans-31\" x=\"2594.664062\"/>\n      <use xlink:href=\"#DejaVuSans-29\" x=\"2658.287109\"/>\n      <use xlink:href=\"#DejaVuSans-27\" x=\"2697.300781\"/>\n      <use xlink:href=\"#DejaVuSans-5d\" x=\"2724.791016\"/>\n      <use xlink:href=\"#DejaVuSans-29\" x=\"2763.804688\"/>\n     </g>\n    </g>\n   </g>\n  </g>\n </g>\n <defs>\n  <clipPath id=\"p2f7eaeda3b\">\n   <rect x=\"36.465625\" y=\"22.318125\" width=\"669.35\" height=\"305.24\"/>\n  </clipPath>\n </defs>\n</svg>\n",
      "text/plain": [
       "<Figure size 1000x500 with 1 Axes>"
      ]
     },
     "metadata": {},
     "output_type": "display_data"
    }
   ],
   "source": [
    "fig, ax = plt.subplots(1, 1, figsize=(10, 5))\n",
    "\n",
    "pyspark_dist_explore.hist(ax, [pay_0, pay_1], color=['red', 'blue'], bins=100, density=True)\n",
    "\n",
    "ax.set_title('Распределение логарифмов платежей в зависимости от целевой переменной')\n",
    "ax.grid(True)\n",
    "ax.legend()\n",
    "\n",
    "fig.tight_layout()\n",
    "plt.show()"
   ]
  },
  {
   "cell_type": "code",
   "execution_count": 14,
   "metadata": {},
   "outputs": [
    {
     "data": {
      "application/pdf": "[encoded data removed]",
      "image/svg+xml": "<?xml version=\"1.0\" encoding=\"utf-8\" standalone=\"no\"?>\n<!DOCTYPE svg PUBLIC \"-//W3C//DTD SVG 1.1//EN\"\n  \"http://www.w3.org/Graphics/SVG/1.1/DTD/svg11.dtd\">\n<svg xmlns:xlink=\"http://www.w3.org/1999/xlink\" width=\"712.925625pt\" height=\"351.471875pt\" viewBox=\"0 0 712.925625 351.471875\" xmlns=\"http://www.w3.org/2000/svg\" version=\"1.1\">\n <metadata>\n  <rdf:RDF xmlns:dc=\"http://purl.org/dc/elements/1.1/\" xmlns:cc=\"http://creativecommons.org/ns#\" xmlns:rdf=\"http://www.w3.org/1999/02/22-rdf-syntax-ns#\">\n   <cc:Work>\n    <dc:type rdf:resource=\"http://purl.org/dc/dcmitype/StillImage\"/>\n    <dc:date>2023-02-23T21:41:58.218177</dc:date>\n    <dc:format>image/svg+xml</dc:format>\n    <dc:creator>\n     <cc:Agent>\n      <dc:title>Matplotlib v3.6.2, https://matplotlib.org/</dc:title>\n     </cc:Agent>\n    </dc:creator>\n   </cc:Work>\n  </rdf:RDF>\n </metadata>\n <defs>\n  <style type=\"text/css\">*{stroke-linejoin: round; stroke-linecap: butt}</style>\n </defs>\n <g id=\"figure_1\">\n  <g id=\"patch_1\">\n   <path d=\"M 0 351.471875 \nL 712.925625 351.471875 \nL 712.925625 0 \nL 0 0 \nz\n\" style=\"fill: #ffffff\"/>\n  </g>\n  <g id=\"axes_1\">\n   <g id=\"patch_2\">\n    <path d=\"M 36.465625 327.59375 \nL 705.725625 327.59375 \nL 705.725625 22.5225 \nL 36.465625 22.5225 \nz\n\" style=\"fill: #ffffff\"/>\n   </g>\n   <g id=\"patch_3\">\n    <path d=\"M 435.136536 327.59375 \nL 442.092495 327.59375 \nL 442.092495 250.178619 \nL 435.136536 250.178619 \nz\n\" clip-path=\"url(#p9224a66954)\" style=\"fill: #1f77b4; opacity: 0.7\"/>\n   </g>\n   <g id=\"patch_4\">\n    <path d=\"M 442.092495 327.59375 \nL 449.048455 327.59375 \nL 449.048455 327.59375 \nL 442.092495 327.59375 \nz\n\" clip-path=\"url(#p9224a66954)\" style=\"fill: #1f77b4; opacity: 0.7\"/>\n   </g>\n   <g id=\"patch_5\">\n    <path d=\"M 449.048455 327.59375 \nL 456.004414 327.59375 \nL 456.004414 327.59375 \nL 449.048455 327.59375 \nz\n\" clip-path=\"url(#p9224a66954)\" style=\"fill: #1f77b4; opacity: 0.7\"/>\n   </g>\n   <g id=\"patch_6\">\n    <path d=\"M 456.004414 327.59375 \nL 462.960374 327.59375 \nL 462.960374 327.59375 \nL 456.004414 327.59375 \nz\n\" clip-path=\"url(#p9224a66954)\" style=\"fill: #1f77b4; opacity: 0.7\"/>\n   </g>\n   <g id=\"patch_7\">\n    <path d=\"M 462.960374 327.59375 \nL 469.916334 327.59375 \nL 469.916334 250.178619 \nL 462.960374 250.178619 \nz\n\" clip-path=\"url(#p9224a66954)\" style=\"fill: #1f77b4; opacity: 0.7\"/>\n   </g>\n   <g id=\"patch_8\">\n    <path d=\"M 469.916334 327.59375 \nL 476.872293 327.59375 \nL 476.872293 327.59375 \nL 469.916334 327.59375 \nz\n\" clip-path=\"url(#p9224a66954)\" style=\"fill: #1f77b4; opacity: 0.7\"/>\n   </g>\n   <g id=\"patch_9\">\n    <path d=\"M 476.872293 327.59375 \nL 483.828253 327.59375 \nL 483.828253 327.59375 \nL 476.872293 327.59375 \nz\n\" clip-path=\"url(#p9224a66954)\" style=\"fill: #1f77b4; opacity: 0.7\"/>\n   </g>\n   <g id=\"patch_10\">\n    <path d=\"M 483.828253 327.59375 \nL 490.784213 327.59375 \nL 490.784213 250.178619 \nL 483.828253 250.178619 \nz\n\" clip-path=\"url(#p9224a66954)\" style=\"fill: #1f77b4; opacity: 0.7\"/>\n   </g>\n   <g id=\"patch_11\">\n    <path d=\"M 490.784213 327.59375 \nL 497.740172 327.59375 \nL 497.740172 327.59375 \nL 490.784213 327.59375 \nz\n\" clip-path=\"url(#p9224a66954)\" style=\"fill: #1f77b4; opacity: 0.7\"/>\n   </g>\n   <g id=\"patch_12\">\n    <path d=\"M 497.740172 327.59375 \nL 504.696132 327.59375 \nL 504.696132 250.178619 \nL 497.740172 250.178619 \nz\n\" clip-path=\"url(#p9224a66954)\" style=\"fill: #1f77b4; opacity: 0.7\"/>\n   </g>\n   <g id=\"patch_13\">\n    <path d=\"M 504.696132 327.59375 \nL 511.652092 327.59375 \nL 511.652092 250.178619 \nL 504.696132 250.178619 \nz\n\" clip-path=\"url(#p9224a66954)\" style=\"fill: #1f77b4; opacity: 0.7\"/>\n   </g>\n   <g id=\"patch_14\">\n    <path d=\"M 511.652092 327.59375 \nL 518.608051 327.59375 \nL 518.608051 327.59375 \nL 511.652092 327.59375 \nz\n\" clip-path=\"url(#p9224a66954)\" style=\"fill: #1f77b4; opacity: 0.7\"/>\n   </g>\n   <g id=\"patch_15\">\n    <path d=\"M 518.608051 327.59375 \nL 525.564011 327.59375 \nL 525.564011 250.178619 \nL 518.608051 250.178619 \nz\n\" clip-path=\"url(#p9224a66954)\" style=\"fill: #1f77b4; opacity: 0.7\"/>\n   </g>\n   <g id=\"patch_16\">\n    <path d=\"M 525.564011 327.59375 \nL 532.519971 327.59375 \nL 532.519971 172.763489 \nL 525.564011 172.763489 \nz\n\" clip-path=\"url(#p9224a66954)\" style=\"fill: #1f77b4; opacity: 0.7\"/>\n   </g>\n   <g id=\"patch_17\">\n    <path d=\"M 532.519971 327.59375 \nL 539.47593 327.59375 \nL 539.47593 250.178619 \nL 532.519971 250.178619 \nz\n\" clip-path=\"url(#p9224a66954)\" style=\"fill: #1f77b4; opacity: 0.7\"/>\n   </g>\n   <g id=\"patch_18\">\n    <path d=\"M 539.47593 327.59375 \nL 546.43189 327.59375 \nL 546.43189 327.59375 \nL 539.47593 327.59375 \nz\n\" clip-path=\"url(#p9224a66954)\" style=\"fill: #1f77b4; opacity: 0.7\"/>\n   </g>\n   <g id=\"patch_19\">\n    <path d=\"M 546.43189 327.59375 \nL 553.38785 327.59375 \nL 553.38785 250.178619 \nL 546.43189 250.178619 \nz\n\" clip-path=\"url(#p9224a66954)\" style=\"fill: #1f77b4; opacity: 0.7\"/>\n   </g>\n   <g id=\"patch_20\">\n    <path d=\"M 553.38785 327.59375 \nL 560.343809 327.59375 \nL 560.343809 327.59375 \nL 553.38785 327.59375 \nz\n\" clip-path=\"url(#p9224a66954)\" style=\"fill: #1f77b4; opacity: 0.7\"/>\n   </g>\n   <g id=\"patch_21\">\n    <path d=\"M 560.343809 327.59375 \nL 567.299769 327.59375 \nL 567.299769 250.178619 \nL 560.343809 250.178619 \nz\n\" clip-path=\"url(#p9224a66954)\" style=\"fill: #1f77b4; opacity: 0.7\"/>\n   </g>\n   <g id=\"patch_22\">\n    <path d=\"M 567.299769 327.59375 \nL 574.255729 327.59375 \nL 574.255729 250.178619 \nL 567.299769 250.178619 \nz\n\" clip-path=\"url(#p9224a66954)\" style=\"fill: #1f77b4; opacity: 0.7\"/>\n   </g>\n   <g id=\"patch_23\">\n    <path d=\"M 67.82117 327.59375 \nL 90.064853 327.59375 \nL 90.064853 327.157301 \nL 67.82117 327.157301 \nz\n\" clip-path=\"url(#p9224a66954)\" style=\"fill: #ff7f0e; opacity: 0.7\"/>\n   </g>\n   <g id=\"patch_24\">\n    <path d=\"M 90.064853 327.59375 \nL 112.308536 327.59375 \nL 112.308536 326.393515 \nL 90.064853 326.393515 \nz\n\" clip-path=\"url(#p9224a66954)\" style=\"fill: #ff7f0e; opacity: 0.7\"/>\n   </g>\n   <g id=\"patch_25\">\n    <path d=\"M 112.308536 327.59375 \nL 134.552219 327.59375 \nL 134.552219 325.084169 \nL 112.308536 325.084169 \nz\n\" clip-path=\"url(#p9224a66954)\" style=\"fill: #ff7f0e; opacity: 0.7\"/>\n   </g>\n   <g id=\"patch_26\">\n    <path d=\"M 134.552219 327.59375 \nL 156.795902 327.59375 \nL 156.795902 326.066179 \nL 134.552219 326.066179 \nz\n\" clip-path=\"url(#p9224a66954)\" style=\"fill: #ff7f0e; opacity: 0.7\"/>\n   </g>\n   <g id=\"patch_27\">\n    <path d=\"M 156.795902 327.59375 \nL 179.039585 327.59375 \nL 179.039585 326.066179 \nL 156.795902 326.066179 \nz\n\" clip-path=\"url(#p9224a66954)\" style=\"fill: #ff7f0e; opacity: 0.7\"/>\n   </g>\n   <g id=\"patch_28\">\n    <path d=\"M 179.039585 327.59375 \nL 201.283268 327.59375 \nL 201.283268 325.302393 \nL 179.039585 325.302393 \nz\n\" clip-path=\"url(#p9224a66954)\" style=\"fill: #ff7f0e; opacity: 0.7\"/>\n   </g>\n   <g id=\"patch_29\">\n    <path d=\"M 201.283268 327.59375 \nL 223.526951 327.59375 \nL 223.526951 323.883934 \nL 201.283268 323.883934 \nz\n\" clip-path=\"url(#p9224a66954)\" style=\"fill: #ff7f0e; opacity: 0.7\"/>\n   </g>\n   <g id=\"patch_30\">\n    <path d=\"M 223.526951 327.59375 \nL 245.770634 327.59375 \nL 245.770634 316.573414 \nL 223.526951 316.573414 \nz\n\" clip-path=\"url(#p9224a66954)\" style=\"fill: #ff7f0e; opacity: 0.7\"/>\n   </g>\n   <g id=\"patch_31\">\n    <path d=\"M 245.770634 327.59375 \nL 268.014316 327.59375 \nL 268.014316 288.095121 \nL 245.770634 288.095121 \nz\n\" clip-path=\"url(#p9224a66954)\" style=\"fill: #ff7f0e; opacity: 0.7\"/>\n   </g>\n   <g id=\"patch_32\">\n    <path d=\"M 268.014316 327.59375 \nL 290.257999 327.59375 \nL 290.257999 289.077131 \nL 268.014316 289.077131 \nz\n\" clip-path=\"url(#p9224a66954)\" style=\"fill: #ff7f0e; opacity: 0.7\"/>\n   </g>\n   <g id=\"patch_33\">\n    <path d=\"M 290.257999 327.59375 \nL 312.501682 327.59375 \nL 312.501682 183.020039 \nL 290.257999 183.020039 \nz\n\" clip-path=\"url(#p9224a66954)\" style=\"fill: #ff7f0e; opacity: 0.7\"/>\n   </g>\n   <g id=\"patch_34\">\n    <path d=\"M 312.501682 327.59375 \nL 334.745365 327.59375 \nL 334.745365 104.131893 \nL 312.501682 104.131893 \nz\n\" clip-path=\"url(#p9224a66954)\" style=\"fill: #ff7f0e; opacity: 0.7\"/>\n   </g>\n   <g id=\"patch_35\">\n    <path d=\"M 334.745365 327.59375 \nL 356.989048 327.59375 \nL 356.989048 115.588678 \nL 334.745365 115.588678 \nz\n\" clip-path=\"url(#p9224a66954)\" style=\"fill: #ff7f0e; opacity: 0.7\"/>\n   </g>\n   <g id=\"patch_36\">\n    <path d=\"M 356.989048 327.59375 \nL 379.232731 327.59375 \nL 379.232731 192.294579 \nL 356.989048 192.294579 \nz\n\" clip-path=\"url(#p9224a66954)\" style=\"fill: #ff7f0e; opacity: 0.7\"/>\n   </g>\n   <g id=\"patch_37\">\n    <path d=\"M 379.232731 327.59375 \nL 401.476414 327.59375 \nL 401.476414 262.781083 \nL 379.232731 262.781083 \nz\n\" clip-path=\"url(#p9224a66954)\" style=\"fill: #ff7f0e; opacity: 0.7\"/>\n   </g>\n   <g id=\"patch_38\">\n    <path d=\"M 401.476414 327.59375 \nL 423.720097 327.59375 \nL 423.720097 300.315691 \nL 401.476414 300.315691 \nz\n\" clip-path=\"url(#p9224a66954)\" style=\"fill: #ff7f0e; opacity: 0.7\"/>\n   </g>\n   <g id=\"patch_39\">\n    <path d=\"M 423.720097 327.59375 \nL 445.96378 327.59375 \nL 445.96378 313.190935 \nL 423.720097 313.190935 \nz\n\" clip-path=\"url(#p9224a66954)\" style=\"fill: #ff7f0e; opacity: 0.7\"/>\n   </g>\n   <g id=\"patch_40\">\n    <path d=\"M 445.96378 327.59375 \nL 468.207463 327.59375 \nL 468.207463 324.64772 \nL 445.96378 324.64772 \nz\n\" clip-path=\"url(#p9224a66954)\" style=\"fill: #ff7f0e; opacity: 0.7\"/>\n   </g>\n   <g id=\"patch_41\">\n    <path d=\"M 468.207463 327.59375 \nL 490.451146 327.59375 \nL 490.451146 325.847954 \nL 468.207463 325.847954 \nz\n\" clip-path=\"url(#p9224a66954)\" style=\"fill: #ff7f0e; opacity: 0.7\"/>\n   </g>\n   <g id=\"patch_42\">\n    <path d=\"M 490.451146 327.59375 \nL 512.694828 327.59375 \nL 512.694828 327.375526 \nL 490.451146 327.375526 \nz\n\" clip-path=\"url(#p9224a66954)\" style=\"fill: #ff7f0e; opacity: 0.7\"/>\n   </g>\n   <g id=\"patch_43\">\n    <path d=\"M 67.375649 327.59375 \nL 88.72829 327.59375 \nL 88.72829 327.514647 \nL 67.375649 327.514647 \nz\n\" clip-path=\"url(#p9224a66954)\" style=\"fill: #2ca02c; opacity: 0.7\"/>\n   </g>\n   <g id=\"patch_44\">\n    <path d=\"M 88.72829 327.59375 \nL 110.080931 327.59375 \nL 110.080931 326.723621 \nL 88.72829 326.723621 \nz\n\" clip-path=\"url(#p9224a66954)\" style=\"fill: #2ca02c; opacity: 0.7\"/>\n   </g>\n   <g id=\"patch_45\">\n    <path d=\"M 110.080931 327.59375 \nL 131.433572 327.59375 \nL 131.433572 326.011697 \nL 110.080931 326.011697 \nz\n\" clip-path=\"url(#p9224a66954)\" style=\"fill: #2ca02c; opacity: 0.7\"/>\n   </g>\n   <g id=\"patch_46\">\n    <path d=\"M 131.433572 327.59375 \nL 152.786213 327.59375 \nL 152.786213 325.616184 \nL 131.433572 325.616184 \nz\n\" clip-path=\"url(#p9224a66954)\" style=\"fill: #2ca02c; opacity: 0.7\"/>\n   </g>\n   <g id=\"patch_47\">\n    <path d=\"M 152.786213 327.59375 \nL 174.138853 327.59375 \nL 174.138853 326.249005 \nL 152.786213 326.249005 \nz\n\" clip-path=\"url(#p9224a66954)\" style=\"fill: #2ca02c; opacity: 0.7\"/>\n   </g>\n   <g id=\"patch_48\">\n    <path d=\"M 174.138853 327.59375 \nL 195.491494 327.59375 \nL 195.491494 326.644518 \nL 174.138853 326.644518 \nz\n\" clip-path=\"url(#p9224a66954)\" style=\"fill: #2ca02c; opacity: 0.7\"/>\n   </g>\n   <g id=\"patch_49\">\n    <path d=\"M 195.491494 327.59375 \nL 216.844135 327.59375 \nL 216.844135 326.328108 \nL 195.491494 326.328108 \nz\n\" clip-path=\"url(#p9224a66954)\" style=\"fill: #2ca02c; opacity: 0.7\"/>\n   </g>\n   <g id=\"patch_50\">\n    <path d=\"M 216.844135 327.59375 \nL 238.196776 327.59375 \nL 238.196776 322.293872 \nL 216.844135 322.293872 \nz\n\" clip-path=\"url(#p9224a66954)\" style=\"fill: #2ca02c; opacity: 0.7\"/>\n   </g>\n   <g id=\"patch_51\">\n    <path d=\"M 238.196776 327.59375 \nL 259.549417 327.59375 \nL 259.549417 313.988094 \nL 238.196776 313.988094 \nz\n\" clip-path=\"url(#p9224a66954)\" style=\"fill: #2ca02c; opacity: 0.7\"/>\n   </g>\n   <g id=\"patch_52\">\n    <path d=\"M 259.549417 327.59375 \nL 280.902057 327.59375 \nL 280.902057 300.066026 \nL 259.549417 300.066026 \nz\n\" clip-path=\"url(#p9224a66954)\" style=\"fill: #2ca02c; opacity: 0.7\"/>\n   </g>\n   <g id=\"patch_53\">\n    <path d=\"M 280.902057 327.59375 \nL 302.254698 327.59375 \nL 302.254698 220.409654 \nL 280.902057 220.409654 \nz\n\" clip-path=\"url(#p9224a66954)\" style=\"fill: #2ca02c; opacity: 0.7\"/>\n   </g>\n   <g id=\"patch_54\">\n    <path d=\"M 302.254698 327.59375 \nL 323.607339 327.59375 \nL 323.607339 37.049702 \nL 302.254698 37.049702 \nz\n\" clip-path=\"url(#p9224a66954)\" style=\"fill: #2ca02c; opacity: 0.7\"/>\n   </g>\n   <g id=\"patch_55\">\n    <path d=\"M 323.607339 327.59375 \nL 344.95998 327.59375 \nL 344.95998 93.687203 \nL 323.607339 93.687203 \nz\n\" clip-path=\"url(#p9224a66954)\" style=\"fill: #2ca02c; opacity: 0.7\"/>\n   </g>\n   <g id=\"patch_56\">\n    <path d=\"M 344.95998 327.59375 \nL 366.312621 327.59375 \nL 366.312621 197.786295 \nL 344.95998 197.786295 \nz\n\" clip-path=\"url(#p9224a66954)\" style=\"fill: #2ca02c; opacity: 0.7\"/>\n   </g>\n   <g id=\"patch_57\">\n    <path d=\"M 366.312621 327.59375 \nL 387.665262 327.59375 \nL 387.665262 256.717772 \nL 366.312621 256.717772 \nz\n\" clip-path=\"url(#p9224a66954)\" style=\"fill: #2ca02c; opacity: 0.7\"/>\n   </g>\n   <g id=\"patch_58\">\n    <path d=\"M 387.665262 327.59375 \nL 409.017902 327.59375 \nL 409.017902 305.128596 \nL 387.665262 305.128596 \nz\n\" clip-path=\"url(#p9224a66954)\" style=\"fill: #2ca02c; opacity: 0.7\"/>\n   </g>\n   <g id=\"patch_59\">\n    <path d=\"M 409.017902 327.59375 \nL 430.370543 327.59375 \nL 430.370543 315.96566 \nL 409.017902 315.96566 \nz\n\" clip-path=\"url(#p9224a66954)\" style=\"fill: #2ca02c; opacity: 0.7\"/>\n   </g>\n   <g id=\"patch_60\">\n    <path d=\"M 430.370543 327.59375 \nL 451.723184 327.59375 \nL 451.723184 322.689385 \nL 430.370543 322.689385 \nz\n\" clip-path=\"url(#p9224a66954)\" style=\"fill: #2ca02c; opacity: 0.7\"/>\n   </g>\n   <g id=\"patch_61\">\n    <path d=\"M 451.723184 327.59375 \nL 473.075825 327.59375 \nL 473.075825 324.90426 \nL 451.723184 324.90426 \nz\n\" clip-path=\"url(#p9224a66954)\" style=\"fill: #2ca02c; opacity: 0.7\"/>\n   </g>\n   <g id=\"patch_62\">\n    <path d=\"M 473.075825 327.59375 \nL 494.428466 327.59375 \nL 494.428466 327.119134 \nL 473.075825 327.119134 \nz\n\" clip-path=\"url(#p9224a66954)\" style=\"fill: #2ca02c; opacity: 0.7\"/>\n   </g>\n   <g id=\"patch_63\">\n    <path d=\"M 66.886534 327.59375 \nL 87.260945 327.59375 \nL 87.260945 326.684766 \nL 66.886534 326.684766 \nz\n\" clip-path=\"url(#p9224a66954)\" style=\"fill: #d62728; opacity: 0.7\"/>\n   </g>\n   <g id=\"patch_64\">\n    <path d=\"M 87.260945 327.59375 \nL 107.635355 327.59375 \nL 107.635355 326.003028 \nL 87.260945 326.003028 \nz\n\" clip-path=\"url(#p9224a66954)\" style=\"fill: #d62728; opacity: 0.7\"/>\n   </g>\n   <g id=\"patch_65\">\n    <path d=\"M 107.635355 327.59375 \nL 128.009766 327.59375 \nL 128.009766 325.548536 \nL 107.635355 325.548536 \nz\n\" clip-path=\"url(#p9224a66954)\" style=\"fill: #d62728; opacity: 0.7\"/>\n   </g>\n   <g id=\"patch_66\">\n    <path d=\"M 128.009766 327.59375 \nL 148.384176 327.59375 \nL 148.384176 326.230274 \nL 128.009766 326.230274 \nz\n\" clip-path=\"url(#p9224a66954)\" style=\"fill: #d62728; opacity: 0.7\"/>\n   </g>\n   <g id=\"patch_67\">\n    <path d=\"M 148.384176 327.59375 \nL 168.758587 327.59375 \nL 168.758587 324.866798 \nL 148.384176 324.866798 \nz\n\" clip-path=\"url(#p9224a66954)\" style=\"fill: #d62728; opacity: 0.7\"/>\n   </g>\n   <g id=\"patch_68\">\n    <path d=\"M 168.758587 327.59375 \nL 189.132997 327.59375 \nL 189.132997 326.912012 \nL 168.758587 326.912012 \nz\n\" clip-path=\"url(#p9224a66954)\" style=\"fill: #d62728; opacity: 0.7\"/>\n   </g>\n   <g id=\"patch_69\">\n    <path d=\"M 189.132997 327.59375 \nL 209.507408 327.59375 \nL 209.507408 326.003028 \nL 189.132997 326.003028 \nz\n\" clip-path=\"url(#p9224a66954)\" style=\"fill: #d62728; opacity: 0.7\"/>\n   </g>\n   <g id=\"patch_70\">\n    <path d=\"M 209.507408 327.59375 \nL 229.881818 327.59375 \nL 229.881818 324.639552 \nL 209.507408 324.639552 \nz\n\" clip-path=\"url(#p9224a66954)\" style=\"fill: #d62728; opacity: 0.7\"/>\n   </g>\n   <g id=\"patch_71\">\n    <path d=\"M 229.881818 327.59375 \nL 250.256229 327.59375 \nL 250.256229 317.822173 \nL 229.881818 317.822173 \nz\n\" clip-path=\"url(#p9224a66954)\" style=\"fill: #d62728; opacity: 0.7\"/>\n   </g>\n   <g id=\"patch_72\">\n    <path d=\"M 250.256229 327.59375 \nL 270.630639 327.59375 \nL 270.630639 295.324821 \nL 250.256229 295.324821 \nz\n\" clip-path=\"url(#p9224a66954)\" style=\"fill: #d62728; opacity: 0.7\"/>\n   </g>\n   <g id=\"patch_73\">\n    <path d=\"M 270.630639 327.59375 \nL 291.00505 327.59375 \nL 291.00505 303.27843 \nL 270.630639 303.27843 \nz\n\" clip-path=\"url(#p9224a66954)\" style=\"fill: #d62728; opacity: 0.7\"/>\n   </g>\n   <g id=\"patch_74\">\n    <path d=\"M 291.00505 327.59375 \nL 311.37946 327.59375 \nL 311.37946 91.030685 \nL 291.00505 91.030685 \nz\n\" clip-path=\"url(#p9224a66954)\" style=\"fill: #d62728; opacity: 0.7\"/>\n   </g>\n   <g id=\"patch_75\">\n    <path d=\"M 311.37946 327.59375 \nL 331.753871 327.59375 \nL 331.753871 62.397691 \nL 311.37946 62.397691 \nz\n\" clip-path=\"url(#p9224a66954)\" style=\"fill: #d62728; opacity: 0.7\"/>\n   </g>\n   <g id=\"patch_76\">\n    <path d=\"M 331.753871 327.59375 \nL 352.128281 327.59375 \nL 352.128281 154.432313 \nL 331.753871 154.432313 \nz\n\" clip-path=\"url(#p9224a66954)\" style=\"fill: #d62728; opacity: 0.7\"/>\n   </g>\n   <g id=\"patch_77\">\n    <path d=\"M 352.128281 327.59375 \nL 372.502692 327.59375 \nL 372.502692 221.469877 \nL 352.128281 221.469877 \nz\n\" clip-path=\"url(#p9224a66954)\" style=\"fill: #d62728; opacity: 0.7\"/>\n   </g>\n   <g id=\"patch_78\">\n    <path d=\"M 372.502692 327.59375 \nL 392.877103 327.59375 \nL 392.877103 294.643083 \nL 372.502692 294.643083 \nz\n\" clip-path=\"url(#p9224a66954)\" style=\"fill: #d62728; opacity: 0.7\"/>\n   </g>\n   <g id=\"patch_79\">\n    <path d=\"M 392.877103 327.59375 \nL 413.251513 327.59375 \nL 413.251513 310.777547 \nL 392.877103 310.777547 \nz\n\" clip-path=\"url(#p9224a66954)\" style=\"fill: #d62728; opacity: 0.7\"/>\n   </g>\n   <g id=\"patch_80\">\n    <path d=\"M 413.251513 327.59375 \nL 433.625924 327.59375 \nL 433.625924 317.594927 \nL 413.251513 317.594927 \nz\n\" clip-path=\"url(#p9224a66954)\" style=\"fill: #d62728; opacity: 0.7\"/>\n   </g>\n   <g id=\"patch_81\">\n    <path d=\"M 433.625924 327.59375 \nL 454.000334 327.59375 \nL 454.000334 321.9126 \nL 433.625924 321.9126 \nz\n\" clip-path=\"url(#p9224a66954)\" style=\"fill: #d62728; opacity: 0.7\"/>\n   </g>\n   <g id=\"patch_82\">\n    <path d=\"M 454.000334 327.59375 \nL 474.374745 327.59375 \nL 474.374745 325.32129 \nL 454.000334 325.32129 \nz\n\" clip-path=\"url(#p9224a66954)\" style=\"fill: #d62728; opacity: 0.7\"/>\n   </g>\n   <g id=\"patch_83\">\n    <path d=\"M 155.012522 327.59375 \nL 171.313972 327.59375 \nL 171.313972 318.911679 \nL 155.012522 318.911679 \nz\n\" clip-path=\"url(#p9224a66954)\" style=\"fill: #9467bd; opacity: 0.7\"/>\n   </g>\n   <g id=\"patch_84\">\n    <path d=\"M 171.313972 327.59375 \nL 187.615422 327.59375 \nL 187.615422 327.59375 \nL 171.313972 327.59375 \nz\n\" clip-path=\"url(#p9224a66954)\" style=\"fill: #9467bd; opacity: 0.7\"/>\n   </g>\n   <g id=\"patch_85\">\n    <path d=\"M 187.615422 327.59375 \nL 203.916872 327.59375 \nL 203.916872 327.59375 \nL 187.615422 327.59375 \nz\n\" clip-path=\"url(#p9224a66954)\" style=\"fill: #9467bd; opacity: 0.7\"/>\n   </g>\n   <g id=\"patch_86\">\n    <path d=\"M 203.916872 327.59375 \nL 220.218322 327.59375 \nL 220.218322 327.59375 \nL 203.916872 327.59375 \nz\n\" clip-path=\"url(#p9224a66954)\" style=\"fill: #9467bd; opacity: 0.7\"/>\n   </g>\n   <g id=\"patch_87\">\n    <path d=\"M 220.218322 327.59375 \nL 236.519772 327.59375 \nL 236.519772 327.59375 \nL 220.218322 327.59375 \nz\n\" clip-path=\"url(#p9224a66954)\" style=\"fill: #9467bd; opacity: 0.7\"/>\n   </g>\n   <g id=\"patch_88\">\n    <path d=\"M 236.519772 327.59375 \nL 252.821222 327.59375 \nL 252.821222 318.911679 \nL 236.519772 318.911679 \nz\n\" clip-path=\"url(#p9224a66954)\" style=\"fill: #9467bd; opacity: 0.7\"/>\n   </g>\n   <g id=\"patch_89\">\n    <path d=\"M 252.821222 327.59375 \nL 269.122672 327.59375 \nL 269.122672 327.59375 \nL 252.821222 327.59375 \nz\n\" clip-path=\"url(#p9224a66954)\" style=\"fill: #9467bd; opacity: 0.7\"/>\n   </g>\n   <g id=\"patch_90\">\n    <path d=\"M 269.122672 327.59375 \nL 285.424122 327.59375 \nL 285.424122 318.911679 \nL 269.122672 318.911679 \nz\n\" clip-path=\"url(#p9224a66954)\" style=\"fill: #9467bd; opacity: 0.7\"/>\n   </g>\n   <g id=\"patch_91\">\n    <path d=\"M 285.424122 327.59375 \nL 301.725572 327.59375 \nL 301.725572 310.229609 \nL 285.424122 310.229609 \nz\n\" clip-path=\"url(#p9224a66954)\" style=\"fill: #9467bd; opacity: 0.7\"/>\n   </g>\n   <g id=\"patch_92\">\n    <path d=\"M 301.725572 327.59375 \nL 318.027022 327.59375 \nL 318.027022 301.547538 \nL 301.725572 301.547538 \nz\n\" clip-path=\"url(#p9224a66954)\" style=\"fill: #9467bd; opacity: 0.7\"/>\n   </g>\n   <g id=\"patch_93\">\n    <path d=\"M 318.027022 327.59375 \nL 334.328471 327.59375 \nL 334.328471 310.229609 \nL 318.027022 310.229609 \nz\n\" clip-path=\"url(#p9224a66954)\" style=\"fill: #9467bd; opacity: 0.7\"/>\n   </g>\n   <g id=\"patch_94\">\n    <path d=\"M 334.328471 327.59375 \nL 350.629921 327.59375 \nL 350.629921 223.408901 \nL 334.328471 223.408901 \nz\n\" clip-path=\"url(#p9224a66954)\" style=\"fill: #9467bd; opacity: 0.7\"/>\n   </g>\n   <g id=\"patch_95\">\n    <path d=\"M 350.629921 327.59375 \nL 366.931371 327.59375 \nL 366.931371 162.634406 \nL 350.629921 162.634406 \nz\n\" clip-path=\"url(#p9224a66954)\" style=\"fill: #9467bd; opacity: 0.7\"/>\n   </g>\n   <g id=\"patch_96\">\n    <path d=\"M 366.931371 327.59375 \nL 383.232821 327.59375 \nL 383.232821 153.952336 \nL 366.931371 153.952336 \nz\n\" clip-path=\"url(#p9224a66954)\" style=\"fill: #9467bd; opacity: 0.7\"/>\n   </g>\n   <g id=\"patch_97\">\n    <path d=\"M 383.232821 327.59375 \nL 399.534271 327.59375 \nL 399.534271 136.588194 \nL 383.232821 136.588194 \nz\n\" clip-path=\"url(#p9224a66954)\" style=\"fill: #9467bd; opacity: 0.7\"/>\n   </g>\n   <g id=\"patch_98\">\n    <path d=\"M 399.534271 327.59375 \nL 415.835721 327.59375 \nL 415.835721 214.726831 \nL 399.534271 214.726831 \nz\n\" clip-path=\"url(#p9224a66954)\" style=\"fill: #9467bd; opacity: 0.7\"/>\n   </g>\n   <g id=\"patch_99\">\n    <path d=\"M 415.835721 327.59375 \nL 432.137171 327.59375 \nL 432.137171 258.137184 \nL 415.835721 258.137184 \nz\n\" clip-path=\"url(#p9224a66954)\" style=\"fill: #9467bd; opacity: 0.7\"/>\n   </g>\n   <g id=\"patch_100\">\n    <path d=\"M 432.137171 327.59375 \nL 448.438621 327.59375 \nL 448.438621 318.911679 \nL 432.137171 318.911679 \nz\n\" clip-path=\"url(#p9224a66954)\" style=\"fill: #9467bd; opacity: 0.7\"/>\n   </g>\n   <g id=\"patch_101\">\n    <path d=\"M 448.438621 327.59375 \nL 464.740071 327.59375 \nL 464.740071 327.59375 \nL 448.438621 327.59375 \nz\n\" clip-path=\"url(#p9224a66954)\" style=\"fill: #9467bd; opacity: 0.7\"/>\n   </g>\n   <g id=\"patch_102\">\n    <path d=\"M 464.740071 327.59375 \nL 481.041521 327.59375 \nL 481.041521 310.229609 \nL 464.740071 310.229609 \nz\n\" clip-path=\"url(#p9224a66954)\" style=\"fill: #9467bd; opacity: 0.7\"/>\n   </g>\n   <g id=\"patch_103\">\n    <path d=\"M 155.424191 327.59375 \nL 172.548977 327.59375 \nL 172.548977 323.754983 \nL 155.424191 323.754983 \nz\n\" clip-path=\"url(#p9224a66954)\" style=\"fill: #8c564b; opacity: 0.7\"/>\n   </g>\n   <g id=\"patch_104\">\n    <path d=\"M 172.548977 327.59375 \nL 189.673764 327.59375 \nL 189.673764 327.59375 \nL 172.548977 327.59375 \nz\n\" clip-path=\"url(#p9224a66954)\" style=\"fill: #8c564b; opacity: 0.7\"/>\n   </g>\n   <g id=\"patch_105\">\n    <path d=\"M 189.673764 327.59375 \nL 206.79855 327.59375 \nL 206.79855 327.59375 \nL 189.673764 327.59375 \nz\n\" clip-path=\"url(#p9224a66954)\" style=\"fill: #8c564b; opacity: 0.7\"/>\n   </g>\n   <g id=\"patch_106\">\n    <path d=\"M 206.79855 327.59375 \nL 223.923336 327.59375 \nL 223.923336 323.754983 \nL 206.79855 323.754983 \nz\n\" clip-path=\"url(#p9224a66954)\" style=\"fill: #8c564b; opacity: 0.7\"/>\n   </g>\n   <g id=\"patch_107\">\n    <path d=\"M 223.923336 327.59375 \nL 241.048123 327.59375 \nL 241.048123 327.59375 \nL 223.923336 327.59375 \nz\n\" clip-path=\"url(#p9224a66954)\" style=\"fill: #8c564b; opacity: 0.7\"/>\n   </g>\n   <g id=\"patch_108\">\n    <path d=\"M 241.048123 327.59375 \nL 258.172909 327.59375 \nL 258.172909 319.916216 \nL 241.048123 319.916216 \nz\n\" clip-path=\"url(#p9224a66954)\" style=\"fill: #8c564b; opacity: 0.7\"/>\n   </g>\n   <g id=\"patch_109\">\n    <path d=\"M 258.172909 327.59375 \nL 275.297696 327.59375 \nL 275.297696 323.754983 \nL 258.172909 323.754983 \nz\n\" clip-path=\"url(#p9224a66954)\" style=\"fill: #8c564b; opacity: 0.7\"/>\n   </g>\n   <g id=\"patch_110\">\n    <path d=\"M 275.297696 327.59375 \nL 292.422482 327.59375 \nL 292.422482 316.07745 \nL 275.297696 316.07745 \nz\n\" clip-path=\"url(#p9224a66954)\" style=\"fill: #8c564b; opacity: 0.7\"/>\n   </g>\n   <g id=\"patch_111\">\n    <path d=\"M 292.422482 327.59375 \nL 309.547268 327.59375 \nL 309.547268 316.07745 \nL 292.422482 316.07745 \nz\n\" clip-path=\"url(#p9224a66954)\" style=\"fill: #8c564b; opacity: 0.7\"/>\n   </g>\n   <g id=\"patch_112\">\n    <path d=\"M 309.547268 327.59375 \nL 326.672055 327.59375 \nL 326.672055 323.754983 \nL 309.547268 323.754983 \nz\n\" clip-path=\"url(#p9224a66954)\" style=\"fill: #8c564b; opacity: 0.7\"/>\n   </g>\n   <g id=\"patch_113\">\n    <path d=\"M 326.672055 327.59375 \nL 343.796841 327.59375 \nL 343.796841 281.528548 \nL 326.672055 281.528548 \nz\n\" clip-path=\"url(#p9224a66954)\" style=\"fill: #8c564b; opacity: 0.7\"/>\n   </g>\n   <g id=\"patch_114\">\n    <path d=\"M 343.796841 327.59375 \nL 360.921628 327.59375 \nL 360.921628 116.461576 \nL 343.796841 116.461576 \nz\n\" clip-path=\"url(#p9224a66954)\" style=\"fill: #8c564b; opacity: 0.7\"/>\n   </g>\n   <g id=\"patch_115\">\n    <path d=\"M 360.921628 327.59375 \nL 378.046414 327.59375 \nL 378.046414 154.849244 \nL 360.921628 154.849244 \nz\n\" clip-path=\"url(#p9224a66954)\" style=\"fill: #8c564b; opacity: 0.7\"/>\n   </g>\n   <g id=\"patch_116\">\n    <path d=\"M 378.046414 327.59375 \nL 395.171201 327.59375 \nL 395.171201 135.65541 \nL 378.046414 135.65541 \nz\n\" clip-path=\"url(#p9224a66954)\" style=\"fill: #8c564b; opacity: 0.7\"/>\n   </g>\n   <g id=\"patch_117\">\n    <path d=\"M 395.171201 327.59375 \nL 412.295987 327.59375 \nL 412.295987 181.720611 \nL 395.171201 181.720611 \nz\n\" clip-path=\"url(#p9224a66954)\" style=\"fill: #8c564b; opacity: 0.7\"/>\n   </g>\n   <g id=\"patch_118\">\n    <path d=\"M 412.295987 327.59375 \nL 429.420773 327.59375 \nL 429.420773 270.012248 \nL 412.295987 270.012248 \nz\n\" clip-path=\"url(#p9224a66954)\" style=\"fill: #8c564b; opacity: 0.7\"/>\n   </g>\n   <g id=\"patch_119\">\n    <path d=\"M 429.420773 327.59375 \nL 446.54556 327.59375 \nL 446.54556 296.883616 \nL 429.420773 296.883616 \nz\n\" clip-path=\"url(#p9224a66954)\" style=\"fill: #8c564b; opacity: 0.7\"/>\n   </g>\n   <g id=\"patch_120\">\n    <path d=\"M 446.54556 327.59375 \nL 463.670346 327.59375 \nL 463.670346 316.07745 \nL 446.54556 316.07745 \nz\n\" clip-path=\"url(#p9224a66954)\" style=\"fill: #8c564b; opacity: 0.7\"/>\n   </g>\n   <g id=\"patch_121\">\n    <path d=\"M 463.670346 327.59375 \nL 480.795133 327.59375 \nL 480.795133 319.916216 \nL 463.670346 319.916216 \nz\n\" clip-path=\"url(#p9224a66954)\" style=\"fill: #8c564b; opacity: 0.7\"/>\n   </g>\n   <g id=\"patch_122\">\n    <path d=\"M 480.795133 327.59375 \nL 497.919919 327.59375 \nL 497.919919 319.916216 \nL 480.795133 319.916216 \nz\n\" clip-path=\"url(#p9224a66954)\" style=\"fill: #8c564b; opacity: 0.7\"/>\n   </g>\n   <g id=\"patch_123\">\n    <path d=\"M 510.09932 327.59375 \nL 518.35959 327.59375 \nL 518.35959 243.14088 \nL 510.09932 243.14088 \nz\n\" clip-path=\"url(#p9224a66954)\" style=\"fill: #e377c2; opacity: 0.7\"/>\n   </g>\n   <g id=\"patch_124\">\n    <path d=\"M 518.35959 327.59375 \nL 526.61986 327.59375 \nL 526.61986 222.027663 \nL 518.35959 222.027663 \nz\n\" clip-path=\"url(#p9224a66954)\" style=\"fill: #e377c2; opacity: 0.7\"/>\n   </g>\n   <g id=\"patch_125\">\n    <path d=\"M 526.61986 327.59375 \nL 534.880129 327.59375 \nL 534.880129 222.027663 \nL 526.61986 222.027663 \nz\n\" clip-path=\"url(#p9224a66954)\" style=\"fill: #e377c2; opacity: 0.7\"/>\n   </g>\n   <g id=\"patch_126\">\n    <path d=\"M 534.880129 327.59375 \nL 543.140399 327.59375 \nL 543.140399 285.367315 \nL 534.880129 285.367315 \nz\n\" clip-path=\"url(#p9224a66954)\" style=\"fill: #e377c2; opacity: 0.7\"/>\n   </g>\n   <g id=\"patch_127\">\n    <path d=\"M 543.140399 327.59375 \nL 551.400669 327.59375 \nL 551.400669 222.027663 \nL 543.140399 222.027663 \nz\n\" clip-path=\"url(#p9224a66954)\" style=\"fill: #e377c2; opacity: 0.7\"/>\n   </g>\n   <g id=\"patch_128\">\n    <path d=\"M 551.400669 327.59375 \nL 559.660939 327.59375 \nL 559.660939 243.14088 \nL 551.400669 243.14088 \nz\n\" clip-path=\"url(#p9224a66954)\" style=\"fill: #e377c2; opacity: 0.7\"/>\n   </g>\n   <g id=\"patch_129\">\n    <path d=\"M 559.660939 327.59375 \nL 567.921209 327.59375 \nL 567.921209 222.027663 \nL 559.660939 222.027663 \nz\n\" clip-path=\"url(#p9224a66954)\" style=\"fill: #e377c2; opacity: 0.7\"/>\n   </g>\n   <g id=\"patch_130\">\n    <path d=\"M 567.921209 327.59375 \nL 576.181478 327.59375 \nL 576.181478 264.254098 \nL 567.921209 264.254098 \nz\n\" clip-path=\"url(#p9224a66954)\" style=\"fill: #e377c2; opacity: 0.7\"/>\n   </g>\n   <g id=\"patch_131\">\n    <path d=\"M 576.181478 327.59375 \nL 584.441748 327.59375 \nL 584.441748 285.367315 \nL 576.181478 285.367315 \nz\n\" clip-path=\"url(#p9224a66954)\" style=\"fill: #e377c2; opacity: 0.7\"/>\n   </g>\n   <g id=\"patch_132\">\n    <path d=\"M 584.441748 327.59375 \nL 592.702018 327.59375 \nL 592.702018 264.254098 \nL 584.441748 264.254098 \nz\n\" clip-path=\"url(#p9224a66954)\" style=\"fill: #e377c2; opacity: 0.7\"/>\n   </g>\n   <g id=\"patch_133\">\n    <path d=\"M 592.702018 327.59375 \nL 600.962288 327.59375 \nL 600.962288 306.480533 \nL 592.702018 306.480533 \nz\n\" clip-path=\"url(#p9224a66954)\" style=\"fill: #e377c2; opacity: 0.7\"/>\n   </g>\n   <g id=\"patch_134\">\n    <path d=\"M 600.962288 327.59375 \nL 609.222558 327.59375 \nL 609.222558 306.480533 \nL 600.962288 306.480533 \nz\n\" clip-path=\"url(#p9224a66954)\" style=\"fill: #e377c2; opacity: 0.7\"/>\n   </g>\n   <g id=\"patch_135\">\n    <path d=\"M 609.222558 327.59375 \nL 617.482827 327.59375 \nL 617.482827 306.480533 \nL 609.222558 306.480533 \nz\n\" clip-path=\"url(#p9224a66954)\" style=\"fill: #e377c2; opacity: 0.7\"/>\n   </g>\n   <g id=\"patch_136\">\n    <path d=\"M 617.482827 327.59375 \nL 625.743097 327.59375 \nL 625.743097 327.59375 \nL 617.482827 327.59375 \nz\n\" clip-path=\"url(#p9224a66954)\" style=\"fill: #e377c2; opacity: 0.7\"/>\n   </g>\n   <g id=\"patch_137\">\n    <path d=\"M 625.743097 327.59375 \nL 634.003367 327.59375 \nL 634.003367 327.59375 \nL 625.743097 327.59375 \nz\n\" clip-path=\"url(#p9224a66954)\" style=\"fill: #e377c2; opacity: 0.7\"/>\n   </g>\n   <g id=\"patch_138\">\n    <path d=\"M 634.003367 327.59375 \nL 642.263637 327.59375 \nL 642.263637 306.480533 \nL 634.003367 306.480533 \nz\n\" clip-path=\"url(#p9224a66954)\" style=\"fill: #e377c2; opacity: 0.7\"/>\n   </g>\n   <g id=\"patch_139\">\n    <path d=\"M 642.263637 327.59375 \nL 650.523907 327.59375 \nL 650.523907 327.59375 \nL 642.263637 327.59375 \nz\n\" clip-path=\"url(#p9224a66954)\" style=\"fill: #e377c2; opacity: 0.7\"/>\n   </g>\n   <g id=\"patch_140\">\n    <path d=\"M 650.523907 327.59375 \nL 658.784176 327.59375 \nL 658.784176 306.480533 \nL 650.523907 306.480533 \nz\n\" clip-path=\"url(#p9224a66954)\" style=\"fill: #e377c2; opacity: 0.7\"/>\n   </g>\n   <g id=\"patch_141\">\n    <path d=\"M 658.784176 327.59375 \nL 667.044446 327.59375 \nL 667.044446 327.59375 \nL 658.784176 327.59375 \nz\n\" clip-path=\"url(#p9224a66954)\" style=\"fill: #e377c2; opacity: 0.7\"/>\n   </g>\n   <g id=\"patch_142\">\n    <path d=\"M 667.044446 327.59375 \nL 675.304716 327.59375 \nL 675.304716 306.480533 \nL 667.044446 306.480533 \nz\n\" clip-path=\"url(#p9224a66954)\" style=\"fill: #e377c2; opacity: 0.7\"/>\n   </g>\n   <g id=\"matplotlib.axis_1\">\n    <g id=\"xtick_1\">\n     <g id=\"line2d_1\">\n      <path d=\"M 56.699329 327.59375 \nL 56.699329 22.5225 \n\" clip-path=\"url(#p9224a66954)\" style=\"fill: none; stroke: #b0b0b0; stroke-width: 0.8; stroke-linecap: square\"/>\n     </g>\n     <g id=\"line2d_2\">\n      <defs>\n       <path id=\"m611e8631be\" d=\"M 0 0 \nL 0 3.5 \n\" style=\"stroke: #000000; stroke-width: 0.8\"/>\n      </defs>\n      <g>\n       <use xlink:href=\"#m611e8631be\" x=\"56.699329\" y=\"327.59375\" style=\"stroke: #000000; stroke-width: 0.8\"/>\n      </g>\n     </g>\n     <g id=\"text_1\">\n      <!-- 0.0 -->\n      <g transform=\"translate(48.747766 342.192187) scale(0.1 -0.1)\">\n       <defs>\n        <path id=\"DejaVuSans-30\" d=\"M 2034 4250 \nQ 1547 4250 1301 3770 \nQ 1056 3291 1056 2328 \nQ 1056 1369 1301 889 \nQ 1547 409 2034 409 \nQ 2525 409 2770 889 \nQ 3016 1369 3016 2328 \nQ 3016 3291 2770 3770 \nQ 2525 4250 2034 4250 \nz\nM 2034 4750 \nQ 2819 4750 3233 4129 \nQ 3647 3509 3647 2328 \nQ 3647 1150 3233 529 \nQ 2819 -91 2034 -91 \nQ 1250 -91 836 529 \nQ 422 1150 422 2328 \nQ 422 3509 836 4129 \nQ 1250 4750 2034 4750 \nz\n\" transform=\"scale(0.015625)\"/>\n        <path id=\"DejaVuSans-2e\" d=\"M 684 794 \nL 1344 794 \nL 1344 0 \nL 684 0 \nL 684 794 \nz\n\" transform=\"scale(0.015625)\"/>\n       </defs>\n       <use xlink:href=\"#DejaVuSans-30\"/>\n       <use xlink:href=\"#DejaVuSans-2e\" x=\"63.623047\"/>\n       <use xlink:href=\"#DejaVuSans-30\" x=\"95.410156\"/>\n      </g>\n     </g>\n    </g>\n    <g id=\"xtick_2\">\n     <g id=\"line2d_3\">\n      <path d=\"M 131.577638 327.59375 \nL 131.577638 22.5225 \n\" clip-path=\"url(#p9224a66954)\" style=\"fill: none; stroke: #b0b0b0; stroke-width: 0.8; stroke-linecap: square\"/>\n     </g>\n     <g id=\"line2d_4\">\n      <g>\n       <use xlink:href=\"#m611e8631be\" x=\"131.577638\" y=\"327.59375\" style=\"stroke: #000000; stroke-width: 0.8\"/>\n      </g>\n     </g>\n     <g id=\"text_2\">\n      <!-- 0.5 -->\n      <g transform=\"translate(123.626076 342.192187) scale(0.1 -0.1)\">\n       <defs>\n        <path id=\"DejaVuSans-35\" d=\"M 691 4666 \nL 3169 4666 \nL 3169 4134 \nL 1269 4134 \nL 1269 2991 \nQ 1406 3038 1543 3061 \nQ 1681 3084 1819 3084 \nQ 2600 3084 3056 2656 \nQ 3513 2228 3513 1497 \nQ 3513 744 3044 326 \nQ 2575 -91 1722 -91 \nQ 1428 -91 1123 -41 \nQ 819 9 494 109 \nL 494 744 \nQ 775 591 1075 516 \nQ 1375 441 1709 441 \nQ 2250 441 2565 725 \nQ 2881 1009 2881 1497 \nQ 2881 1984 2565 2268 \nQ 2250 2553 1709 2553 \nQ 1456 2553 1204 2497 \nQ 953 2441 691 2322 \nL 691 4666 \nz\n\" transform=\"scale(0.015625)\"/>\n       </defs>\n       <use xlink:href=\"#DejaVuSans-30\"/>\n       <use xlink:href=\"#DejaVuSans-2e\" x=\"63.623047\"/>\n       <use xlink:href=\"#DejaVuSans-35\" x=\"95.410156\"/>\n      </g>\n     </g>\n    </g>\n    <g id=\"xtick_3\">\n     <g id=\"line2d_5\">\n      <path d=\"M 206.455948 327.59375 \nL 206.455948 22.5225 \n\" clip-path=\"url(#p9224a66954)\" style=\"fill: none; stroke: #b0b0b0; stroke-width: 0.8; stroke-linecap: square\"/>\n     </g>\n     <g id=\"line2d_6\">\n      <g>\n       <use xlink:href=\"#m611e8631be\" x=\"206.455948\" y=\"327.59375\" style=\"stroke: #000000; stroke-width: 0.8\"/>\n      </g>\n     </g>\n     <g id=\"text_3\">\n      <!-- 1.0 -->\n      <g transform=\"translate(198.504385 342.192187) scale(0.1 -0.1)\">\n       <defs>\n        <path id=\"DejaVuSans-31\" d=\"M 794 531 \nL 1825 531 \nL 1825 4091 \nL 703 3866 \nL 703 4441 \nL 1819 4666 \nL 2450 4666 \nL 2450 531 \nL 3481 531 \nL 3481 0 \nL 794 0 \nL 794 531 \nz\n\" transform=\"scale(0.015625)\"/>\n       </defs>\n       <use xlink:href=\"#DejaVuSans-31\"/>\n       <use xlink:href=\"#DejaVuSans-2e\" x=\"63.623047\"/>\n       <use xlink:href=\"#DejaVuSans-30\" x=\"95.410156\"/>\n      </g>\n     </g>\n    </g>\n    <g id=\"xtick_4\">\n     <g id=\"line2d_7\">\n      <path d=\"M 281.334257 327.59375 \nL 281.334257 22.5225 \n\" clip-path=\"url(#p9224a66954)\" style=\"fill: none; stroke: #b0b0b0; stroke-width: 0.8; stroke-linecap: square\"/>\n     </g>\n     <g id=\"line2d_8\">\n      <g>\n       <use xlink:href=\"#m611e8631be\" x=\"281.334257\" y=\"327.59375\" style=\"stroke: #000000; stroke-width: 0.8\"/>\n      </g>\n     </g>\n     <g id=\"text_4\">\n      <!-- 1.5 -->\n      <g transform=\"translate(273.382695 342.192187) scale(0.1 -0.1)\">\n       <use xlink:href=\"#DejaVuSans-31\"/>\n       <use xlink:href=\"#DejaVuSans-2e\" x=\"63.623047\"/>\n       <use xlink:href=\"#DejaVuSans-35\" x=\"95.410156\"/>\n      </g>\n     </g>\n    </g>\n    <g id=\"xtick_5\">\n     <g id=\"line2d_9\">\n      <path d=\"M 356.212566 327.59375 \nL 356.212566 22.5225 \n\" clip-path=\"url(#p9224a66954)\" style=\"fill: none; stroke: #b0b0b0; stroke-width: 0.8; stroke-linecap: square\"/>\n     </g>\n     <g id=\"line2d_10\">\n      <g>\n       <use xlink:href=\"#m611e8631be\" x=\"356.212566\" y=\"327.59375\" style=\"stroke: #000000; stroke-width: 0.8\"/>\n      </g>\n     </g>\n     <g id=\"text_5\">\n      <!-- 2.0 -->\n      <g transform=\"translate(348.261004 342.192187) scale(0.1 -0.1)\">\n       <defs>\n        <path id=\"DejaVuSans-32\" d=\"M 1228 531 \nL 3431 531 \nL 3431 0 \nL 469 0 \nL 469 531 \nQ 828 903 1448 1529 \nQ 2069 2156 2228 2338 \nQ 2531 2678 2651 2914 \nQ 2772 3150 2772 3378 \nQ 2772 3750 2511 3984 \nQ 2250 4219 1831 4219 \nQ 1534 4219 1204 4116 \nQ 875 4013 500 3803 \nL 500 4441 \nQ 881 4594 1212 4672 \nQ 1544 4750 1819 4750 \nQ 2544 4750 2975 4387 \nQ 3406 4025 3406 3419 \nQ 3406 3131 3298 2873 \nQ 3191 2616 2906 2266 \nQ 2828 2175 2409 1742 \nQ 1991 1309 1228 531 \nz\n\" transform=\"scale(0.015625)\"/>\n       </defs>\n       <use xlink:href=\"#DejaVuSans-32\"/>\n       <use xlink:href=\"#DejaVuSans-2e\" x=\"63.623047\"/>\n       <use xlink:href=\"#DejaVuSans-30\" x=\"95.410156\"/>\n      </g>\n     </g>\n    </g>\n    <g id=\"xtick_6\">\n     <g id=\"line2d_11\">\n      <path d=\"M 431.090876 327.59375 \nL 431.090876 22.5225 \n\" clip-path=\"url(#p9224a66954)\" style=\"fill: none; stroke: #b0b0b0; stroke-width: 0.8; stroke-linecap: square\"/>\n     </g>\n     <g id=\"line2d_12\">\n      <g>\n       <use xlink:href=\"#m611e8631be\" x=\"431.090876\" y=\"327.59375\" style=\"stroke: #000000; stroke-width: 0.8\"/>\n      </g>\n     </g>\n     <g id=\"text_6\">\n      <!-- 2.5 -->\n      <g transform=\"translate(423.139313 342.192187) scale(0.1 -0.1)\">\n       <use xlink:href=\"#DejaVuSans-32\"/>\n       <use xlink:href=\"#DejaVuSans-2e\" x=\"63.623047\"/>\n       <use xlink:href=\"#DejaVuSans-35\" x=\"95.410156\"/>\n      </g>\n     </g>\n    </g>\n    <g id=\"xtick_7\">\n     <g id=\"line2d_13\">\n      <path d=\"M 505.969185 327.59375 \nL 505.969185 22.5225 \n\" clip-path=\"url(#p9224a66954)\" style=\"fill: none; stroke: #b0b0b0; stroke-width: 0.8; stroke-linecap: square\"/>\n     </g>\n     <g id=\"line2d_14\">\n      <g>\n       <use xlink:href=\"#m611e8631be\" x=\"505.969185\" y=\"327.59375\" style=\"stroke: #000000; stroke-width: 0.8\"/>\n      </g>\n     </g>\n     <g id=\"text_7\">\n      <!-- 3.0 -->\n      <g transform=\"translate(498.017623 342.192187) scale(0.1 -0.1)\">\n       <defs>\n        <path id=\"DejaVuSans-33\" d=\"M 2597 2516 \nQ 3050 2419 3304 2112 \nQ 3559 1806 3559 1356 \nQ 3559 666 3084 287 \nQ 2609 -91 1734 -91 \nQ 1441 -91 1130 -33 \nQ 819 25 488 141 \nL 488 750 \nQ 750 597 1062 519 \nQ 1375 441 1716 441 \nQ 2309 441 2620 675 \nQ 2931 909 2931 1356 \nQ 2931 1769 2642 2001 \nQ 2353 2234 1838 2234 \nL 1294 2234 \nL 1294 2753 \nL 1863 2753 \nQ 2328 2753 2575 2939 \nQ 2822 3125 2822 3475 \nQ 2822 3834 2567 4026 \nQ 2313 4219 1838 4219 \nQ 1578 4219 1281 4162 \nQ 984 4106 628 3988 \nL 628 4550 \nQ 988 4650 1302 4700 \nQ 1616 4750 1894 4750 \nQ 2613 4750 3031 4423 \nQ 3450 4097 3450 3541 \nQ 3450 3153 3228 2886 \nQ 3006 2619 2597 2516 \nz\n\" transform=\"scale(0.015625)\"/>\n       </defs>\n       <use xlink:href=\"#DejaVuSans-33\"/>\n       <use xlink:href=\"#DejaVuSans-2e\" x=\"63.623047\"/>\n       <use xlink:href=\"#DejaVuSans-30\" x=\"95.410156\"/>\n      </g>\n     </g>\n    </g>\n    <g id=\"xtick_8\">\n     <g id=\"line2d_15\">\n      <path d=\"M 580.847495 327.59375 \nL 580.847495 22.5225 \n\" clip-path=\"url(#p9224a66954)\" style=\"fill: none; stroke: #b0b0b0; stroke-width: 0.8; stroke-linecap: square\"/>\n     </g>\n     <g id=\"line2d_16\">\n      <g>\n       <use xlink:href=\"#m611e8631be\" x=\"580.847495\" y=\"327.59375\" style=\"stroke: #000000; stroke-width: 0.8\"/>\n      </g>\n     </g>\n     <g id=\"text_8\">\n      <!-- 3.5 -->\n      <g transform=\"translate(572.895932 342.192187) scale(0.1 -0.1)\">\n       <use xlink:href=\"#DejaVuSans-33\"/>\n       <use xlink:href=\"#DejaVuSans-2e\" x=\"63.623047\"/>\n       <use xlink:href=\"#DejaVuSans-35\" x=\"95.410156\"/>\n      </g>\n     </g>\n    </g>\n    <g id=\"xtick_9\">\n     <g id=\"line2d_17\">\n      <path d=\"M 655.725804 327.59375 \nL 655.725804 22.5225 \n\" clip-path=\"url(#p9224a66954)\" style=\"fill: none; stroke: #b0b0b0; stroke-width: 0.8; stroke-linecap: square\"/>\n     </g>\n     <g id=\"line2d_18\">\n      <g>\n       <use xlink:href=\"#m611e8631be\" x=\"655.725804\" y=\"327.59375\" style=\"stroke: #000000; stroke-width: 0.8\"/>\n      </g>\n     </g>\n     <g id=\"text_9\">\n      <!-- 4.0 -->\n      <g transform=\"translate(647.774242 342.192187) scale(0.1 -0.1)\">\n       <defs>\n        <path id=\"DejaVuSans-34\" d=\"M 2419 4116 \nL 825 1625 \nL 2419 1625 \nL 2419 4116 \nz\nM 2253 4666 \nL 3047 4666 \nL 3047 1625 \nL 3713 1625 \nL 3713 1100 \nL 3047 1100 \nL 3047 0 \nL 2419 0 \nL 2419 1100 \nL 313 1100 \nL 313 1709 \nL 2253 4666 \nz\n\" transform=\"scale(0.015625)\"/>\n       </defs>\n       <use xlink:href=\"#DejaVuSans-34\"/>\n       <use xlink:href=\"#DejaVuSans-2e\" x=\"63.623047\"/>\n       <use xlink:href=\"#DejaVuSans-30\" x=\"95.410156\"/>\n      </g>\n     </g>\n    </g>\n   </g>\n   <g id=\"matplotlib.axis_2\">\n    <g id=\"ytick_1\">\n     <g id=\"line2d_19\">\n      <path d=\"M 36.465625 327.59375 \nL 705.725625 327.59375 \n\" clip-path=\"url(#p9224a66954)\" style=\"fill: none; stroke: #b0b0b0; stroke-width: 0.8; stroke-linecap: square\"/>\n     </g>\n     <g id=\"line2d_20\">\n      <defs>\n       <path id=\"m30a0189fce\" d=\"M 0 0 \nL -3.5 0 \n\" style=\"stroke: #000000; stroke-width: 0.8\"/>\n      </defs>\n      <g>\n       <use xlink:href=\"#m30a0189fce\" x=\"36.465625\" y=\"327.59375\" style=\"stroke: #000000; stroke-width: 0.8\"/>\n      </g>\n     </g>\n     <g id=\"text_10\">\n      <!-- 0.00 -->\n      <g transform=\"translate(7.2 331.392969) scale(0.1 -0.1)\">\n       <use xlink:href=\"#DejaVuSans-30\"/>\n       <use xlink:href=\"#DejaVuSans-2e\" x=\"63.623047\"/>\n       <use xlink:href=\"#DejaVuSans-30\" x=\"95.410156\"/>\n       <use xlink:href=\"#DejaVuSans-30\" x=\"159.033203\"/>\n      </g>\n     </g>\n    </g>\n    <g id=\"ytick_2\">\n     <g id=\"line2d_21\">\n      <path d=\"M 36.465625 281.144672 \nL 705.725625 281.144672 \n\" clip-path=\"url(#p9224a66954)\" style=\"fill: none; stroke: #b0b0b0; stroke-width: 0.8; stroke-linecap: square\"/>\n     </g>\n     <g id=\"line2d_22\">\n      <g>\n       <use xlink:href=\"#m30a0189fce\" x=\"36.465625\" y=\"281.144672\" style=\"stroke: #000000; stroke-width: 0.8\"/>\n      </g>\n     </g>\n     <g id=\"text_11\">\n      <!-- 0.05 -->\n      <g transform=\"translate(7.2 284.94389) scale(0.1 -0.1)\">\n       <use xlink:href=\"#DejaVuSans-30\"/>\n       <use xlink:href=\"#DejaVuSans-2e\" x=\"63.623047\"/>\n       <use xlink:href=\"#DejaVuSans-30\" x=\"95.410156\"/>\n       <use xlink:href=\"#DejaVuSans-35\" x=\"159.033203\"/>\n      </g>\n     </g>\n    </g>\n    <g id=\"ytick_3\">\n     <g id=\"line2d_23\">\n      <path d=\"M 36.465625 234.695593 \nL 705.725625 234.695593 \n\" clip-path=\"url(#p9224a66954)\" style=\"fill: none; stroke: #b0b0b0; stroke-width: 0.8; stroke-linecap: square\"/>\n     </g>\n     <g id=\"line2d_24\">\n      <g>\n       <use xlink:href=\"#m30a0189fce\" x=\"36.465625\" y=\"234.695593\" style=\"stroke: #000000; stroke-width: 0.8\"/>\n      </g>\n     </g>\n     <g id=\"text_12\">\n      <!-- 0.10 -->\n      <g transform=\"translate(7.2 238.494812) scale(0.1 -0.1)\">\n       <use xlink:href=\"#DejaVuSans-30\"/>\n       <use xlink:href=\"#DejaVuSans-2e\" x=\"63.623047\"/>\n       <use xlink:href=\"#DejaVuSans-31\" x=\"95.410156\"/>\n       <use xlink:href=\"#DejaVuSans-30\" x=\"159.033203\"/>\n      </g>\n     </g>\n    </g>\n    <g id=\"ytick_4\">\n     <g id=\"line2d_25\">\n      <path d=\"M 36.465625 188.246515 \nL 705.725625 188.246515 \n\" clip-path=\"url(#p9224a66954)\" style=\"fill: none; stroke: #b0b0b0; stroke-width: 0.8; stroke-linecap: square\"/>\n     </g>\n     <g id=\"line2d_26\">\n      <g>\n       <use xlink:href=\"#m30a0189fce\" x=\"36.465625\" y=\"188.246515\" style=\"stroke: #000000; stroke-width: 0.8\"/>\n      </g>\n     </g>\n     <g id=\"text_13\">\n      <!-- 0.15 -->\n      <g transform=\"translate(7.2 192.045734) scale(0.1 -0.1)\">\n       <use xlink:href=\"#DejaVuSans-30\"/>\n       <use xlink:href=\"#DejaVuSans-2e\" x=\"63.623047\"/>\n       <use xlink:href=\"#DejaVuSans-31\" x=\"95.410156\"/>\n       <use xlink:href=\"#DejaVuSans-35\" x=\"159.033203\"/>\n      </g>\n     </g>\n    </g>\n    <g id=\"ytick_5\">\n     <g id=\"line2d_27\">\n      <path d=\"M 36.465625 141.797437 \nL 705.725625 141.797437 \n\" clip-path=\"url(#p9224a66954)\" style=\"fill: none; stroke: #b0b0b0; stroke-width: 0.8; stroke-linecap: square\"/>\n     </g>\n     <g id=\"line2d_28\">\n      <g>\n       <use xlink:href=\"#m30a0189fce\" x=\"36.465625\" y=\"141.797437\" style=\"stroke: #000000; stroke-width: 0.8\"/>\n      </g>\n     </g>\n     <g id=\"text_14\">\n      <!-- 0.20 -->\n      <g transform=\"translate(7.2 145.596655) scale(0.1 -0.1)\">\n       <use xlink:href=\"#DejaVuSans-30\"/>\n       <use xlink:href=\"#DejaVuSans-2e\" x=\"63.623047\"/>\n       <use xlink:href=\"#DejaVuSans-32\" x=\"95.410156\"/>\n       <use xlink:href=\"#DejaVuSans-30\" x=\"159.033203\"/>\n      </g>\n     </g>\n    </g>\n    <g id=\"ytick_6\">\n     <g id=\"line2d_29\">\n      <path d=\"M 36.465625 95.348358 \nL 705.725625 95.348358 \n\" clip-path=\"url(#p9224a66954)\" style=\"fill: none; stroke: #b0b0b0; stroke-width: 0.8; stroke-linecap: square\"/>\n     </g>\n     <g id=\"line2d_30\">\n      <g>\n       <use xlink:href=\"#m30a0189fce\" x=\"36.465625\" y=\"95.348358\" style=\"stroke: #000000; stroke-width: 0.8\"/>\n      </g>\n     </g>\n     <g id=\"text_15\">\n      <!-- 0.25 -->\n      <g transform=\"translate(7.2 99.147577) scale(0.1 -0.1)\">\n       <use xlink:href=\"#DejaVuSans-30\"/>\n       <use xlink:href=\"#DejaVuSans-2e\" x=\"63.623047\"/>\n       <use xlink:href=\"#DejaVuSans-32\" x=\"95.410156\"/>\n       <use xlink:href=\"#DejaVuSans-35\" x=\"159.033203\"/>\n      </g>\n     </g>\n    </g>\n    <g id=\"ytick_7\">\n     <g id=\"line2d_31\">\n      <path d=\"M 36.465625 48.89928 \nL 705.725625 48.89928 \n\" clip-path=\"url(#p9224a66954)\" style=\"fill: none; stroke: #b0b0b0; stroke-width: 0.8; stroke-linecap: square\"/>\n     </g>\n     <g id=\"line2d_32\">\n      <g>\n       <use xlink:href=\"#m30a0189fce\" x=\"36.465625\" y=\"48.89928\" style=\"stroke: #000000; stroke-width: 0.8\"/>\n      </g>\n     </g>\n     <g id=\"text_16\">\n      <!-- 0.30 -->\n      <g transform=\"translate(7.2 52.698499) scale(0.1 -0.1)\">\n       <use xlink:href=\"#DejaVuSans-30\"/>\n       <use xlink:href=\"#DejaVuSans-2e\" x=\"63.623047\"/>\n       <use xlink:href=\"#DejaVuSans-33\" x=\"95.410156\"/>\n       <use xlink:href=\"#DejaVuSans-30\" x=\"159.033203\"/>\n      </g>\n     </g>\n    </g>\n   </g>\n   <g id=\"patch_143\">\n    <path d=\"M 36.465625 327.59375 \nL 36.465625 22.5225 \n\" style=\"fill: none; stroke: #000000; stroke-width: 0.8; stroke-linejoin: miter; stroke-linecap: square\"/>\n   </g>\n   <g id=\"patch_144\">\n    <path d=\"M 705.725625 327.59375 \nL 705.725625 22.5225 \n\" style=\"fill: none; stroke: #000000; stroke-width: 0.8; stroke-linejoin: miter; stroke-linecap: square\"/>\n   </g>\n   <g id=\"patch_145\">\n    <path d=\"M 36.465625 327.59375 \nL 705.725625 327.59375 \n\" style=\"fill: none; stroke: #000000; stroke-width: 0.8; stroke-linejoin: miter; stroke-linecap: square\"/>\n   </g>\n   <g id=\"patch_146\">\n    <path d=\"M 36.465625 22.5225 \nL 705.725625 22.5225 \n\" style=\"fill: none; stroke: #000000; stroke-width: 0.8; stroke-linejoin: miter; stroke-linecap: square\"/>\n   </g>\n   <g id=\"text_17\">\n    <!-- Распределение логарифмов платежей по разным уровням образования -->\n    <g transform=\"translate(141.785 16.5225) scale(0.12 -0.12)\">\n     <defs>\n      <path id=\"DejaVuSans-420\" d=\"M 1259 4147 \nL 1259 2394 \nL 2053 2394 \nQ 2494 2394 2734 2622 \nQ 2975 2850 2975 3272 \nQ 2975 3691 2734 3919 \nQ 2494 4147 2053 4147 \nL 1259 4147 \nz\nM 628 4666 \nL 2053 4666 \nQ 2838 4666 3239 4311 \nQ 3641 3956 3641 3272 \nQ 3641 2581 3239 2228 \nQ 2838 1875 2053 1875 \nL 1259 1875 \nL 1259 0 \nL 628 0 \nL 628 4666 \nz\n\" transform=\"scale(0.015625)\"/>\n      <path id=\"DejaVuSans-430\" d=\"M 2194 1759 \nQ 1497 1759 1228 1600 \nQ 959 1441 959 1056 \nQ 959 750 1161 570 \nQ 1363 391 1709 391 \nQ 2188 391 2477 730 \nQ 2766 1069 2766 1631 \nL 2766 1759 \nL 2194 1759 \nz\nM 3341 1997 \nL 3341 0 \nL 2766 0 \nL 2766 531 \nQ 2569 213 2275 61 \nQ 1981 -91 1556 -91 \nQ 1019 -91 701 211 \nQ 384 513 384 1019 \nQ 384 1609 779 1909 \nQ 1175 2209 1959 2209 \nL 2766 2209 \nL 2766 2266 \nQ 2766 2663 2505 2880 \nQ 2244 3097 1772 3097 \nQ 1472 3097 1187 3025 \nQ 903 2953 641 2809 \nL 641 3341 \nQ 956 3463 1253 3523 \nQ 1550 3584 1831 3584 \nQ 2591 3584 2966 3190 \nQ 3341 2797 3341 1997 \nz\n\" transform=\"scale(0.015625)\"/>\n      <path id=\"DejaVuSans-441\" d=\"M 3122 3366 \nL 3122 2828 \nQ 2878 2963 2633 3030 \nQ 2388 3097 2138 3097 \nQ 1578 3097 1268 2742 \nQ 959 2388 959 1747 \nQ 959 1106 1268 751 \nQ 1578 397 2138 397 \nQ 2388 397 2633 464 \nQ 2878 531 3122 666 \nL 3122 134 \nQ 2881 22 2623 -34 \nQ 2366 -91 2075 -91 \nQ 1284 -91 818 406 \nQ 353 903 353 1747 \nQ 353 2603 823 3093 \nQ 1294 3584 2113 3584 \nQ 2378 3584 2631 3529 \nQ 2884 3475 3122 3366 \nz\n\" transform=\"scale(0.015625)\"/>\n      <path id=\"DejaVuSans-43f\" d=\"M 3603 3500 \nL 3603 0 \nL 3025 0 \nL 3025 3041 \nL 1159 3041 \nL 1159 0 \nL 581 0 \nL 581 3500 \nL 3603 3500 \nz\n\" transform=\"scale(0.015625)\"/>\n      <path id=\"DejaVuSans-440\" d=\"M 1159 525 \nL 1159 -1331 \nL 581 -1331 \nL 581 3500 \nL 1159 3500 \nL 1159 2969 \nQ 1341 3281 1617 3432 \nQ 1894 3584 2278 3584 \nQ 2916 3584 3314 3078 \nQ 3713 2572 3713 1747 \nQ 3713 922 3314 415 \nQ 2916 -91 2278 -91 \nQ 1894 -91 1617 61 \nQ 1341 213 1159 525 \nz\nM 3116 1747 \nQ 3116 2381 2855 2742 \nQ 2594 3103 2138 3103 \nQ 1681 3103 1420 2742 \nQ 1159 2381 1159 1747 \nQ 1159 1113 1420 752 \nQ 1681 391 2138 391 \nQ 2594 391 2855 752 \nQ 3116 1113 3116 1747 \nz\n\" transform=\"scale(0.015625)\"/>\n      <path id=\"DejaVuSans-435\" d=\"M 3597 1894 \nL 3597 1613 \nL 953 1613 \nQ 991 1019 1311 708 \nQ 1631 397 2203 397 \nQ 2534 397 2845 478 \nQ 3156 559 3463 722 \nL 3463 178 \nQ 3153 47 2828 -22 \nQ 2503 -91 2169 -91 \nQ 1331 -91 842 396 \nQ 353 884 353 1716 \nQ 353 2575 817 3079 \nQ 1281 3584 2069 3584 \nQ 2775 3584 3186 3129 \nQ 3597 2675 3597 1894 \nz\nM 3022 2063 \nQ 3016 2534 2758 2815 \nQ 2500 3097 2075 3097 \nQ 1594 3097 1305 2825 \nQ 1016 2553 972 2059 \nL 3022 2063 \nz\n\" transform=\"scale(0.015625)\"/>\n      <path id=\"DejaVuSans-434\" d=\"M 1384 459 \nL 3053 459 \nL 3053 3041 \nL 1844 3041 \nL 1844 2603 \nQ 1844 1316 1475 628 \nL 1384 459 \nz\nM 550 459 \nQ 834 584 959 850 \nQ 1266 1509 1266 2838 \nL 1266 3500 \nL 3631 3500 \nL 3631 459 \nL 4091 459 \nL 4091 -884 \nL 3631 -884 \nL 3631 0 \nL 794 0 \nL 794 -884 \nL 334 -884 \nL 334 459 \nL 550 459 \nz\n\" transform=\"scale(0.015625)\"/>\n      <path id=\"DejaVuSans-43b\" d=\"M 238 0 \nL 238 478 \nQ 806 566 981 959 \nQ 1194 1513 1194 2928 \nL 1194 3500 \nL 3559 3500 \nL 3559 0 \nL 2984 0 \nL 2984 3041 \nL 1769 3041 \nL 1769 2694 \nQ 1769 1344 1494 738 \nQ 1200 91 238 0 \nz\n\" transform=\"scale(0.015625)\"/>\n      <path id=\"DejaVuSans-43d\" d=\"M 581 3500 \nL 1159 3500 \nL 1159 2072 \nL 3025 2072 \nL 3025 3500 \nL 3603 3500 \nL 3603 0 \nL 3025 0 \nL 3025 1613 \nL 1159 1613 \nL 1159 0 \nL 581 0 \nL 581 3500 \nz\n\" transform=\"scale(0.015625)\"/>\n      <path id=\"DejaVuSans-438\" d=\"M 3578 3500 \nL 3578 0 \nL 3006 0 \nL 3006 2809 \nL 1319 0 \nL 581 0 \nL 581 3500 \nL 1153 3500 \nL 1153 697 \nL 2838 3500 \nL 3578 3500 \nz\n\" transform=\"scale(0.015625)\"/>\n      <path id=\"DejaVuSans-20\" transform=\"scale(0.015625)\"/>\n      <path id=\"DejaVuSans-43e\" d=\"M 1959 3097 \nQ 1497 3097 1228 2736 \nQ 959 2375 959 1747 \nQ 959 1119 1226 758 \nQ 1494 397 1959 397 \nQ 2419 397 2687 759 \nQ 2956 1122 2956 1747 \nQ 2956 2369 2687 2733 \nQ 2419 3097 1959 3097 \nz\nM 1959 3584 \nQ 2709 3584 3137 3096 \nQ 3566 2609 3566 1747 \nQ 3566 888 3137 398 \nQ 2709 -91 1959 -91 \nQ 1206 -91 779 398 \nQ 353 888 353 1747 \nQ 353 2609 779 3096 \nQ 1206 3584 1959 3584 \nz\n\" transform=\"scale(0.015625)\"/>\n      <path id=\"DejaVuSans-433\" d=\"M 581 0 \nL 581 3500 \nL 3050 3500 \nL 3050 3041 \nL 1159 3041 \nL 1159 0 \nL 581 0 \nz\n\" transform=\"scale(0.015625)\"/>\n      <path id=\"DejaVuSans-444\" d=\"M 947 1747 \nQ 947 1013 1173 702 \nQ 1400 391 1784 391 \nQ 2091 391 2447 916 \nL 2447 2578 \nQ 2091 3103 1784 3103 \nQ 1400 3103 1173 2792 \nQ 947 2481 947 1747 \nz\nM 2447 -1331 \nL 2447 447 \nQ 2269 153 2064 31 \nQ 1859 -91 1600 -91 \nQ 1078 -91 714 392 \nQ 350 875 350 1734 \nQ 350 2594 714 3089 \nQ 1078 3584 1600 3584 \nQ 1859 3584 2064 3465 \nQ 2269 3347 2447 3053 \nL 2447 4666 \nL 3025 4666 \nL 3025 3053 \nQ 3203 3347 3408 3465 \nQ 3613 3584 3872 3584 \nQ 4394 3584 4758 3089 \nQ 5122 2594 5122 1734 \nQ 5122 875 4758 392 \nQ 4394 -91 3872 -91 \nQ 3613 -91 3408 31 \nQ 3203 153 3025 447 \nL 3025 -1331 \nL 2447 -1331 \nz\nM 4525 1747 \nQ 4525 2481 4298 2792 \nQ 4072 3103 3688 3103 \nQ 3381 3103 3025 2578 \nL 3025 916 \nQ 3381 391 3688 391 \nQ 4072 391 4298 702 \nQ 4525 1013 4525 1747 \nz\n\" transform=\"scale(0.015625)\"/>\n      <path id=\"DejaVuSans-43c\" d=\"M 581 3500 \nL 1422 3500 \nL 2416 1156 \nL 3413 3500 \nL 4247 3500 \nL 4247 0 \nL 3669 0 \nL 3669 2950 \nL 2703 672 \nL 2128 672 \nL 1159 2950 \nL 1159 0 \nL 581 0 \nL 581 3500 \nz\n\" transform=\"scale(0.015625)\"/>\n      <path id=\"DejaVuSans-432\" d=\"M 1156 1613 \nL 1156 459 \nL 1975 459 \nQ 2369 459 2575 607 \nQ 2781 756 2781 1038 \nQ 2781 1319 2575 1466 \nQ 2369 1613 1975 1613 \nL 1156 1613 \nz\nM 1156 3041 \nL 1156 2072 \nL 1913 2072 \nQ 2238 2072 2444 2201 \nQ 2650 2331 2650 2563 \nQ 2650 2794 2444 2917 \nQ 2238 3041 1913 3041 \nL 1156 3041 \nz\nM 581 3500 \nL 1950 3500 \nQ 2566 3500 2897 3275 \nQ 3228 3050 3228 2634 \nQ 3228 2313 3059 2123 \nQ 2891 1934 2559 1888 \nQ 2956 1813 3175 1575 \nQ 3394 1338 3394 981 \nQ 3394 513 3033 256 \nQ 2672 0 2003 0 \nL 581 0 \nL 581 3500 \nz\n\" transform=\"scale(0.015625)\"/>\n      <path id=\"DejaVuSans-442\" d=\"M 188 3500 \nL 3541 3500 \nL 3541 3041 \nL 2147 3041 \nL 2147 0 \nL 1581 0 \nL 1581 3041 \nL 188 3041 \nL 188 3500 \nz\n\" transform=\"scale(0.015625)\"/>\n      <path id=\"DejaVuSans-436\" d=\"M 2597 3500 \nL 3169 3500 \nL 3169 1856 \nL 4697 3500 \nL 5366 3500 \nL 4109 2153 \nL 5547 0 \nL 4931 0 \nL 3753 1769 \nL 3169 1141 \nL 3169 0 \nL 2597 0 \nL 2597 1141 \nL 2013 1769 \nL 834 0 \nL 219 0 \nL 1656 2153 \nL 400 3500 \nL 1069 3500 \nL 2597 1856 \nL 2597 3500 \nz\n\" transform=\"scale(0.015625)\"/>\n      <path id=\"DejaVuSans-439\" d=\"M 3578 3500 \nL 3578 0 \nL 3006 0 \nL 3006 2809 \nL 1319 0 \nL 581 0 \nL 581 3500 \nL 1153 3500 \nL 1153 697 \nL 2838 3500 \nL 3578 3500 \nz\nM 1102 4833 \nL 1471 4833 \nQ 1505 4599 1656 4481 \nQ 1808 4364 2080 4364 \nQ 2349 4364 2499 4480 \nQ 2649 4596 2689 4833 \nL 3058 4833 \nQ 3027 4386 2780 4161 \nQ 2533 3936 2080 3936 \nQ 1627 3936 1380 4161 \nQ 1133 4386 1102 4833 \nz\n\" transform=\"scale(0.015625)\"/>\n      <path id=\"DejaVuSans-437\" d=\"M 2206 1888 \nQ 2594 1813 2809 1584 \nQ 3025 1356 3025 1019 \nQ 3025 478 2622 193 \nQ 2219 -91 1475 -91 \nQ 1225 -91 961 -47 \nQ 697 -3 416 84 \nL 416 619 \nQ 638 503 903 445 \nQ 1169 388 1459 388 \nQ 1931 388 2195 563 \nQ 2459 738 2459 1019 \nQ 2459 1294 2225 1461 \nQ 1991 1628 1563 1628 \nL 1100 1628 \nL 1100 2103 \nL 1584 2103 \nQ 1947 2103 2158 2242 \nQ 2369 2381 2369 2600 \nQ 2369 2800 2151 2944 \nQ 1934 3088 1563 3088 \nQ 1341 3088 1089 3047 \nQ 838 3006 534 2916 \nL 534 3438 \nQ 841 3513 1106 3550 \nQ 1372 3588 1609 3588 \nQ 2222 3588 2576 3342 \nQ 2931 3097 2931 2656 \nQ 2931 2366 2743 2164 \nQ 2556 1963 2206 1888 \nz\n\" transform=\"scale(0.015625)\"/>\n      <path id=\"DejaVuSans-44b\" d=\"M 3907 3500 \nL 4482 3500 \nL 4482 0 \nL 3907 0 \nL 3907 3500 \nz\nM 4195 3584 \nL 4195 3584 \nz\nM 2781 1038 \nQ 2781 1319 2576 1466 \nQ 2372 1613 1978 1613 \nL 1159 1613 \nL 1159 459 \nL 1978 459 \nQ 2372 459 2576 607 \nQ 2781 756 2781 1038 \nz\nM 581 3500 \nL 1159 3500 \nL 1159 2072 \nL 2003 2072 \nQ 2672 2072 3033 1817 \nQ 3394 1563 3394 1038 \nQ 3394 513 3033 256 \nQ 2672 0 2003 0 \nL 581 0 \nL 581 3500 \nz\n\" transform=\"scale(0.015625)\"/>\n      <path id=\"DejaVuSans-443\" d=\"M 2059 -325 \nQ 1816 -950 1584 -1140 \nQ 1353 -1331 966 -1331 \nL 506 -1331 \nL 506 -850 \nL 844 -850 \nQ 1081 -850 1212 -737 \nQ 1344 -625 1503 -206 \nL 1606 56 \nL 191 3500 \nL 800 3500 \nL 1894 763 \nL 2988 3500 \nL 3597 3500 \nL 2059 -325 \nz\n\" transform=\"scale(0.015625)\"/>\n      <path id=\"DejaVuSans-44f\" d=\"M 1181 2491 \nQ 1181 2231 1381 2084 \nQ 1581 1938 1953 1938 \nL 2728 1938 \nL 2728 3041 \nL 1953 3041 \nQ 1581 3041 1381 2897 \nQ 1181 2753 1181 2491 \nz\nM 363 0 \nL 1431 1534 \nQ 1069 1616 828 1830 \nQ 588 2044 588 2491 \nQ 588 2997 923 3248 \nQ 1259 3500 1938 3500 \nL 3306 3500 \nL 3306 0 \nL 2728 0 \nL 2728 1478 \nL 2013 1478 \nL 981 0 \nL 363 0 \nz\n\" transform=\"scale(0.015625)\"/>\n      <path id=\"DejaVuSans-431\" d=\"M 1991 3584 \nQ 2741 3584 3169 3096 \nQ 3597 2609 3597 1747 \nQ 3597 888 3169 398 \nQ 2741 -91 1991 -91 \nQ 1238 -91 822 384 \nQ 406 859 384 1747 \nL 366 2463 \nQ 350 2834 350 2963 \nQ 350 3463 531 3831 \nQ 816 4409 1308 4659 \nQ 1800 4909 2625 4916 \nQ 3006 4919 3175 4972 \nL 3334 4516 \nQ 3181 4453 3041 4450 \nL 2259 4397 \nQ 1866 4369 1628 4231 \nQ 1006 3866 947 3388 \nL 925 3213 \nQ 1331 3584 1991 3584 \nz\nM 1991 3097 \nQ 1528 3097 1259 2736 \nQ 991 2375 991 1747 \nQ 991 1119 1258 758 \nQ 1525 397 1991 397 \nQ 2450 397 2719 759 \nQ 2988 1122 2988 1747 \nQ 2988 2369 2719 2733 \nQ 2450 3097 1991 3097 \nz\n\" transform=\"scale(0.015625)\"/>\n     </defs>\n     <use xlink:href=\"#DejaVuSans-420\"/>\n     <use xlink:href=\"#DejaVuSans-430\" x=\"60.302734\"/>\n     <use xlink:href=\"#DejaVuSans-441\" x=\"121.582031\"/>\n     <use xlink:href=\"#DejaVuSans-43f\" x=\"176.5625\"/>\n     <use xlink:href=\"#DejaVuSans-440\" x=\"241.943359\"/>\n     <use xlink:href=\"#DejaVuSans-435\" x=\"305.419922\"/>\n     <use xlink:href=\"#DejaVuSans-434\" x=\"366.943359\"/>\n     <use xlink:href=\"#DejaVuSans-435\" x=\"436.083984\"/>\n     <use xlink:href=\"#DejaVuSans-43b\" x=\"497.607422\"/>\n     <use xlink:href=\"#DejaVuSans-435\" x=\"561.523438\"/>\n     <use xlink:href=\"#DejaVuSans-43d\" x=\"623.046875\"/>\n     <use xlink:href=\"#DejaVuSans-438\" x=\"688.427734\"/>\n     <use xlink:href=\"#DejaVuSans-435\" x=\"753.417969\"/>\n     <use xlink:href=\"#DejaVuSans-20\" x=\"814.941406\"/>\n     <use xlink:href=\"#DejaVuSans-43b\" x=\"846.728516\"/>\n     <use xlink:href=\"#DejaVuSans-43e\" x=\"910.644531\"/>\n     <use xlink:href=\"#DejaVuSans-433\" x=\"971.826172\"/>\n     <use xlink:href=\"#DejaVuSans-430\" x=\"1024.365234\"/>\n     <use xlink:href=\"#DejaVuSans-440\" x=\"1085.644531\"/>\n     <use xlink:href=\"#DejaVuSans-438\" x=\"1149.121094\"/>\n     <use xlink:href=\"#DejaVuSans-444\" x=\"1214.111328\"/>\n     <use xlink:href=\"#DejaVuSans-43c\" x=\"1299.609375\"/>\n     <use xlink:href=\"#DejaVuSans-43e\" x=\"1375.048828\"/>\n     <use xlink:href=\"#DejaVuSans-432\" x=\"1436.230469\"/>\n     <use xlink:href=\"#DejaVuSans-20\" x=\"1495.166016\"/>\n     <use xlink:href=\"#DejaVuSans-43f\" x=\"1526.953125\"/>\n     <use xlink:href=\"#DejaVuSans-43b\" x=\"1592.333984\"/>\n     <use xlink:href=\"#DejaVuSans-430\" x=\"1656.25\"/>\n     <use xlink:href=\"#DejaVuSans-442\" x=\"1717.529297\"/>\n     <use xlink:href=\"#DejaVuSans-435\" x=\"1775.78125\"/>\n     <use xlink:href=\"#DejaVuSans-436\" x=\"1837.304688\"/>\n     <use xlink:href=\"#DejaVuSans-435\" x=\"1927.392578\"/>\n     <use xlink:href=\"#DejaVuSans-439\" x=\"1988.916016\"/>\n     <use xlink:href=\"#DejaVuSans-20\" x=\"2053.90625\"/>\n     <use xlink:href=\"#DejaVuSans-43f\" x=\"2085.693359\"/>\n     <use xlink:href=\"#DejaVuSans-43e\" x=\"2151.074219\"/>\n     <use xlink:href=\"#DejaVuSans-20\" x=\"2212.255859\"/>\n     <use xlink:href=\"#DejaVuSans-440\" x=\"2244.042969\"/>\n     <use xlink:href=\"#DejaVuSans-430\" x=\"2307.519531\"/>\n     <use xlink:href=\"#DejaVuSans-437\" x=\"2368.798828\"/>\n     <use xlink:href=\"#DejaVuSans-43d\" x=\"2421.972656\"/>\n     <use xlink:href=\"#DejaVuSans-44b\" x=\"2487.353516\"/>\n     <use xlink:href=\"#DejaVuSans-43c\" x=\"2566.308594\"/>\n     <use xlink:href=\"#DejaVuSans-20\" x=\"2641.748047\"/>\n     <use xlink:href=\"#DejaVuSans-443\" x=\"2673.535156\"/>\n     <use xlink:href=\"#DejaVuSans-440\" x=\"2732.714844\"/>\n     <use xlink:href=\"#DejaVuSans-43e\" x=\"2796.191406\"/>\n     <use xlink:href=\"#DejaVuSans-432\" x=\"2857.373047\"/>\n     <use xlink:href=\"#DejaVuSans-43d\" x=\"2916.308594\"/>\n     <use xlink:href=\"#DejaVuSans-44f\" x=\"2981.689453\"/>\n     <use xlink:href=\"#DejaVuSans-43c\" x=\"3041.845703\"/>\n     <use xlink:href=\"#DejaVuSans-20\" x=\"3117.285156\"/>\n     <use xlink:href=\"#DejaVuSans-43e\" x=\"3149.072266\"/>\n     <use xlink:href=\"#DejaVuSans-431\" x=\"3210.253906\"/>\n     <use xlink:href=\"#DejaVuSans-440\" x=\"3271.923828\"/>\n     <use xlink:href=\"#DejaVuSans-430\" x=\"3335.400391\"/>\n     <use xlink:href=\"#DejaVuSans-437\" x=\"3396.679688\"/>\n     <use xlink:href=\"#DejaVuSans-43e\" x=\"3449.853516\"/>\n     <use xlink:href=\"#DejaVuSans-432\" x=\"3511.035156\"/>\n     <use xlink:href=\"#DejaVuSans-430\" x=\"3569.970703\"/>\n     <use xlink:href=\"#DejaVuSans-43d\" x=\"3631.25\"/>\n     <use xlink:href=\"#DejaVuSans-438\" x=\"3696.630859\"/>\n     <use xlink:href=\"#DejaVuSans-44f\" x=\"3761.621094\"/>\n    </g>\n   </g>\n   <g id=\"legend_1\">\n    <g id=\"patch_147\">\n     <path d=\"M 660.363125 133.269375 \nL 698.725625 133.269375 \nQ 700.725625 133.269375 700.725625 131.269375 \nL 700.725625 29.5225 \nQ 700.725625 27.5225 698.725625 27.5225 \nL 660.363125 27.5225 \nQ 658.363125 27.5225 658.363125 29.5225 \nL 658.363125 131.269375 \nQ 658.363125 133.269375 660.363125 133.269375 \nz\n\" style=\"fill: #ffffff; opacity: 0.8; stroke: #cccccc; stroke-linejoin: miter\"/>\n    </g>\n    <g id=\"patch_148\">\n     <path d=\"M 662.363125 39.120937 \nL 682.363125 39.120937 \nL 682.363125 32.120937 \nL 662.363125 32.120937 \nz\n\" style=\"fill: #1f77b4; opacity: 0.7\"/>\n    </g>\n    <g id=\"text_18\">\n     <!-- 0 -->\n     <g transform=\"translate(690.363125 39.120937) scale(0.1 -0.1)\">\n      <use xlink:href=\"#DejaVuSans-30\"/>\n     </g>\n    </g>\n    <g id=\"patch_149\">\n     <path d=\"M 662.363125 53.799062 \nL 682.363125 53.799062 \nL 682.363125 46.799062 \nL 662.363125 46.799062 \nz\n\" style=\"fill: #ff7f0e; opacity: 0.7\"/>\n    </g>\n    <g id=\"text_19\">\n     <!-- 1 -->\n     <g transform=\"translate(690.363125 53.799062) scale(0.1 -0.1)\">\n      <use xlink:href=\"#DejaVuSans-31\"/>\n     </g>\n    </g>\n    <g id=\"patch_150\">\n     <path d=\"M 662.363125 68.477187 \nL 682.363125 68.477187 \nL 682.363125 61.477187 \nL 662.363125 61.477187 \nz\n\" style=\"fill: #2ca02c; opacity: 0.7\"/>\n    </g>\n    <g id=\"text_20\">\n     <!-- 2 -->\n     <g transform=\"translate(690.363125 68.477187) scale(0.1 -0.1)\">\n      <use xlink:href=\"#DejaVuSans-32\"/>\n     </g>\n    </g>\n    <g id=\"patch_151\">\n     <path d=\"M 662.363125 83.155312 \nL 682.363125 83.155312 \nL 682.363125 76.155312 \nL 662.363125 76.155312 \nz\n\" style=\"fill: #d62728; opacity: 0.7\"/>\n    </g>\n    <g id=\"text_21\">\n     <!-- 3 -->\n     <g transform=\"translate(690.363125 83.155312) scale(0.1 -0.1)\">\n      <use xlink:href=\"#DejaVuSans-33\"/>\n     </g>\n    </g>\n    <g id=\"patch_152\">\n     <path d=\"M 662.363125 97.833437 \nL 682.363125 97.833437 \nL 682.363125 90.833437 \nL 662.363125 90.833437 \nz\n\" style=\"fill: #9467bd; opacity: 0.7\"/>\n    </g>\n    <g id=\"text_22\">\n     <!-- 4 -->\n     <g transform=\"translate(690.363125 97.833437) scale(0.1 -0.1)\">\n      <use xlink:href=\"#DejaVuSans-34\"/>\n     </g>\n    </g>\n    <g id=\"patch_153\">\n     <path d=\"M 662.363125 112.511562 \nL 682.363125 112.511562 \nL 682.363125 105.511562 \nL 662.363125 105.511562 \nz\n\" style=\"fill: #8c564b; opacity: 0.7\"/>\n    </g>\n    <g id=\"text_23\">\n     <!-- 5 -->\n     <g transform=\"translate(690.363125 112.511562) scale(0.1 -0.1)\">\n      <use xlink:href=\"#DejaVuSans-35\"/>\n     </g>\n    </g>\n    <g id=\"patch_154\">\n     <path d=\"M 662.363125 127.189687 \nL 682.363125 127.189687 \nL 682.363125 120.189687 \nL 662.363125 120.189687 \nz\n\" style=\"fill: #e377c2; opacity: 0.7\"/>\n    </g>\n    <g id=\"text_24\">\n     <!-- 6 -->\n     <g transform=\"translate(690.363125 127.189687) scale(0.1 -0.1)\">\n      <defs>\n       <path id=\"DejaVuSans-36\" d=\"M 2113 2584 \nQ 1688 2584 1439 2293 \nQ 1191 2003 1191 1497 \nQ 1191 994 1439 701 \nQ 1688 409 2113 409 \nQ 2538 409 2786 701 \nQ 3034 994 3034 1497 \nQ 3034 2003 2786 2293 \nQ 2538 2584 2113 2584 \nz\nM 3366 4563 \nL 3366 3988 \nQ 3128 4100 2886 4159 \nQ 2644 4219 2406 4219 \nQ 1781 4219 1451 3797 \nQ 1122 3375 1075 2522 \nQ 1259 2794 1537 2939 \nQ 1816 3084 2150 3084 \nQ 2853 3084 3261 2657 \nQ 3669 2231 3669 1497 \nQ 3669 778 3244 343 \nQ 2819 -91 2113 -91 \nQ 1303 -91 875 529 \nQ 447 1150 447 2328 \nQ 447 3434 972 4092 \nQ 1497 4750 2381 4750 \nQ 2619 4750 2861 4703 \nQ 3103 4656 3366 4563 \nz\n\" transform=\"scale(0.015625)\"/>\n      </defs>\n      <use xlink:href=\"#DejaVuSans-36\"/>\n     </g>\n    </g>\n   </g>\n  </g>\n </g>\n <defs>\n  <clipPath id=\"p9224a66954\">\n   <rect x=\"36.465625\" y=\"22.5225\" width=\"669.26\" height=\"305.07125\"/>\n  </clipPath>\n </defs>\n</svg>\n",
      "text/plain": [
       "<Figure size 1000x500 with 1 Axes>"
      ]
     },
     "metadata": {},
     "output_type": "display_data"
    }
   ],
   "source": [
    "fig, ax = plt.subplots(1, 1, figsize=(10, 5))\n",
    "\n",
    "ed_levels = data.select('EDUCATION').distinct().collect()\n",
    "for ed_level, color in zip(sorted(ed_levels), plt.cm.tab10.colors):\n",
    "    buckets, histogram = (\n",
    "        data\n",
    "            .filter(\n",
    "                (data.EDUCATION == ed_level.EDUCATION) & (data.PAY_AMT1 > 0)\n",
    "            )\n",
    "            .select(F.log10('PAY_AMT1').alias('log_PAY_AMT1'))\n",
    "            .rdd\n",
    "            .map(lambda x: x.log_PAY_AMT1)\n",
    "            .histogram(20)\n",
    "    )\n",
    "    buckets = np.array(buckets)\n",
    "    histogram = np.array(histogram)\n",
    "    \n",
    "    buckets = (buckets[:-1] + buckets[1]) / 2\n",
    "    histogram = histogram / np.sum(histogram)\n",
    "\n",
    "    ax.bar(buckets, histogram, width=(buckets[1] - buckets[0]), label=ed_level.EDUCATION, alpha=0.7, color=color)\n",
    "\n",
    "ax.set_title('Распределение логарифмов платежей по разным уровням образования')\n",
    "ax.legend()\n",
    "ax.grid(True)\n",
    "\n",
    "fig.tight_layout()\n",
    "plt.show()"
   ]
  },
  {
   "attachments": {},
   "cell_type": "markdown",
   "metadata": {},
   "source": [
    "### `Предобработка данных и обучение модели`"
   ]
  },
  {
   "cell_type": "code",
   "execution_count": 15,
   "metadata": {},
   "outputs": [],
   "source": [
    "data = data.drop('ID')\n",
    "data_train, data_test = data.randomSplit([0.7, 0.3], seed=6417)"
   ]
  },
  {
   "cell_type": "code",
   "execution_count": 16,
   "metadata": {},
   "outputs": [],
   "source": [
    "from pyspark.ml import Pipeline\n",
    "\n",
    "from pyspark.ml.feature import VectorAssembler, OneHotEncoder, StandardScaler\n",
    "\n",
    "from pyspark.ml.regression import LinearRegression\n",
    "from pyspark.ml.classification import LogisticRegression, RandomForestClassifier"
   ]
  },
  {
   "cell_type": "code",
   "execution_count": 17,
   "metadata": {},
   "outputs": [],
   "source": [
    "label_column = 'IS_DEFAULT'\n",
    "feature_columns = [_ for _ in data.columns if _ != label_column]"
   ]
  },
  {
   "cell_type": "code",
   "execution_count": 18,
   "metadata": {},
   "outputs": [
    {
     "data": {
      "text/plain": [
       "(VectorAssembler_deebfedf5d33,\n",
       " StandardScaler_af5122274ad6,\n",
       " LogisticRegression_7e579453b30f,\n",
       " Pipeline_74a40c70473c)"
      ]
     },
     "execution_count": 18,
     "metadata": {},
     "output_type": "execute_result"
    }
   ],
   "source": [
    "assembler = VectorAssembler(inputCols=feature_columns, outputCol='features')\n",
    "scaler = StandardScaler(inputCol='features', outputCol='features_scaled', withMean=True, withStd=True)\n",
    "logistic_regressor = LogisticRegression(featuresCol='features_scaled', labelCol=label_column, predictionCol='prediction')\n",
    "linear_regression = LinearRegression(featuresCol='features_scaled', labelCol=label_column, predictionCol='prediction_reg')\n",
    "\n",
    "pipe = Pipeline(stages=[\n",
    "    assembler, \n",
    "    scaler, \n",
    "    logistic_regressor,\n",
    "    linear_regression\n",
    "])\n",
    "assembler, scaler, logistic_regressor, pipe"
   ]
  },
  {
   "cell_type": "code",
   "execution_count": 19,
   "metadata": {},
   "outputs": [
    {
     "name": "stdout",
     "output_type": "stream",
     "text": [
      "23/02/23 21:42:09 WARN InstanceBuilder$JavaBLAS: Failed to load implementation from:dev.ludovic.netlib.blas.VectorBLAS\n",
      "23/02/23 21:42:09 WARN InstanceBuilder$NativeBLAS: Failed to load implementation from:dev.ludovic.netlib.blas.JNIBLAS\n",
      "23/02/23 21:42:09 WARN InstanceBuilder$NativeBLAS: Failed to load implementation from:dev.ludovic.netlib.blas.ForeignLinkerBLAS\n",
      "23/02/23 21:42:11 WARN Instrumentation: [237a0a79] regParam is zero, which might cause numerical instability and overfitting.\n",
      "23/02/23 21:42:12 WARN InstanceBuilder$NativeLAPACK: Failed to load implementation from:dev.ludovic.netlib.lapack.JNILAPACK\n"
     ]
    },
    {
     "data": {
      "text/plain": [
       "PipelineModel_7d7e98b305fe"
      ]
     },
     "execution_count": 19,
     "metadata": {},
     "output_type": "execute_result"
    }
   ],
   "source": [
    "pipe_model = pipe.fit(data_train)\n",
    "pipe_model"
   ]
  },
  {
   "cell_type": "code",
   "execution_count": 20,
   "metadata": {},
   "outputs": [
    {
     "name": "stdout",
     "output_type": "stream",
     "text": [
      "Pipeline_74a40c70473c__stages\n",
      "[VectorAssembler_deebfedf5d33, StandardScalerModel: uid=StandardScaler_af5122274ad6, numFeatures=23, withMean=true, withStd=true, LogisticRegressionModel: uid=LogisticRegression_7e579453b30f, numClasses=2, numFeatures=23, LinearRegressionModel: uid=LinearRegression_0e96722b1808, numFeatures=23]\n"
     ]
    }
   ],
   "source": [
    "print(pipe.stages)\n",
    "print(pipe_model.stages)"
   ]
  },
  {
   "cell_type": "code",
   "execution_count": 21,
   "metadata": {},
   "outputs": [
    {
     "data": {
      "text/html": [
       "<div>\n",
       "<style scoped>\n",
       "    .dataframe tbody tr th:only-of-type {\n",
       "        vertical-align: middle;\n",
       "    }\n",
       "\n",
       "    .dataframe tbody tr th {\n",
       "        vertical-align: top;\n",
       "    }\n",
       "\n",
       "    .dataframe thead th {\n",
       "        text-align: right;\n",
       "    }\n",
       "</style>\n",
       "<table border=\"1\" class=\"dataframe\">\n",
       "  <thead>\n",
       "    <tr style=\"text-align: right;\">\n",
       "      <th></th>\n",
       "      <th>LIMIT_BAL</th>\n",
       "      <th>SEX</th>\n",
       "      <th>EDUCATION</th>\n",
       "      <th>MARRIAGE</th>\n",
       "      <th>AGE</th>\n",
       "      <th>PAY_0</th>\n",
       "      <th>PAY_2</th>\n",
       "      <th>PAY_3</th>\n",
       "      <th>PAY_4</th>\n",
       "      <th>PAY_5</th>\n",
       "      <th>...</th>\n",
       "      <th>PAY_AMT4</th>\n",
       "      <th>PAY_AMT5</th>\n",
       "      <th>PAY_AMT6</th>\n",
       "      <th>IS_DEFAULT</th>\n",
       "      <th>features</th>\n",
       "      <th>features_scaled</th>\n",
       "      <th>rawPrediction</th>\n",
       "      <th>probability</th>\n",
       "      <th>prediction</th>\n",
       "      <th>prediction_reg</th>\n",
       "    </tr>\n",
       "  </thead>\n",
       "  <tbody>\n",
       "    <tr>\n",
       "      <th>0</th>\n",
       "      <td>10000.0</td>\n",
       "      <td>1</td>\n",
       "      <td>1</td>\n",
       "      <td>1</td>\n",
       "      <td>38</td>\n",
       "      <td>-1</td>\n",
       "      <td>-1</td>\n",
       "      <td>2</td>\n",
       "      <td>0</td>\n",
       "      <td>0</td>\n",
       "      <td>...</td>\n",
       "      <td>1100.0</td>\n",
       "      <td>0.0</td>\n",
       "      <td>1000.0</td>\n",
       "      <td>1</td>\n",
       "      <td>[10000.0, 1.0, 1.0, 1.0, 38.0, -1.0, -1.0, 2.0...</td>\n",
       "      <td>[-1.2106245607528727, -1.2380925925385027, -1....</td>\n",
       "      <td>[1.329837676164193, -1.329837676164193]</td>\n",
       "      <td>[0.79081378325361, 0.20918621674639004]</td>\n",
       "      <td>0.0</td>\n",
       "      <td>0.217064</td>\n",
       "    </tr>\n",
       "    <tr>\n",
       "      <th>1</th>\n",
       "      <td>10000.0</td>\n",
       "      <td>1</td>\n",
       "      <td>1</td>\n",
       "      <td>1</td>\n",
       "      <td>40</td>\n",
       "      <td>2</td>\n",
       "      <td>-1</td>\n",
       "      <td>-1</td>\n",
       "      <td>-2</td>\n",
       "      <td>-2</td>\n",
       "      <td>...</td>\n",
       "      <td>0.0</td>\n",
       "      <td>0.0</td>\n",
       "      <td>0.0</td>\n",
       "      <td>1</td>\n",
       "      <td>(10000.0, 1.0, 1.0, 1.0, 40.0, 2.0, -1.0, -1.0...</td>\n",
       "      <td>[-1.2106245607528727, -1.2380925925385027, -1....</td>\n",
       "      <td>[-0.03788615055048572, 0.03788615055048572]</td>\n",
       "      <td>[0.49052959512229416, 0.5094704048777059]</td>\n",
       "      <td>1.0</td>\n",
       "      <td>0.460260</td>\n",
       "    </tr>\n",
       "    <tr>\n",
       "      <th>2</th>\n",
       "      <td>10000.0</td>\n",
       "      <td>1</td>\n",
       "      <td>1</td>\n",
       "      <td>1</td>\n",
       "      <td>42</td>\n",
       "      <td>4</td>\n",
       "      <td>3</td>\n",
       "      <td>2</td>\n",
       "      <td>2</td>\n",
       "      <td>2</td>\n",
       "      <td>...</td>\n",
       "      <td>0.0</td>\n",
       "      <td>359.0</td>\n",
       "      <td>331.0</td>\n",
       "      <td>0</td>\n",
       "      <td>[10000.0, 1.0, 1.0, 1.0, 42.0, 4.0, 3.0, 2.0, ...</td>\n",
       "      <td>[-1.2106245607528727, -1.2380925925385027, -1....</td>\n",
       "      <td>[-2.0617333211619036, 2.0617333211619036]</td>\n",
       "      <td>[0.11287215260885863, 0.8871278473911414]</td>\n",
       "      <td>1.0</td>\n",
       "      <td>0.802989</td>\n",
       "    </tr>\n",
       "  </tbody>\n",
       "</table>\n",
       "<p>3 rows × 30 columns</p>\n",
       "</div>"
      ],
      "text/plain": [
       "   LIMIT_BAL  SEX  EDUCATION  MARRIAGE  AGE  PAY_0  PAY_2  PAY_3  PAY_4  \\\n",
       "0    10000.0    1          1         1   38     -1     -1      2      0   \n",
       "1    10000.0    1          1         1   40      2     -1     -1     -2   \n",
       "2    10000.0    1          1         1   42      4      3      2      2   \n",
       "\n",
       "   PAY_5  ...  PAY_AMT4  PAY_AMT5  PAY_AMT6  IS_DEFAULT  \\\n",
       "0      0  ...    1100.0       0.0    1000.0           1   \n",
       "1     -2  ...       0.0       0.0       0.0           1   \n",
       "2      2  ...       0.0     359.0     331.0           0   \n",
       "\n",
       "                                            features  \\\n",
       "0  [10000.0, 1.0, 1.0, 1.0, 38.0, -1.0, -1.0, 2.0...   \n",
       "1  (10000.0, 1.0, 1.0, 1.0, 40.0, 2.0, -1.0, -1.0...   \n",
       "2  [10000.0, 1.0, 1.0, 1.0, 42.0, 4.0, 3.0, 2.0, ...   \n",
       "\n",
       "                                     features_scaled  \\\n",
       "0  [-1.2106245607528727, -1.2380925925385027, -1....   \n",
       "1  [-1.2106245607528727, -1.2380925925385027, -1....   \n",
       "2  [-1.2106245607528727, -1.2380925925385027, -1....   \n",
       "\n",
       "                                 rawPrediction  \\\n",
       "0      [1.329837676164193, -1.329837676164193]   \n",
       "1  [-0.03788615055048572, 0.03788615055048572]   \n",
       "2    [-2.0617333211619036, 2.0617333211619036]   \n",
       "\n",
       "                                 probability  prediction  prediction_reg  \n",
       "0    [0.79081378325361, 0.20918621674639004]         0.0        0.217064  \n",
       "1  [0.49052959512229416, 0.5094704048777059]         1.0        0.460260  \n",
       "2  [0.11287215260885863, 0.8871278473911414]         1.0        0.802989  \n",
       "\n",
       "[3 rows x 30 columns]"
      ]
     },
     "execution_count": 21,
     "metadata": {},
     "output_type": "execute_result"
    }
   ],
   "source": [
    "pipe_model.transform(data_train).limit(3).toPandas()"
   ]
  },
  {
   "cell_type": "code",
   "execution_count": 22,
   "metadata": {},
   "outputs": [
    {
     "data": {
      "text/html": [
       "<div>\n",
       "<style scoped>\n",
       "    .dataframe tbody tr th:only-of-type {\n",
       "        vertical-align: middle;\n",
       "    }\n",
       "\n",
       "    .dataframe tbody tr th {\n",
       "        vertical-align: top;\n",
       "    }\n",
       "\n",
       "    .dataframe thead th {\n",
       "        text-align: right;\n",
       "    }\n",
       "</style>\n",
       "<table border=\"1\" class=\"dataframe\">\n",
       "  <thead>\n",
       "    <tr style=\"text-align: right;\">\n",
       "      <th></th>\n",
       "      <th>LIMIT_BAL</th>\n",
       "      <th>SEX</th>\n",
       "      <th>EDUCATION</th>\n",
       "      <th>MARRIAGE</th>\n",
       "      <th>AGE</th>\n",
       "      <th>PAY_0</th>\n",
       "      <th>PAY_2</th>\n",
       "      <th>PAY_3</th>\n",
       "      <th>PAY_4</th>\n",
       "      <th>PAY_5</th>\n",
       "      <th>...</th>\n",
       "      <th>PAY_AMT4</th>\n",
       "      <th>PAY_AMT5</th>\n",
       "      <th>PAY_AMT6</th>\n",
       "      <th>IS_DEFAULT</th>\n",
       "      <th>features</th>\n",
       "      <th>features_scaled</th>\n",
       "      <th>rawPrediction</th>\n",
       "      <th>probability</th>\n",
       "      <th>prediction</th>\n",
       "      <th>prediction_reg</th>\n",
       "    </tr>\n",
       "  </thead>\n",
       "  <tbody>\n",
       "    <tr>\n",
       "      <th>0</th>\n",
       "      <td>10000.0</td>\n",
       "      <td>1</td>\n",
       "      <td>1</td>\n",
       "      <td>1</td>\n",
       "      <td>41</td>\n",
       "      <td>0</td>\n",
       "      <td>0</td>\n",
       "      <td>3</td>\n",
       "      <td>2</td>\n",
       "      <td>2</td>\n",
       "      <td>...</td>\n",
       "      <td>1002.0</td>\n",
       "      <td>0.0</td>\n",
       "      <td>500.0</td>\n",
       "      <td>0</td>\n",
       "      <td>[10000.0, 1.0, 1.0, 1.0, 41.0, 0.0, 0.0, 3.0, ...</td>\n",
       "      <td>[-1.2106245607528727, -1.2380925925385027, -1....</td>\n",
       "      <td>[0.45998406968582106, -0.45998406968582106]</td>\n",
       "      <td>[0.6130103970192098, 0.3869896029807902]</td>\n",
       "      <td>0.0</td>\n",
       "      <td>0.362307</td>\n",
       "    </tr>\n",
       "    <tr>\n",
       "      <th>1</th>\n",
       "      <td>10000.0</td>\n",
       "      <td>1</td>\n",
       "      <td>1</td>\n",
       "      <td>2</td>\n",
       "      <td>22</td>\n",
       "      <td>0</td>\n",
       "      <td>0</td>\n",
       "      <td>0</td>\n",
       "      <td>0</td>\n",
       "      <td>0</td>\n",
       "      <td>...</td>\n",
       "      <td>1200.0</td>\n",
       "      <td>0.0</td>\n",
       "      <td>0.0</td>\n",
       "      <td>0</td>\n",
       "      <td>[10000.0, 1.0, 1.0, 2.0, 22.0, 0.0, 0.0, 0.0, ...</td>\n",
       "      <td>[-1.2106245607528727, -1.2380925925385027, -1....</td>\n",
       "      <td>[1.0388219403391268, -1.0388219403391268]</td>\n",
       "      <td>[0.738622634726616, 0.26137736527338395]</td>\n",
       "      <td>0.0</td>\n",
       "      <td>0.270235</td>\n",
       "    </tr>\n",
       "    <tr>\n",
       "      <th>2</th>\n",
       "      <td>10000.0</td>\n",
       "      <td>1</td>\n",
       "      <td>1</td>\n",
       "      <td>2</td>\n",
       "      <td>22</td>\n",
       "      <td>2</td>\n",
       "      <td>2</td>\n",
       "      <td>2</td>\n",
       "      <td>0</td>\n",
       "      <td>0</td>\n",
       "      <td>...</td>\n",
       "      <td>1100.0</td>\n",
       "      <td>0.0</td>\n",
       "      <td>500.0</td>\n",
       "      <td>1</td>\n",
       "      <td>[10000.0, 1.0, 1.0, 2.0, 22.0, 2.0, 2.0, 2.0, ...</td>\n",
       "      <td>[-1.2106245607528727, -1.2380925925385027, -1....</td>\n",
       "      <td>[-0.4241327813802216, 0.4241327813802216]</td>\n",
       "      <td>[0.39552823601763015, 0.6044717639823698]</td>\n",
       "      <td>1.0</td>\n",
       "      <td>0.525330</td>\n",
       "    </tr>\n",
       "  </tbody>\n",
       "</table>\n",
       "<p>3 rows × 30 columns</p>\n",
       "</div>"
      ],
      "text/plain": [
       "   LIMIT_BAL  SEX  EDUCATION  MARRIAGE  AGE  PAY_0  PAY_2  PAY_3  PAY_4  \\\n",
       "0    10000.0    1          1         1   41      0      0      3      2   \n",
       "1    10000.0    1          1         2   22      0      0      0      0   \n",
       "2    10000.0    1          1         2   22      2      2      2      0   \n",
       "\n",
       "   PAY_5  ...  PAY_AMT4  PAY_AMT5  PAY_AMT6  IS_DEFAULT  \\\n",
       "0      2  ...    1002.0       0.0     500.0           0   \n",
       "1      0  ...    1200.0       0.0       0.0           0   \n",
       "2      0  ...    1100.0       0.0     500.0           1   \n",
       "\n",
       "                                            features  \\\n",
       "0  [10000.0, 1.0, 1.0, 1.0, 41.0, 0.0, 0.0, 3.0, ...   \n",
       "1  [10000.0, 1.0, 1.0, 2.0, 22.0, 0.0, 0.0, 0.0, ...   \n",
       "2  [10000.0, 1.0, 1.0, 2.0, 22.0, 2.0, 2.0, 2.0, ...   \n",
       "\n",
       "                                     features_scaled  \\\n",
       "0  [-1.2106245607528727, -1.2380925925385027, -1....   \n",
       "1  [-1.2106245607528727, -1.2380925925385027, -1....   \n",
       "2  [-1.2106245607528727, -1.2380925925385027, -1....   \n",
       "\n",
       "                                 rawPrediction  \\\n",
       "0  [0.45998406968582106, -0.45998406968582106]   \n",
       "1    [1.0388219403391268, -1.0388219403391268]   \n",
       "2    [-0.4241327813802216, 0.4241327813802216]   \n",
       "\n",
       "                                 probability  prediction  prediction_reg  \n",
       "0   [0.6130103970192098, 0.3869896029807902]         0.0        0.362307  \n",
       "1   [0.738622634726616, 0.26137736527338395]         0.0        0.270235  \n",
       "2  [0.39552823601763015, 0.6044717639823698]         1.0        0.525330  \n",
       "\n",
       "[3 rows x 30 columns]"
      ]
     },
     "execution_count": 22,
     "metadata": {},
     "output_type": "execute_result"
    }
   ],
   "source": [
    "pipe_model.transform(data_test).limit(3).toPandas()"
   ]
  },
  {
   "attachments": {},
   "cell_type": "markdown",
   "metadata": {},
   "source": [
    "### `Оценка качества`"
   ]
  },
  {
   "cell_type": "code",
   "execution_count": 23,
   "metadata": {},
   "outputs": [
    {
     "name": "stderr",
     "output_type": "stream",
     "text": [
      "                                                                                \r"
     ]
    },
    {
     "data": {
      "text/plain": [
       "(0.8085441527446301,\n",
       " 0.7236303702043676,\n",
       " [0.8162098103874691, 0.7120622568093385],\n",
       " [0.9727356463002763, 0.23536977491961414])"
      ]
     },
     "execution_count": 23,
     "metadata": {},
     "output_type": "execute_result"
    }
   ],
   "source": [
    "summary = pipe_model.stages[-2].summary\n",
    "summary.accuracy, summary.areaUnderROC, summary.precisionByLabel, summary.recallByLabel"
   ]
  },
  {
   "cell_type": "code",
   "execution_count": 24,
   "metadata": {},
   "outputs": [
    {
     "data": {
      "text/plain": [
       "(0.12251521844731605, 0.15188362346827863)"
      ]
     },
     "execution_count": 24,
     "metadata": {},
     "output_type": "execute_result"
    }
   ],
   "source": [
    "summary = pipe_model.stages[-1].summary\n",
    "summary.r2, summary.meanSquaredError"
   ]
  },
  {
   "cell_type": "code",
   "execution_count": 25,
   "metadata": {},
   "outputs": [],
   "source": [
    "from pyspark.ml.evaluation import BinaryClassificationEvaluator, MulticlassClassificationEvaluator"
   ]
  },
  {
   "cell_type": "code",
   "execution_count": 26,
   "metadata": {},
   "outputs": [
    {
     "name": "stdout",
     "output_type": "stream",
     "text": [
      "ROC AUC train/test: 0.724/0.726\n"
     ]
    }
   ],
   "source": [
    "evaluator = BinaryClassificationEvaluator(\n",
    "    labelCol=label_column,\n",
    "    metricName='areaUnderROC'\n",
    ")\n",
    "print('ROC AUC train/test: {0:.3f}/{1:.3f}'.format(\n",
    "    evaluator.evaluate(pipe_model.transform(data_train)),\n",
    "    evaluator.evaluate(pipe_model.transform(data_test))\n",
    "))"
   ]
  },
  {
   "attachments": {},
   "cell_type": "markdown",
   "metadata": {},
   "source": [
    "### `Подбор гиперпараметров`"
   ]
  },
  {
   "cell_type": "code",
   "execution_count": 27,
   "metadata": {},
   "outputs": [],
   "source": [
    "from pyspark.ml.tuning import ParamGridBuilder, TrainValidationSplit"
   ]
  },
  {
   "cell_type": "code",
   "execution_count": 28,
   "metadata": {},
   "outputs": [
    {
     "data": {
      "text/plain": [
       "(12,\n",
       " {Param(parent='LogisticRegression_7e579453b30f', name='maxIter', doc='max number of iterations (>= 0).'): 100,\n",
       "  Param(parent='LogisticRegression_7e579453b30f', name='regParam', doc='regularization parameter (>= 0).'): 0.01,\n",
       "  Param(parent='LogisticRegression_7e579453b30f', name='elasticNetParam', doc='the ElasticNet mixing parameter, in range [0, 1]. For alpha = 0, the penalty is an L2 penalty. For alpha = 1, it is an L1 penalty.'): 0.0})"
      ]
     },
     "execution_count": 28,
     "metadata": {},
     "output_type": "execute_result"
    }
   ],
   "source": [
    "param_grid = (\n",
    "    ParamGridBuilder()\n",
    "        .addGrid(logistic_regressor.maxIter, [100])\n",
    "        .addGrid(logistic_regressor.regParam, [1e-2, 1e-1, 1e-0, 1e-1])\n",
    "        .addGrid(logistic_regressor.elasticNetParam, [0.0, 0.5, 1.0])\n",
    "        .build()\n",
    ")\n",
    "len(param_grid), param_grid[0]"
   ]
  },
  {
   "cell_type": "code",
   "execution_count": 29,
   "metadata": {},
   "outputs": [
    {
     "name": "stdout",
     "output_type": "stream",
     "text": [
      "23/02/23 21:42:36 WARN Instrumentation: [70c088ad] regParam is zero, which might cause numerical instability and overfitting.\n",
      "23/02/23 21:42:38 WARN Instrumentation: [adf2b689] regParam is zero, which might cause numerical instability and overfitting.\n",
      "23/02/23 21:42:40 WARN Instrumentation: [b1ad6094] regParam is zero, which might cause numerical instability and overfitting.\n",
      "23/02/23 21:42:42 WARN Instrumentation: [5d6579a7] regParam is zero, which might cause numerical instability and overfitting.\n",
      "23/02/23 21:42:43 WARN Instrumentation: [7844a104] regParam is zero, which might cause numerical instability and overfitting.\n",
      "23/02/23 21:42:44 WARN Instrumentation: [e56f96e3] regParam is zero, which might cause numerical instability and overfitting.\n",
      "23/02/23 21:42:46 WARN Instrumentation: [01794826] regParam is zero, which might cause numerical instability and overfitting.\n",
      "23/02/23 21:42:47 WARN Instrumentation: [5b366d0a] regParam is zero, which might cause numerical instability and overfitting.\n",
      "23/02/23 21:42:48 WARN Instrumentation: [5de8278b] regParam is zero, which might cause numerical instability and overfitting.\n",
      "23/02/23 21:42:49 WARN Instrumentation: [f868020d] regParam is zero, which might cause numerical instability and overfitting.\n",
      "23/02/23 21:42:50 WARN Instrumentation: [4732d2b6] regParam is zero, which might cause numerical instability and overfitting.\n",
      "23/02/23 21:42:51 WARN Instrumentation: [01273389] regParam is zero, which might cause numerical instability and overfitting.\n",
      "23/02/23 21:42:53 WARN Instrumentation: [7551a340] regParam is zero, which might cause numerical instability and overfitting.\n"
     ]
    },
    {
     "data": {
      "text/plain": [
       "TrainValidationSplitModel_1578ba2e5df5"
      ]
     },
     "execution_count": 29,
     "metadata": {},
     "output_type": "execute_result"
    }
   ],
   "source": [
    "tvs = TrainValidationSplit(\n",
    "    estimator=pipe,\n",
    "    estimatorParamMaps=param_grid,\n",
    "    evaluator=evaluator,\n",
    "    trainRatio=0.8,\n",
    "    seed=6417\n",
    ")\n",
    "\n",
    "tvs_model = tvs.fit(data)\n",
    "tvs_model"
   ]
  },
  {
   "cell_type": "code",
   "execution_count": 30,
   "metadata": {},
   "outputs": [
    {
     "name": "stdout",
     "output_type": "stream",
     "text": [
      "ROC AUC train/test: 0.722/0.725\n"
     ]
    }
   ],
   "source": [
    "print('ROC AUC train/test: {0:.3f}/{1:.3f}'.format(\n",
    "    evaluator.evaluate(tvs_model.transform(data_train)),\n",
    "    evaluator.evaluate(tvs_model.transform(data_test))\n",
    "))"
   ]
  },
  {
   "cell_type": "code",
   "execution_count": 31,
   "metadata": {},
   "outputs": [
    {
     "data": {
      "text/plain": [
       "{Param(parent='LinearRegression_0e96722b1808', name='aggregationDepth', doc='suggested depth for treeAggregate (>= 2).'): 2,\n",
       " Param(parent='LinearRegression_0e96722b1808', name='elasticNetParam', doc='the ElasticNet mixing parameter, in range [0, 1]. For alpha = 0, the penalty is an L2 penalty. For alpha = 1, it is an L1 penalty.'): 0.0,\n",
       " Param(parent='LinearRegression_0e96722b1808', name='epsilon', doc='The shape parameter to control the amount of robustness. Must be > 1.0. Only valid when loss is huber'): 1.35,\n",
       " Param(parent='LinearRegression_0e96722b1808', name='featuresCol', doc='features column name.'): 'features_scaled',\n",
       " Param(parent='LinearRegression_0e96722b1808', name='fitIntercept', doc='whether to fit an intercept term.'): True,\n",
       " Param(parent='LinearRegression_0e96722b1808', name='labelCol', doc='label column name.'): 'IS_DEFAULT',\n",
       " Param(parent='LinearRegression_0e96722b1808', name='loss', doc='The loss function to be optimized. Supported options: squaredError, huber.'): 'squaredError',\n",
       " Param(parent='LinearRegression_0e96722b1808', name='maxBlockSizeInMB', doc='maximum memory in MB for stacking input data into blocks. Data is stacked within partitions. If more than remaining data size in a partition then it is adjusted to the data size. Default 0.0 represents choosing optimal value, depends on specific algorithm. Must be >= 0.'): 0.0,\n",
       " Param(parent='LinearRegression_0e96722b1808', name='maxIter', doc='max number of iterations (>= 0).'): 100,\n",
       " Param(parent='LinearRegression_0e96722b1808', name='predictionCol', doc='prediction column name.'): 'prediction_reg',\n",
       " Param(parent='LinearRegression_0e96722b1808', name='regParam', doc='regularization parameter (>= 0).'): 0.0,\n",
       " Param(parent='LinearRegression_0e96722b1808', name='solver', doc='The solver algorithm for optimization. Supported options: auto, normal, l-bfgs.'): 'auto',\n",
       " Param(parent='LinearRegression_0e96722b1808', name='standardization', doc='whether to standardize the training features before fitting the model.'): True,\n",
       " Param(parent='LinearRegression_0e96722b1808', name='tol', doc='the convergence tolerance for iterative algorithms (>= 0).'): 1e-06}"
      ]
     },
     "execution_count": 31,
     "metadata": {},
     "output_type": "execute_result"
    }
   ],
   "source": [
    "tvs_model.bestModel.stages[-1].extractParamMap()"
   ]
  },
  {
   "attachments": {},
   "cell_type": "markdown",
   "metadata": {},
   "source": [
    "### `Пример. Random Forest`"
   ]
  },
  {
   "cell_type": "code",
   "execution_count": 32,
   "metadata": {},
   "outputs": [],
   "source": [
    "label_column = 'IS_DEFAULT'\n",
    "feature_columns = [_ for _ in data.columns if _ not in {label_column, 'EDUCATION'}]"
   ]
  },
  {
   "cell_type": "code",
   "execution_count": 33,
   "metadata": {},
   "outputs": [
    {
     "data": {
      "text/plain": [
       "(OneHotEncoder_f4773eb54c32,\n",
       " VectorAssembler_08c9bd219ac5,\n",
       " RandomForestClassifier_535cfe794bfd,\n",
       " Pipeline_2e969e0267f7)"
      ]
     },
     "execution_count": 33,
     "metadata": {},
     "output_type": "execute_result"
    }
   ],
   "source": [
    "ohe_encoder = OneHotEncoder(inputCols=['EDUCATION'], outputCols=['EDUCATION_OHE'])\n",
    "rf_assembler = VectorAssembler(inputCols=feature_columns + ['EDUCATION_OHE'], outputCol='features')\n",
    "random_forest = RandomForestClassifier(featuresCol='features', labelCol=label_column, predictionCol='prediction')\n",
    "\n",
    "rf_pipe = Pipeline(stages=[ohe_encoder, rf_assembler, random_forest])\n",
    "ohe_encoder, rf_assembler, random_forest, rf_pipe"
   ]
  },
  {
   "cell_type": "code",
   "execution_count": 34,
   "metadata": {},
   "outputs": [
    {
     "data": {
      "text/html": [
       "<div>\n",
       "<style scoped>\n",
       "    .dataframe tbody tr th:only-of-type {\n",
       "        vertical-align: middle;\n",
       "    }\n",
       "\n",
       "    .dataframe tbody tr th {\n",
       "        vertical-align: top;\n",
       "    }\n",
       "\n",
       "    .dataframe thead th {\n",
       "        text-align: right;\n",
       "    }\n",
       "</style>\n",
       "<table border=\"1\" class=\"dataframe\">\n",
       "  <thead>\n",
       "    <tr style=\"text-align: right;\">\n",
       "      <th></th>\n",
       "      <th>LIMIT_BAL</th>\n",
       "      <th>SEX</th>\n",
       "      <th>EDUCATION</th>\n",
       "      <th>MARRIAGE</th>\n",
       "      <th>AGE</th>\n",
       "      <th>PAY_0</th>\n",
       "      <th>PAY_2</th>\n",
       "      <th>PAY_3</th>\n",
       "      <th>PAY_4</th>\n",
       "      <th>PAY_5</th>\n",
       "      <th>...</th>\n",
       "      <th>PAY_AMT3</th>\n",
       "      <th>PAY_AMT4</th>\n",
       "      <th>PAY_AMT5</th>\n",
       "      <th>PAY_AMT6</th>\n",
       "      <th>IS_DEFAULT</th>\n",
       "      <th>EDUCATION_OHE</th>\n",
       "      <th>features</th>\n",
       "      <th>rawPrediction</th>\n",
       "      <th>probability</th>\n",
       "      <th>prediction</th>\n",
       "    </tr>\n",
       "  </thead>\n",
       "  <tbody>\n",
       "    <tr>\n",
       "      <th>0</th>\n",
       "      <td>10000.0</td>\n",
       "      <td>1</td>\n",
       "      <td>1</td>\n",
       "      <td>1</td>\n",
       "      <td>38</td>\n",
       "      <td>-1</td>\n",
       "      <td>-1</td>\n",
       "      <td>2</td>\n",
       "      <td>0</td>\n",
       "      <td>0</td>\n",
       "      <td>...</td>\n",
       "      <td>500.0</td>\n",
       "      <td>1100.0</td>\n",
       "      <td>0.0</td>\n",
       "      <td>1000.0</td>\n",
       "      <td>1</td>\n",
       "      <td>(0.0, 1.0, 0.0, 0.0, 0.0, 0.0)</td>\n",
       "      <td>[10000.0, 1.0, 1.0, 38.0, -1.0, -1.0, 2.0, 0.0...</td>\n",
       "      <td>[15.115365767550237, 4.884634232449765]</td>\n",
       "      <td>[0.7557682883775118, 0.24423171162248822]</td>\n",
       "      <td>0.0</td>\n",
       "    </tr>\n",
       "    <tr>\n",
       "      <th>1</th>\n",
       "      <td>10000.0</td>\n",
       "      <td>1</td>\n",
       "      <td>1</td>\n",
       "      <td>1</td>\n",
       "      <td>40</td>\n",
       "      <td>2</td>\n",
       "      <td>-1</td>\n",
       "      <td>-1</td>\n",
       "      <td>-2</td>\n",
       "      <td>-2</td>\n",
       "      <td>...</td>\n",
       "      <td>0.0</td>\n",
       "      <td>0.0</td>\n",
       "      <td>0.0</td>\n",
       "      <td>0.0</td>\n",
       "      <td>1</td>\n",
       "      <td>(0.0, 1.0, 0.0, 0.0, 0.0, 0.0)</td>\n",
       "      <td>(10000.0, 1.0, 1.0, 40.0, 2.0, -1.0, -1.0, -2....</td>\n",
       "      <td>[14.341543930044757, 5.65845606995524]</td>\n",
       "      <td>[0.717077196502238, 0.28292280349776205]</td>\n",
       "      <td>0.0</td>\n",
       "    </tr>\n",
       "    <tr>\n",
       "      <th>2</th>\n",
       "      <td>10000.0</td>\n",
       "      <td>1</td>\n",
       "      <td>1</td>\n",
       "      <td>1</td>\n",
       "      <td>42</td>\n",
       "      <td>4</td>\n",
       "      <td>3</td>\n",
       "      <td>2</td>\n",
       "      <td>2</td>\n",
       "      <td>2</td>\n",
       "      <td>...</td>\n",
       "      <td>2000.0</td>\n",
       "      <td>0.0</td>\n",
       "      <td>359.0</td>\n",
       "      <td>331.0</td>\n",
       "      <td>0</td>\n",
       "      <td>(0.0, 1.0, 0.0, 0.0, 0.0, 0.0)</td>\n",
       "      <td>[10000.0, 1.0, 1.0, 42.0, 4.0, 3.0, 2.0, 2.0, ...</td>\n",
       "      <td>[6.948231766721838, 13.051768233278166]</td>\n",
       "      <td>[0.3474115883360918, 0.6525884116639081]</td>\n",
       "      <td>1.0</td>\n",
       "    </tr>\n",
       "  </tbody>\n",
       "</table>\n",
       "<p>3 rows × 29 columns</p>\n",
       "</div>"
      ],
      "text/plain": [
       "   LIMIT_BAL  SEX  EDUCATION  MARRIAGE  AGE  PAY_0  PAY_2  PAY_3  PAY_4  \\\n",
       "0    10000.0    1          1         1   38     -1     -1      2      0   \n",
       "1    10000.0    1          1         1   40      2     -1     -1     -2   \n",
       "2    10000.0    1          1         1   42      4      3      2      2   \n",
       "\n",
       "   PAY_5  ...  PAY_AMT3  PAY_AMT4  PAY_AMT5  PAY_AMT6  IS_DEFAULT  \\\n",
       "0      0  ...     500.0    1100.0       0.0    1000.0           1   \n",
       "1     -2  ...       0.0       0.0       0.0       0.0           1   \n",
       "2      2  ...    2000.0       0.0     359.0     331.0           0   \n",
       "\n",
       "                    EDUCATION_OHE  \\\n",
       "0  (0.0, 1.0, 0.0, 0.0, 0.0, 0.0)   \n",
       "1  (0.0, 1.0, 0.0, 0.0, 0.0, 0.0)   \n",
       "2  (0.0, 1.0, 0.0, 0.0, 0.0, 0.0)   \n",
       "\n",
       "                                            features  \\\n",
       "0  [10000.0, 1.0, 1.0, 38.0, -1.0, -1.0, 2.0, 0.0...   \n",
       "1  (10000.0, 1.0, 1.0, 40.0, 2.0, -1.0, -1.0, -2....   \n",
       "2  [10000.0, 1.0, 1.0, 42.0, 4.0, 3.0, 2.0, 2.0, ...   \n",
       "\n",
       "                             rawPrediction  \\\n",
       "0  [15.115365767550237, 4.884634232449765]   \n",
       "1   [14.341543930044757, 5.65845606995524]   \n",
       "2  [6.948231766721838, 13.051768233278166]   \n",
       "\n",
       "                                 probability  prediction  \n",
       "0  [0.7557682883775118, 0.24423171162248822]         0.0  \n",
       "1   [0.717077196502238, 0.28292280349776205]         0.0  \n",
       "2   [0.3474115883360918, 0.6525884116639081]         1.0  \n",
       "\n",
       "[3 rows x 29 columns]"
      ]
     },
     "execution_count": 34,
     "metadata": {},
     "output_type": "execute_result"
    }
   ],
   "source": [
    "rf_pipe_model = rf_pipe.fit(data_train)\n",
    "rf_pipe_model.transform(data_train).limit(3).toPandas()"
   ]
  },
  {
   "cell_type": "code",
   "execution_count": 35,
   "metadata": {},
   "outputs": [
    {
     "name": "stdout",
     "output_type": "stream",
     "text": [
      "ROC AUC train/test: 0.771/0.766\n"
     ]
    }
   ],
   "source": [
    "print('ROC AUC train/test: {0:.3f}/{1:.3f}'.format(\n",
    "    evaluator.evaluate(rf_pipe_model.transform(data_train)),\n",
    "    evaluator.evaluate(rf_pipe_model.transform(data_test))\n",
    "))"
   ]
  },
  {
   "cell_type": "code",
   "execution_count": 36,
   "metadata": {},
   "outputs": [
    {
     "data": {
      "text/plain": [
       "RandomForestClassificationModel: uid=RandomForestClassifier_535cfe794bfd, numTrees=20, numClasses=2, numFeatures=28"
      ]
     },
     "execution_count": 36,
     "metadata": {},
     "output_type": "execute_result"
    }
   ],
   "source": [
    "rf_pipe_model.stages[-1]"
   ]
  },
  {
   "attachments": {},
   "cell_type": "markdown",
   "metadata": {},
   "source": [
    "### `Пример. Текстовые данные`"
   ]
  },
  {
   "cell_type": "code",
   "execution_count": 37,
   "metadata": {},
   "outputs": [
    {
     "name": "stdout",
     "output_type": "stream",
     "text": [
      "--2023-02-23 21:43:13--  https://www.dropbox.com/s/r6u59ljhhjdg6j0/negative.csv?dl=0\n",
      "Распознаётся www.dropbox.com (www.dropbox.com)… 162.125.70.18\n",
      "Подключение к www.dropbox.com (www.dropbox.com)|162.125.70.18|:443... соединение установлено.\n",
      "HTTP-запрос отправлен. Ожидание ответа… 302 Found\n",
      "Адрес: /s/raw/r6u59ljhhjdg6j0/negative.csv [переход]\n",
      "--2023-02-23 21:43:13--  https://www.dropbox.com/s/raw/r6u59ljhhjdg6j0/negative.csv\n",
      "Повторное использование соединения с www.dropbox.com:443.\n",
      "HTTP-запрос отправлен. Ожидание ответа… 302 Found\n",
      "Адрес: https://uc458492ce8483231fcc51ab3159.dl.dropboxusercontent.com/cd/0/inline/B3C90EQlJSbFdof-Q4-HPt3AA7RI5i6oGPEH8xpYhj32UTwXAZr0AKaJgikEcP7hFrXCiq1U5WQfbMWyVMAdoqWDDXsBKnZKpKuYX6Kuy6-4GecvRh_Ldqmvxj5WPM7dgp8UroBMyz-6SewaeHA4QzO4_vUuhKNS-Dj2WUkwbsZPLw/file# [переход]\n",
      "--2023-02-23 21:43:14--  https://uc458492ce8483231fcc51ab3159.dl.dropboxusercontent.com/cd/0/inline/B3C90EQlJSbFdof-Q4-HPt3AA7RI5i6oGPEH8xpYhj32UTwXAZr0AKaJgikEcP7hFrXCiq1U5WQfbMWyVMAdoqWDDXsBKnZKpKuYX6Kuy6-4GecvRh_Ldqmvxj5WPM7dgp8UroBMyz-6SewaeHA4QzO4_vUuhKNS-Dj2WUkwbsZPLw/file\n",
      "Распознаётся uc458492ce8483231fcc51ab3159.dl.dropboxusercontent.com (uc458492ce8483231fcc51ab3159.dl.dropboxusercontent.com)… 162.125.70.15\n",
      "Подключение к uc458492ce8483231fcc51ab3159.dl.dropboxusercontent.com (uc458492ce8483231fcc51ab3159.dl.dropboxusercontent.com)|162.125.70.15|:443... соединение установлено.\n",
      "HTTP-запрос отправлен. Ожидание ответа… 200 OK\n",
      "Длина: 24450101 (23M) [text/plain]\n",
      "Сохранение в: «./tweets/negative.csv»\n",
      "\n",
      "./tweets/negative.c 100%[===================>]  23,32M  9,69MB/s    за 2,4s    \n",
      "\n",
      "2023-02-23 21:43:17 (9,69 MB/s) - «./tweets/negative.csv» сохранён [24450101/24450101]\n",
      "\n",
      "--2023-02-23 21:43:17--  https://www.dropbox.com/s/fnpq3z4bcnoktiv/positive.csv?dl=0\n",
      "Распознаётся www.dropbox.com (www.dropbox.com)… 162.125.70.18\n",
      "Подключение к www.dropbox.com (www.dropbox.com)|162.125.70.18|:443... соединение установлено.\n",
      "HTTP-запрос отправлен. Ожидание ответа… 302 Found\n",
      "Адрес: /s/raw/fnpq3z4bcnoktiv/positive.csv [переход]\n",
      "--2023-02-23 21:43:17--  https://www.dropbox.com/s/raw/fnpq3z4bcnoktiv/positive.csv\n",
      "Повторное использование соединения с www.dropbox.com:443.\n",
      "HTTP-запрос отправлен. Ожидание ответа… 302 Found\n",
      "Адрес: https://ucb5a528be1755ff78a40b933558.dl.dropboxusercontent.com/cd/0/inline/B3DnZMJJSC97H97UOGgvtGdfmRpPKSEqeT31pGLxhR6F8MP5EbqBlgtrj_V4-QrnyWFTf3vysUq70VGWBQ2FbunttSSkibq823P15LSkv6rwEHpXo4X-TCaQsqzFTDrAnePrI627hpO692JUag3bOJAMFyLvZTBC4XM3zo52gVae9A/file# [переход]\n",
      "--2023-02-23 21:43:18--  https://ucb5a528be1755ff78a40b933558.dl.dropboxusercontent.com/cd/0/inline/B3DnZMJJSC97H97UOGgvtGdfmRpPKSEqeT31pGLxhR6F8MP5EbqBlgtrj_V4-QrnyWFTf3vysUq70VGWBQ2FbunttSSkibq823P15LSkv6rwEHpXo4X-TCaQsqzFTDrAnePrI627hpO692JUag3bOJAMFyLvZTBC4XM3zo52gVae9A/file\n",
      "Распознаётся ucb5a528be1755ff78a40b933558.dl.dropboxusercontent.com (ucb5a528be1755ff78a40b933558.dl.dropboxusercontent.com)… 162.125.70.15\n",
      "Подключение к ucb5a528be1755ff78a40b933558.dl.dropboxusercontent.com (ucb5a528be1755ff78a40b933558.dl.dropboxusercontent.com)|162.125.70.15|:443... соединение установлено.\n",
      "HTTP-запрос отправлен. Ожидание ответа… 200 OK\n",
      "Длина: 26233379 (25M) [text/plain]\n",
      "Сохранение в: «./tweets/positive.csv»\n",
      "\n",
      "./tweets/positive.c 100%[===================>]  25,02M  11,9MB/s    за 2,1s    \n",
      "\n",
      "2023-02-23 21:43:21 (11,9 MB/s) - «./tweets/positive.csv» сохранён [26233379/26233379]\n",
      "\n"
     ]
    }
   ],
   "source": [
    "path = './tweets'\n",
    "\n",
    "! mkdir $path\n",
    "! wget -O \"$path/negative.csv\" \"https://www.dropbox.com/s/r6u59ljhhjdg6j0/negative.csv?dl=0\"\n",
    "! wget -O \"$path/positive.csv\" \"https://www.dropbox.com/s/fnpq3z4bcnoktiv/positive.csv?dl=0\""
   ]
  },
  {
   "cell_type": "code",
   "execution_count": 38,
   "metadata": {},
   "outputs": [],
   "source": [
    "# Зададим пути к файлам из датасета\n",
    "file_type = \"csv\"\n",
    "infer_schema = \"false\"\n",
    "first_row_is_header = \"false\"\n",
    "delimiter = \";\"\n",
    "\n",
    "text_data_negative = (\n",
    "    spark.read.format(file_type)\n",
    "      .option(\"inferSchema\", infer_schema)\n",
    "      .option(\"header\", first_row_is_header)\n",
    "      .option(\"sep\", delimiter)\n",
    "      .load([\n",
    "          f\"{path}/negative.csv\",\n",
    "        ])\n",
    ")\n",
    "text_data_positive = (\n",
    "    spark.read.format(file_type)\n",
    "      .option(\"inferSchema\", infer_schema)\n",
    "      .option(\"header\", first_row_is_header)\n",
    "      .option(\"sep\", delimiter)\n",
    "      .load([\n",
    "          f\"{path}/positive.csv\"\n",
    "        ])\n",
    ")"
   ]
  },
  {
   "cell_type": "code",
   "execution_count": 39,
   "metadata": {},
   "outputs": [
    {
     "data": {
      "text/html": [
       "<div>\n",
       "<style scoped>\n",
       "    .dataframe tbody tr th:only-of-type {\n",
       "        vertical-align: middle;\n",
       "    }\n",
       "\n",
       "    .dataframe tbody tr th {\n",
       "        vertical-align: top;\n",
       "    }\n",
       "\n",
       "    .dataframe thead th {\n",
       "        text-align: right;\n",
       "    }\n",
       "</style>\n",
       "<table border=\"1\" class=\"dataframe\">\n",
       "  <thead>\n",
       "    <tr style=\"text-align: right;\">\n",
       "      <th></th>\n",
       "      <th>_c0</th>\n",
       "      <th>_c1</th>\n",
       "      <th>_c2</th>\n",
       "      <th>_c3</th>\n",
       "      <th>_c4</th>\n",
       "      <th>_c5</th>\n",
       "      <th>_c6</th>\n",
       "      <th>_c7</th>\n",
       "      <th>_c8</th>\n",
       "      <th>_c9</th>\n",
       "      <th>_c10</th>\n",
       "      <th>_c11</th>\n",
       "    </tr>\n",
       "  </thead>\n",
       "  <tbody>\n",
       "    <tr>\n",
       "      <th>0</th>\n",
       "      <td>408906762813579264</td>\n",
       "      <td>1386325944</td>\n",
       "      <td>dugarchikbellko</td>\n",
       "      <td>на работе был полный пиддес :| и так каждое за...</td>\n",
       "      <td>-1</td>\n",
       "      <td>0</td>\n",
       "      <td>0</td>\n",
       "      <td>0</td>\n",
       "      <td>8064</td>\n",
       "      <td>111</td>\n",
       "      <td>94</td>\n",
       "      <td>2</td>\n",
       "    </tr>\n",
       "    <tr>\n",
       "      <th>1</th>\n",
       "      <td>408906818262687744</td>\n",
       "      <td>1386325957</td>\n",
       "      <td>nugemycejela</td>\n",
       "      <td>Коллеги сидят рубятся в Urban terror, а я из-з...</td>\n",
       "      <td>-1</td>\n",
       "      <td>0</td>\n",
       "      <td>0</td>\n",
       "      <td>0</td>\n",
       "      <td>26</td>\n",
       "      <td>42</td>\n",
       "      <td>39</td>\n",
       "      <td>0</td>\n",
       "    </tr>\n",
       "    <tr>\n",
       "      <th>2</th>\n",
       "      <td>408906858515398656</td>\n",
       "      <td>1386325966</td>\n",
       "      <td>4post21</td>\n",
       "      <td>@elina_4post как говорят обещаного три года жд...</td>\n",
       "      <td>-1</td>\n",
       "      <td>0</td>\n",
       "      <td>0</td>\n",
       "      <td>0</td>\n",
       "      <td>718</td>\n",
       "      <td>49</td>\n",
       "      <td>249</td>\n",
       "      <td>0</td>\n",
       "    </tr>\n",
       "  </tbody>\n",
       "</table>\n",
       "</div>"
      ],
      "text/plain": [
       "                  _c0         _c1              _c2  \\\n",
       "0  408906762813579264  1386325944  dugarchikbellko   \n",
       "1  408906818262687744  1386325957     nugemycejela   \n",
       "2  408906858515398656  1386325966          4post21   \n",
       "\n",
       "                                                 _c3 _c4 _c5 _c6 _c7   _c8  \\\n",
       "0  на работе был полный пиддес :| и так каждое за...  -1   0   0   0  8064   \n",
       "1  Коллеги сидят рубятся в Urban terror, а я из-з...  -1   0   0   0    26   \n",
       "2  @elina_4post как говорят обещаного три года жд...  -1   0   0   0   718   \n",
       "\n",
       "   _c9 _c10 _c11  \n",
       "0  111   94    2  \n",
       "1   42   39    0  \n",
       "2   49  249    0  "
      ]
     },
     "metadata": {},
     "output_type": "display_data"
    },
    {
     "data": {
      "text/html": [
       "<div>\n",
       "<style scoped>\n",
       "    .dataframe tbody tr th:only-of-type {\n",
       "        vertical-align: middle;\n",
       "    }\n",
       "\n",
       "    .dataframe tbody tr th {\n",
       "        vertical-align: top;\n",
       "    }\n",
       "\n",
       "    .dataframe thead th {\n",
       "        text-align: right;\n",
       "    }\n",
       "</style>\n",
       "<table border=\"1\" class=\"dataframe\">\n",
       "  <thead>\n",
       "    <tr style=\"text-align: right;\">\n",
       "      <th></th>\n",
       "      <th>_c0</th>\n",
       "      <th>_c1</th>\n",
       "      <th>_c2</th>\n",
       "      <th>_c3</th>\n",
       "      <th>_c4</th>\n",
       "      <th>_c5</th>\n",
       "      <th>_c6</th>\n",
       "      <th>_c7</th>\n",
       "      <th>_c8</th>\n",
       "      <th>_c9</th>\n",
       "      <th>_c10</th>\n",
       "      <th>_c11</th>\n",
       "    </tr>\n",
       "  </thead>\n",
       "  <tbody>\n",
       "    <tr>\n",
       "      <th>0</th>\n",
       "      <td>408906692374446080</td>\n",
       "      <td>1386325927</td>\n",
       "      <td>pleease_shut_up</td>\n",
       "      <td>@first_timee хоть я и школота, но поверь, у на...</td>\n",
       "      <td>1</td>\n",
       "      <td>0</td>\n",
       "      <td>0</td>\n",
       "      <td>0</td>\n",
       "      <td>7569</td>\n",
       "      <td>62</td>\n",
       "      <td>61</td>\n",
       "      <td>0</td>\n",
       "    </tr>\n",
       "    <tr>\n",
       "      <th>1</th>\n",
       "      <td>408906692693221377</td>\n",
       "      <td>1386325927</td>\n",
       "      <td>alinakirpicheva</td>\n",
       "      <td>Да, все-таки он немного похож на него. Но мой ...</td>\n",
       "      <td>1</td>\n",
       "      <td>0</td>\n",
       "      <td>0</td>\n",
       "      <td>0</td>\n",
       "      <td>11825</td>\n",
       "      <td>59</td>\n",
       "      <td>31</td>\n",
       "      <td>2</td>\n",
       "    </tr>\n",
       "    <tr>\n",
       "      <th>2</th>\n",
       "      <td>408906695083954177</td>\n",
       "      <td>1386325927</td>\n",
       "      <td>EvgeshaRe</td>\n",
       "      <td>RT @KatiaCheh: Ну ты идиотка) я испугалась за ...</td>\n",
       "      <td>1</td>\n",
       "      <td>0</td>\n",
       "      <td>1</td>\n",
       "      <td>0</td>\n",
       "      <td>1273</td>\n",
       "      <td>26</td>\n",
       "      <td>27</td>\n",
       "      <td>0</td>\n",
       "    </tr>\n",
       "  </tbody>\n",
       "</table>\n",
       "</div>"
      ],
      "text/plain": [
       "                  _c0         _c1              _c2  \\\n",
       "0  408906692374446080  1386325927  pleease_shut_up   \n",
       "1  408906692693221377  1386325927  alinakirpicheva   \n",
       "2  408906695083954177  1386325927        EvgeshaRe   \n",
       "\n",
       "                                                 _c3 _c4 _c5 _c6 _c7    _c8  \\\n",
       "0  @first_timee хоть я и школота, но поверь, у на...   1   0   0   0   7569   \n",
       "1  Да, все-таки он немного похож на него. Но мой ...   1   0   0   0  11825   \n",
       "2  RT @KatiaCheh: Ну ты идиотка) я испугалась за ...   1   0   1   0   1273   \n",
       "\n",
       "  _c9 _c10 _c11  \n",
       "0  62   61    0  \n",
       "1  59   31    2  \n",
       "2  26   27    0  "
      ]
     },
     "metadata": {},
     "output_type": "display_data"
    }
   ],
   "source": [
    "display(text_data_negative.limit(3).toPandas())\n",
    "display(text_data_positive.limit(3).toPandas())"
   ]
  },
  {
   "cell_type": "code",
   "execution_count": 40,
   "metadata": {},
   "outputs": [
    {
     "name": "stdout",
     "output_type": "stream",
     "text": [
      "+-----------------------------------------------------------------------------------------------------------------------------+-----+\n",
      "|text                                                                                                                         |label|\n",
      "+-----------------------------------------------------------------------------------------------------------------------------+-----+\n",
      "|Обидеть любимого человечка, самого дорогого в жизни , не хотя этого - только я могу......((((((((((((((((((                  |0    |\n",
      "|обычно самый шумный - я, а тут соседи,хм )                                                                                   |1    |\n",
      "|@Black_Balzac только не сожги остаток своего и так безразмерного мозга. Добра тебе еще раз) Пока                             |1    |\n",
      "|Так мило наблюдать за девушками, которые чистят свои автомобили. Так бережно, поглядывая на маникюр. ) Девушки, вы прекрасны!|1    |\n",
      "|@samoilenko143 ты как буд-то в другом часовом поясе живешь) у нас только 05.47, а ты уже в кино успела сходить)              |1    |\n",
      "|0                                                                                                                            |1    |\n",
      "|Здравствуй, школа) @ Гимназия 1503 http://t.co/uwl1XKNXRa                                                                    |1    |\n",
      "|Выйдя из кабинета шефа, он выглядел как-то... натянуто.))))                                                                  |1    |\n",
      "+-----------------------------------------------------------------------------------------------------------------------------+-----+\n",
      "\n"
     ]
    }
   ],
   "source": [
    "text_data_negative = text_data_negative.select('_c3').withColumnRenamed('_c3', 'text').withColumn('label', F.lit(0))\n",
    "text_data_positive = text_data_positive.select('_c3').withColumnRenamed('_c3', 'text').withColumn('label', F.lit(1))\n",
    "text_data = text_data_negative.union(text_data_positive).dropna()\n",
    "\n",
    "text_data.sample(3e-5).show(truncate=False)"
   ]
  },
  {
   "cell_type": "code",
   "execution_count": 41,
   "metadata": {},
   "outputs": [],
   "source": [
    "from pyspark.ml.feature import Tokenizer, NGram, HashingTF, IDF \n",
    "from pyspark.ml.classification import NaiveBayes"
   ]
  },
  {
   "cell_type": "code",
   "execution_count": 42,
   "metadata": {},
   "outputs": [],
   "source": [
    "text_pipe = Pipeline(stages=[\n",
    "    Tokenizer(inputCol='text', outputCol='tokens'),\n",
    "    NGram(inputCol='tokens', outputCol='ngrams', n=2),\n",
    "    HashingTF(inputCol='ngrams', outputCol='tf'),\n",
    "    IDF(inputCol='tf', outputCol='idf'),\n",
    "    VectorAssembler(inputCols=['tf', 'idf'], outputCol='features'),\n",
    "    NaiveBayes(featuresCol='features', labelCol='label')\n",
    "])"
   ]
  },
  {
   "cell_type": "code",
   "execution_count": 43,
   "metadata": {},
   "outputs": [
    {
     "name": "stderr",
     "output_type": "stream",
     "text": [
      "[Stage 712:>                                                       (0 + 0) / 13]\r"
     ]
    },
    {
     "name": "stdout",
     "output_type": "stream",
     "text": [
      "23/02/23 21:43:35 WARN DAGScheduler: Broadcasting large task binary with size 30.6 MiB\n"
     ]
    },
    {
     "name": "stderr",
     "output_type": "stream",
     "text": [
      "[Stage 714:>                                                        (0 + 0) / 2]\r"
     ]
    },
    {
     "name": "stdout",
     "output_type": "stream",
     "text": [
      "23/02/23 21:43:43 WARN DAGScheduler: Broadcasting large task binary with size 30.6 MiB\n"
     ]
    },
    {
     "name": "stderr",
     "output_type": "stream",
     "text": [
      "                                                                                \r"
     ]
    }
   ],
   "source": [
    "text_pipe_model = text_pipe.fit(text_data)"
   ]
  },
  {
   "cell_type": "code",
   "execution_count": 44,
   "metadata": {},
   "outputs": [
    {
     "name": "stdout",
     "output_type": "stream",
     "text": [
      "23/02/23 21:43:45 WARN DAGScheduler: Broadcasting large task binary with size 12.1 MiB\n"
     ]
    },
    {
     "data": {
      "text/html": [
       "<div>\n",
       "<style scoped>\n",
       "    .dataframe tbody tr th:only-of-type {\n",
       "        vertical-align: middle;\n",
       "    }\n",
       "\n",
       "    .dataframe tbody tr th {\n",
       "        vertical-align: top;\n",
       "    }\n",
       "\n",
       "    .dataframe thead th {\n",
       "        text-align: right;\n",
       "    }\n",
       "</style>\n",
       "<table border=\"1\" class=\"dataframe\">\n",
       "  <thead>\n",
       "    <tr style=\"text-align: right;\">\n",
       "      <th></th>\n",
       "      <th>text</th>\n",
       "      <th>label</th>\n",
       "      <th>tokens</th>\n",
       "      <th>ngrams</th>\n",
       "      <th>tf</th>\n",
       "      <th>idf</th>\n",
       "      <th>features</th>\n",
       "      <th>rawPrediction</th>\n",
       "      <th>probability</th>\n",
       "      <th>prediction</th>\n",
       "    </tr>\n",
       "  </thead>\n",
       "  <tbody>\n",
       "    <tr>\n",
       "      <th>0</th>\n",
       "      <td>на работе был полный пиддес :| и так каждое за...</td>\n",
       "      <td>0</td>\n",
       "      <td>[на, работе, был, полный, пиддес, :|, и, так, ...</td>\n",
       "      <td>[на работе, работе был, был полный, полный пид...</td>\n",
       "      <td>(0.0, 0.0, 0.0, 0.0, 0.0, 0.0, 0.0, 0.0, 0.0, ...</td>\n",
       "      <td>(0.0, 0.0, 0.0, 0.0, 0.0, 0.0, 0.0, 0.0, 0.0, ...</td>\n",
       "      <td>(0.0, 0.0, 0.0, 0.0, 0.0, 0.0, 0.0, 0.0, 0.0, ...</td>\n",
       "      <td>[-1967.08547000446, -1985.1947238238504]</td>\n",
       "      <td>[0.9999999863462801, 1.3653719889781722e-08]</td>\n",
       "      <td>0.0</td>\n",
       "    </tr>\n",
       "    <tr>\n",
       "      <th>1</th>\n",
       "      <td>Коллеги сидят рубятся в Urban terror, а я из-з...</td>\n",
       "      <td>0</td>\n",
       "      <td>[коллеги, сидят, рубятся, в, urban, terror,, а...</td>\n",
       "      <td>[коллеги сидят, сидят рубятся, рубятся в, в ur...</td>\n",
       "      <td>(0.0, 0.0, 0.0, 0.0, 0.0, 0.0, 0.0, 0.0, 0.0, ...</td>\n",
       "      <td>(0.0, 0.0, 0.0, 0.0, 0.0, 0.0, 0.0, 0.0, 0.0, ...</td>\n",
       "      <td>(0.0, 0.0, 0.0, 0.0, 0.0, 0.0, 0.0, 0.0, 0.0, ...</td>\n",
       "      <td>[-1536.899562052501, -1695.331439735471]</td>\n",
       "      <td>[1.0, 1.562822894282169e-69]</td>\n",
       "      <td>0.0</td>\n",
       "    </tr>\n",
       "    <tr>\n",
       "      <th>2</th>\n",
       "      <td>@elina_4post как говорят обещаного три года жд...</td>\n",
       "      <td>0</td>\n",
       "      <td>[@elina_4post, как, говорят, обещаного, три, г...</td>\n",
       "      <td>[@elina_4post как, как говорят, говорят обещан...</td>\n",
       "      <td>(0.0, 0.0, 0.0, 0.0, 0.0, 0.0, 0.0, 0.0, 0.0, ...</td>\n",
       "      <td>(0.0, 0.0, 0.0, 0.0, 0.0, 0.0, 0.0, 0.0, 0.0, ...</td>\n",
       "      <td>(0.0, 0.0, 0.0, 0.0, 0.0, 0.0, 0.0, 0.0, 0.0, ...</td>\n",
       "      <td>[-839.4052796735651, -857.270362723404]</td>\n",
       "      <td>[0.9999999825701759, 1.74298241347285e-08]</td>\n",
       "      <td>0.0</td>\n",
       "    </tr>\n",
       "  </tbody>\n",
       "</table>\n",
       "</div>"
      ],
      "text/plain": [
       "                                                text  label  \\\n",
       "0  на работе был полный пиддес :| и так каждое за...      0   \n",
       "1  Коллеги сидят рубятся в Urban terror, а я из-з...      0   \n",
       "2  @elina_4post как говорят обещаного три года жд...      0   \n",
       "\n",
       "                                              tokens  \\\n",
       "0  [на, работе, был, полный, пиддес, :|, и, так, ...   \n",
       "1  [коллеги, сидят, рубятся, в, urban, terror,, а...   \n",
       "2  [@elina_4post, как, говорят, обещаного, три, г...   \n",
       "\n",
       "                                              ngrams  \\\n",
       "0  [на работе, работе был, был полный, полный пид...   \n",
       "1  [коллеги сидят, сидят рубятся, рубятся в, в ur...   \n",
       "2  [@elina_4post как, как говорят, говорят обещан...   \n",
       "\n",
       "                                                  tf  \\\n",
       "0  (0.0, 0.0, 0.0, 0.0, 0.0, 0.0, 0.0, 0.0, 0.0, ...   \n",
       "1  (0.0, 0.0, 0.0, 0.0, 0.0, 0.0, 0.0, 0.0, 0.0, ...   \n",
       "2  (0.0, 0.0, 0.0, 0.0, 0.0, 0.0, 0.0, 0.0, 0.0, ...   \n",
       "\n",
       "                                                 idf  \\\n",
       "0  (0.0, 0.0, 0.0, 0.0, 0.0, 0.0, 0.0, 0.0, 0.0, ...   \n",
       "1  (0.0, 0.0, 0.0, 0.0, 0.0, 0.0, 0.0, 0.0, 0.0, ...   \n",
       "2  (0.0, 0.0, 0.0, 0.0, 0.0, 0.0, 0.0, 0.0, 0.0, ...   \n",
       "\n",
       "                                            features  \\\n",
       "0  (0.0, 0.0, 0.0, 0.0, 0.0, 0.0, 0.0, 0.0, 0.0, ...   \n",
       "1  (0.0, 0.0, 0.0, 0.0, 0.0, 0.0, 0.0, 0.0, 0.0, ...   \n",
       "2  (0.0, 0.0, 0.0, 0.0, 0.0, 0.0, 0.0, 0.0, 0.0, ...   \n",
       "\n",
       "                              rawPrediction  \\\n",
       "0  [-1967.08547000446, -1985.1947238238504]   \n",
       "1  [-1536.899562052501, -1695.331439735471]   \n",
       "2   [-839.4052796735651, -857.270362723404]   \n",
       "\n",
       "                                    probability  prediction  \n",
       "0  [0.9999999863462801, 1.3653719889781722e-08]         0.0  \n",
       "1                  [1.0, 1.562822894282169e-69]         0.0  \n",
       "2    [0.9999999825701759, 1.74298241347285e-08]         0.0  "
      ]
     },
     "execution_count": 44,
     "metadata": {},
     "output_type": "execute_result"
    }
   ],
   "source": [
    "text_pipe_model.transform(text_data).limit(3).toPandas()"
   ]
  },
  {
   "cell_type": "code",
   "execution_count": 45,
   "metadata": {},
   "outputs": [
    {
     "name": "stderr",
     "output_type": "stream",
     "text": [
      "[Stage 716:>                                                       (0 + 0) / 13]\r"
     ]
    },
    {
     "name": "stdout",
     "output_type": "stream",
     "text": [
      "23/02/23 21:43:51 WARN DAGScheduler: Broadcasting large task binary with size 38.6 MiB\n"
     ]
    },
    {
     "name": "stderr",
     "output_type": "stream",
     "text": [
      "[Stage 727:>                                                       (0 + 0) / 13]\r"
     ]
    },
    {
     "name": "stdout",
     "output_type": "stream",
     "text": [
      "23/02/23 21:44:00 WARN DAGScheduler: Broadcasting large task binary with size 38.6 MiB\n"
     ]
    },
    {
     "name": "stderr",
     "output_type": "stream",
     "text": [
      "[Stage 727:==================================================>    (12 + 1) / 13]\r"
     ]
    },
    {
     "name": "stdout",
     "output_type": "stream",
     "text": [
      "ROC AUC: 0.486, Accuracy: 0.849\n"
     ]
    },
    {
     "name": "stderr",
     "output_type": "stream",
     "text": [
      "                                                                                \r"
     ]
    }
   ],
   "source": [
    "evaluator_roc_auc = BinaryClassificationEvaluator(\n",
    "    labelCol='label',\n",
    "    metricName='areaUnderROC'\n",
    ")\n",
    "evaluator_accuracy = MulticlassClassificationEvaluator(\n",
    "    labelCol='label',\n",
    "    metricName='accuracy'\n",
    ")\n",
    "print('ROC AUC: {0:.3f}, Accuracy: {1:.3f}'.format(\n",
    "    evaluator_roc_auc.evaluate(text_pipe_model.transform(text_data)),\n",
    "    evaluator_accuracy.evaluate(text_pipe_model.transform(text_data)),\n",
    "))"
   ]
  },
  {
   "attachments": {},
   "cell_type": "markdown",
   "metadata": {},
   "source": [
    "### `Пример. Немного EDA для данных из проекта (M5 Forecasting)`"
   ]
  },
  {
   "cell_type": "code",
   "execution_count": 46,
   "metadata": {},
   "outputs": [
    {
     "name": "stdout",
     "output_type": "stream",
     "text": [
      "Downloading m5-forecasting-accuracy.zip to /Users/nakhodnov/HSE_DPO_Spark_2022/Seminars/Seminar 06\n",
      " 98%|█████████████████████████████████████▎| 45.0M/45.8M [00:02<00:00, 32.0MB/s]\n",
      "100%|██████████████████████████████████████| 45.8M/45.8M [00:02<00:00, 21.1MB/s]\n",
      "Archive:  m5-forecasting-accuracy.zip\n",
      "  inflating: ./m5-forecasting-accuracy/calendar.csv  \n",
      "  inflating: ./m5-forecasting-accuracy/sales_train_evaluation.csv  \n",
      "  inflating: ./m5-forecasting-accuracy/sales_train_validation.csv  \n",
      "  inflating: ./m5-forecasting-accuracy/sample_submission.csv  \n",
      "  inflating: ./m5-forecasting-accuracy/sell_prices.csv  \n"
     ]
    }
   ],
   "source": [
    "path = \"./m5-forecasting-accuracy\"\n",
    "! kaggle competitions download -c m5-forecasting-accuracy\n",
    "! unzip m5-forecasting-accuracy.zip -d $path\n",
    "! rm -rf m5-forecasting-accuracy.zip"
   ]
  },
  {
   "cell_type": "code",
   "execution_count": 47,
   "metadata": {},
   "outputs": [
    {
     "name": "stderr",
     "output_type": "stream",
     "text": [
      "                                                                                \r"
     ]
    }
   ],
   "source": [
    "file_calendar = f\"{path}/calendar.csv\"\n",
    "file_validation = f\"{path}/sales_train_validation.csv\"\n",
    "file_evaluation = f\"{path}/sales_train_evaluation.csv\"\n",
    "file_prices = f\"{path}/sell_prices.csv\"\n",
    "file_calendar = f\"{path}/calendar.csv\"\n",
    "\n",
    "file_type = \"csv\"\n",
    "infer_schema = \"true\"\n",
    "first_row_is_header = \"true\"\n",
    "delimiter = \",\"\n",
    "\n",
    "df_validation = (\n",
    "    spark.read.format(file_type)\n",
    "      .option(\"inferSchema\", infer_schema)\n",
    "      .option(\"header\", first_row_is_header)\n",
    "      .option(\"sep\", delimiter)\n",
    "      .load(file_validation)\n",
    ")\n",
    "df_evaluation = (\n",
    "    spark.read.format(file_type)\n",
    "      .option(\"inferSchema\", infer_schema)\n",
    "      .option(\"header\", first_row_is_header)\n",
    "      .option(\"sep\", delimiter)\n",
    "      .load(file_evaluation)\n",
    ")\n",
    "df_prices = (\n",
    "    spark.read.format(file_type)\n",
    "      .option(\"inferSchema\", infer_schema)\n",
    "      .option(\"header\", first_row_is_header)\n",
    "      .option(\"sep\", delimiter)\n",
    "      .load(file_prices)\n",
    ")\n",
    "df_calendar = (\n",
    "    spark.read.format(file_type)\n",
    "      .option(\"inferSchema\", infer_schema)\n",
    "      .option(\"header\", first_row_is_header)\n",
    "      .option(\"sep\", delimiter)\n",
    "      .load(file_calendar)\n",
    ")"
   ]
  },
  {
   "cell_type": "code",
   "execution_count": 48,
   "metadata": {},
   "outputs": [
    {
     "data": {
      "text/html": [
       "<div>\n",
       "<style scoped>\n",
       "    .dataframe tbody tr th:only-of-type {\n",
       "        vertical-align: middle;\n",
       "    }\n",
       "\n",
       "    .dataframe tbody tr th {\n",
       "        vertical-align: top;\n",
       "    }\n",
       "\n",
       "    .dataframe thead th {\n",
       "        text-align: right;\n",
       "    }\n",
       "</style>\n",
       "<table border=\"1\" class=\"dataframe\">\n",
       "  <thead>\n",
       "    <tr style=\"text-align: right;\">\n",
       "      <th></th>\n",
       "      <th>id</th>\n",
       "      <th>item_id</th>\n",
       "      <th>dept_id</th>\n",
       "      <th>cat_id</th>\n",
       "      <th>store_id</th>\n",
       "      <th>state_id</th>\n",
       "      <th>d_1</th>\n",
       "      <th>d_2</th>\n",
       "      <th>d_3</th>\n",
       "      <th>d_4</th>\n",
       "      <th>...</th>\n",
       "      <th>d_1932</th>\n",
       "      <th>d_1933</th>\n",
       "      <th>d_1934</th>\n",
       "      <th>d_1935</th>\n",
       "      <th>d_1936</th>\n",
       "      <th>d_1937</th>\n",
       "      <th>d_1938</th>\n",
       "      <th>d_1939</th>\n",
       "      <th>d_1940</th>\n",
       "      <th>d_1941</th>\n",
       "    </tr>\n",
       "  </thead>\n",
       "  <tbody>\n",
       "    <tr>\n",
       "      <th>0</th>\n",
       "      <td>HOBBIES_1_001_CA_1_evaluation</td>\n",
       "      <td>HOBBIES_1_001</td>\n",
       "      <td>HOBBIES_1</td>\n",
       "      <td>HOBBIES</td>\n",
       "      <td>CA_1</td>\n",
       "      <td>CA</td>\n",
       "      <td>0</td>\n",
       "      <td>0</td>\n",
       "      <td>0</td>\n",
       "      <td>0</td>\n",
       "      <td>...</td>\n",
       "      <td>2</td>\n",
       "      <td>4</td>\n",
       "      <td>0</td>\n",
       "      <td>0</td>\n",
       "      <td>0</td>\n",
       "      <td>0</td>\n",
       "      <td>3</td>\n",
       "      <td>3</td>\n",
       "      <td>0</td>\n",
       "      <td>1</td>\n",
       "    </tr>\n",
       "    <tr>\n",
       "      <th>1</th>\n",
       "      <td>HOBBIES_1_002_CA_1_evaluation</td>\n",
       "      <td>HOBBIES_1_002</td>\n",
       "      <td>HOBBIES_1</td>\n",
       "      <td>HOBBIES</td>\n",
       "      <td>CA_1</td>\n",
       "      <td>CA</td>\n",
       "      <td>0</td>\n",
       "      <td>0</td>\n",
       "      <td>0</td>\n",
       "      <td>0</td>\n",
       "      <td>...</td>\n",
       "      <td>0</td>\n",
       "      <td>1</td>\n",
       "      <td>2</td>\n",
       "      <td>1</td>\n",
       "      <td>1</td>\n",
       "      <td>0</td>\n",
       "      <td>0</td>\n",
       "      <td>0</td>\n",
       "      <td>0</td>\n",
       "      <td>0</td>\n",
       "    </tr>\n",
       "    <tr>\n",
       "      <th>2</th>\n",
       "      <td>HOBBIES_1_003_CA_1_evaluation</td>\n",
       "      <td>HOBBIES_1_003</td>\n",
       "      <td>HOBBIES_1</td>\n",
       "      <td>HOBBIES</td>\n",
       "      <td>CA_1</td>\n",
       "      <td>CA</td>\n",
       "      <td>0</td>\n",
       "      <td>0</td>\n",
       "      <td>0</td>\n",
       "      <td>0</td>\n",
       "      <td>...</td>\n",
       "      <td>1</td>\n",
       "      <td>0</td>\n",
       "      <td>2</td>\n",
       "      <td>0</td>\n",
       "      <td>0</td>\n",
       "      <td>0</td>\n",
       "      <td>2</td>\n",
       "      <td>3</td>\n",
       "      <td>0</td>\n",
       "      <td>1</td>\n",
       "    </tr>\n",
       "    <tr>\n",
       "      <th>3</th>\n",
       "      <td>HOBBIES_1_004_CA_1_evaluation</td>\n",
       "      <td>HOBBIES_1_004</td>\n",
       "      <td>HOBBIES_1</td>\n",
       "      <td>HOBBIES</td>\n",
       "      <td>CA_1</td>\n",
       "      <td>CA</td>\n",
       "      <td>0</td>\n",
       "      <td>0</td>\n",
       "      <td>0</td>\n",
       "      <td>0</td>\n",
       "      <td>...</td>\n",
       "      <td>1</td>\n",
       "      <td>1</td>\n",
       "      <td>0</td>\n",
       "      <td>4</td>\n",
       "      <td>0</td>\n",
       "      <td>1</td>\n",
       "      <td>3</td>\n",
       "      <td>0</td>\n",
       "      <td>2</td>\n",
       "      <td>6</td>\n",
       "    </tr>\n",
       "    <tr>\n",
       "      <th>4</th>\n",
       "      <td>HOBBIES_1_005_CA_1_evaluation</td>\n",
       "      <td>HOBBIES_1_005</td>\n",
       "      <td>HOBBIES_1</td>\n",
       "      <td>HOBBIES</td>\n",
       "      <td>CA_1</td>\n",
       "      <td>CA</td>\n",
       "      <td>0</td>\n",
       "      <td>0</td>\n",
       "      <td>0</td>\n",
       "      <td>0</td>\n",
       "      <td>...</td>\n",
       "      <td>0</td>\n",
       "      <td>0</td>\n",
       "      <td>0</td>\n",
       "      <td>2</td>\n",
       "      <td>1</td>\n",
       "      <td>0</td>\n",
       "      <td>0</td>\n",
       "      <td>2</td>\n",
       "      <td>1</td>\n",
       "      <td>0</td>\n",
       "    </tr>\n",
       "  </tbody>\n",
       "</table>\n",
       "<p>5 rows × 1947 columns</p>\n",
       "</div>"
      ],
      "text/plain": [
       "                              id        item_id    dept_id   cat_id store_id  \\\n",
       "0  HOBBIES_1_001_CA_1_evaluation  HOBBIES_1_001  HOBBIES_1  HOBBIES     CA_1   \n",
       "1  HOBBIES_1_002_CA_1_evaluation  HOBBIES_1_002  HOBBIES_1  HOBBIES     CA_1   \n",
       "2  HOBBIES_1_003_CA_1_evaluation  HOBBIES_1_003  HOBBIES_1  HOBBIES     CA_1   \n",
       "3  HOBBIES_1_004_CA_1_evaluation  HOBBIES_1_004  HOBBIES_1  HOBBIES     CA_1   \n",
       "4  HOBBIES_1_005_CA_1_evaluation  HOBBIES_1_005  HOBBIES_1  HOBBIES     CA_1   \n",
       "\n",
       "  state_id  d_1  d_2  d_3  d_4  ...  d_1932  d_1933  d_1934  d_1935  d_1936  \\\n",
       "0       CA    0    0    0    0  ...       2       4       0       0       0   \n",
       "1       CA    0    0    0    0  ...       0       1       2       1       1   \n",
       "2       CA    0    0    0    0  ...       1       0       2       0       0   \n",
       "3       CA    0    0    0    0  ...       1       1       0       4       0   \n",
       "4       CA    0    0    0    0  ...       0       0       0       2       1   \n",
       "\n",
       "   d_1937  d_1938  d_1939  d_1940  d_1941  \n",
       "0       0       3       3       0       1  \n",
       "1       0       0       0       0       0  \n",
       "2       0       2       3       0       1  \n",
       "3       1       3       0       2       6  \n",
       "4       0       0       2       1       0  \n",
       "\n",
       "[5 rows x 1947 columns]"
      ]
     },
     "execution_count": 48,
     "metadata": {},
     "output_type": "execute_result"
    }
   ],
   "source": [
    "df_evaluation.limit(5).toPandas()"
   ]
  },
  {
   "attachments": {},
   "cell_type": "markdown",
   "metadata": {},
   "source": [
    "Выясним, есть ли разница в спросе на товары в зависимости от дня недели. Для этого найдём суммарный спрос для каждого дня, затем проагрегируем его по дням недели и отобразим на графике."
   ]
  },
  {
   "attachments": {},
   "cell_type": "markdown",
   "metadata": {},
   "source": [
    "Возьмём колонки, в которых содержится спрос в конкретный день:"
   ]
  },
  {
   "cell_type": "code",
   "execution_count": 49,
   "metadata": {},
   "outputs": [
    {
     "data": {
      "text/plain": [
       "['d_1', 'd_2', 'd_3', 'd_4', 'd_5', 'd_6', 'd_7', 'd_8', 'd_9', 'd_10']"
      ]
     },
     "execution_count": 49,
     "metadata": {},
     "output_type": "execute_result"
    }
   ],
   "source": [
    "day_columns = [column for column in df_evaluation.columns if column.startswith('d_')]\n",
    "day_columns[:10]"
   ]
  },
  {
   "attachments": {},
   "cell_type": "markdown",
   "metadata": {},
   "source": [
    "Посчитаем суммарный спрос по всем товарам в каждый день:"
   ]
  },
  {
   "cell_type": "code",
   "execution_count": 50,
   "metadata": {},
   "outputs": [
    {
     "name": "stdout",
     "output_type": "stream",
     "text": [
      "23/02/23 21:44:54 WARN DAGScheduler: Broadcasting large task binary with size 1016.4 KiB\n"
     ]
    },
    {
     "name": "stderr",
     "output_type": "stream",
     "text": [
      "[Stage 738:=============================================>         (10 + 2) / 12]\r"
     ]
    },
    {
     "name": "stdout",
     "output_type": "stream",
     "text": [
      "23/02/23 21:45:04 WARN DAGScheduler: Broadcasting large task binary with size 1732.9 KiB\n"
     ]
    },
    {
     "name": "stderr",
     "output_type": "stream",
     "text": [
      "                                                                                \r"
     ]
    },
    {
     "data": {
      "text/html": [
       "<div>\n",
       "<style scoped>\n",
       "    .dataframe tbody tr th:only-of-type {\n",
       "        vertical-align: middle;\n",
       "    }\n",
       "\n",
       "    .dataframe tbody tr th {\n",
       "        vertical-align: top;\n",
       "    }\n",
       "\n",
       "    .dataframe thead th {\n",
       "        text-align: right;\n",
       "    }\n",
       "</style>\n",
       "<table border=\"1\" class=\"dataframe\">\n",
       "  <thead>\n",
       "    <tr style=\"text-align: right;\">\n",
       "      <th></th>\n",
       "      <th>d_1</th>\n",
       "      <th>d_2</th>\n",
       "      <th>d_3</th>\n",
       "      <th>d_4</th>\n",
       "      <th>d_5</th>\n",
       "      <th>d_6</th>\n",
       "      <th>d_7</th>\n",
       "      <th>d_8</th>\n",
       "      <th>d_9</th>\n",
       "      <th>d_10</th>\n",
       "      <th>...</th>\n",
       "      <th>d_1932</th>\n",
       "      <th>d_1933</th>\n",
       "      <th>d_1934</th>\n",
       "      <th>d_1935</th>\n",
       "      <th>d_1936</th>\n",
       "      <th>d_1937</th>\n",
       "      <th>d_1938</th>\n",
       "      <th>d_1939</th>\n",
       "      <th>d_1940</th>\n",
       "      <th>d_1941</th>\n",
       "    </tr>\n",
       "  </thead>\n",
       "  <tbody>\n",
       "    <tr>\n",
       "      <th>0</th>\n",
       "      <td>32631</td>\n",
       "      <td>31749</td>\n",
       "      <td>23783</td>\n",
       "      <td>25412</td>\n",
       "      <td>19146</td>\n",
       "      <td>29211</td>\n",
       "      <td>28010</td>\n",
       "      <td>37932</td>\n",
       "      <td>32736</td>\n",
       "      <td>25572</td>\n",
       "      <td>...</td>\n",
       "      <td>44073</td>\n",
       "      <td>54308</td>\n",
       "      <td>59921</td>\n",
       "      <td>42362</td>\n",
       "      <td>38777</td>\n",
       "      <td>37096</td>\n",
       "      <td>36963</td>\n",
       "      <td>42552</td>\n",
       "      <td>51518</td>\n",
       "      <td>54338</td>\n",
       "    </tr>\n",
       "  </tbody>\n",
       "</table>\n",
       "<p>1 rows × 1941 columns</p>\n",
       "</div>"
      ],
      "text/plain": [
       "     d_1    d_2    d_3    d_4    d_5    d_6    d_7    d_8    d_9   d_10  ...  \\\n",
       "0  32631  31749  23783  25412  19146  29211  28010  37932  32736  25572  ...   \n",
       "\n",
       "   d_1932  d_1933  d_1934  d_1935  d_1936  d_1937  d_1938  d_1939  d_1940  \\\n",
       "0   44073   54308   59921   42362   38777   37096   36963   42552   51518   \n",
       "\n",
       "   d_1941  \n",
       "0   54338  \n",
       "\n",
       "[1 rows x 1941 columns]"
      ]
     },
     "execution_count": 50,
     "metadata": {},
     "output_type": "execute_result"
    }
   ],
   "source": [
    "df_evaluation_agg = df_evaluation.select(\n",
    "    *[\n",
    "        F.sum(column).alias(column) \n",
    "        for column in day_columns\n",
    "    ]\n",
    ").cache()\n",
    "\n",
    "df_evaluation_agg.toPandas()"
   ]
  },
  {
   "attachments": {},
   "cell_type": "markdown",
   "metadata": {},
   "source": [
    "Чтобы выполнить агрегацию по дням недели нужно для каждого дня определить, какой день недели ему соответствует. Эта информация доступна в таблице с календарём:"
   ]
  },
  {
   "cell_type": "code",
   "execution_count": 51,
   "metadata": {},
   "outputs": [
    {
     "name": "stderr",
     "output_type": "stream",
     "text": [
      "/usr/local/lib/python3.10/site-packages/pyspark/sql/pandas/conversion.py:248: FutureWarning: Passing unit-less datetime64 dtype to .astype is deprecated and will raise in a future version. Pass 'datetime64[ns]' instead\n",
      "  series = series.astype(t, copy=False)\n"
     ]
    },
    {
     "data": {
      "text/html": [
       "<div>\n",
       "<style scoped>\n",
       "    .dataframe tbody tr th:only-of-type {\n",
       "        vertical-align: middle;\n",
       "    }\n",
       "\n",
       "    .dataframe tbody tr th {\n",
       "        vertical-align: top;\n",
       "    }\n",
       "\n",
       "    .dataframe thead th {\n",
       "        text-align: right;\n",
       "    }\n",
       "</style>\n",
       "<table border=\"1\" class=\"dataframe\">\n",
       "  <thead>\n",
       "    <tr style=\"text-align: right;\">\n",
       "      <th></th>\n",
       "      <th>date</th>\n",
       "      <th>wm_yr_wk</th>\n",
       "      <th>weekday</th>\n",
       "      <th>wday</th>\n",
       "      <th>month</th>\n",
       "      <th>year</th>\n",
       "      <th>d</th>\n",
       "      <th>event_name_1</th>\n",
       "      <th>event_type_1</th>\n",
       "      <th>event_name_2</th>\n",
       "      <th>event_type_2</th>\n",
       "      <th>snap_CA</th>\n",
       "      <th>snap_TX</th>\n",
       "      <th>snap_WI</th>\n",
       "    </tr>\n",
       "  </thead>\n",
       "  <tbody>\n",
       "    <tr>\n",
       "      <th>0</th>\n",
       "      <td>2011-01-29</td>\n",
       "      <td>11101</td>\n",
       "      <td>Saturday</td>\n",
       "      <td>1</td>\n",
       "      <td>1</td>\n",
       "      <td>2011</td>\n",
       "      <td>d_1</td>\n",
       "      <td>None</td>\n",
       "      <td>None</td>\n",
       "      <td>None</td>\n",
       "      <td>None</td>\n",
       "      <td>0</td>\n",
       "      <td>0</td>\n",
       "      <td>0</td>\n",
       "    </tr>\n",
       "    <tr>\n",
       "      <th>1</th>\n",
       "      <td>2011-01-30</td>\n",
       "      <td>11101</td>\n",
       "      <td>Sunday</td>\n",
       "      <td>2</td>\n",
       "      <td>1</td>\n",
       "      <td>2011</td>\n",
       "      <td>d_2</td>\n",
       "      <td>None</td>\n",
       "      <td>None</td>\n",
       "      <td>None</td>\n",
       "      <td>None</td>\n",
       "      <td>0</td>\n",
       "      <td>0</td>\n",
       "      <td>0</td>\n",
       "    </tr>\n",
       "    <tr>\n",
       "      <th>2</th>\n",
       "      <td>2011-01-31</td>\n",
       "      <td>11101</td>\n",
       "      <td>Monday</td>\n",
       "      <td>3</td>\n",
       "      <td>1</td>\n",
       "      <td>2011</td>\n",
       "      <td>d_3</td>\n",
       "      <td>None</td>\n",
       "      <td>None</td>\n",
       "      <td>None</td>\n",
       "      <td>None</td>\n",
       "      <td>0</td>\n",
       "      <td>0</td>\n",
       "      <td>0</td>\n",
       "    </tr>\n",
       "    <tr>\n",
       "      <th>3</th>\n",
       "      <td>2011-02-01</td>\n",
       "      <td>11101</td>\n",
       "      <td>Tuesday</td>\n",
       "      <td>4</td>\n",
       "      <td>2</td>\n",
       "      <td>2011</td>\n",
       "      <td>d_4</td>\n",
       "      <td>None</td>\n",
       "      <td>None</td>\n",
       "      <td>None</td>\n",
       "      <td>None</td>\n",
       "      <td>1</td>\n",
       "      <td>1</td>\n",
       "      <td>0</td>\n",
       "    </tr>\n",
       "    <tr>\n",
       "      <th>4</th>\n",
       "      <td>2011-02-02</td>\n",
       "      <td>11101</td>\n",
       "      <td>Wednesday</td>\n",
       "      <td>5</td>\n",
       "      <td>2</td>\n",
       "      <td>2011</td>\n",
       "      <td>d_5</td>\n",
       "      <td>None</td>\n",
       "      <td>None</td>\n",
       "      <td>None</td>\n",
       "      <td>None</td>\n",
       "      <td>1</td>\n",
       "      <td>0</td>\n",
       "      <td>1</td>\n",
       "    </tr>\n",
       "    <tr>\n",
       "      <th>5</th>\n",
       "      <td>2011-02-03</td>\n",
       "      <td>11101</td>\n",
       "      <td>Thursday</td>\n",
       "      <td>6</td>\n",
       "      <td>2</td>\n",
       "      <td>2011</td>\n",
       "      <td>d_6</td>\n",
       "      <td>None</td>\n",
       "      <td>None</td>\n",
       "      <td>None</td>\n",
       "      <td>None</td>\n",
       "      <td>1</td>\n",
       "      <td>1</td>\n",
       "      <td>1</td>\n",
       "    </tr>\n",
       "    <tr>\n",
       "      <th>6</th>\n",
       "      <td>2011-02-04</td>\n",
       "      <td>11101</td>\n",
       "      <td>Friday</td>\n",
       "      <td>7</td>\n",
       "      <td>2</td>\n",
       "      <td>2011</td>\n",
       "      <td>d_7</td>\n",
       "      <td>None</td>\n",
       "      <td>None</td>\n",
       "      <td>None</td>\n",
       "      <td>None</td>\n",
       "      <td>1</td>\n",
       "      <td>0</td>\n",
       "      <td>0</td>\n",
       "    </tr>\n",
       "    <tr>\n",
       "      <th>7</th>\n",
       "      <td>2011-02-05</td>\n",
       "      <td>11102</td>\n",
       "      <td>Saturday</td>\n",
       "      <td>1</td>\n",
       "      <td>2</td>\n",
       "      <td>2011</td>\n",
       "      <td>d_8</td>\n",
       "      <td>None</td>\n",
       "      <td>None</td>\n",
       "      <td>None</td>\n",
       "      <td>None</td>\n",
       "      <td>1</td>\n",
       "      <td>1</td>\n",
       "      <td>1</td>\n",
       "    </tr>\n",
       "    <tr>\n",
       "      <th>8</th>\n",
       "      <td>2011-02-06</td>\n",
       "      <td>11102</td>\n",
       "      <td>Sunday</td>\n",
       "      <td>2</td>\n",
       "      <td>2</td>\n",
       "      <td>2011</td>\n",
       "      <td>d_9</td>\n",
       "      <td>SuperBowl</td>\n",
       "      <td>Sporting</td>\n",
       "      <td>None</td>\n",
       "      <td>None</td>\n",
       "      <td>1</td>\n",
       "      <td>1</td>\n",
       "      <td>1</td>\n",
       "    </tr>\n",
       "    <tr>\n",
       "      <th>9</th>\n",
       "      <td>2011-02-07</td>\n",
       "      <td>11102</td>\n",
       "      <td>Monday</td>\n",
       "      <td>3</td>\n",
       "      <td>2</td>\n",
       "      <td>2011</td>\n",
       "      <td>d_10</td>\n",
       "      <td>None</td>\n",
       "      <td>None</td>\n",
       "      <td>None</td>\n",
       "      <td>None</td>\n",
       "      <td>1</td>\n",
       "      <td>1</td>\n",
       "      <td>0</td>\n",
       "    </tr>\n",
       "  </tbody>\n",
       "</table>\n",
       "</div>"
      ],
      "text/plain": [
       "        date  wm_yr_wk    weekday  wday  month  year     d event_name_1  \\\n",
       "0 2011-01-29     11101   Saturday     1      1  2011   d_1         None   \n",
       "1 2011-01-30     11101     Sunday     2      1  2011   d_2         None   \n",
       "2 2011-01-31     11101     Monday     3      1  2011   d_3         None   \n",
       "3 2011-02-01     11101    Tuesday     4      2  2011   d_4         None   \n",
       "4 2011-02-02     11101  Wednesday     5      2  2011   d_5         None   \n",
       "5 2011-02-03     11101   Thursday     6      2  2011   d_6         None   \n",
       "6 2011-02-04     11101     Friday     7      2  2011   d_7         None   \n",
       "7 2011-02-05     11102   Saturday     1      2  2011   d_8         None   \n",
       "8 2011-02-06     11102     Sunday     2      2  2011   d_9    SuperBowl   \n",
       "9 2011-02-07     11102     Monday     3      2  2011  d_10         None   \n",
       "\n",
       "  event_type_1 event_name_2 event_type_2  snap_CA  snap_TX  snap_WI  \n",
       "0         None         None         None        0        0        0  \n",
       "1         None         None         None        0        0        0  \n",
       "2         None         None         None        0        0        0  \n",
       "3         None         None         None        1        1        0  \n",
       "4         None         None         None        1        0        1  \n",
       "5         None         None         None        1        1        1  \n",
       "6         None         None         None        1        0        0  \n",
       "7         None         None         None        1        1        1  \n",
       "8     Sporting         None         None        1        1        1  \n",
       "9         None         None         None        1        1        0  "
      ]
     },
     "execution_count": 51,
     "metadata": {},
     "output_type": "execute_result"
    }
   ],
   "source": [
    "df_calendar.limit(10).toPandas()"
   ]
  },
  {
   "attachments": {},
   "cell_type": "markdown",
   "metadata": {},
   "source": [
    "Чтобы добавить информацию о дне недели к информации о агрегированном спросе нужно транспонировать таблицу со спросом, а затем сделать join с календарём.\n",
    "\n",
    "Выполним unpivot, сконструировав нужное выражение:"
   ]
  },
  {
   "cell_type": "code",
   "execution_count": 52,
   "metadata": {},
   "outputs": [
    {
     "name": "stdout",
     "output_type": "stream",
     "text": [
      "stack(1941, \"d_1\", d_1, \"d_2\", d_2, \"d_3\", d_3, \"d_4\", d_4,  ... , \"d_1939\", d_1939, \"d_1940\", d_1940, \"d_1941\", d_1941) as (Day, Count)\n"
     ]
    }
   ],
   "source": [
    "column_exprs = []\n",
    "for column in day_columns:\n",
    "    column_exprs += [f'\"{column}\"', f'{column}']\n",
    "    \n",
    "unpivot_expr = 'stack({0}, {1}) as (Day, Count)'.format(\n",
    "    len(column_exprs) // 2,\n",
    "    ', '.join(column_exprs)\n",
    ")\n",
    "print(unpivot_expr[:60], '...', unpivot_expr[-71:])"
   ]
  },
  {
   "cell_type": "code",
   "execution_count": 53,
   "metadata": {},
   "outputs": [
    {
     "name": "stdout",
     "output_type": "stream",
     "text": [
      "23/02/23 21:45:16 WARN DAGScheduler: Broadcasting large task binary with size 1995.1 KiB\n"
     ]
    },
    {
     "data": {
      "text/html": [
       "<div>\n",
       "<style scoped>\n",
       "    .dataframe tbody tr th:only-of-type {\n",
       "        vertical-align: middle;\n",
       "    }\n",
       "\n",
       "    .dataframe tbody tr th {\n",
       "        vertical-align: top;\n",
       "    }\n",
       "\n",
       "    .dataframe thead th {\n",
       "        text-align: right;\n",
       "    }\n",
       "</style>\n",
       "<table border=\"1\" class=\"dataframe\">\n",
       "  <thead>\n",
       "    <tr style=\"text-align: right;\">\n",
       "      <th></th>\n",
       "      <th>Day</th>\n",
       "      <th>Count</th>\n",
       "    </tr>\n",
       "  </thead>\n",
       "  <tbody>\n",
       "    <tr>\n",
       "      <th>0</th>\n",
       "      <td>d_1</td>\n",
       "      <td>32631</td>\n",
       "    </tr>\n",
       "    <tr>\n",
       "      <th>1</th>\n",
       "      <td>d_2</td>\n",
       "      <td>31749</td>\n",
       "    </tr>\n",
       "    <tr>\n",
       "      <th>2</th>\n",
       "      <td>d_3</td>\n",
       "      <td>23783</td>\n",
       "    </tr>\n",
       "    <tr>\n",
       "      <th>3</th>\n",
       "      <td>d_4</td>\n",
       "      <td>25412</td>\n",
       "    </tr>\n",
       "    <tr>\n",
       "      <th>4</th>\n",
       "      <td>d_5</td>\n",
       "      <td>19146</td>\n",
       "    </tr>\n",
       "    <tr>\n",
       "      <th>5</th>\n",
       "      <td>d_6</td>\n",
       "      <td>29211</td>\n",
       "    </tr>\n",
       "    <tr>\n",
       "      <th>6</th>\n",
       "      <td>d_7</td>\n",
       "      <td>28010</td>\n",
       "    </tr>\n",
       "    <tr>\n",
       "      <th>7</th>\n",
       "      <td>d_8</td>\n",
       "      <td>37932</td>\n",
       "    </tr>\n",
       "    <tr>\n",
       "      <th>8</th>\n",
       "      <td>d_9</td>\n",
       "      <td>32736</td>\n",
       "    </tr>\n",
       "    <tr>\n",
       "      <th>9</th>\n",
       "      <td>d_10</td>\n",
       "      <td>25572</td>\n",
       "    </tr>\n",
       "  </tbody>\n",
       "</table>\n",
       "</div>"
      ],
      "text/plain": [
       "    Day  Count\n",
       "0   d_1  32631\n",
       "1   d_2  31749\n",
       "2   d_3  23783\n",
       "3   d_4  25412\n",
       "4   d_5  19146\n",
       "5   d_6  29211\n",
       "6   d_7  28010\n",
       "7   d_8  37932\n",
       "8   d_9  32736\n",
       "9  d_10  25572"
      ]
     },
     "execution_count": 53,
     "metadata": {},
     "output_type": "execute_result"
    }
   ],
   "source": [
    "df_evaluation_agg_unpivot = df_evaluation_agg.select(F.expr(unpivot_expr)).cache()\n",
    "df_evaluation_agg_unpivot.limit(10).toPandas()"
   ]
  },
  {
   "attachments": {},
   "cell_type": "markdown",
   "metadata": {},
   "source": [
    "Выполним join и оставим только нужные колонки:"
   ]
  },
  {
   "cell_type": "code",
   "execution_count": 54,
   "metadata": {},
   "outputs": [
    {
     "name": "stdout",
     "output_type": "stream",
     "text": [
      "23/02/23 21:45:21 WARN DAGScheduler: Broadcasting large task binary with size 2003.8 KiB\n"
     ]
    },
    {
     "data": {
      "text/html": [
       "<div>\n",
       "<style scoped>\n",
       "    .dataframe tbody tr th:only-of-type {\n",
       "        vertical-align: middle;\n",
       "    }\n",
       "\n",
       "    .dataframe tbody tr th {\n",
       "        vertical-align: top;\n",
       "    }\n",
       "\n",
       "    .dataframe thead th {\n",
       "        text-align: right;\n",
       "    }\n",
       "</style>\n",
       "<table border=\"1\" class=\"dataframe\">\n",
       "  <thead>\n",
       "    <tr style=\"text-align: right;\">\n",
       "      <th></th>\n",
       "      <th>Day</th>\n",
       "      <th>Count</th>\n",
       "      <th>weekday</th>\n",
       "      <th>wday</th>\n",
       "    </tr>\n",
       "  </thead>\n",
       "  <tbody>\n",
       "    <tr>\n",
       "      <th>0</th>\n",
       "      <td>d_1</td>\n",
       "      <td>32631</td>\n",
       "      <td>Saturday</td>\n",
       "      <td>1</td>\n",
       "    </tr>\n",
       "    <tr>\n",
       "      <th>1</th>\n",
       "      <td>d_2</td>\n",
       "      <td>31749</td>\n",
       "      <td>Sunday</td>\n",
       "      <td>2</td>\n",
       "    </tr>\n",
       "    <tr>\n",
       "      <th>2</th>\n",
       "      <td>d_3</td>\n",
       "      <td>23783</td>\n",
       "      <td>Monday</td>\n",
       "      <td>3</td>\n",
       "    </tr>\n",
       "    <tr>\n",
       "      <th>3</th>\n",
       "      <td>d_4</td>\n",
       "      <td>25412</td>\n",
       "      <td>Tuesday</td>\n",
       "      <td>4</td>\n",
       "    </tr>\n",
       "    <tr>\n",
       "      <th>4</th>\n",
       "      <td>d_5</td>\n",
       "      <td>19146</td>\n",
       "      <td>Wednesday</td>\n",
       "      <td>5</td>\n",
       "    </tr>\n",
       "  </tbody>\n",
       "</table>\n",
       "</div>"
      ],
      "text/plain": [
       "   Day  Count    weekday  wday\n",
       "0  d_1  32631   Saturday     1\n",
       "1  d_2  31749     Sunday     2\n",
       "2  d_3  23783     Monday     3\n",
       "3  d_4  25412    Tuesday     4\n",
       "4  d_5  19146  Wednesday     5"
      ]
     },
     "execution_count": 54,
     "metadata": {},
     "output_type": "execute_result"
    }
   ],
   "source": [
    "df_evaluation_agg_unpivot_with_wday = (\n",
    "    df_evaluation_agg_unpivot\n",
    "        .join(df_calendar, on=df_calendar.d == df_evaluation_agg_unpivot.Day)\n",
    "        .select('Day', 'Count', 'weekday', 'wday')\n",
    ").cache()\n",
    "df_evaluation_agg_unpivot_with_wday.limit(5).toPandas()"
   ]
  },
  {
   "attachments": {},
   "cell_type": "markdown",
   "metadata": {},
   "source": [
    "Теперь проведём агрегацию по дням недели: "
   ]
  },
  {
   "cell_type": "code",
   "execution_count": 55,
   "metadata": {},
   "outputs": [
    {
     "name": "stdout",
     "output_type": "stream",
     "text": [
      "23/02/23 21:45:25 WARN DAGScheduler: Broadcasting large task binary with size 2031.2 KiB\n"
     ]
    },
    {
     "data": {
      "text/plain": [
       "[Row(weekday='Saturday', Count=11594343, wday=1),\n",
       " Row(weekday='Sunday', Count=11482526, wday=2),\n",
       " Row(weekday='Monday', Count=9139596, wday=3),\n",
       " Row(weekday='Tuesday', Count=8448634, wday=4),\n",
       " Row(weekday='Wednesday', Count=8346126, wday=5),\n",
       " Row(weekday='Thursday', Count=8398928, wday=6),\n",
       " Row(weekday='Friday', Count=9517020, wday=7)]"
      ]
     },
     "execution_count": 55,
     "metadata": {},
     "output_type": "execute_result"
    }
   ],
   "source": [
    "count_per_weekday = (\n",
    "    df_evaluation_agg_unpivot_with_wday\n",
    "        .groupBy('weekday')\n",
    "        .agg(\n",
    "            F.sum('Count').alias('Count'),\n",
    "            F.first('wday').alias('wday')\n",
    "        )\n",
    "        .collect()\n",
    ")\n",
    "count_per_weekday"
   ]
  },
  {
   "attachments": {},
   "cell_type": "markdown",
   "metadata": {},
   "source": [
    "Изобразим полученный спрос по дням недели на графике:"
   ]
  },
  {
   "cell_type": "code",
   "execution_count": 56,
   "metadata": {},
   "outputs": [
    {
     "data": {
      "application/pdf": "[encoded data removed]",
      "image/svg+xml": "<?xml version=\"1.0\" encoding=\"utf-8\" standalone=\"no\"?>\n<!DOCTYPE svg PUBLIC \"-//W3C//DTD SVG 1.1//EN\"\n  \"http://www.w3.org/Graphics/SVG/1.1/DTD/svg11.dtd\">\n<svg xmlns:xlink=\"http://www.w3.org/1999/xlink\" width=\"712.46125pt\" height=\"351.034375pt\" viewBox=\"0 0 712.46125 351.034375\" xmlns=\"http://www.w3.org/2000/svg\" version=\"1.1\">\n <metadata>\n  <rdf:RDF xmlns:dc=\"http://purl.org/dc/elements/1.1/\" xmlns:cc=\"http://creativecommons.org/ns#\" xmlns:rdf=\"http://www.w3.org/1999/02/22-rdf-syntax-ns#\">\n   <cc:Work>\n    <dc:type rdf:resource=\"http://purl.org/dc/dcmitype/StillImage\"/>\n    <dc:date>2023-02-23T21:45:27.583171</dc:date>\n    <dc:format>image/svg+xml</dc:format>\n    <dc:creator>\n     <cc:Agent>\n      <dc:title>Matplotlib v3.6.2, https://matplotlib.org/</dc:title>\n     </cc:Agent>\n    </dc:creator>\n   </cc:Work>\n  </rdf:RDF>\n </metadata>\n <defs>\n  <style type=\"text/css\">*{stroke-linejoin: round; stroke-linecap: butt}</style>\n </defs>\n <g id=\"figure_1\">\n  <g id=\"patch_1\">\n   <path d=\"M 0 351.034375 \nL 712.46125 351.034375 \nL 712.46125 0 \nL 0 0 \nz\n\" style=\"fill: #ffffff\"/>\n  </g>\n  <g id=\"axes_1\">\n   <g id=\"patch_2\">\n    <path d=\"M 43.78125 313.478125 \nL 705.26125 313.478125 \nL 705.26125 22.318125 \nL 43.78125 22.318125 \nz\n\" style=\"fill: #ffffff\"/>\n   </g>\n   <g id=\"patch_3\">\n    <path d=\"M 73.848523 313.478125 \nL 144.595047 313.478125 \nL 144.595047 36.182887 \nL 73.848523 36.182887 \nz\n\" clip-path=\"url(#pac7b2a1f45)\" style=\"fill: #1f77b4\"/>\n   </g>\n   <g id=\"patch_4\">\n    <path d=\"M 162.281678 313.478125 \nL 233.028202 313.478125 \nL 233.028202 38.85715 \nL 162.281678 38.85715 \nz\n\" clip-path=\"url(#pac7b2a1f45)\" style=\"fill: #ff7f0e\"/>\n   </g>\n   <g id=\"patch_5\">\n    <path d=\"M 250.714833 313.478125 \nL 321.461357 313.478125 \nL 321.461357 94.89166 \nL 250.714833 94.89166 \nz\n\" clip-path=\"url(#pac7b2a1f45)\" style=\"fill: #2ca02c\"/>\n   </g>\n   <g id=\"patch_6\">\n    <path d=\"M 339.147988 313.478125 \nL 409.894512 313.478125 \nL 409.894512 111.417001 \nL 339.147988 111.417001 \nz\n\" clip-path=\"url(#pac7b2a1f45)\" style=\"fill: #d62728\"/>\n   </g>\n   <g id=\"patch_7\">\n    <path d=\"M 427.581143 313.478125 \nL 498.327667 313.478125 \nL 498.327667 113.868626 \nL 427.581143 113.868626 \nz\n\" clip-path=\"url(#pac7b2a1f45)\" style=\"fill: #9467bd\"/>\n   </g>\n   <g id=\"patch_8\">\n    <path d=\"M 516.014298 313.478125 \nL 586.760822 313.478125 \nL 586.760822 112.605791 \nL 516.014298 112.605791 \nz\n\" clip-path=\"url(#pac7b2a1f45)\" style=\"fill: #8c564b\"/>\n   </g>\n   <g id=\"patch_9\">\n    <path d=\"M 604.447453 313.478125 \nL 675.193977 313.478125 \nL 675.193977 85.865027 \nL 604.447453 85.865027 \nz\n\" clip-path=\"url(#pac7b2a1f45)\" style=\"fill: #e377c2\"/>\n   </g>\n   <g id=\"matplotlib.axis_1\">\n    <g id=\"xtick_1\">\n     <g id=\"line2d_1\">\n      <path d=\"M 109.221785 313.478125 \nL 109.221785 22.318125 \n\" clip-path=\"url(#pac7b2a1f45)\" style=\"fill: none; stroke: #b0b0b0; stroke-width: 0.8; stroke-linecap: square\"/>\n     </g>\n     <g id=\"line2d_2\">\n      <defs>\n       <path id=\"m3fe6562236\" d=\"M 0 0 \nL 0 3.5 \n\" style=\"stroke: #000000; stroke-width: 0.8\"/>\n      </defs>\n      <g>\n       <use xlink:href=\"#m3fe6562236\" x=\"109.221785\" y=\"313.478125\" style=\"stroke: #000000; stroke-width: 0.8\"/>\n      </g>\n     </g>\n     <g id=\"text_1\">\n      <!-- Saturday -->\n      <g transform=\"translate(86.688972 328.076563) scale(0.1 -0.1)\">\n       <defs>\n        <path id=\"DejaVuSans-53\" d=\"M 3425 4513 \nL 3425 3897 \nQ 3066 4069 2747 4153 \nQ 2428 4238 2131 4238 \nQ 1616 4238 1336 4038 \nQ 1056 3838 1056 3469 \nQ 1056 3159 1242 3001 \nQ 1428 2844 1947 2747 \nL 2328 2669 \nQ 3034 2534 3370 2195 \nQ 3706 1856 3706 1288 \nQ 3706 609 3251 259 \nQ 2797 -91 1919 -91 \nQ 1588 -91 1214 -16 \nQ 841 59 441 206 \nL 441 856 \nQ 825 641 1194 531 \nQ 1563 422 1919 422 \nQ 2459 422 2753 634 \nQ 3047 847 3047 1241 \nQ 3047 1584 2836 1778 \nQ 2625 1972 2144 2069 \nL 1759 2144 \nQ 1053 2284 737 2584 \nQ 422 2884 422 3419 \nQ 422 4038 858 4394 \nQ 1294 4750 2059 4750 \nQ 2388 4750 2728 4690 \nQ 3069 4631 3425 4513 \nz\n\" transform=\"scale(0.015625)\"/>\n        <path id=\"DejaVuSans-61\" d=\"M 2194 1759 \nQ 1497 1759 1228 1600 \nQ 959 1441 959 1056 \nQ 959 750 1161 570 \nQ 1363 391 1709 391 \nQ 2188 391 2477 730 \nQ 2766 1069 2766 1631 \nL 2766 1759 \nL 2194 1759 \nz\nM 3341 1997 \nL 3341 0 \nL 2766 0 \nL 2766 531 \nQ 2569 213 2275 61 \nQ 1981 -91 1556 -91 \nQ 1019 -91 701 211 \nQ 384 513 384 1019 \nQ 384 1609 779 1909 \nQ 1175 2209 1959 2209 \nL 2766 2209 \nL 2766 2266 \nQ 2766 2663 2505 2880 \nQ 2244 3097 1772 3097 \nQ 1472 3097 1187 3025 \nQ 903 2953 641 2809 \nL 641 3341 \nQ 956 3463 1253 3523 \nQ 1550 3584 1831 3584 \nQ 2591 3584 2966 3190 \nQ 3341 2797 3341 1997 \nz\n\" transform=\"scale(0.015625)\"/>\n        <path id=\"DejaVuSans-74\" d=\"M 1172 4494 \nL 1172 3500 \nL 2356 3500 \nL 2356 3053 \nL 1172 3053 \nL 1172 1153 \nQ 1172 725 1289 603 \nQ 1406 481 1766 481 \nL 2356 481 \nL 2356 0 \nL 1766 0 \nQ 1100 0 847 248 \nQ 594 497 594 1153 \nL 594 3053 \nL 172 3053 \nL 172 3500 \nL 594 3500 \nL 594 4494 \nL 1172 4494 \nz\n\" transform=\"scale(0.015625)\"/>\n        <path id=\"DejaVuSans-75\" d=\"M 544 1381 \nL 544 3500 \nL 1119 3500 \nL 1119 1403 \nQ 1119 906 1312 657 \nQ 1506 409 1894 409 \nQ 2359 409 2629 706 \nQ 2900 1003 2900 1516 \nL 2900 3500 \nL 3475 3500 \nL 3475 0 \nL 2900 0 \nL 2900 538 \nQ 2691 219 2414 64 \nQ 2138 -91 1772 -91 \nQ 1169 -91 856 284 \nQ 544 659 544 1381 \nz\nM 1991 3584 \nL 1991 3584 \nz\n\" transform=\"scale(0.015625)\"/>\n        <path id=\"DejaVuSans-72\" d=\"M 2631 2963 \nQ 2534 3019 2420 3045 \nQ 2306 3072 2169 3072 \nQ 1681 3072 1420 2755 \nQ 1159 2438 1159 1844 \nL 1159 0 \nL 581 0 \nL 581 3500 \nL 1159 3500 \nL 1159 2956 \nQ 1341 3275 1631 3429 \nQ 1922 3584 2338 3584 \nQ 2397 3584 2469 3576 \nQ 2541 3569 2628 3553 \nL 2631 2963 \nz\n\" transform=\"scale(0.015625)\"/>\n        <path id=\"DejaVuSans-64\" d=\"M 2906 2969 \nL 2906 4863 \nL 3481 4863 \nL 3481 0 \nL 2906 0 \nL 2906 525 \nQ 2725 213 2448 61 \nQ 2172 -91 1784 -91 \nQ 1150 -91 751 415 \nQ 353 922 353 1747 \nQ 353 2572 751 3078 \nQ 1150 3584 1784 3584 \nQ 2172 3584 2448 3432 \nQ 2725 3281 2906 2969 \nz\nM 947 1747 \nQ 947 1113 1208 752 \nQ 1469 391 1925 391 \nQ 2381 391 2643 752 \nQ 2906 1113 2906 1747 \nQ 2906 2381 2643 2742 \nQ 2381 3103 1925 3103 \nQ 1469 3103 1208 2742 \nQ 947 2381 947 1747 \nz\n\" transform=\"scale(0.015625)\"/>\n        <path id=\"DejaVuSans-79\" d=\"M 2059 -325 \nQ 1816 -950 1584 -1140 \nQ 1353 -1331 966 -1331 \nL 506 -1331 \nL 506 -850 \nL 844 -850 \nQ 1081 -850 1212 -737 \nQ 1344 -625 1503 -206 \nL 1606 56 \nL 191 3500 \nL 800 3500 \nL 1894 763 \nL 2988 3500 \nL 3597 3500 \nL 2059 -325 \nz\n\" transform=\"scale(0.015625)\"/>\n       </defs>\n       <use xlink:href=\"#DejaVuSans-53\"/>\n       <use xlink:href=\"#DejaVuSans-61\" x=\"63.476562\"/>\n       <use xlink:href=\"#DejaVuSans-74\" x=\"124.755859\"/>\n       <use xlink:href=\"#DejaVuSans-75\" x=\"163.964844\"/>\n       <use xlink:href=\"#DejaVuSans-72\" x=\"227.34375\"/>\n       <use xlink:href=\"#DejaVuSans-64\" x=\"266.707031\"/>\n       <use xlink:href=\"#DejaVuSans-61\" x=\"330.183594\"/>\n       <use xlink:href=\"#DejaVuSans-79\" x=\"391.462891\"/>\n      </g>\n     </g>\n    </g>\n    <g id=\"xtick_2\">\n     <g id=\"line2d_3\">\n      <path d=\"M 197.65494 313.478125 \nL 197.65494 22.318125 \n\" clip-path=\"url(#pac7b2a1f45)\" style=\"fill: none; stroke: #b0b0b0; stroke-width: 0.8; stroke-linecap: square\"/>\n     </g>\n     <g id=\"line2d_4\">\n      <g>\n       <use xlink:href=\"#m3fe6562236\" x=\"197.65494\" y=\"313.478125\" style=\"stroke: #000000; stroke-width: 0.8\"/>\n      </g>\n     </g>\n     <g id=\"text_2\">\n      <!-- Sunday -->\n      <g transform=\"translate(178.945565 328.076563) scale(0.1 -0.1)\">\n       <defs>\n        <path id=\"DejaVuSans-6e\" d=\"M 3513 2113 \nL 3513 0 \nL 2938 0 \nL 2938 2094 \nQ 2938 2591 2744 2837 \nQ 2550 3084 2163 3084 \nQ 1697 3084 1428 2787 \nQ 1159 2491 1159 1978 \nL 1159 0 \nL 581 0 \nL 581 3500 \nL 1159 3500 \nL 1159 2956 \nQ 1366 3272 1645 3428 \nQ 1925 3584 2291 3584 \nQ 2894 3584 3203 3211 \nQ 3513 2838 3513 2113 \nz\n\" transform=\"scale(0.015625)\"/>\n       </defs>\n       <use xlink:href=\"#DejaVuSans-53\"/>\n       <use xlink:href=\"#DejaVuSans-75\" x=\"63.476562\"/>\n       <use xlink:href=\"#DejaVuSans-6e\" x=\"126.855469\"/>\n       <use xlink:href=\"#DejaVuSans-64\" x=\"190.234375\"/>\n       <use xlink:href=\"#DejaVuSans-61\" x=\"253.710938\"/>\n       <use xlink:href=\"#DejaVuSans-79\" x=\"314.990234\"/>\n      </g>\n     </g>\n    </g>\n    <g id=\"xtick_3\">\n     <g id=\"line2d_5\">\n      <path d=\"M 286.088095 313.478125 \nL 286.088095 22.318125 \n\" clip-path=\"url(#pac7b2a1f45)\" style=\"fill: none; stroke: #b0b0b0; stroke-width: 0.8; stroke-linecap: square\"/>\n     </g>\n     <g id=\"line2d_6\">\n      <g>\n       <use xlink:href=\"#m3fe6562236\" x=\"286.088095\" y=\"313.478125\" style=\"stroke: #000000; stroke-width: 0.8\"/>\n      </g>\n     </g>\n     <g id=\"text_3\">\n      <!-- Monday -->\n      <g transform=\"translate(266.348251 328.076563) scale(0.1 -0.1)\">\n       <defs>\n        <path id=\"DejaVuSans-4d\" d=\"M 628 4666 \nL 1569 4666 \nL 2759 1491 \nL 3956 4666 \nL 4897 4666 \nL 4897 0 \nL 4281 0 \nL 4281 4097 \nL 3078 897 \nL 2444 897 \nL 1241 4097 \nL 1241 0 \nL 628 0 \nL 628 4666 \nz\n\" transform=\"scale(0.015625)\"/>\n        <path id=\"DejaVuSans-6f\" d=\"M 1959 3097 \nQ 1497 3097 1228 2736 \nQ 959 2375 959 1747 \nQ 959 1119 1226 758 \nQ 1494 397 1959 397 \nQ 2419 397 2687 759 \nQ 2956 1122 2956 1747 \nQ 2956 2369 2687 2733 \nQ 2419 3097 1959 3097 \nz\nM 1959 3584 \nQ 2709 3584 3137 3096 \nQ 3566 2609 3566 1747 \nQ 3566 888 3137 398 \nQ 2709 -91 1959 -91 \nQ 1206 -91 779 398 \nQ 353 888 353 1747 \nQ 353 2609 779 3096 \nQ 1206 3584 1959 3584 \nz\n\" transform=\"scale(0.015625)\"/>\n       </defs>\n       <use xlink:href=\"#DejaVuSans-4d\"/>\n       <use xlink:href=\"#DejaVuSans-6f\" x=\"86.279297\"/>\n       <use xlink:href=\"#DejaVuSans-6e\" x=\"147.460938\"/>\n       <use xlink:href=\"#DejaVuSans-64\" x=\"210.839844\"/>\n       <use xlink:href=\"#DejaVuSans-61\" x=\"274.316406\"/>\n       <use xlink:href=\"#DejaVuSans-79\" x=\"335.595703\"/>\n      </g>\n     </g>\n    </g>\n    <g id=\"xtick_4\">\n     <g id=\"line2d_7\">\n      <path d=\"M 374.52125 313.478125 \nL 374.52125 22.318125 \n\" clip-path=\"url(#pac7b2a1f45)\" style=\"fill: none; stroke: #b0b0b0; stroke-width: 0.8; stroke-linecap: square\"/>\n     </g>\n     <g id=\"line2d_8\">\n      <g>\n       <use xlink:href=\"#m3fe6562236\" x=\"374.52125\" y=\"313.478125\" style=\"stroke: #000000; stroke-width: 0.8\"/>\n      </g>\n     </g>\n     <g id=\"text_4\">\n      <!-- Tuesday -->\n      <g transform=\"translate(354.175938 328.076563) scale(0.1 -0.1)\">\n       <defs>\n        <path id=\"DejaVuSans-54\" d=\"M -19 4666 \nL 3928 4666 \nL 3928 4134 \nL 2272 4134 \nL 2272 0 \nL 1638 0 \nL 1638 4134 \nL -19 4134 \nL -19 4666 \nz\n\" transform=\"scale(0.015625)\"/>\n        <path id=\"DejaVuSans-65\" d=\"M 3597 1894 \nL 3597 1613 \nL 953 1613 \nQ 991 1019 1311 708 \nQ 1631 397 2203 397 \nQ 2534 397 2845 478 \nQ 3156 559 3463 722 \nL 3463 178 \nQ 3153 47 2828 -22 \nQ 2503 -91 2169 -91 \nQ 1331 -91 842 396 \nQ 353 884 353 1716 \nQ 353 2575 817 3079 \nQ 1281 3584 2069 3584 \nQ 2775 3584 3186 3129 \nQ 3597 2675 3597 1894 \nz\nM 3022 2063 \nQ 3016 2534 2758 2815 \nQ 2500 3097 2075 3097 \nQ 1594 3097 1305 2825 \nQ 1016 2553 972 2059 \nL 3022 2063 \nz\n\" transform=\"scale(0.015625)\"/>\n        <path id=\"DejaVuSans-73\" d=\"M 2834 3397 \nL 2834 2853 \nQ 2591 2978 2328 3040 \nQ 2066 3103 1784 3103 \nQ 1356 3103 1142 2972 \nQ 928 2841 928 2578 \nQ 928 2378 1081 2264 \nQ 1234 2150 1697 2047 \nL 1894 2003 \nQ 2506 1872 2764 1633 \nQ 3022 1394 3022 966 \nQ 3022 478 2636 193 \nQ 2250 -91 1575 -91 \nQ 1294 -91 989 -36 \nQ 684 19 347 128 \nL 347 722 \nQ 666 556 975 473 \nQ 1284 391 1588 391 \nQ 1994 391 2212 530 \nQ 2431 669 2431 922 \nQ 2431 1156 2273 1281 \nQ 2116 1406 1581 1522 \nL 1381 1569 \nQ 847 1681 609 1914 \nQ 372 2147 372 2553 \nQ 372 3047 722 3315 \nQ 1072 3584 1716 3584 \nQ 2034 3584 2315 3537 \nQ 2597 3491 2834 3397 \nz\n\" transform=\"scale(0.015625)\"/>\n       </defs>\n       <use xlink:href=\"#DejaVuSans-54\"/>\n       <use xlink:href=\"#DejaVuSans-75\" x=\"45.958984\"/>\n       <use xlink:href=\"#DejaVuSans-65\" x=\"109.337891\"/>\n       <use xlink:href=\"#DejaVuSans-73\" x=\"170.861328\"/>\n       <use xlink:href=\"#DejaVuSans-64\" x=\"222.960938\"/>\n       <use xlink:href=\"#DejaVuSans-61\" x=\"286.4375\"/>\n       <use xlink:href=\"#DejaVuSans-79\" x=\"347.716797\"/>\n      </g>\n     </g>\n    </g>\n    <g id=\"xtick_5\">\n     <g id=\"line2d_9\">\n      <path d=\"M 462.954405 313.478125 \nL 462.954405 22.318125 \n\" clip-path=\"url(#pac7b2a1f45)\" style=\"fill: none; stroke: #b0b0b0; stroke-width: 0.8; stroke-linecap: square\"/>\n     </g>\n     <g id=\"line2d_10\">\n      <g>\n       <use xlink:href=\"#m3fe6562236\" x=\"462.954405\" y=\"313.478125\" style=\"stroke: #000000; stroke-width: 0.8\"/>\n      </g>\n     </g>\n     <g id=\"text_5\">\n      <!-- Wednesday -->\n      <g transform=\"translate(434.005968 328.076563) scale(0.1 -0.1)\">\n       <defs>\n        <path id=\"DejaVuSans-57\" d=\"M 213 4666 \nL 850 4666 \nL 1831 722 \nL 2809 4666 \nL 3519 4666 \nL 4500 722 \nL 5478 4666 \nL 6119 4666 \nL 4947 0 \nL 4153 0 \nL 3169 4050 \nL 2175 0 \nL 1381 0 \nL 213 4666 \nz\n\" transform=\"scale(0.015625)\"/>\n       </defs>\n       <use xlink:href=\"#DejaVuSans-57\"/>\n       <use xlink:href=\"#DejaVuSans-65\" x=\"93.001953\"/>\n       <use xlink:href=\"#DejaVuSans-64\" x=\"154.525391\"/>\n       <use xlink:href=\"#DejaVuSans-6e\" x=\"218.001953\"/>\n       <use xlink:href=\"#DejaVuSans-65\" x=\"281.380859\"/>\n       <use xlink:href=\"#DejaVuSans-73\" x=\"342.904297\"/>\n       <use xlink:href=\"#DejaVuSans-64\" x=\"395.003906\"/>\n       <use xlink:href=\"#DejaVuSans-61\" x=\"458.480469\"/>\n       <use xlink:href=\"#DejaVuSans-79\" x=\"519.759766\"/>\n      </g>\n     </g>\n    </g>\n    <g id=\"xtick_6\">\n     <g id=\"line2d_11\">\n      <path d=\"M 551.38756 313.478125 \nL 551.38756 22.318125 \n\" clip-path=\"url(#pac7b2a1f45)\" style=\"fill: none; stroke: #b0b0b0; stroke-width: 0.8; stroke-linecap: square\"/>\n     </g>\n     <g id=\"line2d_12\">\n      <g>\n       <use xlink:href=\"#m3fe6562236\" x=\"551.38756\" y=\"313.478125\" style=\"stroke: #000000; stroke-width: 0.8\"/>\n      </g>\n     </g>\n     <g id=\"text_6\">\n      <!-- Thursday -->\n      <g transform=\"translate(528.138341 328.076563) scale(0.1 -0.1)\">\n       <defs>\n        <path id=\"DejaVuSans-68\" d=\"M 3513 2113 \nL 3513 0 \nL 2938 0 \nL 2938 2094 \nQ 2938 2591 2744 2837 \nQ 2550 3084 2163 3084 \nQ 1697 3084 1428 2787 \nQ 1159 2491 1159 1978 \nL 1159 0 \nL 581 0 \nL 581 4863 \nL 1159 4863 \nL 1159 2956 \nQ 1366 3272 1645 3428 \nQ 1925 3584 2291 3584 \nQ 2894 3584 3203 3211 \nQ 3513 2838 3513 2113 \nz\n\" transform=\"scale(0.015625)\"/>\n       </defs>\n       <use xlink:href=\"#DejaVuSans-54\"/>\n       <use xlink:href=\"#DejaVuSans-68\" x=\"61.083984\"/>\n       <use xlink:href=\"#DejaVuSans-75\" x=\"124.462891\"/>\n       <use xlink:href=\"#DejaVuSans-72\" x=\"187.841797\"/>\n       <use xlink:href=\"#DejaVuSans-73\" x=\"228.955078\"/>\n       <use xlink:href=\"#DejaVuSans-64\" x=\"281.054688\"/>\n       <use xlink:href=\"#DejaVuSans-61\" x=\"344.53125\"/>\n       <use xlink:href=\"#DejaVuSans-79\" x=\"405.810547\"/>\n      </g>\n     </g>\n    </g>\n    <g id=\"xtick_7\">\n     <g id=\"line2d_13\">\n      <path d=\"M 639.820715 313.478125 \nL 639.820715 22.318125 \n\" clip-path=\"url(#pac7b2a1f45)\" style=\"fill: none; stroke: #b0b0b0; stroke-width: 0.8; stroke-linecap: square\"/>\n     </g>\n     <g id=\"line2d_14\">\n      <g>\n       <use xlink:href=\"#m3fe6562236\" x=\"639.820715\" y=\"313.478125\" style=\"stroke: #000000; stroke-width: 0.8\"/>\n      </g>\n     </g>\n     <g id=\"text_7\">\n      <!-- Friday -->\n      <g transform=\"translate(624.665246 328.076563) scale(0.1 -0.1)\">\n       <defs>\n        <path id=\"DejaVuSans-46\" d=\"M 628 4666 \nL 3309 4666 \nL 3309 4134 \nL 1259 4134 \nL 1259 2759 \nL 3109 2759 \nL 3109 2228 \nL 1259 2228 \nL 1259 0 \nL 628 0 \nL 628 4666 \nz\n\" transform=\"scale(0.015625)\"/>\n        <path id=\"DejaVuSans-69\" d=\"M 603 3500 \nL 1178 3500 \nL 1178 0 \nL 603 0 \nL 603 3500 \nz\nM 603 4863 \nL 1178 4863 \nL 1178 4134 \nL 603 4134 \nL 603 4863 \nz\n\" transform=\"scale(0.015625)\"/>\n       </defs>\n       <use xlink:href=\"#DejaVuSans-46\"/>\n       <use xlink:href=\"#DejaVuSans-72\" x=\"50.269531\"/>\n       <use xlink:href=\"#DejaVuSans-69\" x=\"91.382812\"/>\n       <use xlink:href=\"#DejaVuSans-64\" x=\"119.166016\"/>\n       <use xlink:href=\"#DejaVuSans-61\" x=\"182.642578\"/>\n       <use xlink:href=\"#DejaVuSans-79\" x=\"243.921875\"/>\n      </g>\n     </g>\n    </g>\n    <g id=\"text_8\">\n     <!-- День недели -->\n     <g transform=\"translate(340.409531 341.754687) scale(0.1 -0.1)\">\n      <defs>\n       <path id=\"DejaVuSans-414\" d=\"M 1459 531 \nL 3522 531 \nL 3522 4134 \nL 2006 4134 \nL 2006 3472 \nQ 2006 1913 1656 878 \nQ 1584 666 1459 531 \nz\nM 538 531 \nQ 956 728 1075 1103 \nQ 1378 2066 1378 3784 \nL 1378 4666 \nL 4153 4666 \nL 4153 531 \nL 4684 531 \nL 4684 -1003 \nL 4153 -1003 \nL 4153 0 \nL 847 0 \nL 847 -1003 \nL 316 -1003 \nL 316 531 \nL 538 531 \nz\n\" transform=\"scale(0.015625)\"/>\n       <path id=\"DejaVuSans-435\" d=\"M 3597 1894 \nL 3597 1613 \nL 953 1613 \nQ 991 1019 1311 708 \nQ 1631 397 2203 397 \nQ 2534 397 2845 478 \nQ 3156 559 3463 722 \nL 3463 178 \nQ 3153 47 2828 -22 \nQ 2503 -91 2169 -91 \nQ 1331 -91 842 396 \nQ 353 884 353 1716 \nQ 353 2575 817 3079 \nQ 1281 3584 2069 3584 \nQ 2775 3584 3186 3129 \nQ 3597 2675 3597 1894 \nz\nM 3022 2063 \nQ 3016 2534 2758 2815 \nQ 2500 3097 2075 3097 \nQ 1594 3097 1305 2825 \nQ 1016 2553 972 2059 \nL 3022 2063 \nz\n\" transform=\"scale(0.015625)\"/>\n       <path id=\"DejaVuSans-43d\" d=\"M 581 3500 \nL 1159 3500 \nL 1159 2072 \nL 3025 2072 \nL 3025 3500 \nL 3603 3500 \nL 3603 0 \nL 3025 0 \nL 3025 1613 \nL 1159 1613 \nL 1159 0 \nL 581 0 \nL 581 3500 \nz\n\" transform=\"scale(0.015625)\"/>\n       <path id=\"DejaVuSans-44c\" d=\"M 2781 1038 \nQ 2781 1319 2576 1466 \nQ 2372 1613 1978 1613 \nL 1159 1613 \nL 1159 459 \nL 1978 459 \nQ 2372 459 2576 607 \nQ 2781 756 2781 1038 \nz\nM 581 3500 \nL 1159 3500 \nL 1159 2072 \nL 2003 2072 \nQ 2672 2072 3033 1817 \nQ 3394 1563 3394 1038 \nQ 3394 513 3033 256 \nQ 2672 0 2003 0 \nL 581 0 \nL 581 3500 \nz\n\" transform=\"scale(0.015625)\"/>\n       <path id=\"DejaVuSans-20\" transform=\"scale(0.015625)\"/>\n       <path id=\"DejaVuSans-434\" d=\"M 1384 459 \nL 3053 459 \nL 3053 3041 \nL 1844 3041 \nL 1844 2603 \nQ 1844 1316 1475 628 \nL 1384 459 \nz\nM 550 459 \nQ 834 584 959 850 \nQ 1266 1509 1266 2838 \nL 1266 3500 \nL 3631 3500 \nL 3631 459 \nL 4091 459 \nL 4091 -884 \nL 3631 -884 \nL 3631 0 \nL 794 0 \nL 794 -884 \nL 334 -884 \nL 334 459 \nL 550 459 \nz\n\" transform=\"scale(0.015625)\"/>\n       <path id=\"DejaVuSans-43b\" d=\"M 238 0 \nL 238 478 \nQ 806 566 981 959 \nQ 1194 1513 1194 2928 \nL 1194 3500 \nL 3559 3500 \nL 3559 0 \nL 2984 0 \nL 2984 3041 \nL 1769 3041 \nL 1769 2694 \nQ 1769 1344 1494 738 \nQ 1200 91 238 0 \nz\n\" transform=\"scale(0.015625)\"/>\n       <path id=\"DejaVuSans-438\" d=\"M 3578 3500 \nL 3578 0 \nL 3006 0 \nL 3006 2809 \nL 1319 0 \nL 581 0 \nL 581 3500 \nL 1153 3500 \nL 1153 697 \nL 2838 3500 \nL 3578 3500 \nz\n\" transform=\"scale(0.015625)\"/>\n      </defs>\n      <use xlink:href=\"#DejaVuSans-414\"/>\n      <use xlink:href=\"#DejaVuSans-435\" x=\"78.125\"/>\n      <use xlink:href=\"#DejaVuSans-43d\" x=\"139.648438\"/>\n      <use xlink:href=\"#DejaVuSans-44c\" x=\"205.029297\"/>\n      <use xlink:href=\"#DejaVuSans-20\" x=\"263.964844\"/>\n      <use xlink:href=\"#DejaVuSans-43d\" x=\"295.751953\"/>\n      <use xlink:href=\"#DejaVuSans-435\" x=\"361.132812\"/>\n      <use xlink:href=\"#DejaVuSans-434\" x=\"422.65625\"/>\n      <use xlink:href=\"#DejaVuSans-435\" x=\"491.796875\"/>\n      <use xlink:href=\"#DejaVuSans-43b\" x=\"553.320312\"/>\n      <use xlink:href=\"#DejaVuSans-438\" x=\"617.236328\"/>\n     </g>\n    </g>\n   </g>\n   <g id=\"matplotlib.axis_2\">\n    <g id=\"ytick_1\">\n     <g id=\"line2d_15\">\n      <path d=\"M 43.78125 313.478125 \nL 705.26125 313.478125 \n\" clip-path=\"url(#pac7b2a1f45)\" style=\"fill: none; stroke: #b0b0b0; stroke-width: 0.8; stroke-linecap: square\"/>\n     </g>\n     <g id=\"line2d_16\">\n      <defs>\n       <path id=\"md123a4b9ef\" d=\"M 0 0 \nL -3.5 0 \n\" style=\"stroke: #000000; stroke-width: 0.8\"/>\n      </defs>\n      <g>\n       <use xlink:href=\"#md123a4b9ef\" x=\"43.78125\" y=\"313.478125\" style=\"stroke: #000000; stroke-width: 0.8\"/>\n      </g>\n     </g>\n     <g id=\"text_9\">\n      <!-- 0.0 -->\n      <g transform=\"translate(20.878125 317.277344) scale(0.1 -0.1)\">\n       <defs>\n        <path id=\"DejaVuSans-30\" d=\"M 2034 4250 \nQ 1547 4250 1301 3770 \nQ 1056 3291 1056 2328 \nQ 1056 1369 1301 889 \nQ 1547 409 2034 409 \nQ 2525 409 2770 889 \nQ 3016 1369 3016 2328 \nQ 3016 3291 2770 3770 \nQ 2525 4250 2034 4250 \nz\nM 2034 4750 \nQ 2819 4750 3233 4129 \nQ 3647 3509 3647 2328 \nQ 3647 1150 3233 529 \nQ 2819 -91 2034 -91 \nQ 1250 -91 836 529 \nQ 422 1150 422 2328 \nQ 422 3509 836 4129 \nQ 1250 4750 2034 4750 \nz\n\" transform=\"scale(0.015625)\"/>\n        <path id=\"DejaVuSans-2e\" d=\"M 684 794 \nL 1344 794 \nL 1344 0 \nL 684 0 \nL 684 794 \nz\n\" transform=\"scale(0.015625)\"/>\n       </defs>\n       <use xlink:href=\"#DejaVuSans-30\"/>\n       <use xlink:href=\"#DejaVuSans-2e\" x=\"63.623047\"/>\n       <use xlink:href=\"#DejaVuSans-30\" x=\"95.410156\"/>\n      </g>\n     </g>\n    </g>\n    <g id=\"ytick_2\">\n     <g id=\"line2d_17\">\n      <path d=\"M 43.78125 265.645274 \nL 705.26125 265.645274 \n\" clip-path=\"url(#pac7b2a1f45)\" style=\"fill: none; stroke: #b0b0b0; stroke-width: 0.8; stroke-linecap: square\"/>\n     </g>\n     <g id=\"line2d_18\">\n      <g>\n       <use xlink:href=\"#md123a4b9ef\" x=\"43.78125\" y=\"265.645274\" style=\"stroke: #000000; stroke-width: 0.8\"/>\n      </g>\n     </g>\n     <g id=\"text_10\">\n      <!-- 0.2 -->\n      <g transform=\"translate(20.878125 269.444493) scale(0.1 -0.1)\">\n       <defs>\n        <path id=\"DejaVuSans-32\" d=\"M 1228 531 \nL 3431 531 \nL 3431 0 \nL 469 0 \nL 469 531 \nQ 828 903 1448 1529 \nQ 2069 2156 2228 2338 \nQ 2531 2678 2651 2914 \nQ 2772 3150 2772 3378 \nQ 2772 3750 2511 3984 \nQ 2250 4219 1831 4219 \nQ 1534 4219 1204 4116 \nQ 875 4013 500 3803 \nL 500 4441 \nQ 881 4594 1212 4672 \nQ 1544 4750 1819 4750 \nQ 2544 4750 2975 4387 \nQ 3406 4025 3406 3419 \nQ 3406 3131 3298 2873 \nQ 3191 2616 2906 2266 \nQ 2828 2175 2409 1742 \nQ 1991 1309 1228 531 \nz\n\" transform=\"scale(0.015625)\"/>\n       </defs>\n       <use xlink:href=\"#DejaVuSans-30\"/>\n       <use xlink:href=\"#DejaVuSans-2e\" x=\"63.623047\"/>\n       <use xlink:href=\"#DejaVuSans-32\" x=\"95.410156\"/>\n      </g>\n     </g>\n    </g>\n    <g id=\"ytick_3\">\n     <g id=\"line2d_19\">\n      <path d=\"M 43.78125 217.812424 \nL 705.26125 217.812424 \n\" clip-path=\"url(#pac7b2a1f45)\" style=\"fill: none; stroke: #b0b0b0; stroke-width: 0.8; stroke-linecap: square\"/>\n     </g>\n     <g id=\"line2d_20\">\n      <g>\n       <use xlink:href=\"#md123a4b9ef\" x=\"43.78125\" y=\"217.812424\" style=\"stroke: #000000; stroke-width: 0.8\"/>\n      </g>\n     </g>\n     <g id=\"text_11\">\n      <!-- 0.4 -->\n      <g transform=\"translate(20.878125 221.611643) scale(0.1 -0.1)\">\n       <defs>\n        <path id=\"DejaVuSans-34\" d=\"M 2419 4116 \nL 825 1625 \nL 2419 1625 \nL 2419 4116 \nz\nM 2253 4666 \nL 3047 4666 \nL 3047 1625 \nL 3713 1625 \nL 3713 1100 \nL 3047 1100 \nL 3047 0 \nL 2419 0 \nL 2419 1100 \nL 313 1100 \nL 313 1709 \nL 2253 4666 \nz\n\" transform=\"scale(0.015625)\"/>\n       </defs>\n       <use xlink:href=\"#DejaVuSans-30\"/>\n       <use xlink:href=\"#DejaVuSans-2e\" x=\"63.623047\"/>\n       <use xlink:href=\"#DejaVuSans-34\" x=\"95.410156\"/>\n      </g>\n     </g>\n    </g>\n    <g id=\"ytick_4\">\n     <g id=\"line2d_21\">\n      <path d=\"M 43.78125 169.979573 \nL 705.26125 169.979573 \n\" clip-path=\"url(#pac7b2a1f45)\" style=\"fill: none; stroke: #b0b0b0; stroke-width: 0.8; stroke-linecap: square\"/>\n     </g>\n     <g id=\"line2d_22\">\n      <g>\n       <use xlink:href=\"#md123a4b9ef\" x=\"43.78125\" y=\"169.979573\" style=\"stroke: #000000; stroke-width: 0.8\"/>\n      </g>\n     </g>\n     <g id=\"text_12\">\n      <!-- 0.6 -->\n      <g transform=\"translate(20.878125 173.778792) scale(0.1 -0.1)\">\n       <defs>\n        <path id=\"DejaVuSans-36\" d=\"M 2113 2584 \nQ 1688 2584 1439 2293 \nQ 1191 2003 1191 1497 \nQ 1191 994 1439 701 \nQ 1688 409 2113 409 \nQ 2538 409 2786 701 \nQ 3034 994 3034 1497 \nQ 3034 2003 2786 2293 \nQ 2538 2584 2113 2584 \nz\nM 3366 4563 \nL 3366 3988 \nQ 3128 4100 2886 4159 \nQ 2644 4219 2406 4219 \nQ 1781 4219 1451 3797 \nQ 1122 3375 1075 2522 \nQ 1259 2794 1537 2939 \nQ 1816 3084 2150 3084 \nQ 2853 3084 3261 2657 \nQ 3669 2231 3669 1497 \nQ 3669 778 3244 343 \nQ 2819 -91 2113 -91 \nQ 1303 -91 875 529 \nQ 447 1150 447 2328 \nQ 447 3434 972 4092 \nQ 1497 4750 2381 4750 \nQ 2619 4750 2861 4703 \nQ 3103 4656 3366 4563 \nz\n\" transform=\"scale(0.015625)\"/>\n       </defs>\n       <use xlink:href=\"#DejaVuSans-30\"/>\n       <use xlink:href=\"#DejaVuSans-2e\" x=\"63.623047\"/>\n       <use xlink:href=\"#DejaVuSans-36\" x=\"95.410156\"/>\n      </g>\n     </g>\n    </g>\n    <g id=\"ytick_5\">\n     <g id=\"line2d_23\">\n      <path d=\"M 43.78125 122.146723 \nL 705.26125 122.146723 \n\" clip-path=\"url(#pac7b2a1f45)\" style=\"fill: none; stroke: #b0b0b0; stroke-width: 0.8; stroke-linecap: square\"/>\n     </g>\n     <g id=\"line2d_24\">\n      <g>\n       <use xlink:href=\"#md123a4b9ef\" x=\"43.78125\" y=\"122.146723\" style=\"stroke: #000000; stroke-width: 0.8\"/>\n      </g>\n     </g>\n     <g id=\"text_13\">\n      <!-- 0.8 -->\n      <g transform=\"translate(20.878125 125.945941) scale(0.1 -0.1)\">\n       <defs>\n        <path id=\"DejaVuSans-38\" d=\"M 2034 2216 \nQ 1584 2216 1326 1975 \nQ 1069 1734 1069 1313 \nQ 1069 891 1326 650 \nQ 1584 409 2034 409 \nQ 2484 409 2743 651 \nQ 3003 894 3003 1313 \nQ 3003 1734 2745 1975 \nQ 2488 2216 2034 2216 \nz\nM 1403 2484 \nQ 997 2584 770 2862 \nQ 544 3141 544 3541 \nQ 544 4100 942 4425 \nQ 1341 4750 2034 4750 \nQ 2731 4750 3128 4425 \nQ 3525 4100 3525 3541 \nQ 3525 3141 3298 2862 \nQ 3072 2584 2669 2484 \nQ 3125 2378 3379 2068 \nQ 3634 1759 3634 1313 \nQ 3634 634 3220 271 \nQ 2806 -91 2034 -91 \nQ 1263 -91 848 271 \nQ 434 634 434 1313 \nQ 434 1759 690 2068 \nQ 947 2378 1403 2484 \nz\nM 1172 3481 \nQ 1172 3119 1398 2916 \nQ 1625 2713 2034 2713 \nQ 2441 2713 2670 2916 \nQ 2900 3119 2900 3481 \nQ 2900 3844 2670 4047 \nQ 2441 4250 2034 4250 \nQ 1625 4250 1398 4047 \nQ 1172 3844 1172 3481 \nz\n\" transform=\"scale(0.015625)\"/>\n       </defs>\n       <use xlink:href=\"#DejaVuSans-30\"/>\n       <use xlink:href=\"#DejaVuSans-2e\" x=\"63.623047\"/>\n       <use xlink:href=\"#DejaVuSans-38\" x=\"95.410156\"/>\n      </g>\n     </g>\n    </g>\n    <g id=\"ytick_6\">\n     <g id=\"line2d_25\">\n      <path d=\"M 43.78125 74.313872 \nL 705.26125 74.313872 \n\" clip-path=\"url(#pac7b2a1f45)\" style=\"fill: none; stroke: #b0b0b0; stroke-width: 0.8; stroke-linecap: square\"/>\n     </g>\n     <g id=\"line2d_26\">\n      <g>\n       <use xlink:href=\"#md123a4b9ef\" x=\"43.78125\" y=\"74.313872\" style=\"stroke: #000000; stroke-width: 0.8\"/>\n      </g>\n     </g>\n     <g id=\"text_14\">\n      <!-- 1.0 -->\n      <g transform=\"translate(20.878125 78.113091) scale(0.1 -0.1)\">\n       <defs>\n        <path id=\"DejaVuSans-31\" d=\"M 794 531 \nL 1825 531 \nL 1825 4091 \nL 703 3866 \nL 703 4441 \nL 1819 4666 \nL 2450 4666 \nL 2450 531 \nL 3481 531 \nL 3481 0 \nL 794 0 \nL 794 531 \nz\n\" transform=\"scale(0.015625)\"/>\n       </defs>\n       <use xlink:href=\"#DejaVuSans-31\"/>\n       <use xlink:href=\"#DejaVuSans-2e\" x=\"63.623047\"/>\n       <use xlink:href=\"#DejaVuSans-30\" x=\"95.410156\"/>\n      </g>\n     </g>\n    </g>\n    <g id=\"ytick_7\">\n     <g id=\"line2d_27\">\n      <path d=\"M 43.78125 26.481022 \nL 705.26125 26.481022 \n\" clip-path=\"url(#pac7b2a1f45)\" style=\"fill: none; stroke: #b0b0b0; stroke-width: 0.8; stroke-linecap: square\"/>\n     </g>\n     <g id=\"line2d_28\">\n      <g>\n       <use xlink:href=\"#md123a4b9ef\" x=\"43.78125\" y=\"26.481022\" style=\"stroke: #000000; stroke-width: 0.8\"/>\n      </g>\n     </g>\n     <g id=\"text_15\">\n      <!-- 1.2 -->\n      <g transform=\"translate(20.878125 30.28024) scale(0.1 -0.1)\">\n       <use xlink:href=\"#DejaVuSans-31\"/>\n       <use xlink:href=\"#DejaVuSans-2e\" x=\"63.623047\"/>\n       <use xlink:href=\"#DejaVuSans-32\" x=\"95.410156\"/>\n      </g>\n     </g>\n    </g>\n    <g id=\"text_16\">\n     <!-- Суммарный спрос -->\n     <g transform=\"translate(14.798438 215.186406) rotate(-90) scale(0.1 -0.1)\">\n      <defs>\n       <path id=\"DejaVuSans-421\" d=\"M 4122 4306 \nL 4122 3641 \nQ 3803 3938 3442 4084 \nQ 3081 4231 2675 4231 \nQ 1875 4231 1450 3742 \nQ 1025 3253 1025 2328 \nQ 1025 1406 1450 917 \nQ 1875 428 2675 428 \nQ 3081 428 3442 575 \nQ 3803 722 4122 1019 \nL 4122 359 \nQ 3791 134 3420 21 \nQ 3050 -91 2638 -91 \nQ 1578 -91 968 557 \nQ 359 1206 359 2328 \nQ 359 3453 968 4101 \nQ 1578 4750 2638 4750 \nQ 3056 4750 3426 4639 \nQ 3797 4528 4122 4306 \nz\n\" transform=\"scale(0.015625)\"/>\n       <path id=\"DejaVuSans-443\" d=\"M 2059 -325 \nQ 1816 -950 1584 -1140 \nQ 1353 -1331 966 -1331 \nL 506 -1331 \nL 506 -850 \nL 844 -850 \nQ 1081 -850 1212 -737 \nQ 1344 -625 1503 -206 \nL 1606 56 \nL 191 3500 \nL 800 3500 \nL 1894 763 \nL 2988 3500 \nL 3597 3500 \nL 2059 -325 \nz\n\" transform=\"scale(0.015625)\"/>\n       <path id=\"DejaVuSans-43c\" d=\"M 581 3500 \nL 1422 3500 \nL 2416 1156 \nL 3413 3500 \nL 4247 3500 \nL 4247 0 \nL 3669 0 \nL 3669 2950 \nL 2703 672 \nL 2128 672 \nL 1159 2950 \nL 1159 0 \nL 581 0 \nL 581 3500 \nz\n\" transform=\"scale(0.015625)\"/>\n       <path id=\"DejaVuSans-430\" d=\"M 2194 1759 \nQ 1497 1759 1228 1600 \nQ 959 1441 959 1056 \nQ 959 750 1161 570 \nQ 1363 391 1709 391 \nQ 2188 391 2477 730 \nQ 2766 1069 2766 1631 \nL 2766 1759 \nL 2194 1759 \nz\nM 3341 1997 \nL 3341 0 \nL 2766 0 \nL 2766 531 \nQ 2569 213 2275 61 \nQ 1981 -91 1556 -91 \nQ 1019 -91 701 211 \nQ 384 513 384 1019 \nQ 384 1609 779 1909 \nQ 1175 2209 1959 2209 \nL 2766 2209 \nL 2766 2266 \nQ 2766 2663 2505 2880 \nQ 2244 3097 1772 3097 \nQ 1472 3097 1187 3025 \nQ 903 2953 641 2809 \nL 641 3341 \nQ 956 3463 1253 3523 \nQ 1550 3584 1831 3584 \nQ 2591 3584 2966 3190 \nQ 3341 2797 3341 1997 \nz\n\" transform=\"scale(0.015625)\"/>\n       <path id=\"DejaVuSans-440\" d=\"M 1159 525 \nL 1159 -1331 \nL 581 -1331 \nL 581 3500 \nL 1159 3500 \nL 1159 2969 \nQ 1341 3281 1617 3432 \nQ 1894 3584 2278 3584 \nQ 2916 3584 3314 3078 \nQ 3713 2572 3713 1747 \nQ 3713 922 3314 415 \nQ 2916 -91 2278 -91 \nQ 1894 -91 1617 61 \nQ 1341 213 1159 525 \nz\nM 3116 1747 \nQ 3116 2381 2855 2742 \nQ 2594 3103 2138 3103 \nQ 1681 3103 1420 2742 \nQ 1159 2381 1159 1747 \nQ 1159 1113 1420 752 \nQ 1681 391 2138 391 \nQ 2594 391 2855 752 \nQ 3116 1113 3116 1747 \nz\n\" transform=\"scale(0.015625)\"/>\n       <path id=\"DejaVuSans-44b\" d=\"M 3907 3500 \nL 4482 3500 \nL 4482 0 \nL 3907 0 \nL 3907 3500 \nz\nM 4195 3584 \nL 4195 3584 \nz\nM 2781 1038 \nQ 2781 1319 2576 1466 \nQ 2372 1613 1978 1613 \nL 1159 1613 \nL 1159 459 \nL 1978 459 \nQ 2372 459 2576 607 \nQ 2781 756 2781 1038 \nz\nM 581 3500 \nL 1159 3500 \nL 1159 2072 \nL 2003 2072 \nQ 2672 2072 3033 1817 \nQ 3394 1563 3394 1038 \nQ 3394 513 3033 256 \nQ 2672 0 2003 0 \nL 581 0 \nL 581 3500 \nz\n\" transform=\"scale(0.015625)\"/>\n       <path id=\"DejaVuSans-439\" d=\"M 3578 3500 \nL 3578 0 \nL 3006 0 \nL 3006 2809 \nL 1319 0 \nL 581 0 \nL 581 3500 \nL 1153 3500 \nL 1153 697 \nL 2838 3500 \nL 3578 3500 \nz\nM 1102 4833 \nL 1471 4833 \nQ 1505 4599 1656 4481 \nQ 1808 4364 2080 4364 \nQ 2349 4364 2499 4480 \nQ 2649 4596 2689 4833 \nL 3058 4833 \nQ 3027 4386 2780 4161 \nQ 2533 3936 2080 3936 \nQ 1627 3936 1380 4161 \nQ 1133 4386 1102 4833 \nz\n\" transform=\"scale(0.015625)\"/>\n       <path id=\"DejaVuSans-441\" d=\"M 3122 3366 \nL 3122 2828 \nQ 2878 2963 2633 3030 \nQ 2388 3097 2138 3097 \nQ 1578 3097 1268 2742 \nQ 959 2388 959 1747 \nQ 959 1106 1268 751 \nQ 1578 397 2138 397 \nQ 2388 397 2633 464 \nQ 2878 531 3122 666 \nL 3122 134 \nQ 2881 22 2623 -34 \nQ 2366 -91 2075 -91 \nQ 1284 -91 818 406 \nQ 353 903 353 1747 \nQ 353 2603 823 3093 \nQ 1294 3584 2113 3584 \nQ 2378 3584 2631 3529 \nQ 2884 3475 3122 3366 \nz\n\" transform=\"scale(0.015625)\"/>\n       <path id=\"DejaVuSans-43f\" d=\"M 3603 3500 \nL 3603 0 \nL 3025 0 \nL 3025 3041 \nL 1159 3041 \nL 1159 0 \nL 581 0 \nL 581 3500 \nL 3603 3500 \nz\n\" transform=\"scale(0.015625)\"/>\n       <path id=\"DejaVuSans-43e\" d=\"M 1959 3097 \nQ 1497 3097 1228 2736 \nQ 959 2375 959 1747 \nQ 959 1119 1226 758 \nQ 1494 397 1959 397 \nQ 2419 397 2687 759 \nQ 2956 1122 2956 1747 \nQ 2956 2369 2687 2733 \nQ 2419 3097 1959 3097 \nz\nM 1959 3584 \nQ 2709 3584 3137 3096 \nQ 3566 2609 3566 1747 \nQ 3566 888 3137 398 \nQ 2709 -91 1959 -91 \nQ 1206 -91 779 398 \nQ 353 888 353 1747 \nQ 353 2609 779 3096 \nQ 1206 3584 1959 3584 \nz\n\" transform=\"scale(0.015625)\"/>\n      </defs>\n      <use xlink:href=\"#DejaVuSans-421\"/>\n      <use xlink:href=\"#DejaVuSans-443\" x=\"69.824219\"/>\n      <use xlink:href=\"#DejaVuSans-43c\" x=\"129.003906\"/>\n      <use xlink:href=\"#DejaVuSans-43c\" x=\"204.443359\"/>\n      <use xlink:href=\"#DejaVuSans-430\" x=\"279.882812\"/>\n      <use xlink:href=\"#DejaVuSans-440\" x=\"341.162109\"/>\n      <use xlink:href=\"#DejaVuSans-43d\" x=\"404.638672\"/>\n      <use xlink:href=\"#DejaVuSans-44b\" x=\"470.019531\"/>\n      <use xlink:href=\"#DejaVuSans-439\" x=\"548.974609\"/>\n      <use xlink:href=\"#DejaVuSans-20\" x=\"613.964844\"/>\n      <use xlink:href=\"#DejaVuSans-441\" x=\"645.751953\"/>\n      <use xlink:href=\"#DejaVuSans-43f\" x=\"700.732422\"/>\n      <use xlink:href=\"#DejaVuSans-440\" x=\"766.113281\"/>\n      <use xlink:href=\"#DejaVuSans-43e\" x=\"829.589844\"/>\n      <use xlink:href=\"#DejaVuSans-441\" x=\"890.771484\"/>\n     </g>\n    </g>\n    <g id=\"text_17\">\n     <!-- 1e7 -->\n     <g transform=\"translate(43.78125 19.318125) scale(0.1 -0.1)\">\n      <defs>\n       <path id=\"DejaVuSans-37\" d=\"M 525 4666 \nL 3525 4666 \nL 3525 4397 \nL 1831 0 \nL 1172 0 \nL 2766 4134 \nL 525 4134 \nL 525 4666 \nz\n\" transform=\"scale(0.015625)\"/>\n      </defs>\n      <use xlink:href=\"#DejaVuSans-31\"/>\n      <use xlink:href=\"#DejaVuSans-65\" x=\"63.623047\"/>\n      <use xlink:href=\"#DejaVuSans-37\" x=\"125.146484\"/>\n     </g>\n    </g>\n   </g>\n   <g id=\"patch_10\">\n    <path d=\"M 43.78125 313.478125 \nL 43.78125 22.318125 \n\" style=\"fill: none; stroke: #000000; stroke-width: 0.8; stroke-linejoin: miter; stroke-linecap: square\"/>\n   </g>\n   <g id=\"patch_11\">\n    <path d=\"M 705.26125 313.478125 \nL 705.26125 22.318125 \n\" style=\"fill: none; stroke: #000000; stroke-width: 0.8; stroke-linejoin: miter; stroke-linecap: square\"/>\n   </g>\n   <g id=\"patch_12\">\n    <path d=\"M 43.78125 313.478125 \nL 705.26125 313.478125 \n\" style=\"fill: none; stroke: #000000; stroke-width: 0.8; stroke-linejoin: miter; stroke-linecap: square\"/>\n   </g>\n   <g id=\"patch_13\">\n    <path d=\"M 43.78125 22.318125 \nL 705.26125 22.318125 \n\" style=\"fill: none; stroke: #000000; stroke-width: 0.8; stroke-linejoin: miter; stroke-linecap: square\"/>\n   </g>\n   <g id=\"text_18\">\n    <!-- Зависимость спроса от дня недели -->\n    <g transform=\"translate(262.495625 16.318125) scale(0.12 -0.12)\">\n     <defs>\n      <path id=\"DejaVuSans-417\" d=\"M 1828 4750 \nQ 2597 4750 3084 4423 \nQ 3572 4097 3572 3541 \nQ 3572 3153 3350 2886 \nQ 3128 2619 2719 2516 \nQ 3172 2419 3426 2112 \nQ 3681 1806 3681 1356 \nQ 3681 638 3126 273 \nQ 2572 -91 1828 -91 \nQ 1447 -91 1003 12 \nQ 559 116 422 203 \nL 422 853 \nQ 900 575 1164 508 \nQ 1428 441 1816 441 \nQ 2403 441 2728 666 \nQ 3053 891 3053 1356 \nQ 3053 1769 2764 2001 \nQ 2475 2234 1866 2234 \nL 1228 2234 \nL 1228 2753 \nL 1891 2753 \nQ 2450 2753 2697 2939 \nQ 2944 3125 2944 3475 \nQ 2944 3834 2689 4026 \nQ 2434 4219 1816 4219 \nQ 1397 4219 1253 4181 \nQ 1109 4144 469 3903 \nL 469 4519 \nQ 822 4644 1190 4697 \nQ 1559 4750 1828 4750 \nz\n\" transform=\"scale(0.015625)\"/>\n      <path id=\"DejaVuSans-432\" d=\"M 1156 1613 \nL 1156 459 \nL 1975 459 \nQ 2369 459 2575 607 \nQ 2781 756 2781 1038 \nQ 2781 1319 2575 1466 \nQ 2369 1613 1975 1613 \nL 1156 1613 \nz\nM 1156 3041 \nL 1156 2072 \nL 1913 2072 \nQ 2238 2072 2444 2201 \nQ 2650 2331 2650 2563 \nQ 2650 2794 2444 2917 \nQ 2238 3041 1913 3041 \nL 1156 3041 \nz\nM 581 3500 \nL 1950 3500 \nQ 2566 3500 2897 3275 \nQ 3228 3050 3228 2634 \nQ 3228 2313 3059 2123 \nQ 2891 1934 2559 1888 \nQ 2956 1813 3175 1575 \nQ 3394 1338 3394 981 \nQ 3394 513 3033 256 \nQ 2672 0 2003 0 \nL 581 0 \nL 581 3500 \nz\n\" transform=\"scale(0.015625)\"/>\n      <path id=\"DejaVuSans-442\" d=\"M 188 3500 \nL 3541 3500 \nL 3541 3041 \nL 2147 3041 \nL 2147 0 \nL 1581 0 \nL 1581 3041 \nL 188 3041 \nL 188 3500 \nz\n\" transform=\"scale(0.015625)\"/>\n      <path id=\"DejaVuSans-44f\" d=\"M 1181 2491 \nQ 1181 2231 1381 2084 \nQ 1581 1938 1953 1938 \nL 2728 1938 \nL 2728 3041 \nL 1953 3041 \nQ 1581 3041 1381 2897 \nQ 1181 2753 1181 2491 \nz\nM 363 0 \nL 1431 1534 \nQ 1069 1616 828 1830 \nQ 588 2044 588 2491 \nQ 588 2997 923 3248 \nQ 1259 3500 1938 3500 \nL 3306 3500 \nL 3306 0 \nL 2728 0 \nL 2728 1478 \nL 2013 1478 \nL 981 0 \nL 363 0 \nz\n\" transform=\"scale(0.015625)\"/>\n     </defs>\n     <use xlink:href=\"#DejaVuSans-417\"/>\n     <use xlink:href=\"#DejaVuSans-430\" x=\"64.111328\"/>\n     <use xlink:href=\"#DejaVuSans-432\" x=\"125.390625\"/>\n     <use xlink:href=\"#DejaVuSans-438\" x=\"184.326172\"/>\n     <use xlink:href=\"#DejaVuSans-441\" x=\"249.316406\"/>\n     <use xlink:href=\"#DejaVuSans-438\" x=\"304.296875\"/>\n     <use xlink:href=\"#DejaVuSans-43c\" x=\"369.287109\"/>\n     <use xlink:href=\"#DejaVuSans-43e\" x=\"444.726562\"/>\n     <use xlink:href=\"#DejaVuSans-441\" x=\"505.908203\"/>\n     <use xlink:href=\"#DejaVuSans-442\" x=\"560.888672\"/>\n     <use xlink:href=\"#DejaVuSans-44c\" x=\"619.140625\"/>\n     <use xlink:href=\"#DejaVuSans-20\" x=\"678.076172\"/>\n     <use xlink:href=\"#DejaVuSans-441\" x=\"709.863281\"/>\n     <use xlink:href=\"#DejaVuSans-43f\" x=\"764.84375\"/>\n     <use xlink:href=\"#DejaVuSans-440\" x=\"830.224609\"/>\n     <use xlink:href=\"#DejaVuSans-43e\" x=\"893.701172\"/>\n     <use xlink:href=\"#DejaVuSans-441\" x=\"954.882812\"/>\n     <use xlink:href=\"#DejaVuSans-430\" x=\"1009.863281\"/>\n     <use xlink:href=\"#DejaVuSans-20\" x=\"1071.142578\"/>\n     <use xlink:href=\"#DejaVuSans-43e\" x=\"1102.929688\"/>\n     <use xlink:href=\"#DejaVuSans-442\" x=\"1164.111328\"/>\n     <use xlink:href=\"#DejaVuSans-20\" x=\"1222.363281\"/>\n     <use xlink:href=\"#DejaVuSans-434\" x=\"1254.150391\"/>\n     <use xlink:href=\"#DejaVuSans-43d\" x=\"1323.291016\"/>\n     <use xlink:href=\"#DejaVuSans-44f\" x=\"1388.671875\"/>\n     <use xlink:href=\"#DejaVuSans-20\" x=\"1448.828125\"/>\n     <use xlink:href=\"#DejaVuSans-43d\" x=\"1480.615234\"/>\n     <use xlink:href=\"#DejaVuSans-435\" x=\"1545.996094\"/>\n     <use xlink:href=\"#DejaVuSans-434\" x=\"1607.519531\"/>\n     <use xlink:href=\"#DejaVuSans-435\" x=\"1676.660156\"/>\n     <use xlink:href=\"#DejaVuSans-43b\" x=\"1738.183594\"/>\n     <use xlink:href=\"#DejaVuSans-438\" x=\"1802.099609\"/>\n    </g>\n   </g>\n  </g>\n </g>\n <defs>\n  <clipPath id=\"pac7b2a1f45\">\n   <rect x=\"43.78125\" y=\"22.318125\" width=\"661.48\" height=\"291.16\"/>\n  </clipPath>\n </defs>\n</svg>\n",
      "text/plain": [
       "<Figure size 1000x500 with 1 Axes>"
      ]
     },
     "metadata": {},
     "output_type": "display_data"
    }
   ],
   "source": [
    "fig, ax = plt.subplots(1, 1, figsize=(10, 5))\n",
    "\n",
    "for row in sorted(count_per_weekday, key=lambda row: row.wday):\n",
    "    ax.bar(row.weekday, row.Count)\n",
    "\n",
    "ax.grid(True)\n",
    "\n",
    "ax.set_xlabel('День недели')\n",
    "ax.set_ylabel('Суммарный спрос')\n",
    "ax.set_title('Зависимость спроса от дня недели')\n",
    "\n",
    "fig.tight_layout()\n",
    "plt.show()"
   ]
  },
  {
   "attachments": {},
   "cell_type": "markdown",
   "metadata": {},
   "source": [
    "Исследуем месячный и годовой тренд выполнив агрегацию по месяцам и дням года:"
   ]
  },
  {
   "cell_type": "code",
   "execution_count": 57,
   "metadata": {},
   "outputs": [
    {
     "name": "stdout",
     "output_type": "stream",
     "text": [
      "23/02/23 21:45:38 WARN DAGScheduler: Broadcasting large task binary with size 2004.2 KiB\n"
     ]
    },
    {
     "data": {
      "text/html": [
       "<div>\n",
       "<style scoped>\n",
       "    .dataframe tbody tr th:only-of-type {\n",
       "        vertical-align: middle;\n",
       "    }\n",
       "\n",
       "    .dataframe tbody tr th {\n",
       "        vertical-align: top;\n",
       "    }\n",
       "\n",
       "    .dataframe thead th {\n",
       "        text-align: right;\n",
       "    }\n",
       "</style>\n",
       "<table border=\"1\" class=\"dataframe\">\n",
       "  <thead>\n",
       "    <tr style=\"text-align: right;\">\n",
       "      <th></th>\n",
       "      <th>Day</th>\n",
       "      <th>Count</th>\n",
       "      <th>month</th>\n",
       "      <th>day_of_year</th>\n",
       "    </tr>\n",
       "  </thead>\n",
       "  <tbody>\n",
       "    <tr>\n",
       "      <th>0</th>\n",
       "      <td>d_1</td>\n",
       "      <td>32631</td>\n",
       "      <td>1</td>\n",
       "      <td>29</td>\n",
       "    </tr>\n",
       "    <tr>\n",
       "      <th>1</th>\n",
       "      <td>d_2</td>\n",
       "      <td>31749</td>\n",
       "      <td>1</td>\n",
       "      <td>30</td>\n",
       "    </tr>\n",
       "    <tr>\n",
       "      <th>2</th>\n",
       "      <td>d_3</td>\n",
       "      <td>23783</td>\n",
       "      <td>1</td>\n",
       "      <td>31</td>\n",
       "    </tr>\n",
       "    <tr>\n",
       "      <th>3</th>\n",
       "      <td>d_4</td>\n",
       "      <td>25412</td>\n",
       "      <td>2</td>\n",
       "      <td>32</td>\n",
       "    </tr>\n",
       "    <tr>\n",
       "      <th>4</th>\n",
       "      <td>d_5</td>\n",
       "      <td>19146</td>\n",
       "      <td>2</td>\n",
       "      <td>33</td>\n",
       "    </tr>\n",
       "  </tbody>\n",
       "</table>\n",
       "</div>"
      ],
      "text/plain": [
       "   Day  Count  month  day_of_year\n",
       "0  d_1  32631      1           29\n",
       "1  d_2  31749      1           30\n",
       "2  d_3  23783      1           31\n",
       "3  d_4  25412      2           32\n",
       "4  d_5  19146      2           33"
      ]
     },
     "execution_count": 57,
     "metadata": {},
     "output_type": "execute_result"
    }
   ],
   "source": [
    "df_evaluation_agg_unpivot_with_date = (\n",
    "    df_evaluation_agg_unpivot\n",
    "        .join(df_calendar, on=df_calendar.d == df_evaluation_agg_unpivot.Day)\n",
    "        .select('Day', 'Count', 'month', F.dayofyear('date').alias('day_of_year'))\n",
    ").cache()\n",
    "df_evaluation_agg_unpivot_with_date.limit(5).toPandas()"
   ]
  },
  {
   "cell_type": "code",
   "execution_count": 58,
   "metadata": {},
   "outputs": [
    {
     "name": "stdout",
     "output_type": "stream",
     "text": [
      "23/02/23 21:45:40 WARN DAGScheduler: Broadcasting large task binary with size 2028.8 KiB\n"
     ]
    },
    {
     "data": {
      "text/plain": [
       "[Row(month=1, Count=33832.34810126582),\n",
       " Row(month=2, Count=34644.64117647059),\n",
       " Row(month=3, Count=34339.83870967742),\n",
       " Row(month=4, Count=34432.183333333334),\n",
       " Row(month=5, Count=34085.19209039548),\n",
       " Row(month=6, Count=35001.41333333333),\n",
       " Row(month=7, Count=35122.41935483871),\n",
       " Row(month=8, Count=35946.645161290326),\n",
       " Row(month=9, Count=35479.26),\n",
       " Row(month=10, Count=34713.47741935484),\n",
       " Row(month=11, Count=33290.82666666667),\n",
       " Row(month=12, Count=32980.46451612903)]"
      ]
     },
     "execution_count": 58,
     "metadata": {},
     "output_type": "execute_result"
    }
   ],
   "source": [
    "count_per_month = (\n",
    "    df_evaluation_agg_unpivot_with_date\n",
    "        .groupBy('month')\n",
    "        .agg(F.mean('Count').alias('Count'))\n",
    "        .collect()\n",
    ")\n",
    "count_per_month"
   ]
  },
  {
   "cell_type": "code",
   "execution_count": 59,
   "metadata": {},
   "outputs": [
    {
     "data": {
      "application/pdf": "[encoded data removed]",
      "image/svg+xml": "<?xml version=\"1.0\" encoding=\"utf-8\" standalone=\"no\"?>\n<!DOCTYPE svg PUBLIC \"-//W3C//DTD SVG 1.1//EN\"\n  \"http://www.w3.org/Graphics/SVG/1.1/DTD/svg11.dtd\">\n<svg xmlns:xlink=\"http://www.w3.org/1999/xlink\" width=\"712.620625pt\" height=\"351.034375pt\" viewBox=\"0 0 712.620625 351.034375\" xmlns=\"http://www.w3.org/2000/svg\" version=\"1.1\">\n <metadata>\n  <rdf:RDF xmlns:dc=\"http://purl.org/dc/elements/1.1/\" xmlns:cc=\"http://creativecommons.org/ns#\" xmlns:rdf=\"http://www.w3.org/1999/02/22-rdf-syntax-ns#\">\n   <cc:Work>\n    <dc:type rdf:resource=\"http://purl.org/dc/dcmitype/StillImage\"/>\n    <dc:date>2023-02-23T21:45:42.579869</dc:date>\n    <dc:format>image/svg+xml</dc:format>\n    <dc:creator>\n     <cc:Agent>\n      <dc:title>Matplotlib v3.6.2, https://matplotlib.org/</dc:title>\n     </cc:Agent>\n    </dc:creator>\n   </cc:Work>\n  </rdf:RDF>\n </metadata>\n <defs>\n  <style type=\"text/css\">*{stroke-linejoin: round; stroke-linecap: butt}</style>\n </defs>\n <g id=\"figure_1\">\n  <g id=\"patch_1\">\n   <path d=\"M 0 351.034375 \nL 712.620625 351.034375 \nL 712.620625 0 \nL 0 0 \nz\n\" style=\"fill: #ffffff\"/>\n  </g>\n  <g id=\"axes_1\">\n   <g id=\"patch_2\">\n    <path d=\"M 59.690625 313.478125 \nL 705.420625 313.478125 \nL 705.420625 22.318125 \nL 59.690625 22.318125 \nz\n\" style=\"fill: #ffffff\"/>\n   </g>\n   <g id=\"patch_3\">\n    <path d=\"M 89.041989 313.478125 \nL 128.840448 313.478125 \nL 128.840448 52.49274 \nL 89.041989 52.49274 \nz\n\" clip-path=\"url(#p36899f5863)\" style=\"fill: #1f77b4\"/>\n   </g>\n   <g id=\"patch_4\">\n    <path d=\"M 138.790063 313.478125 \nL 178.588522 313.478125 \nL 178.588522 46.226648 \nL 138.790063 46.226648 \nz\n\" clip-path=\"url(#p36899f5863)\" style=\"fill: #ff7f0e\"/>\n   </g>\n   <g id=\"patch_5\">\n    <path d=\"M 188.538137 313.478125 \nL 228.336596 313.478125 \nL 228.336596 48.577918 \nL 188.538137 48.577918 \nz\n\" clip-path=\"url(#p36899f5863)\" style=\"fill: #2ca02c\"/>\n   </g>\n   <g id=\"patch_6\">\n    <path d=\"M 238.286211 313.478125 \nL 278.08467 313.478125 \nL 278.08467 47.865564 \nL 238.286211 47.865564 \nz\n\" clip-path=\"url(#p36899f5863)\" style=\"fill: #d62728\"/>\n   </g>\n   <g id=\"patch_7\">\n    <path d=\"M 288.034284 313.478125 \nL 327.832744 313.478125 \nL 327.832744 50.542282 \nL 288.034284 50.542282 \nz\n\" clip-path=\"url(#p36899f5863)\" style=\"fill: #9467bd\"/>\n   </g>\n   <g id=\"patch_8\">\n    <path d=\"M 337.782358 313.478125 \nL 377.580818 313.478125 \nL 377.580818 43.474479 \nL 337.782358 43.474479 \nz\n\" clip-path=\"url(#p36899f5863)\" style=\"fill: #8c564b\"/>\n   </g>\n   <g id=\"patch_9\">\n    <path d=\"M 387.530432 313.478125 \nL 427.328892 313.478125 \nL 427.328892 42.541029 \nL 387.530432 42.541029 \nz\n\" clip-path=\"url(#p36899f5863)\" style=\"fill: #e377c2\"/>\n   </g>\n   <g id=\"patch_10\">\n    <path d=\"M 437.278506 313.478125 \nL 477.076966 313.478125 \nL 477.076966 36.182887 \nL 437.278506 36.182887 \nz\n\" clip-path=\"url(#p36899f5863)\" style=\"fill: #7f7f7f\"/>\n   </g>\n   <g id=\"patch_11\">\n    <path d=\"M 487.02658 313.478125 \nL 526.825039 313.478125 \nL 526.825039 39.788333 \nL 487.02658 39.788333 \nz\n\" clip-path=\"url(#p36899f5863)\" style=\"fill: #bcbd22\"/>\n   </g>\n   <g id=\"patch_12\">\n    <path d=\"M 536.774654 313.478125 \nL 576.573113 313.478125 \nL 576.573113 45.69564 \nL 536.774654 45.69564 \nz\n\" clip-path=\"url(#p36899f5863)\" style=\"fill: #17becf\"/>\n   </g>\n   <g id=\"patch_13\">\n    <path d=\"M 586.522728 313.478125 \nL 626.321187 313.478125 \nL 626.321187 56.670079 \nL 586.522728 56.670079 \nz\n\" clip-path=\"url(#p36899f5863)\" style=\"fill: #1f77b4\"/>\n   </g>\n   <g id=\"patch_14\">\n    <path d=\"M 636.270802 313.478125 \nL 676.069261 313.478125 \nL 676.069261 59.064237 \nL 636.270802 59.064237 \nz\n\" clip-path=\"url(#p36899f5863)\" style=\"fill: #ff7f0e\"/>\n   </g>\n   <g id=\"matplotlib.axis_1\">\n    <g id=\"xtick_1\">\n     <g id=\"line2d_1\">\n      <path d=\"M 158.689292 313.478125 \nL 158.689292 22.318125 \n\" clip-path=\"url(#p36899f5863)\" style=\"fill: none; stroke: #b0b0b0; stroke-width: 0.8; stroke-linecap: square\"/>\n     </g>\n     <g id=\"line2d_2\">\n      <defs>\n       <path id=\"me5be9a56fb\" d=\"M 0 0 \nL 0 3.5 \n\" style=\"stroke: #000000; stroke-width: 0.8\"/>\n      </defs>\n      <g>\n       <use xlink:href=\"#me5be9a56fb\" x=\"158.689292\" y=\"313.478125\" style=\"stroke: #000000; stroke-width: 0.8\"/>\n      </g>\n     </g>\n     <g id=\"text_1\">\n      <!-- 2 -->\n      <g transform=\"translate(155.508042 328.076563) scale(0.1 -0.1)\">\n       <defs>\n        <path id=\"DejaVuSans-32\" d=\"M 1228 531 \nL 3431 531 \nL 3431 0 \nL 469 0 \nL 469 531 \nQ 828 903 1448 1529 \nQ 2069 2156 2228 2338 \nQ 2531 2678 2651 2914 \nQ 2772 3150 2772 3378 \nQ 2772 3750 2511 3984 \nQ 2250 4219 1831 4219 \nQ 1534 4219 1204 4116 \nQ 875 4013 500 3803 \nL 500 4441 \nQ 881 4594 1212 4672 \nQ 1544 4750 1819 4750 \nQ 2544 4750 2975 4387 \nQ 3406 4025 3406 3419 \nQ 3406 3131 3298 2873 \nQ 3191 2616 2906 2266 \nQ 2828 2175 2409 1742 \nQ 1991 1309 1228 531 \nz\n\" transform=\"scale(0.015625)\"/>\n       </defs>\n       <use xlink:href=\"#DejaVuSans-32\"/>\n      </g>\n     </g>\n    </g>\n    <g id=\"xtick_2\">\n     <g id=\"line2d_3\">\n      <path d=\"M 258.18544 313.478125 \nL 258.18544 22.318125 \n\" clip-path=\"url(#p36899f5863)\" style=\"fill: none; stroke: #b0b0b0; stroke-width: 0.8; stroke-linecap: square\"/>\n     </g>\n     <g id=\"line2d_4\">\n      <g>\n       <use xlink:href=\"#me5be9a56fb\" x=\"258.18544\" y=\"313.478125\" style=\"stroke: #000000; stroke-width: 0.8\"/>\n      </g>\n     </g>\n     <g id=\"text_2\">\n      <!-- 4 -->\n      <g transform=\"translate(255.00419 328.076563) scale(0.1 -0.1)\">\n       <defs>\n        <path id=\"DejaVuSans-34\" d=\"M 2419 4116 \nL 825 1625 \nL 2419 1625 \nL 2419 4116 \nz\nM 2253 4666 \nL 3047 4666 \nL 3047 1625 \nL 3713 1625 \nL 3713 1100 \nL 3047 1100 \nL 3047 0 \nL 2419 0 \nL 2419 1100 \nL 313 1100 \nL 313 1709 \nL 2253 4666 \nz\n\" transform=\"scale(0.015625)\"/>\n       </defs>\n       <use xlink:href=\"#DejaVuSans-34\"/>\n      </g>\n     </g>\n    </g>\n    <g id=\"xtick_3\">\n     <g id=\"line2d_5\">\n      <path d=\"M 357.681588 313.478125 \nL 357.681588 22.318125 \n\" clip-path=\"url(#p36899f5863)\" style=\"fill: none; stroke: #b0b0b0; stroke-width: 0.8; stroke-linecap: square\"/>\n     </g>\n     <g id=\"line2d_6\">\n      <g>\n       <use xlink:href=\"#me5be9a56fb\" x=\"357.681588\" y=\"313.478125\" style=\"stroke: #000000; stroke-width: 0.8\"/>\n      </g>\n     </g>\n     <g id=\"text_3\">\n      <!-- 6 -->\n      <g transform=\"translate(354.500338 328.076563) scale(0.1 -0.1)\">\n       <defs>\n        <path id=\"DejaVuSans-36\" d=\"M 2113 2584 \nQ 1688 2584 1439 2293 \nQ 1191 2003 1191 1497 \nQ 1191 994 1439 701 \nQ 1688 409 2113 409 \nQ 2538 409 2786 701 \nQ 3034 994 3034 1497 \nQ 3034 2003 2786 2293 \nQ 2538 2584 2113 2584 \nz\nM 3366 4563 \nL 3366 3988 \nQ 3128 4100 2886 4159 \nQ 2644 4219 2406 4219 \nQ 1781 4219 1451 3797 \nQ 1122 3375 1075 2522 \nQ 1259 2794 1537 2939 \nQ 1816 3084 2150 3084 \nQ 2853 3084 3261 2657 \nQ 3669 2231 3669 1497 \nQ 3669 778 3244 343 \nQ 2819 -91 2113 -91 \nQ 1303 -91 875 529 \nQ 447 1150 447 2328 \nQ 447 3434 972 4092 \nQ 1497 4750 2381 4750 \nQ 2619 4750 2861 4703 \nQ 3103 4656 3366 4563 \nz\n\" transform=\"scale(0.015625)\"/>\n       </defs>\n       <use xlink:href=\"#DejaVuSans-36\"/>\n      </g>\n     </g>\n    </g>\n    <g id=\"xtick_4\">\n     <g id=\"line2d_7\">\n      <path d=\"M 457.177736 313.478125 \nL 457.177736 22.318125 \n\" clip-path=\"url(#p36899f5863)\" style=\"fill: none; stroke: #b0b0b0; stroke-width: 0.8; stroke-linecap: square\"/>\n     </g>\n     <g id=\"line2d_8\">\n      <g>\n       <use xlink:href=\"#me5be9a56fb\" x=\"457.177736\" y=\"313.478125\" style=\"stroke: #000000; stroke-width: 0.8\"/>\n      </g>\n     </g>\n     <g id=\"text_4\">\n      <!-- 8 -->\n      <g transform=\"translate(453.996486 328.076563) scale(0.1 -0.1)\">\n       <defs>\n        <path id=\"DejaVuSans-38\" d=\"M 2034 2216 \nQ 1584 2216 1326 1975 \nQ 1069 1734 1069 1313 \nQ 1069 891 1326 650 \nQ 1584 409 2034 409 \nQ 2484 409 2743 651 \nQ 3003 894 3003 1313 \nQ 3003 1734 2745 1975 \nQ 2488 2216 2034 2216 \nz\nM 1403 2484 \nQ 997 2584 770 2862 \nQ 544 3141 544 3541 \nQ 544 4100 942 4425 \nQ 1341 4750 2034 4750 \nQ 2731 4750 3128 4425 \nQ 3525 4100 3525 3541 \nQ 3525 3141 3298 2862 \nQ 3072 2584 2669 2484 \nQ 3125 2378 3379 2068 \nQ 3634 1759 3634 1313 \nQ 3634 634 3220 271 \nQ 2806 -91 2034 -91 \nQ 1263 -91 848 271 \nQ 434 634 434 1313 \nQ 434 1759 690 2068 \nQ 947 2378 1403 2484 \nz\nM 1172 3481 \nQ 1172 3119 1398 2916 \nQ 1625 2713 2034 2713 \nQ 2441 2713 2670 2916 \nQ 2900 3119 2900 3481 \nQ 2900 3844 2670 4047 \nQ 2441 4250 2034 4250 \nQ 1625 4250 1398 4047 \nQ 1172 3844 1172 3481 \nz\n\" transform=\"scale(0.015625)\"/>\n       </defs>\n       <use xlink:href=\"#DejaVuSans-38\"/>\n      </g>\n     </g>\n    </g>\n    <g id=\"xtick_5\">\n     <g id=\"line2d_9\">\n      <path d=\"M 556.673884 313.478125 \nL 556.673884 22.318125 \n\" clip-path=\"url(#p36899f5863)\" style=\"fill: none; stroke: #b0b0b0; stroke-width: 0.8; stroke-linecap: square\"/>\n     </g>\n     <g id=\"line2d_10\">\n      <g>\n       <use xlink:href=\"#me5be9a56fb\" x=\"556.673884\" y=\"313.478125\" style=\"stroke: #000000; stroke-width: 0.8\"/>\n      </g>\n     </g>\n     <g id=\"text_5\">\n      <!-- 10 -->\n      <g transform=\"translate(550.311384 328.076563) scale(0.1 -0.1)\">\n       <defs>\n        <path id=\"DejaVuSans-31\" d=\"M 794 531 \nL 1825 531 \nL 1825 4091 \nL 703 3866 \nL 703 4441 \nL 1819 4666 \nL 2450 4666 \nL 2450 531 \nL 3481 531 \nL 3481 0 \nL 794 0 \nL 794 531 \nz\n\" transform=\"scale(0.015625)\"/>\n        <path id=\"DejaVuSans-30\" d=\"M 2034 4250 \nQ 1547 4250 1301 3770 \nQ 1056 3291 1056 2328 \nQ 1056 1369 1301 889 \nQ 1547 409 2034 409 \nQ 2525 409 2770 889 \nQ 3016 1369 3016 2328 \nQ 3016 3291 2770 3770 \nQ 2525 4250 2034 4250 \nz\nM 2034 4750 \nQ 2819 4750 3233 4129 \nQ 3647 3509 3647 2328 \nQ 3647 1150 3233 529 \nQ 2819 -91 2034 -91 \nQ 1250 -91 836 529 \nQ 422 1150 422 2328 \nQ 422 3509 836 4129 \nQ 1250 4750 2034 4750 \nz\n\" transform=\"scale(0.015625)\"/>\n       </defs>\n       <use xlink:href=\"#DejaVuSans-31\"/>\n       <use xlink:href=\"#DejaVuSans-30\" x=\"63.623047\"/>\n      </g>\n     </g>\n    </g>\n    <g id=\"xtick_6\">\n     <g id=\"line2d_11\">\n      <path d=\"M 656.170032 313.478125 \nL 656.170032 22.318125 \n\" clip-path=\"url(#p36899f5863)\" style=\"fill: none; stroke: #b0b0b0; stroke-width: 0.8; stroke-linecap: square\"/>\n     </g>\n     <g id=\"line2d_12\">\n      <g>\n       <use xlink:href=\"#me5be9a56fb\" x=\"656.170032\" y=\"313.478125\" style=\"stroke: #000000; stroke-width: 0.8\"/>\n      </g>\n     </g>\n     <g id=\"text_6\">\n      <!-- 12 -->\n      <g transform=\"translate(649.807532 328.076563) scale(0.1 -0.1)\">\n       <use xlink:href=\"#DejaVuSans-31\"/>\n       <use xlink:href=\"#DejaVuSans-32\" x=\"63.623047\"/>\n      </g>\n     </g>\n    </g>\n    <g id=\"text_7\">\n     <!-- Номер месяца -->\n     <g transform=\"translate(345.051719 341.754687) scale(0.1 -0.1)\">\n      <defs>\n       <path id=\"DejaVuSans-41d\" d=\"M 628 4666 \nL 1259 4666 \nL 1259 2753 \nL 3553 2753 \nL 3553 4666 \nL 4184 4666 \nL 4184 0 \nL 3553 0 \nL 3553 2222 \nL 1259 2222 \nL 1259 0 \nL 628 0 \nL 628 4666 \nz\n\" transform=\"scale(0.015625)\"/>\n       <path id=\"DejaVuSans-43e\" d=\"M 1959 3097 \nQ 1497 3097 1228 2736 \nQ 959 2375 959 1747 \nQ 959 1119 1226 758 \nQ 1494 397 1959 397 \nQ 2419 397 2687 759 \nQ 2956 1122 2956 1747 \nQ 2956 2369 2687 2733 \nQ 2419 3097 1959 3097 \nz\nM 1959 3584 \nQ 2709 3584 3137 3096 \nQ 3566 2609 3566 1747 \nQ 3566 888 3137 398 \nQ 2709 -91 1959 -91 \nQ 1206 -91 779 398 \nQ 353 888 353 1747 \nQ 353 2609 779 3096 \nQ 1206 3584 1959 3584 \nz\n\" transform=\"scale(0.015625)\"/>\n       <path id=\"DejaVuSans-43c\" d=\"M 581 3500 \nL 1422 3500 \nL 2416 1156 \nL 3413 3500 \nL 4247 3500 \nL 4247 0 \nL 3669 0 \nL 3669 2950 \nL 2703 672 \nL 2128 672 \nL 1159 2950 \nL 1159 0 \nL 581 0 \nL 581 3500 \nz\n\" transform=\"scale(0.015625)\"/>\n       <path id=\"DejaVuSans-435\" d=\"M 3597 1894 \nL 3597 1613 \nL 953 1613 \nQ 991 1019 1311 708 \nQ 1631 397 2203 397 \nQ 2534 397 2845 478 \nQ 3156 559 3463 722 \nL 3463 178 \nQ 3153 47 2828 -22 \nQ 2503 -91 2169 -91 \nQ 1331 -91 842 396 \nQ 353 884 353 1716 \nQ 353 2575 817 3079 \nQ 1281 3584 2069 3584 \nQ 2775 3584 3186 3129 \nQ 3597 2675 3597 1894 \nz\nM 3022 2063 \nQ 3016 2534 2758 2815 \nQ 2500 3097 2075 3097 \nQ 1594 3097 1305 2825 \nQ 1016 2553 972 2059 \nL 3022 2063 \nz\n\" transform=\"scale(0.015625)\"/>\n       <path id=\"DejaVuSans-440\" d=\"M 1159 525 \nL 1159 -1331 \nL 581 -1331 \nL 581 3500 \nL 1159 3500 \nL 1159 2969 \nQ 1341 3281 1617 3432 \nQ 1894 3584 2278 3584 \nQ 2916 3584 3314 3078 \nQ 3713 2572 3713 1747 \nQ 3713 922 3314 415 \nQ 2916 -91 2278 -91 \nQ 1894 -91 1617 61 \nQ 1341 213 1159 525 \nz\nM 3116 1747 \nQ 3116 2381 2855 2742 \nQ 2594 3103 2138 3103 \nQ 1681 3103 1420 2742 \nQ 1159 2381 1159 1747 \nQ 1159 1113 1420 752 \nQ 1681 391 2138 391 \nQ 2594 391 2855 752 \nQ 3116 1113 3116 1747 \nz\n\" transform=\"scale(0.015625)\"/>\n       <path id=\"DejaVuSans-20\" transform=\"scale(0.015625)\"/>\n       <path id=\"DejaVuSans-441\" d=\"M 3122 3366 \nL 3122 2828 \nQ 2878 2963 2633 3030 \nQ 2388 3097 2138 3097 \nQ 1578 3097 1268 2742 \nQ 959 2388 959 1747 \nQ 959 1106 1268 751 \nQ 1578 397 2138 397 \nQ 2388 397 2633 464 \nQ 2878 531 3122 666 \nL 3122 134 \nQ 2881 22 2623 -34 \nQ 2366 -91 2075 -91 \nQ 1284 -91 818 406 \nQ 353 903 353 1747 \nQ 353 2603 823 3093 \nQ 1294 3584 2113 3584 \nQ 2378 3584 2631 3529 \nQ 2884 3475 3122 3366 \nz\n\" transform=\"scale(0.015625)\"/>\n       <path id=\"DejaVuSans-44f\" d=\"M 1181 2491 \nQ 1181 2231 1381 2084 \nQ 1581 1938 1953 1938 \nL 2728 1938 \nL 2728 3041 \nL 1953 3041 \nQ 1581 3041 1381 2897 \nQ 1181 2753 1181 2491 \nz\nM 363 0 \nL 1431 1534 \nQ 1069 1616 828 1830 \nQ 588 2044 588 2491 \nQ 588 2997 923 3248 \nQ 1259 3500 1938 3500 \nL 3306 3500 \nL 3306 0 \nL 2728 0 \nL 2728 1478 \nL 2013 1478 \nL 981 0 \nL 363 0 \nz\n\" transform=\"scale(0.015625)\"/>\n       <path id=\"DejaVuSans-446\" d=\"M 3603 0 \nL 581 0 \nL 581 3500 \nL 1159 3500 \nL 1159 459 \nL 3025 459 \nL 3025 3500 \nL 3603 3500 \nL 3603 459 \nL 4063 459 \nL 4063 -884 \nL 3603 -884 \nL 3603 0 \nz\n\" transform=\"scale(0.015625)\"/>\n       <path id=\"DejaVuSans-430\" d=\"M 2194 1759 \nQ 1497 1759 1228 1600 \nQ 959 1441 959 1056 \nQ 959 750 1161 570 \nQ 1363 391 1709 391 \nQ 2188 391 2477 730 \nQ 2766 1069 2766 1631 \nL 2766 1759 \nL 2194 1759 \nz\nM 3341 1997 \nL 3341 0 \nL 2766 0 \nL 2766 531 \nQ 2569 213 2275 61 \nQ 1981 -91 1556 -91 \nQ 1019 -91 701 211 \nQ 384 513 384 1019 \nQ 384 1609 779 1909 \nQ 1175 2209 1959 2209 \nL 2766 2209 \nL 2766 2266 \nQ 2766 2663 2505 2880 \nQ 2244 3097 1772 3097 \nQ 1472 3097 1187 3025 \nQ 903 2953 641 2809 \nL 641 3341 \nQ 956 3463 1253 3523 \nQ 1550 3584 1831 3584 \nQ 2591 3584 2966 3190 \nQ 3341 2797 3341 1997 \nz\n\" transform=\"scale(0.015625)\"/>\n      </defs>\n      <use xlink:href=\"#DejaVuSans-41d\"/>\n      <use xlink:href=\"#DejaVuSans-43e\" x=\"75.195312\"/>\n      <use xlink:href=\"#DejaVuSans-43c\" x=\"136.376953\"/>\n      <use xlink:href=\"#DejaVuSans-435\" x=\"211.816406\"/>\n      <use xlink:href=\"#DejaVuSans-440\" x=\"273.339844\"/>\n      <use xlink:href=\"#DejaVuSans-20\" x=\"336.816406\"/>\n      <use xlink:href=\"#DejaVuSans-43c\" x=\"368.603516\"/>\n      <use xlink:href=\"#DejaVuSans-435\" x=\"444.042969\"/>\n      <use xlink:href=\"#DejaVuSans-441\" x=\"505.566406\"/>\n      <use xlink:href=\"#DejaVuSans-44f\" x=\"560.546875\"/>\n      <use xlink:href=\"#DejaVuSans-446\" x=\"620.703125\"/>\n      <use xlink:href=\"#DejaVuSans-430\" x=\"688.769531\"/>\n     </g>\n    </g>\n   </g>\n   <g id=\"matplotlib.axis_2\">\n    <g id=\"ytick_1\">\n     <g id=\"line2d_13\">\n      <path d=\"M 59.690625 313.478125 \nL 705.420625 313.478125 \n\" clip-path=\"url(#p36899f5863)\" style=\"fill: none; stroke: #b0b0b0; stroke-width: 0.8; stroke-linecap: square\"/>\n     </g>\n     <g id=\"line2d_14\">\n      <defs>\n       <path id=\"ma208020663\" d=\"M 0 0 \nL -3.5 0 \n\" style=\"stroke: #000000; stroke-width: 0.8\"/>\n      </defs>\n      <g>\n       <use xlink:href=\"#ma208020663\" x=\"59.690625\" y=\"313.478125\" style=\"stroke: #000000; stroke-width: 0.8\"/>\n      </g>\n     </g>\n     <g id=\"text_8\">\n      <!-- 0 -->\n      <g transform=\"translate(46.328125 317.277344) scale(0.1 -0.1)\">\n       <use xlink:href=\"#DejaVuSans-30\"/>\n      </g>\n     </g>\n    </g>\n    <g id=\"ytick_2\">\n     <g id=\"line2d_15\">\n      <path d=\"M 59.690625 274.907733 \nL 705.420625 274.907733 \n\" clip-path=\"url(#p36899f5863)\" style=\"fill: none; stroke: #b0b0b0; stroke-width: 0.8; stroke-linecap: square\"/>\n     </g>\n     <g id=\"line2d_16\">\n      <g>\n       <use xlink:href=\"#ma208020663\" x=\"59.690625\" y=\"274.907733\" style=\"stroke: #000000; stroke-width: 0.8\"/>\n      </g>\n     </g>\n     <g id=\"text_9\">\n      <!-- 5000 -->\n      <g transform=\"translate(27.240625 278.706952) scale(0.1 -0.1)\">\n       <defs>\n        <path id=\"DejaVuSans-35\" d=\"M 691 4666 \nL 3169 4666 \nL 3169 4134 \nL 1269 4134 \nL 1269 2991 \nQ 1406 3038 1543 3061 \nQ 1681 3084 1819 3084 \nQ 2600 3084 3056 2656 \nQ 3513 2228 3513 1497 \nQ 3513 744 3044 326 \nQ 2575 -91 1722 -91 \nQ 1428 -91 1123 -41 \nQ 819 9 494 109 \nL 494 744 \nQ 775 591 1075 516 \nQ 1375 441 1709 441 \nQ 2250 441 2565 725 \nQ 2881 1009 2881 1497 \nQ 2881 1984 2565 2268 \nQ 2250 2553 1709 2553 \nQ 1456 2553 1204 2497 \nQ 953 2441 691 2322 \nL 691 4666 \nz\n\" transform=\"scale(0.015625)\"/>\n       </defs>\n       <use xlink:href=\"#DejaVuSans-35\"/>\n       <use xlink:href=\"#DejaVuSans-30\" x=\"63.623047\"/>\n       <use xlink:href=\"#DejaVuSans-30\" x=\"127.246094\"/>\n       <use xlink:href=\"#DejaVuSans-30\" x=\"190.869141\"/>\n      </g>\n     </g>\n    </g>\n    <g id=\"ytick_3\">\n     <g id=\"line2d_17\">\n      <path d=\"M 59.690625 236.337341 \nL 705.420625 236.337341 \n\" clip-path=\"url(#p36899f5863)\" style=\"fill: none; stroke: #b0b0b0; stroke-width: 0.8; stroke-linecap: square\"/>\n     </g>\n     <g id=\"line2d_18\">\n      <g>\n       <use xlink:href=\"#ma208020663\" x=\"59.690625\" y=\"236.337341\" style=\"stroke: #000000; stroke-width: 0.8\"/>\n      </g>\n     </g>\n     <g id=\"text_10\">\n      <!-- 10000 -->\n      <g transform=\"translate(20.878125 240.13656) scale(0.1 -0.1)\">\n       <use xlink:href=\"#DejaVuSans-31\"/>\n       <use xlink:href=\"#DejaVuSans-30\" x=\"63.623047\"/>\n       <use xlink:href=\"#DejaVuSans-30\" x=\"127.246094\"/>\n       <use xlink:href=\"#DejaVuSans-30\" x=\"190.869141\"/>\n       <use xlink:href=\"#DejaVuSans-30\" x=\"254.492188\"/>\n      </g>\n     </g>\n    </g>\n    <g id=\"ytick_4\">\n     <g id=\"line2d_19\">\n      <path d=\"M 59.690625 197.766949 \nL 705.420625 197.766949 \n\" clip-path=\"url(#p36899f5863)\" style=\"fill: none; stroke: #b0b0b0; stroke-width: 0.8; stroke-linecap: square\"/>\n     </g>\n     <g id=\"line2d_20\">\n      <g>\n       <use xlink:href=\"#ma208020663\" x=\"59.690625\" y=\"197.766949\" style=\"stroke: #000000; stroke-width: 0.8\"/>\n      </g>\n     </g>\n     <g id=\"text_11\">\n      <!-- 15000 -->\n      <g transform=\"translate(20.878125 201.566168) scale(0.1 -0.1)\">\n       <use xlink:href=\"#DejaVuSans-31\"/>\n       <use xlink:href=\"#DejaVuSans-35\" x=\"63.623047\"/>\n       <use xlink:href=\"#DejaVuSans-30\" x=\"127.246094\"/>\n       <use xlink:href=\"#DejaVuSans-30\" x=\"190.869141\"/>\n       <use xlink:href=\"#DejaVuSans-30\" x=\"254.492188\"/>\n      </g>\n     </g>\n    </g>\n    <g id=\"ytick_5\">\n     <g id=\"line2d_21\">\n      <path d=\"M 59.690625 159.196557 \nL 705.420625 159.196557 \n\" clip-path=\"url(#p36899f5863)\" style=\"fill: none; stroke: #b0b0b0; stroke-width: 0.8; stroke-linecap: square\"/>\n     </g>\n     <g id=\"line2d_22\">\n      <g>\n       <use xlink:href=\"#ma208020663\" x=\"59.690625\" y=\"159.196557\" style=\"stroke: #000000; stroke-width: 0.8\"/>\n      </g>\n     </g>\n     <g id=\"text_12\">\n      <!-- 20000 -->\n      <g transform=\"translate(20.878125 162.995776) scale(0.1 -0.1)\">\n       <use xlink:href=\"#DejaVuSans-32\"/>\n       <use xlink:href=\"#DejaVuSans-30\" x=\"63.623047\"/>\n       <use xlink:href=\"#DejaVuSans-30\" x=\"127.246094\"/>\n       <use xlink:href=\"#DejaVuSans-30\" x=\"190.869141\"/>\n       <use xlink:href=\"#DejaVuSans-30\" x=\"254.492188\"/>\n      </g>\n     </g>\n    </g>\n    <g id=\"ytick_6\">\n     <g id=\"line2d_23\">\n      <path d=\"M 59.690625 120.626166 \nL 705.420625 120.626166 \n\" clip-path=\"url(#p36899f5863)\" style=\"fill: none; stroke: #b0b0b0; stroke-width: 0.8; stroke-linecap: square\"/>\n     </g>\n     <g id=\"line2d_24\">\n      <g>\n       <use xlink:href=\"#ma208020663\" x=\"59.690625\" y=\"120.626166\" style=\"stroke: #000000; stroke-width: 0.8\"/>\n      </g>\n     </g>\n     <g id=\"text_13\">\n      <!-- 25000 -->\n      <g transform=\"translate(20.878125 124.425384) scale(0.1 -0.1)\">\n       <use xlink:href=\"#DejaVuSans-32\"/>\n       <use xlink:href=\"#DejaVuSans-35\" x=\"63.623047\"/>\n       <use xlink:href=\"#DejaVuSans-30\" x=\"127.246094\"/>\n       <use xlink:href=\"#DejaVuSans-30\" x=\"190.869141\"/>\n       <use xlink:href=\"#DejaVuSans-30\" x=\"254.492188\"/>\n      </g>\n     </g>\n    </g>\n    <g id=\"ytick_7\">\n     <g id=\"line2d_25\">\n      <path d=\"M 59.690625 82.055774 \nL 705.420625 82.055774 \n\" clip-path=\"url(#p36899f5863)\" style=\"fill: none; stroke: #b0b0b0; stroke-width: 0.8; stroke-linecap: square\"/>\n     </g>\n     <g id=\"line2d_26\">\n      <g>\n       <use xlink:href=\"#ma208020663\" x=\"59.690625\" y=\"82.055774\" style=\"stroke: #000000; stroke-width: 0.8\"/>\n      </g>\n     </g>\n     <g id=\"text_14\">\n      <!-- 30000 -->\n      <g transform=\"translate(20.878125 85.854992) scale(0.1 -0.1)\">\n       <defs>\n        <path id=\"DejaVuSans-33\" d=\"M 2597 2516 \nQ 3050 2419 3304 2112 \nQ 3559 1806 3559 1356 \nQ 3559 666 3084 287 \nQ 2609 -91 1734 -91 \nQ 1441 -91 1130 -33 \nQ 819 25 488 141 \nL 488 750 \nQ 750 597 1062 519 \nQ 1375 441 1716 441 \nQ 2309 441 2620 675 \nQ 2931 909 2931 1356 \nQ 2931 1769 2642 2001 \nQ 2353 2234 1838 2234 \nL 1294 2234 \nL 1294 2753 \nL 1863 2753 \nQ 2328 2753 2575 2939 \nQ 2822 3125 2822 3475 \nQ 2822 3834 2567 4026 \nQ 2313 4219 1838 4219 \nQ 1578 4219 1281 4162 \nQ 984 4106 628 3988 \nL 628 4550 \nQ 988 4650 1302 4700 \nQ 1616 4750 1894 4750 \nQ 2613 4750 3031 4423 \nQ 3450 4097 3450 3541 \nQ 3450 3153 3228 2886 \nQ 3006 2619 2597 2516 \nz\n\" transform=\"scale(0.015625)\"/>\n       </defs>\n       <use xlink:href=\"#DejaVuSans-33\"/>\n       <use xlink:href=\"#DejaVuSans-30\" x=\"63.623047\"/>\n       <use xlink:href=\"#DejaVuSans-30\" x=\"127.246094\"/>\n       <use xlink:href=\"#DejaVuSans-30\" x=\"190.869141\"/>\n       <use xlink:href=\"#DejaVuSans-30\" x=\"254.492188\"/>\n      </g>\n     </g>\n    </g>\n    <g id=\"ytick_8\">\n     <g id=\"line2d_27\">\n      <path d=\"M 59.690625 43.485382 \nL 705.420625 43.485382 \n\" clip-path=\"url(#p36899f5863)\" style=\"fill: none; stroke: #b0b0b0; stroke-width: 0.8; stroke-linecap: square\"/>\n     </g>\n     <g id=\"line2d_28\">\n      <g>\n       <use xlink:href=\"#ma208020663\" x=\"59.690625\" y=\"43.485382\" style=\"stroke: #000000; stroke-width: 0.8\"/>\n      </g>\n     </g>\n     <g id=\"text_15\">\n      <!-- 35000 -->\n      <g transform=\"translate(20.878125 47.284601) scale(0.1 -0.1)\">\n       <use xlink:href=\"#DejaVuSans-33\"/>\n       <use xlink:href=\"#DejaVuSans-35\" x=\"63.623047\"/>\n       <use xlink:href=\"#DejaVuSans-30\" x=\"127.246094\"/>\n       <use xlink:href=\"#DejaVuSans-30\" x=\"190.869141\"/>\n       <use xlink:href=\"#DejaVuSans-30\" x=\"254.492188\"/>\n      </g>\n     </g>\n    </g>\n    <g id=\"text_16\">\n     <!-- Средний спрос -->\n     <g transform=\"translate(14.798438 207.454375) rotate(-90) scale(0.1 -0.1)\">\n      <defs>\n       <path id=\"DejaVuSans-421\" d=\"M 4122 4306 \nL 4122 3641 \nQ 3803 3938 3442 4084 \nQ 3081 4231 2675 4231 \nQ 1875 4231 1450 3742 \nQ 1025 3253 1025 2328 \nQ 1025 1406 1450 917 \nQ 1875 428 2675 428 \nQ 3081 428 3442 575 \nQ 3803 722 4122 1019 \nL 4122 359 \nQ 3791 134 3420 21 \nQ 3050 -91 2638 -91 \nQ 1578 -91 968 557 \nQ 359 1206 359 2328 \nQ 359 3453 968 4101 \nQ 1578 4750 2638 4750 \nQ 3056 4750 3426 4639 \nQ 3797 4528 4122 4306 \nz\n\" transform=\"scale(0.015625)\"/>\n       <path id=\"DejaVuSans-434\" d=\"M 1384 459 \nL 3053 459 \nL 3053 3041 \nL 1844 3041 \nL 1844 2603 \nQ 1844 1316 1475 628 \nL 1384 459 \nz\nM 550 459 \nQ 834 584 959 850 \nQ 1266 1509 1266 2838 \nL 1266 3500 \nL 3631 3500 \nL 3631 459 \nL 4091 459 \nL 4091 -884 \nL 3631 -884 \nL 3631 0 \nL 794 0 \nL 794 -884 \nL 334 -884 \nL 334 459 \nL 550 459 \nz\n\" transform=\"scale(0.015625)\"/>\n       <path id=\"DejaVuSans-43d\" d=\"M 581 3500 \nL 1159 3500 \nL 1159 2072 \nL 3025 2072 \nL 3025 3500 \nL 3603 3500 \nL 3603 0 \nL 3025 0 \nL 3025 1613 \nL 1159 1613 \nL 1159 0 \nL 581 0 \nL 581 3500 \nz\n\" transform=\"scale(0.015625)\"/>\n       <path id=\"DejaVuSans-438\" d=\"M 3578 3500 \nL 3578 0 \nL 3006 0 \nL 3006 2809 \nL 1319 0 \nL 581 0 \nL 581 3500 \nL 1153 3500 \nL 1153 697 \nL 2838 3500 \nL 3578 3500 \nz\n\" transform=\"scale(0.015625)\"/>\n       <path id=\"DejaVuSans-439\" d=\"M 3578 3500 \nL 3578 0 \nL 3006 0 \nL 3006 2809 \nL 1319 0 \nL 581 0 \nL 581 3500 \nL 1153 3500 \nL 1153 697 \nL 2838 3500 \nL 3578 3500 \nz\nM 1102 4833 \nL 1471 4833 \nQ 1505 4599 1656 4481 \nQ 1808 4364 2080 4364 \nQ 2349 4364 2499 4480 \nQ 2649 4596 2689 4833 \nL 3058 4833 \nQ 3027 4386 2780 4161 \nQ 2533 3936 2080 3936 \nQ 1627 3936 1380 4161 \nQ 1133 4386 1102 4833 \nz\n\" transform=\"scale(0.015625)\"/>\n       <path id=\"DejaVuSans-43f\" d=\"M 3603 3500 \nL 3603 0 \nL 3025 0 \nL 3025 3041 \nL 1159 3041 \nL 1159 0 \nL 581 0 \nL 581 3500 \nL 3603 3500 \nz\n\" transform=\"scale(0.015625)\"/>\n      </defs>\n      <use xlink:href=\"#DejaVuSans-421\"/>\n      <use xlink:href=\"#DejaVuSans-440\" x=\"69.824219\"/>\n      <use xlink:href=\"#DejaVuSans-435\" x=\"133.300781\"/>\n      <use xlink:href=\"#DejaVuSans-434\" x=\"194.824219\"/>\n      <use xlink:href=\"#DejaVuSans-43d\" x=\"263.964844\"/>\n      <use xlink:href=\"#DejaVuSans-438\" x=\"329.345703\"/>\n      <use xlink:href=\"#DejaVuSans-439\" x=\"394.335938\"/>\n      <use xlink:href=\"#DejaVuSans-20\" x=\"459.326172\"/>\n      <use xlink:href=\"#DejaVuSans-441\" x=\"491.113281\"/>\n      <use xlink:href=\"#DejaVuSans-43f\" x=\"546.09375\"/>\n      <use xlink:href=\"#DejaVuSans-440\" x=\"611.474609\"/>\n      <use xlink:href=\"#DejaVuSans-43e\" x=\"674.951172\"/>\n      <use xlink:href=\"#DejaVuSans-441\" x=\"736.132812\"/>\n     </g>\n    </g>\n   </g>\n   <g id=\"patch_15\">\n    <path d=\"M 59.690625 313.478125 \nL 59.690625 22.318125 \n\" style=\"fill: none; stroke: #000000; stroke-width: 0.8; stroke-linejoin: miter; stroke-linecap: square\"/>\n   </g>\n   <g id=\"patch_16\">\n    <path d=\"M 705.420625 313.478125 \nL 705.420625 22.318125 \n\" style=\"fill: none; stroke: #000000; stroke-width: 0.8; stroke-linejoin: miter; stroke-linecap: square\"/>\n   </g>\n   <g id=\"patch_17\">\n    <path d=\"M 59.690625 313.478125 \nL 705.420625 313.478125 \n\" style=\"fill: none; stroke: #000000; stroke-width: 0.8; stroke-linejoin: miter; stroke-linecap: square\"/>\n   </g>\n   <g id=\"patch_18\">\n    <path d=\"M 59.690625 22.318125 \nL 705.420625 22.318125 \n\" style=\"fill: none; stroke: #000000; stroke-width: 0.8; stroke-linejoin: miter; stroke-linecap: square\"/>\n   </g>\n   <g id=\"text_17\">\n    <!-- Зависимость спроса от месяца -->\n    <g transform=\"translate(284.419063 16.318125) scale(0.12 -0.12)\">\n     <defs>\n      <path id=\"DejaVuSans-417\" d=\"M 1828 4750 \nQ 2597 4750 3084 4423 \nQ 3572 4097 3572 3541 \nQ 3572 3153 3350 2886 \nQ 3128 2619 2719 2516 \nQ 3172 2419 3426 2112 \nQ 3681 1806 3681 1356 \nQ 3681 638 3126 273 \nQ 2572 -91 1828 -91 \nQ 1447 -91 1003 12 \nQ 559 116 422 203 \nL 422 853 \nQ 900 575 1164 508 \nQ 1428 441 1816 441 \nQ 2403 441 2728 666 \nQ 3053 891 3053 1356 \nQ 3053 1769 2764 2001 \nQ 2475 2234 1866 2234 \nL 1228 2234 \nL 1228 2753 \nL 1891 2753 \nQ 2450 2753 2697 2939 \nQ 2944 3125 2944 3475 \nQ 2944 3834 2689 4026 \nQ 2434 4219 1816 4219 \nQ 1397 4219 1253 4181 \nQ 1109 4144 469 3903 \nL 469 4519 \nQ 822 4644 1190 4697 \nQ 1559 4750 1828 4750 \nz\n\" transform=\"scale(0.015625)\"/>\n      <path id=\"DejaVuSans-432\" d=\"M 1156 1613 \nL 1156 459 \nL 1975 459 \nQ 2369 459 2575 607 \nQ 2781 756 2781 1038 \nQ 2781 1319 2575 1466 \nQ 2369 1613 1975 1613 \nL 1156 1613 \nz\nM 1156 3041 \nL 1156 2072 \nL 1913 2072 \nQ 2238 2072 2444 2201 \nQ 2650 2331 2650 2563 \nQ 2650 2794 2444 2917 \nQ 2238 3041 1913 3041 \nL 1156 3041 \nz\nM 581 3500 \nL 1950 3500 \nQ 2566 3500 2897 3275 \nQ 3228 3050 3228 2634 \nQ 3228 2313 3059 2123 \nQ 2891 1934 2559 1888 \nQ 2956 1813 3175 1575 \nQ 3394 1338 3394 981 \nQ 3394 513 3033 256 \nQ 2672 0 2003 0 \nL 581 0 \nL 581 3500 \nz\n\" transform=\"scale(0.015625)\"/>\n      <path id=\"DejaVuSans-442\" d=\"M 188 3500 \nL 3541 3500 \nL 3541 3041 \nL 2147 3041 \nL 2147 0 \nL 1581 0 \nL 1581 3041 \nL 188 3041 \nL 188 3500 \nz\n\" transform=\"scale(0.015625)\"/>\n      <path id=\"DejaVuSans-44c\" d=\"M 2781 1038 \nQ 2781 1319 2576 1466 \nQ 2372 1613 1978 1613 \nL 1159 1613 \nL 1159 459 \nL 1978 459 \nQ 2372 459 2576 607 \nQ 2781 756 2781 1038 \nz\nM 581 3500 \nL 1159 3500 \nL 1159 2072 \nL 2003 2072 \nQ 2672 2072 3033 1817 \nQ 3394 1563 3394 1038 \nQ 3394 513 3033 256 \nQ 2672 0 2003 0 \nL 581 0 \nL 581 3500 \nz\n\" transform=\"scale(0.015625)\"/>\n     </defs>\n     <use xlink:href=\"#DejaVuSans-417\"/>\n     <use xlink:href=\"#DejaVuSans-430\" x=\"64.111328\"/>\n     <use xlink:href=\"#DejaVuSans-432\" x=\"125.390625\"/>\n     <use xlink:href=\"#DejaVuSans-438\" x=\"184.326172\"/>\n     <use xlink:href=\"#DejaVuSans-441\" x=\"249.316406\"/>\n     <use xlink:href=\"#DejaVuSans-438\" x=\"304.296875\"/>\n     <use xlink:href=\"#DejaVuSans-43c\" x=\"369.287109\"/>\n     <use xlink:href=\"#DejaVuSans-43e\" x=\"444.726562\"/>\n     <use xlink:href=\"#DejaVuSans-441\" x=\"505.908203\"/>\n     <use xlink:href=\"#DejaVuSans-442\" x=\"560.888672\"/>\n     <use xlink:href=\"#DejaVuSans-44c\" x=\"619.140625\"/>\n     <use xlink:href=\"#DejaVuSans-20\" x=\"678.076172\"/>\n     <use xlink:href=\"#DejaVuSans-441\" x=\"709.863281\"/>\n     <use xlink:href=\"#DejaVuSans-43f\" x=\"764.84375\"/>\n     <use xlink:href=\"#DejaVuSans-440\" x=\"830.224609\"/>\n     <use xlink:href=\"#DejaVuSans-43e\" x=\"893.701172\"/>\n     <use xlink:href=\"#DejaVuSans-441\" x=\"954.882812\"/>\n     <use xlink:href=\"#DejaVuSans-430\" x=\"1009.863281\"/>\n     <use xlink:href=\"#DejaVuSans-20\" x=\"1071.142578\"/>\n     <use xlink:href=\"#DejaVuSans-43e\" x=\"1102.929688\"/>\n     <use xlink:href=\"#DejaVuSans-442\" x=\"1164.111328\"/>\n     <use xlink:href=\"#DejaVuSans-20\" x=\"1222.363281\"/>\n     <use xlink:href=\"#DejaVuSans-43c\" x=\"1254.150391\"/>\n     <use xlink:href=\"#DejaVuSans-435\" x=\"1329.589844\"/>\n     <use xlink:href=\"#DejaVuSans-441\" x=\"1391.113281\"/>\n     <use xlink:href=\"#DejaVuSans-44f\" x=\"1446.09375\"/>\n     <use xlink:href=\"#DejaVuSans-446\" x=\"1506.25\"/>\n     <use xlink:href=\"#DejaVuSans-430\" x=\"1574.316406\"/>\n    </g>\n   </g>\n  </g>\n </g>\n <defs>\n  <clipPath id=\"p36899f5863\">\n   <rect x=\"59.690625\" y=\"22.318125\" width=\"645.73\" height=\"291.16\"/>\n  </clipPath>\n </defs>\n</svg>\n",
      "text/plain": [
       "<Figure size 1000x500 with 1 Axes>"
      ]
     },
     "metadata": {},
     "output_type": "display_data"
    }
   ],
   "source": [
    "fig, ax = plt.subplots(1, 1, figsize=(10, 5))\n",
    "\n",
    "for row in sorted(count_per_month, key=lambda row: row.month):\n",
    "    ax.bar(row.month, row.Count)\n",
    "\n",
    "ax.grid(True)\n",
    "\n",
    "ax.set_xlabel('Номер месяца')\n",
    "ax.set_ylabel('Средний спрос')\n",
    "ax.set_title('Зависимость спроса от месяца')\n",
    "\n",
    "fig.tight_layout()\n",
    "plt.show()"
   ]
  },
  {
   "cell_type": "code",
   "execution_count": 60,
   "metadata": {},
   "outputs": [
    {
     "name": "stdout",
     "output_type": "stream",
     "text": [
      "23/02/23 21:45:44 WARN DAGScheduler: Broadcasting large task binary with size 2034.3 KiB\n"
     ]
    },
    {
     "data": {
      "text/plain": [
       "[Row(day_of_year=29, Count=30434.0, month=1),\n",
       " Row(day_of_year=30, Count=32336.833333333332, month=1),\n",
       " Row(day_of_year=31, Count=35634.333333333336, month=1),\n",
       " Row(day_of_year=32, Count=36961.833333333336, month=2),\n",
       " Row(day_of_year=33, Count=35437.333333333336, month=2),\n",
       " Row(day_of_year=34, Count=36652.0, month=2),\n",
       " Row(day_of_year=35, Count=33337.333333333336, month=2),\n",
       " Row(day_of_year=36, Count=36026.0, month=2),\n",
       " Row(day_of_year=37, Count=36598.666666666664, month=2),\n",
       " Row(day_of_year=38, Count=35893.833333333336, month=2)]"
      ]
     },
     "execution_count": 60,
     "metadata": {},
     "output_type": "execute_result"
    }
   ],
   "source": [
    "count_per_day = (\n",
    "    df_evaluation_agg_unpivot_with_date\n",
    "        .groupBy('day_of_year')\n",
    "        .agg(\n",
    "            F.mean('Count').alias('Count'),\n",
    "            F.first('month').alias('month')\n",
    "        )\n",
    "        .collect()\n",
    ")\n",
    "count_per_day[:10]"
   ]
  },
  {
   "cell_type": "code",
   "execution_count": 61,
   "metadata": {},
   "outputs": [
    {
     "data": {
      "application/pdf": "[encoded data removed]",
      "image/svg+xml": "<?xml version=\"1.0\" encoding=\"utf-8\" standalone=\"no\"?>\n<!DOCTYPE svg PUBLIC \"-//W3C//DTD SVG 1.1//EN\"\n  \"http://www.w3.org/Graphics/SVG/1.1/DTD/svg11.dtd\">\n<svg xmlns:xlink=\"http://www.w3.org/1999/xlink\" width=\"712.620625pt\" height=\"351.034375pt\" viewBox=\"0 0 712.620625 351.034375\" xmlns=\"http://www.w3.org/2000/svg\" version=\"1.1\">\n <metadata>\n  <rdf:RDF xmlns:dc=\"http://purl.org/dc/elements/1.1/\" xmlns:cc=\"http://creativecommons.org/ns#\" xmlns:rdf=\"http://www.w3.org/1999/02/22-rdf-syntax-ns#\">\n   <cc:Work>\n    <dc:type rdf:resource=\"http://purl.org/dc/dcmitype/StillImage\"/>\n    <dc:date>2023-02-23T21:45:46.441493</dc:date>\n    <dc:format>image/svg+xml</dc:format>\n    <dc:creator>\n     <cc:Agent>\n      <dc:title>Matplotlib v3.6.2, https://matplotlib.org/</dc:title>\n     </cc:Agent>\n    </dc:creator>\n   </cc:Work>\n  </rdf:RDF>\n </metadata>\n <defs>\n  <style type=\"text/css\">*{stroke-linejoin: round; stroke-linecap: butt}</style>\n </defs>\n <g id=\"figure_1\">\n  <g id=\"patch_1\">\n   <path d=\"M 0 351.034375 \nL 712.620625 351.034375 \nL 712.620625 0 \nL 0 0 \nz\n\" style=\"fill: #ffffff\"/>\n  </g>\n  <g id=\"axes_1\">\n   <g id=\"patch_2\">\n    <path d=\"M 59.690625 313.478125 \nL 705.420625 313.478125 \nL 705.420625 22.318125 \nL 59.690625 22.318125 \nz\n\" style=\"fill: #ffffff\"/>\n   </g>\n   <g id=\"patch_3\">\n    <path d=\"M 89.041989 313.478125 \nL 90.32581 313.478125 \nL 90.32581 143.523873 \nL 89.041989 143.523873 \nz\n\" clip-path=\"url(#p1cbd40ffaf)\" style=\"fill: #aec7e8\"/>\n   </g>\n   <g id=\"patch_4\">\n    <path d=\"M 90.646765 313.478125 \nL 91.930586 313.478125 \nL 91.930586 73.060699 \nL 90.646765 73.060699 \nz\n\" clip-path=\"url(#p1cbd40ffaf)\" style=\"fill: #aec7e8\"/>\n   </g>\n   <g id=\"patch_5\">\n    <path d=\"M 92.251542 313.478125 \nL 93.535363 313.478125 \nL 93.535363 63.79145 \nL 92.251542 63.79145 \nz\n\" clip-path=\"url(#p1cbd40ffaf)\" style=\"fill: #aec7e8\"/>\n   </g>\n   <g id=\"patch_6\">\n    <path d=\"M 93.856318 313.478125 \nL 95.14014 313.478125 \nL 95.14014 75.357235 \nL 93.856318 75.357235 \nz\n\" clip-path=\"url(#p1cbd40ffaf)\" style=\"fill: #aec7e8\"/>\n   </g>\n   <g id=\"patch_7\">\n    <path d=\"M 95.461095 313.478125 \nL 96.744916 313.478125 \nL 96.744916 66.696087 \nL 95.461095 66.696087 \nz\n\" clip-path=\"url(#p1cbd40ffaf)\" style=\"fill: #aec7e8\"/>\n   </g>\n   <g id=\"patch_8\">\n    <path d=\"M 97.065872 313.478125 \nL 98.349693 313.478125 \nL 98.349693 86.359769 \nL 97.065872 86.359769 \nz\n\" clip-path=\"url(#p1cbd40ffaf)\" style=\"fill: #aec7e8\"/>\n   </g>\n   <g id=\"patch_9\">\n    <path d=\"M 98.670648 313.478125 \nL 99.954469 313.478125 \nL 99.954469 93.558045 \nL 98.670648 93.558045 \nz\n\" clip-path=\"url(#p1cbd40ffaf)\" style=\"fill: #aec7e8\"/>\n   </g>\n   <g id=\"patch_10\">\n    <path d=\"M 100.275425 313.478125 \nL 101.559246 313.478125 \nL 101.559246 90.710129 \nL 100.275425 90.710129 \nz\n\" clip-path=\"url(#p1cbd40ffaf)\" style=\"fill: #aec7e8\"/>\n   </g>\n   <g id=\"patch_11\">\n    <path d=\"M 101.880201 313.478125 \nL 103.164023 313.478125 \nL 103.164023 78.416206 \nL 101.880201 78.416206 \nz\n\" clip-path=\"url(#p1cbd40ffaf)\" style=\"fill: #aec7e8\"/>\n   </g>\n   <g id=\"patch_12\">\n    <path d=\"M 103.484978 313.478125 \nL 104.768799 313.478125 \nL 104.768799 75.363831 \nL 103.484978 75.363831 \nz\n\" clip-path=\"url(#p1cbd40ffaf)\" style=\"fill: #aec7e8\"/>\n   </g>\n   <g id=\"patch_13\">\n    <path d=\"M 105.089754 313.478125 \nL 106.373576 313.478125 \nL 106.373576 57.086513 \nL 105.089754 57.086513 \nz\n\" clip-path=\"url(#p1cbd40ffaf)\" style=\"fill: #aec7e8\"/>\n   </g>\n   <g id=\"patch_14\">\n    <path d=\"M 106.694531 313.478125 \nL 107.978352 313.478125 \nL 107.978352 65.295213 \nL 106.694531 65.295213 \nz\n\" clip-path=\"url(#p1cbd40ffaf)\" style=\"fill: #aec7e8\"/>\n   </g>\n   <g id=\"patch_15\">\n    <path d=\"M 108.299308 313.478125 \nL 109.583129 313.478125 \nL 109.583129 94.589574 \nL 108.299308 94.589574 \nz\n\" clip-path=\"url(#p1cbd40ffaf)\" style=\"fill: #aec7e8\"/>\n   </g>\n   <g id=\"patch_16\">\n    <path d=\"M 109.904084 313.478125 \nL 111.187905 313.478125 \nL 111.187905 96.399366 \nL 109.904084 96.399366 \nz\n\" clip-path=\"url(#p1cbd40ffaf)\" style=\"fill: #aec7e8\"/>\n   </g>\n   <g id=\"patch_17\">\n    <path d=\"M 111.508861 313.478125 \nL 112.792682 313.478125 \nL 112.792682 84.230757 \nL 111.508861 84.230757 \nz\n\" clip-path=\"url(#p1cbd40ffaf)\" style=\"fill: #aec7e8\"/>\n   </g>\n   <g id=\"patch_18\">\n    <path d=\"M 113.113637 313.478125 \nL 114.397459 313.478125 \nL 114.397459 80.559728 \nL 113.113637 80.559728 \nz\n\" clip-path=\"url(#p1cbd40ffaf)\" style=\"fill: #aec7e8\"/>\n   </g>\n   <g id=\"patch_19\">\n    <path d=\"M 114.718414 313.478125 \nL 116.002235 313.478125 \nL 116.002235 80.659979 \nL 114.718414 80.659979 \nz\n\" clip-path=\"url(#p1cbd40ffaf)\" style=\"fill: #aec7e8\"/>\n   </g>\n   <g id=\"patch_20\">\n    <path d=\"M 116.32319 313.478125 \nL 117.607012 313.478125 \nL 117.607012 75.439019 \nL 116.32319 75.439019 \nz\n\" clip-path=\"url(#p1cbd40ffaf)\" style=\"fill: #aec7e8\"/>\n   </g>\n   <g id=\"patch_21\">\n    <path d=\"M 117.927967 313.478125 \nL 119.211788 313.478125 \nL 119.211788 85.106633 \nL 117.927967 85.106633 \nz\n\" clip-path=\"url(#p1cbd40ffaf)\" style=\"fill: #aec7e8\"/>\n   </g>\n   <g id=\"patch_22\">\n    <path d=\"M 119.532744 313.478125 \nL 120.816565 313.478125 \nL 120.816565 105.064471 \nL 119.532744 105.064471 \nz\n\" clip-path=\"url(#p1cbd40ffaf)\" style=\"fill: #aec7e8\"/>\n   </g>\n   <g id=\"patch_23\">\n    <path d=\"M 121.13752 313.478125 \nL 122.421341 313.478125 \nL 122.421341 106.107872 \nL 121.13752 106.107872 \nz\n\" clip-path=\"url(#p1cbd40ffaf)\" style=\"fill: #aec7e8\"/>\n   </g>\n   <g id=\"patch_24\">\n    <path d=\"M 122.742297 313.478125 \nL 124.026118 313.478125 \nL 124.026118 117.6697 \nL 122.742297 117.6697 \nz\n\" clip-path=\"url(#p1cbd40ffaf)\" style=\"fill: #aec7e8\"/>\n   </g>\n   <g id=\"patch_25\">\n    <path d=\"M 124.347073 313.478125 \nL 125.630895 313.478125 \nL 125.630895 105.473389 \nL 124.347073 105.473389 \nz\n\" clip-path=\"url(#p1cbd40ffaf)\" style=\"fill: #aec7e8\"/>\n   </g>\n   <g id=\"patch_26\">\n    <path d=\"M 125.95185 313.478125 \nL 127.235671 313.478125 \nL 127.235671 90.001777 \nL 125.95185 90.001777 \nz\n\" clip-path=\"url(#p1cbd40ffaf)\" style=\"fill: #aec7e8\"/>\n   </g>\n   <g id=\"patch_27\">\n    <path d=\"M 127.556627 313.478125 \nL 128.840448 313.478125 \nL 128.840448 89.495247 \nL 127.556627 89.495247 \nz\n\" clip-path=\"url(#p1cbd40ffaf)\" style=\"fill: #aec7e8\"/>\n   </g>\n   <g id=\"patch_28\">\n    <path d=\"M 129.161403 313.478125 \nL 130.445224 313.478125 \nL 130.445224 95.919217 \nL 129.161403 95.919217 \nz\n\" clip-path=\"url(#p1cbd40ffaf)\" style=\"fill: #aec7e8\"/>\n   </g>\n   <g id=\"patch_29\">\n    <path d=\"M 130.76618 313.478125 \nL 132.050001 313.478125 \nL 132.050001 109.140461 \nL 130.76618 109.140461 \nz\n\" clip-path=\"url(#p1cbd40ffaf)\" style=\"fill: #aec7e8\"/>\n   </g>\n   <g id=\"patch_30\">\n    <path d=\"M 132.370956 313.478125 \nL 133.654778 313.478125 \nL 133.654778 119.930621 \nL 132.370956 119.930621 \nz\n\" clip-path=\"url(#p1cbd40ffaf)\" style=\"fill: #aec7e8\"/>\n   </g>\n   <g id=\"patch_31\">\n    <path d=\"M 133.975733 313.478125 \nL 135.259554 313.478125 \nL 135.259554 112.752131 \nL 133.975733 112.752131 \nz\n\" clip-path=\"url(#p1cbd40ffaf)\" style=\"fill: #aec7e8\"/>\n   </g>\n   <g id=\"patch_32\">\n    <path d=\"M 135.580509 313.478125 \nL 136.864331 313.478125 \nL 136.864331 100.202084 \nL 135.580509 100.202084 \nz\n\" clip-path=\"url(#p1cbd40ffaf)\" style=\"fill: #aec7e8\"/>\n   </g>\n   <g id=\"patch_33\">\n    <path d=\"M 137.185286 313.478125 \nL 138.469107 313.478125 \nL 138.469107 78.45358 \nL 137.185286 78.45358 \nz\n\" clip-path=\"url(#p1cbd40ffaf)\" style=\"fill: #aec7e8\"/>\n   </g>\n   <g id=\"patch_34\">\n    <path d=\"M 138.790063 313.478125 \nL 140.073884 313.478125 \nL 140.073884 69.698117 \nL 138.790063 69.698117 \nz\n\" clip-path=\"url(#p1cbd40ffaf)\" style=\"fill: #ff7f0e\"/>\n   </g>\n   <g id=\"patch_35\">\n    <path d=\"M 140.394839 313.478125 \nL 141.67866 313.478125 \nL 141.67866 79.752884 \nL 140.394839 79.752884 \nz\n\" clip-path=\"url(#p1cbd40ffaf)\" style=\"fill: #ff7f0e\"/>\n   </g>\n   <g id=\"patch_36\">\n    <path d=\"M 141.999616 313.478125 \nL 143.283437 313.478125 \nL 143.283437 71.741608 \nL 141.999616 71.741608 \nz\n\" clip-path=\"url(#p1cbd40ffaf)\" style=\"fill: #ff7f0e\"/>\n   </g>\n   <g id=\"patch_37\">\n    <path d=\"M 143.604392 313.478125 \nL 144.888214 313.478125 \nL 144.888214 93.603334 \nL 143.604392 93.603334 \nz\n\" clip-path=\"url(#p1cbd40ffaf)\" style=\"fill: #ff7f0e\"/>\n   </g>\n   <g id=\"patch_38\">\n    <path d=\"M 145.209169 313.478125 \nL 146.49299 313.478125 \nL 146.49299 75.870361 \nL 145.209169 75.870361 \nz\n\" clip-path=\"url(#p1cbd40ffaf)\" style=\"fill: #ff7f0e\"/>\n   </g>\n   <g id=\"patch_39\">\n    <path d=\"M 146.813945 313.478125 \nL 148.097767 313.478125 \nL 148.097767 72.093366 \nL 146.813945 72.093366 \nz\n\" clip-path=\"url(#p1cbd40ffaf)\" style=\"fill: #ff7f0e\"/>\n   </g>\n   <g id=\"patch_40\">\n    <path d=\"M 148.418722 313.478125 \nL 149.702543 313.478125 \nL 149.702543 76.74206 \nL 148.418722 76.74206 \nz\n\" clip-path=\"url(#p1cbd40ffaf)\" style=\"fill: #ff7f0e\"/>\n   </g>\n   <g id=\"patch_41\">\n    <path d=\"M 150.023499 313.478125 \nL 151.30732 313.478125 \nL 151.30732 70.735802 \nL 150.023499 70.735802 \nz\n\" clip-path=\"url(#p1cbd40ffaf)\" style=\"fill: #ff7f0e\"/>\n   </g>\n   <g id=\"patch_42\">\n    <path d=\"M 151.628275 313.478125 \nL 152.912096 313.478125 \nL 152.912096 65.972786 \nL 151.628275 65.972786 \nz\n\" clip-path=\"url(#p1cbd40ffaf)\" style=\"fill: #ff7f0e\"/>\n   </g>\n   <g id=\"patch_43\">\n    <path d=\"M 153.233052 313.478125 \nL 154.516873 313.478125 \nL 154.516873 87.591579 \nL 153.233052 87.591579 \nz\n\" clip-path=\"url(#p1cbd40ffaf)\" style=\"fill: #ff7f0e\"/>\n   </g>\n   <g id=\"patch_44\">\n    <path d=\"M 154.837828 313.478125 \nL 156.12165 313.478125 \nL 156.12165 73.143142 \nL 154.837828 73.143142 \nz\n\" clip-path=\"url(#p1cbd40ffaf)\" style=\"fill: #ff7f0e\"/>\n   </g>\n   <g id=\"patch_45\">\n    <path d=\"M 156.442605 313.478125 \nL 157.726426 313.478125 \nL 157.726426 58.00548 \nL 156.442605 58.00548 \nz\n\" clip-path=\"url(#p1cbd40ffaf)\" style=\"fill: #ff7f0e\"/>\n   </g>\n   <g id=\"patch_46\">\n    <path d=\"M 158.047382 313.478125 \nL 159.331203 313.478125 \nL 159.331203 55.442047 \nL 158.047382 55.442047 \nz\n\" clip-path=\"url(#p1cbd40ffaf)\" style=\"fill: #ff7f0e\"/>\n   </g>\n   <g id=\"patch_47\">\n    <path d=\"M 159.652158 313.478125 \nL 160.935979 313.478125 \nL 160.935979 92.559054 \nL 159.652158 92.559054 \nz\n\" clip-path=\"url(#p1cbd40ffaf)\" style=\"fill: #ff7f0e\"/>\n   </g>\n   <g id=\"patch_48\">\n    <path d=\"M 161.256935 313.478125 \nL 162.540756 313.478125 \nL 162.540756 66.882958 \nL 161.256935 66.882958 \nz\n\" clip-path=\"url(#p1cbd40ffaf)\" style=\"fill: #ff7f0e\"/>\n   </g>\n   <g id=\"patch_49\">\n    <path d=\"M 162.861711 313.478125 \nL 164.145533 313.478125 \nL 164.145533 82.114056 \nL 162.861711 82.114056 \nz\n\" clip-path=\"url(#p1cbd40ffaf)\" style=\"fill: #ff7f0e\"/>\n   </g>\n   <g id=\"patch_50\">\n    <path d=\"M 164.466488 313.478125 \nL 165.750309 313.478125 \nL 165.750309 99.814052 \nL 164.466488 99.814052 \nz\n\" clip-path=\"url(#p1cbd40ffaf)\" style=\"fill: #ff7f0e\"/>\n   </g>\n   <g id=\"patch_51\">\n    <path d=\"M 166.071264 313.478125 \nL 167.355086 313.478125 \nL 167.355086 103.927415 \nL 166.071264 103.927415 \nz\n\" clip-path=\"url(#p1cbd40ffaf)\" style=\"fill: #ff7f0e\"/>\n   </g>\n   <g id=\"patch_52\">\n    <path d=\"M 167.676041 313.478125 \nL 168.959862 313.478125 \nL 168.959862 98.151998 \nL 167.676041 98.151998 \nz\n\" clip-path=\"url(#p1cbd40ffaf)\" style=\"fill: #ff7f0e\"/>\n   </g>\n   <g id=\"patch_53\">\n    <path d=\"M 169.280818 313.478125 \nL 170.564639 313.478125 \nL 170.564639 89.913179 \nL 169.280818 89.913179 \nz\n\" clip-path=\"url(#p1cbd40ffaf)\" style=\"fill: #ff7f0e\"/>\n   </g>\n   <g id=\"patch_54\">\n    <path d=\"M 170.885594 313.478125 \nL 172.169415 313.478125 \nL 172.169415 84.74784 \nL 170.885594 84.74784 \nz\n\" clip-path=\"url(#p1cbd40ffaf)\" style=\"fill: #ff7f0e\"/>\n   </g>\n   <g id=\"patch_55\">\n    <path d=\"M 172.490371 313.478125 \nL 173.774192 313.478125 \nL 173.774192 93.900129 \nL 172.490371 93.900129 \nz\n\" clip-path=\"url(#p1cbd40ffaf)\" style=\"fill: #ff7f0e\"/>\n   </g>\n   <g id=\"patch_56\">\n    <path d=\"M 174.095147 313.478125 \nL 175.378969 313.478125 \nL 175.378969 94.807004 \nL 174.095147 94.807004 \nz\n\" clip-path=\"url(#p1cbd40ffaf)\" style=\"fill: #ff7f0e\"/>\n   </g>\n   <g id=\"patch_57\">\n    <path d=\"M 175.699924 313.478125 \nL 176.983745 313.478125 \nL 176.983745 106.89317 \nL 175.699924 106.89317 \nz\n\" clip-path=\"url(#p1cbd40ffaf)\" style=\"fill: #ff7f0e\"/>\n   </g>\n   <g id=\"patch_58\">\n    <path d=\"M 177.304701 313.478125 \nL 178.588522 313.478125 \nL 178.588522 111.344001 \nL 177.304701 111.344001 \nz\n\" clip-path=\"url(#p1cbd40ffaf)\" style=\"fill: #ff7f0e\"/>\n   </g>\n   <g id=\"patch_59\">\n    <path d=\"M 178.909477 313.478125 \nL 180.193298 313.478125 \nL 180.193298 108.205665 \nL 178.909477 108.205665 \nz\n\" clip-path=\"url(#p1cbd40ffaf)\" style=\"fill: #ff7f0e\"/>\n   </g>\n   <g id=\"patch_60\">\n    <path d=\"M 180.514254 313.478125 \nL 181.798075 313.478125 \nL 181.798075 100.000923 \nL 180.514254 100.000923 \nz\n\" clip-path=\"url(#p1cbd40ffaf)\" style=\"fill: #ff7f0e\"/>\n   </g>\n   <g id=\"patch_61\">\n    <path d=\"M 182.11903 313.478125 \nL 183.402852 313.478125 \nL 183.402852 87.869688 \nL 182.11903 87.869688 \nz\n\" clip-path=\"url(#p1cbd40ffaf)\" style=\"fill: #ff7f0e\"/>\n   </g>\n   <g id=\"patch_62\">\n    <path d=\"M 183.723807 313.478125 \nL 185.007628 313.478125 \nL 185.007628 77.068535 \nL 183.723807 77.068535 \nz\n\" clip-path=\"url(#p1cbd40ffaf)\" style=\"fill: #ffbb78\"/>\n   </g>\n   <g id=\"patch_63\">\n    <path d=\"M 185.328583 313.478125 \nL 186.612405 313.478125 \nL 186.612405 70.808352 \nL 185.328583 70.808352 \nz\n\" clip-path=\"url(#p1cbd40ffaf)\" style=\"fill: #ffbb78\"/>\n   </g>\n   <g id=\"patch_64\">\n    <path d=\"M 186.93336 313.478125 \nL 188.217181 313.478125 \nL 188.217181 77.898463 \nL 186.93336 77.898463 \nz\n\" clip-path=\"url(#p1cbd40ffaf)\" style=\"fill: #ffbb78\"/>\n   </g>\n   <g id=\"patch_65\">\n    <path d=\"M 188.538137 313.478125 \nL 189.821958 313.478125 \nL 189.821958 89.225053 \nL 188.538137 89.225053 \nz\n\" clip-path=\"url(#p1cbd40ffaf)\" style=\"fill: #ffbb78\"/>\n   </g>\n   <g id=\"patch_66\">\n    <path d=\"M 190.142913 313.478125 \nL 191.426734 313.478125 \nL 191.426734 86.830904 \nL 190.142913 86.830904 \nz\n\" clip-path=\"url(#p1cbd40ffaf)\" style=\"fill: #ffbb78\"/>\n   </g>\n   <g id=\"patch_67\">\n    <path d=\"M 191.74769 313.478125 \nL 193.031511 313.478125 \nL 193.031511 71.064475 \nL 191.74769 71.064475 \nz\n\" clip-path=\"url(#p1cbd40ffaf)\" style=\"fill: #ffbb78\"/>\n   </g>\n   <g id=\"patch_68\">\n    <path d=\"M 193.352466 313.478125 \nL 194.636288 313.478125 \nL 194.636288 69.254024 \nL 193.352466 69.254024 \nz\n\" clip-path=\"url(#p1cbd40ffaf)\" style=\"fill: #ffbb78\"/>\n   </g>\n   <g id=\"patch_69\">\n    <path d=\"M 194.957243 313.478125 \nL 196.241064 313.478125 \nL 196.241064 74.85686 \nL 194.957243 74.85686 \nz\n\" clip-path=\"url(#p1cbd40ffaf)\" style=\"fill: #ffbb78\"/>\n   </g>\n   <g id=\"patch_70\">\n    <path d=\"M 196.562019 313.478125 \nL 197.845841 313.478125 \nL 197.845841 70.496167 \nL 196.562019 70.496167 \nz\n\" clip-path=\"url(#p1cbd40ffaf)\" style=\"fill: #ffbb78\"/>\n   </g>\n   <g id=\"patch_71\">\n    <path d=\"M 198.166796 313.478125 \nL 199.450617 313.478125 \nL 199.450617 85.725066 \nL 198.166796 85.725066 \nz\n\" clip-path=\"url(#p1cbd40ffaf)\" style=\"fill: #ffbb78\"/>\n   </g>\n   <g id=\"patch_72\">\n    <path d=\"M 199.771573 313.478125 \nL 201.055394 313.478125 \nL 201.055394 85.611844 \nL 199.771573 85.611844 \nz\n\" clip-path=\"url(#p1cbd40ffaf)\" style=\"fill: #ffbb78\"/>\n   </g>\n   <g id=\"patch_73\">\n    <path d=\"M 201.376349 313.478125 \nL 202.66017 313.478125 \nL 202.66017 75.108587 \nL 201.376349 75.108587 \nz\n\" clip-path=\"url(#p1cbd40ffaf)\" style=\"fill: #ffbb78\"/>\n   </g>\n   <g id=\"patch_74\">\n    <path d=\"M 202.981126 313.478125 \nL 204.264947 313.478125 \nL 204.264947 73.685068 \nL 202.981126 73.685068 \nz\n\" clip-path=\"url(#p1cbd40ffaf)\" style=\"fill: #ffbb78\"/>\n   </g>\n   <g id=\"patch_75\">\n    <path d=\"M 204.585902 313.478125 \nL 205.869724 313.478125 \nL 205.869724 71.600905 \nL 204.585902 71.600905 \nz\n\" clip-path=\"url(#p1cbd40ffaf)\" style=\"fill: #ffbb78\"/>\n   </g>\n   <g id=\"patch_76\">\n    <path d=\"M 206.190679 313.478125 \nL 207.4745 313.478125 \nL 207.4745 66.222314 \nL 206.190679 66.222314 \nz\n\" clip-path=\"url(#p1cbd40ffaf)\" style=\"fill: #ffbb78\"/>\n   </g>\n   <g id=\"patch_77\">\n    <path d=\"M 207.795456 313.478125 \nL 209.079277 313.478125 \nL 209.079277 73.670778 \nL 207.795456 73.670778 \nz\n\" clip-path=\"url(#p1cbd40ffaf)\" style=\"fill: #ffbb78\"/>\n   </g>\n   <g id=\"patch_78\">\n    <path d=\"M 209.400232 313.478125 \nL 210.684053 313.478125 \nL 210.684053 98.684031 \nL 209.400232 98.684031 \nz\n\" clip-path=\"url(#p1cbd40ffaf)\" style=\"fill: #ffbb78\"/>\n   </g>\n   <g id=\"patch_79\">\n    <path d=\"M 211.005009 313.478125 \nL 212.28883 313.478125 \nL 212.28883 106.628253 \nL 211.005009 106.628253 \nz\n\" clip-path=\"url(#p1cbd40ffaf)\" style=\"fill: #ffbb78\"/>\n   </g>\n   <g id=\"patch_80\">\n    <path d=\"M 212.609785 313.478125 \nL 213.893607 313.478125 \nL 213.893607 98.345464 \nL 212.609785 98.345464 \nz\n\" clip-path=\"url(#p1cbd40ffaf)\" style=\"fill: #ffbb78\"/>\n   </g>\n   <g id=\"patch_81\">\n    <path d=\"M 214.214562 313.478125 \nL 215.498383 313.478125 \nL 215.498383 97.724393 \nL 214.214562 97.724393 \nz\n\" clip-path=\"url(#p1cbd40ffaf)\" style=\"fill: #ffbb78\"/>\n   </g>\n   <g id=\"patch_82\">\n    <path d=\"M 215.819338 313.478125 \nL 217.10316 313.478125 \nL 217.10316 92.21719 \nL 215.819338 92.21719 \nz\n\" clip-path=\"url(#p1cbd40ffaf)\" style=\"fill: #ffbb78\"/>\n   </g>\n   <g id=\"patch_83\">\n    <path d=\"M 217.424115 313.478125 \nL 218.707936 313.478125 \nL 218.707936 90.659564 \nL 217.424115 90.659564 \nz\n\" clip-path=\"url(#p1cbd40ffaf)\" style=\"fill: #ffbb78\"/>\n   </g>\n   <g id=\"patch_84\">\n    <path d=\"M 219.028892 313.478125 \nL 220.312713 313.478125 \nL 220.312713 95.994186 \nL 219.028892 95.994186 \nz\n\" clip-path=\"url(#p1cbd40ffaf)\" style=\"fill: #ffbb78\"/>\n   </g>\n   <g id=\"patch_85\">\n    <path d=\"M 220.633668 313.478125 \nL 221.917489 313.478125 \nL 221.917489 113.402882 \nL 220.633668 113.402882 \nz\n\" clip-path=\"url(#p1cbd40ffaf)\" style=\"fill: #ffbb78\"/>\n   </g>\n   <g id=\"patch_86\">\n    <path d=\"M 222.238445 313.478125 \nL 223.522266 313.478125 \nL 223.522266 110.591021 \nL 222.238445 110.591021 \nz\n\" clip-path=\"url(#p1cbd40ffaf)\" style=\"fill: #ffbb78\"/>\n   </g>\n   <g id=\"patch_87\">\n    <path d=\"M 223.843221 313.478125 \nL 225.127043 313.478125 \nL 225.127043 95.144471 \nL 223.843221 95.144471 \nz\n\" clip-path=\"url(#p1cbd40ffaf)\" style=\"fill: #ffbb78\"/>\n   </g>\n   <g id=\"patch_88\">\n    <path d=\"M 225.447998 313.478125 \nL 226.731819 313.478125 \nL 226.731819 91.525767 \nL 225.447998 91.525767 \nz\n\" clip-path=\"url(#p1cbd40ffaf)\" style=\"fill: #ffbb78\"/>\n   </g>\n   <g id=\"patch_89\">\n    <path d=\"M 227.052774 313.478125 \nL 228.336596 313.478125 \nL 228.336596 97.410009 \nL 227.052774 97.410009 \nz\n\" clip-path=\"url(#p1cbd40ffaf)\" style=\"fill: #ffbb78\"/>\n   </g>\n   <g id=\"patch_90\">\n    <path d=\"M 228.657551 313.478125 \nL 229.941372 313.478125 \nL 229.941372 91.15862 \nL 228.657551 91.15862 \nz\n\" clip-path=\"url(#p1cbd40ffaf)\" style=\"fill: #ffbb78\"/>\n   </g>\n   <g id=\"patch_91\">\n    <path d=\"M 230.262328 313.478125 \nL 231.546149 313.478125 \nL 231.546149 95.686398 \nL 230.262328 95.686398 \nz\n\" clip-path=\"url(#p1cbd40ffaf)\" style=\"fill: #ffbb78\"/>\n   </g>\n   <g id=\"patch_92\">\n    <path d=\"M 231.867104 313.478125 \nL 233.150925 313.478125 \nL 233.150925 114.615346 \nL 231.867104 114.615346 \nz\n\" clip-path=\"url(#p1cbd40ffaf)\" style=\"fill: #ffbb78\"/>\n   </g>\n   <g id=\"patch_93\">\n    <path d=\"M 233.471881 313.478125 \nL 234.755702 313.478125 \nL 234.755702 88.416011 \nL 233.471881 88.416011 \nz\n\" clip-path=\"url(#p1cbd40ffaf)\" style=\"fill: #2ca02c\"/>\n   </g>\n   <g id=\"patch_94\">\n    <path d=\"M 235.076657 313.478125 \nL 236.360479 313.478125 \nL 236.360479 70.595099 \nL 235.076657 70.595099 \nz\n\" clip-path=\"url(#p1cbd40ffaf)\" style=\"fill: #2ca02c\"/>\n   </g>\n   <g id=\"patch_95\">\n    <path d=\"M 236.681434 313.478125 \nL 237.965255 313.478125 \nL 237.965255 56.920528 \nL 236.681434 56.920528 \nz\n\" clip-path=\"url(#p1cbd40ffaf)\" style=\"fill: #2ca02c\"/>\n   </g>\n   <g id=\"patch_96\">\n    <path d=\"M 238.286211 313.478125 \nL 239.570032 313.478125 \nL 239.570032 60.0061 \nL 238.286211 60.0061 \nz\n\" clip-path=\"url(#p1cbd40ffaf)\" style=\"fill: #2ca02c\"/>\n   </g>\n   <g id=\"patch_97\">\n    <path d=\"M 239.890987 313.478125 \nL 241.174808 313.478125 \nL 241.174808 72.980454 \nL 239.890987 72.980454 \nz\n\" clip-path=\"url(#p1cbd40ffaf)\" style=\"fill: #2ca02c\"/>\n   </g>\n   <g id=\"patch_98\">\n    <path d=\"M 241.495764 313.478125 \nL 242.779585 313.478125 \nL 242.779585 65.562769 \nL 241.495764 65.562769 \nz\n\" clip-path=\"url(#p1cbd40ffaf)\" style=\"fill: #2ca02c\"/>\n   </g>\n   <g id=\"patch_99\">\n    <path d=\"M 243.10054 313.478125 \nL 244.384362 313.478125 \nL 244.384362 75.460344 \nL 243.10054 75.460344 \nz\n\" clip-path=\"url(#p1cbd40ffaf)\" style=\"fill: #2ca02c\"/>\n   </g>\n   <g id=\"patch_100\">\n    <path d=\"M 244.705317 313.478125 \nL 245.989138 313.478125 \nL 245.989138 79.42531 \nL 244.705317 79.42531 \nz\n\" clip-path=\"url(#p1cbd40ffaf)\" style=\"fill: #2ca02c\"/>\n   </g>\n   <g id=\"patch_101\">\n    <path d=\"M 246.310093 313.478125 \nL 247.593915 313.478125 \nL 247.593915 77.61266 \nL 246.310093 77.61266 \nz\n\" clip-path=\"url(#p1cbd40ffaf)\" style=\"fill: #2ca02c\"/>\n   </g>\n   <g id=\"patch_102\">\n    <path d=\"M 247.91487 313.478125 \nL 249.198691 313.478125 \nL 249.198691 70.324685 \nL 247.91487 70.324685 \nz\n\" clip-path=\"url(#p1cbd40ffaf)\" style=\"fill: #2ca02c\"/>\n   </g>\n   <g id=\"patch_103\">\n    <path d=\"M 249.519647 313.478125 \nL 250.803468 313.478125 \nL 250.803468 67.371022 \nL 249.519647 67.371022 \nz\n\" clip-path=\"url(#p1cbd40ffaf)\" style=\"fill: #2ca02c\"/>\n   </g>\n   <g id=\"patch_104\">\n    <path d=\"M 251.124423 313.478125 \nL 252.408244 313.478125 \nL 252.408244 66.54769 \nL 251.124423 66.54769 \nz\n\" clip-path=\"url(#p1cbd40ffaf)\" style=\"fill: #2ca02c\"/>\n   </g>\n   <g id=\"patch_105\">\n    <path d=\"M 252.7292 313.478125 \nL 254.013021 313.478125 \nL 254.013021 78.822926 \nL 252.7292 78.822926 \nz\n\" clip-path=\"url(#p1cbd40ffaf)\" style=\"fill: #2ca02c\"/>\n   </g>\n   <g id=\"patch_106\">\n    <path d=\"M 254.333976 313.478125 \nL 255.617798 313.478125 \nL 255.617798 90.95526 \nL 254.333976 90.95526 \nz\n\" clip-path=\"url(#p1cbd40ffaf)\" style=\"fill: #2ca02c\"/>\n   </g>\n   <g id=\"patch_107\">\n    <path d=\"M 255.938753 313.478125 \nL 257.222574 313.478125 \nL 257.222574 86.215328 \nL 255.938753 86.215328 \nz\n\" clip-path=\"url(#p1cbd40ffaf)\" style=\"fill: #2ca02c\"/>\n   </g>\n   <g id=\"patch_108\">\n    <path d=\"M 257.543529 313.478125 \nL 258.827351 313.478125 \nL 258.827351 86.563788 \nL 257.543529 86.563788 \nz\n\" clip-path=\"url(#p1cbd40ffaf)\" style=\"fill: #2ca02c\"/>\n   </g>\n   <g id=\"patch_109\">\n    <path d=\"M 259.148306 313.478125 \nL 260.432127 313.478125 \nL 260.432127 92.653589 \nL 259.148306 92.653589 \nz\n\" clip-path=\"url(#p1cbd40ffaf)\" style=\"fill: #2ca02c\"/>\n   </g>\n   <g id=\"patch_110\">\n    <path d=\"M 260.753083 313.478125 \nL 262.036904 313.478125 \nL 262.036904 82.647189 \nL 260.753083 82.647189 \nz\n\" clip-path=\"url(#p1cbd40ffaf)\" style=\"fill: #2ca02c\"/>\n   </g>\n   <g id=\"patch_111\">\n    <path d=\"M 262.357859 313.478125 \nL 263.64168 313.478125 \nL 263.64168 85.672303 \nL 262.357859 85.672303 \nz\n\" clip-path=\"url(#p1cbd40ffaf)\" style=\"fill: #2ca02c\"/>\n   </g>\n   <g id=\"patch_112\">\n    <path d=\"M 263.962636 313.478125 \nL 265.246457 313.478125 \nL 265.246457 98.586198 \nL 263.962636 98.586198 \nz\n\" clip-path=\"url(#p1cbd40ffaf)\" style=\"fill: #2ca02c\"/>\n   </g>\n   <g id=\"patch_113\">\n    <path d=\"M 265.567412 313.478125 \nL 266.851234 313.478125 \nL 266.851234 110.076575 \nL 265.567412 110.076575 \nz\n\" clip-path=\"url(#p1cbd40ffaf)\" style=\"fill: #2ca02c\"/>\n   </g>\n   <g id=\"patch_114\">\n    <path d=\"M 267.172189 313.478125 \nL 268.45601 313.478125 \nL 268.45601 107.885786 \nL 267.172189 107.885786 \nz\n\" clip-path=\"url(#p1cbd40ffaf)\" style=\"fill: #2ca02c\"/>\n   </g>\n   <g id=\"patch_115\">\n    <path d=\"M 268.776966 313.478125 \nL 270.060787 313.478125 \nL 270.060787 99.114934 \nL 268.776966 99.114934 \nz\n\" clip-path=\"url(#p1cbd40ffaf)\" style=\"fill: #2ca02c\"/>\n   </g>\n   <g id=\"patch_116\">\n    <path d=\"M 270.381742 313.478125 \nL 271.665563 313.478125 \nL 271.665563 101.90481 \nL 270.381742 101.90481 \nz\n\" clip-path=\"url(#p1cbd40ffaf)\" style=\"fill: #2ca02c\"/>\n   </g>\n   <g id=\"patch_117\">\n    <path d=\"M 271.986519 313.478125 \nL 273.27034 313.478125 \nL 273.27034 94.56627 \nL 271.986519 94.56627 \nz\n\" clip-path=\"url(#p1cbd40ffaf)\" style=\"fill: #2ca02c\"/>\n   </g>\n   <g id=\"patch_118\">\n    <path d=\"M 273.591295 313.478125 \nL 274.875117 313.478125 \nL 274.875117 95.45116 \nL 273.591295 95.45116 \nz\n\" clip-path=\"url(#p1cbd40ffaf)\" style=\"fill: #2ca02c\"/>\n   </g>\n   <g id=\"patch_119\">\n    <path d=\"M 275.196072 313.478125 \nL 276.479893 313.478125 \nL 276.479893 104.447357 \nL 275.196072 104.447357 \nz\n\" clip-path=\"url(#p1cbd40ffaf)\" style=\"fill: #2ca02c\"/>\n   </g>\n   <g id=\"patch_120\">\n    <path d=\"M 276.800848 313.478125 \nL 278.08467 313.478125 \nL 278.08467 113.716166 \nL 276.800848 113.716166 \nz\n\" clip-path=\"url(#p1cbd40ffaf)\" style=\"fill: #2ca02c\"/>\n   </g>\n   <g id=\"patch_121\">\n    <path d=\"M 278.405625 313.478125 \nL 279.689446 313.478125 \nL 279.689446 116.613768 \nL 278.405625 116.613768 \nz\n\" clip-path=\"url(#p1cbd40ffaf)\" style=\"fill: #2ca02c\"/>\n   </g>\n   <g id=\"patch_122\">\n    <path d=\"M 280.010402 313.478125 \nL 281.294223 313.478125 \nL 281.294223 99.454599 \nL 280.010402 99.454599 \nz\n\" clip-path=\"url(#p1cbd40ffaf)\" style=\"fill: #2ca02c\"/>\n   </g>\n   <g id=\"patch_123\">\n    <path d=\"M 281.615178 313.478125 \nL 282.898999 313.478125 \nL 282.898999 79.314287 \nL 281.615178 79.314287 \nz\n\" clip-path=\"url(#p1cbd40ffaf)\" style=\"fill: #98df8a\"/>\n   </g>\n   <g id=\"patch_124\">\n    <path d=\"M 283.219955 313.478125 \nL 284.503776 313.478125 \nL 284.503776 67.354533 \nL 283.219955 67.354533 \nz\n\" clip-path=\"url(#p1cbd40ffaf)\" style=\"fill: #98df8a\"/>\n   </g>\n   <g id=\"patch_125\">\n    <path d=\"M 284.824731 313.478125 \nL 286.108553 313.478125 \nL 286.108553 61.648368 \nL 284.824731 61.648368 \nz\n\" clip-path=\"url(#p1cbd40ffaf)\" style=\"fill: #98df8a\"/>\n   </g>\n   <g id=\"patch_126\">\n    <path d=\"M 286.429508 313.478125 \nL 287.713329 313.478125 \nL 287.713329 69.277108 \nL 286.429508 69.277108 \nz\n\" clip-path=\"url(#p1cbd40ffaf)\" style=\"fill: #98df8a\"/>\n   </g>\n   <g id=\"patch_127\">\n    <path d=\"M 288.034284 313.478125 \nL 289.318106 313.478125 \nL 289.318106 85.02375 \nL 288.034284 85.02375 \nz\n\" clip-path=\"url(#p1cbd40ffaf)\" style=\"fill: #98df8a\"/>\n   </g>\n   <g id=\"patch_128\">\n    <path d=\"M 289.639061 313.478125 \nL 290.922882 313.478125 \nL 290.922882 84.038829 \nL 289.639061 84.038829 \nz\n\" clip-path=\"url(#p1cbd40ffaf)\" style=\"fill: #98df8a\"/>\n   </g>\n   <g id=\"patch_129\">\n    <path d=\"M 291.243838 313.478125 \nL 292.527659 313.478125 \nL 292.527659 81.663367 \nL 291.243838 81.663367 \nz\n\" clip-path=\"url(#p1cbd40ffaf)\" style=\"fill: #98df8a\"/>\n   </g>\n   <g id=\"patch_130\">\n    <path d=\"M 292.848614 313.478125 \nL 294.132435 313.478125 \nL 294.132435 80.446506 \nL 292.848614 80.446506 \nz\n\" clip-path=\"url(#p1cbd40ffaf)\" style=\"fill: #98df8a\"/>\n   </g>\n   <g id=\"patch_131\">\n    <path d=\"M 294.453391 313.478125 \nL 295.737212 313.478125 \nL 295.737212 74.243483 \nL 294.453391 74.243483 \nz\n\" clip-path=\"url(#p1cbd40ffaf)\" style=\"fill: #98df8a\"/>\n   </g>\n   <g id=\"patch_132\">\n    <path d=\"M 296.058167 313.478125 \nL 297.341989 313.478125 \nL 297.341989 79.114225 \nL 296.058167 79.114225 \nz\n\" clip-path=\"url(#p1cbd40ffaf)\" style=\"fill: #98df8a\"/>\n   </g>\n   <g id=\"patch_133\">\n    <path d=\"M 297.662944 313.478125 \nL 298.946765 313.478125 \nL 298.946765 82.126148 \nL 297.662944 82.126148 \nz\n\" clip-path=\"url(#p1cbd40ffaf)\" style=\"fill: #98df8a\"/>\n   </g>\n   <g id=\"patch_134\">\n    <path d=\"M 299.267721 313.478125 \nL 300.551542 313.478125 \nL 300.551542 85.033643 \nL 299.267721 85.033643 \nz\n\" clip-path=\"url(#p1cbd40ffaf)\" style=\"fill: #98df8a\"/>\n   </g>\n   <g id=\"patch_135\">\n    <path d=\"M 300.872497 313.478125 \nL 302.156318 313.478125 \nL 302.156318 83.55956 \nL 300.872497 83.55956 \nz\n\" clip-path=\"url(#p1cbd40ffaf)\" style=\"fill: #98df8a\"/>\n   </g>\n   <g id=\"patch_136\">\n    <path d=\"M 302.477274 313.478125 \nL 303.761095 313.478125 \nL 303.761095 88.865601 \nL 302.477274 88.865601 \nz\n\" clip-path=\"url(#p1cbd40ffaf)\" style=\"fill: #98df8a\"/>\n   </g>\n   <g id=\"patch_137\">\n    <path d=\"M 304.08205 313.478125 \nL 305.365872 313.478125 \nL 305.365872 68.228431 \nL 304.08205 68.228431 \nz\n\" clip-path=\"url(#p1cbd40ffaf)\" style=\"fill: #98df8a\"/>\n   </g>\n   <g id=\"patch_138\">\n    <path d=\"M 305.686827 313.478125 \nL 306.970648 313.478125 \nL 306.970648 66.419078 \nL 305.686827 66.419078 \nz\n\" clip-path=\"url(#p1cbd40ffaf)\" style=\"fill: #98df8a\"/>\n   </g>\n   <g id=\"patch_139\">\n    <path d=\"M 307.291603 313.478125 \nL 308.575425 313.478125 \nL 308.575425 82.806579 \nL 307.291603 82.806579 \nz\n\" clip-path=\"url(#p1cbd40ffaf)\" style=\"fill: #98df8a\"/>\n   </g>\n   <g id=\"patch_140\">\n    <path d=\"M 308.89638 313.478125 \nL 310.180201 313.478125 \nL 310.180201 90.314402 \nL 308.89638 90.314402 \nz\n\" clip-path=\"url(#p1cbd40ffaf)\" style=\"fill: #98df8a\"/>\n   </g>\n   <g id=\"patch_141\">\n    <path d=\"M 310.501157 313.478125 \nL 311.784978 313.478125 \nL 311.784978 100.501078 \nL 310.501157 100.501078 \nz\n\" clip-path=\"url(#p1cbd40ffaf)\" style=\"fill: #98df8a\"/>\n   </g>\n   <g id=\"patch_142\">\n    <path d=\"M 312.105933 313.478125 \nL 313.389754 313.478125 \nL 313.389754 103.225 \nL 312.105933 103.225 \nz\n\" clip-path=\"url(#p1cbd40ffaf)\" style=\"fill: #98df8a\"/>\n   </g>\n   <g id=\"patch_143\">\n    <path d=\"M 313.71071 313.478125 \nL 314.994531 313.478125 \nL 314.994531 94.56627 \nL 313.71071 94.56627 \nz\n\" clip-path=\"url(#p1cbd40ffaf)\" style=\"fill: #98df8a\"/>\n   </g>\n   <g id=\"patch_144\">\n    <path d=\"M 315.315486 313.478125 \nL 316.599308 313.478125 \nL 316.599308 91.258651 \nL 315.315486 91.258651 \nz\n\" clip-path=\"url(#p1cbd40ffaf)\" style=\"fill: #98df8a\"/>\n   </g>\n   <g id=\"patch_145\">\n    <path d=\"M 316.920263 313.478125 \nL 318.204084 313.478125 \nL 318.204084 85.829494 \nL 316.920263 85.829494 \nz\n\" clip-path=\"url(#p1cbd40ffaf)\" style=\"fill: #98df8a\"/>\n   </g>\n   <g id=\"patch_146\">\n    <path d=\"M 318.525039 313.478125 \nL 319.808861 313.478125 \nL 319.808861 106.751588 \nL 318.525039 106.751588 \nz\n\" clip-path=\"url(#p1cbd40ffaf)\" style=\"fill: #98df8a\"/>\n   </g>\n   <g id=\"patch_147\">\n    <path d=\"M 320.129816 313.478125 \nL 321.413637 313.478125 \nL 321.413637 102.494883 \nL 320.129816 102.494883 \nz\n\" clip-path=\"url(#p1cbd40ffaf)\" style=\"fill: #98df8a\"/>\n   </g>\n   <g id=\"patch_148\">\n    <path d=\"M 321.734593 313.478125 \nL 323.018414 313.478125 \nL 323.018414 110.781409 \nL 321.734593 110.781409 \nz\n\" clip-path=\"url(#p1cbd40ffaf)\" style=\"fill: #98df8a\"/>\n   </g>\n   <g id=\"patch_149\">\n    <path d=\"M 323.339369 313.478125 \nL 324.62319 313.478125 \nL 324.62319 109.01119 \nL 323.339369 109.01119 \nz\n\" clip-path=\"url(#p1cbd40ffaf)\" style=\"fill: #98df8a\"/>\n   </g>\n   <g id=\"patch_150\">\n    <path d=\"M 324.944146 313.478125 \nL 326.227967 313.478125 \nL 326.227967 119.567871 \nL 324.944146 119.567871 \nz\n\" clip-path=\"url(#p1cbd40ffaf)\" style=\"fill: #98df8a\"/>\n   </g>\n   <g id=\"patch_151\">\n    <path d=\"M 326.548922 313.478125 \nL 327.832744 313.478125 \nL 327.832744 122.952657 \nL 326.548922 122.952657 \nz\n\" clip-path=\"url(#p1cbd40ffaf)\" style=\"fill: #98df8a\"/>\n   </g>\n   <g id=\"patch_152\">\n    <path d=\"M 328.153699 313.478125 \nL 329.43752 313.478125 \nL 329.43752 110.38964 \nL 328.153699 110.38964 \nz\n\" clip-path=\"url(#p1cbd40ffaf)\" style=\"fill: #98df8a\"/>\n   </g>\n   <g id=\"patch_153\">\n    <path d=\"M 329.758476 313.478125 \nL 331.042297 313.478125 \nL 331.042297 93.26125 \nL 329.758476 93.26125 \nz\n\" clip-path=\"url(#p1cbd40ffaf)\" style=\"fill: #98df8a\"/>\n   </g>\n   <g id=\"patch_154\">\n    <path d=\"M 331.363252 313.478125 \nL 332.647073 313.478125 \nL 332.647073 75.991718 \nL 331.363252 75.991718 \nz\n\" clip-path=\"url(#p1cbd40ffaf)\" style=\"fill: #d62728\"/>\n   </g>\n   <g id=\"patch_155\">\n    <path d=\"M 332.968029 313.478125 \nL 334.25185 313.478125 \nL 334.25185 70.174529 \nL 332.968029 70.174529 \nz\n\" clip-path=\"url(#p1cbd40ffaf)\" style=\"fill: #d62728\"/>\n   </g>\n   <g id=\"patch_156\">\n    <path d=\"M 334.572805 313.478125 \nL 335.856627 313.478125 \nL 335.856627 66.391377 \nL 334.572805 66.391377 \nz\n\" clip-path=\"url(#p1cbd40ffaf)\" style=\"fill: #d62728\"/>\n   </g>\n   <g id=\"patch_157\">\n    <path d=\"M 336.177582 313.478125 \nL 337.461403 313.478125 \nL 337.461403 81.516069 \nL 336.177582 81.516069 \nz\n\" clip-path=\"url(#p1cbd40ffaf)\" style=\"fill: #d62728\"/>\n   </g>\n   <g id=\"patch_158\">\n    <path d=\"M 337.782358 313.478125 \nL 339.06618 313.478125 \nL 339.06618 80.852566 \nL 337.782358 80.852566 \nz\n\" clip-path=\"url(#p1cbd40ffaf)\" style=\"fill: #d62728\"/>\n   </g>\n   <g id=\"patch_159\">\n    <path d=\"M 339.387135 313.478125 \nL 340.670956 313.478125 \nL 340.670956 76.27796 \nL 339.387135 76.27796 \nz\n\" clip-path=\"url(#p1cbd40ffaf)\" style=\"fill: #d62728\"/>\n   </g>\n   <g id=\"patch_160\">\n    <path d=\"M 340.991912 313.478125 \nL 342.275733 313.478125 \nL 342.275733 64.102755 \nL 340.991912 64.102755 \nz\n\" clip-path=\"url(#p1cbd40ffaf)\" style=\"fill: #d62728\"/>\n   </g>\n   <g id=\"patch_161\">\n    <path d=\"M 342.596688 313.478125 \nL 343.880509 313.478125 \nL 343.880509 67.024541 \nL 342.596688 67.024541 \nz\n\" clip-path=\"url(#p1cbd40ffaf)\" style=\"fill: #d62728\"/>\n   </g>\n   <g id=\"patch_162\">\n    <path d=\"M 344.201465 313.478125 \nL 345.485286 313.478125 \nL 345.485286 67.748721 \nL 344.201465 67.748721 \nz\n\" clip-path=\"url(#p1cbd40ffaf)\" style=\"fill: #d62728\"/>\n   </g>\n   <g id=\"patch_163\">\n    <path d=\"M 345.806241 313.478125 \nL 347.090063 313.478125 \nL 347.090063 82.200677 \nL 345.806241 82.200677 \nz\n\" clip-path=\"url(#p1cbd40ffaf)\" style=\"fill: #d62728\"/>\n   </g>\n   <g id=\"patch_164\">\n    <path d=\"M 347.411018 313.478125 \nL 348.694839 313.478125 \nL 348.694839 76.387445 \nL 347.411018 76.387445 \nz\n\" clip-path=\"url(#p1cbd40ffaf)\" style=\"fill: #d62728\"/>\n   </g>\n   <g id=\"patch_165\">\n    <path d=\"M 349.015794 313.478125 \nL 350.299616 313.478125 \nL 350.299616 76.000951 \nL 349.015794 76.000951 \nz\n\" clip-path=\"url(#p1cbd40ffaf)\" style=\"fill: #d62728\"/>\n   </g>\n   <g id=\"patch_166\">\n    <path d=\"M 350.620571 313.478125 \nL 351.904392 313.478125 \nL 351.904392 78.385867 \nL 350.620571 78.385867 \nz\n\" clip-path=\"url(#p1cbd40ffaf)\" style=\"fill: #d62728\"/>\n   </g>\n   <g id=\"patch_167\">\n    <path d=\"M 352.225348 313.478125 \nL 353.509169 313.478125 \nL 353.509169 61.773242 \nL 352.225348 61.773242 \nz\n\" clip-path=\"url(#p1cbd40ffaf)\" style=\"fill: #d62728\"/>\n   </g>\n   <g id=\"patch_168\">\n    <path d=\"M 353.830124 313.478125 \nL 355.113945 313.478125 \nL 355.113945 55.697511 \nL 353.830124 55.697511 \nz\n\" clip-path=\"url(#p1cbd40ffaf)\" style=\"fill: #d62728\"/>\n   </g>\n   <g id=\"patch_169\">\n    <path d=\"M 355.434901 313.478125 \nL 356.718722 313.478125 \nL 356.718722 87.788344 \nL 355.434901 87.788344 \nz\n\" clip-path=\"url(#p1cbd40ffaf)\" style=\"fill: #d62728\"/>\n   </g>\n   <g id=\"patch_170\">\n    <path d=\"M 357.039677 313.478125 \nL 358.323499 313.478125 \nL 358.323499 91.491031 \nL 357.039677 91.491031 \nz\n\" clip-path=\"url(#p1cbd40ffaf)\" style=\"fill: #d62728\"/>\n   </g>\n   <g id=\"patch_171\">\n    <path d=\"M 358.644454 313.478125 \nL 359.928275 313.478125 \nL 359.928275 94.858669 \nL 358.644454 94.858669 \nz\n\" clip-path=\"url(#p1cbd40ffaf)\" style=\"fill: #d62728\"/>\n   </g>\n   <g id=\"patch_172\">\n    <path d=\"M 360.249231 313.478125 \nL 361.533052 313.478125 \nL 361.533052 99.488676 \nL 360.249231 99.488676 \nz\n\" clip-path=\"url(#p1cbd40ffaf)\" style=\"fill: #d62728\"/>\n   </g>\n   <g id=\"patch_173\">\n    <path d=\"M 361.854007 313.478125 \nL 363.137828 313.478125 \nL 363.137828 88.902975 \nL 361.854007 88.902975 \nz\n\" clip-path=\"url(#p1cbd40ffaf)\" style=\"fill: #d62728\"/>\n   </g>\n   <g id=\"patch_174\">\n    <path d=\"M 363.458784 313.478125 \nL 364.742605 313.478125 \nL 364.742605 84.201737 \nL 363.458784 84.201737 \nz\n\" clip-path=\"url(#p1cbd40ffaf)\" style=\"fill: #d62728\"/>\n   </g>\n   <g id=\"patch_175\">\n    <path d=\"M 365.06356 313.478125 \nL 366.347382 313.478125 \nL 366.347382 86.928297 \nL 365.06356 86.928297 \nz\n\" clip-path=\"url(#p1cbd40ffaf)\" style=\"fill: #d62728\"/>\n   </g>\n   <g id=\"patch_176\">\n    <path d=\"M 366.668337 313.478125 \nL 367.952158 313.478125 \nL 367.952158 90.867101 \nL 366.668337 90.867101 \nz\n\" clip-path=\"url(#p1cbd40ffaf)\" style=\"fill: #d62728\"/>\n   </g>\n   <g id=\"patch_177\">\n    <path d=\"M 368.273113 313.478125 \nL 369.556935 313.478125 \nL 369.556935 101.066308 \nL 368.273113 101.066308 \nz\n\" clip-path=\"url(#p1cbd40ffaf)\" style=\"fill: #d62728\"/>\n   </g>\n   <g id=\"patch_178\">\n    <path d=\"M 369.87789 313.478125 \nL 371.161711 313.478125 \nL 371.161711 102.699342 \nL 369.87789 102.699342 \nz\n\" clip-path=\"url(#p1cbd40ffaf)\" style=\"fill: #d62728\"/>\n   </g>\n   <g id=\"patch_179\">\n    <path d=\"M 371.482667 313.478125 \nL 372.766488 313.478125 \nL 372.766488 108.792221 \nL 371.482667 108.792221 \nz\n\" clip-path=\"url(#p1cbd40ffaf)\" style=\"fill: #d62728\"/>\n   </g>\n   <g id=\"patch_180\">\n    <path d=\"M 373.087443 313.478125 \nL 374.371264 313.478125 \nL 374.371264 102.738915 \nL 373.087443 102.738915 \nz\n\" clip-path=\"url(#p1cbd40ffaf)\" style=\"fill: #d62728\"/>\n   </g>\n   <g id=\"patch_181\">\n    <path d=\"M 374.69222 313.478125 \nL 375.976041 313.478125 \nL 375.976041 91.456734 \nL 374.69222 91.456734 \nz\n\" clip-path=\"url(#p1cbd40ffaf)\" style=\"fill: #d62728\"/>\n   </g>\n   <g id=\"patch_182\">\n    <path d=\"M 376.296996 313.478125 \nL 377.580818 313.478125 \nL 377.580818 91.075517 \nL 376.296996 91.075517 \nz\n\" clip-path=\"url(#p1cbd40ffaf)\" style=\"fill: #d62728\"/>\n   </g>\n   <g id=\"patch_183\">\n    <path d=\"M 377.901773 313.478125 \nL 379.185594 313.478125 \nL 379.185594 91.502902 \nL 377.901773 91.502902 \nz\n\" clip-path=\"url(#p1cbd40ffaf)\" style=\"fill: #d62728\"/>\n   </g>\n   <g id=\"patch_184\">\n    <path d=\"M 379.506549 313.478125 \nL 380.790371 313.478125 \nL 380.790371 67.917565 \nL 379.506549 67.917565 \nz\n\" clip-path=\"url(#p1cbd40ffaf)\" style=\"fill: #ff9896\"/>\n   </g>\n   <g id=\"patch_185\">\n    <path d=\"M 381.111326 313.478125 \nL 382.395147 313.478125 \nL 382.395147 61.986934 \nL 381.111326 61.986934 \nz\n\" clip-path=\"url(#p1cbd40ffaf)\" style=\"fill: #ff9896\"/>\n   </g>\n   <g id=\"patch_186\">\n    <path d=\"M 382.716103 313.478125 \nL 383.999924 313.478125 \nL 383.999924 36.182887 \nL 382.716103 36.182887 \nz\n\" clip-path=\"url(#p1cbd40ffaf)\" style=\"fill: #ff9896\"/>\n   </g>\n   <g id=\"patch_187\">\n    <path d=\"M 384.320879 313.478125 \nL 385.604701 313.478125 \nL 385.604701 82.056896 \nL 384.320879 82.056896 \nz\n\" clip-path=\"url(#p1cbd40ffaf)\" style=\"fill: #ff9896\"/>\n   </g>\n   <g id=\"patch_188\">\n    <path d=\"M 385.925656 313.478125 \nL 387.209477 313.478125 \nL 387.209477 70.273461 \nL 385.925656 70.273461 \nz\n\" clip-path=\"url(#p1cbd40ffaf)\" style=\"fill: #ff9896\"/>\n   </g>\n   <g id=\"patch_189\">\n    <path d=\"M 387.530432 313.478125 \nL 388.814254 313.478125 \nL 388.814254 63.02242 \nL 387.530432 63.02242 \nz\n\" clip-path=\"url(#p1cbd40ffaf)\" style=\"fill: #ff9896\"/>\n   </g>\n   <g id=\"patch_190\">\n    <path d=\"M 389.135209 313.478125 \nL 390.41903 313.478125 \nL 390.41903 67.689362 \nL 389.135209 67.689362 \nz\n\" clip-path=\"url(#p1cbd40ffaf)\" style=\"fill: #ff9896\"/>\n   </g>\n   <g id=\"patch_191\">\n    <path d=\"M 390.739986 313.478125 \nL 392.023807 313.478125 \nL 392.023807 77.272555 \nL 390.739986 77.272555 \nz\n\" clip-path=\"url(#p1cbd40ffaf)\" style=\"fill: #ff9896\"/>\n   </g>\n   <g id=\"patch_192\">\n    <path d=\"M 392.344762 313.478125 \nL 393.628583 313.478125 \nL 393.628583 65.706769 \nL 392.344762 65.706769 \nz\n\" clip-path=\"url(#p1cbd40ffaf)\" style=\"fill: #ff9896\"/>\n   </g>\n   <g id=\"patch_193\">\n    <path d=\"M 393.949539 313.478125 \nL 395.23336 313.478125 \nL 395.23336 80.04924 \nL 393.949539 80.04924 \nz\n\" clip-path=\"url(#p1cbd40ffaf)\" style=\"fill: #ff9896\"/>\n   </g>\n   <g id=\"patch_194\">\n    <path d=\"M 395.554315 313.478125 \nL 396.838137 313.478125 \nL 396.838137 71.823392 \nL 395.554315 71.823392 \nz\n\" clip-path=\"url(#p1cbd40ffaf)\" style=\"fill: #ff9896\"/>\n   </g>\n   <g id=\"patch_195\">\n    <path d=\"M 397.159092 313.478125 \nL 398.442913 313.478125 \nL 398.442913 54.576284 \nL 397.159092 54.576284 \nz\n\" clip-path=\"url(#p1cbd40ffaf)\" style=\"fill: #ff9896\"/>\n   </g>\n   <g id=\"patch_196\">\n    <path d=\"M 398.763868 313.478125 \nL 400.04769 313.478125 \nL 400.04769 70.185082 \nL 398.763868 70.185082 \nz\n\" clip-path=\"url(#p1cbd40ffaf)\" style=\"fill: #ff9896\"/>\n   </g>\n   <g id=\"patch_197\">\n    <path d=\"M 400.368645 313.478125 \nL 401.652466 313.478125 \nL 401.652466 76.288513 \nL 400.368645 76.288513 \nz\n\" clip-path=\"url(#p1cbd40ffaf)\" style=\"fill: #ff9896\"/>\n   </g>\n   <g id=\"patch_198\">\n    <path d=\"M 401.973422 313.478125 \nL 403.257243 313.478125 \nL 403.257243 74.418043 \nL 401.973422 74.418043 \nz\n\" clip-path=\"url(#p1cbd40ffaf)\" style=\"fill: #ff9896\"/>\n   </g>\n   <g id=\"patch_199\">\n    <path d=\"M 403.578198 313.478125 \nL 404.862019 313.478125 \nL 404.862019 77.382039 \nL 403.578198 77.382039 \nz\n\" clip-path=\"url(#p1cbd40ffaf)\" style=\"fill: #ff9896\"/>\n   </g>\n   <g id=\"patch_200\">\n    <path d=\"M 405.182975 313.478125 \nL 406.466796 313.478125 \nL 406.466796 89.103477 \nL 405.182975 89.103477 \nz\n\" clip-path=\"url(#p1cbd40ffaf)\" style=\"fill: #ff9896\"/>\n   </g>\n   <g id=\"patch_201\">\n    <path d=\"M 406.787751 313.478125 \nL 408.071573 313.478125 \nL 408.071573 87.798896 \nL 406.787751 87.798896 \nz\n\" clip-path=\"url(#p1cbd40ffaf)\" style=\"fill: #ff9896\"/>\n   </g>\n   <g id=\"patch_202\">\n    <path d=\"M 408.392528 313.478125 \nL 409.676349 313.478125 \nL 409.676349 79.596792 \nL 408.392528 79.596792 \nz\n\" clip-path=\"url(#p1cbd40ffaf)\" style=\"fill: #ff9896\"/>\n   </g>\n   <g id=\"patch_203\">\n    <path d=\"M 409.997305 313.478125 \nL 411.281126 313.478125 \nL 411.281126 82.486919 \nL 409.997305 82.486919 \nz\n\" clip-path=\"url(#p1cbd40ffaf)\" style=\"fill: #ff9896\"/>\n   </g>\n   <g id=\"patch_204\">\n    <path d=\"M 411.602081 313.478125 \nL 412.885902 313.478125 \nL 412.885902 92.124194 \nL 411.602081 92.124194 \nz\n\" clip-path=\"url(#p1cbd40ffaf)\" style=\"fill: #ff9896\"/>\n   </g>\n   <g id=\"patch_205\">\n    <path d=\"M 413.206858 313.478125 \nL 414.490679 313.478125 \nL 414.490679 98.478253 \nL 413.206858 98.478253 \nz\n\" clip-path=\"url(#p1cbd40ffaf)\" style=\"fill: #ff9896\"/>\n   </g>\n   <g id=\"patch_206\">\n    <path d=\"M 414.811634 313.478125 \nL 416.095456 313.478125 \nL 416.095456 93.620043 \nL 414.811634 93.620043 \nz\n\" clip-path=\"url(#p1cbd40ffaf)\" style=\"fill: #ff9896\"/>\n   </g>\n   <g id=\"patch_207\">\n    <path d=\"M 416.416411 313.478125 \nL 417.700232 313.478125 \nL 417.700232 102.2957 \nL 416.416411 102.2957 \nz\n\" clip-path=\"url(#p1cbd40ffaf)\" style=\"fill: #ff9896\"/>\n   </g>\n   <g id=\"patch_208\">\n    <path d=\"M 418.021187 313.478125 \nL 419.305009 313.478125 \nL 419.305009 101.550414 \nL 418.021187 101.550414 \nz\n\" clip-path=\"url(#p1cbd40ffaf)\" style=\"fill: #ff9896\"/>\n   </g>\n   <g id=\"patch_209\">\n    <path d=\"M 419.625964 313.478125 \nL 420.909785 313.478125 \nL 420.909785 89.770937 \nL 419.625964 89.770937 \nz\n\" clip-path=\"url(#p1cbd40ffaf)\" style=\"fill: #ff9896\"/>\n   </g>\n   <g id=\"patch_210\">\n    <path d=\"M 421.230741 313.478125 \nL 422.514562 313.478125 \nL 422.514562 90.480607 \nL 421.230741 90.480607 \nz\n\" clip-path=\"url(#p1cbd40ffaf)\" style=\"fill: #ff9896\"/>\n   </g>\n   <g id=\"patch_211\">\n    <path d=\"M 422.835517 313.478125 \nL 424.119338 313.478125 \nL 424.119338 103.544879 \nL 422.835517 103.544879 \nz\n\" clip-path=\"url(#p1cbd40ffaf)\" style=\"fill: #ff9896\"/>\n   </g>\n   <g id=\"patch_212\">\n    <path d=\"M 424.440294 313.478125 \nL 425.724115 313.478125 \nL 425.724115 111.405339 \nL 424.440294 111.405339 \nz\n\" clip-path=\"url(#p1cbd40ffaf)\" style=\"fill: #ff9896\"/>\n   </g>\n   <g id=\"patch_213\">\n    <path d=\"M 426.04507 313.478125 \nL 427.328892 313.478125 \nL 427.328892 103.501349 \nL 426.04507 103.501349 \nz\n\" clip-path=\"url(#p1cbd40ffaf)\" style=\"fill: #ff9896\"/>\n   </g>\n   <g id=\"patch_214\">\n    <path d=\"M 427.649847 313.478125 \nL 428.933668 313.478125 \nL 428.933668 99.544078 \nL 427.649847 99.544078 \nz\n\" clip-path=\"url(#p1cbd40ffaf)\" style=\"fill: #ff9896\"/>\n   </g>\n   <g id=\"patch_215\">\n    <path d=\"M 429.254623 313.478125 \nL 430.538445 313.478125 \nL 430.538445 68.488731 \nL 429.254623 68.488731 \nz\n\" clip-path=\"url(#p1cbd40ffaf)\" style=\"fill: #9467bd\"/>\n   </g>\n   <g id=\"patch_216\">\n    <path d=\"M 430.8594 313.478125 \nL 432.143221 313.478125 \nL 432.143221 50.108525 \nL 430.8594 50.108525 \nz\n\" clip-path=\"url(#p1cbd40ffaf)\" style=\"fill: #9467bd\"/>\n   </g>\n   <g id=\"patch_217\">\n    <path d=\"M 432.464177 313.478125 \nL 433.747998 313.478125 \nL 433.747998 46.453325 \nL 432.464177 46.453325 \nz\n\" clip-path=\"url(#p1cbd40ffaf)\" style=\"fill: #9467bd\"/>\n   </g>\n   <g id=\"patch_218\">\n    <path d=\"M 434.068953 313.478125 \nL 435.352774 313.478125 \nL 435.352774 74.564462 \nL 434.068953 74.564462 \nz\n\" clip-path=\"url(#p1cbd40ffaf)\" style=\"fill: #9467bd\"/>\n   </g>\n   <g id=\"patch_219\">\n    <path d=\"M 435.67373 313.478125 \nL 436.957551 313.478125 \nL 436.957551 74.01572 \nL 435.67373 74.01572 \nz\n\" clip-path=\"url(#p1cbd40ffaf)\" style=\"fill: #9467bd\"/>\n   </g>\n   <g id=\"patch_220\">\n    <path d=\"M 437.278506 313.478125 \nL 438.562328 313.478125 \nL 438.562328 70.756248 \nL 437.278506 70.756248 \nz\n\" clip-path=\"url(#p1cbd40ffaf)\" style=\"fill: #9467bd\"/>\n   </g>\n   <g id=\"patch_221\">\n    <path d=\"M 438.883283 313.478125 \nL 440.167104 313.478125 \nL 440.167104 77.594413 \nL 438.883283 77.594413 \nz\n\" clip-path=\"url(#p1cbd40ffaf)\" style=\"fill: #9467bd\"/>\n   </g>\n   <g id=\"patch_222\">\n    <path d=\"M 440.48806 313.478125 \nL 441.771881 313.478125 \nL 441.771881 75.094736 \nL 440.48806 75.094736 \nz\n\" clip-path=\"url(#p1cbd40ffaf)\" style=\"fill: #9467bd\"/>\n   </g>\n   <g id=\"patch_223\">\n    <path d=\"M 442.092836 313.478125 \nL 443.376657 313.478125 \nL 443.376657 54.366549 \nL 442.092836 54.366549 \nz\n\" clip-path=\"url(#p1cbd40ffaf)\" style=\"fill: #9467bd\"/>\n   </g>\n   <g id=\"patch_224\">\n    <path d=\"M 443.697613 313.478125 \nL 444.981434 313.478125 \nL 444.981434 68.033645 \nL 443.697613 68.033645 \nz\n\" clip-path=\"url(#p1cbd40ffaf)\" style=\"fill: #9467bd\"/>\n   </g>\n   <g id=\"patch_225\">\n    <path d=\"M 445.302389 313.478125 \nL 446.586211 313.478125 \nL 446.586211 74.374513 \nL 445.302389 74.374513 \nz\n\" clip-path=\"url(#p1cbd40ffaf)\" style=\"fill: #9467bd\"/>\n   </g>\n   <g id=\"patch_226\">\n    <path d=\"M 446.907166 313.478125 \nL 448.190987 313.478125 \nL 448.190987 68.917436 \nL 446.907166 68.917436 \nz\n\" clip-path=\"url(#p1cbd40ffaf)\" style=\"fill: #9467bd\"/>\n   </g>\n   <g id=\"patch_227\">\n    <path d=\"M 448.511942 313.478125 \nL 449.795764 313.478125 \nL 449.795764 70.212782 \nL 448.511942 70.212782 \nz\n\" clip-path=\"url(#p1cbd40ffaf)\" style=\"fill: #9467bd\"/>\n   </g>\n   <g id=\"patch_228\">\n    <path d=\"M 450.116719 313.478125 \nL 451.40054 313.478125 \nL 451.40054 77.401825 \nL 450.116719 77.401825 \nz\n\" clip-path=\"url(#p1cbd40ffaf)\" style=\"fill: #9467bd\"/>\n   </g>\n   <g id=\"patch_229\">\n    <path d=\"M 451.721496 313.478125 \nL 453.005317 313.478125 \nL 453.005317 66.597156 \nL 451.721496 66.597156 \nz\n\" clip-path=\"url(#p1cbd40ffaf)\" style=\"fill: #9467bd\"/>\n   </g>\n   <g id=\"patch_230\">\n    <path d=\"M 453.326272 313.478125 \nL 454.610093 313.478125 \nL 454.610093 57.72891 \nL 453.326272 57.72891 \nz\n\" clip-path=\"url(#p1cbd40ffaf)\" style=\"fill: #9467bd\"/>\n   </g>\n   <g id=\"patch_231\">\n    <path d=\"M 454.931049 313.478125 \nL 456.21487 313.478125 \nL 456.21487 65.090754 \nL 454.931049 65.090754 \nz\n\" clip-path=\"url(#p1cbd40ffaf)\" style=\"fill: #9467bd\"/>\n   </g>\n   <g id=\"patch_232\">\n    <path d=\"M 456.535825 313.478125 \nL 457.819647 313.478125 \nL 457.819647 83.493385 \nL 456.535825 83.493385 \nz\n\" clip-path=\"url(#p1cbd40ffaf)\" style=\"fill: #9467bd\"/>\n   </g>\n   <g id=\"patch_233\">\n    <path d=\"M 458.140602 313.478125 \nL 459.424423 313.478125 \nL 459.424423 89.987267 \nL 458.140602 89.987267 \nz\n\" clip-path=\"url(#p1cbd40ffaf)\" style=\"fill: #9467bd\"/>\n   </g>\n   <g id=\"patch_234\">\n    <path d=\"M 459.745378 313.478125 \nL 461.0292 313.478125 \nL 461.0292 87.109012 \nL 459.745378 87.109012 \nz\n\" clip-path=\"url(#p1cbd40ffaf)\" style=\"fill: #9467bd\"/>\n   </g>\n   <g id=\"patch_235\">\n    <path d=\"M 461.350155 313.478125 \nL 462.633976 313.478125 \nL 462.633976 91.372312 \nL 461.350155 91.372312 \nz\n\" clip-path=\"url(#p1cbd40ffaf)\" style=\"fill: #9467bd\"/>\n   </g>\n   <g id=\"patch_236\">\n    <path d=\"M 462.954932 313.478125 \nL 464.238753 313.478125 \nL 464.238753 89.86723 \nL 462.954932 89.86723 \nz\n\" clip-path=\"url(#p1cbd40ffaf)\" style=\"fill: #9467bd\"/>\n   </g>\n   <g id=\"patch_237\">\n    <path d=\"M 464.559708 313.478125 \nL 465.843529 313.478125 \nL 465.843529 74.826961 \nL 464.559708 74.826961 \nz\n\" clip-path=\"url(#p1cbd40ffaf)\" style=\"fill: #9467bd\"/>\n   </g>\n   <g id=\"patch_238\">\n    <path d=\"M 466.164485 313.478125 \nL 467.448306 313.478125 \nL 467.448306 78.866016 \nL 466.164485 78.866016 \nz\n\" clip-path=\"url(#p1cbd40ffaf)\" style=\"fill: #9467bd\"/>\n   </g>\n   <g id=\"patch_239\">\n    <path d=\"M 467.769261 313.478125 \nL 469.053083 313.478125 \nL 469.053083 90.555795 \nL 467.769261 90.555795 \nz\n\" clip-path=\"url(#p1cbd40ffaf)\" style=\"fill: #9467bd\"/>\n   </g>\n   <g id=\"patch_240\">\n    <path d=\"M 469.374038 313.478125 \nL 470.657859 313.478125 \nL 470.657859 100.04797 \nL 469.374038 100.04797 \nz\n\" clip-path=\"url(#p1cbd40ffaf)\" style=\"fill: #9467bd\"/>\n   </g>\n   <g id=\"patch_241\">\n    <path d=\"M 470.978815 313.478125 \nL 472.262636 313.478125 \nL 472.262636 94.576383 \nL 470.978815 94.576383 \nz\n\" clip-path=\"url(#p1cbd40ffaf)\" style=\"fill: #9467bd\"/>\n   </g>\n   <g id=\"patch_242\">\n    <path d=\"M 472.583591 313.478125 \nL 473.867412 313.478125 \nL 473.867412 102.002862 \nL 472.583591 102.002862 \nz\n\" clip-path=\"url(#p1cbd40ffaf)\" style=\"fill: #9467bd\"/>\n   </g>\n   <g id=\"patch_243\">\n    <path d=\"M 474.188368 313.478125 \nL 475.472189 313.478125 \nL 475.472189 95.569658 \nL 474.188368 95.569658 \nz\n\" clip-path=\"url(#p1cbd40ffaf)\" style=\"fill: #9467bd\"/>\n   </g>\n   <g id=\"patch_244\">\n    <path d=\"M 475.793144 313.478125 \nL 477.076966 313.478125 \nL 477.076966 74.952274 \nL 475.793144 74.952274 \nz\n\" clip-path=\"url(#p1cbd40ffaf)\" style=\"fill: #9467bd\"/>\n   </g>\n   <g id=\"patch_245\">\n    <path d=\"M 477.397921 313.478125 \nL 478.681742 313.478125 \nL 478.681742 85.152801 \nL 477.397921 85.152801 \nz\n\" clip-path=\"url(#p1cbd40ffaf)\" style=\"fill: #9467bd\"/>\n   </g>\n   <g id=\"patch_246\">\n    <path d=\"M 479.002697 313.478125 \nL 480.286519 313.478125 \nL 480.286519 63.717581 \nL 479.002697 63.717581 \nz\n\" clip-path=\"url(#p1cbd40ffaf)\" style=\"fill: #c5b0d5\"/>\n   </g>\n   <g id=\"patch_247\">\n    <path d=\"M 480.607474 313.478125 \nL 481.891295 313.478125 \nL 481.891295 60.477895 \nL 480.607474 60.477895 \nz\n\" clip-path=\"url(#p1cbd40ffaf)\" style=\"fill: #c5b0d5\"/>\n   </g>\n   <g id=\"patch_248\">\n    <path d=\"M 482.212251 313.478125 \nL 483.496072 313.478125 \nL 483.496072 60.653334 \nL 482.212251 60.653334 \nz\n\" clip-path=\"url(#p1cbd40ffaf)\" style=\"fill: #c5b0d5\"/>\n   </g>\n   <g id=\"patch_249\">\n    <path d=\"M 483.817027 313.478125 \nL 485.100848 313.478125 \nL 485.100848 81.936858 \nL 483.817027 81.936858 \nz\n\" clip-path=\"url(#p1cbd40ffaf)\" style=\"fill: #c5b0d5\"/>\n   </g>\n   <g id=\"patch_250\">\n    <path d=\"M 485.421804 313.478125 \nL 486.705625 313.478125 \nL 486.705625 74.834875 \nL 485.421804 74.834875 \nz\n\" clip-path=\"url(#p1cbd40ffaf)\" style=\"fill: #c5b0d5\"/>\n   </g>\n   <g id=\"patch_251\">\n    <path d=\"M 487.02658 313.478125 \nL 488.310402 313.478125 \nL 488.310402 65.572222 \nL 487.02658 65.572222 \nz\n\" clip-path=\"url(#p1cbd40ffaf)\" style=\"fill: #c5b0d5\"/>\n   </g>\n   <g id=\"patch_252\">\n    <path d=\"M 488.631357 313.478125 \nL 489.915178 313.478125 \nL 489.915178 54.494501 \nL 488.631357 54.494501 \nz\n\" clip-path=\"url(#p1cbd40ffaf)\" style=\"fill: #c5b0d5\"/>\n   </g>\n   <g id=\"patch_253\">\n    <path d=\"M 490.236133 313.478125 \nL 491.519955 313.478125 \nL 491.519955 72.992106 \nL 490.236133 72.992106 \nz\n\" clip-path=\"url(#p1cbd40ffaf)\" style=\"fill: #c5b0d5\"/>\n   </g>\n   <g id=\"patch_254\">\n    <path d=\"M 491.84091 313.478125 \nL 493.124731 313.478125 \nL 493.124731 71.427665 \nL 491.84091 71.427665 \nz\n\" clip-path=\"url(#p1cbd40ffaf)\" style=\"fill: #c5b0d5\"/>\n   </g>\n   <g id=\"patch_255\">\n    <path d=\"M 493.445687 313.478125 \nL 494.729508 313.478125 \nL 494.729508 73.631865 \nL 493.445687 73.631865 \nz\n\" clip-path=\"url(#p1cbd40ffaf)\" style=\"fill: #c5b0d5\"/>\n   </g>\n   <g id=\"patch_256\">\n    <path d=\"M 495.050463 313.478125 \nL 496.334284 313.478125 \nL 496.334284 77.934738 \nL 495.050463 77.934738 \nz\n\" clip-path=\"url(#p1cbd40ffaf)\" style=\"fill: #c5b0d5\"/>\n   </g>\n   <g id=\"patch_257\">\n    <path d=\"M 496.65524 313.478125 \nL 497.939061 313.478125 \nL 497.939061 71.112402 \nL 496.65524 71.112402 \nz\n\" clip-path=\"url(#p1cbd40ffaf)\" style=\"fill: #c5b0d5\"/>\n   </g>\n   <g id=\"patch_258\">\n    <path d=\"M 498.260016 313.478125 \nL 499.543838 313.478125 \nL 499.543838 55.526029 \nL 498.260016 55.526029 \nz\n\" clip-path=\"url(#p1cbd40ffaf)\" style=\"fill: #c5b0d5\"/>\n   </g>\n   <g id=\"patch_259\">\n    <path d=\"M 499.864793 313.478125 \nL 501.148614 313.478125 \nL 501.148614 67.294954 \nL 499.864793 67.294954 \nz\n\" clip-path=\"url(#p1cbd40ffaf)\" style=\"fill: #c5b0d5\"/>\n   </g>\n   <g id=\"patch_260\">\n    <path d=\"M 501.46957 313.478125 \nL 502.753391 313.478125 \nL 502.753391 65.942887 \nL 501.46957 65.942887 \nz\n\" clip-path=\"url(#p1cbd40ffaf)\" style=\"fill: #c5b0d5\"/>\n   </g>\n   <g id=\"patch_261\">\n    <path d=\"M 503.074346 313.478125 \nL 504.358167 313.478125 \nL 504.358167 83.496023 \nL 503.074346 83.496023 \nz\n\" clip-path=\"url(#p1cbd40ffaf)\" style=\"fill: #c5b0d5\"/>\n   </g>\n   <g id=\"patch_262\">\n    <path d=\"M 504.679123 313.478125 \nL 505.962944 313.478125 \nL 505.962944 85.432448 \nL 504.679123 85.432448 \nz\n\" clip-path=\"url(#p1cbd40ffaf)\" style=\"fill: #c5b0d5\"/>\n   </g>\n   <g id=\"patch_263\">\n    <path d=\"M 506.283899 313.478125 \nL 507.567721 313.478125 \nL 507.567721 98.829131 \nL 506.283899 98.829131 \nz\n\" clip-path=\"url(#p1cbd40ffaf)\" style=\"fill: #c5b0d5\"/>\n   </g>\n   <g id=\"patch_264\">\n    <path d=\"M 507.888676 313.478125 \nL 509.172497 313.478125 \nL 509.172497 92.428904 \nL 507.888676 92.428904 \nz\n\" clip-path=\"url(#p1cbd40ffaf)\" style=\"fill: #c5b0d5\"/>\n   </g>\n   <g id=\"patch_265\">\n    <path d=\"M 509.493452 313.478125 \nL 510.777274 313.478125 \nL 510.777274 77.318723 \nL 509.493452 77.318723 \nz\n\" clip-path=\"url(#p1cbd40ffaf)\" style=\"fill: #c5b0d5\"/>\n   </g>\n   <g id=\"patch_266\">\n    <path d=\"M 511.098229 313.478125 \nL 512.38205 313.478125 \nL 512.38205 80.129704 \nL 511.098229 80.129704 \nz\n\" clip-path=\"url(#p1cbd40ffaf)\" style=\"fill: #c5b0d5\"/>\n   </g>\n   <g id=\"patch_267\">\n    <path d=\"M 512.703006 313.478125 \nL 513.986827 313.478125 \nL 513.986827 93.544854 \nL 512.703006 93.544854 \nz\n\" clip-path=\"url(#p1cbd40ffaf)\" style=\"fill: #c5b0d5\"/>\n   </g>\n   <g id=\"patch_268\">\n    <path d=\"M 514.307782 313.478125 \nL 515.591603 313.478125 \nL 515.591603 96.770031 \nL 514.307782 96.770031 \nz\n\" clip-path=\"url(#p1cbd40ffaf)\" style=\"fill: #c5b0d5\"/>\n   </g>\n   <g id=\"patch_269\">\n    <path d=\"M 515.912559 313.478125 \nL 517.19638 313.478125 \nL 517.19638 93.374692 \nL 515.912559 93.374692 \nz\n\" clip-path=\"url(#p1cbd40ffaf)\" style=\"fill: #c5b0d5\"/>\n   </g>\n   <g id=\"patch_270\">\n    <path d=\"M 517.517335 313.478125 \nL 518.801157 313.478125 \nL 518.801157 101.692876 \nL 517.517335 101.692876 \nz\n\" clip-path=\"url(#p1cbd40ffaf)\" style=\"fill: #c5b0d5\"/>\n   </g>\n   <g id=\"patch_271\">\n    <path d=\"M 519.122112 313.478125 \nL 520.405933 313.478125 \nL 520.405933 99.152308 \nL 519.122112 99.152308 \nz\n\" clip-path=\"url(#p1cbd40ffaf)\" style=\"fill: #c5b0d5\"/>\n   </g>\n   <g id=\"patch_272\">\n    <path d=\"M 520.726888 313.478125 \nL 522.01071 313.478125 \nL 522.01071 84.386409 \nL 520.726888 84.386409 \nz\n\" clip-path=\"url(#p1cbd40ffaf)\" style=\"fill: #c5b0d5\"/>\n   </g>\n   <g id=\"patch_273\">\n    <path d=\"M 522.331665 313.478125 \nL 523.615486 313.478125 \nL 523.615486 87.846384 \nL 522.331665 87.846384 \nz\n\" clip-path=\"url(#p1cbd40ffaf)\" style=\"fill: #c5b0d5\"/>\n   </g>\n   <g id=\"patch_274\">\n    <path d=\"M 523.936442 313.478125 \nL 525.220263 313.478125 \nL 525.220263 100.414678 \nL 523.936442 100.414678 \nz\n\" clip-path=\"url(#p1cbd40ffaf)\" style=\"fill: #c5b0d5\"/>\n   </g>\n   <g id=\"patch_275\">\n    <path d=\"M 525.541218 313.478125 \nL 526.825039 313.478125 \nL 526.825039 95.411367 \nL 525.541218 95.411367 \nz\n\" clip-path=\"url(#p1cbd40ffaf)\" style=\"fill: #c5b0d5\"/>\n   </g>\n   <g id=\"patch_276\">\n    <path d=\"M 527.145995 313.478125 \nL 528.429816 313.478125 \nL 528.429816 65.413931 \nL 527.145995 65.413931 \nz\n\" clip-path=\"url(#p1cbd40ffaf)\" style=\"fill: #8c564b\"/>\n   </g>\n   <g id=\"patch_277\">\n    <path d=\"M 528.750771 313.478125 \nL 530.034593 313.478125 \nL 530.034593 70.000409 \nL 528.750771 70.000409 \nz\n\" clip-path=\"url(#p1cbd40ffaf)\" style=\"fill: #8c564b\"/>\n   </g>\n   <g id=\"patch_278\">\n    <path d=\"M 530.355548 313.478125 \nL 531.639369 313.478125 \nL 531.639369 52.267876 \nL 530.355548 52.267876 \nz\n\" clip-path=\"url(#p1cbd40ffaf)\" style=\"fill: #8c564b\"/>\n   </g>\n   <g id=\"patch_279\">\n    <path d=\"M 531.960325 313.478125 \nL 533.244146 313.478125 \nL 533.244146 52.612159 \nL 531.960325 52.612159 \nz\n\" clip-path=\"url(#p1cbd40ffaf)\" style=\"fill: #8c564b\"/>\n   </g>\n   <g id=\"patch_280\">\n    <path d=\"M 533.565101 313.478125 \nL 534.848922 313.478125 \nL 534.848922 55.464032 \nL 533.565101 55.464032 \nz\n\" clip-path=\"url(#p1cbd40ffaf)\" style=\"fill: #8c564b\"/>\n   </g>\n   <g id=\"patch_281\">\n    <path d=\"M 535.169878 313.478125 \nL 536.453699 313.478125 \nL 536.453699 66.655195 \nL 535.169878 66.655195 \nz\n\" clip-path=\"url(#p1cbd40ffaf)\" style=\"fill: #8c564b\"/>\n   </g>\n   <g id=\"patch_282\">\n    <path d=\"M 536.774654 313.478125 \nL 538.058476 313.478125 \nL 538.058476 75.954783 \nL 536.774654 75.954783 \nz\n\" clip-path=\"url(#p1cbd40ffaf)\" style=\"fill: #8c564b\"/>\n   </g>\n   <g id=\"patch_283\">\n    <path d=\"M 538.379431 313.478125 \nL 539.663252 313.478125 \nL 539.663252 71.62289 \nL 538.379431 71.62289 \nz\n\" clip-path=\"url(#p1cbd40ffaf)\" style=\"fill: #8c564b\"/>\n   </g>\n   <g id=\"patch_284\">\n    <path d=\"M 539.984207 313.478125 \nL 541.268029 313.478125 \nL 541.268029 73.655609 \nL 539.984207 73.655609 \nz\n\" clip-path=\"url(#p1cbd40ffaf)\" style=\"fill: #8c564b\"/>\n   </g>\n   <g id=\"patch_285\">\n    <path d=\"M 541.588984 313.478125 \nL 542.872805 313.478125 \nL 542.872805 76.697431 \nL 541.588984 76.697431 \nz\n\" clip-path=\"url(#p1cbd40ffaf)\" style=\"fill: #8c564b\"/>\n   </g>\n   <g id=\"patch_286\">\n    <path d=\"M 543.193761 313.478125 \nL 544.477582 313.478125 \nL 544.477582 63.175435 \nL 543.193761 63.175435 \nz\n\" clip-path=\"url(#p1cbd40ffaf)\" style=\"fill: #8c564b\"/>\n   </g>\n   <g id=\"patch_287\">\n    <path d=\"M 544.798537 313.478125 \nL 546.082358 313.478125 \nL 546.082358 58.935878 \nL 544.798537 58.935878 \nz\n\" clip-path=\"url(#p1cbd40ffaf)\" style=\"fill: #8c564b\"/>\n   </g>\n   <g id=\"patch_288\">\n    <path d=\"M 546.403314 313.478125 \nL 547.687135 313.478125 \nL 547.687135 80.330206 \nL 546.403314 80.330206 \nz\n\" clip-path=\"url(#p1cbd40ffaf)\" style=\"fill: #8c564b\"/>\n   </g>\n   <g id=\"patch_289\">\n    <path d=\"M 548.00809 313.478125 \nL 549.291912 313.478125 \nL 549.291912 81.785163 \nL 548.00809 81.785163 \nz\n\" clip-path=\"url(#p1cbd40ffaf)\" style=\"fill: #8c564b\"/>\n   </g>\n   <g id=\"patch_290\">\n    <path d=\"M 549.612867 313.478125 \nL 550.896688 313.478125 \nL 550.896688 70.208825 \nL 549.612867 70.208825 \nz\n\" clip-path=\"url(#p1cbd40ffaf)\" style=\"fill: #8c564b\"/>\n   </g>\n   <g id=\"patch_291\">\n    <path d=\"M 551.217643 313.478125 \nL 552.501465 313.478125 \nL 552.501465 88.116797 \nL 551.217643 88.116797 \nz\n\" clip-path=\"url(#p1cbd40ffaf)\" style=\"fill: #8c564b\"/>\n   </g>\n   <g id=\"patch_292\">\n    <path d=\"M 552.82242 313.478125 \nL 554.106241 313.478125 \nL 554.106241 92.870799 \nL 552.82242 92.870799 \nz\n\" clip-path=\"url(#p1cbd40ffaf)\" style=\"fill: #8c564b\"/>\n   </g>\n   <g id=\"patch_293\">\n    <path d=\"M 554.427197 313.478125 \nL 555.711018 313.478125 \nL 555.711018 78.203832 \nL 554.427197 78.203832 \nz\n\" clip-path=\"url(#p1cbd40ffaf)\" style=\"fill: #8c564b\"/>\n   </g>\n   <g id=\"patch_294\">\n    <path d=\"M 556.031973 313.478125 \nL 557.315794 313.478125 \nL 557.315794 90.009692 \nL 556.031973 90.009692 \nz\n\" clip-path=\"url(#p1cbd40ffaf)\" style=\"fill: #8c564b\"/>\n   </g>\n   <g id=\"patch_295\">\n    <path d=\"M 557.63675 313.478125 \nL 558.920571 313.478125 \nL 558.920571 101.365742 \nL 557.63675 101.365742 \nz\n\" clip-path=\"url(#p1cbd40ffaf)\" style=\"fill: #8c564b\"/>\n   </g>\n   <g id=\"patch_296\">\n    <path d=\"M 559.241526 313.478125 \nL 560.525348 313.478125 \nL 560.525348 105.779418 \nL 559.241526 105.779418 \nz\n\" clip-path=\"url(#p1cbd40ffaf)\" style=\"fill: #8c564b\"/>\n   </g>\n   <g id=\"patch_297\">\n    <path d=\"M 560.846303 313.478125 \nL 562.130124 313.478125 \nL 562.130124 102.699342 \nL 560.846303 102.699342 \nz\n\" clip-path=\"url(#p1cbd40ffaf)\" style=\"fill: #8c564b\"/>\n   </g>\n   <g id=\"patch_298\">\n    <path d=\"M 562.45108 313.478125 \nL 563.734901 313.478125 \nL 563.734901 108.174887 \nL 562.45108 108.174887 \nz\n\" clip-path=\"url(#p1cbd40ffaf)\" style=\"fill: #8c564b\"/>\n   </g>\n   <g id=\"patch_299\">\n    <path d=\"M 564.055856 313.478125 \nL 565.339677 313.478125 \nL 565.339677 106.392795 \nL 564.055856 106.392795 \nz\n\" clip-path=\"url(#p1cbd40ffaf)\" style=\"fill: #8c564b\"/>\n   </g>\n   <g id=\"patch_300\">\n    <path d=\"M 565.660633 313.478125 \nL 566.944454 313.478125 \nL 566.944454 92.351078 \nL 565.660633 92.351078 \nz\n\" clip-path=\"url(#p1cbd40ffaf)\" style=\"fill: #8c564b\"/>\n   </g>\n   <g id=\"patch_301\">\n    <path d=\"M 567.265409 313.478125 \nL 568.549231 313.478125 \nL 568.549231 96.88743 \nL 567.265409 96.88743 \nz\n\" clip-path=\"url(#p1cbd40ffaf)\" style=\"fill: #8c564b\"/>\n   </g>\n   <g id=\"patch_302\">\n    <path d=\"M 568.870186 313.478125 \nL 570.154007 313.478125 \nL 570.154007 103.700532 \nL 568.870186 103.700532 \nz\n\" clip-path=\"url(#p1cbd40ffaf)\" style=\"fill: #8c564b\"/>\n   </g>\n   <g id=\"patch_303\">\n    <path d=\"M 570.474962 313.478125 \nL 571.758784 313.478125 \nL 571.758784 106.259567 \nL 570.474962 106.259567 \nz\n\" clip-path=\"url(#p1cbd40ffaf)\" style=\"fill: #8c564b\"/>\n   </g>\n   <g id=\"patch_304\">\n    <path d=\"M 572.079739 313.478125 \nL 573.36356 313.478125 \nL 573.36356 101.464674 \nL 572.079739 101.464674 \nz\n\" clip-path=\"url(#p1cbd40ffaf)\" style=\"fill: #8c564b\"/>\n   </g>\n   <g id=\"patch_305\">\n    <path d=\"M 573.684516 313.478125 \nL 574.968337 313.478125 \nL 574.968337 100.683772 \nL 573.684516 100.683772 \nz\n\" clip-path=\"url(#p1cbd40ffaf)\" style=\"fill: #8c564b\"/>\n   </g>\n   <g id=\"patch_306\">\n    <path d=\"M 575.289292 313.478125 \nL 576.573113 313.478125 \nL 576.573113 111.127011 \nL 575.289292 111.127011 \nz\n\" clip-path=\"url(#p1cbd40ffaf)\" style=\"fill: #8c564b\"/>\n   </g>\n   <g id=\"patch_307\">\n    <path d=\"M 576.894069 313.478125 \nL 578.17789 313.478125 \nL 578.17789 73.424768 \nL 576.894069 73.424768 \nz\n\" clip-path=\"url(#p1cbd40ffaf)\" style=\"fill: #c49c94\"/>\n   </g>\n   <g id=\"patch_308\">\n    <path d=\"M 578.498845 313.478125 \nL 579.782667 313.478125 \nL 579.782667 68.811908 \nL 578.498845 68.811908 \nz\n\" clip-path=\"url(#p1cbd40ffaf)\" style=\"fill: #c49c94\"/>\n   </g>\n   <g id=\"patch_309\">\n    <path d=\"M 580.103622 313.478125 \nL 581.387443 313.478125 \nL 581.387443 65.027438 \nL 580.103622 65.027438 \nz\n\" clip-path=\"url(#p1cbd40ffaf)\" style=\"fill: #c49c94\"/>\n   </g>\n   <g id=\"patch_310\">\n    <path d=\"M 581.708398 313.478125 \nL 582.99222 313.478125 \nL 582.99222 88.308065 \nL 581.708398 88.308065 \nz\n\" clip-path=\"url(#p1cbd40ffaf)\" style=\"fill: #c49c94\"/>\n   </g>\n   <g id=\"patch_311\">\n    <path d=\"M 583.313175 313.478125 \nL 584.596996 313.478125 \nL 584.596996 77.326637 \nL 583.313175 77.326637 \nz\n\" clip-path=\"url(#p1cbd40ffaf)\" style=\"fill: #c49c94\"/>\n   </g>\n   <g id=\"patch_312\">\n    <path d=\"M 584.917952 313.478125 \nL 586.201773 313.478125 \nL 586.201773 80.239189 \nL 584.917952 80.239189 \nz\n\" clip-path=\"url(#p1cbd40ffaf)\" style=\"fill: #c49c94\"/>\n   </g>\n   <g id=\"patch_313\">\n    <path d=\"M 586.522728 313.478125 \nL 587.806549 313.478125 \nL 587.806549 86.793749 \nL 586.522728 86.793749 \nz\n\" clip-path=\"url(#p1cbd40ffaf)\" style=\"fill: #c49c94\"/>\n   </g>\n   <g id=\"patch_314\">\n    <path d=\"M 588.127505 313.478125 \nL 589.411326 313.478125 \nL 589.411326 72.068743 \nL 588.127505 72.068743 \nz\n\" clip-path=\"url(#p1cbd40ffaf)\" style=\"fill: #c49c94\"/>\n   </g>\n   <g id=\"patch_315\">\n    <path d=\"M 589.732281 313.478125 \nL 591.016103 313.478125 \nL 591.016103 66.945395 \nL 589.732281 66.945395 \nz\n\" clip-path=\"url(#p1cbd40ffaf)\" style=\"fill: #c49c94\"/>\n   </g>\n   <g id=\"patch_316\">\n    <path d=\"M 591.337058 313.478125 \nL 592.620879 313.478125 \nL 592.620879 84.487979 \nL 591.337058 84.487979 \nz\n\" clip-path=\"url(#p1cbd40ffaf)\" style=\"fill: #c49c94\"/>\n   </g>\n   <g id=\"patch_317\">\n    <path d=\"M 592.941835 313.478125 \nL 594.225656 313.478125 \nL 594.225656 82.68874 \nL 592.941835 82.68874 \nz\n\" clip-path=\"url(#p1cbd40ffaf)\" style=\"fill: #c49c94\"/>\n   </g>\n   <g id=\"patch_318\">\n    <path d=\"M 594.546611 313.478125 \nL 595.830432 313.478125 \nL 595.830432 82.048981 \nL 594.546611 82.048981 \nz\n\" clip-path=\"url(#p1cbd40ffaf)\" style=\"fill: #c49c94\"/>\n   </g>\n   <g id=\"patch_319\">\n    <path d=\"M 596.151388 313.478125 \nL 597.435209 313.478125 \nL 597.435209 98.833088 \nL 596.151388 98.833088 \nz\n\" clip-path=\"url(#p1cbd40ffaf)\" style=\"fill: #c49c94\"/>\n   </g>\n   <g id=\"patch_320\">\n    <path d=\"M 597.756164 313.478125 \nL 599.039986 313.478125 \nL 599.039986 93.678083 \nL 597.756164 93.678083 \nz\n\" clip-path=\"url(#p1cbd40ffaf)\" style=\"fill: #c49c94\"/>\n   </g>\n   <g id=\"patch_321\">\n    <path d=\"M 599.360941 313.478125 \nL 600.644762 313.478125 \nL 600.644762 70.17321 \nL 599.360941 70.17321 \nz\n\" clip-path=\"url(#p1cbd40ffaf)\" style=\"fill: #c49c94\"/>\n   </g>\n   <g id=\"patch_322\">\n    <path d=\"M 600.965717 313.478125 \nL 602.249539 313.478125 \nL 602.249539 79.36727 \nL 600.965717 79.36727 \nz\n\" clip-path=\"url(#p1cbd40ffaf)\" style=\"fill: #c49c94\"/>\n   </g>\n   <g id=\"patch_323\">\n    <path d=\"M 602.570494 313.478125 \nL 603.854315 313.478125 \nL 603.854315 104.66083 \nL 602.570494 104.66083 \nz\n\" clip-path=\"url(#p1cbd40ffaf)\" style=\"fill: #c49c94\"/>\n   </g>\n   <g id=\"patch_324\">\n    <path d=\"M 604.175271 313.478125 \nL 605.459092 313.478125 \nL 605.459092 103.436714 \nL 604.175271 103.436714 \nz\n\" clip-path=\"url(#p1cbd40ffaf)\" style=\"fill: #c49c94\"/>\n   </g>\n   <g id=\"patch_325\">\n    <path d=\"M 605.780047 313.478125 \nL 607.063868 313.478125 \nL 607.063868 102.351102 \nL 605.780047 102.351102 \nz\n\" clip-path=\"url(#p1cbd40ffaf)\" style=\"fill: #c49c94\"/>\n   </g>\n   <g id=\"patch_326\">\n    <path d=\"M 607.384824 313.478125 \nL 608.668645 313.478125 \nL 608.668645 106.905922 \nL 607.384824 106.905922 \nz\n\" clip-path=\"url(#p1cbd40ffaf)\" style=\"fill: #c49c94\"/>\n   </g>\n   <g id=\"patch_327\">\n    <path d=\"M 608.9896 313.478125 \nL 610.273422 313.478125 \nL 610.273422 102.155877 \nL 608.9896 102.155877 \nz\n\" clip-path=\"url(#p1cbd40ffaf)\" style=\"fill: #c49c94\"/>\n   </g>\n   <g id=\"patch_328\">\n    <path d=\"M 610.594377 313.478125 \nL 611.878198 313.478125 \nL 611.878198 74.65416 \nL 610.594377 74.65416 \nz\n\" clip-path=\"url(#p1cbd40ffaf)\" style=\"fill: #c49c94\"/>\n   </g>\n   <g id=\"patch_329\">\n    <path d=\"M 612.199154 313.478125 \nL 613.482975 313.478125 \nL 613.482975 91.194235 \nL 612.199154 91.194235 \nz\n\" clip-path=\"url(#p1cbd40ffaf)\" style=\"fill: #c49c94\"/>\n   </g>\n   <g id=\"patch_330\">\n    <path d=\"M 613.80393 313.478125 \nL 615.087751 313.478125 \nL 615.087751 120.737904 \nL 613.80393 120.737904 \nz\n\" clip-path=\"url(#p1cbd40ffaf)\" style=\"fill: #c49c94\"/>\n   </g>\n   <g id=\"patch_331\">\n    <path d=\"M 615.408707 313.478125 \nL 616.692528 313.478125 \nL 616.692528 109.453085 \nL 615.408707 109.453085 \nz\n\" clip-path=\"url(#p1cbd40ffaf)\" style=\"fill: #c49c94\"/>\n   </g>\n   <g id=\"patch_332\">\n    <path d=\"M 617.013483 313.478125 \nL 618.297305 313.478125 \nL 618.297305 115.811101 \nL 617.013483 115.811101 \nz\n\" clip-path=\"url(#p1cbd40ffaf)\" style=\"fill: #c49c94\"/>\n   </g>\n   <g id=\"patch_333\">\n    <path d=\"M 618.61826 313.478125 \nL 619.902081 313.478125 \nL 619.902081 129.89503 \nL 618.61826 129.89503 \nz\n\" clip-path=\"url(#p1cbd40ffaf)\" style=\"fill: #c49c94\"/>\n   </g>\n   <g id=\"patch_334\">\n    <path d=\"M 620.223036 313.478125 \nL 621.506858 313.478125 \nL 621.506858 145.594845 \nL 620.223036 145.594845 \nz\n\" clip-path=\"url(#p1cbd40ffaf)\" style=\"fill: #c49c94\"/>\n   </g>\n   <g id=\"patch_335\">\n    <path d=\"M 621.827813 313.478125 \nL 623.111634 313.478125 \nL 623.111634 124.26779 \nL 621.827813 124.26779 \nz\n\" clip-path=\"url(#p1cbd40ffaf)\" style=\"fill: #c49c94\"/>\n   </g>\n   <g id=\"patch_336\">\n    <path d=\"M 623.43259 313.478125 \nL 624.716411 313.478125 \nL 624.716411 123.101714 \nL 623.43259 123.101714 \nz\n\" clip-path=\"url(#p1cbd40ffaf)\" style=\"fill: #c49c94\"/>\n   </g>\n   <g id=\"patch_337\">\n    <path d=\"M 625.037366 313.478125 \nL 626.321187 313.478125 \nL 626.321187 97.19082 \nL 625.037366 97.19082 \nz\n\" clip-path=\"url(#p1cbd40ffaf)\" style=\"fill: #e377c2\"/>\n   </g>\n   <g id=\"patch_338\">\n    <path d=\"M 626.642143 313.478125 \nL 627.925964 313.478125 \nL 627.925964 84.469512 \nL 626.642143 84.469512 \nz\n\" clip-path=\"url(#p1cbd40ffaf)\" style=\"fill: #e377c2\"/>\n   </g>\n   <g id=\"patch_339\">\n    <path d=\"M 628.246919 313.478125 \nL 629.530741 313.478125 \nL 629.530741 65.849231 \nL 628.246919 65.849231 \nz\n\" clip-path=\"url(#p1cbd40ffaf)\" style=\"fill: #e377c2\"/>\n   </g>\n   <g id=\"patch_340\">\n    <path d=\"M 629.851696 313.478125 \nL 631.135517 313.478125 \nL 631.135517 87.073397 \nL 629.851696 87.073397 \nz\n\" clip-path=\"url(#p1cbd40ffaf)\" style=\"fill: #e377c2\"/>\n   </g>\n   <g id=\"patch_341\">\n    <path d=\"M 631.456472 313.478125 \nL 632.740294 313.478125 \nL 632.740294 79.764316 \nL 631.456472 79.764316 \nz\n\" clip-path=\"url(#p1cbd40ffaf)\" style=\"fill: #e377c2\"/>\n   </g>\n   <g id=\"patch_342\">\n    <path d=\"M 633.061249 313.478125 \nL 634.34507 313.478125 \nL 634.34507 66.043138 \nL 633.061249 66.043138 \nz\n\" clip-path=\"url(#p1cbd40ffaf)\" style=\"fill: #e377c2\"/>\n   </g>\n   <g id=\"patch_343\">\n    <path d=\"M 634.666026 313.478125 \nL 635.949847 313.478125 \nL 635.949847 77.411059 \nL 634.666026 77.411059 \nz\n\" clip-path=\"url(#p1cbd40ffaf)\" style=\"fill: #e377c2\"/>\n   </g>\n   <g id=\"patch_344\">\n    <path d=\"M 636.270802 313.478125 \nL 637.554623 313.478125 \nL 637.554623 93.992026 \nL 636.270802 93.992026 \nz\n\" clip-path=\"url(#p1cbd40ffaf)\" style=\"fill: #e377c2\"/>\n   </g>\n   <g id=\"patch_345\">\n    <path d=\"M 637.875579 313.478125 \nL 639.1594 313.478125 \nL 639.1594 87.885956 \nL 637.875579 87.885956 \nz\n\" clip-path=\"url(#p1cbd40ffaf)\" style=\"fill: #e377c2\"/>\n   </g>\n   <g id=\"patch_346\">\n    <path d=\"M 639.480355 313.478125 \nL 640.764177 313.478125 \nL 640.764177 85.551166 \nL 639.480355 85.551166 \nz\n\" clip-path=\"url(#p1cbd40ffaf)\" style=\"fill: #e377c2\"/>\n   </g>\n   <g id=\"patch_347\">\n    <path d=\"M 641.085132 313.478125 \nL 642.368953 313.478125 \nL 642.368953 102.158515 \nL 641.085132 102.158515 \nz\n\" clip-path=\"url(#p1cbd40ffaf)\" style=\"fill: #e377c2\"/>\n   </g>\n   <g id=\"patch_348\">\n    <path d=\"M 642.689909 313.478125 \nL 643.97373 313.478125 \nL 643.97373 88.447889 \nL 642.689909 88.447889 \nz\n\" clip-path=\"url(#p1cbd40ffaf)\" style=\"fill: #e377c2\"/>\n   </g>\n   <g id=\"patch_349\">\n    <path d=\"M 644.294685 313.478125 \nL 645.578506 313.478125 \nL 645.578506 78.335741 \nL 644.294685 78.335741 \nz\n\" clip-path=\"url(#p1cbd40ffaf)\" style=\"fill: #e377c2\"/>\n   </g>\n   <g id=\"patch_350\">\n    <path d=\"M 645.899462 313.478125 \nL 647.183283 313.478125 \nL 647.183283 80.630959 \nL 645.899462 80.630959 \nz\n\" clip-path=\"url(#p1cbd40ffaf)\" style=\"fill: #e377c2\"/>\n   </g>\n   <g id=\"patch_351\">\n    <path d=\"M 647.504238 313.478125 \nL 648.78806 313.478125 \nL 648.78806 81.450114 \nL 647.504238 81.450114 \nz\n\" clip-path=\"url(#p1cbd40ffaf)\" style=\"fill: #e377c2\"/>\n   </g>\n   <g id=\"patch_352\">\n    <path d=\"M 649.109015 313.478125 \nL 650.392836 313.478125 \nL 650.392836 92.124194 \nL 649.109015 92.124194 \nz\n\" clip-path=\"url(#p1cbd40ffaf)\" style=\"fill: #e377c2\"/>\n   </g>\n   <g id=\"patch_353\">\n    <path d=\"M 650.713791 313.478125 \nL 651.997613 313.478125 \nL 651.997613 89.02697 \nL 650.713791 89.02697 \nz\n\" clip-path=\"url(#p1cbd40ffaf)\" style=\"fill: #e377c2\"/>\n   </g>\n   <g id=\"patch_354\">\n    <path d=\"M 652.318568 313.478125 \nL 653.602389 313.478125 \nL 653.602389 99.881765 \nL 652.318568 99.881765 \nz\n\" clip-path=\"url(#p1cbd40ffaf)\" style=\"fill: #e377c2\"/>\n   </g>\n   <g id=\"patch_355\">\n    <path d=\"M 653.923345 313.478125 \nL 655.207166 313.478125 \nL 655.207166 98.393831 \nL 653.923345 98.393831 \nz\n\" clip-path=\"url(#p1cbd40ffaf)\" style=\"fill: #e377c2\"/>\n   </g>\n   <g id=\"patch_356\">\n    <path d=\"M 655.528121 313.478125 \nL 656.811942 313.478125 \nL 656.811942 87.123522 \nL 655.528121 87.123522 \nz\n\" clip-path=\"url(#p1cbd40ffaf)\" style=\"fill: #e377c2\"/>\n   </g>\n   <g id=\"patch_357\">\n    <path d=\"M 657.132898 313.478125 \nL 658.416719 313.478125 \nL 658.416719 86.570823 \nL 657.132898 86.570823 \nz\n\" clip-path=\"url(#p1cbd40ffaf)\" style=\"fill: #e377c2\"/>\n   </g>\n   <g id=\"patch_358\">\n    <path d=\"M 658.737674 313.478125 \nL 660.021496 313.478125 \nL 660.021496 94.122616 \nL 658.737674 94.122616 \nz\n\" clip-path=\"url(#p1cbd40ffaf)\" style=\"fill: #e377c2\"/>\n   </g>\n   <g id=\"patch_359\">\n    <path d=\"M 660.342451 313.478125 \nL 661.626272 313.478125 \nL 661.626272 71.340605 \nL 660.342451 71.340605 \nz\n\" clip-path=\"url(#p1cbd40ffaf)\" style=\"fill: #e377c2\"/>\n   </g>\n   <g id=\"patch_360\">\n    <path d=\"M 661.947227 313.478125 \nL 663.231049 313.478125 \nL 663.231049 94.685868 \nL 661.947227 94.685868 \nz\n\" clip-path=\"url(#p1cbd40ffaf)\" style=\"fill: #e377c2\"/>\n   </g>\n   <g id=\"patch_361\">\n    <path d=\"M 663.552004 313.478125 \nL 664.835825 313.478125 \nL 664.835825 270.357058 \nL 663.552004 270.357058 \nz\n\" clip-path=\"url(#p1cbd40ffaf)\" style=\"fill: #e377c2\"/>\n   </g>\n   <g id=\"patch_362\">\n    <path d=\"M 665.156781 313.478125 \nL 666.440602 313.478125 \nL 666.440602 139.284316 \nL 665.156781 139.284316 \nz\n\" clip-path=\"url(#p1cbd40ffaf)\" style=\"fill: #e377c2\"/>\n   </g>\n   <g id=\"patch_363\">\n    <path d=\"M 666.761557 313.478125 \nL 668.045378 313.478125 \nL 668.045378 108.466406 \nL 666.761557 108.466406 \nz\n\" clip-path=\"url(#p1cbd40ffaf)\" style=\"fill: #e377c2\"/>\n   </g>\n   <g id=\"patch_364\">\n    <path d=\"M 668.366334 313.478125 \nL 669.650155 313.478125 \nL 669.650155 112.679581 \nL 668.366334 112.679581 \nz\n\" clip-path=\"url(#p1cbd40ffaf)\" style=\"fill: #e377c2\"/>\n   </g>\n   <g id=\"patch_365\">\n    <path d=\"M 669.97111 313.478125 \nL 671.254932 313.478125 \nL 671.254932 111.799747 \nL 669.97111 111.799747 \nz\n\" clip-path=\"url(#p1cbd40ffaf)\" style=\"fill: #e377c2\"/>\n   </g>\n   <g id=\"patch_366\">\n    <path d=\"M 671.575887 313.478125 \nL 672.859708 313.478125 \nL 672.859708 93.660934 \nL 671.575887 93.660934 \nz\n\" clip-path=\"url(#p1cbd40ffaf)\" style=\"fill: #e377c2\"/>\n   </g>\n   <g id=\"patch_367\">\n    <path d=\"M 673.180664 313.478125 \nL 674.464485 313.478125 \nL 674.464485 75.026144 \nL 673.180664 75.026144 \nz\n\" clip-path=\"url(#p1cbd40ffaf)\" style=\"fill: #e377c2\"/>\n   </g>\n   <g id=\"patch_368\">\n    <path d=\"M 674.78544 313.478125 \nL 676.069261 313.478125 \nL 676.069261 82.399859 \nL 674.78544 82.399859 \nz\n\" clip-path=\"url(#p1cbd40ffaf)\" style=\"fill: #e377c2\"/>\n   </g>\n   <g id=\"matplotlib.axis_1\">\n    <g id=\"xtick_1\">\n     <g id=\"line2d_1\">\n      <path d=\"M 88.079123 313.478125 \nL 88.079123 22.318125 \n\" clip-path=\"url(#p1cbd40ffaf)\" style=\"fill: none; stroke: #b0b0b0; stroke-width: 0.8; stroke-linecap: square\"/>\n     </g>\n     <g id=\"line2d_2\">\n      <defs>\n       <path id=\"m7dc56c8dba\" d=\"M 0 0 \nL 0 3.5 \n\" style=\"stroke: #000000; stroke-width: 0.8\"/>\n      </defs>\n      <g>\n       <use xlink:href=\"#m7dc56c8dba\" x=\"88.079123\" y=\"313.478125\" style=\"stroke: #000000; stroke-width: 0.8\"/>\n      </g>\n     </g>\n     <g id=\"text_1\">\n      <!-- 0 -->\n      <g transform=\"translate(84.897873 328.076563) scale(0.1 -0.1)\">\n       <defs>\n        <path id=\"DejaVuSans-30\" d=\"M 2034 4250 \nQ 1547 4250 1301 3770 \nQ 1056 3291 1056 2328 \nQ 1056 1369 1301 889 \nQ 1547 409 2034 409 \nQ 2525 409 2770 889 \nQ 3016 1369 3016 2328 \nQ 3016 3291 2770 3770 \nQ 2525 4250 2034 4250 \nz\nM 2034 4750 \nQ 2819 4750 3233 4129 \nQ 3647 3509 3647 2328 \nQ 3647 1150 3233 529 \nQ 2819 -91 2034 -91 \nQ 1250 -91 836 529 \nQ 422 1150 422 2328 \nQ 422 3509 836 4129 \nQ 1250 4750 2034 4750 \nz\n\" transform=\"scale(0.015625)\"/>\n       </defs>\n       <use xlink:href=\"#DejaVuSans-30\"/>\n      </g>\n     </g>\n    </g>\n    <g id=\"xtick_2\">\n     <g id=\"line2d_3\">\n      <path d=\"M 168.317952 313.478125 \nL 168.317952 22.318125 \n\" clip-path=\"url(#p1cbd40ffaf)\" style=\"fill: none; stroke: #b0b0b0; stroke-width: 0.8; stroke-linecap: square\"/>\n     </g>\n     <g id=\"line2d_4\">\n      <g>\n       <use xlink:href=\"#m7dc56c8dba\" x=\"168.317952\" y=\"313.478125\" style=\"stroke: #000000; stroke-width: 0.8\"/>\n      </g>\n     </g>\n     <g id=\"text_2\">\n      <!-- 50 -->\n      <g transform=\"translate(161.955452 328.076563) scale(0.1 -0.1)\">\n       <defs>\n        <path id=\"DejaVuSans-35\" d=\"M 691 4666 \nL 3169 4666 \nL 3169 4134 \nL 1269 4134 \nL 1269 2991 \nQ 1406 3038 1543 3061 \nQ 1681 3084 1819 3084 \nQ 2600 3084 3056 2656 \nQ 3513 2228 3513 1497 \nQ 3513 744 3044 326 \nQ 2575 -91 1722 -91 \nQ 1428 -91 1123 -41 \nQ 819 9 494 109 \nL 494 744 \nQ 775 591 1075 516 \nQ 1375 441 1709 441 \nQ 2250 441 2565 725 \nQ 2881 1009 2881 1497 \nQ 2881 1984 2565 2268 \nQ 2250 2553 1709 2553 \nQ 1456 2553 1204 2497 \nQ 953 2441 691 2322 \nL 691 4666 \nz\n\" transform=\"scale(0.015625)\"/>\n       </defs>\n       <use xlink:href=\"#DejaVuSans-35\"/>\n       <use xlink:href=\"#DejaVuSans-30\" x=\"63.623047\"/>\n      </g>\n     </g>\n    </g>\n    <g id=\"xtick_3\">\n     <g id=\"line2d_5\">\n      <path d=\"M 248.556781 313.478125 \nL 248.556781 22.318125 \n\" clip-path=\"url(#p1cbd40ffaf)\" style=\"fill: none; stroke: #b0b0b0; stroke-width: 0.8; stroke-linecap: square\"/>\n     </g>\n     <g id=\"line2d_6\">\n      <g>\n       <use xlink:href=\"#m7dc56c8dba\" x=\"248.556781\" y=\"313.478125\" style=\"stroke: #000000; stroke-width: 0.8\"/>\n      </g>\n     </g>\n     <g id=\"text_3\">\n      <!-- 100 -->\n      <g transform=\"translate(239.013031 328.076563) scale(0.1 -0.1)\">\n       <defs>\n        <path id=\"DejaVuSans-31\" d=\"M 794 531 \nL 1825 531 \nL 1825 4091 \nL 703 3866 \nL 703 4441 \nL 1819 4666 \nL 2450 4666 \nL 2450 531 \nL 3481 531 \nL 3481 0 \nL 794 0 \nL 794 531 \nz\n\" transform=\"scale(0.015625)\"/>\n       </defs>\n       <use xlink:href=\"#DejaVuSans-31\"/>\n       <use xlink:href=\"#DejaVuSans-30\" x=\"63.623047\"/>\n       <use xlink:href=\"#DejaVuSans-30\" x=\"127.246094\"/>\n      </g>\n     </g>\n    </g>\n    <g id=\"xtick_4\">\n     <g id=\"line2d_7\">\n      <path d=\"M 328.79561 313.478125 \nL 328.79561 22.318125 \n\" clip-path=\"url(#p1cbd40ffaf)\" style=\"fill: none; stroke: #b0b0b0; stroke-width: 0.8; stroke-linecap: square\"/>\n     </g>\n     <g id=\"line2d_8\">\n      <g>\n       <use xlink:href=\"#m7dc56c8dba\" x=\"328.79561\" y=\"313.478125\" style=\"stroke: #000000; stroke-width: 0.8\"/>\n      </g>\n     </g>\n     <g id=\"text_4\">\n      <!-- 150 -->\n      <g transform=\"translate(319.25186 328.076563) scale(0.1 -0.1)\">\n       <use xlink:href=\"#DejaVuSans-31\"/>\n       <use xlink:href=\"#DejaVuSans-35\" x=\"63.623047\"/>\n       <use xlink:href=\"#DejaVuSans-30\" x=\"127.246094\"/>\n      </g>\n     </g>\n    </g>\n    <g id=\"xtick_5\">\n     <g id=\"line2d_9\">\n      <path d=\"M 409.034439 313.478125 \nL 409.034439 22.318125 \n\" clip-path=\"url(#p1cbd40ffaf)\" style=\"fill: none; stroke: #b0b0b0; stroke-width: 0.8; stroke-linecap: square\"/>\n     </g>\n     <g id=\"line2d_10\">\n      <g>\n       <use xlink:href=\"#m7dc56c8dba\" x=\"409.034439\" y=\"313.478125\" style=\"stroke: #000000; stroke-width: 0.8\"/>\n      </g>\n     </g>\n     <g id=\"text_5\">\n      <!-- 200 -->\n      <g transform=\"translate(399.490689 328.076563) scale(0.1 -0.1)\">\n       <defs>\n        <path id=\"DejaVuSans-32\" d=\"M 1228 531 \nL 3431 531 \nL 3431 0 \nL 469 0 \nL 469 531 \nQ 828 903 1448 1529 \nQ 2069 2156 2228 2338 \nQ 2531 2678 2651 2914 \nQ 2772 3150 2772 3378 \nQ 2772 3750 2511 3984 \nQ 2250 4219 1831 4219 \nQ 1534 4219 1204 4116 \nQ 875 4013 500 3803 \nL 500 4441 \nQ 881 4594 1212 4672 \nQ 1544 4750 1819 4750 \nQ 2544 4750 2975 4387 \nQ 3406 4025 3406 3419 \nQ 3406 3131 3298 2873 \nQ 3191 2616 2906 2266 \nQ 2828 2175 2409 1742 \nQ 1991 1309 1228 531 \nz\n\" transform=\"scale(0.015625)\"/>\n       </defs>\n       <use xlink:href=\"#DejaVuSans-32\"/>\n       <use xlink:href=\"#DejaVuSans-30\" x=\"63.623047\"/>\n       <use xlink:href=\"#DejaVuSans-30\" x=\"127.246094\"/>\n      </g>\n     </g>\n    </g>\n    <g id=\"xtick_6\">\n     <g id=\"line2d_11\">\n      <path d=\"M 489.273268 313.478125 \nL 489.273268 22.318125 \n\" clip-path=\"url(#p1cbd40ffaf)\" style=\"fill: none; stroke: #b0b0b0; stroke-width: 0.8; stroke-linecap: square\"/>\n     </g>\n     <g id=\"line2d_12\">\n      <g>\n       <use xlink:href=\"#m7dc56c8dba\" x=\"489.273268\" y=\"313.478125\" style=\"stroke: #000000; stroke-width: 0.8\"/>\n      </g>\n     </g>\n     <g id=\"text_6\">\n      <!-- 250 -->\n      <g transform=\"translate(479.729518 328.076563) scale(0.1 -0.1)\">\n       <use xlink:href=\"#DejaVuSans-32\"/>\n       <use xlink:href=\"#DejaVuSans-35\" x=\"63.623047\"/>\n       <use xlink:href=\"#DejaVuSans-30\" x=\"127.246094\"/>\n      </g>\n     </g>\n    </g>\n    <g id=\"xtick_7\">\n     <g id=\"line2d_13\">\n      <path d=\"M 569.512096 313.478125 \nL 569.512096 22.318125 \n\" clip-path=\"url(#p1cbd40ffaf)\" style=\"fill: none; stroke: #b0b0b0; stroke-width: 0.8; stroke-linecap: square\"/>\n     </g>\n     <g id=\"line2d_14\">\n      <g>\n       <use xlink:href=\"#m7dc56c8dba\" x=\"569.512096\" y=\"313.478125\" style=\"stroke: #000000; stroke-width: 0.8\"/>\n      </g>\n     </g>\n     <g id=\"text_7\">\n      <!-- 300 -->\n      <g transform=\"translate(559.968346 328.076563) scale(0.1 -0.1)\">\n       <defs>\n        <path id=\"DejaVuSans-33\" d=\"M 2597 2516 \nQ 3050 2419 3304 2112 \nQ 3559 1806 3559 1356 \nQ 3559 666 3084 287 \nQ 2609 -91 1734 -91 \nQ 1441 -91 1130 -33 \nQ 819 25 488 141 \nL 488 750 \nQ 750 597 1062 519 \nQ 1375 441 1716 441 \nQ 2309 441 2620 675 \nQ 2931 909 2931 1356 \nQ 2931 1769 2642 2001 \nQ 2353 2234 1838 2234 \nL 1294 2234 \nL 1294 2753 \nL 1863 2753 \nQ 2328 2753 2575 2939 \nQ 2822 3125 2822 3475 \nQ 2822 3834 2567 4026 \nQ 2313 4219 1838 4219 \nQ 1578 4219 1281 4162 \nQ 984 4106 628 3988 \nL 628 4550 \nQ 988 4650 1302 4700 \nQ 1616 4750 1894 4750 \nQ 2613 4750 3031 4423 \nQ 3450 4097 3450 3541 \nQ 3450 3153 3228 2886 \nQ 3006 2619 2597 2516 \nz\n\" transform=\"scale(0.015625)\"/>\n       </defs>\n       <use xlink:href=\"#DejaVuSans-33\"/>\n       <use xlink:href=\"#DejaVuSans-30\" x=\"63.623047\"/>\n       <use xlink:href=\"#DejaVuSans-30\" x=\"127.246094\"/>\n      </g>\n     </g>\n    </g>\n    <g id=\"xtick_8\">\n     <g id=\"line2d_15\">\n      <path d=\"M 649.750925 313.478125 \nL 649.750925 22.318125 \n\" clip-path=\"url(#p1cbd40ffaf)\" style=\"fill: none; stroke: #b0b0b0; stroke-width: 0.8; stroke-linecap: square\"/>\n     </g>\n     <g id=\"line2d_16\">\n      <g>\n       <use xlink:href=\"#m7dc56c8dba\" x=\"649.750925\" y=\"313.478125\" style=\"stroke: #000000; stroke-width: 0.8\"/>\n      </g>\n     </g>\n     <g id=\"text_8\">\n      <!-- 350 -->\n      <g transform=\"translate(640.207175 328.076563) scale(0.1 -0.1)\">\n       <use xlink:href=\"#DejaVuSans-33\"/>\n       <use xlink:href=\"#DejaVuSans-35\" x=\"63.623047\"/>\n       <use xlink:href=\"#DejaVuSans-30\" x=\"127.246094\"/>\n      </g>\n     </g>\n    </g>\n    <g id=\"text_9\">\n     <!-- Номер дня -->\n     <g transform=\"translate(354.390781 341.754687) scale(0.1 -0.1)\">\n      <defs>\n       <path id=\"DejaVuSans-41d\" d=\"M 628 4666 \nL 1259 4666 \nL 1259 2753 \nL 3553 2753 \nL 3553 4666 \nL 4184 4666 \nL 4184 0 \nL 3553 0 \nL 3553 2222 \nL 1259 2222 \nL 1259 0 \nL 628 0 \nL 628 4666 \nz\n\" transform=\"scale(0.015625)\"/>\n       <path id=\"DejaVuSans-43e\" d=\"M 1959 3097 \nQ 1497 3097 1228 2736 \nQ 959 2375 959 1747 \nQ 959 1119 1226 758 \nQ 1494 397 1959 397 \nQ 2419 397 2687 759 \nQ 2956 1122 2956 1747 \nQ 2956 2369 2687 2733 \nQ 2419 3097 1959 3097 \nz\nM 1959 3584 \nQ 2709 3584 3137 3096 \nQ 3566 2609 3566 1747 \nQ 3566 888 3137 398 \nQ 2709 -91 1959 -91 \nQ 1206 -91 779 398 \nQ 353 888 353 1747 \nQ 353 2609 779 3096 \nQ 1206 3584 1959 3584 \nz\n\" transform=\"scale(0.015625)\"/>\n       <path id=\"DejaVuSans-43c\" d=\"M 581 3500 \nL 1422 3500 \nL 2416 1156 \nL 3413 3500 \nL 4247 3500 \nL 4247 0 \nL 3669 0 \nL 3669 2950 \nL 2703 672 \nL 2128 672 \nL 1159 2950 \nL 1159 0 \nL 581 0 \nL 581 3500 \nz\n\" transform=\"scale(0.015625)\"/>\n       <path id=\"DejaVuSans-435\" d=\"M 3597 1894 \nL 3597 1613 \nL 953 1613 \nQ 991 1019 1311 708 \nQ 1631 397 2203 397 \nQ 2534 397 2845 478 \nQ 3156 559 3463 722 \nL 3463 178 \nQ 3153 47 2828 -22 \nQ 2503 -91 2169 -91 \nQ 1331 -91 842 396 \nQ 353 884 353 1716 \nQ 353 2575 817 3079 \nQ 1281 3584 2069 3584 \nQ 2775 3584 3186 3129 \nQ 3597 2675 3597 1894 \nz\nM 3022 2063 \nQ 3016 2534 2758 2815 \nQ 2500 3097 2075 3097 \nQ 1594 3097 1305 2825 \nQ 1016 2553 972 2059 \nL 3022 2063 \nz\n\" transform=\"scale(0.015625)\"/>\n       <path id=\"DejaVuSans-440\" d=\"M 1159 525 \nL 1159 -1331 \nL 581 -1331 \nL 581 3500 \nL 1159 3500 \nL 1159 2969 \nQ 1341 3281 1617 3432 \nQ 1894 3584 2278 3584 \nQ 2916 3584 3314 3078 \nQ 3713 2572 3713 1747 \nQ 3713 922 3314 415 \nQ 2916 -91 2278 -91 \nQ 1894 -91 1617 61 \nQ 1341 213 1159 525 \nz\nM 3116 1747 \nQ 3116 2381 2855 2742 \nQ 2594 3103 2138 3103 \nQ 1681 3103 1420 2742 \nQ 1159 2381 1159 1747 \nQ 1159 1113 1420 752 \nQ 1681 391 2138 391 \nQ 2594 391 2855 752 \nQ 3116 1113 3116 1747 \nz\n\" transform=\"scale(0.015625)\"/>\n       <path id=\"DejaVuSans-20\" transform=\"scale(0.015625)\"/>\n       <path id=\"DejaVuSans-434\" d=\"M 1384 459 \nL 3053 459 \nL 3053 3041 \nL 1844 3041 \nL 1844 2603 \nQ 1844 1316 1475 628 \nL 1384 459 \nz\nM 550 459 \nQ 834 584 959 850 \nQ 1266 1509 1266 2838 \nL 1266 3500 \nL 3631 3500 \nL 3631 459 \nL 4091 459 \nL 4091 -884 \nL 3631 -884 \nL 3631 0 \nL 794 0 \nL 794 -884 \nL 334 -884 \nL 334 459 \nL 550 459 \nz\n\" transform=\"scale(0.015625)\"/>\n       <path id=\"DejaVuSans-43d\" d=\"M 581 3500 \nL 1159 3500 \nL 1159 2072 \nL 3025 2072 \nL 3025 3500 \nL 3603 3500 \nL 3603 0 \nL 3025 0 \nL 3025 1613 \nL 1159 1613 \nL 1159 0 \nL 581 0 \nL 581 3500 \nz\n\" transform=\"scale(0.015625)\"/>\n       <path id=\"DejaVuSans-44f\" d=\"M 1181 2491 \nQ 1181 2231 1381 2084 \nQ 1581 1938 1953 1938 \nL 2728 1938 \nL 2728 3041 \nL 1953 3041 \nQ 1581 3041 1381 2897 \nQ 1181 2753 1181 2491 \nz\nM 363 0 \nL 1431 1534 \nQ 1069 1616 828 1830 \nQ 588 2044 588 2491 \nQ 588 2997 923 3248 \nQ 1259 3500 1938 3500 \nL 3306 3500 \nL 3306 0 \nL 2728 0 \nL 2728 1478 \nL 2013 1478 \nL 981 0 \nL 363 0 \nz\n\" transform=\"scale(0.015625)\"/>\n      </defs>\n      <use xlink:href=\"#DejaVuSans-41d\"/>\n      <use xlink:href=\"#DejaVuSans-43e\" x=\"75.195312\"/>\n      <use xlink:href=\"#DejaVuSans-43c\" x=\"136.376953\"/>\n      <use xlink:href=\"#DejaVuSans-435\" x=\"211.816406\"/>\n      <use xlink:href=\"#DejaVuSans-440\" x=\"273.339844\"/>\n      <use xlink:href=\"#DejaVuSans-20\" x=\"336.816406\"/>\n      <use xlink:href=\"#DejaVuSans-434\" x=\"368.603516\"/>\n      <use xlink:href=\"#DejaVuSans-43d\" x=\"437.744141\"/>\n      <use xlink:href=\"#DejaVuSans-44f\" x=\"503.125\"/>\n     </g>\n    </g>\n   </g>\n   <g id=\"matplotlib.axis_2\">\n    <g id=\"ytick_1\">\n     <g id=\"line2d_17\">\n      <path d=\"M 59.690625 313.478125 \nL 705.420625 313.478125 \n\" clip-path=\"url(#p1cbd40ffaf)\" style=\"fill: none; stroke: #b0b0b0; stroke-width: 0.8; stroke-linecap: square\"/>\n     </g>\n     <g id=\"line2d_18\">\n      <defs>\n       <path id=\"ma307d6be94\" d=\"M 0 0 \nL -3.5 0 \n\" style=\"stroke: #000000; stroke-width: 0.8\"/>\n      </defs>\n      <g>\n       <use xlink:href=\"#ma307d6be94\" x=\"59.690625\" y=\"313.478125\" style=\"stroke: #000000; stroke-width: 0.8\"/>\n      </g>\n     </g>\n     <g id=\"text_10\">\n      <!-- 0 -->\n      <g transform=\"translate(46.328125 317.277344) scale(0.1 -0.1)\">\n       <use xlink:href=\"#DejaVuSans-30\"/>\n      </g>\n     </g>\n    </g>\n    <g id=\"ytick_2\">\n     <g id=\"line2d_19\">\n      <path d=\"M 59.690625 280.500864 \nL 705.420625 280.500864 \n\" clip-path=\"url(#p1cbd40ffaf)\" style=\"fill: none; stroke: #b0b0b0; stroke-width: 0.8; stroke-linecap: square\"/>\n     </g>\n     <g id=\"line2d_20\">\n      <g>\n       <use xlink:href=\"#ma307d6be94\" x=\"59.690625\" y=\"280.500864\" style=\"stroke: #000000; stroke-width: 0.8\"/>\n      </g>\n     </g>\n     <g id=\"text_11\">\n      <!-- 5000 -->\n      <g transform=\"translate(27.240625 284.300082) scale(0.1 -0.1)\">\n       <use xlink:href=\"#DejaVuSans-35\"/>\n       <use xlink:href=\"#DejaVuSans-30\" x=\"63.623047\"/>\n       <use xlink:href=\"#DejaVuSans-30\" x=\"127.246094\"/>\n       <use xlink:href=\"#DejaVuSans-30\" x=\"190.869141\"/>\n      </g>\n     </g>\n    </g>\n    <g id=\"ytick_3\">\n     <g id=\"line2d_21\">\n      <path d=\"M 59.690625 247.523602 \nL 705.420625 247.523602 \n\" clip-path=\"url(#p1cbd40ffaf)\" style=\"fill: none; stroke: #b0b0b0; stroke-width: 0.8; stroke-linecap: square\"/>\n     </g>\n     <g id=\"line2d_22\">\n      <g>\n       <use xlink:href=\"#ma307d6be94\" x=\"59.690625\" y=\"247.523602\" style=\"stroke: #000000; stroke-width: 0.8\"/>\n      </g>\n     </g>\n     <g id=\"text_12\">\n      <!-- 10000 -->\n      <g transform=\"translate(20.878125 251.322821) scale(0.1 -0.1)\">\n       <use xlink:href=\"#DejaVuSans-31\"/>\n       <use xlink:href=\"#DejaVuSans-30\" x=\"63.623047\"/>\n       <use xlink:href=\"#DejaVuSans-30\" x=\"127.246094\"/>\n       <use xlink:href=\"#DejaVuSans-30\" x=\"190.869141\"/>\n       <use xlink:href=\"#DejaVuSans-30\" x=\"254.492188\"/>\n      </g>\n     </g>\n    </g>\n    <g id=\"ytick_4\">\n     <g id=\"line2d_23\">\n      <path d=\"M 59.690625 214.546341 \nL 705.420625 214.546341 \n\" clip-path=\"url(#p1cbd40ffaf)\" style=\"fill: none; stroke: #b0b0b0; stroke-width: 0.8; stroke-linecap: square\"/>\n     </g>\n     <g id=\"line2d_24\">\n      <g>\n       <use xlink:href=\"#ma307d6be94\" x=\"59.690625\" y=\"214.546341\" style=\"stroke: #000000; stroke-width: 0.8\"/>\n      </g>\n     </g>\n     <g id=\"text_13\">\n      <!-- 15000 -->\n      <g transform=\"translate(20.878125 218.34556) scale(0.1 -0.1)\">\n       <use xlink:href=\"#DejaVuSans-31\"/>\n       <use xlink:href=\"#DejaVuSans-35\" x=\"63.623047\"/>\n       <use xlink:href=\"#DejaVuSans-30\" x=\"127.246094\"/>\n       <use xlink:href=\"#DejaVuSans-30\" x=\"190.869141\"/>\n       <use xlink:href=\"#DejaVuSans-30\" x=\"254.492188\"/>\n      </g>\n     </g>\n    </g>\n    <g id=\"ytick_5\">\n     <g id=\"line2d_25\">\n      <path d=\"M 59.690625 181.56908 \nL 705.420625 181.56908 \n\" clip-path=\"url(#p1cbd40ffaf)\" style=\"fill: none; stroke: #b0b0b0; stroke-width: 0.8; stroke-linecap: square\"/>\n     </g>\n     <g id=\"line2d_26\">\n      <g>\n       <use xlink:href=\"#ma307d6be94\" x=\"59.690625\" y=\"181.56908\" style=\"stroke: #000000; stroke-width: 0.8\"/>\n      </g>\n     </g>\n     <g id=\"text_14\">\n      <!-- 20000 -->\n      <g transform=\"translate(20.878125 185.368298) scale(0.1 -0.1)\">\n       <use xlink:href=\"#DejaVuSans-32\"/>\n       <use xlink:href=\"#DejaVuSans-30\" x=\"63.623047\"/>\n       <use xlink:href=\"#DejaVuSans-30\" x=\"127.246094\"/>\n       <use xlink:href=\"#DejaVuSans-30\" x=\"190.869141\"/>\n       <use xlink:href=\"#DejaVuSans-30\" x=\"254.492188\"/>\n      </g>\n     </g>\n    </g>\n    <g id=\"ytick_6\">\n     <g id=\"line2d_27\">\n      <path d=\"M 59.690625 148.591818 \nL 705.420625 148.591818 \n\" clip-path=\"url(#p1cbd40ffaf)\" style=\"fill: none; stroke: #b0b0b0; stroke-width: 0.8; stroke-linecap: square\"/>\n     </g>\n     <g id=\"line2d_28\">\n      <g>\n       <use xlink:href=\"#ma307d6be94\" x=\"59.690625\" y=\"148.591818\" style=\"stroke: #000000; stroke-width: 0.8\"/>\n      </g>\n     </g>\n     <g id=\"text_15\">\n      <!-- 25000 -->\n      <g transform=\"translate(20.878125 152.391037) scale(0.1 -0.1)\">\n       <use xlink:href=\"#DejaVuSans-32\"/>\n       <use xlink:href=\"#DejaVuSans-35\" x=\"63.623047\"/>\n       <use xlink:href=\"#DejaVuSans-30\" x=\"127.246094\"/>\n       <use xlink:href=\"#DejaVuSans-30\" x=\"190.869141\"/>\n       <use xlink:href=\"#DejaVuSans-30\" x=\"254.492188\"/>\n      </g>\n     </g>\n    </g>\n    <g id=\"ytick_7\">\n     <g id=\"line2d_29\">\n      <path d=\"M 59.690625 115.614557 \nL 705.420625 115.614557 \n\" clip-path=\"url(#p1cbd40ffaf)\" style=\"fill: none; stroke: #b0b0b0; stroke-width: 0.8; stroke-linecap: square\"/>\n     </g>\n     <g id=\"line2d_30\">\n      <g>\n       <use xlink:href=\"#ma307d6be94\" x=\"59.690625\" y=\"115.614557\" style=\"stroke: #000000; stroke-width: 0.8\"/>\n      </g>\n     </g>\n     <g id=\"text_16\">\n      <!-- 30000 -->\n      <g transform=\"translate(20.878125 119.413776) scale(0.1 -0.1)\">\n       <use xlink:href=\"#DejaVuSans-33\"/>\n       <use xlink:href=\"#DejaVuSans-30\" x=\"63.623047\"/>\n       <use xlink:href=\"#DejaVuSans-30\" x=\"127.246094\"/>\n       <use xlink:href=\"#DejaVuSans-30\" x=\"190.869141\"/>\n       <use xlink:href=\"#DejaVuSans-30\" x=\"254.492188\"/>\n      </g>\n     </g>\n    </g>\n    <g id=\"ytick_8\">\n     <g id=\"line2d_31\">\n      <path d=\"M 59.690625 82.637295 \nL 705.420625 82.637295 \n\" clip-path=\"url(#p1cbd40ffaf)\" style=\"fill: none; stroke: #b0b0b0; stroke-width: 0.8; stroke-linecap: square\"/>\n     </g>\n     <g id=\"line2d_32\">\n      <g>\n       <use xlink:href=\"#ma307d6be94\" x=\"59.690625\" y=\"82.637295\" style=\"stroke: #000000; stroke-width: 0.8\"/>\n      </g>\n     </g>\n     <g id=\"text_17\">\n      <!-- 35000 -->\n      <g transform=\"translate(20.878125 86.436514) scale(0.1 -0.1)\">\n       <use xlink:href=\"#DejaVuSans-33\"/>\n       <use xlink:href=\"#DejaVuSans-35\" x=\"63.623047\"/>\n       <use xlink:href=\"#DejaVuSans-30\" x=\"127.246094\"/>\n       <use xlink:href=\"#DejaVuSans-30\" x=\"190.869141\"/>\n       <use xlink:href=\"#DejaVuSans-30\" x=\"254.492188\"/>\n      </g>\n     </g>\n    </g>\n    <g id=\"ytick_9\">\n     <g id=\"line2d_33\">\n      <path d=\"M 59.690625 49.660034 \nL 705.420625 49.660034 \n\" clip-path=\"url(#p1cbd40ffaf)\" style=\"fill: none; stroke: #b0b0b0; stroke-width: 0.8; stroke-linecap: square\"/>\n     </g>\n     <g id=\"line2d_34\">\n      <g>\n       <use xlink:href=\"#ma307d6be94\" x=\"59.690625\" y=\"49.660034\" style=\"stroke: #000000; stroke-width: 0.8\"/>\n      </g>\n     </g>\n     <g id=\"text_18\">\n      <!-- 40000 -->\n      <g transform=\"translate(20.878125 53.459253) scale(0.1 -0.1)\">\n       <defs>\n        <path id=\"DejaVuSans-34\" d=\"M 2419 4116 \nL 825 1625 \nL 2419 1625 \nL 2419 4116 \nz\nM 2253 4666 \nL 3047 4666 \nL 3047 1625 \nL 3713 1625 \nL 3713 1100 \nL 3047 1100 \nL 3047 0 \nL 2419 0 \nL 2419 1100 \nL 313 1100 \nL 313 1709 \nL 2253 4666 \nz\n\" transform=\"scale(0.015625)\"/>\n       </defs>\n       <use xlink:href=\"#DejaVuSans-34\"/>\n       <use xlink:href=\"#DejaVuSans-30\" x=\"63.623047\"/>\n       <use xlink:href=\"#DejaVuSans-30\" x=\"127.246094\"/>\n       <use xlink:href=\"#DejaVuSans-30\" x=\"190.869141\"/>\n       <use xlink:href=\"#DejaVuSans-30\" x=\"254.492188\"/>\n      </g>\n     </g>\n    </g>\n    <g id=\"text_19\">\n     <!-- Средний спрос -->\n     <g transform=\"translate(14.798438 207.454375) rotate(-90) scale(0.1 -0.1)\">\n      <defs>\n       <path id=\"DejaVuSans-421\" d=\"M 4122 4306 \nL 4122 3641 \nQ 3803 3938 3442 4084 \nQ 3081 4231 2675 4231 \nQ 1875 4231 1450 3742 \nQ 1025 3253 1025 2328 \nQ 1025 1406 1450 917 \nQ 1875 428 2675 428 \nQ 3081 428 3442 575 \nQ 3803 722 4122 1019 \nL 4122 359 \nQ 3791 134 3420 21 \nQ 3050 -91 2638 -91 \nQ 1578 -91 968 557 \nQ 359 1206 359 2328 \nQ 359 3453 968 4101 \nQ 1578 4750 2638 4750 \nQ 3056 4750 3426 4639 \nQ 3797 4528 4122 4306 \nz\n\" transform=\"scale(0.015625)\"/>\n       <path id=\"DejaVuSans-438\" d=\"M 3578 3500 \nL 3578 0 \nL 3006 0 \nL 3006 2809 \nL 1319 0 \nL 581 0 \nL 581 3500 \nL 1153 3500 \nL 1153 697 \nL 2838 3500 \nL 3578 3500 \nz\n\" transform=\"scale(0.015625)\"/>\n       <path id=\"DejaVuSans-439\" d=\"M 3578 3500 \nL 3578 0 \nL 3006 0 \nL 3006 2809 \nL 1319 0 \nL 581 0 \nL 581 3500 \nL 1153 3500 \nL 1153 697 \nL 2838 3500 \nL 3578 3500 \nz\nM 1102 4833 \nL 1471 4833 \nQ 1505 4599 1656 4481 \nQ 1808 4364 2080 4364 \nQ 2349 4364 2499 4480 \nQ 2649 4596 2689 4833 \nL 3058 4833 \nQ 3027 4386 2780 4161 \nQ 2533 3936 2080 3936 \nQ 1627 3936 1380 4161 \nQ 1133 4386 1102 4833 \nz\n\" transform=\"scale(0.015625)\"/>\n       <path id=\"DejaVuSans-441\" d=\"M 3122 3366 \nL 3122 2828 \nQ 2878 2963 2633 3030 \nQ 2388 3097 2138 3097 \nQ 1578 3097 1268 2742 \nQ 959 2388 959 1747 \nQ 959 1106 1268 751 \nQ 1578 397 2138 397 \nQ 2388 397 2633 464 \nQ 2878 531 3122 666 \nL 3122 134 \nQ 2881 22 2623 -34 \nQ 2366 -91 2075 -91 \nQ 1284 -91 818 406 \nQ 353 903 353 1747 \nQ 353 2603 823 3093 \nQ 1294 3584 2113 3584 \nQ 2378 3584 2631 3529 \nQ 2884 3475 3122 3366 \nz\n\" transform=\"scale(0.015625)\"/>\n       <path id=\"DejaVuSans-43f\" d=\"M 3603 3500 \nL 3603 0 \nL 3025 0 \nL 3025 3041 \nL 1159 3041 \nL 1159 0 \nL 581 0 \nL 581 3500 \nL 3603 3500 \nz\n\" transform=\"scale(0.015625)\"/>\n      </defs>\n      <use xlink:href=\"#DejaVuSans-421\"/>\n      <use xlink:href=\"#DejaVuSans-440\" x=\"69.824219\"/>\n      <use xlink:href=\"#DejaVuSans-435\" x=\"133.300781\"/>\n      <use xlink:href=\"#DejaVuSans-434\" x=\"194.824219\"/>\n      <use xlink:href=\"#DejaVuSans-43d\" x=\"263.964844\"/>\n      <use xlink:href=\"#DejaVuSans-438\" x=\"329.345703\"/>\n      <use xlink:href=\"#DejaVuSans-439\" x=\"394.335938\"/>\n      <use xlink:href=\"#DejaVuSans-20\" x=\"459.326172\"/>\n      <use xlink:href=\"#DejaVuSans-441\" x=\"491.113281\"/>\n      <use xlink:href=\"#DejaVuSans-43f\" x=\"546.09375\"/>\n      <use xlink:href=\"#DejaVuSans-440\" x=\"611.474609\"/>\n      <use xlink:href=\"#DejaVuSans-43e\" x=\"674.951172\"/>\n      <use xlink:href=\"#DejaVuSans-441\" x=\"736.132812\"/>\n     </g>\n    </g>\n   </g>\n   <g id=\"patch_369\">\n    <path d=\"M 59.690625 313.478125 \nL 59.690625 22.318125 \n\" style=\"fill: none; stroke: #000000; stroke-width: 0.8; stroke-linejoin: miter; stroke-linecap: square\"/>\n   </g>\n   <g id=\"patch_370\">\n    <path d=\"M 705.420625 313.478125 \nL 705.420625 22.318125 \n\" style=\"fill: none; stroke: #000000; stroke-width: 0.8; stroke-linejoin: miter; stroke-linecap: square\"/>\n   </g>\n   <g id=\"patch_371\">\n    <path d=\"M 59.690625 313.478125 \nL 705.420625 313.478125 \n\" style=\"fill: none; stroke: #000000; stroke-width: 0.8; stroke-linejoin: miter; stroke-linecap: square\"/>\n   </g>\n   <g id=\"patch_372\">\n    <path d=\"M 59.690625 22.318125 \nL 705.420625 22.318125 \n\" style=\"fill: none; stroke: #000000; stroke-width: 0.8; stroke-linejoin: miter; stroke-linecap: square\"/>\n   </g>\n   <g id=\"text_20\">\n    <!-- Зависимость спроса от дня года -->\n    <g transform=\"translate(279.069688 16.318125) scale(0.12 -0.12)\">\n     <defs>\n      <path id=\"DejaVuSans-417\" d=\"M 1828 4750 \nQ 2597 4750 3084 4423 \nQ 3572 4097 3572 3541 \nQ 3572 3153 3350 2886 \nQ 3128 2619 2719 2516 \nQ 3172 2419 3426 2112 \nQ 3681 1806 3681 1356 \nQ 3681 638 3126 273 \nQ 2572 -91 1828 -91 \nQ 1447 -91 1003 12 \nQ 559 116 422 203 \nL 422 853 \nQ 900 575 1164 508 \nQ 1428 441 1816 441 \nQ 2403 441 2728 666 \nQ 3053 891 3053 1356 \nQ 3053 1769 2764 2001 \nQ 2475 2234 1866 2234 \nL 1228 2234 \nL 1228 2753 \nL 1891 2753 \nQ 2450 2753 2697 2939 \nQ 2944 3125 2944 3475 \nQ 2944 3834 2689 4026 \nQ 2434 4219 1816 4219 \nQ 1397 4219 1253 4181 \nQ 1109 4144 469 3903 \nL 469 4519 \nQ 822 4644 1190 4697 \nQ 1559 4750 1828 4750 \nz\n\" transform=\"scale(0.015625)\"/>\n      <path id=\"DejaVuSans-430\" d=\"M 2194 1759 \nQ 1497 1759 1228 1600 \nQ 959 1441 959 1056 \nQ 959 750 1161 570 \nQ 1363 391 1709 391 \nQ 2188 391 2477 730 \nQ 2766 1069 2766 1631 \nL 2766 1759 \nL 2194 1759 \nz\nM 3341 1997 \nL 3341 0 \nL 2766 0 \nL 2766 531 \nQ 2569 213 2275 61 \nQ 1981 -91 1556 -91 \nQ 1019 -91 701 211 \nQ 384 513 384 1019 \nQ 384 1609 779 1909 \nQ 1175 2209 1959 2209 \nL 2766 2209 \nL 2766 2266 \nQ 2766 2663 2505 2880 \nQ 2244 3097 1772 3097 \nQ 1472 3097 1187 3025 \nQ 903 2953 641 2809 \nL 641 3341 \nQ 956 3463 1253 3523 \nQ 1550 3584 1831 3584 \nQ 2591 3584 2966 3190 \nQ 3341 2797 3341 1997 \nz\n\" transform=\"scale(0.015625)\"/>\n      <path id=\"DejaVuSans-432\" d=\"M 1156 1613 \nL 1156 459 \nL 1975 459 \nQ 2369 459 2575 607 \nQ 2781 756 2781 1038 \nQ 2781 1319 2575 1466 \nQ 2369 1613 1975 1613 \nL 1156 1613 \nz\nM 1156 3041 \nL 1156 2072 \nL 1913 2072 \nQ 2238 2072 2444 2201 \nQ 2650 2331 2650 2563 \nQ 2650 2794 2444 2917 \nQ 2238 3041 1913 3041 \nL 1156 3041 \nz\nM 581 3500 \nL 1950 3500 \nQ 2566 3500 2897 3275 \nQ 3228 3050 3228 2634 \nQ 3228 2313 3059 2123 \nQ 2891 1934 2559 1888 \nQ 2956 1813 3175 1575 \nQ 3394 1338 3394 981 \nQ 3394 513 3033 256 \nQ 2672 0 2003 0 \nL 581 0 \nL 581 3500 \nz\n\" transform=\"scale(0.015625)\"/>\n      <path id=\"DejaVuSans-442\" d=\"M 188 3500 \nL 3541 3500 \nL 3541 3041 \nL 2147 3041 \nL 2147 0 \nL 1581 0 \nL 1581 3041 \nL 188 3041 \nL 188 3500 \nz\n\" transform=\"scale(0.015625)\"/>\n      <path id=\"DejaVuSans-44c\" d=\"M 2781 1038 \nQ 2781 1319 2576 1466 \nQ 2372 1613 1978 1613 \nL 1159 1613 \nL 1159 459 \nL 1978 459 \nQ 2372 459 2576 607 \nQ 2781 756 2781 1038 \nz\nM 581 3500 \nL 1159 3500 \nL 1159 2072 \nL 2003 2072 \nQ 2672 2072 3033 1817 \nQ 3394 1563 3394 1038 \nQ 3394 513 3033 256 \nQ 2672 0 2003 0 \nL 581 0 \nL 581 3500 \nz\n\" transform=\"scale(0.015625)\"/>\n      <path id=\"DejaVuSans-433\" d=\"M 581 0 \nL 581 3500 \nL 3050 3500 \nL 3050 3041 \nL 1159 3041 \nL 1159 0 \nL 581 0 \nz\n\" transform=\"scale(0.015625)\"/>\n     </defs>\n     <use xlink:href=\"#DejaVuSans-417\"/>\n     <use xlink:href=\"#DejaVuSans-430\" x=\"64.111328\"/>\n     <use xlink:href=\"#DejaVuSans-432\" x=\"125.390625\"/>\n     <use xlink:href=\"#DejaVuSans-438\" x=\"184.326172\"/>\n     <use xlink:href=\"#DejaVuSans-441\" x=\"249.316406\"/>\n     <use xlink:href=\"#DejaVuSans-438\" x=\"304.296875\"/>\n     <use xlink:href=\"#DejaVuSans-43c\" x=\"369.287109\"/>\n     <use xlink:href=\"#DejaVuSans-43e\" x=\"444.726562\"/>\n     <use xlink:href=\"#DejaVuSans-441\" x=\"505.908203\"/>\n     <use xlink:href=\"#DejaVuSans-442\" x=\"560.888672\"/>\n     <use xlink:href=\"#DejaVuSans-44c\" x=\"619.140625\"/>\n     <use xlink:href=\"#DejaVuSans-20\" x=\"678.076172\"/>\n     <use xlink:href=\"#DejaVuSans-441\" x=\"709.863281\"/>\n     <use xlink:href=\"#DejaVuSans-43f\" x=\"764.84375\"/>\n     <use xlink:href=\"#DejaVuSans-440\" x=\"830.224609\"/>\n     <use xlink:href=\"#DejaVuSans-43e\" x=\"893.701172\"/>\n     <use xlink:href=\"#DejaVuSans-441\" x=\"954.882812\"/>\n     <use xlink:href=\"#DejaVuSans-430\" x=\"1009.863281\"/>\n     <use xlink:href=\"#DejaVuSans-20\" x=\"1071.142578\"/>\n     <use xlink:href=\"#DejaVuSans-43e\" x=\"1102.929688\"/>\n     <use xlink:href=\"#DejaVuSans-442\" x=\"1164.111328\"/>\n     <use xlink:href=\"#DejaVuSans-20\" x=\"1222.363281\"/>\n     <use xlink:href=\"#DejaVuSans-434\" x=\"1254.150391\"/>\n     <use xlink:href=\"#DejaVuSans-43d\" x=\"1323.291016\"/>\n     <use xlink:href=\"#DejaVuSans-44f\" x=\"1388.671875\"/>\n     <use xlink:href=\"#DejaVuSans-20\" x=\"1448.828125\"/>\n     <use xlink:href=\"#DejaVuSans-433\" x=\"1480.615234\"/>\n     <use xlink:href=\"#DejaVuSans-43e\" x=\"1533.154297\"/>\n     <use xlink:href=\"#DejaVuSans-434\" x=\"1594.335938\"/>\n     <use xlink:href=\"#DejaVuSans-430\" x=\"1663.476562\"/>\n    </g>\n   </g>\n   <g id=\"legend_1\">\n    <g id=\"patch_373\">\n     <path d=\"M 653.695625 206.455625 \nL 698.420625 206.455625 \nQ 700.420625 206.455625 700.420625 204.455625 \nL 700.420625 29.318125 \nQ 700.420625 27.318125 698.420625 27.318125 \nL 653.695625 27.318125 \nQ 651.695625 27.318125 651.695625 29.318125 \nL 651.695625 204.455625 \nQ 651.695625 206.455625 653.695625 206.455625 \nz\n\" style=\"fill: #ffffff; opacity: 0.8; stroke: #cccccc; stroke-linejoin: miter\"/>\n    </g>\n    <g id=\"patch_374\">\n     <path d=\"M 655.695625 38.916562 \nL 675.695625 38.916562 \nL 675.695625 31.916562 \nL 655.695625 31.916562 \nz\n\" style=\"fill: #aec7e8\"/>\n    </g>\n    <g id=\"text_21\">\n     <!-- 1 -->\n     <g transform=\"translate(683.695625 38.916562) scale(0.1 -0.1)\">\n      <use xlink:href=\"#DejaVuSans-31\"/>\n     </g>\n    </g>\n    <g id=\"patch_375\">\n     <path d=\"M 655.695625 53.594688 \nL 675.695625 53.594688 \nL 675.695625 46.594688 \nL 655.695625 46.594688 \nz\n\" style=\"fill: #ff7f0e\"/>\n    </g>\n    <g id=\"text_22\">\n     <!-- 2 -->\n     <g transform=\"translate(683.695625 53.594688) scale(0.1 -0.1)\">\n      <use xlink:href=\"#DejaVuSans-32\"/>\n     </g>\n    </g>\n    <g id=\"patch_376\">\n     <path d=\"M 655.695625 68.272813 \nL 675.695625 68.272813 \nL 675.695625 61.272813 \nL 655.695625 61.272813 \nz\n\" style=\"fill: #ffbb78\"/>\n    </g>\n    <g id=\"text_23\">\n     <!-- 3 -->\n     <g transform=\"translate(683.695625 68.272813) scale(0.1 -0.1)\">\n      <use xlink:href=\"#DejaVuSans-33\"/>\n     </g>\n    </g>\n    <g id=\"patch_377\">\n     <path d=\"M 655.695625 82.950938 \nL 675.695625 82.950938 \nL 675.695625 75.950938 \nL 655.695625 75.950938 \nz\n\" style=\"fill: #2ca02c\"/>\n    </g>\n    <g id=\"text_24\">\n     <!-- 4 -->\n     <g transform=\"translate(683.695625 82.950938) scale(0.1 -0.1)\">\n      <use xlink:href=\"#DejaVuSans-34\"/>\n     </g>\n    </g>\n    <g id=\"patch_378\">\n     <path d=\"M 655.695625 97.629063 \nL 675.695625 97.629063 \nL 675.695625 90.629063 \nL 655.695625 90.629063 \nz\n\" style=\"fill: #98df8a\"/>\n    </g>\n    <g id=\"text_25\">\n     <!-- 5 -->\n     <g transform=\"translate(683.695625 97.629063) scale(0.1 -0.1)\">\n      <use xlink:href=\"#DejaVuSans-35\"/>\n     </g>\n    </g>\n    <g id=\"patch_379\">\n     <path d=\"M 655.695625 112.307187 \nL 675.695625 112.307187 \nL 675.695625 105.307187 \nL 655.695625 105.307187 \nz\n\" style=\"fill: #d62728\"/>\n    </g>\n    <g id=\"text_26\">\n     <!-- 6 -->\n     <g transform=\"translate(683.695625 112.307187) scale(0.1 -0.1)\">\n      <defs>\n       <path id=\"DejaVuSans-36\" d=\"M 2113 2584 \nQ 1688 2584 1439 2293 \nQ 1191 2003 1191 1497 \nQ 1191 994 1439 701 \nQ 1688 409 2113 409 \nQ 2538 409 2786 701 \nQ 3034 994 3034 1497 \nQ 3034 2003 2786 2293 \nQ 2538 2584 2113 2584 \nz\nM 3366 4563 \nL 3366 3988 \nQ 3128 4100 2886 4159 \nQ 2644 4219 2406 4219 \nQ 1781 4219 1451 3797 \nQ 1122 3375 1075 2522 \nQ 1259 2794 1537 2939 \nQ 1816 3084 2150 3084 \nQ 2853 3084 3261 2657 \nQ 3669 2231 3669 1497 \nQ 3669 778 3244 343 \nQ 2819 -91 2113 -91 \nQ 1303 -91 875 529 \nQ 447 1150 447 2328 \nQ 447 3434 972 4092 \nQ 1497 4750 2381 4750 \nQ 2619 4750 2861 4703 \nQ 3103 4656 3366 4563 \nz\n\" transform=\"scale(0.015625)\"/>\n      </defs>\n      <use xlink:href=\"#DejaVuSans-36\"/>\n     </g>\n    </g>\n    <g id=\"patch_380\">\n     <path d=\"M 655.695625 126.985313 \nL 675.695625 126.985313 \nL 675.695625 119.985313 \nL 655.695625 119.985313 \nz\n\" style=\"fill: #ff9896\"/>\n    </g>\n    <g id=\"text_27\">\n     <!-- 7 -->\n     <g transform=\"translate(683.695625 126.985313) scale(0.1 -0.1)\">\n      <defs>\n       <path id=\"DejaVuSans-37\" d=\"M 525 4666 \nL 3525 4666 \nL 3525 4397 \nL 1831 0 \nL 1172 0 \nL 2766 4134 \nL 525 4134 \nL 525 4666 \nz\n\" transform=\"scale(0.015625)\"/>\n      </defs>\n      <use xlink:href=\"#DejaVuSans-37\"/>\n     </g>\n    </g>\n    <g id=\"patch_381\">\n     <path d=\"M 655.695625 141.663437 \nL 675.695625 141.663437 \nL 675.695625 134.663437 \nL 655.695625 134.663437 \nz\n\" style=\"fill: #9467bd\"/>\n    </g>\n    <g id=\"text_28\">\n     <!-- 8 -->\n     <g transform=\"translate(683.695625 141.663437) scale(0.1 -0.1)\">\n      <defs>\n       <path id=\"DejaVuSans-38\" d=\"M 2034 2216 \nQ 1584 2216 1326 1975 \nQ 1069 1734 1069 1313 \nQ 1069 891 1326 650 \nQ 1584 409 2034 409 \nQ 2484 409 2743 651 \nQ 3003 894 3003 1313 \nQ 3003 1734 2745 1975 \nQ 2488 2216 2034 2216 \nz\nM 1403 2484 \nQ 997 2584 770 2862 \nQ 544 3141 544 3541 \nQ 544 4100 942 4425 \nQ 1341 4750 2034 4750 \nQ 2731 4750 3128 4425 \nQ 3525 4100 3525 3541 \nQ 3525 3141 3298 2862 \nQ 3072 2584 2669 2484 \nQ 3125 2378 3379 2068 \nQ 3634 1759 3634 1313 \nQ 3634 634 3220 271 \nQ 2806 -91 2034 -91 \nQ 1263 -91 848 271 \nQ 434 634 434 1313 \nQ 434 1759 690 2068 \nQ 947 2378 1403 2484 \nz\nM 1172 3481 \nQ 1172 3119 1398 2916 \nQ 1625 2713 2034 2713 \nQ 2441 2713 2670 2916 \nQ 2900 3119 2900 3481 \nQ 2900 3844 2670 4047 \nQ 2441 4250 2034 4250 \nQ 1625 4250 1398 4047 \nQ 1172 3844 1172 3481 \nz\n\" transform=\"scale(0.015625)\"/>\n      </defs>\n      <use xlink:href=\"#DejaVuSans-38\"/>\n     </g>\n    </g>\n    <g id=\"patch_382\">\n     <path d=\"M 655.695625 156.341563 \nL 675.695625 156.341563 \nL 675.695625 149.341563 \nL 655.695625 149.341563 \nz\n\" style=\"fill: #c5b0d5\"/>\n    </g>\n    <g id=\"text_29\">\n     <!-- 9 -->\n     <g transform=\"translate(683.695625 156.341563) scale(0.1 -0.1)\">\n      <defs>\n       <path id=\"DejaVuSans-39\" d=\"M 703 97 \nL 703 672 \nQ 941 559 1184 500 \nQ 1428 441 1663 441 \nQ 2288 441 2617 861 \nQ 2947 1281 2994 2138 \nQ 2813 1869 2534 1725 \nQ 2256 1581 1919 1581 \nQ 1219 1581 811 2004 \nQ 403 2428 403 3163 \nQ 403 3881 828 4315 \nQ 1253 4750 1959 4750 \nQ 2769 4750 3195 4129 \nQ 3622 3509 3622 2328 \nQ 3622 1225 3098 567 \nQ 2575 -91 1691 -91 \nQ 1453 -91 1209 -44 \nQ 966 3 703 97 \nz\nM 1959 2075 \nQ 2384 2075 2632 2365 \nQ 2881 2656 2881 3163 \nQ 2881 3666 2632 3958 \nQ 2384 4250 1959 4250 \nQ 1534 4250 1286 3958 \nQ 1038 3666 1038 3163 \nQ 1038 2656 1286 2365 \nQ 1534 2075 1959 2075 \nz\n\" transform=\"scale(0.015625)\"/>\n      </defs>\n      <use xlink:href=\"#DejaVuSans-39\"/>\n     </g>\n    </g>\n    <g id=\"patch_383\">\n     <path d=\"M 655.695625 171.019687 \nL 675.695625 171.019687 \nL 675.695625 164.019687 \nL 655.695625 164.019687 \nz\n\" style=\"fill: #8c564b\"/>\n    </g>\n    <g id=\"text_30\">\n     <!-- 10 -->\n     <g transform=\"translate(683.695625 171.019687) scale(0.1 -0.1)\">\n      <use xlink:href=\"#DejaVuSans-31\"/>\n      <use xlink:href=\"#DejaVuSans-30\" x=\"63.623047\"/>\n     </g>\n    </g>\n    <g id=\"patch_384\">\n     <path d=\"M 655.695625 185.697812 \nL 675.695625 185.697812 \nL 675.695625 178.697812 \nL 655.695625 178.697812 \nz\n\" style=\"fill: #c49c94\"/>\n    </g>\n    <g id=\"text_31\">\n     <!-- 11 -->\n     <g transform=\"translate(683.695625 185.697812) scale(0.1 -0.1)\">\n      <use xlink:href=\"#DejaVuSans-31\"/>\n      <use xlink:href=\"#DejaVuSans-31\" x=\"63.623047\"/>\n     </g>\n    </g>\n    <g id=\"patch_385\">\n     <path d=\"M 655.695625 200.375937 \nL 675.695625 200.375937 \nL 675.695625 193.375937 \nL 655.695625 193.375937 \nz\n\" style=\"fill: #e377c2\"/>\n    </g>\n    <g id=\"text_32\">\n     <!-- 12 -->\n     <g transform=\"translate(683.695625 200.375937) scale(0.1 -0.1)\">\n      <use xlink:href=\"#DejaVuSans-31\"/>\n      <use xlink:href=\"#DejaVuSans-32\" x=\"63.623047\"/>\n     </g>\n    </g>\n   </g>\n  </g>\n </g>\n <defs>\n  <clipPath id=\"p1cbd40ffaf\">\n   <rect x=\"59.690625\" y=\"22.318125\" width=\"645.73\" height=\"291.16\"/>\n  </clipPath>\n </defs>\n</svg>\n",
      "text/plain": [
       "<Figure size 1000x500 with 1 Axes>"
      ]
     },
     "metadata": {},
     "output_type": "display_data"
    }
   ],
   "source": [
    "import datetime\n",
    "\n",
    "fig, ax = plt.subplots(1, 1, figsize=(10, 5))\n",
    "\n",
    "for row in sorted(count_per_day, key=lambda row: row.day_of_year):\n",
    "    is_the_first_day_of_month = (\n",
    "        datetime.date(year=2000, month=1, day=1) + \n",
    "        datetime.timedelta(days=row.day_of_year - 1) == \n",
    "        datetime.date(year=2000, month=row.month, day=1)\n",
    "    )\n",
    "    ax.bar(\n",
    "        row.day_of_year, row.Count, color=plt.get_cmap('tab20')(row.month), \n",
    "        label=f'{row.month}' if is_the_first_day_of_month else None\n",
    "    )\n",
    "\n",
    "ax.legend()\n",
    "ax.grid(True)\n",
    "\n",
    "ax.set_xlabel('Номер дня')\n",
    "ax.set_ylabel('Средний спрос')\n",
    "ax.set_title('Зависимость спроса от дня года')\n",
    "\n",
    "fig.tight_layout()\n",
    "plt.show()"
   ]
  }
 ],
 "metadata": {
  "kernelspec": {
   "display_name": "Python 3 (ipykernel)",
   "language": "python",
   "name": "python3"
  },
  "language_info": {
   "codemirror_mode": {
    "name": "ipython",
    "version": 3
   },
   "file_extension": ".py",
   "mimetype": "text/x-python",
   "name": "python",
   "nbconvert_exporter": "python",
   "pygments_lexer": "ipython3",
   "version": "3.10.9"
  },
  "vscode": {
   "interpreter": {
    "hash": "aee8b7b246df8f9039afb4144a1f6fd8d2ca17a180786b69acc140d282b71a49"
   }
  }
 },
 "nbformat": 4,
 "nbformat_minor": 2
}
