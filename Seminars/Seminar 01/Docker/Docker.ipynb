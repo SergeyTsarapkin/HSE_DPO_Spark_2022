{
 "cells": [
  {
   "cell_type": "markdown",
   "metadata": {},
   "source": [
    "# `Практикум по программированию на языке Python`\n",
    "## `Занятие 01: Оборачиваем модель в сервис. Первая часть: Docker, Flask`"
   ]
  },
  {
   "cell_type": "markdown",
   "metadata": {
    "ExecuteTime": {
     "end_time": "2023-01-12T12:12:45.863994Z",
     "start_time": "2023-01-12T12:12:45.860007Z"
    }
   },
   "source": [
    "### `Находнов Максим (nakhodnov17@gmail.com)`\n",
    "#### `Москва, 2022`"
   ]
  },
  {
   "cell_type": "markdown",
   "metadata": {},
   "source": [
    "О чём можно узнать из этого ноутбука:\n",
    "\n",
    "* Принципы переносимой разработки приложений\n",
    "* Контейнеризация\n",
    "* Docker"
   ]
  },
  {
   "cell_type": "markdown",
   "metadata": {},
   "source": [
    "### `Какую проблему пытаемся решить?`"
   ]
  },
  {
   "cell_type": "markdown",
   "metadata": {},
   "source": [
    "* Многообразие **средств разработки** и **сред выполнения** требует сложного управления зависимостями\n",
    "* Настройка окружения для комплексных проектов становиться сложной задачей\n",
    "* Ручное управление всеми компонентами **непереносимо** и **трудноподдерживаемо**\n",
    "* Изменение компонентов в существующей системе становиться невозможным (**dependency hell**)\n",
    "\n",
    "![Типичный пример](https://pointful.github.io/docker-intro/docker-img/the-challenge.png)"
   ]
  },
  {
   "cell_type": "markdown",
   "metadata": {},
   "source": [
    "### `Подход к решению проблемы`"
   ]
  },
  {
   "cell_type": "markdown",
   "metadata": {},
   "source": [
    "Для решения такой проблемы **нужен способ абстракции**, который позволит работать сразными типами окружений и приложении схожим образом"
   ]
  },
  {
   "cell_type": "markdown",
   "metadata": {},
   "source": [
    "#### `Решение из \"реального мира\"`"
   ]
  },
  {
   "cell_type": "markdown",
   "metadata": {
    "ExecuteTime": {
     "end_time": "2023-01-12T12:22:52.003136Z",
     "start_time": "2023-01-12T12:22:51.958458Z"
    }
   },
   "source": [
    "![Аналогия из жизни](https://pointful.github.io/docker-intro/docker-img/cargo-transport-pre-1960.png)"
   ]
  },
  {
   "cell_type": "markdown",
   "metadata": {
    "ExecuteTime": {
     "end_time": "2023-01-12T12:24:37.989198Z",
     "start_time": "2023-01-12T12:24:37.955828Z"
    }
   },
   "source": [
    "![Решение](https://pointful.github.io/docker-intro/docker-img/intermodal-shipping-container.png)"
   ]
  },
  {
   "cell_type": "markdown",
   "metadata": {},
   "source": [
    "#### `Возвращаясь к програмному обеспечению`"
   ]
  },
  {
   "cell_type": "markdown",
   "metadata": {
    "ExecuteTime": {
     "end_time": "2023-01-12T12:26:00.422402Z",
     "start_time": "2023-01-12T12:26:00.377110Z"
    }
   },
   "source": [
    "![ISO-Docker-контейнер](https://pointful.github.io/docker-intro/docker-img/shipping-container-for-code.png)"
   ]
  },
  {
   "cell_type": "markdown",
   "metadata": {},
   "source": [
    "### `Преимущества Docker контейнеров`"
   ]
  },
  {
   "cell_type": "markdown",
   "metadata": {},
   "source": [
    "* **Инкапсуляция** компонентов инфраструктуры\n",
    "* **Платформонезависимость** (на аппаратном и програмном уровнях)\n",
    "* Инфраструктура, как **код** (версионирование, снепшоты, воспроизводимость)\n",
    "* **Изоляция** кода, окружений, сред выполнения\n",
    "* **Автоматизация** рутинных операций (тестирование, развёртывание, CI/CD)\n",
    "* Упрощение построения **отказоустойчивых** сервисов\n",
    "* **Упрощение** взаимодействия между разными командами разработчиков\n",
    "* Упрощение работы по **интреграции ПО** сторонними разработчиками\n",
    "\n",
    "И всё это с минимальными накладными расходами ресурсов!"
   ]
  },
  {
   "cell_type": "markdown",
   "metadata": {},
   "source": [
    "### `Что под капотом?`"
   ]
  },
  {
   "cell_type": "markdown",
   "metadata": {},
   "source": [
    "* Docker использует **ядро host** операционной системы\n",
    "* За счёт **разделения ресурсов** позволяет создавать **изолированные** группы процессов и файловые системы"
   ]
  },
  {
   "cell_type": "markdown",
   "metadata": {},
   "source": [
    "### `Отличия от VM / Hypervisor`"
   ]
  },
  {
   "cell_type": "markdown",
   "metadata": {},
   "source": [
    "- [x] Docker не запускает отдельное ядро для каждого процесса по отдельности\n",
    "- [x] Контейнеры значительно быстрее запускаются\n",
    "- [x] VM требует больше ресурсов для запуска\n",
    "- [x] В VM сложно контролировать изменения, версионирование\n",
    "- [x] Контейнеры могут иметь разделяемые ресурсы между собой (бинарники, библиотеки)\n",
    "- [x] При изменении ~контейнера~образа будет сохраняться только разница между исходником и новой версией\n",
    "\n",
    "\n",
    "- [ ] VM имеют более надёжную изоляцию между собой\n",
    "- [ ] VM чуть проще в использовании"
   ]
  },
  {
   "cell_type": "markdown",
   "metadata": {
    "ExecuteTime": {
     "end_time": "2023-01-12T12:57:56.859610Z",
     "start_time": "2023-01-12T12:57:56.828578Z"
    }
   },
   "source": [
    "![](https://pointful.github.io/docker-intro/docker-img/containers-vs-vms.png)"
   ]
  },
  {
   "cell_type": "markdown",
   "metadata": {},
   "source": [
    "### `Базовая инфраструктура Docker`"
   ]
  },
  {
   "cell_type": "markdown",
   "metadata": {},
   "source": [
    "![](https://pointful.github.io/docker-intro/docker-img/basics-of-docker-system.png)"
   ]
  },
  {
   "cell_type": "markdown",
   "metadata": {},
   "source": [
    "![](https://pointful.github.io/docker-intro/docker-img/changes-and-updates.png)"
   ]
  },
  {
   "cell_type": "markdown",
   "metadata": {},
   "source": [
    "### `Основные концепты Docker`"
   ]
  },
  {
   "cell_type": "markdown",
   "metadata": {},
   "source": [
    "~Контейнеры~Образы Docker хранятся в виде **файловой системы**. Только в момент запуска происходит создание пространства процессов. При этом процессы будет работать через **ядро host системы**!"
   ]
  },
  {
   "cell_type": "markdown",
   "metadata": {},
   "source": [
    "<dl>\n",
    "  <dd>0. Dockerfile — <b>описание процедуры</b> создания файловой системы контейнера</dd>\n",
    "  <dd>1. Layer (<b>слой</b>) — атомарный набор изменений <b>файловой системы</b></dd>\n",
    "  <dd>2. Image (<b>образ</b>) — <b>RO</b> файловая система</dd>\n",
    "  <dd>3. Container (<b>контейнер</b>) — образ с <b>RW</b> слоем поверх него</dd>\n",
    "  <dd>3*. Running container (<b>запущенный контейнер</b>) — контейнер (RW файловая система) с <b>пространстом процессов</b></dd>\n",
    "</dl>\n",
    "\n",
    "* Слой описывается командой в Dockerfile \n",
    "* Образ состоит из слоёв\n",
    "* Контейнер получен из образа\n",
    "* Запущенный контейнер получен из контейнера"
   ]
  },
  {
   "cell_type": "markdown",
   "metadata": {},
   "source": [
    "![](https://cdn.buttercms.com/CLQJN3yRRcS7oGqm7yKb)"
   ]
  },
  {
   "cell_type": "markdown",
   "metadata": {},
   "source": [
    "### `Описание процесса создания Docker образа`"
   ]
  },
  {
   "cell_type": "markdown",
   "metadata": {},
   "source": [
    "1. Взять пустую файловую систему\n",
    "2. Последовательно, для каждой команды в Dockerfile\n",
    "    - 1. **Добавить** поверх RW **новый слой**\n",
    "    - 2. Выполнить команду и **записать изменения**, вызванные ей, **в текущий слой**\n",
    "    - 3. Сделать текущий слой RO\n",
    "3. Сделать последний слой RO\n",
    "4. Сохранить полученный набор слоёв"
   ]
  },
  {
   "cell_type": "markdown",
   "metadata": {},
   "source": [
    "### `Docker Livecycle`"
   ]
  },
  {
   "cell_type": "markdown",
   "metadata": {},
   "source": [
    "![](./Docker%20Livecycle.svg)"
   ]
  },
  {
   "cell_type": "markdown",
   "metadata": {},
   "source": [
    "### `Демонстрация`"
   ]
  },
  {
   "cell_type": "markdown",
   "metadata": {},
   "source": [
    "#### `1. Простейший пример. Docker-hub`"
   ]
  },
  {
   "cell_type": "markdown",
   "metadata": {},
   "source": [
    "```bash\n",
    "docker pull hello-world\n",
    "docker image ls\n",
    "docker run hello-world\n",
    "docker container ls -a\n",
    "docker rm \"<CONTAINER_ID>\"\n",
    "```"
   ]
  },
  {
   "cell_type": "markdown",
   "metadata": {},
   "source": [
    "#### `2. Docker-hub. Ubuntu`\n",
    "\n",
    "* Первый контейнер, который можно применять на практике\n",
    "* Рассказ про выполнение команд внутри контейнера (на примере `ls`)\n",
    "* Обзор флагов запуска (`--rm`, `-i`, `-t`, `-d`, `-p`, `-v`)."
   ]
  },
  {
   "cell_type": "markdown",
   "metadata": {
    "ExecuteTime": {
     "end_time": "2023-01-12T13:59:47.001622Z",
     "start_time": "2023-01-12T13:59:46.985622Z"
    }
   },
   "source": [
    "```bash\n",
    "docker pull ubuntu\n",
    "docker image ls\n",
    "docker run ubuntu ls\n",
    "docker rm \"<CONTAINER_ID>\"\n",
    "# Запуск с удалением по завершению\n",
    "docker run --rm ubuntu ls\n",
    "# Запуск с подключением к псевдоконсоли\n",
    "docker run -i -t ubuntu bash\n",
    "```"
   ]
  },
  {
   "cell_type": "markdown",
   "metadata": {},
   "source": [
    "#### `3.`\n",
    "* Демонстрация изменений временной файловой системы внутри контейнера\n",
    "* Уничтожение пространства процесса"
   ]
  },
  {
   "cell_type": "markdown",
   "metadata": {},
   "source": [
    " ```bash\n",
    " # Запуск с комбинацией -i -t позволяет выполнять detach комбинацией ^P^Q внутри контейнера\n",
    " docker run -i -t ubuntu bash\n",
    " >> echo \"Hello World\" > ~/test.txt\n",
    " >> cat ~/test.txt\n",
    " # Если был указан флаг --rm то контейнер будет удалён вместе с его файловой системой\n",
    " # При отсутствии этого флага уничтожается только пространство процессов, а файловая система остаётся нетронутой\n",
    " >> exit\n",
    " docker ps -a\n",
    " docker start -i \"<CONTAINER_ID>\"\n",
    " # Видно, что состояние файловой системы не поменялось\n",
    " >> cat ~/test.txt\n",
    " ```"
   ]
  },
  {
   "cell_type": "markdown",
   "metadata": {},
   "source": [
    "#### `4.`\n",
    "* Демонстрация работы с пространством процессов\n",
    "* Отсоединение от контейнера\n",
    "* Фоновая работа"
   ]
  },
  {
   "cell_type": "markdown",
   "metadata": {},
   "source": [
    "```bash\n",
    "docker run -i -t ubuntu bash\n",
    ">> apt update && apt install -y tmux\n",
    "# Создаём фоновое приложение\n",
    ">> tmux new -s run\n",
    ">> while true; do echo >> test.txt; sleep 1; done;\n",
    ">> ^B D\n",
    ">> exit\n",
    "docker start -i \"<CONTAINER_ID>\"\n",
    "# Видим, что выход из контейнера таким образом действительно уничтожает пространство процессов\n",
    ">> tmux ls\n",
    "# Создаём фоновое приложение ещё раз\n",
    ">> tmux new -s run\n",
    ">> while true; do echo \"1\" >> test.txt; sleep 1; done;\n",
    ">> ^B D\n",
    "# Отсоединяемся от контейнера\n",
    ">> ^P ^Q\n",
    "docker start -i \"<CONTAINER_ID>\"\n",
    "# Видим, что пространство процессов осталось нетронутым\n",
    ">> tmux ls\n",
    ">> exit\n",
    "\n",
    "# Для запуска в фоне можно использовать флаг -d\n",
    "docker run --rm -d ubuntu bash -c \"while true; do echo '0'; sleep 1; done;\"\n",
    "```"
   ]
  },
  {
   "cell_type": "markdown",
   "metadata": {},
   "source": [
    "#### `5. Сборка контейнеров из DockerFile`"
   ]
  },
  {
   "cell_type": "code",
   "execution_count": 1,
   "metadata": {
    "ExecuteTime": {
     "end_time": "2023-01-12T14:27:34.302498Z",
     "start_time": "2023-01-12T14:27:34.268498Z"
    }
   },
   "outputs": [
    {
     "data": {
      "text/html": [
       "<style>pre { line-height: 125%; }\n",
       "td.linenos .normal { color: inherit; background-color: transparent; padding-left: 5px; padding-right: 5px; }\n",
       "span.linenos { color: inherit; background-color: transparent; padding-left: 5px; padding-right: 5px; }\n",
       "td.linenos .special { color: #000000; background-color: #ffffc0; padding-left: 5px; padding-right: 5px; }\n",
       "span.linenos.special { color: #000000; background-color: #ffffc0; padding-left: 5px; padding-right: 5px; }\n",
       ".output_html .hll { background-color: #ffffcc }\n",
       ".output_html { background: #f8f8f8; }\n",
       ".output_html .c { color: #3D7B7B; font-style: italic } /* Comment */\n",
       ".output_html .err { border: 1px solid #FF0000 } /* Error */\n",
       ".output_html .k { color: #008000; font-weight: bold } /* Keyword */\n",
       ".output_html .o { color: #666666 } /* Operator */\n",
       ".output_html .ch { color: #3D7B7B; font-style: italic } /* Comment.Hashbang */\n",
       ".output_html .cm { color: #3D7B7B; font-style: italic } /* Comment.Multiline */\n",
       ".output_html .cp { color: #9C6500 } /* Comment.Preproc */\n",
       ".output_html .cpf { color: #3D7B7B; font-style: italic } /* Comment.PreprocFile */\n",
       ".output_html .c1 { color: #3D7B7B; font-style: italic } /* Comment.Single */\n",
       ".output_html .cs { color: #3D7B7B; font-style: italic } /* Comment.Special */\n",
       ".output_html .gd { color: #A00000 } /* Generic.Deleted */\n",
       ".output_html .ge { font-style: italic } /* Generic.Emph */\n",
       ".output_html .gr { color: #E40000 } /* Generic.Error */\n",
       ".output_html .gh { color: #000080; font-weight: bold } /* Generic.Heading */\n",
       ".output_html .gi { color: #008400 } /* Generic.Inserted */\n",
       ".output_html .go { color: #717171 } /* Generic.Output */\n",
       ".output_html .gp { color: #000080; font-weight: bold } /* Generic.Prompt */\n",
       ".output_html .gs { font-weight: bold } /* Generic.Strong */\n",
       ".output_html .gu { color: #800080; font-weight: bold } /* Generic.Subheading */\n",
       ".output_html .gt { color: #0044DD } /* Generic.Traceback */\n",
       ".output_html .kc { color: #008000; font-weight: bold } /* Keyword.Constant */\n",
       ".output_html .kd { color: #008000; font-weight: bold } /* Keyword.Declaration */\n",
       ".output_html .kn { color: #008000; font-weight: bold } /* Keyword.Namespace */\n",
       ".output_html .kp { color: #008000 } /* Keyword.Pseudo */\n",
       ".output_html .kr { color: #008000; font-weight: bold } /* Keyword.Reserved */\n",
       ".output_html .kt { color: #B00040 } /* Keyword.Type */\n",
       ".output_html .m { color: #666666 } /* Literal.Number */\n",
       ".output_html .s { color: #BA2121 } /* Literal.String */\n",
       ".output_html .na { color: #687822 } /* Name.Attribute */\n",
       ".output_html .nb { color: #008000 } /* Name.Builtin */\n",
       ".output_html .nc { color: #0000FF; font-weight: bold } /* Name.Class */\n",
       ".output_html .no { color: #880000 } /* Name.Constant */\n",
       ".output_html .nd { color: #AA22FF } /* Name.Decorator */\n",
       ".output_html .ni { color: #717171; font-weight: bold } /* Name.Entity */\n",
       ".output_html .ne { color: #CB3F38; font-weight: bold } /* Name.Exception */\n",
       ".output_html .nf { color: #0000FF } /* Name.Function */\n",
       ".output_html .nl { color: #767600 } /* Name.Label */\n",
       ".output_html .nn { color: #0000FF; font-weight: bold } /* Name.Namespace */\n",
       ".output_html .nt { color: #008000; font-weight: bold } /* Name.Tag */\n",
       ".output_html .nv { color: #19177C } /* Name.Variable */\n",
       ".output_html .ow { color: #AA22FF; font-weight: bold } /* Operator.Word */\n",
       ".output_html .w { color: #bbbbbb } /* Text.Whitespace */\n",
       ".output_html .mb { color: #666666 } /* Literal.Number.Bin */\n",
       ".output_html .mf { color: #666666 } /* Literal.Number.Float */\n",
       ".output_html .mh { color: #666666 } /* Literal.Number.Hex */\n",
       ".output_html .mi { color: #666666 } /* Literal.Number.Integer */\n",
       ".output_html .mo { color: #666666 } /* Literal.Number.Oct */\n",
       ".output_html .sa { color: #BA2121 } /* Literal.String.Affix */\n",
       ".output_html .sb { color: #BA2121 } /* Literal.String.Backtick */\n",
       ".output_html .sc { color: #BA2121 } /* Literal.String.Char */\n",
       ".output_html .dl { color: #BA2121 } /* Literal.String.Delimiter */\n",
       ".output_html .sd { color: #BA2121; font-style: italic } /* Literal.String.Doc */\n",
       ".output_html .s2 { color: #BA2121 } /* Literal.String.Double */\n",
       ".output_html .se { color: #AA5D1F; font-weight: bold } /* Literal.String.Escape */\n",
       ".output_html .sh { color: #BA2121 } /* Literal.String.Heredoc */\n",
       ".output_html .si { color: #A45A77; font-weight: bold } /* Literal.String.Interpol */\n",
       ".output_html .sx { color: #008000 } /* Literal.String.Other */\n",
       ".output_html .sr { color: #A45A77 } /* Literal.String.Regex */\n",
       ".output_html .s1 { color: #BA2121 } /* Literal.String.Single */\n",
       ".output_html .ss { color: #19177C } /* Literal.String.Symbol */\n",
       ".output_html .bp { color: #008000 } /* Name.Builtin.Pseudo */\n",
       ".output_html .fm { color: #0000FF } /* Name.Function.Magic */\n",
       ".output_html .vc { color: #19177C } /* Name.Variable.Class */\n",
       ".output_html .vg { color: #19177C } /* Name.Variable.Global */\n",
       ".output_html .vi { color: #19177C } /* Name.Variable.Instance */\n",
       ".output_html .vm { color: #19177C } /* Name.Variable.Magic */\n",
       ".output_html .il { color: #666666 } /* Literal.Number.Integer.Long */</style><div class=\"highlight\"><pre><span></span><span class=\"kn\">import</span> <span class=\"nn\">os</span>\n",
       "\n",
       "\n",
       "<span class=\"k\">if</span> <span class=\"vm\">__name__</span> <span class=\"o\">==</span> <span class=\"s1\">&#39;__main__&#39;</span><span class=\"p\">:</span>\n",
       "    <span class=\"k\">if</span> <span class=\"n\">os</span><span class=\"o\">.</span><span class=\"n\">path</span><span class=\"o\">.</span><span class=\"n\">exists</span><span class=\"p\">(</span><span class=\"s1\">&#39;/root/data/data.txt&#39;</span><span class=\"p\">):</span>\n",
       "        <span class=\"k\">with</span> <span class=\"nb\">open</span><span class=\"p\">(</span><span class=\"s1\">&#39;/root/data/data.txt&#39;</span><span class=\"p\">,</span> <span class=\"s1\">&#39;r&#39;</span><span class=\"p\">,</span> <span class=\"n\">encoding</span><span class=\"o\">=</span><span class=\"s1\">&#39;utf-8&#39;</span><span class=\"p\">)</span> <span class=\"k\">as</span> <span class=\"n\">infile</span><span class=\"p\">:</span>\n",
       "            <span class=\"n\">result</span> <span class=\"o\">=</span> <span class=\"nb\">sum</span><span class=\"p\">((</span><span class=\"nb\">float</span><span class=\"p\">(</span><span class=\"n\">line</span><span class=\"o\">.</span><span class=\"n\">strip</span><span class=\"p\">())</span> <span class=\"k\">for</span> <span class=\"n\">line</span> <span class=\"ow\">in</span> <span class=\"n\">infile</span><span class=\"p\">))</span>\n",
       "            <span class=\"nb\">print</span><span class=\"p\">(</span><span class=\"s1\">&#39;Sum is equal to : </span><span class=\"si\">{0:.3f}</span><span class=\"s1\">&#39;</span><span class=\"o\">.</span><span class=\"n\">format</span><span class=\"p\">(</span><span class=\"n\">result</span><span class=\"p\">))</span>\n",
       "    <span class=\"k\">else</span><span class=\"p\">:</span>\n",
       "        <span class=\"nb\">print</span><span class=\"p\">(</span><span class=\"s1\">&#39;File /root/data/data.txt does not exist&#39;</span><span class=\"p\">)</span>\n",
       "\n",
       "    <span class=\"nb\">print</span><span class=\"p\">(</span><span class=\"s1\">&#39;SECRET_KEY env variable is equal to: </span><span class=\"si\">{0}</span><span class=\"s1\">&#39;</span><span class=\"o\">.</span><span class=\"n\">format</span><span class=\"p\">(</span><span class=\"n\">os</span><span class=\"o\">.</span><span class=\"n\">environ</span><span class=\"o\">.</span><span class=\"n\">get</span><span class=\"p\">(</span><span class=\"s1\">&#39;SECRET_KEY&#39;</span><span class=\"p\">,</span> <span class=\"s1\">&#39;&#39;</span><span class=\"p\">)))</span>\n",
       "</pre></div>\n"
      ],
      "text/latex": [
       "\\begin{Verbatim}[commandchars=\\\\\\{\\}]\n",
       "\\PY{k+kn}{import} \\PY{n+nn}{os}\n",
       "\n",
       "\n",
       "\\PY{k}{if} \\PY{n+nv+vm}{\\PYZus{}\\PYZus{}name\\PYZus{}\\PYZus{}} \\PY{o}{==} \\PY{l+s+s1}{\\PYZsq{}}\\PY{l+s+s1}{\\PYZus{}\\PYZus{}main\\PYZus{}\\PYZus{}}\\PY{l+s+s1}{\\PYZsq{}}\\PY{p}{:}\n",
       "    \\PY{k}{if} \\PY{n}{os}\\PY{o}{.}\\PY{n}{path}\\PY{o}{.}\\PY{n}{exists}\\PY{p}{(}\\PY{l+s+s1}{\\PYZsq{}}\\PY{l+s+s1}{/root/data/data.txt}\\PY{l+s+s1}{\\PYZsq{}}\\PY{p}{)}\\PY{p}{:}\n",
       "        \\PY{k}{with} \\PY{n+nb}{open}\\PY{p}{(}\\PY{l+s+s1}{\\PYZsq{}}\\PY{l+s+s1}{/root/data/data.txt}\\PY{l+s+s1}{\\PYZsq{}}\\PY{p}{,} \\PY{l+s+s1}{\\PYZsq{}}\\PY{l+s+s1}{r}\\PY{l+s+s1}{\\PYZsq{}}\\PY{p}{,} \\PY{n}{encoding}\\PY{o}{=}\\PY{l+s+s1}{\\PYZsq{}}\\PY{l+s+s1}{utf\\PYZhy{}8}\\PY{l+s+s1}{\\PYZsq{}}\\PY{p}{)} \\PY{k}{as} \\PY{n}{infile}\\PY{p}{:}\n",
       "            \\PY{n}{result} \\PY{o}{=} \\PY{n+nb}{sum}\\PY{p}{(}\\PY{p}{(}\\PY{n+nb}{float}\\PY{p}{(}\\PY{n}{line}\\PY{o}{.}\\PY{n}{strip}\\PY{p}{(}\\PY{p}{)}\\PY{p}{)} \\PY{k}{for} \\PY{n}{line} \\PY{o+ow}{in} \\PY{n}{infile}\\PY{p}{)}\\PY{p}{)}\n",
       "            \\PY{n+nb}{print}\\PY{p}{(}\\PY{l+s+s1}{\\PYZsq{}}\\PY{l+s+s1}{Sum is equal to : }\\PY{l+s+si}{\\PYZob{}0:.3f\\PYZcb{}}\\PY{l+s+s1}{\\PYZsq{}}\\PY{o}{.}\\PY{n}{format}\\PY{p}{(}\\PY{n}{result}\\PY{p}{)}\\PY{p}{)}\n",
       "    \\PY{k}{else}\\PY{p}{:}\n",
       "        \\PY{n+nb}{print}\\PY{p}{(}\\PY{l+s+s1}{\\PYZsq{}}\\PY{l+s+s1}{File /root/data/data.txt does not exist}\\PY{l+s+s1}{\\PYZsq{}}\\PY{p}{)}\n",
       "\n",
       "    \\PY{n+nb}{print}\\PY{p}{(}\\PY{l+s+s1}{\\PYZsq{}}\\PY{l+s+s1}{SECRET\\PYZus{}KEY env variable is equal to: }\\PY{l+s+si}{\\PYZob{}0\\PYZcb{}}\\PY{l+s+s1}{\\PYZsq{}}\\PY{o}{.}\\PY{n}{format}\\PY{p}{(}\\PY{n}{os}\\PY{o}{.}\\PY{n}{environ}\\PY{o}{.}\\PY{n}{get}\\PY{p}{(}\\PY{l+s+s1}{\\PYZsq{}}\\PY{l+s+s1}{SECRET\\PYZus{}KEY}\\PY{l+s+s1}{\\PYZsq{}}\\PY{p}{,} \\PY{l+s+s1}{\\PYZsq{}}\\PY{l+s+s1}{\\PYZsq{}}\\PY{p}{)}\\PY{p}{)}\\PY{p}{)}\n",
       "\\end{Verbatim}\n"
      ],
      "text/plain": [
       "import os\n",
       "\n",
       "\n",
       "if __name__ == '__main__':\n",
       "    if os.path.exists('/root/data/data.txt'):\n",
       "        with open('/root/data/data.txt', 'r', encoding='utf-8') as infile:\n",
       "            result = sum((float(line.strip()) for line in infile))\n",
       "            print('Sum is equal to : {0:.3f}'.format(result))\n",
       "    else:\n",
       "        print('File /root/data/data.txt does not exist')\n",
       "\n",
       "    print('SECRET_KEY env variable is equal to: {0}'.format(os.environ.get('SECRET_KEY', '')))"
      ]
     },
     "execution_count": 1,
     "metadata": {},
     "output_type": "execute_result"
    }
   ],
   "source": [
    "from IPython.display import Code\n",
    "Code('./example.py', language='python')"
   ]
  },
  {
   "cell_type": "code",
   "execution_count": 2,
   "metadata": {
    "ExecuteTime": {
     "end_time": "2023-01-12T14:27:34.536499Z",
     "start_time": "2023-01-12T14:27:34.303501Z"
    }
   },
   "outputs": [
    {
     "name": "stdout",
     "output_type": "stream",
     "text": [
      "1.234\n",
      "2.345\n",
      "3.4314\n"
     ]
    }
   ],
   "source": [
    "! wsl echo $'1.234\\n2.345\\n3.4314' > data.txt\n",
    "! wsl cat data.txt"
   ]
  },
  {
   "cell_type": "code",
   "execution_count": 3,
   "metadata": {
    "ExecuteTime": {
     "end_time": "2023-01-12T14:27:34.551500Z",
     "start_time": "2023-01-12T14:27:34.537500Z"
    }
   },
   "outputs": [
    {
     "data": {
      "text/html": [
       "<style>pre { line-height: 125%; }\n",
       "td.linenos .normal { color: inherit; background-color: transparent; padding-left: 5px; padding-right: 5px; }\n",
       "span.linenos { color: inherit; background-color: transparent; padding-left: 5px; padding-right: 5px; }\n",
       "td.linenos .special { color: #000000; background-color: #ffffc0; padding-left: 5px; padding-right: 5px; }\n",
       "span.linenos.special { color: #000000; background-color: #ffffc0; padding-left: 5px; padding-right: 5px; }\n",
       ".output_html .hll { background-color: #ffffcc }\n",
       ".output_html { background: #f8f8f8; }\n",
       ".output_html .c { color: #3D7B7B; font-style: italic } /* Comment */\n",
       ".output_html .err { border: 1px solid #FF0000 } /* Error */\n",
       ".output_html .k { color: #008000; font-weight: bold } /* Keyword */\n",
       ".output_html .o { color: #666666 } /* Operator */\n",
       ".output_html .ch { color: #3D7B7B; font-style: italic } /* Comment.Hashbang */\n",
       ".output_html .cm { color: #3D7B7B; font-style: italic } /* Comment.Multiline */\n",
       ".output_html .cp { color: #9C6500 } /* Comment.Preproc */\n",
       ".output_html .cpf { color: #3D7B7B; font-style: italic } /* Comment.PreprocFile */\n",
       ".output_html .c1 { color: #3D7B7B; font-style: italic } /* Comment.Single */\n",
       ".output_html .cs { color: #3D7B7B; font-style: italic } /* Comment.Special */\n",
       ".output_html .gd { color: #A00000 } /* Generic.Deleted */\n",
       ".output_html .ge { font-style: italic } /* Generic.Emph */\n",
       ".output_html .gr { color: #E40000 } /* Generic.Error */\n",
       ".output_html .gh { color: #000080; font-weight: bold } /* Generic.Heading */\n",
       ".output_html .gi { color: #008400 } /* Generic.Inserted */\n",
       ".output_html .go { color: #717171 } /* Generic.Output */\n",
       ".output_html .gp { color: #000080; font-weight: bold } /* Generic.Prompt */\n",
       ".output_html .gs { font-weight: bold } /* Generic.Strong */\n",
       ".output_html .gu { color: #800080; font-weight: bold } /* Generic.Subheading */\n",
       ".output_html .gt { color: #0044DD } /* Generic.Traceback */\n",
       ".output_html .kc { color: #008000; font-weight: bold } /* Keyword.Constant */\n",
       ".output_html .kd { color: #008000; font-weight: bold } /* Keyword.Declaration */\n",
       ".output_html .kn { color: #008000; font-weight: bold } /* Keyword.Namespace */\n",
       ".output_html .kp { color: #008000 } /* Keyword.Pseudo */\n",
       ".output_html .kr { color: #008000; font-weight: bold } /* Keyword.Reserved */\n",
       ".output_html .kt { color: #B00040 } /* Keyword.Type */\n",
       ".output_html .m { color: #666666 } /* Literal.Number */\n",
       ".output_html .s { color: #BA2121 } /* Literal.String */\n",
       ".output_html .na { color: #687822 } /* Name.Attribute */\n",
       ".output_html .nb { color: #008000 } /* Name.Builtin */\n",
       ".output_html .nc { color: #0000FF; font-weight: bold } /* Name.Class */\n",
       ".output_html .no { color: #880000 } /* Name.Constant */\n",
       ".output_html .nd { color: #AA22FF } /* Name.Decorator */\n",
       ".output_html .ni { color: #717171; font-weight: bold } /* Name.Entity */\n",
       ".output_html .ne { color: #CB3F38; font-weight: bold } /* Name.Exception */\n",
       ".output_html .nf { color: #0000FF } /* Name.Function */\n",
       ".output_html .nl { color: #767600 } /* Name.Label */\n",
       ".output_html .nn { color: #0000FF; font-weight: bold } /* Name.Namespace */\n",
       ".output_html .nt { color: #008000; font-weight: bold } /* Name.Tag */\n",
       ".output_html .nv { color: #19177C } /* Name.Variable */\n",
       ".output_html .ow { color: #AA22FF; font-weight: bold } /* Operator.Word */\n",
       ".output_html .w { color: #bbbbbb } /* Text.Whitespace */\n",
       ".output_html .mb { color: #666666 } /* Literal.Number.Bin */\n",
       ".output_html .mf { color: #666666 } /* Literal.Number.Float */\n",
       ".output_html .mh { color: #666666 } /* Literal.Number.Hex */\n",
       ".output_html .mi { color: #666666 } /* Literal.Number.Integer */\n",
       ".output_html .mo { color: #666666 } /* Literal.Number.Oct */\n",
       ".output_html .sa { color: #BA2121 } /* Literal.String.Affix */\n",
       ".output_html .sb { color: #BA2121 } /* Literal.String.Backtick */\n",
       ".output_html .sc { color: #BA2121 } /* Literal.String.Char */\n",
       ".output_html .dl { color: #BA2121 } /* Literal.String.Delimiter */\n",
       ".output_html .sd { color: #BA2121; font-style: italic } /* Literal.String.Doc */\n",
       ".output_html .s2 { color: #BA2121 } /* Literal.String.Double */\n",
       ".output_html .se { color: #AA5D1F; font-weight: bold } /* Literal.String.Escape */\n",
       ".output_html .sh { color: #BA2121 } /* Literal.String.Heredoc */\n",
       ".output_html .si { color: #A45A77; font-weight: bold } /* Literal.String.Interpol */\n",
       ".output_html .sx { color: #008000 } /* Literal.String.Other */\n",
       ".output_html .sr { color: #A45A77 } /* Literal.String.Regex */\n",
       ".output_html .s1 { color: #BA2121 } /* Literal.String.Single */\n",
       ".output_html .ss { color: #19177C } /* Literal.String.Symbol */\n",
       ".output_html .bp { color: #008000 } /* Name.Builtin.Pseudo */\n",
       ".output_html .fm { color: #0000FF } /* Name.Function.Magic */\n",
       ".output_html .vc { color: #19177C } /* Name.Variable.Class */\n",
       ".output_html .vg { color: #19177C } /* Name.Variable.Global */\n",
       ".output_html .vi { color: #19177C } /* Name.Variable.Instance */\n",
       ".output_html .vm { color: #19177C } /* Name.Variable.Magic */\n",
       ".output_html .il { color: #666666 } /* Literal.Number.Integer.Long */</style><div class=\"highlight\"><pre><span></span><span class=\"k\">FROM</span><span class=\"w\"> </span><span class=\"s\">python:3.11-slim</span>\n",
       "\n",
       "<span class=\"k\">RUN</span><span class=\"w\"> </span>mkdir /root/app\n",
       "<span class=\"k\">WORKDIR</span><span class=\"w\"> </span><span class=\"s\">/root/app</span>\n",
       "\n",
       "<span class=\"k\">COPY</span><span class=\"w\"> </span>./example.py ./\n",
       "<span class=\"k\">RUN</span><span class=\"w\"> </span>chmod +x example.py\n",
       "\n",
       "<span class=\"k\">ENV</span><span class=\"w\"> </span>SECRET_KEY hello\n",
       "\n",
       "<span class=\"k\">CMD</span><span class=\"w\"> </span><span class=\"p\">[</span><span class=\"s2\">&quot;python3&quot;</span><span class=\"p\">,</span><span class=\"w\"> </span><span class=\"s2\">&quot;example.py&quot;</span><span class=\"p\">]</span>\n",
       "</pre></div>\n"
      ],
      "text/latex": [
       "\\begin{Verbatim}[commandchars=\\\\\\{\\}]\n",
       "\\PY{k}{FROM}\\PY{+w}{ }\\PY{l+s}{python:3.11\\PYZhy{}slim}\n",
       "\n",
       "\\PY{k}{RUN}\\PY{+w}{ }mkdir /root/app\n",
       "\\PY{k}{WORKDIR}\\PY{+w}{ }\\PY{l+s}{/root/app}\n",
       "\n",
       "\\PY{k}{COPY}\\PY{+w}{ }./example.py ./\n",
       "\\PY{k}{RUN}\\PY{+w}{ }chmod +x example.py\n",
       "\n",
       "\\PY{k}{ENV}\\PY{+w}{ }SECRET\\PYZus{}KEY hello\n",
       "\n",
       "\\PY{k}{CMD}\\PY{+w}{ }\\PY{p}{[}\\PY{l+s+s2}{\\PYZdq{}python3\\PYZdq{}}\\PY{p}{,}\\PY{+w}{ }\\PY{l+s+s2}{\\PYZdq{}example.py\\PYZdq{}}\\PY{p}{]}\n",
       "\\end{Verbatim}\n"
      ],
      "text/plain": [
       "FROM python:3.11-slim\n",
       "\n",
       "RUN mkdir /root/app\n",
       "WORKDIR /root/app\n",
       "\n",
       "COPY ./example.py ./\n",
       "RUN chmod +x example.py\n",
       "\n",
       "ENV SECRET_KEY hello\n",
       "\n",
       "CMD [\"python3\", \"example.py\"]"
      ]
     },
     "execution_count": 3,
     "metadata": {},
     "output_type": "execute_result"
    }
   ],
   "source": [
    "Code('./Dockerfile', language='Dockerfile')"
   ]
  },
  {
   "cell_type": "markdown",
   "metadata": {
    "ExecuteTime": {
     "end_time": "2023-01-12T14:23:11.689097Z",
     "start_time": "2023-01-12T14:23:11.678100Z"
    }
   },
   "source": [
    "```bash\n",
    "# Сборка контейнера\n",
    "docker build -t maksim64/test_app .\n",
    "\n",
    "# Запуск контейнера\n",
    "docker run maksim64/test_app\n",
    "\n",
    "# Запуск с переменными окружения\n",
    "docker run -e SECRET_KEY:hi maksim64/test_app\n",
    "    \n",
    "# Запуск с монтированием директорий\n",
    "docker run -e SECRET_KEY=hi -v \"./:/root/data\" maksim64/test_app\n",
    "```"
   ]
  },
  {
   "cell_type": "markdown",
   "metadata": {},
   "source": [
    "### `Шпаргалка по основным командам Docker`"
   ]
  },
  {
   "cell_type": "markdown",
   "metadata": {},
   "source": [
    "```bash\n",
    "# Скачать контейнер из репозитория\n",
    "docker pull container_name\n",
    "```"
   ]
  },
  {
   "cell_type": "markdown",
   "metadata": {
    "ExecuteTime": {
     "end_time": "2023-01-12T13:03:12.701685Z",
     "start_time": "2023-01-12T13:03:12.694684Z"
    }
   },
   "source": [
    "```bash\n",
    "# Запустить контейнер\n",
    "docker run \\\n",
    "    [-d] [-i] [-t] [-p 1234:5000] [-v local_path:container_path] [-w container_working_path] container_name [COMMAND]\n",
    "# Здесь\n",
    "# -d -- запуск в фоновом режиме\n",
    "# -i -- запуск в интерактивном режиме, т.е. даёт возможность взаимодействовать с контейнером через ввод\n",
    "# -t -- создать псевдокоммандную строку\n",
    "# -p -- пробросить порт контейнера 5000 на локальный порт 1234\n",
    "# -v -- примонтировать локальный файл/папку local_path внутрь контейнера по пути container_path\n",
    "# -w -- установить рабочую директорию внутри контейнера\n",
    "# container_name -- имя контейнера\n",
    "# COMMAND -- команда, которую нужно запустить внутри контейнера\n",
    "\n",
    "# Например:\n",
    "# docker run hello-world       # запускает команду по умолчанию внутри контейнера hello-world\n",
    "# docker -i -t ubuntu bash     # запускает командную строку bash внутри контейнера ubuntu выполняя её связывание\n",
    "#                                с \"локальной\" командой строкой (-t) и позволяя ввод в командную строку (-i) \n",
    "```"
   ]
  },
  {
   "cell_type": "markdown",
   "metadata": {},
   "source": [
    "```bash\n",
    "# Посмотреть список запущенных [или бывших запущенными] контейнеров\n",
    "docker ps [-a]\n",
    "```"
   ]
  },
  {
   "cell_type": "markdown",
   "metadata": {},
   "source": [
    "```bash\n",
    "# Посмотреть список процессов внутри работающего контейнера\n",
    "docker top CONTAINER_ID\n",
    "```"
   ]
  },
  {
   "cell_type": "markdown",
   "metadata": {},
   "source": [
    "```bash\n",
    "# Остановить контейнер (т.е. отправить ему SIGTERM и дать время завершиться корректно)\n",
    "docker stop CONTAINER_ID\n",
    "```"
   ]
  },
  {
   "cell_type": "markdown",
   "metadata": {},
   "source": [
    "```bash\n",
    "# Убить контейнер (т.е. отправить ему SIGKILL и завершить сразу)\n",
    "docker kill CONTAINER_ID\n",
    "```"
   ]
  },
  {
   "cell_type": "markdown",
   "metadata": {},
   "source": [
    "```bash\n",
    "# Удалить контейнер (-f удалить работающий)\n",
    "docker rm [-f] CONTAINER_ID\n",
    "```"
   ]
  },
  {
   "cell_type": "markdown",
   "metadata": {},
   "source": [
    "```bash\n",
    "# Остановить все контейнеры и удалить их\n",
    "docker stop $(docker ps -a -q) && docker rm $(docker ps -a -q)\n",
    "```"
   ]
  },
  {
   "cell_type": "markdown",
   "metadata": {},
   "source": [
    "```bash\n",
    "# Создать образ в репозитории repo_name c названием image_name и тегом image_tag (обычно latest)\n",
    "docker commit -m \"message\" CONTAINER_ID repo_name/image_name:image_tag\n",
    "```"
   ]
  },
  {
   "cell_type": "markdown",
   "metadata": {},
   "source": [
    "```bash\n",
    "# Посмотреть список образов [включая промежуточные образы]\n",
    "docker images [-a]\n",
    "```"
   ]
  },
  {
   "cell_type": "markdown",
   "metadata": {},
   "source": [
    "```bash\n",
    "# Удалить образ\n",
    "docker image rm IMAGE_ID\n",
    "```"
   ]
  },
  {
   "cell_type": "markdown",
   "metadata": {},
   "source": [
    "```bash\n",
    "# Собрать образ из докерфайла (если в локальной директории лежит Dockerfile)\n",
    "docker build [--no-cache] -t repo_name/image_name:image_tag .\n",
    "```"
   ]
  },
  {
   "cell_type": "markdown",
   "metadata": {},
   "source": [
    "```bash\n",
    "# Залить в публичный репозиторий hub.docker.com образ (repo_name должно совпадать с названием вашего репозитория)\n",
    "docker push repo_name/image_name:image_tag\n",
    "```"
   ]
  }
 ],
 "metadata": {
  "kernelspec": {
   "display_name": "Python 3 (ipykernel)",
   "language": "python",
   "name": "python3"
  },
  "language_info": {
   "codemirror_mode": {
    "name": "ipython",
    "version": 3
   },
   "file_extension": ".py",
   "mimetype": "text/x-python",
   "name": "python",
   "nbconvert_exporter": "python",
   "pygments_lexer": "ipython3",
   "version": "3.10.6"
  },
  "pycharm": {
   "stem_cell": {
    "cell_type": "raw",
    "metadata": {
     "collapsed": false
    },
    "source": []
   }
  }
 },
 "nbformat": 4,
 "nbformat_minor": 2
}
