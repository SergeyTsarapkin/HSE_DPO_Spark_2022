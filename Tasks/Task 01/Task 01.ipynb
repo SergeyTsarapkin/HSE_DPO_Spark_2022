{
 "cells": [
  {
   "attachments": {},
   "cell_type": "markdown",
   "metadata": {
    "id": "IAKSSkP-kSgQ"
   },
   "source": [
    "# Задание 01\n",
    "## Spark DataFrame\n",
    "<span style=\"color:red\">Дедлайн: отсутствует</span>\n",
    "\n",
    "<span style=\"color:red\">Заполненный ноутбук присылать на почту <b>nakhodnovms@my.msu.ru</b> с темой письма <b>[HSE Spark 2022][Задание 01][ФИО]</b>.</span>"
   ]
  },
  {
   "attachments": {},
   "cell_type": "markdown",
   "metadata": {},
   "source": [
    "### Часть 1"
   ]
  },
  {
   "attachments": {},
   "cell_type": "markdown",
   "metadata": {
    "id": "KvUcUgapkSgU"
   },
   "source": [
    "Скачаем и распакуем данные:"
   ]
  },
  {
   "cell_type": "code",
   "execution_count": 1,
   "metadata": {
    "colab": {
     "base_uri": "https://localhost:8080/"
    },
    "executionInfo": {
     "elapsed": 346,
     "status": "ok",
     "timestamp": 1674879002660,
     "user": {
      "displayName": "Максим Находнов",
      "userId": "13074568639193503628"
     },
     "user_tz": -180
    },
    "id": "fV3-5K1tkSgU",
    "outputId": "fc03e4ea-9bbf-488d-b80b-781524cda770"
   },
   "outputs": [
    {
     "name": "stdout",
     "output_type": "stream",
     "text": [
      "--2023-02-02 09:30:14--  https://archive.ics.uci.edu/ml/machine-learning-databases/00228/smsspamcollection.zip\n",
      "Распознаётся archive.ics.uci.edu (archive.ics.uci.edu)… 128.195.10.252\n",
      "Подключение к archive.ics.uci.edu (archive.ics.uci.edu)|128.195.10.252|:443... соединение установлено.\n",
      "HTTP-запрос отправлен. Ожидание ответа… 200 OK\n",
      "Длина: 203415 (199K) [application/x-httpd-php]\n",
      "Сохранение в: «smsspamcollection.zip»\n",
      "\n",
      "smsspamcollection.z 100%[===================>] 198,65K   221KB/s    за 0,9s    \n",
      "\n",
      "2023-02-02 09:30:16 (221 KB/s) - «smsspamcollection.zip» сохранён [203415/203415]\n",
      "\n",
      "Archive:  smsspamcollection.zip\n",
      "  inflating: SMSSpamCollection       \n",
      "  inflating: readme                  \n"
     ]
    }
   ],
   "source": [
    "! wget https://archive.ics.uci.edu/ml/machine-learning-databases/00228/smsspamcollection.zip\n",
    "! unzip -o smsspamcollection.zip"
   ]
  },
  {
   "cell_type": "code",
   "execution_count": 2,
   "metadata": {
    "colab": {
     "base_uri": "https://localhost:8080/"
    },
    "executionInfo": {
     "elapsed": 35686,
     "status": "ok",
     "timestamp": 1674879052706,
     "user": {
      "displayName": "Максим Находнов",
      "userId": "13074568639193503628"
     },
     "user_tz": -180
    },
    "id": "U8eEHwbzkYE0",
    "outputId": "75035983-645a-4a4b-cd84-7df27abf9f5a"
   },
   "outputs": [
    {
     "name": "stdout",
     "output_type": "stream",
     "text": [
      "Requirement already satisfied: pyspark in /usr/local/lib/python3.10/site-packages (3.3.1)\n",
      "Requirement already satisfied: pyarrow in /usr/local/lib/python3.10/site-packages (11.0.0)\n",
      "Requirement already satisfied: py4j==0.10.9.5 in /usr/local/lib/python3.10/site-packages (from pyspark) (0.10.9.5)\n",
      "Requirement already satisfied: numpy>=1.16.6 in /usr/local/lib/python3.10/site-packages (from pyarrow) (1.23.4)\n"
     ]
    }
   ],
   "source": [
    "! pip install pyspark pyarrow"
   ]
  },
  {
   "cell_type": "code",
   "execution_count": 3,
   "metadata": {
    "executionInfo": {
     "elapsed": 9140,
     "status": "ok",
     "timestamp": 1674879061842,
     "user": {
      "displayName": "Максим Находнов",
      "userId": "13074568639193503628"
     },
     "user_tz": -180
    },
    "id": "mwAt3F5OkSgW"
   },
   "outputs": [
    {
     "name": "stderr",
     "output_type": "stream",
     "text": [
      "Setting default log level to \"WARN\".\n",
      "To adjust logging level use sc.setLogLevel(newLevel). For SparkR, use setLogLevel(newLevel).\n"
     ]
    },
    {
     "name": "stdout",
     "output_type": "stream",
     "text": [
      "23/02/02 09:30:29 WARN NativeCodeLoader: Unable to load native-hadoop library for your platform... using builtin-java classes where applicable\n"
     ]
    }
   ],
   "source": [
    "import pyspark.sql.types as T\n",
    "import pyspark.sql.functions as F\n",
    "from pyspark.sql import SparkSession\n",
    "\n",
    "from pyspark import SparkConf, SparkContext\n",
    "\n",
    "conf = (\n",
    "    SparkConf()\n",
    "        .set('spark.ui.port', '4050')\n",
    "        .setMaster('local[*]')\n",
    ")\n",
    "sc = SparkContext(conf=conf)\n",
    "spark = SparkSession(sc)"
   ]
  },
  {
   "attachments": {},
   "cell_type": "markdown",
   "metadata": {},
   "source": [
    "**Задание 01:** Считайте DataFrame:"
   ]
  },
  {
   "cell_type": "code",
   "execution_count": 4,
   "metadata": {},
   "outputs": [
    {
     "data": {
      "text/plain": [
       "DataFrame[_c0: string, _c1: string]"
      ]
     },
     "execution_count": 4,
     "metadata": {},
     "output_type": "execute_result"
    }
   ],
   "source": [
    "### YOUR CODE HERE\n",
    "spam_df = ...\n",
    "spam_df"
   ]
  },
  {
   "attachments": {},
   "cell_type": "markdown",
   "metadata": {},
   "source": [
    "**Задание 02:** Назовите колонки таблицы `class` и `text`:"
   ]
  },
  {
   "cell_type": "code",
   "execution_count": 5,
   "metadata": {},
   "outputs": [
    {
     "data": {
      "text/plain": [
       "DataFrame[class: string, text: string]"
      ]
     },
     "execution_count": 5,
     "metadata": {},
     "output_type": "execute_result"
    }
   ],
   "source": [
    "### YOUR CODE HERE\n",
    "spam_df = ...\n",
    "spam_df"
   ]
  },
  {
   "attachments": {},
   "cell_type": "markdown",
   "metadata": {},
   "source": [
    "**Задание 03:** Выведите первые $3$ строки датасета:"
   ]
  },
  {
   "cell_type": "code",
   "execution_count": 6,
   "metadata": {},
   "outputs": [
    {
     "name": "stdout",
     "output_type": "stream",
     "text": [
      "+-----+--------------------+\n",
      "|class|                text|\n",
      "+-----+--------------------+\n",
      "|  ham|Go until jurong p...|\n",
      "|  ham|Ok lar... Joking ...|\n",
      "| spam|Free entry in 2 a...|\n",
      "+-----+--------------------+\n",
      "only showing top 3 rows\n",
      "\n"
     ]
    }
   ],
   "source": [
    "### YOUR CODE HERE\n",
    "..."
   ]
  },
  {
   "attachments": {},
   "cell_type": "markdown",
   "metadata": {},
   "source": [
    "**Задание 04:** Создайте две новых колонки: `words` — список слов в тексте и `length` — длина данного списка. Реализуйте запрос за одно присваивание:"
   ]
  },
  {
   "cell_type": "code",
   "execution_count": 7,
   "metadata": {},
   "outputs": [
    {
     "name": "stdout",
     "output_type": "stream",
     "text": [
      "+-----+--------------------+--------------------+------+\n",
      "|class|                text|               words|length|\n",
      "+-----+--------------------+--------------------+------+\n",
      "|  ham|Go until jurong p...|[Go, until, juron...|    20|\n",
      "|  ham|Ok lar... Joking ...|[Ok, lar..., Joki...|     6|\n",
      "| spam|Free entry in 2 a...|[Free, entry, in,...|    28|\n",
      "+-----+--------------------+--------------------+------+\n",
      "only showing top 3 rows\n",
      "\n"
     ]
    }
   ],
   "source": [
    "### YOUR CODE HERE\n",
    "spam_df = ...\n",
    "spam_df.show(3)"
   ]
  },
  {
   "attachments": {},
   "cell_type": "markdown",
   "metadata": {},
   "source": [
    "**Задание 05:** Посчитайте среднюю длину текстов в зависимости от класса:"
   ]
  },
  {
   "cell_type": "code",
   "execution_count": 8,
   "metadata": {},
   "outputs": [
    {
     "name": "stdout",
     "output_type": "stream",
     "text": [
      "+-----+------------------+\n",
      "|class|       mean_length|\n",
      "+-----+------------------+\n",
      "|  ham|14.427594779366066|\n",
      "| spam| 23.95314591700134|\n",
      "+-----+------------------+\n",
      "\n"
     ]
    }
   ],
   "source": [
    "### YOUR CODE HERE\n",
    "..."
   ]
  },
  {
   "attachments": {},
   "cell_type": "markdown",
   "metadata": {},
   "source": [
    "**Задание 06:** Выведите примерно $0.1\\%$ самых длинных текстов:"
   ]
  },
  {
   "cell_type": "code",
   "execution_count": 9,
   "metadata": {},
   "outputs": [
    {
     "name": "stdout",
     "output_type": "stream",
     "text": [
      "+-----+--------------------+--------------------+------+\n",
      "|class|                text|               words|length|\n",
      "+-----+--------------------+--------------------+------+\n",
      "|  ham|For me the love s...|[For, me, the, lo...|   171|\n",
      "|  ham|How to Make a gir...|[How, to, Make, a...|   121|\n",
      "|  ham|The last thing i ...|[The, last, thing...|   162|\n",
      "|  ham|Sad story of a Ma...|[Sad, story, of, ...|   125|\n",
      "|  ham|Good evening Sir,...|[Good, evening, S...|    99|\n",
      "|  ham|Indians r poor bu...|[Indians, r, poor...|   119|\n",
      "|  ham|Sad story of a Ma...|[Sad, story, of, ...|   125|\n",
      "+-----+--------------------+--------------------+------+\n",
      "\n"
     ]
    }
   ],
   "source": [
    "### YOUR CODE HERE\n",
    "..."
   ]
  },
  {
   "attachments": {},
   "cell_type": "markdown",
   "metadata": {},
   "source": [
    "**Задание 07:** Найдите $10$ слов с самой высокой Document Frequency (количество смс, в которых слово встречается хотя бы раз):"
   ]
  },
  {
   "cell_type": "code",
   "execution_count": 10,
   "metadata": {},
   "outputs": [
    {
     "name": "stdout",
     "output_type": "stream",
     "text": [
      "+----+-----+\n",
      "|word|count|\n",
      "+----+-----+\n",
      "|  to| 1635|\n",
      "| you| 1220|\n",
      "|   I| 1128|\n",
      "|   a| 1103|\n",
      "| the|  967|\n",
      "|  in|  725|\n",
      "| and|  704|\n",
      "|  is|  662|\n",
      "|   i|  592|\n",
      "| for|  575|\n",
      "+----+-----+\n",
      "only showing top 10 rows\n",
      "\n"
     ]
    }
   ],
   "source": [
    "### YOUR CODE HERE\n",
    "counts_df = ...\n",
    "counts_df.show(10)"
   ]
  },
  {
   "attachments": {},
   "cell_type": "markdown",
   "metadata": {},
   "source": [
    "**Задание 08:** Положим, что заданы две матрицы $A$, $B$ в координатном виде. Реализуйте перемножение матриц:"
   ]
  },
  {
   "cell_type": "code",
   "execution_count": 11,
   "metadata": {},
   "outputs": [
    {
     "name": "stderr",
     "output_type": "stream",
     "text": [
      "[Stage 15:======================================>                  (8 + 4) / 12]\r"
     ]
    },
    {
     "name": "stdout",
     "output_type": "stream",
     "text": [
      "+---+---+---+\n",
      "|  i|  j|  v|\n",
      "+---+---+---+\n",
      "|  0|  0|154|\n",
      "|  0|  1| 97|\n",
      "|  0|  2|163|\n",
      "|  0|  3|159|\n",
      "|  0|  4|  8|\n",
      "|  1|  0| 82|\n",
      "|  1|  1| 63|\n",
      "|  1|  2| 95|\n",
      "|  1|  3| 87|\n",
      "|  1|  4|  2|\n",
      "|  2|  0| 66|\n",
      "|  2|  1| 58|\n",
      "|  2|  2| 88|\n",
      "|  2|  3| 72|\n",
      "|  2|  4|  2|\n",
      "|  3|  0| 87|\n",
      "|  3|  1| 54|\n",
      "|  3|  2| 96|\n",
      "|  3|  3| 90|\n",
      "|  3|  4|  6|\n",
      "+---+---+---+\n",
      "\n"
     ]
    },
    {
     "name": "stderr",
     "output_type": "stream",
     "text": [
      "                                                                                \r"
     ]
    }
   ],
   "source": [
    "# 4 x 3\n",
    "A_data = [\n",
    "    (0, 0, 8), (0, 1, 5), (0, 2, 8),\n",
    "    (1, 0, 2), (1, 1, 5), (1, 2, 6),\n",
    "    (2, 0, 2), (2, 1, 6), (2, 2, 4),\n",
    "    (3, 0, 6), (3, 1, 3), (3, 2, 3),\n",
    "]\n",
    "\n",
    "# 3 x 5\n",
    "B_data = [\n",
    "    (0, 0, 9), (0, 1, 4), (0, 2, 9), (0, 3, 9), (0, 4, 1),\n",
    "    (1, 0, 2), (1, 1, 5), (1, 2, 7), (1, 3, 3), (1, 4, 0),\n",
    "    (2, 0, 9), (2, 1, 5), (2, 2, 7), (2, 3, 9), (2, 4, 0),\n",
    "]\n",
    "\n",
    "A = spark.createDataFrame(A_data, schema=['i', 'j', 'v'])\n",
    "B = spark.createDataFrame(B_data, schema=['i', 'j', 'v'])\n",
    "\n",
    "### YOUR CODE HERE\n",
    "C = ...\n",
    "C.show()"
   ]
  },
  {
   "attachments": {},
   "cell_type": "markdown",
   "metadata": {
    "id": "NLRvGPeekSga"
   },
   "source": [
    "### Часть $2^\\star$: Склеиваем $n$ отсортированных массивов"
   ]
  },
  {
   "cell_type": "markdown",
   "metadata": {
    "id": "i_aRFmCxkSga"
   },
   "source": [
    "Хорошо известен алгоритм, который склеивает два отсортированных массива: берем по одному элементу из обоих массивов, в результат вписываем наименьший из них, а из соответствующего массива достаем следующий."
   ]
  },
  {
   "cell_type": "code",
   "execution_count": 12,
   "metadata": {
    "id": "d5geqJuvkSgb",
    "outputId": "f093d831-8288-4c01-c5e2-65731236adb0"
   },
   "outputs": [
    {
     "data": {
      "text/plain": [
       "[1, 2, 3, 4, 5, 6, 10, 12]"
      ]
     },
     "execution_count": 12,
     "metadata": {},
     "output_type": "execute_result"
    }
   ],
   "source": [
    "# Пример реализации\n",
    "\n",
    "x = [1, 2, 5, 10]\n",
    "y = [3, 4, 6, 12]\n",
    "\n",
    "def merge(left, right):\n",
    "    left_iter = iter(left)\n",
    "    right_iter = iter(right)\n",
    "    left_elem = next(left_iter, None)\n",
    "    right_elem = next(right_iter, None)\n",
    "    result = []\n",
    "    while left_elem is not None and right_elem is not None:\n",
    "        if left_elem <= right_elem:\n",
    "            result.append(left_elem)\n",
    "            left_elem = next(left_iter, None)            \n",
    "        else:\n",
    "            result.append(right_elem)\n",
    "            right_elem = next(right_iter, None)\n",
    "    result.append(left_elem or right_elem)\n",
    "    result.extend(left_iter)\n",
    "    result.extend(right_iter)\n",
    "    return result\n",
    "\n",
    "merge(x, y)"
   ]
  },
  {
   "attachments": {},
   "cell_type": "markdown",
   "metadata": {
    "id": "xJx4zZFqkSgb"
   },
   "source": [
    "Он существенно опирается на возможность сравнить два элемента. И соответственно работает только для двух массивов.\n",
    "\n",
    "Подумайте, как обобщить этот алгоритм на случай `n` отсортированных массивов?\n",
    "Какова будет алгоритмическая сложность получившегося алгоритма слияния?\n",
    "\n",
    "Напишите ответ в ячейке ниже.\n",
    "\n",
    "[Подсказка](https://en.wikipedia.org/wiki/Heap_%28data_structure%29)"
   ]
  },
  {
   "attachments": {},
   "cell_type": "markdown",
   "metadata": {},
   "source": [
    "**Ответ:** Ваш ответ здесь."
   ]
  },
  {
   "attachments": {},
   "cell_type": "markdown",
   "metadata": {
    "id": "oJBdHh_7kSgc"
   },
   "source": [
    "### Часть $3^{\\star\\star}$ Вычислительная сложность алгоритма сортировки во внешней памяти\n",
    "\n",
    "На занятии мы рассматривали алгоритм сортировки для массива, который помещается на диск, но не помещается в оперативную память.\n",
    "\n",
    "Предположим, что у вас есть:\n",
    " * `N` Gb оперативной памяти\n",
    " * процессор у которого очень-очень-очень много ядер, больше чем вам может понадобиться\n",
    " * массив, который весит `M >> N` Gb\n",
    " \n",
    "Порассуждайте на тему, \"какова будет вычислительная сложность алгоритма сортировки во внешней памяти в этом случае?\""
   ]
  },
  {
   "attachments": {},
   "cell_type": "markdown",
   "metadata": {},
   "source": [
    "**Ответ:** Ваш ответ здесь."
   ]
  }
 ],
 "metadata": {
  "kernelspec": {
   "display_name": "Python 3",
   "language": "python",
   "name": "python3"
  },
  "language_info": {
   "codemirror_mode": {
    "name": "ipython",
    "version": 3
   },
   "file_extension": ".py",
   "mimetype": "text/x-python",
   "name": "python",
   "nbconvert_exporter": "python",
   "pygments_lexer": "ipython3",
   "version": "3.10.9"
  },
  "orig_nbformat": 4,
  "vscode": {
   "interpreter": {
    "hash": "aee8b7b246df8f9039afb4144a1f6fd8d2ca17a180786b69acc140d282b71a49"
   }
  }
 },
 "nbformat": 4,
 "nbformat_minor": 2
}
